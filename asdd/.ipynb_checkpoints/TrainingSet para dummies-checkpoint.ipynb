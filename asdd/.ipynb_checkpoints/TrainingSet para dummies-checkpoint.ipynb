{
 "cells": [
  {
   "cell_type": "code",
   "execution_count": 1,
   "metadata": {},
   "outputs": [],
   "source": [
    "import pandas as pd\n",
    "from pandas.api.types import CategoricalDtype\n",
    "import time\n",
    "from datetime import datetime\n",
    "import scipy.spatial\n",
    "import numpy as np"
   ]
  },
  {
   "cell_type": "markdown",
   "metadata": {},
   "source": [
    "# Vuelvo a crear el postulantes final pero sin encodear"
   ]
  },
  {
   "cell_type": "code",
   "execution_count": 2,
   "metadata": {},
   "outputs": [],
   "source": [
    "dtypes = pd.Series({'idaviso': np.dtype('uint32'), 'idpostulante': np.dtype('object')})\n",
    "\n",
    "dtypes_col = dtypes.index\n",
    "dtypes_type = [i.name for i in dtypes.values]\n",
    "\n",
    "column_types = dict(zip(dtypes_col, dtypes_type))\n",
    "postulaciones = pd.read_csv('/home/lucio/Documentos/Datos/NaventDatosTP/Data/Postulaciones/Postulaciones-merge.csv',\n",
    "                            dtype=column_types,parse_dates=['fechapostulacion'],infer_datetime_format=True)\n",
    "postulaciones = postulaciones.drop(columns=['Unnamed: 0','fechapostulacion'])"
   ]
  },
  {
   "cell_type": "code",
   "execution_count": 3,
   "metadata": {},
   "outputs": [],
   "source": [
    "dtypes = pd.Series({'idpostulante': np.dtype('object'), 'sexo': CategoricalDtype(categories=['FEM', 'MASC', 'NO_DECLARA'], ordered=False)})\n",
    "\n",
    "dtypes_col = dtypes.index\n",
    "dtypes_type = [i.name for i in dtypes.values]\n",
    "\n",
    "column_types = dict(zip(dtypes_col, dtypes_type))\n",
    "\n",
    "postulantes_genero_edad = pd.read_csv('/home/lucio/Documentos/Datos/NaventDatosTP/Data/Postulantes-Genero-Edad/postulantes_genero_y_edad-merge.csv',\n",
    "                                    dtype=column_types,parse_dates=['fechanacimiento'],\n",
    "                                      infer_datetime_format=True)\n",
    "#postulantes_genero_edad = postulantes_genero_edad.drop(columns=['Unnamed: 0'],axis=1)\n",
    "#postulantes_genero_edad"
   ]
  },
  {
   "cell_type": "code",
   "execution_count": 4,
   "metadata": {},
   "outputs": [],
   "source": [
    "postulantes_genero_edad.drop(columns=['sexo_numerico'],axis=1,inplace=True)"
   ]
  },
  {
   "cell_type": "code",
   "execution_count": 5,
   "metadata": {},
   "outputs": [],
   "source": [
    "dtypes = pd.Series({'estado': CategoricalDtype(categories=['Abandonado', 'En Curso', 'Graduado'], ordered=False), 'idpostulante': np.dtype('object'),\n",
    "                    'nombre': CategoricalDtype(categories=['Doctorado', 'Master', 'Otro', 'Posgrado', 'Secundario',\n",
    "                  'Terciario/Técnico', 'Universitario'],\n",
    "                 ordered=False)})\n",
    "\n",
    "\n",
    "dtypes_col = dtypes.index\n",
    "dtypes_type = [i.name for i in dtypes.values]\n",
    "\n",
    "column_types = dict(zip(dtypes_col, dtypes_type))\n",
    "\n",
    "postulantes_educacion = pd.read_csv('/home/lucio/Documentos/Datos/NaventDatosTP/Data/Postulantes-Educacion/postulantes_educacion-merge.csv',\n",
    "                                    dtype=column_types)\n",
    "postulantes_educacion = postulantes_educacion.drop(columns=['nombre_numerico'])"
   ]
  },
  {
   "cell_type": "code",
   "execution_count": 6,
   "metadata": {},
   "outputs": [],
   "source": [
    "#Hago un merge de educacion y genero-edad\n",
    "postulantes_merge = pd.merge(postulantes_genero_edad,postulantes_educacion,how='left',on='idpostulante')"
   ]
  },
  {
   "cell_type": "code",
   "execution_count": 7,
   "metadata": {},
   "outputs": [],
   "source": [
    "#Voy a agregar una columna con la edad ya calculada(estimando por 2017-año nacimiento) para cada registro\n",
    "postulantes_merge[\"año\"] = postulantes_merge[postulantes_merge[\"fechanacimiento\"] != 'nan']\\\n",
    "        [\"fechanacimiento\"].apply(lambda x: x[0:4])\n",
    "postulantes_merge[\"edad\"] = postulantes_merge[postulantes_merge[\"año\"].notna()] \\\n",
    "        [\"año\"].apply(lambda x: 2017 - int(x))"
   ]
  },
  {
   "cell_type": "code",
   "execution_count": 8,
   "metadata": {},
   "outputs": [],
   "source": [
    "#Elimino columna fechanacimiento y año que ya no me sirven\n",
    "postulantes_merge = postulantes_merge.drop(columns=['fechanacimiento','año'])"
   ]
  },
  {
   "cell_type": "code",
   "execution_count": 9,
   "metadata": {},
   "outputs": [],
   "source": [
    "#Elimino NaNs\n",
    "postulantes_merge = postulantes_merge[postulantes_merge['nombre'].notnull() &\n",
    "                                     postulantes_merge['estado'].notnull() &\n",
    "                                     postulantes_merge['edad'].notnull()]"
   ]
  },
  {
   "cell_type": "code",
   "execution_count": 10,
   "metadata": {},
   "outputs": [],
   "source": [
    "postulantes_merge.to_csv('/home/lucio/Documentos/Datos/NaventDatosTP/Data/POSTULANTES_FINAL_SIN_ENCODEAR.csv')"
   ]
  },
  {
   "cell_type": "code",
   "execution_count": 11,
   "metadata": {},
   "outputs": [
    {
     "name": "stdout",
     "output_type": "stream",
     "text": [
      "<class 'pandas.core.frame.DataFrame'>\n",
      "Int64Index: 438702 entries, 0 to 504399\n",
      "Data columns (total 5 columns):\n",
      "idpostulante    438702 non-null object\n",
      "sexo            438702 non-null category\n",
      "nombre          438702 non-null category\n",
      "estado          438702 non-null category\n",
      "edad            438702 non-null float64\n",
      "dtypes: category(3), float64(1), object(1)\n",
      "memory usage: 11.3+ MB\n"
     ]
    }
   ],
   "source": [
    "postulantes_merge.info()"
   ]
  },
  {
   "cell_type": "markdown",
   "metadata": {},
   "source": [
    "# Avisos detalle final pero sin encodear"
   ]
  },
  {
   "cell_type": "code",
   "execution_count": 12,
   "metadata": {},
   "outputs": [],
   "source": [
    "types = pd.Series({'nombre_zona': CategoricalDtype(categories=['Buenos Aires (fuera de GBA)', 'Capital Federal',\n",
    "                  'GBA Oeste', 'Gran Buenos Aires'],ordered=False),'ciudad': CategoricalDtype(categories=['Argentina', 'Barracas', 'Buenos Aires',\n",
    "                  'Buenos Aires Province', 'CABA', 'Capital Federal', 'La Plata', 'Mendoza', 'Microcentro', \n",
    "                'Parque Patricios','República Argentina', 'San Isidro', 'Santa Rosa ','Tortuguitas',\n",
    "                'Vicente Lopez', 'Zárate, Campana, Escobar','caba', 'paternal'], ordered=False),\n",
    "                'nivel_laboral': CategoricalDtype(categories=['Gerencia / Alta Gerencia / Dirección',\n",
    "                  'Jefe / Supervisor / Responsable', 'Junior', 'Otro', 'Senior / Semi-Senior'],\n",
    "                 ordered=False),'tipo_de_trabajo': CategoricalDtype(categories=['Fines de Semana', 'Full-time', 'Part-time', 'Pasantia',\n",
    "                  'Por Contrato', 'Por Horas', 'Primer empleo', 'Teletrabajo','Temporario'],ordered=False)})\n",
    "\n",
    "dtypes_col = dtypes.index\n",
    "dtypes_type = [i.name for i in dtypes.values]\n",
    "\n",
    "column_types = dict(zip(dtypes_col, dtypes_type))\n",
    "\n",
    "avisos_detalle = pd.read_csv('/home/lucio/Documentos/Datos/NaventDatosTP/Data/AVISOS_DETALLE_SIN_ENCODEAR.csv',dtype=column_types)\n",
    "avisos_detalle = avisos_detalle.drop(columns=['Unnamed: 0'],axis=1)"
   ]
  },
  {
   "cell_type": "code",
   "execution_count": 13,
   "metadata": {},
   "outputs": [
    {
     "name": "stdout",
     "output_type": "stream",
     "text": [
      "<class 'pandas.core.frame.DataFrame'>\n",
      "RangeIndex: 25287 entries, 0 to 25286\n",
      "Data columns (total 6 columns):\n",
      "idaviso                 25287 non-null int64\n",
      "nombre_zona             25287 non-null object\n",
      "tipo_de_trabajo         25287 non-null object\n",
      "nivel_laboral           25287 non-null object\n",
      "nombre_area             25287 non-null object\n",
      "denominacion_empresa    25287 non-null object\n",
      "dtypes: int64(1), object(5)\n",
      "memory usage: 1.2+ MB\n"
     ]
    }
   ],
   "source": [
    "avisos_detalle.info()"
   ]
  },
  {
   "cell_type": "markdown",
   "metadata": {},
   "source": [
    "# Postulaciones (se_postulo = 1)"
   ]
  },
  {
   "cell_type": "code",
   "execution_count": 14,
   "metadata": {},
   "outputs": [],
   "source": [
    "dtypes = pd.Series({'idaviso': np.dtype('uint32'), 'idpostulante': np.dtype('object')})\n",
    "\n",
    "dtypes_col = dtypes.index\n",
    "dtypes_type = [i.name for i in dtypes.values]\n",
    "\n",
    "column_types = dict(zip(dtypes_col, dtypes_type))\n",
    "postulaciones = pd.read_csv('/home/lucio/Documentos/Datos/NaventDatosTP/Data/Postulaciones/Postulaciones-merge.csv',\n",
    "                            dtype=column_types,parse_dates=['fechapostulacion'],infer_datetime_format=True)\n",
    "postulaciones['se_postulo'] = 1\n",
    "postulaciones['se_postulo'] = postulaciones[['se_postulo']].apply(pd.to_numeric,downcast='unsigned')\n",
    "postulaciones = postulaciones.drop(columns=['Unnamed: 0','fechapostulacion'])"
   ]
  },
  {
   "cell_type": "markdown",
   "metadata": {},
   "source": [
    "# Vistas (se_postulo = 0)"
   ]
  },
  {
   "cell_type": "code",
   "execution_count": 15,
   "metadata": {},
   "outputs": [],
   "source": [
    "dtypes = pd.Series({'idAviso': np.dtype('uint32'), 'idpostulante': np.dtype('object')})\n",
    "\n",
    "dtypes_col = dtypes.index\n",
    "dtypes_type = [i.name for i in dtypes.values]\n",
    "\n",
    "column_types = dict(zip(dtypes_col, dtypes_type))\n",
    "\n",
    "vistas = pd.read_csv('/home/lucio/Documentos/Datos/NaventDatosTP/Data/Vistas/Vistas-merge.csv',dtype=column_types,parse_dates=['timestamp'],\n",
    "                     infer_datetime_format=True)\n",
    "vistas = vistas.drop(columns=['Unnamed: 0'])\n",
    "#Considero unica vista de aviso por postulante (no me importa ni horario ni cantidad solo que lo vea)\n",
    "vistas.drop(columns=['timestamp'],inplace=True)\n",
    "vistas.drop_duplicates(subset=['idAviso','idpostulante'],inplace=True)\n",
    "vistas['se_postulo'] = 0\n",
    "vistas['se_postulo'] = vistas[['se_postulo']].apply(pd.to_numeric,downcast='unsigned')\n",
    "vistas.rename(index=str,columns={'idAviso':'idaviso'},inplace=True)"
   ]
  },
  {
   "cell_type": "markdown",
   "metadata": {},
   "source": [
    "# Outer merge"
   ]
  },
  {
   "cell_type": "code",
   "execution_count": 16,
   "metadata": {},
   "outputs": [],
   "source": [
    "#Puede que haya vistas que enrealidad el postulante luego se postulo asi que verifico con el dataset merge\n",
    "outer = pd.merge(postulaciones,vistas,how='outer',on=['idaviso','idpostulante'])"
   ]
  },
  {
   "cell_type": "markdown",
   "metadata": {},
   "source": [
    "# Agrego la informacion de los postulantes"
   ]
  },
  {
   "cell_type": "code",
   "execution_count": 17,
   "metadata": {},
   "outputs": [],
   "source": [
    "outer = pd.merge(outer,postulantes_merge,how='left',on='idpostulante')"
   ]
  },
  {
   "cell_type": "code",
   "execution_count": 18,
   "metadata": {},
   "outputs": [
    {
     "name": "stdout",
     "output_type": "stream",
     "text": [
      "<class 'pandas.core.frame.DataFrame'>\n",
      "Int64Index: 13427632 entries, 0 to 13427631\n",
      "Data columns (total 8 columns):\n",
      "idaviso         uint64\n",
      "idpostulante    object\n",
      "se_postulo_x    float64\n",
      "se_postulo_y    float64\n",
      "sexo            category\n",
      "nombre          category\n",
      "estado          category\n",
      "edad            float64\n",
      "dtypes: category(3), float64(3), object(1), uint64(1)\n",
      "memory usage: 653.1+ MB\n"
     ]
    }
   ],
   "source": [
    "outer.info()"
   ]
  },
  {
   "cell_type": "code",
   "execution_count": 19,
   "metadata": {},
   "outputs": [
    {
     "name": "stdout",
     "output_type": "stream",
     "text": [
      "<class 'pandas.core.frame.DataFrame'>\n",
      "Int64Index: 10592264 entries, 0 to 13427631\n",
      "Data columns (total 8 columns):\n",
      "idaviso         uint64\n",
      "idpostulante    object\n",
      "se_postulo_x    float64\n",
      "se_postulo_y    float64\n",
      "sexo            category\n",
      "nombre          category\n",
      "estado          category\n",
      "edad            uint16\n",
      "dtypes: category(3), float64(2), object(1), uint16(1), uint64(1)\n",
      "memory usage: 454.6+ MB\n"
     ]
    }
   ],
   "source": [
    "#Me quedo con los registros con todos los datos (por ahora desp ver si se puede usar imputing)\n",
    "outer = outer[outer['nombre'].notnull() &\n",
    "                                    outer['estado'].notnull() & \n",
    "                                    outer['edad'].notnull()]\n",
    "outer = outer[outer['nombre'].notnull() &\n",
    "                                    outer['estado'].notnull()]\n",
    "outer[['edad']] = outer[['edad']].apply(pd.to_numeric,downcast='unsigned')\n",
    "outer.info()"
   ]
  },
  {
   "cell_type": "markdown",
   "metadata": {},
   "source": [
    "# Agrego la informacion de los avisos"
   ]
  },
  {
   "cell_type": "code",
   "execution_count": 20,
   "metadata": {},
   "outputs": [],
   "source": [
    "#Hago un merge de avisos y outer\n",
    "outer = pd.merge(outer,avisos_detalle,how='left',on='idaviso')"
   ]
  },
  {
   "cell_type": "code",
   "execution_count": 21,
   "metadata": {},
   "outputs": [
    {
     "name": "stdout",
     "output_type": "stream",
     "text": [
      "<class 'pandas.core.frame.DataFrame'>\n",
      "Int64Index: 10592264 entries, 0 to 10592263\n",
      "Data columns (total 13 columns):\n",
      "idaviso                 uint64\n",
      "idpostulante            object\n",
      "se_postulo_x            float64\n",
      "se_postulo_y            float64\n",
      "sexo                    category\n",
      "nombre                  category\n",
      "estado                  category\n",
      "edad                    uint16\n",
      "nombre_zona             object\n",
      "tipo_de_trabajo         object\n",
      "nivel_laboral           object\n",
      "nombre_area             object\n",
      "denominacion_empresa    object\n",
      "dtypes: category(3), float64(2), object(6), uint16(1), uint64(1)\n",
      "memory usage: 858.6+ MB\n"
     ]
    }
   ],
   "source": [
    "outer.info()"
   ]
  },
  {
   "cell_type": "code",
   "execution_count": 22,
   "metadata": {},
   "outputs": [],
   "source": [
    "#Elimino idaviso e idpostulante porque tiene demasiadas variantes como para hacer una dummificacion\n",
    "outer.drop(columns=['idaviso','idpostulante'],inplace=True)"
   ]
  },
  {
   "cell_type": "code",
   "execution_count": 23,
   "metadata": {},
   "outputs": [
    {
     "name": "stdout",
     "output_type": "stream",
     "text": [
      "<class 'pandas.core.frame.DataFrame'>\n",
      "Int64Index: 10592264 entries, 0 to 10592263\n",
      "Data columns (total 11 columns):\n",
      "se_postulo_x            float64\n",
      "se_postulo_y            float64\n",
      "sexo                    category\n",
      "nombre                  category\n",
      "estado                  category\n",
      "edad                    uint16\n",
      "nombre_zona             object\n",
      "tipo_de_trabajo         object\n",
      "nivel_laboral           object\n",
      "nombre_area             object\n",
      "denominacion_empresa    object\n",
      "dtypes: category(3), float64(2), object(5), uint16(1)\n",
      "memory usage: 697.0+ MB\n"
     ]
    }
   ],
   "source": [
    "outer.info()"
   ]
  },
  {
   "cell_type": "markdown",
   "metadata": {},
   "source": [
    "# Unifico la columna sepostulo"
   ]
  },
  {
   "cell_type": "code",
   "execution_count": 24,
   "metadata": {},
   "outputs": [],
   "source": [
    "outer.drop('se_postulo_y',axis=1,inplace=True)\n",
    "outer.rename(index=str,columns={'se_postulo_x':'sepostulo'},inplace=True)\n",
    "outer['sepostulo'].fillna(0, inplace=True)"
   ]
  },
  {
   "cell_type": "code",
   "execution_count": 25,
   "metadata": {},
   "outputs": [
    {
     "name": "stdout",
     "output_type": "stream",
     "text": [
      "<class 'pandas.core.frame.DataFrame'>\n",
      "Index: 10592264 entries, 0 to 10592263\n",
      "Data columns (total 10 columns):\n",
      "sepostulo               float64\n",
      "sexo                    category\n",
      "nombre                  category\n",
      "estado                  category\n",
      "edad                    uint16\n",
      "nombre_zona             object\n",
      "tipo_de_trabajo         object\n",
      "nivel_laboral           object\n",
      "nombre_area             object\n",
      "denominacion_empresa    object\n",
      "dtypes: category(3), float64(1), object(5), uint16(1)\n",
      "memory usage: 616.2+ MB\n"
     ]
    }
   ],
   "source": [
    "outer.info()"
   ]
  },
  {
   "cell_type": "markdown",
   "metadata": {},
   "source": [
    "# Mas limpieza"
   ]
  },
  {
   "cell_type": "code",
   "execution_count": 26,
   "metadata": {},
   "outputs": [],
   "source": [
    "outer = outer[outer['denominacion_empresa'].notnull() &\n",
    "                             outer['nivel_laboral'].notnull() &\n",
    "                             outer['nombre_area'].notnull() &\n",
    "                             outer['nombre_zona'].notnull() &\n",
    "                             outer['tipo_de_trabajo'].notnull() &\n",
    "                              outer['nombre'].notnull()]"
   ]
  },
  {
   "cell_type": "code",
   "execution_count": 29,
   "metadata": {},
   "outputs": [],
   "source": [
    "outer['sepostulo'] = outer[['sepostulo']].apply(pd.to_numeric,downcast='unsigned')"
   ]
  },
  {
   "cell_type": "code",
   "execution_count": 30,
   "metadata": {},
   "outputs": [
    {
     "name": "stdout",
     "output_type": "stream",
     "text": [
      "<class 'pandas.core.frame.DataFrame'>\n",
      "Index: 9439964 entries, 0 to 10592252\n",
      "Data columns (total 10 columns):\n",
      "sepostulo               uint8\n",
      "sexo                    category\n",
      "nombre                  category\n",
      "estado                  category\n",
      "edad                    uint16\n",
      "nombre_zona             object\n",
      "tipo_de_trabajo         object\n",
      "nivel_laboral           object\n",
      "nombre_area             object\n",
      "denominacion_empresa    object\n",
      "dtypes: category(3), object(5), uint16(1), uint8(1)\n",
      "memory usage: 486.1+ MB\n"
     ]
    }
   ],
   "source": [
    "outer.info()"
   ]
  },
  {
   "cell_type": "code",
   "execution_count": 28,
   "metadata": {},
   "outputs": [],
   "source": [
    "outer.to_csv('/home/lucio/Documentos/Datos/NaventDatosTP/Data/POSTULACIONES_NO_ENCODEADA.csv')"
   ]
  },
  {
   "cell_type": "markdown",
   "metadata": {},
   "source": [
    "# Hago dummificacion"
   ]
  },
  {
   "cell_type": "code",
   "execution_count": null,
   "metadata": {},
   "outputs": [],
   "source": []
  }
 ],
 "metadata": {
  "kernelspec": {
   "display_name": "Python 3",
   "language": "python",
   "name": "python3"
  },
  "language_info": {
   "codemirror_mode": {
    "name": "ipython",
    "version": 3
   },
   "file_extension": ".py",
   "mimetype": "text/x-python",
   "name": "python",
   "nbconvert_exporter": "python",
   "pygments_lexer": "ipython3",
   "version": "3.6.5"
  }
 },
 "nbformat": 4,
 "nbformat_minor": 2
}
