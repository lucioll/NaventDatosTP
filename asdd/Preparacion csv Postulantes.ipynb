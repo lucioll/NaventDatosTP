{
 "cells": [
  {
   "cell_type": "code",
   "execution_count": 1,
   "metadata": {},
   "outputs": [],
   "source": [
    "import pandas as pd\n",
    "from pandas.api.types import CategoricalDtype\n",
    "import time\n",
    "from datetime import datetime\n",
    "import scipy.spatial\n",
    "import numpy as np\n",
    "from sklearn.preprocessing import LabelEncoder"
   ]
  },
  {
   "cell_type": "code",
   "execution_count": 2,
   "metadata": {},
   "outputs": [],
   "source": [
    "dtypes = pd.Series({'idaviso': np.dtype('uint32'), 'idpostulante': np.dtype('object')})\n",
    "\n",
    "dtypes_col = dtypes.index\n",
    "dtypes_type = [i.name for i in dtypes.values]\n",
    "\n",
    "column_types = dict(zip(dtypes_col, dtypes_type))\n",
    "postulaciones = pd.read_csv('/home/fabrizio/env/NaventDatosTP/Data/Postulaciones/Postulaciones-merge.csv',\n",
    "                            dtype=column_types,parse_dates=['fechapostulacion'],infer_datetime_format=True)\n",
    "postulaciones = postulaciones.drop(columns=['Unnamed: 0','fechapostulacion'])"
   ]
  },
  {
   "cell_type": "code",
   "execution_count": 3,
   "metadata": {},
   "outputs": [
    {
     "name": "stdout",
     "output_type": "stream",
     "text": [
      "<class 'pandas.core.frame.DataFrame'>\n",
      "RangeIndex: 6603752 entries, 0 to 6603751\n",
      "Data columns (total 2 columns):\n",
      "idaviso         uint32\n",
      "idpostulante    object\n",
      "dtypes: object(1), uint32(1)\n",
      "memory usage: 75.6+ MB\n"
     ]
    }
   ],
   "source": [
    "postulaciones.info()"
   ]
  },
  {
   "cell_type": "code",
   "execution_count": 4,
   "metadata": {},
   "outputs": [],
   "source": [
    "dtypes = pd.Series({'idpostulante': np.dtype('object'), 'sexo': CategoricalDtype(categories=['FEM', 'MASC', 'NO_DECLARA'], ordered=False)})\n",
    "\n",
    "dtypes_col = dtypes.index\n",
    "dtypes_type = [i.name for i in dtypes.values]\n",
    "\n",
    "column_types = dict(zip(dtypes_col, dtypes_type))\n",
    "\n",
    "postulantes_genero_edad = pd.read_csv('/home/fabrizio/env/NaventDatosTP/Data/Postulantes-Genero-Edad/postulantes_genero_y_edad-merge.csv',\n",
    "                                    dtype=column_types,parse_dates=['fechanacimiento'],\n",
    "                                      infer_datetime_format=True)\n",
    "#postulantes_genero_edad = postulantes_genero_edad.drop(columns=['Unnamed: 0'],axis=1)\n",
    "#postulantes_genero_edad"
   ]
  },
  {
   "cell_type": "code",
   "execution_count": 6,
   "metadata": {},
   "outputs": [],
   "source": [
    "dtypes = pd.Series({'estado': CategoricalDtype(categories=['Abandonado', 'En Curso', 'Graduado'], ordered=False), 'idpostulante': np.dtype('object'),\n",
    "                    'nombre': CategoricalDtype(categories=['Doctorado', 'Master', 'Otro', 'Posgrado', 'Secundario',\n",
    "                  'Terciario/Técnico', 'Universitario'],\n",
    "                 ordered=False)})\n",
    "\n",
    "\n",
    "dtypes_col = dtypes.index\n",
    "dtypes_type = [i.name for i in dtypes.values]\n",
    "\n",
    "column_types = dict(zip(dtypes_col, dtypes_type))\n",
    "\n",
    "postulantes_educacion = pd.read_csv('/home/fabrizio/env/NaventDatosTP/Data/Postulantes-Educacion/postulantes_educacion-merge.csv',\n",
    "                                    dtype=column_types)\n",
    "postulantes_educacion = postulantes_educacion.drop(columns=['nombre_numerico'])"
   ]
  },
  {
   "cell_type": "code",
   "execution_count": 7,
   "metadata": {},
   "outputs": [],
   "source": [
    "#Hago un merge de educacion y genero-edad\n",
    "postulantes_merge = pd.merge(postulantes_genero_edad,postulantes_educacion,how='left',on='idpostulante')"
   ]
  },
  {
   "cell_type": "code",
   "execution_count": 8,
   "metadata": {},
   "outputs": [
    {
     "name": "stdout",
     "output_type": "stream",
     "text": [
      "<class 'pandas.core.frame.DataFrame'>\n",
      "Int64Index: 504400 entries, 0 to 504399\n",
      "Data columns (total 6 columns):\n",
      "idpostulante       504400 non-null object\n",
      "fechanacimiento    504400 non-null object\n",
      "sexo               504400 non-null category\n",
      "sexo_numerico      504400 non-null int64\n",
      "nombre             447906 non-null category\n",
      "estado             447906 non-null category\n",
      "dtypes: category(3), int64(1), object(2)\n",
      "memory usage: 16.8+ MB\n"
     ]
    }
   ],
   "source": [
    "postulantes_merge.info()"
   ]
  },
  {
   "cell_type": "code",
   "execution_count": 9,
   "metadata": {},
   "outputs": [
    {
     "data": {
      "text/html": [
       "<div>\n",
       "<style scoped>\n",
       "    .dataframe tbody tr th:only-of-type {\n",
       "        vertical-align: middle;\n",
       "    }\n",
       "\n",
       "    .dataframe tbody tr th {\n",
       "        vertical-align: top;\n",
       "    }\n",
       "\n",
       "    .dataframe thead th {\n",
       "        text-align: right;\n",
       "    }\n",
       "</style>\n",
       "<table border=\"1\" class=\"dataframe\">\n",
       "  <thead>\n",
       "    <tr style=\"text-align: right;\">\n",
       "      <th></th>\n",
       "      <th>idpostulante</th>\n",
       "      <th>fechanacimiento</th>\n",
       "      <th>sexo</th>\n",
       "      <th>sexo_numerico</th>\n",
       "      <th>nombre</th>\n",
       "      <th>estado</th>\n",
       "    </tr>\n",
       "  </thead>\n",
       "  <tbody>\n",
       "    <tr>\n",
       "      <th>0</th>\n",
       "      <td>zvxzzL6</td>\n",
       "      <td>1989-08-31</td>\n",
       "      <td>MASC</td>\n",
       "      <td>2</td>\n",
       "      <td>Secundario</td>\n",
       "      <td>Graduado</td>\n",
       "    </tr>\n",
       "    <tr>\n",
       "      <th>1</th>\n",
       "      <td>zvxzvD5</td>\n",
       "      <td>1994-10-10</td>\n",
       "      <td>FEM</td>\n",
       "      <td>1</td>\n",
       "      <td>Terciario/Técnico</td>\n",
       "      <td>En Curso</td>\n",
       "    </tr>\n",
       "    <tr>\n",
       "      <th>2</th>\n",
       "      <td>zvxzrWm</td>\n",
       "      <td>1981-11-30</td>\n",
       "      <td>MASC</td>\n",
       "      <td>2</td>\n",
       "      <td>Universitario</td>\n",
       "      <td>Graduado</td>\n",
       "    </tr>\n",
       "    <tr>\n",
       "      <th>3</th>\n",
       "      <td>zvxzmED</td>\n",
       "      <td>1999-04-09</td>\n",
       "      <td>FEM</td>\n",
       "      <td>1</td>\n",
       "      <td>Secundario</td>\n",
       "      <td>Graduado</td>\n",
       "    </tr>\n",
       "    <tr>\n",
       "      <th>4</th>\n",
       "      <td>zvxzld5</td>\n",
       "      <td>1997-12-17</td>\n",
       "      <td>MASC</td>\n",
       "      <td>2</td>\n",
       "      <td>NaN</td>\n",
       "      <td>NaN</td>\n",
       "    </tr>\n",
       "  </tbody>\n",
       "</table>\n",
       "</div>"
      ],
      "text/plain": [
       "  idpostulante fechanacimiento  sexo  sexo_numerico             nombre  \\\n",
       "0      zvxzzL6      1989-08-31  MASC              2         Secundario   \n",
       "1      zvxzvD5      1994-10-10   FEM              1  Terciario/Técnico   \n",
       "2      zvxzrWm      1981-11-30  MASC              2      Universitario   \n",
       "3      zvxzmED      1999-04-09   FEM              1         Secundario   \n",
       "4      zvxzld5      1997-12-17  MASC              2                NaN   \n",
       "\n",
       "     estado  \n",
       "0  Graduado  \n",
       "1  En Curso  \n",
       "2  Graduado  \n",
       "3  Graduado  \n",
       "4       NaN  "
      ]
     },
     "execution_count": 9,
     "metadata": {},
     "output_type": "execute_result"
    }
   ],
   "source": [
    "postulantes_merge.head()"
   ]
  },
  {
   "cell_type": "code",
   "execution_count": 10,
   "metadata": {},
   "outputs": [],
   "source": [
    "#Voy a agregar una columna con la edad ya calculada(estimando por 2017-año nacimiento) para cada registro\n",
    "postulantes_merge[\"año\"] = postulantes_merge[postulantes_merge[\"fechanacimiento\"] != 'nan']\\\n",
    "        [\"fechanacimiento\"].apply(lambda x: x[0:4])\n",
    "postulantes_merge[\"edad\"] = postulantes_merge[postulantes_merge[\"año\"].notna()] \\\n",
    "        [\"año\"].apply(lambda x: 2017 - int(x))"
   ]
  },
  {
   "cell_type": "code",
   "execution_count": 11,
   "metadata": {},
   "outputs": [],
   "source": [
    "#Elimino columna fechanacimiento y año que ya no me sirven\n",
    "postulantes_merge = postulantes_merge.drop(columns=['fechanacimiento','año'])"
   ]
  },
  {
   "cell_type": "code",
   "execution_count": 12,
   "metadata": {},
   "outputs": [
    {
     "name": "stdout",
     "output_type": "stream",
     "text": [
      "<class 'pandas.core.frame.DataFrame'>\n",
      "Int64Index: 504400 entries, 0 to 504399\n",
      "Data columns (total 6 columns):\n",
      "idpostulante     504400 non-null object\n",
      "sexo             504400 non-null category\n",
      "sexo_numerico    504400 non-null int64\n",
      "nombre           447906 non-null category\n",
      "estado           447906 non-null category\n",
      "edad             478315 non-null float64\n",
      "dtypes: category(3), float64(1), int64(1), object(1)\n",
      "memory usage: 16.8+ MB\n"
     ]
    }
   ],
   "source": [
    "postulantes_merge.info()"
   ]
  },
  {
   "cell_type": "code",
   "execution_count": 13,
   "metadata": {},
   "outputs": [],
   "source": [
    "#Elimino NaNs\n",
    "postulantes_merge = postulantes_merge[postulantes_merge['nombre'].notnull() &\n",
    "                                     postulantes_merge['estado'].notnull() &\n",
    "                                     postulantes_merge['edad'].notnull()]"
   ]
  },
  {
   "cell_type": "code",
   "execution_count": 14,
   "metadata": {},
   "outputs": [
    {
     "name": "stdout",
     "output_type": "stream",
     "text": [
      "<class 'pandas.core.frame.DataFrame'>\n",
      "Int64Index: 438702 entries, 0 to 504399\n",
      "Data columns (total 6 columns):\n",
      "idpostulante     438702 non-null object\n",
      "sexo             438702 non-null category\n",
      "sexo_numerico    438702 non-null int64\n",
      "nombre           438702 non-null category\n",
      "estado           438702 non-null category\n",
      "edad             438702 non-null float64\n",
      "dtypes: category(3), float64(1), int64(1), object(1)\n",
      "memory usage: 14.6+ MB\n"
     ]
    }
   ],
   "source": [
    "postulantes_merge.info()"
   ]
  },
  {
   "cell_type": "code",
   "execution_count": 15,
   "metadata": {},
   "outputs": [],
   "source": [
    "#Vamos a codificar cada columna que sea de strings\n",
    "lb_make1 = LabelEncoder()\n",
    "postulantes_merge[\"estado_code\"] = lb_make1.fit_transform(postulantes_merge[\"estado\"])\n",
    "\n",
    "lb_make2 = LabelEncoder()\n",
    "postulantes_merge[\"sexo_code\"] = lb_make2.fit_transform(postulantes_merge[\"sexo\"])\n",
    "\n",
    "lb_make3 = LabelEncoder()\n",
    "postulantes_merge[\"nombre_code\"] = lb_make3.fit_transform(postulantes_merge[\"nombre\"])\n",
    "\n",
    "postulantes_merge.drop(columns=['sexo','nombre','estado'],inplace=True)\n",
    "postulantes_merge[['sexo_code','nombre_code','estado_code','edad']] = postulantes_merge[['sexo_code','nombre_code','estado_code','edad']].apply(pd.to_numeric,downcast='unsigned')"
   ]
  },
  {
   "cell_type": "code",
   "execution_count": 16,
   "metadata": {},
   "outputs": [
    {
     "name": "stdout",
     "output_type": "stream",
     "text": [
      "<class 'pandas.core.frame.DataFrame'>\n",
      "Int64Index: 438702 entries, 0 to 504399\n",
      "Data columns (total 6 columns):\n",
      "idpostulante     438702 non-null object\n",
      "sexo_numerico    438702 non-null int64\n",
      "edad             438702 non-null uint16\n",
      "estado_code      438702 non-null uint8\n",
      "sexo_code        438702 non-null uint8\n",
      "nombre_code      438702 non-null uint8\n",
      "dtypes: int64(1), object(1), uint16(1), uint8(3)\n",
      "memory usage: 12.1+ MB\n"
     ]
    }
   ],
   "source": [
    "postulantes_merge.info()"
   ]
  },
  {
   "cell_type": "code",
   "execution_count": 17,
   "metadata": {},
   "outputs": [],
   "source": [
    "postulantes_merge.to_csv('/home/fabrizio/env/NaventDatosTP/Data/POSTULANTES_FINAL.csv')"
   ]
  },
  {
   "cell_type": "markdown",
   "metadata": {},
   "source": [
    "# Agrego la informacion a postulaciones"
   ]
  },
  {
   "cell_type": "code",
   "execution_count": 18,
   "metadata": {},
   "outputs": [],
   "source": [
    "merge_postulaciones = pd.merge(postulaciones,postulantes_merge,how='left',on='idpostulante')"
   ]
  },
  {
   "cell_type": "code",
   "execution_count": 19,
   "metadata": {},
   "outputs": [],
   "source": [
    "#Creo columna con un 1 para indicar postulacion\n",
    "merge_postulaciones['se_postulo'] = 1\n",
    "merge_postulaciones['se_postulo'] = merge_postulaciones[['se_postulo']].apply(pd.to_numeric,downcast='unsigned')"
   ]
  },
  {
   "cell_type": "code",
   "execution_count": 20,
   "metadata": {},
   "outputs": [
    {
     "name": "stdout",
     "output_type": "stream",
     "text": [
      "<class 'pandas.core.frame.DataFrame'>\n",
      "Int64Index: 6603752 entries, 0 to 6603751\n",
      "Data columns (total 8 columns):\n",
      "idaviso          uint32\n",
      "idpostulante     object\n",
      "sexo_numerico    float64\n",
      "edad             float64\n",
      "estado_code      float64\n",
      "sexo_code        float64\n",
      "nombre_code      float64\n",
      "se_postulo       uint8\n",
      "dtypes: float64(5), object(1), uint32(1), uint8(1)\n",
      "memory usage: 384.2+ MB\n"
     ]
    }
   ],
   "source": [
    "merge_postulaciones.info()"
   ]
  },
  {
   "cell_type": "code",
   "execution_count": 21,
   "metadata": {},
   "outputs": [
    {
     "data": {
      "text/html": [
       "<div>\n",
       "<style scoped>\n",
       "    .dataframe tbody tr th:only-of-type {\n",
       "        vertical-align: middle;\n",
       "    }\n",
       "\n",
       "    .dataframe tbody tr th {\n",
       "        vertical-align: top;\n",
       "    }\n",
       "\n",
       "    .dataframe thead th {\n",
       "        text-align: right;\n",
       "    }\n",
       "</style>\n",
       "<table border=\"1\" class=\"dataframe\">\n",
       "  <thead>\n",
       "    <tr style=\"text-align: right;\">\n",
       "      <th></th>\n",
       "      <th>idaviso</th>\n",
       "      <th>idpostulante</th>\n",
       "      <th>sexo_numerico</th>\n",
       "      <th>edad</th>\n",
       "      <th>estado_code</th>\n",
       "      <th>sexo_code</th>\n",
       "      <th>nombre_code</th>\n",
       "      <th>se_postulo</th>\n",
       "    </tr>\n",
       "  </thead>\n",
       "  <tbody>\n",
       "    <tr>\n",
       "      <th>700</th>\n",
       "      <td>1112281337</td>\n",
       "      <td>NM1J0z</td>\n",
       "      <td>NaN</td>\n",
       "      <td>NaN</td>\n",
       "      <td>NaN</td>\n",
       "      <td>NaN</td>\n",
       "      <td>NaN</td>\n",
       "      <td>1</td>\n",
       "    </tr>\n",
       "    <tr>\n",
       "      <th>701</th>\n",
       "      <td>1112334640</td>\n",
       "      <td>NM1J0z</td>\n",
       "      <td>NaN</td>\n",
       "      <td>NaN</td>\n",
       "      <td>NaN</td>\n",
       "      <td>NaN</td>\n",
       "      <td>NaN</td>\n",
       "      <td>1</td>\n",
       "    </tr>\n",
       "    <tr>\n",
       "      <th>702</th>\n",
       "      <td>1112289378</td>\n",
       "      <td>NM1J0z</td>\n",
       "      <td>NaN</td>\n",
       "      <td>NaN</td>\n",
       "      <td>NaN</td>\n",
       "      <td>NaN</td>\n",
       "      <td>NaN</td>\n",
       "      <td>1</td>\n",
       "    </tr>\n",
       "    <tr>\n",
       "      <th>703</th>\n",
       "      <td>1112296073</td>\n",
       "      <td>NM1J0z</td>\n",
       "      <td>NaN</td>\n",
       "      <td>NaN</td>\n",
       "      <td>NaN</td>\n",
       "      <td>NaN</td>\n",
       "      <td>NaN</td>\n",
       "      <td>1</td>\n",
       "    </tr>\n",
       "    <tr>\n",
       "      <th>704</th>\n",
       "      <td>1112310231</td>\n",
       "      <td>NM1J0z</td>\n",
       "      <td>NaN</td>\n",
       "      <td>NaN</td>\n",
       "      <td>NaN</td>\n",
       "      <td>NaN</td>\n",
       "      <td>NaN</td>\n",
       "      <td>1</td>\n",
       "    </tr>\n",
       "    <tr>\n",
       "      <th>705</th>\n",
       "      <td>1112195462</td>\n",
       "      <td>NM1J0z</td>\n",
       "      <td>NaN</td>\n",
       "      <td>NaN</td>\n",
       "      <td>NaN</td>\n",
       "      <td>NaN</td>\n",
       "      <td>NaN</td>\n",
       "      <td>1</td>\n",
       "    </tr>\n",
       "    <tr>\n",
       "      <th>706</th>\n",
       "      <td>1112288872</td>\n",
       "      <td>NM1J0z</td>\n",
       "      <td>NaN</td>\n",
       "      <td>NaN</td>\n",
       "      <td>NaN</td>\n",
       "      <td>NaN</td>\n",
       "      <td>NaN</td>\n",
       "      <td>1</td>\n",
       "    </tr>\n",
       "    <tr>\n",
       "      <th>707</th>\n",
       "      <td>1112277388</td>\n",
       "      <td>NM1J0z</td>\n",
       "      <td>NaN</td>\n",
       "      <td>NaN</td>\n",
       "      <td>NaN</td>\n",
       "      <td>NaN</td>\n",
       "      <td>NaN</td>\n",
       "      <td>1</td>\n",
       "    </tr>\n",
       "    <tr>\n",
       "      <th>708</th>\n",
       "      <td>1112334643</td>\n",
       "      <td>NM1J0z</td>\n",
       "      <td>NaN</td>\n",
       "      <td>NaN</td>\n",
       "      <td>NaN</td>\n",
       "      <td>NaN</td>\n",
       "      <td>NaN</td>\n",
       "      <td>1</td>\n",
       "    </tr>\n",
       "    <tr>\n",
       "      <th>709</th>\n",
       "      <td>1112153209</td>\n",
       "      <td>NM1J0z</td>\n",
       "      <td>NaN</td>\n",
       "      <td>NaN</td>\n",
       "      <td>NaN</td>\n",
       "      <td>NaN</td>\n",
       "      <td>NaN</td>\n",
       "      <td>1</td>\n",
       "    </tr>\n",
       "    <tr>\n",
       "      <th>710</th>\n",
       "      <td>1112351871</td>\n",
       "      <td>NM1J0z</td>\n",
       "      <td>NaN</td>\n",
       "      <td>NaN</td>\n",
       "      <td>NaN</td>\n",
       "      <td>NaN</td>\n",
       "      <td>NaN</td>\n",
       "      <td>1</td>\n",
       "    </tr>\n",
       "    <tr>\n",
       "      <th>711</th>\n",
       "      <td>1112353148</td>\n",
       "      <td>NM1J0z</td>\n",
       "      <td>NaN</td>\n",
       "      <td>NaN</td>\n",
       "      <td>NaN</td>\n",
       "      <td>NaN</td>\n",
       "      <td>NaN</td>\n",
       "      <td>1</td>\n",
       "    </tr>\n",
       "    <tr>\n",
       "      <th>712</th>\n",
       "      <td>1112351859</td>\n",
       "      <td>NM1J0z</td>\n",
       "      <td>NaN</td>\n",
       "      <td>NaN</td>\n",
       "      <td>NaN</td>\n",
       "      <td>NaN</td>\n",
       "      <td>NaN</td>\n",
       "      <td>1</td>\n",
       "    </tr>\n",
       "    <tr>\n",
       "      <th>713</th>\n",
       "      <td>1112358588</td>\n",
       "      <td>NM1J0z</td>\n",
       "      <td>NaN</td>\n",
       "      <td>NaN</td>\n",
       "      <td>NaN</td>\n",
       "      <td>NaN</td>\n",
       "      <td>NaN</td>\n",
       "      <td>1</td>\n",
       "    </tr>\n",
       "    <tr>\n",
       "      <th>714</th>\n",
       "      <td>1112369637</td>\n",
       "      <td>NM1J0z</td>\n",
       "      <td>NaN</td>\n",
       "      <td>NaN</td>\n",
       "      <td>NaN</td>\n",
       "      <td>NaN</td>\n",
       "      <td>NaN</td>\n",
       "      <td>1</td>\n",
       "    </tr>\n",
       "    <tr>\n",
       "      <th>715</th>\n",
       "      <td>1112375270</td>\n",
       "      <td>NM1J0z</td>\n",
       "      <td>NaN</td>\n",
       "      <td>NaN</td>\n",
       "      <td>NaN</td>\n",
       "      <td>NaN</td>\n",
       "      <td>NaN</td>\n",
       "      <td>1</td>\n",
       "    </tr>\n",
       "    <tr>\n",
       "      <th>716</th>\n",
       "      <td>1112362090</td>\n",
       "      <td>NM1J0z</td>\n",
       "      <td>NaN</td>\n",
       "      <td>NaN</td>\n",
       "      <td>NaN</td>\n",
       "      <td>NaN</td>\n",
       "      <td>NaN</td>\n",
       "      <td>1</td>\n",
       "    </tr>\n",
       "    <tr>\n",
       "      <th>717</th>\n",
       "      <td>1112363342</td>\n",
       "      <td>NM1J0z</td>\n",
       "      <td>NaN</td>\n",
       "      <td>NaN</td>\n",
       "      <td>NaN</td>\n",
       "      <td>NaN</td>\n",
       "      <td>NaN</td>\n",
       "      <td>1</td>\n",
       "    </tr>\n",
       "    <tr>\n",
       "      <th>718</th>\n",
       "      <td>1112121823</td>\n",
       "      <td>NM1J0z</td>\n",
       "      <td>NaN</td>\n",
       "      <td>NaN</td>\n",
       "      <td>NaN</td>\n",
       "      <td>NaN</td>\n",
       "      <td>NaN</td>\n",
       "      <td>1</td>\n",
       "    </tr>\n",
       "    <tr>\n",
       "      <th>719</th>\n",
       "      <td>1112383175</td>\n",
       "      <td>NM1J0z</td>\n",
       "      <td>NaN</td>\n",
       "      <td>NaN</td>\n",
       "      <td>NaN</td>\n",
       "      <td>NaN</td>\n",
       "      <td>NaN</td>\n",
       "      <td>1</td>\n",
       "    </tr>\n",
       "    <tr>\n",
       "      <th>720</th>\n",
       "      <td>1112383755</td>\n",
       "      <td>NM1J0z</td>\n",
       "      <td>NaN</td>\n",
       "      <td>NaN</td>\n",
       "      <td>NaN</td>\n",
       "      <td>NaN</td>\n",
       "      <td>NaN</td>\n",
       "      <td>1</td>\n",
       "    </tr>\n",
       "    <tr>\n",
       "      <th>721</th>\n",
       "      <td>1112388162</td>\n",
       "      <td>NM1J0z</td>\n",
       "      <td>NaN</td>\n",
       "      <td>NaN</td>\n",
       "      <td>NaN</td>\n",
       "      <td>NaN</td>\n",
       "      <td>NaN</td>\n",
       "      <td>1</td>\n",
       "    </tr>\n",
       "    <tr>\n",
       "      <th>722</th>\n",
       "      <td>1112387824</td>\n",
       "      <td>NM1J0z</td>\n",
       "      <td>NaN</td>\n",
       "      <td>NaN</td>\n",
       "      <td>NaN</td>\n",
       "      <td>NaN</td>\n",
       "      <td>NaN</td>\n",
       "      <td>1</td>\n",
       "    </tr>\n",
       "    <tr>\n",
       "      <th>723</th>\n",
       "      <td>1112393608</td>\n",
       "      <td>NM1J0z</td>\n",
       "      <td>NaN</td>\n",
       "      <td>NaN</td>\n",
       "      <td>NaN</td>\n",
       "      <td>NaN</td>\n",
       "      <td>NaN</td>\n",
       "      <td>1</td>\n",
       "    </tr>\n",
       "    <tr>\n",
       "      <th>724</th>\n",
       "      <td>1111939536</td>\n",
       "      <td>NM1J0z</td>\n",
       "      <td>NaN</td>\n",
       "      <td>NaN</td>\n",
       "      <td>NaN</td>\n",
       "      <td>NaN</td>\n",
       "      <td>NaN</td>\n",
       "      <td>1</td>\n",
       "    </tr>\n",
       "    <tr>\n",
       "      <th>725</th>\n",
       "      <td>1112402980</td>\n",
       "      <td>NM1J0z</td>\n",
       "      <td>NaN</td>\n",
       "      <td>NaN</td>\n",
       "      <td>NaN</td>\n",
       "      <td>NaN</td>\n",
       "      <td>NaN</td>\n",
       "      <td>1</td>\n",
       "    </tr>\n",
       "    <tr>\n",
       "      <th>726</th>\n",
       "      <td>1112405723</td>\n",
       "      <td>NM1J0z</td>\n",
       "      <td>NaN</td>\n",
       "      <td>NaN</td>\n",
       "      <td>NaN</td>\n",
       "      <td>NaN</td>\n",
       "      <td>NaN</td>\n",
       "      <td>1</td>\n",
       "    </tr>\n",
       "    <tr>\n",
       "      <th>727</th>\n",
       "      <td>1112401596</td>\n",
       "      <td>NM1J0z</td>\n",
       "      <td>NaN</td>\n",
       "      <td>NaN</td>\n",
       "      <td>NaN</td>\n",
       "      <td>NaN</td>\n",
       "      <td>NaN</td>\n",
       "      <td>1</td>\n",
       "    </tr>\n",
       "    <tr>\n",
       "      <th>728</th>\n",
       "      <td>1112411796</td>\n",
       "      <td>NM1J0z</td>\n",
       "      <td>NaN</td>\n",
       "      <td>NaN</td>\n",
       "      <td>NaN</td>\n",
       "      <td>NaN</td>\n",
       "      <td>NaN</td>\n",
       "      <td>1</td>\n",
       "    </tr>\n",
       "    <tr>\n",
       "      <th>729</th>\n",
       "      <td>1112411992</td>\n",
       "      <td>NM1J0z</td>\n",
       "      <td>NaN</td>\n",
       "      <td>NaN</td>\n",
       "      <td>NaN</td>\n",
       "      <td>NaN</td>\n",
       "      <td>NaN</td>\n",
       "      <td>1</td>\n",
       "    </tr>\n",
       "    <tr>\n",
       "      <th>...</th>\n",
       "      <td>...</td>\n",
       "      <td>...</td>\n",
       "      <td>...</td>\n",
       "      <td>...</td>\n",
       "      <td>...</td>\n",
       "      <td>...</td>\n",
       "      <td>...</td>\n",
       "      <td>...</td>\n",
       "    </tr>\n",
       "    <tr>\n",
       "      <th>6603507</th>\n",
       "      <td>1112206318</td>\n",
       "      <td>ekOwarj</td>\n",
       "      <td>NaN</td>\n",
       "      <td>NaN</td>\n",
       "      <td>NaN</td>\n",
       "      <td>NaN</td>\n",
       "      <td>NaN</td>\n",
       "      <td>1</td>\n",
       "    </tr>\n",
       "    <tr>\n",
       "      <th>6603508</th>\n",
       "      <td>1112364820</td>\n",
       "      <td>RzrQvqx</td>\n",
       "      <td>NaN</td>\n",
       "      <td>NaN</td>\n",
       "      <td>NaN</td>\n",
       "      <td>NaN</td>\n",
       "      <td>NaN</td>\n",
       "      <td>1</td>\n",
       "    </tr>\n",
       "    <tr>\n",
       "      <th>6603509</th>\n",
       "      <td>1112368571</td>\n",
       "      <td>RzrQvqx</td>\n",
       "      <td>NaN</td>\n",
       "      <td>NaN</td>\n",
       "      <td>NaN</td>\n",
       "      <td>NaN</td>\n",
       "      <td>NaN</td>\n",
       "      <td>1</td>\n",
       "    </tr>\n",
       "    <tr>\n",
       "      <th>6603510</th>\n",
       "      <td>1112369078</td>\n",
       "      <td>RzrQvqx</td>\n",
       "      <td>NaN</td>\n",
       "      <td>NaN</td>\n",
       "      <td>NaN</td>\n",
       "      <td>NaN</td>\n",
       "      <td>NaN</td>\n",
       "      <td>1</td>\n",
       "    </tr>\n",
       "    <tr>\n",
       "      <th>6603511</th>\n",
       "      <td>1112363285</td>\n",
       "      <td>RzrQvqx</td>\n",
       "      <td>NaN</td>\n",
       "      <td>NaN</td>\n",
       "      <td>NaN</td>\n",
       "      <td>NaN</td>\n",
       "      <td>NaN</td>\n",
       "      <td>1</td>\n",
       "    </tr>\n",
       "    <tr>\n",
       "      <th>6603517</th>\n",
       "      <td>1112361693</td>\n",
       "      <td>Bm5w9ZE</td>\n",
       "      <td>NaN</td>\n",
       "      <td>NaN</td>\n",
       "      <td>NaN</td>\n",
       "      <td>NaN</td>\n",
       "      <td>NaN</td>\n",
       "      <td>1</td>\n",
       "    </tr>\n",
       "    <tr>\n",
       "      <th>6603518</th>\n",
       "      <td>1112337924</td>\n",
       "      <td>Bm5w9ZE</td>\n",
       "      <td>NaN</td>\n",
       "      <td>NaN</td>\n",
       "      <td>NaN</td>\n",
       "      <td>NaN</td>\n",
       "      <td>NaN</td>\n",
       "      <td>1</td>\n",
       "    </tr>\n",
       "    <tr>\n",
       "      <th>6603535</th>\n",
       "      <td>1111871028</td>\n",
       "      <td>lDLj9L6</td>\n",
       "      <td>NaN</td>\n",
       "      <td>NaN</td>\n",
       "      <td>NaN</td>\n",
       "      <td>NaN</td>\n",
       "      <td>NaN</td>\n",
       "      <td>1</td>\n",
       "    </tr>\n",
       "    <tr>\n",
       "      <th>6603536</th>\n",
       "      <td>1112252525</td>\n",
       "      <td>lDLj9L6</td>\n",
       "      <td>NaN</td>\n",
       "      <td>NaN</td>\n",
       "      <td>NaN</td>\n",
       "      <td>NaN</td>\n",
       "      <td>NaN</td>\n",
       "      <td>1</td>\n",
       "    </tr>\n",
       "    <tr>\n",
       "      <th>6603537</th>\n",
       "      <td>1111623753</td>\n",
       "      <td>lDLj9L6</td>\n",
       "      <td>NaN</td>\n",
       "      <td>NaN</td>\n",
       "      <td>NaN</td>\n",
       "      <td>NaN</td>\n",
       "      <td>NaN</td>\n",
       "      <td>1</td>\n",
       "    </tr>\n",
       "    <tr>\n",
       "      <th>6603538</th>\n",
       "      <td>1112219332</td>\n",
       "      <td>lDLj9L6</td>\n",
       "      <td>NaN</td>\n",
       "      <td>NaN</td>\n",
       "      <td>NaN</td>\n",
       "      <td>NaN</td>\n",
       "      <td>NaN</td>\n",
       "      <td>1</td>\n",
       "    </tr>\n",
       "    <tr>\n",
       "      <th>6603539</th>\n",
       "      <td>1112370471</td>\n",
       "      <td>RzrQvvR</td>\n",
       "      <td>NaN</td>\n",
       "      <td>NaN</td>\n",
       "      <td>NaN</td>\n",
       "      <td>NaN</td>\n",
       "      <td>NaN</td>\n",
       "      <td>1</td>\n",
       "    </tr>\n",
       "    <tr>\n",
       "      <th>6603544</th>\n",
       "      <td>1111703496</td>\n",
       "      <td>vVja4Rj</td>\n",
       "      <td>NaN</td>\n",
       "      <td>NaN</td>\n",
       "      <td>NaN</td>\n",
       "      <td>NaN</td>\n",
       "      <td>NaN</td>\n",
       "      <td>1</td>\n",
       "    </tr>\n",
       "    <tr>\n",
       "      <th>6603584</th>\n",
       "      <td>1112355348</td>\n",
       "      <td>OqrlEVx</td>\n",
       "      <td>NaN</td>\n",
       "      <td>NaN</td>\n",
       "      <td>NaN</td>\n",
       "      <td>NaN</td>\n",
       "      <td>NaN</td>\n",
       "      <td>1</td>\n",
       "    </tr>\n",
       "    <tr>\n",
       "      <th>6603585</th>\n",
       "      <td>1112315642</td>\n",
       "      <td>OqrlEVx</td>\n",
       "      <td>NaN</td>\n",
       "      <td>NaN</td>\n",
       "      <td>NaN</td>\n",
       "      <td>NaN</td>\n",
       "      <td>NaN</td>\n",
       "      <td>1</td>\n",
       "    </tr>\n",
       "    <tr>\n",
       "      <th>6603603</th>\n",
       "      <td>1112312923</td>\n",
       "      <td>6rPEvoL</td>\n",
       "      <td>NaN</td>\n",
       "      <td>NaN</td>\n",
       "      <td>NaN</td>\n",
       "      <td>NaN</td>\n",
       "      <td>NaN</td>\n",
       "      <td>1</td>\n",
       "    </tr>\n",
       "    <tr>\n",
       "      <th>6603604</th>\n",
       "      <td>1112349451</td>\n",
       "      <td>6rPEvoL</td>\n",
       "      <td>NaN</td>\n",
       "      <td>NaN</td>\n",
       "      <td>NaN</td>\n",
       "      <td>NaN</td>\n",
       "      <td>NaN</td>\n",
       "      <td>1</td>\n",
       "    </tr>\n",
       "    <tr>\n",
       "      <th>6603613</th>\n",
       "      <td>1111794269</td>\n",
       "      <td>jkjqJ4e</td>\n",
       "      <td>NaN</td>\n",
       "      <td>NaN</td>\n",
       "      <td>NaN</td>\n",
       "      <td>NaN</td>\n",
       "      <td>NaN</td>\n",
       "      <td>1</td>\n",
       "    </tr>\n",
       "    <tr>\n",
       "      <th>6603614</th>\n",
       "      <td>1112305639</td>\n",
       "      <td>jkjqJ4e</td>\n",
       "      <td>NaN</td>\n",
       "      <td>NaN</td>\n",
       "      <td>NaN</td>\n",
       "      <td>NaN</td>\n",
       "      <td>NaN</td>\n",
       "      <td>1</td>\n",
       "    </tr>\n",
       "    <tr>\n",
       "      <th>6603615</th>\n",
       "      <td>1112368442</td>\n",
       "      <td>jkjqJ4e</td>\n",
       "      <td>NaN</td>\n",
       "      <td>NaN</td>\n",
       "      <td>NaN</td>\n",
       "      <td>NaN</td>\n",
       "      <td>NaN</td>\n",
       "      <td>1</td>\n",
       "    </tr>\n",
       "    <tr>\n",
       "      <th>6603616</th>\n",
       "      <td>1112206678</td>\n",
       "      <td>jkjqJ4e</td>\n",
       "      <td>NaN</td>\n",
       "      <td>NaN</td>\n",
       "      <td>NaN</td>\n",
       "      <td>NaN</td>\n",
       "      <td>NaN</td>\n",
       "      <td>1</td>\n",
       "    </tr>\n",
       "    <tr>\n",
       "      <th>6603617</th>\n",
       "      <td>1112361940</td>\n",
       "      <td>jkjqJ4e</td>\n",
       "      <td>NaN</td>\n",
       "      <td>NaN</td>\n",
       "      <td>NaN</td>\n",
       "      <td>NaN</td>\n",
       "      <td>NaN</td>\n",
       "      <td>1</td>\n",
       "    </tr>\n",
       "    <tr>\n",
       "      <th>6603618</th>\n",
       "      <td>1110391074</td>\n",
       "      <td>jkjqJ4e</td>\n",
       "      <td>NaN</td>\n",
       "      <td>NaN</td>\n",
       "      <td>NaN</td>\n",
       "      <td>NaN</td>\n",
       "      <td>NaN</td>\n",
       "      <td>1</td>\n",
       "    </tr>\n",
       "    <tr>\n",
       "      <th>6603619</th>\n",
       "      <td>1112341841</td>\n",
       "      <td>jkjqJ4e</td>\n",
       "      <td>NaN</td>\n",
       "      <td>NaN</td>\n",
       "      <td>NaN</td>\n",
       "      <td>NaN</td>\n",
       "      <td>NaN</td>\n",
       "      <td>1</td>\n",
       "    </tr>\n",
       "    <tr>\n",
       "      <th>6603696</th>\n",
       "      <td>1001284385</td>\n",
       "      <td>akjVl35</td>\n",
       "      <td>NaN</td>\n",
       "      <td>NaN</td>\n",
       "      <td>NaN</td>\n",
       "      <td>NaN</td>\n",
       "      <td>NaN</td>\n",
       "      <td>1</td>\n",
       "    </tr>\n",
       "    <tr>\n",
       "      <th>6603710</th>\n",
       "      <td>1112347101</td>\n",
       "      <td>X95JX3Q</td>\n",
       "      <td>NaN</td>\n",
       "      <td>NaN</td>\n",
       "      <td>NaN</td>\n",
       "      <td>NaN</td>\n",
       "      <td>NaN</td>\n",
       "      <td>1</td>\n",
       "    </tr>\n",
       "    <tr>\n",
       "      <th>6603711</th>\n",
       "      <td>1112302582</td>\n",
       "      <td>X95JX3Q</td>\n",
       "      <td>NaN</td>\n",
       "      <td>NaN</td>\n",
       "      <td>NaN</td>\n",
       "      <td>NaN</td>\n",
       "      <td>NaN</td>\n",
       "      <td>1</td>\n",
       "    </tr>\n",
       "    <tr>\n",
       "      <th>6603712</th>\n",
       "      <td>1112296005</td>\n",
       "      <td>JBrNMNk</td>\n",
       "      <td>NaN</td>\n",
       "      <td>NaN</td>\n",
       "      <td>NaN</td>\n",
       "      <td>NaN</td>\n",
       "      <td>NaN</td>\n",
       "      <td>1</td>\n",
       "    </tr>\n",
       "    <tr>\n",
       "      <th>6603750</th>\n",
       "      <td>1112369306</td>\n",
       "      <td>2zP6Jd0</td>\n",
       "      <td>NaN</td>\n",
       "      <td>NaN</td>\n",
       "      <td>NaN</td>\n",
       "      <td>NaN</td>\n",
       "      <td>NaN</td>\n",
       "      <td>1</td>\n",
       "    </tr>\n",
       "    <tr>\n",
       "      <th>6603751</th>\n",
       "      <td>1112369825</td>\n",
       "      <td>2zP6J9V</td>\n",
       "      <td>NaN</td>\n",
       "      <td>NaN</td>\n",
       "      <td>NaN</td>\n",
       "      <td>NaN</td>\n",
       "      <td>NaN</td>\n",
       "      <td>1</td>\n",
       "    </tr>\n",
       "  </tbody>\n",
       "</table>\n",
       "<p>273486 rows × 8 columns</p>\n",
       "</div>"
      ],
      "text/plain": [
       "            idaviso idpostulante  sexo_numerico  edad  estado_code  sexo_code  \\\n",
       "700      1112281337       NM1J0z            NaN   NaN          NaN        NaN   \n",
       "701      1112334640       NM1J0z            NaN   NaN          NaN        NaN   \n",
       "702      1112289378       NM1J0z            NaN   NaN          NaN        NaN   \n",
       "703      1112296073       NM1J0z            NaN   NaN          NaN        NaN   \n",
       "704      1112310231       NM1J0z            NaN   NaN          NaN        NaN   \n",
       "705      1112195462       NM1J0z            NaN   NaN          NaN        NaN   \n",
       "706      1112288872       NM1J0z            NaN   NaN          NaN        NaN   \n",
       "707      1112277388       NM1J0z            NaN   NaN          NaN        NaN   \n",
       "708      1112334643       NM1J0z            NaN   NaN          NaN        NaN   \n",
       "709      1112153209       NM1J0z            NaN   NaN          NaN        NaN   \n",
       "710      1112351871       NM1J0z            NaN   NaN          NaN        NaN   \n",
       "711      1112353148       NM1J0z            NaN   NaN          NaN        NaN   \n",
       "712      1112351859       NM1J0z            NaN   NaN          NaN        NaN   \n",
       "713      1112358588       NM1J0z            NaN   NaN          NaN        NaN   \n",
       "714      1112369637       NM1J0z            NaN   NaN          NaN        NaN   \n",
       "715      1112375270       NM1J0z            NaN   NaN          NaN        NaN   \n",
       "716      1112362090       NM1J0z            NaN   NaN          NaN        NaN   \n",
       "717      1112363342       NM1J0z            NaN   NaN          NaN        NaN   \n",
       "718      1112121823       NM1J0z            NaN   NaN          NaN        NaN   \n",
       "719      1112383175       NM1J0z            NaN   NaN          NaN        NaN   \n",
       "720      1112383755       NM1J0z            NaN   NaN          NaN        NaN   \n",
       "721      1112388162       NM1J0z            NaN   NaN          NaN        NaN   \n",
       "722      1112387824       NM1J0z            NaN   NaN          NaN        NaN   \n",
       "723      1112393608       NM1J0z            NaN   NaN          NaN        NaN   \n",
       "724      1111939536       NM1J0z            NaN   NaN          NaN        NaN   \n",
       "725      1112402980       NM1J0z            NaN   NaN          NaN        NaN   \n",
       "726      1112405723       NM1J0z            NaN   NaN          NaN        NaN   \n",
       "727      1112401596       NM1J0z            NaN   NaN          NaN        NaN   \n",
       "728      1112411796       NM1J0z            NaN   NaN          NaN        NaN   \n",
       "729      1112411992       NM1J0z            NaN   NaN          NaN        NaN   \n",
       "...             ...          ...            ...   ...          ...        ...   \n",
       "6603507  1112206318      ekOwarj            NaN   NaN          NaN        NaN   \n",
       "6603508  1112364820      RzrQvqx            NaN   NaN          NaN        NaN   \n",
       "6603509  1112368571      RzrQvqx            NaN   NaN          NaN        NaN   \n",
       "6603510  1112369078      RzrQvqx            NaN   NaN          NaN        NaN   \n",
       "6603511  1112363285      RzrQvqx            NaN   NaN          NaN        NaN   \n",
       "6603517  1112361693      Bm5w9ZE            NaN   NaN          NaN        NaN   \n",
       "6603518  1112337924      Bm5w9ZE            NaN   NaN          NaN        NaN   \n",
       "6603535  1111871028      lDLj9L6            NaN   NaN          NaN        NaN   \n",
       "6603536  1112252525      lDLj9L6            NaN   NaN          NaN        NaN   \n",
       "6603537  1111623753      lDLj9L6            NaN   NaN          NaN        NaN   \n",
       "6603538  1112219332      lDLj9L6            NaN   NaN          NaN        NaN   \n",
       "6603539  1112370471      RzrQvvR            NaN   NaN          NaN        NaN   \n",
       "6603544  1111703496      vVja4Rj            NaN   NaN          NaN        NaN   \n",
       "6603584  1112355348      OqrlEVx            NaN   NaN          NaN        NaN   \n",
       "6603585  1112315642      OqrlEVx            NaN   NaN          NaN        NaN   \n",
       "6603603  1112312923      6rPEvoL            NaN   NaN          NaN        NaN   \n",
       "6603604  1112349451      6rPEvoL            NaN   NaN          NaN        NaN   \n",
       "6603613  1111794269      jkjqJ4e            NaN   NaN          NaN        NaN   \n",
       "6603614  1112305639      jkjqJ4e            NaN   NaN          NaN        NaN   \n",
       "6603615  1112368442      jkjqJ4e            NaN   NaN          NaN        NaN   \n",
       "6603616  1112206678      jkjqJ4e            NaN   NaN          NaN        NaN   \n",
       "6603617  1112361940      jkjqJ4e            NaN   NaN          NaN        NaN   \n",
       "6603618  1110391074      jkjqJ4e            NaN   NaN          NaN        NaN   \n",
       "6603619  1112341841      jkjqJ4e            NaN   NaN          NaN        NaN   \n",
       "6603696  1001284385      akjVl35            NaN   NaN          NaN        NaN   \n",
       "6603710  1112347101      X95JX3Q            NaN   NaN          NaN        NaN   \n",
       "6603711  1112302582      X95JX3Q            NaN   NaN          NaN        NaN   \n",
       "6603712  1112296005      JBrNMNk            NaN   NaN          NaN        NaN   \n",
       "6603750  1112369306      2zP6Jd0            NaN   NaN          NaN        NaN   \n",
       "6603751  1112369825      2zP6J9V            NaN   NaN          NaN        NaN   \n",
       "\n",
       "         nombre_code  se_postulo  \n",
       "700              NaN           1  \n",
       "701              NaN           1  \n",
       "702              NaN           1  \n",
       "703              NaN           1  \n",
       "704              NaN           1  \n",
       "705              NaN           1  \n",
       "706              NaN           1  \n",
       "707              NaN           1  \n",
       "708              NaN           1  \n",
       "709              NaN           1  \n",
       "710              NaN           1  \n",
       "711              NaN           1  \n",
       "712              NaN           1  \n",
       "713              NaN           1  \n",
       "714              NaN           1  \n",
       "715              NaN           1  \n",
       "716              NaN           1  \n",
       "717              NaN           1  \n",
       "718              NaN           1  \n",
       "719              NaN           1  \n",
       "720              NaN           1  \n",
       "721              NaN           1  \n",
       "722              NaN           1  \n",
       "723              NaN           1  \n",
       "724              NaN           1  \n",
       "725              NaN           1  \n",
       "726              NaN           1  \n",
       "727              NaN           1  \n",
       "728              NaN           1  \n",
       "729              NaN           1  \n",
       "...              ...         ...  \n",
       "6603507          NaN           1  \n",
       "6603508          NaN           1  \n",
       "6603509          NaN           1  \n",
       "6603510          NaN           1  \n",
       "6603511          NaN           1  \n",
       "6603517          NaN           1  \n",
       "6603518          NaN           1  \n",
       "6603535          NaN           1  \n",
       "6603536          NaN           1  \n",
       "6603537          NaN           1  \n",
       "6603538          NaN           1  \n",
       "6603539          NaN           1  \n",
       "6603544          NaN           1  \n",
       "6603584          NaN           1  \n",
       "6603585          NaN           1  \n",
       "6603603          NaN           1  \n",
       "6603604          NaN           1  \n",
       "6603613          NaN           1  \n",
       "6603614          NaN           1  \n",
       "6603615          NaN           1  \n",
       "6603616          NaN           1  \n",
       "6603617          NaN           1  \n",
       "6603618          NaN           1  \n",
       "6603619          NaN           1  \n",
       "6603696          NaN           1  \n",
       "6603710          NaN           1  \n",
       "6603711          NaN           1  \n",
       "6603712          NaN           1  \n",
       "6603750          NaN           1  \n",
       "6603751          NaN           1  \n",
       "\n",
       "[273486 rows x 8 columns]"
      ]
     },
     "execution_count": 21,
     "metadata": {},
     "output_type": "execute_result"
    }
   ],
   "source": [
    "merge_postulaciones[merge_postulaciones['edad'].isnull()]"
   ]
  },
  {
   "cell_type": "code",
   "execution_count": 22,
   "metadata": {},
   "outputs": [
    {
     "name": "stdout",
     "output_type": "stream",
     "text": [
      "<class 'pandas.core.frame.DataFrame'>\n",
      "Int64Index: 6330266 entries, 0 to 6603749\n",
      "Data columns (total 8 columns):\n",
      "idaviso          uint32\n",
      "idpostulante     object\n",
      "sexo_numerico    float64\n",
      "edad             uint16\n",
      "estado_code      uint8\n",
      "sexo_code        uint8\n",
      "nombre_code      uint8\n",
      "se_postulo       uint8\n",
      "dtypes: float64(1), object(1), uint16(1), uint32(1), uint8(4)\n",
      "memory usage: 205.3+ MB\n"
     ]
    }
   ],
   "source": [
    "#Me quedo con los registros con todos los datos (por ahora desp ver si se puede usar imputing)\n",
    "merge_sin_nan = merge_postulaciones[merge_postulaciones['nombre_code'].notnull() &\n",
    "                                    merge_postulaciones['estado_code'].notnull() & \n",
    "                                    merge_postulaciones['edad'].notnull()]\n",
    "merge_sin_nan = merge_sin_nan[merge_sin_nan['nombre_code'].notnull() &\n",
    "                                    merge_sin_nan['estado_code'].notnull()]\n",
    "merge_sin_nan[['edad','estado_code','sexo_code','nombre_code']] = merge_sin_nan[['edad','estado_code','sexo_code','nombre_code']].apply(pd.to_numeric,downcast='unsigned')\n",
    "merge_sin_nan.info()"
   ]
  },
  {
   "cell_type": "markdown",
   "metadata": {},
   "source": [
    "# Agrego datos de vistas que serian los postulantes que ven algo y no se postulan"
   ]
  },
  {
   "cell_type": "code",
   "execution_count": 23,
   "metadata": {},
   "outputs": [],
   "source": [
    "dtypes = pd.Series({'idAviso': np.dtype('uint32'), 'idpostulante': np.dtype('object')})\n",
    "\n",
    "dtypes_col = dtypes.index\n",
    "dtypes_type = [i.name for i in dtypes.values]\n",
    "\n",
    "column_types = dict(zip(dtypes_col, dtypes_type))\n",
    "\n",
    "vistas = pd.read_csv('/home/fabrizio/env/NaventDatosTP/Data/Vistas/Vistas-merge.csv',dtype=column_types,parse_dates=['timestamp'],\n",
    "                     infer_datetime_format=True)\n",
    "vistas = vistas.drop(columns=['Unnamed: 0'])\n",
    "#Considero unica vista de aviso por postulante (no me importa ni horario ni cantidad solo que lo vea)\n",
    "vistas.drop(columns=['timestamp'],inplace=True)\n",
    "vistas.drop_duplicates(subset=['idAviso','idpostulante'],inplace=True)\n",
    "vistas['se_postulo'] = 0\n",
    "vistas['se_postulo'] = vistas[['se_postulo']].apply(pd.to_numeric,downcast='unsigned')"
   ]
  },
  {
   "cell_type": "code",
   "execution_count": 24,
   "metadata": {},
   "outputs": [
    {
     "name": "stdout",
     "output_type": "stream",
     "text": [
      "<class 'pandas.core.frame.DataFrame'>\n",
      "Index: 8597915 entries, 0 to 8597914\n",
      "Data columns (total 3 columns):\n",
      "idaviso         uint32\n",
      "idpostulante    object\n",
      "se_postulo      uint8\n",
      "dtypes: object(1), uint32(1), uint8(1)\n",
      "memory usage: 172.2+ MB\n"
     ]
    }
   ],
   "source": [
    "vistas.rename(index=str,columns={'idAviso':'idaviso'},inplace=True)\n",
    "vistas.info()"
   ]
  },
  {
   "cell_type": "markdown",
   "metadata": {},
   "source": [
    "# Agrego datos de avisos y lo mergeo con las vistas y las postulaciones"
   ]
  },
  {
   "cell_type": "code",
   "execution_count": 25,
   "metadata": {},
   "outputs": [],
   "source": [
    "avisos = pd.read_csv('/home/fabrizio/env/NaventDatosTP/Data/optimized_avisos_detalle.csv')\n",
    "avisos.drop(columns=['Unnamed: 0'],axis=1,inplace=True)"
   ]
  },
  {
   "cell_type": "code",
   "execution_count": 26,
   "metadata": {},
   "outputs": [
    {
     "data": {
      "text/plain": [
       "idaviso                      0\n",
       "nombre_area_code             0\n",
       "denominacion_empresa_code    0\n",
       "nivel_laboral_code           0\n",
       "tipo_de_trabajo_code         0\n",
       "nombre_zona_code             0\n",
       "dtype: int64"
      ]
     },
     "execution_count": 26,
     "metadata": {},
     "output_type": "execute_result"
    }
   ],
   "source": [
    "avisos.isnull().sum()"
   ]
  },
  {
   "cell_type": "code",
   "execution_count": 27,
   "metadata": {},
   "outputs": [],
   "source": [
    "#Hago un merge de avisos y vistas\n",
    "vistas_y_avisos = pd.merge(vistas,avisos,how='inner',on='idaviso')"
   ]
  },
  {
   "cell_type": "code",
   "execution_count": 28,
   "metadata": {},
   "outputs": [
    {
     "name": "stdout",
     "output_type": "stream",
     "text": [
      "<class 'pandas.core.frame.DataFrame'>\n",
      "Int64Index: 5542237 entries, 0 to 5542236\n",
      "Data columns (total 8 columns):\n",
      "idaviso                      uint32\n",
      "idpostulante                 object\n",
      "se_postulo                   uint8\n",
      "nombre_area_code             uint8\n",
      "denominacion_empresa_code    uint16\n",
      "nivel_laboral_code           uint8\n",
      "tipo_de_trabajo_code         uint8\n",
      "nombre_zona_code             uint8\n",
      "dtypes: object(1), uint16(1), uint32(1), uint8(5)\n",
      "memory usage: 142.7+ MB\n"
     ]
    }
   ],
   "source": [
    "vistas_y_avisos[['nombre_area_code','denominacion_empresa_code','nivel_laboral_code','tipo_de_trabajo_code',\n",
    "                'nombre_zona_code']] = vistas_y_avisos[['nombre_area_code','denominacion_empresa_code','nivel_laboral_code','tipo_de_trabajo_code',\n",
    "                'nombre_zona_code']].apply(pd.to_numeric,downcast='unsigned')\n",
    "vistas_y_avisos.info()"
   ]
  },
  {
   "cell_type": "code",
   "execution_count": null,
   "metadata": {},
   "outputs": [],
   "source": [
    "merge_sin_nan = pd.merge(merge_sin_nan,avisos,how='inner',on='idaviso')"
   ]
  },
  {
   "cell_type": "markdown",
   "metadata": {},
   "source": [
    "# Merge de todos"
   ]
  },
  {
   "cell_type": "code",
   "execution_count": 29,
   "metadata": {},
   "outputs": [],
   "source": [
    "#Puede que haya vistas que enrealidad el postulante luego se postulo asi que verifico con el dataset merge\n",
    "outer = pd.merge(merge_sin_nan,vistas_y_avisos,how='outer',on=['idaviso','idpostulante'])"
   ]
  },
  {
   "cell_type": "code",
   "execution_count": 30,
   "metadata": {},
   "outputs": [
    {
     "data": {
      "text/plain": [
       "1.0    6330266\n",
       "Name: se_postulo_x, dtype: int64"
      ]
     },
     "execution_count": 30,
     "metadata": {},
     "output_type": "execute_result"
    }
   ],
   "source": [
    "outer.se_postulo_x.value_counts()"
   ]
  },
  {
   "cell_type": "code",
   "execution_count": 31,
   "metadata": {},
   "outputs": [
    {
     "data": {
      "text/plain": [
       "0.0    5542237\n",
       "Name: se_postulo_y, dtype: int64"
      ]
     },
     "execution_count": 31,
     "metadata": {},
     "output_type": "execute_result"
    }
   ],
   "source": [
    "outer.se_postulo_y.value_counts()"
   ]
  },
  {
   "cell_type": "code",
   "execution_count": 32,
   "metadata": {},
   "outputs": [],
   "source": [
    "outer['se_postulo_x'].fillna(0, inplace=True)\n",
    "outer['se_postulo_y'].fillna(0, inplace=True)"
   ]
  },
  {
   "cell_type": "code",
   "execution_count": 33,
   "metadata": {},
   "outputs": [
    {
     "data": {
      "text/plain": [
       "1.0    6330266\n",
       "0.0    3864754\n",
       "Name: se_postulo_x, dtype: int64"
      ]
     },
     "execution_count": 33,
     "metadata": {},
     "output_type": "execute_result"
    }
   ],
   "source": [
    "outer.se_postulo_x.value_counts()"
   ]
  },
  {
   "cell_type": "code",
   "execution_count": 34,
   "metadata": {},
   "outputs": [],
   "source": [
    "outer['se_postulo'] = outer['se_postulo_x'] + outer['se_postulo_y']"
   ]
  },
  {
   "cell_type": "code",
   "execution_count": 35,
   "metadata": {},
   "outputs": [
    {
     "data": {
      "text/plain": [
       "1.0    6330266\n",
       "0.0    3864754\n",
       "Name: se_postulo, dtype: int64"
      ]
     },
     "execution_count": 35,
     "metadata": {},
     "output_type": "execute_result"
    }
   ],
   "source": [
    "outer.se_postulo.value_counts()"
   ]
  },
  {
   "cell_type": "code",
   "execution_count": 36,
   "metadata": {},
   "outputs": [
    {
     "data": {
      "text/plain": [
       "idaviso                            0\n",
       "idpostulante                       0\n",
       "sexo_numerico                3864754\n",
       "edad                         3864754\n",
       "estado_code                  3864754\n",
       "sexo_code                    3864754\n",
       "nombre_code                  3864754\n",
       "se_postulo_x                       0\n",
       "se_postulo_y                       0\n",
       "nombre_area_code             4652783\n",
       "denominacion_empresa_code    4652783\n",
       "nivel_laboral_code           4652783\n",
       "tipo_de_trabajo_code         4652783\n",
       "nombre_zona_code             4652783\n",
       "se_postulo                         0\n",
       "dtype: int64"
      ]
     },
     "execution_count": 36,
     "metadata": {},
     "output_type": "execute_result"
    }
   ],
   "source": [
    "outer.isnull().sum()"
   ]
  },
  {
   "cell_type": "code",
   "execution_count": 37,
   "metadata": {},
   "outputs": [],
   "source": [
    "#Me quedo con los registros con todos los datos (por ahora desp ver si se puede usar imputing)\n",
    "outer1 = outer[outer['nombre_code'].notnull() &\n",
    "            outer['estado_code'].notnull() & \n",
    "            outer['edad'].notnull()]"
   ]
  },
  {
   "cell_type": "code",
   "execution_count": 38,
   "metadata": {},
   "outputs": [],
   "source": [
    "outer2 = outer[outer['nombre_area_code'].notnull() &\n",
    "             outer['denominacion_empresa_code'].notnull() &\n",
    "             outer['nivel_laboral_code'].notnull() &\n",
    "             outer['tipo_de_trabajo_code'].notnull() &\n",
    "             outer['nombre_zona_code'].notnull()]"
   ]
  },
  {
   "cell_type": "code",
   "execution_count": 41,
   "metadata": {},
   "outputs": [],
   "source": [
    "outer = outer[outer['nombre_code'].notnull() &\n",
    "            outer['estado_code'].notnull() & \n",
    "            outer['edad'].notnull() &]\n",
    "\n",
    "outer1.info()\n"
   ]
  },
  {
   "cell_type": "code",
   "execution_count": null,
   "metadata": {},
   "outputs": [],
   "source": [
    "outer2 = outer[outer['nombre_area_code'].notnull() &\n",
    "             outer['denominacion_empresa_code'].notnull() &\n",
    "             outer['nivel_laboral_code'].notnull() &\n",
    "             outer['tipo_de_trabajo_code'].notnull() &\n",
    "             outer['nombre_zona_code'].notnull()] "
   ]
  },
  {
   "cell_type": "code",
   "execution_count": 40,
   "metadata": {},
   "outputs": [
    {
     "data": {
      "text/plain": [
       "idaviso                            0\n",
       "idpostulante                       0\n",
       "sexo_numerico                3864754\n",
       "edad                         3864754\n",
       "estado_code                  3864754\n",
       "sexo_code                    3864754\n",
       "nombre_code                  3864754\n",
       "se_postulo_x                       0\n",
       "se_postulo_y                       0\n",
       "nombre_area_code                   0\n",
       "denominacion_empresa_code          0\n",
       "nivel_laboral_code                 0\n",
       "tipo_de_trabajo_code               0\n",
       "nombre_zona_code                   0\n",
       "se_postulo                         0\n",
       "dtype: int64"
      ]
     },
     "execution_count": 40,
     "metadata": {},
     "output_type": "execute_result"
    }
   ],
   "source": [
    "outer2.isnull().sum()"
   ]
  },
  {
   "cell_type": "code",
   "execution_count": 43,
   "metadata": {},
   "outputs": [],
   "source": [
    "#Dejo solo los que no aparecen ya en postulaciones\n",
    "trainingSet = outer"
   ]
  },
  {
   "cell_type": "code",
   "execution_count": null,
   "metadata": {},
   "outputs": [],
   "source": [
    "trainingSet"
   ]
  },
  {
   "cell_type": "code",
   "execution_count": null,
   "metadata": {},
   "outputs": [],
   "source": [
    "trainingSet.se_postulo_y.value_counts()"
   ]
  },
  {
   "cell_type": "code",
   "execution_count": null,
   "metadata": {},
   "outputs": [],
   "source": [
    "trainingSet['se_postulo'] = trainingSet['se_postulo_x'] + trainingSet['se_postulo_y']"
   ]
  },
  {
   "cell_type": "code",
   "execution_count": null,
   "metadata": {},
   "outputs": [],
   "source": [
    "trainingSet.se_postulo.value_counts()"
   ]
  },
  {
   "cell_type": "code",
   "execution_count": 44,
   "metadata": {},
   "outputs": [],
   "source": [
    "trainingSet.drop('se_postulo_x',axis=1,inplace=True)\n",
    "trainingSet.drop('se_postulo_y',axis=1,inplace=True)\n",
    "#trainingSet.rename(index=str,columns={'se_postulo_y':'se_postulo'},inplace=True)"
   ]
  },
  {
   "cell_type": "code",
   "execution_count": 45,
   "metadata": {},
   "outputs": [
    {
     "data": {
      "text/plain": [
       "1.0    1677483\n",
       "Name: se_postulo, dtype: int64"
      ]
     },
     "execution_count": 45,
     "metadata": {},
     "output_type": "execute_result"
    }
   ],
   "source": [
    "trainingSet.se_postulo.value_counts()"
   ]
  },
  {
   "cell_type": "code",
   "execution_count": 46,
   "metadata": {},
   "outputs": [],
   "source": [
    "postMasVistas = pd.concat([trainingSet,merge_sin_nan])"
   ]
  },
  {
   "cell_type": "code",
   "execution_count": 47,
   "metadata": {},
   "outputs": [
    {
     "data": {
      "text/plain": [
       "denominacion_empresa_code    6330266\n",
       "edad                               0\n",
       "estado_code                        0\n",
       "idaviso                            0\n",
       "idpostulante                       0\n",
       "nivel_laboral_code           6330266\n",
       "nombre_area_code             6330266\n",
       "nombre_code                        0\n",
       "nombre_zona_code             6330266\n",
       "se_postulo                         0\n",
       "sexo_code                          0\n",
       "sexo_numerico                      0\n",
       "tipo_de_trabajo_code         6330266\n",
       "dtype: int64"
      ]
     },
     "execution_count": 47,
     "metadata": {},
     "output_type": "execute_result"
    }
   ],
   "source": [
    "postMasVistas.isnull().sum()"
   ]
  },
  {
   "cell_type": "code",
   "execution_count": 48,
   "metadata": {},
   "outputs": [],
   "source": [
    "postMasVistas = postMasVistas[postMasVistas['denominacion_empresa_code'].notnull() &\n",
    "                             postMasVistas['nivel_laboral_code'].notnull() &\n",
    "                             postMasVistas['nombre_area_code'].notnull() &\n",
    "                             postMasVistas['nombre_zona_code'].notnull() &\n",
    "                             postMasVistas['tipo_de_trabajo_code'].notnull()]"
   ]
  },
  {
   "cell_type": "code",
   "execution_count": 49,
   "metadata": {},
   "outputs": [
    {
     "data": {
      "text/plain": [
       "denominacion_empresa_code    0\n",
       "edad                         0\n",
       "estado_code                  0\n",
       "idaviso                      0\n",
       "idpostulante                 0\n",
       "nivel_laboral_code           0\n",
       "nombre_area_code             0\n",
       "nombre_code                  0\n",
       "nombre_zona_code             0\n",
       "se_postulo                   0\n",
       "sexo_code                    0\n",
       "sexo_numerico                0\n",
       "tipo_de_trabajo_code         0\n",
       "dtype: int64"
      ]
     },
     "execution_count": 49,
     "metadata": {},
     "output_type": "execute_result"
    }
   ],
   "source": [
    "postMasVistas.isnull().sum()"
   ]
  },
  {
   "cell_type": "code",
   "execution_count": 50,
   "metadata": {},
   "outputs": [
    {
     "data": {
      "text/plain": [
       "1.0    1677483\n",
       "Name: se_postulo, dtype: int64"
      ]
     },
     "execution_count": 50,
     "metadata": {},
     "output_type": "execute_result"
    }
   ],
   "source": [
    "postMasVistas.se_postulo.value_counts()"
   ]
  },
  {
   "cell_type": "code",
   "execution_count": 51,
   "metadata": {},
   "outputs": [],
   "source": [
    "#postMasVistas.to_csv('/home/fabrizio/env/NaventDatosTP/Data/postulaciones_mas_vistas_mas_avisos.csv')"
   ]
  },
  {
   "cell_type": "code",
   "execution_count": 56,
   "metadata": {},
   "outputs": [
    {
     "name": "stdout",
     "output_type": "stream",
     "text": [
      "<class 'pandas.core.frame.DataFrame'>\n",
      "Int64Index: 1677483 entries, 23 to 6330265\n",
      "Data columns (total 13 columns):\n",
      "denominacion_empresa_code    1677483 non-null float64\n",
      "edad                         1677483 non-null float64\n",
      "estado_code                  1677483 non-null float64\n",
      "idaviso                      1677483 non-null uint64\n",
      "idpostulante                 1677483 non-null object\n",
      "nivel_laboral_code           1677483 non-null float64\n",
      "nombre_area_code             1677483 non-null float64\n",
      "nombre_code                  1677483 non-null float64\n",
      "nombre_zona_code             1677483 non-null float64\n",
      "se_postulo                   1677483 non-null float64\n",
      "sexo_code                    1677483 non-null float64\n",
      "sexo_numerico                1677483 non-null float64\n",
      "tipo_de_trabajo_code         1677483 non-null float64\n",
      "dtypes: float64(11), object(1), uint64(1)\n",
      "memory usage: 179.2+ MB\n"
     ]
    }
   ],
   "source": [
    "postMasVistas.info()"
   ]
  },
  {
   "cell_type": "code",
   "execution_count": 57,
   "metadata": {},
   "outputs": [],
   "source": [
    "postMasVistasCopiaSinPostulanteParaCorr = postMasVistas.drop('idpostulante',axis=1)"
   ]
  },
  {
   "cell_type": "code",
   "execution_count": 58,
   "metadata": {},
   "outputs": [],
   "source": [
    "postMasVistasCopiaSinPostulanteParaCorr = postMasVistasCopiaSinPostulanteParaCorr.drop('idaviso',axis=1)"
   ]
  },
  {
   "cell_type": "code",
   "execution_count": 59,
   "metadata": {},
   "outputs": [
    {
     "name": "stdout",
     "output_type": "stream",
     "text": [
      "<class 'pandas.core.frame.DataFrame'>\n",
      "Int64Index: 1677483 entries, 23 to 6330265\n",
      "Data columns (total 11 columns):\n",
      "denominacion_empresa_code    1677483 non-null float64\n",
      "edad                         1677483 non-null float64\n",
      "estado_code                  1677483 non-null float64\n",
      "nivel_laboral_code           1677483 non-null float64\n",
      "nombre_area_code             1677483 non-null float64\n",
      "nombre_code                  1677483 non-null float64\n",
      "nombre_zona_code             1677483 non-null float64\n",
      "se_postulo                   1677483 non-null float64\n",
      "sexo_code                    1677483 non-null float64\n",
      "sexo_numerico                1677483 non-null float64\n",
      "tipo_de_trabajo_code         1677483 non-null float64\n",
      "dtypes: float64(11)\n",
      "memory usage: 153.6 MB\n"
     ]
    }
   ],
   "source": [
    "postMasVistasCopiaSinPostulanteParaCorr.info()"
   ]
  },
  {
   "cell_type": "code",
   "execution_count": 61,
   "metadata": {},
   "outputs": [
    {
     "data": {
      "text/html": [
       "<div>\n",
       "<style scoped>\n",
       "    .dataframe tbody tr th:only-of-type {\n",
       "        vertical-align: middle;\n",
       "    }\n",
       "\n",
       "    .dataframe tbody tr th {\n",
       "        vertical-align: top;\n",
       "    }\n",
       "\n",
       "    .dataframe thead th {\n",
       "        text-align: right;\n",
       "    }\n",
       "</style>\n",
       "<table border=\"1\" class=\"dataframe\">\n",
       "  <thead>\n",
       "    <tr style=\"text-align: right;\">\n",
       "      <th></th>\n",
       "      <th>denominacion_empresa_code</th>\n",
       "      <th>edad</th>\n",
       "      <th>estado_code</th>\n",
       "      <th>nivel_laboral_code</th>\n",
       "      <th>nombre_area_code</th>\n",
       "      <th>nombre_code</th>\n",
       "      <th>nombre_zona_code</th>\n",
       "      <th>se_postulo</th>\n",
       "      <th>sexo_code</th>\n",
       "      <th>sexo_numerico</th>\n",
       "      <th>tipo_de_trabajo_code</th>\n",
       "    </tr>\n",
       "  </thead>\n",
       "  <tbody>\n",
       "    <tr>\n",
       "      <th>denominacion_empresa_code</th>\n",
       "      <td>1.000000</td>\n",
       "      <td>0.011088</td>\n",
       "      <td>0.000296</td>\n",
       "      <td>-0.029774</td>\n",
       "      <td>-0.026993</td>\n",
       "      <td>0.001183</td>\n",
       "      <td>-0.073862</td>\n",
       "      <td>NaN</td>\n",
       "      <td>0.005257</td>\n",
       "      <td>0.005173</td>\n",
       "      <td>-0.014021</td>\n",
       "    </tr>\n",
       "    <tr>\n",
       "      <th>edad</th>\n",
       "      <td>0.011088</td>\n",
       "      <td>1.000000</td>\n",
       "      <td>0.059053</td>\n",
       "      <td>-0.010369</td>\n",
       "      <td>-0.029921</td>\n",
       "      <td>-0.061595</td>\n",
       "      <td>0.001050</td>\n",
       "      <td>NaN</td>\n",
       "      <td>0.087349</td>\n",
       "      <td>0.082083</td>\n",
       "      <td>-0.063310</td>\n",
       "    </tr>\n",
       "    <tr>\n",
       "      <th>estado_code</th>\n",
       "      <td>0.000296</td>\n",
       "      <td>0.059053</td>\n",
       "      <td>1.000000</td>\n",
       "      <td>0.014081</td>\n",
       "      <td>0.039937</td>\n",
       "      <td>-0.351224</td>\n",
       "      <td>0.009062</td>\n",
       "      <td>NaN</td>\n",
       "      <td>0.056156</td>\n",
       "      <td>0.053730</td>\n",
       "      <td>-0.039240</td>\n",
       "    </tr>\n",
       "    <tr>\n",
       "      <th>nivel_laboral_code</th>\n",
       "      <td>-0.029774</td>\n",
       "      <td>-0.010369</td>\n",
       "      <td>0.014081</td>\n",
       "      <td>1.000000</td>\n",
       "      <td>0.057038</td>\n",
       "      <td>-0.022599</td>\n",
       "      <td>0.080106</td>\n",
       "      <td>NaN</td>\n",
       "      <td>-0.031285</td>\n",
       "      <td>-0.031078</td>\n",
       "      <td>-0.065426</td>\n",
       "    </tr>\n",
       "    <tr>\n",
       "      <th>nombre_area_code</th>\n",
       "      <td>-0.026993</td>\n",
       "      <td>-0.029921</td>\n",
       "      <td>0.039937</td>\n",
       "      <td>0.057038</td>\n",
       "      <td>1.000000</td>\n",
       "      <td>-0.080921</td>\n",
       "      <td>0.032350</td>\n",
       "      <td>NaN</td>\n",
       "      <td>0.000442</td>\n",
       "      <td>0.000381</td>\n",
       "      <td>0.021906</td>\n",
       "    </tr>\n",
       "    <tr>\n",
       "      <th>nombre_code</th>\n",
       "      <td>0.001183</td>\n",
       "      <td>-0.061595</td>\n",
       "      <td>-0.351224</td>\n",
       "      <td>-0.022599</td>\n",
       "      <td>-0.080921</td>\n",
       "      <td>1.000000</td>\n",
       "      <td>-0.012481</td>\n",
       "      <td>NaN</td>\n",
       "      <td>-0.083417</td>\n",
       "      <td>-0.080161</td>\n",
       "      <td>0.023432</td>\n",
       "    </tr>\n",
       "    <tr>\n",
       "      <th>nombre_zona_code</th>\n",
       "      <td>-0.073862</td>\n",
       "      <td>0.001050</td>\n",
       "      <td>0.009062</td>\n",
       "      <td>0.080106</td>\n",
       "      <td>0.032350</td>\n",
       "      <td>-0.012481</td>\n",
       "      <td>1.000000</td>\n",
       "      <td>NaN</td>\n",
       "      <td>0.001660</td>\n",
       "      <td>0.001508</td>\n",
       "      <td>-0.008008</td>\n",
       "    </tr>\n",
       "    <tr>\n",
       "      <th>se_postulo</th>\n",
       "      <td>NaN</td>\n",
       "      <td>NaN</td>\n",
       "      <td>NaN</td>\n",
       "      <td>NaN</td>\n",
       "      <td>NaN</td>\n",
       "      <td>NaN</td>\n",
       "      <td>NaN</td>\n",
       "      <td>NaN</td>\n",
       "      <td>NaN</td>\n",
       "      <td>NaN</td>\n",
       "      <td>NaN</td>\n",
       "    </tr>\n",
       "    <tr>\n",
       "      <th>sexo_code</th>\n",
       "      <td>0.005257</td>\n",
       "      <td>0.087349</td>\n",
       "      <td>0.056156</td>\n",
       "      <td>-0.031285</td>\n",
       "      <td>0.000442</td>\n",
       "      <td>-0.083417</td>\n",
       "      <td>0.001660</td>\n",
       "      <td>NaN</td>\n",
       "      <td>1.000000</td>\n",
       "      <td>0.964310</td>\n",
       "      <td>-0.071786</td>\n",
       "    </tr>\n",
       "    <tr>\n",
       "      <th>sexo_numerico</th>\n",
       "      <td>0.005173</td>\n",
       "      <td>0.082083</td>\n",
       "      <td>0.053730</td>\n",
       "      <td>-0.031078</td>\n",
       "      <td>0.000381</td>\n",
       "      <td>-0.080161</td>\n",
       "      <td>0.001508</td>\n",
       "      <td>NaN</td>\n",
       "      <td>0.964310</td>\n",
       "      <td>1.000000</td>\n",
       "      <td>-0.071482</td>\n",
       "    </tr>\n",
       "    <tr>\n",
       "      <th>tipo_de_trabajo_code</th>\n",
       "      <td>-0.014021</td>\n",
       "      <td>-0.063310</td>\n",
       "      <td>-0.039240</td>\n",
       "      <td>-0.065426</td>\n",
       "      <td>0.021906</td>\n",
       "      <td>0.023432</td>\n",
       "      <td>-0.008008</td>\n",
       "      <td>NaN</td>\n",
       "      <td>-0.071786</td>\n",
       "      <td>-0.071482</td>\n",
       "      <td>1.000000</td>\n",
       "    </tr>\n",
       "  </tbody>\n",
       "</table>\n",
       "</div>"
      ],
      "text/plain": [
       "                           denominacion_empresa_code      edad  estado_code  \\\n",
       "denominacion_empresa_code                   1.000000  0.011088     0.000296   \n",
       "edad                                        0.011088  1.000000     0.059053   \n",
       "estado_code                                 0.000296  0.059053     1.000000   \n",
       "nivel_laboral_code                         -0.029774 -0.010369     0.014081   \n",
       "nombre_area_code                           -0.026993 -0.029921     0.039937   \n",
       "nombre_code                                 0.001183 -0.061595    -0.351224   \n",
       "nombre_zona_code                           -0.073862  0.001050     0.009062   \n",
       "se_postulo                                       NaN       NaN          NaN   \n",
       "sexo_code                                   0.005257  0.087349     0.056156   \n",
       "sexo_numerico                               0.005173  0.082083     0.053730   \n",
       "tipo_de_trabajo_code                       -0.014021 -0.063310    -0.039240   \n",
       "\n",
       "                           nivel_laboral_code  nombre_area_code  nombre_code  \\\n",
       "denominacion_empresa_code           -0.029774         -0.026993     0.001183   \n",
       "edad                                -0.010369         -0.029921    -0.061595   \n",
       "estado_code                          0.014081          0.039937    -0.351224   \n",
       "nivel_laboral_code                   1.000000          0.057038    -0.022599   \n",
       "nombre_area_code                     0.057038          1.000000    -0.080921   \n",
       "nombre_code                         -0.022599         -0.080921     1.000000   \n",
       "nombre_zona_code                     0.080106          0.032350    -0.012481   \n",
       "se_postulo                                NaN               NaN          NaN   \n",
       "sexo_code                           -0.031285          0.000442    -0.083417   \n",
       "sexo_numerico                       -0.031078          0.000381    -0.080161   \n",
       "tipo_de_trabajo_code                -0.065426          0.021906     0.023432   \n",
       "\n",
       "                           nombre_zona_code  se_postulo  sexo_code  \\\n",
       "denominacion_empresa_code         -0.073862         NaN   0.005257   \n",
       "edad                               0.001050         NaN   0.087349   \n",
       "estado_code                        0.009062         NaN   0.056156   \n",
       "nivel_laboral_code                 0.080106         NaN  -0.031285   \n",
       "nombre_area_code                   0.032350         NaN   0.000442   \n",
       "nombre_code                       -0.012481         NaN  -0.083417   \n",
       "nombre_zona_code                   1.000000         NaN   0.001660   \n",
       "se_postulo                              NaN         NaN        NaN   \n",
       "sexo_code                          0.001660         NaN   1.000000   \n",
       "sexo_numerico                      0.001508         NaN   0.964310   \n",
       "tipo_de_trabajo_code              -0.008008         NaN  -0.071786   \n",
       "\n",
       "                           sexo_numerico  tipo_de_trabajo_code  \n",
       "denominacion_empresa_code       0.005173             -0.014021  \n",
       "edad                            0.082083             -0.063310  \n",
       "estado_code                     0.053730             -0.039240  \n",
       "nivel_laboral_code             -0.031078             -0.065426  \n",
       "nombre_area_code                0.000381              0.021906  \n",
       "nombre_code                    -0.080161              0.023432  \n",
       "nombre_zona_code                0.001508             -0.008008  \n",
       "se_postulo                           NaN                   NaN  \n",
       "sexo_code                       0.964310             -0.071786  \n",
       "sexo_numerico                   1.000000             -0.071482  \n",
       "tipo_de_trabajo_code           -0.071482              1.000000  "
      ]
     },
     "execution_count": 61,
     "metadata": {},
     "output_type": "execute_result"
    }
   ],
   "source": [
    "postMasVistasCopiaSinPostulanteParaCorr.corr()"
   ]
  },
  {
   "cell_type": "code",
   "execution_count": 55,
   "metadata": {},
   "outputs": [
    {
     "data": {
      "text/plain": [
       "1.0    1677483\n",
       "Name: se_postulo, dtype: int64"
      ]
     },
     "execution_count": 55,
     "metadata": {},
     "output_type": "execute_result"
    }
   ],
   "source": [
    "postMasVistasCopiaSinPostulanteParaCorr.se_postulo.value_counts()"
   ]
  },
  {
   "cell_type": "code",
   "execution_count": null,
   "metadata": {},
   "outputs": [],
   "source": [
    "#Dropeo las columnas que use para codificar\n",
    "postulantes_merge = postulantes_merge.drop(columns=['sexo','nombre','estado'])\n",
    "postulantes_merge.info()"
   ]
  },
  {
   "cell_type": "code",
   "execution_count": null,
   "metadata": {},
   "outputs": [],
   "source": [
    "postulantes_merge_int = postulantes_merge.select_dtypes(include=['int','float'])\n",
    "converted_int = postulantes_merge_int.apply(pd.to_numeric,downcast='unsigned')\n",
    "\n",
    "print(mem_usage(postulantes_merge_int))\n",
    "print(mem_usage(converted_int))\n",
    "\n",
    "compare_ints = pd.concat([postulantes_merge_int.dtypes,converted_int.dtypes],axis=1)\n",
    "compare_ints.columns = ['before','after']\n",
    "compare_ints.apply(pd.Series.value_counts)"
   ]
  },
  {
   "cell_type": "code",
   "execution_count": null,
   "metadata": {},
   "outputs": [],
   "source": [
    "optimized_postulantes_merge = postulantes_merge.copy()\n",
    "\n",
    "optimized_postulantes_merge[converted_int.columns] = converted_int\n",
    "\n",
    "print(mem_usage(postulantes_merge))\n",
    "print(mem_usage(optimized_postulantes_merge))"
   ]
  },
  {
   "cell_type": "code",
   "execution_count": null,
   "metadata": {},
   "outputs": [],
   "source": [
    "optimized_postulantes_merge.info()"
   ]
  },
  {
   "cell_type": "code",
   "execution_count": null,
   "metadata": {},
   "outputs": [],
   "source": [
    "optimized_postulantes_merge.to_csv('Data/optimized_postulantes_merge.csv')"
   ]
  },
  {
   "cell_type": "code",
   "execution_count": null,
   "metadata": {},
   "outputs": [],
   "source": [
    "intereses_vistas = pd.read_csv('Data/unique_postulantes_con_intereses_vistas.csv')"
   ]
  },
  {
   "cell_type": "code",
   "execution_count": null,
   "metadata": {},
   "outputs": [],
   "source": [
    "intereses_vistas.head()"
   ]
  }
 ],
 "metadata": {
  "kernelspec": {
   "display_name": "Python 3",
   "language": "python",
   "name": "python3"
  },
  "language_info": {
   "codemirror_mode": {
    "name": "ipython",
    "version": 3
   },
   "file_extension": ".py",
   "mimetype": "text/x-python",
   "name": "python",
   "nbconvert_exporter": "python",
   "pygments_lexer": "ipython3",
   "version": "3.6.5"
  }
 },
 "nbformat": 4,
 "nbformat_minor": 2
}
