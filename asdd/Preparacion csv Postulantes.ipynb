{
 "cells": [
  {
   "cell_type": "code",
   "execution_count": 1,
   "metadata": {},
   "outputs": [],
   "source": [
    "import pandas as pd\n",
    "from pandas.api.types import CategoricalDtype\n",
    "import time\n",
    "from datetime import datetime\n",
    "import scipy.spatial\n",
    "import numpy as np\n",
    "from sklearn.preprocessing import LabelEncoder"
   ]
  },
  {
   "cell_type": "code",
   "execution_count": 2,
   "metadata": {},
   "outputs": [],
   "source": [
    "# We're going to be calculating memory usage a lot,\n",
    "# so we'll create a function to save us some time!\n",
    "\n",
    "def mem_usage(pandas_obj):\n",
    "    if isinstance(pandas_obj,pd.DataFrame):\n",
    "        usage_b = pandas_obj.memory_usage(deep=True).sum()\n",
    "    else: # we assume if not a df it's a series\n",
    "        usage_b = pandas_obj.memory_usage(deep=True)\n",
    "    usage_mb = usage_b / 1024 ** 2 # convert bytes to megabytes\n",
    "    return \"{:03.2f} MB\".format(usage_mb)"
   ]
  },
  {
   "cell_type": "code",
   "execution_count": 3,
   "metadata": {},
   "outputs": [],
   "source": [
    "dtypes = pd.Series({'idaviso': np.dtype('uint32'), 'idpostulante': np.dtype('object')})\n",
    "\n",
    "dtypes_col = dtypes.index\n",
    "dtypes_type = [i.name for i in dtypes.values]\n",
    "\n",
    "column_types = dict(zip(dtypes_col, dtypes_type))\n",
    "postulaciones = pd.read_csv('Data/Postulaciones/Postulaciones-merge.csv',\n",
    "                            dtype=column_types,parse_dates=['fechapostulacion'],infer_datetime_format=True)\n",
    "postulaciones = postulaciones.drop(columns=postulaciones.columns[0])"
   ]
  },
  {
   "cell_type": "code",
   "execution_count": 4,
   "metadata": {},
   "outputs": [
    {
     "name": "stdout",
     "output_type": "stream",
     "text": [
      "<class 'pandas.core.frame.DataFrame'>\n",
      "RangeIndex: 6603752 entries, 0 to 6603751\n",
      "Data columns (total 3 columns):\n",
      "idaviso             uint32\n",
      "idpostulante        object\n",
      "fechapostulacion    datetime64[ns]\n",
      "dtypes: datetime64[ns](1), object(1), uint32(1)\n",
      "memory usage: 126.0+ MB\n"
     ]
    }
   ],
   "source": [
    "postulaciones.info()"
   ]
  },
  {
   "cell_type": "code",
   "execution_count": 5,
   "metadata": {},
   "outputs": [],
   "source": [
    "dtypes = pd.Series({'idpostulante': np.dtype('object'), 'sexo': CategoricalDtype(categories=['FEM', 'MASC', 'NO_DECLARA'], ordered=False)})\n",
    "\n",
    "dtypes_col = dtypes.index\n",
    "dtypes_type = [i.name for i in dtypes.values]\n",
    "\n",
    "column_types = dict(zip(dtypes_col, dtypes_type))\n",
    "\n",
    "postulantes_genero_edad = pd.read_csv('Data/Postulantes-Genero-Edad/postulantes_genero_y_edad-merge.csv',\n",
    "                                    dtype=column_types,parse_dates=['fechanacimiento'],\n",
    "                                      infer_datetime_format=True)\n",
    "postulantes_genero_edad = postulantes_genero_edad.drop(columns=['Unnamed: 0'])"
   ]
  },
  {
   "cell_type": "code",
   "execution_count": 6,
   "metadata": {},
   "outputs": [],
   "source": [
    "dtypes = pd.Series({'estado': CategoricalDtype(categories=['Abandonado', 'En Curso', 'Graduado'], ordered=False), 'idpostulante': np.dtype('object'),\n",
    "                    'nombre': CategoricalDtype(categories=['Doctorado', 'Master', 'Otro', 'Posgrado', 'Secundario',\n",
    "                  'Terciario/Técnico', 'Universitario'],\n",
    "                 ordered=False)})\n",
    "\n",
    "\n",
    "dtypes_col = dtypes.index\n",
    "dtypes_type = [i.name for i in dtypes.values]\n",
    "\n",
    "column_types = dict(zip(dtypes_col, dtypes_type))\n",
    "\n",
    "postulantes_educacion = pd.read_csv('Data/Postulantes-Educacion/postulantes_educacion-merge.csv',\n",
    "                                    dtype=column_types)\n",
    "postulantes_educacion = postulantes_educacion.drop(columns=['Unnamed: 0','nombre_numerico'])"
   ]
  },
  {
   "cell_type": "code",
   "execution_count": 7,
   "metadata": {},
   "outputs": [],
   "source": [
    "#Hago un merge de educacion y genero-edad\n",
    "postulantes_merge = pd.merge(postulantes_genero_edad,postulantes_educacion,how='left',on='idpostulante')"
   ]
  },
  {
   "cell_type": "code",
   "execution_count": 8,
   "metadata": {},
   "outputs": [
    {
     "name": "stdout",
     "output_type": "stream",
     "text": [
      "<class 'pandas.core.frame.DataFrame'>\n",
      "Int64Index: 504407 entries, 0 to 504406\n",
      "Data columns (total 5 columns):\n",
      "idpostulante       504407 non-null object\n",
      "fechanacimiento    504407 non-null object\n",
      "sexo               504407 non-null category\n",
      "nombre             447909 non-null category\n",
      "estado             447909 non-null category\n",
      "dtypes: category(3), object(2)\n",
      "memory usage: 13.0+ MB\n"
     ]
    }
   ],
   "source": [
    "postulantes_merge.info()"
   ]
  },
  {
   "cell_type": "code",
   "execution_count": 9,
   "metadata": {},
   "outputs": [
    {
     "data": {
      "text/html": [
       "<div>\n",
       "<style scoped>\n",
       "    .dataframe tbody tr th:only-of-type {\n",
       "        vertical-align: middle;\n",
       "    }\n",
       "\n",
       "    .dataframe tbody tr th {\n",
       "        vertical-align: top;\n",
       "    }\n",
       "\n",
       "    .dataframe thead th {\n",
       "        text-align: right;\n",
       "    }\n",
       "</style>\n",
       "<table border=\"1\" class=\"dataframe\">\n",
       "  <thead>\n",
       "    <tr style=\"text-align: right;\">\n",
       "      <th></th>\n",
       "      <th>idpostulante</th>\n",
       "      <th>fechanacimiento</th>\n",
       "      <th>sexo</th>\n",
       "      <th>nombre</th>\n",
       "      <th>estado</th>\n",
       "    </tr>\n",
       "  </thead>\n",
       "  <tbody>\n",
       "    <tr>\n",
       "      <th>0</th>\n",
       "      <td>6MM</td>\n",
       "      <td>1985-01-01</td>\n",
       "      <td>MASC</td>\n",
       "      <td>NaN</td>\n",
       "      <td>NaN</td>\n",
       "    </tr>\n",
       "    <tr>\n",
       "      <th>1</th>\n",
       "      <td>Nzz</td>\n",
       "      <td>nan</td>\n",
       "      <td>NO_DECLARA</td>\n",
       "      <td>NaN</td>\n",
       "      <td>NaN</td>\n",
       "    </tr>\n",
       "    <tr>\n",
       "      <th>2</th>\n",
       "      <td>ZX1</td>\n",
       "      <td>nan</td>\n",
       "      <td>NO_DECLARA</td>\n",
       "      <td>NaN</td>\n",
       "      <td>NaN</td>\n",
       "    </tr>\n",
       "    <tr>\n",
       "      <th>3</th>\n",
       "      <td>Nq5</td>\n",
       "      <td>nan</td>\n",
       "      <td>NO_DECLARA</td>\n",
       "      <td>NaN</td>\n",
       "      <td>NaN</td>\n",
       "    </tr>\n",
       "    <tr>\n",
       "      <th>4</th>\n",
       "      <td>ebE</td>\n",
       "      <td>1952-07-07</td>\n",
       "      <td>MASC</td>\n",
       "      <td>Posgrado</td>\n",
       "      <td>Graduado</td>\n",
       "    </tr>\n",
       "  </tbody>\n",
       "</table>\n",
       "</div>"
      ],
      "text/plain": [
       "  idpostulante fechanacimiento        sexo    nombre    estado\n",
       "0          6MM      1985-01-01        MASC       NaN       NaN\n",
       "1          Nzz             nan  NO_DECLARA       NaN       NaN\n",
       "2          ZX1             nan  NO_DECLARA       NaN       NaN\n",
       "3          Nq5             nan  NO_DECLARA       NaN       NaN\n",
       "4          ebE      1952-07-07        MASC  Posgrado  Graduado"
      ]
     },
     "execution_count": 9,
     "metadata": {},
     "output_type": "execute_result"
    }
   ],
   "source": [
    "postulantes_merge.head()"
   ]
  },
  {
   "cell_type": "code",
   "execution_count": 10,
   "metadata": {},
   "outputs": [],
   "source": [
    "#Voy a agregar una columna con la edad ya calculada(estimando por 2017-año nacimiento) para cada registro\n",
    "postulantes_merge[\"año\"] = postulantes_merge[postulantes_merge[\"fechanacimiento\"] != 'nan']\\\n",
    "        [\"fechanacimiento\"].apply(lambda x: x[0:4])\n",
    "postulantes_merge[\"edad\"] = postulantes_merge[postulantes_merge[\"año\"].notna()] \\\n",
    "        [\"año\"].apply(lambda x: 2017 - int(x))"
   ]
  },
  {
   "cell_type": "code",
   "execution_count": 11,
   "metadata": {},
   "outputs": [],
   "source": [
    "#Elimino columna fechanacimiento y año que ya no me sirven\n",
    "postulantes_merge = postulantes_merge.drop(columns=['fechanacimiento','año'])"
   ]
  },
  {
   "cell_type": "code",
   "execution_count": 12,
   "metadata": {},
   "outputs": [
    {
     "name": "stdout",
     "output_type": "stream",
     "text": [
      "<class 'pandas.core.frame.DataFrame'>\n",
      "Int64Index: 504407 entries, 0 to 504406\n",
      "Data columns (total 5 columns):\n",
      "idpostulante    504407 non-null object\n",
      "sexo            504407 non-null category\n",
      "nombre          447909 non-null category\n",
      "estado          447909 non-null category\n",
      "edad            477918 non-null float64\n",
      "dtypes: category(3), float64(1), object(1)\n",
      "memory usage: 13.0+ MB\n"
     ]
    }
   ],
   "source": [
    "postulantes_merge.info()"
   ]
  },
  {
   "cell_type": "code",
   "execution_count": 13,
   "metadata": {},
   "outputs": [
    {
     "name": "stdout",
     "output_type": "stream",
     "text": [
      "<class 'pandas.core.frame.DataFrame'>\n",
      "Int64Index: 438357 entries, 4 to 504405\n",
      "Data columns (total 5 columns):\n",
      "idpostulante    438357 non-null object\n",
      "sexo            438357 non-null category\n",
      "nombre          438357 non-null category\n",
      "estado          438357 non-null category\n",
      "edad            438357 non-null float64\n",
      "dtypes: category(3), float64(1), object(1)\n",
      "memory usage: 11.3+ MB\n"
     ]
    }
   ],
   "source": [
    "#Me quedo con los registros con todos los datos\n",
    "postulantes_merge = postulantes_merge[postulantes_merge['nombre'].notnull() & \n",
    "                                      postulantes_merge['estado'].notnull() & \n",
    "                                     postulantes_merge['edad'].notnull()]\n",
    "postulantes_merge.info()"
   ]
  },
  {
   "cell_type": "code",
   "execution_count": 14,
   "metadata": {},
   "outputs": [],
   "source": [
    "#Vamos a codificar cada columna que sea de strings\n",
    "lb_make1 = LabelEncoder()\n",
    "postulantes_merge[\"estado_code\"] = lb_make1.fit_transform(postulantes_merge[\"estado\"])\n",
    "\n",
    "lb_make2 = LabelEncoder()\n",
    "postulantes_merge[\"sexo_code\"] = lb_make2.fit_transform(postulantes_merge[\"sexo\"])\n",
    "\n",
    "lb_make3 = LabelEncoder()\n",
    "postulantes_merge[\"nombre_code\"] = lb_make3.fit_transform(postulantes_merge[\"nombre\"])\n"
   ]
  },
  {
   "cell_type": "code",
   "execution_count": 15,
   "metadata": {},
   "outputs": [
    {
     "name": "stdout",
     "output_type": "stream",
     "text": [
      "<class 'pandas.core.frame.DataFrame'>\n",
      "Int64Index: 438357 entries, 4 to 504405\n",
      "Data columns (total 5 columns):\n",
      "idpostulante    438357 non-null object\n",
      "edad            438357 non-null float64\n",
      "estado_code     438357 non-null int64\n",
      "sexo_code       438357 non-null int64\n",
      "nombre_code     438357 non-null int64\n",
      "dtypes: float64(1), int64(3), object(1)\n",
      "memory usage: 20.1+ MB\n"
     ]
    }
   ],
   "source": [
    "#Dropeo las columnas que use para codificar\n",
    "postulantes_merge = postulantes_merge.drop(columns=['sexo','nombre','estado'])\n",
    "postulantes_merge.info()"
   ]
  },
  {
   "cell_type": "code",
   "execution_count": 16,
   "metadata": {},
   "outputs": [
    {
     "name": "stdout",
     "output_type": "stream",
     "text": [
      "16.72 MB\n",
      "5.43 MB\n"
     ]
    },
    {
     "data": {
      "text/html": [
       "<div>\n",
       "<style scoped>\n",
       "    .dataframe tbody tr th:only-of-type {\n",
       "        vertical-align: middle;\n",
       "    }\n",
       "\n",
       "    .dataframe tbody tr th {\n",
       "        vertical-align: top;\n",
       "    }\n",
       "\n",
       "    .dataframe thead th {\n",
       "        text-align: right;\n",
       "    }\n",
       "</style>\n",
       "<table border=\"1\" class=\"dataframe\">\n",
       "  <thead>\n",
       "    <tr style=\"text-align: right;\">\n",
       "      <th></th>\n",
       "      <th>before</th>\n",
       "      <th>after</th>\n",
       "    </tr>\n",
       "  </thead>\n",
       "  <tbody>\n",
       "    <tr>\n",
       "      <th>uint8</th>\n",
       "      <td>NaN</td>\n",
       "      <td>3.0</td>\n",
       "    </tr>\n",
       "    <tr>\n",
       "      <th>uint16</th>\n",
       "      <td>NaN</td>\n",
       "      <td>1.0</td>\n",
       "    </tr>\n",
       "    <tr>\n",
       "      <th>int64</th>\n",
       "      <td>3.0</td>\n",
       "      <td>NaN</td>\n",
       "    </tr>\n",
       "    <tr>\n",
       "      <th>float64</th>\n",
       "      <td>1.0</td>\n",
       "      <td>NaN</td>\n",
       "    </tr>\n",
       "  </tbody>\n",
       "</table>\n",
       "</div>"
      ],
      "text/plain": [
       "         before  after\n",
       "uint8       NaN    3.0\n",
       "uint16      NaN    1.0\n",
       "int64       3.0    NaN\n",
       "float64     1.0    NaN"
      ]
     },
     "execution_count": 16,
     "metadata": {},
     "output_type": "execute_result"
    }
   ],
   "source": [
    "postulantes_merge_int = postulantes_merge.select_dtypes(include=['int','float'])\n",
    "converted_int = postulantes_merge_int.apply(pd.to_numeric,downcast='unsigned')\n",
    "\n",
    "print(mem_usage(postulantes_merge_int))\n",
    "print(mem_usage(converted_int))\n",
    "\n",
    "compare_ints = pd.concat([postulantes_merge_int.dtypes,converted_int.dtypes],axis=1)\n",
    "compare_ints.columns = ['before','after']\n",
    "compare_ints.apply(pd.Series.value_counts)"
   ]
  },
  {
   "cell_type": "code",
   "execution_count": 17,
   "metadata": {},
   "outputs": [
    {
     "name": "stdout",
     "output_type": "stream",
     "text": [
      "43.39 MB\n",
      "32.10 MB\n"
     ]
    }
   ],
   "source": [
    "optimized_postulantes_merge = postulantes_merge.copy()\n",
    "\n",
    "optimized_postulantes_merge[converted_int.columns] = converted_int\n",
    "\n",
    "print(mem_usage(postulantes_merge))\n",
    "print(mem_usage(optimized_postulantes_merge))"
   ]
  },
  {
   "cell_type": "code",
   "execution_count": 18,
   "metadata": {},
   "outputs": [
    {
     "name": "stdout",
     "output_type": "stream",
     "text": [
      "<class 'pandas.core.frame.DataFrame'>\n",
      "Int64Index: 438357 entries, 4 to 504405\n",
      "Data columns (total 5 columns):\n",
      "idpostulante    438357 non-null object\n",
      "edad            438357 non-null uint16\n",
      "estado_code     438357 non-null uint8\n",
      "sexo_code       438357 non-null uint8\n",
      "nombre_code     438357 non-null uint8\n",
      "dtypes: object(1), uint16(1), uint8(3)\n",
      "memory usage: 8.8+ MB\n"
     ]
    }
   ],
   "source": [
    "optimized_postulantes_merge.info()"
   ]
  },
  {
   "cell_type": "code",
   "execution_count": 19,
   "metadata": {},
   "outputs": [],
   "source": [
    "optimized_postulantes_merge.to_csv('Data/optimized_postulantes_merge.csv')"
   ]
  },
  {
   "cell_type": "code",
   "execution_count": 20,
   "metadata": {},
   "outputs": [],
   "source": [
    "intereses_vistas = pd.read_csv('Data/unique_postulantes_con_intereses_vistas.csv')"
   ]
  },
  {
   "cell_type": "code",
   "execution_count": 22,
   "metadata": {},
   "outputs": [
    {
     "data": {
      "text/html": [
       "<div>\n",
       "<style scoped>\n",
       "    .dataframe tbody tr th:only-of-type {\n",
       "        vertical-align: middle;\n",
       "    }\n",
       "\n",
       "    .dataframe tbody tr th {\n",
       "        vertical-align: top;\n",
       "    }\n",
       "\n",
       "    .dataframe thead th {\n",
       "        text-align: right;\n",
       "    }\n",
       "</style>\n",
       "<table border=\"1\" class=\"dataframe\">\n",
       "  <thead>\n",
       "    <tr style=\"text-align: right;\">\n",
       "      <th></th>\n",
       "      <th>idpostulante</th>\n",
       "      <th>nombre_zona_interes</th>\n",
       "      <th>nivel_laboral_interes</th>\n",
       "      <th>tipo_de_trabajo_interes</th>\n",
       "      <th>nombre_area_interes</th>\n",
       "    </tr>\n",
       "  </thead>\n",
       "  <tbody>\n",
       "    <tr>\n",
       "      <th>0</th>\n",
       "      <td>YjVJQ6Z</td>\n",
       "      <td>-7</td>\n",
       "      <td>-4</td>\n",
       "      <td>-1</td>\n",
       "      <td>-175</td>\n",
       "    </tr>\n",
       "    <tr>\n",
       "      <th>1</th>\n",
       "      <td>BmVpYoR</td>\n",
       "      <td>NaN</td>\n",
       "      <td>NaN</td>\n",
       "      <td>NaN</td>\n",
       "      <td>NaN</td>\n",
       "    </tr>\n",
       "    <tr>\n",
       "      <th>2</th>\n",
       "      <td>wVkBzZd</td>\n",
       "      <td>-7</td>\n",
       "      <td>-2</td>\n",
       "      <td>-1</td>\n",
       "      <td>-120</td>\n",
       "    </tr>\n",
       "    <tr>\n",
       "      <th>3</th>\n",
       "      <td>OqmP9pv</td>\n",
       "      <td>-7</td>\n",
       "      <td>-4-2</td>\n",
       "      <td>-1</td>\n",
       "      <td>-175</td>\n",
       "    </tr>\n",
       "    <tr>\n",
       "      <th>4</th>\n",
       "      <td>DrpbXDP</td>\n",
       "      <td>NaN</td>\n",
       "      <td>NaN</td>\n",
       "      <td>NaN</td>\n",
       "      <td>NaN</td>\n",
       "    </tr>\n",
       "  </tbody>\n",
       "</table>\n",
       "</div>"
      ],
      "text/plain": [
       "  idpostulante nombre_zona_interes nivel_laboral_interes  \\\n",
       "0      YjVJQ6Z                  -7                    -4   \n",
       "1      BmVpYoR                 NaN                   NaN   \n",
       "2      wVkBzZd                  -7                    -2   \n",
       "3      OqmP9pv                  -7                  -4-2   \n",
       "4      DrpbXDP                 NaN                   NaN   \n",
       "\n",
       "  tipo_de_trabajo_interes nombre_area_interes  \n",
       "0                      -1                -175  \n",
       "1                     NaN                 NaN  \n",
       "2                      -1                -120  \n",
       "3                      -1                -175  \n",
       "4                     NaN                 NaN  "
      ]
     },
     "execution_count": 22,
     "metadata": {},
     "output_type": "execute_result"
    }
   ],
   "source": [
    "intereses_vistas.head()"
   ]
  }
 ],
 "metadata": {
  "kernelspec": {
   "display_name": "Python 3",
   "language": "python",
   "name": "python3"
  },
  "language_info": {
   "codemirror_mode": {
    "name": "ipython",
    "version": 3
   },
   "file_extension": ".py",
   "mimetype": "text/x-python",
   "name": "python",
   "nbconvert_exporter": "python",
   "pygments_lexer": "ipython3",
   "version": "3.6.5"
  }
 },
 "nbformat": 4,
 "nbformat_minor": 2
}
