{
 "cells": [
  {
   "cell_type": "code",
   "execution_count": 1,
   "metadata": {},
   "outputs": [],
   "source": [
    "import pandas as pd\n",
    "from pandas.api.types import CategoricalDtype\n",
    "import time\n",
    "from datetime import datetime\n",
    "import scipy.spatial\n",
    "import numpy as np\n",
    "from sklearn.preprocessing import LabelEncoder"
   ]
  },
  {
   "cell_type": "code",
   "execution_count": 5,
   "metadata": {},
   "outputs": [],
   "source": [
    "dtypes = pd.Series({'idaviso': np.dtype('uint32'), 'idpostulante': np.dtype('object')})\n",
    "\n",
    "dtypes_col = dtypes.index\n",
    "dtypes_type = [i.name for i in dtypes.values]\n",
    "\n",
    "column_types = dict(zip(dtypes_col, dtypes_type))\n",
    "postulaciones = pd.read_csv('/home/lucio/Documentos/Datos/NaventDatosTP/Data/Postulaciones/Postulaciones-merge.csv',\n",
    "                            dtype=column_types,parse_dates=['fechapostulacion'],infer_datetime_format=True)\n",
    "postulaciones = postulaciones.drop(columns=['Unnamed: 0','fechapostulacion'])"
   ]
  },
  {
   "cell_type": "code",
   "execution_count": 4,
   "metadata": {},
   "outputs": [
    {
     "name": "stdout",
     "output_type": "stream",
     "text": [
      "<class 'pandas.core.frame.DataFrame'>\n",
      "RangeIndex: 6603752 entries, 0 to 6603751\n",
      "Data columns (total 2 columns):\n",
      "idaviso         uint32\n",
      "idpostulante    object\n",
      "dtypes: object(1), uint32(1)\n",
      "memory usage: 75.6+ MB\n"
     ]
    }
   ],
   "source": [
    "postulaciones.info()"
   ]
  },
  {
   "cell_type": "code",
   "execution_count": 5,
   "metadata": {},
   "outputs": [],
   "source": [
    "dtypes = pd.Series({'idpostulante': np.dtype('object'), 'sexo': CategoricalDtype(categories=['FEM', 'MASC', 'NO_DECLARA'], ordered=False)})\n",
    "\n",
    "dtypes_col = dtypes.index\n",
    "dtypes_type = [i.name for i in dtypes.values]\n",
    "\n",
    "column_types = dict(zip(dtypes_col, dtypes_type))\n",
    "\n",
    "postulantes_genero_edad = pd.read_csv('/home/lucio/Documentos/Datos/NaventDatosTP/Data/Postulantes-Genero-Edad/postulantes_genero_y_edad-merge.csv',\n",
    "                                    dtype=column_types,parse_dates=['fechanacimiento'],\n",
    "                                      infer_datetime_format=True)\n",
    "postulantes_genero_edad = postulantes_genero_edad.drop(columns=['Unnamed: 0'])"
   ]
  },
  {
   "cell_type": "code",
   "execution_count": 6,
   "metadata": {},
   "outputs": [],
   "source": [
    "dtypes = pd.Series({'estado': CategoricalDtype(categories=['Abandonado', 'En Curso', 'Graduado'], ordered=False), 'idpostulante': np.dtype('object'),\n",
    "                    'nombre': CategoricalDtype(categories=['Doctorado', 'Master', 'Otro', 'Posgrado', 'Secundario',\n",
    "                  'Terciario/Técnico', 'Universitario'],\n",
    "                 ordered=False)})\n",
    "\n",
    "\n",
    "dtypes_col = dtypes.index\n",
    "dtypes_type = [i.name for i in dtypes.values]\n",
    "\n",
    "column_types = dict(zip(dtypes_col, dtypes_type))\n",
    "\n",
    "postulantes_educacion = pd.read_csv('/home/lucio/Documentos/Datos/NaventDatosTP/Data/Postulantes-Educacion/postulantes_educacion-merge.csv',\n",
    "                                    dtype=column_types)\n",
    "postulantes_educacion = postulantes_educacion.drop(columns=['Unnamed: 0','nombre_numerico'])"
   ]
  },
  {
   "cell_type": "code",
   "execution_count": 7,
   "metadata": {},
   "outputs": [],
   "source": [
    "#Hago un merge de educacion y genero-edad\n",
    "postulantes_merge = pd.merge(postulantes_genero_edad,postulantes_educacion,how='left',on='idpostulante')"
   ]
  },
  {
   "cell_type": "code",
   "execution_count": 8,
   "metadata": {},
   "outputs": [
    {
     "name": "stdout",
     "output_type": "stream",
     "text": [
      "<class 'pandas.core.frame.DataFrame'>\n",
      "Int64Index: 504407 entries, 0 to 504406\n",
      "Data columns (total 5 columns):\n",
      "idpostulante       504407 non-null object\n",
      "fechanacimiento    504407 non-null object\n",
      "sexo               504407 non-null category\n",
      "nombre             447909 non-null category\n",
      "estado             447909 non-null category\n",
      "dtypes: category(3), object(2)\n",
      "memory usage: 13.0+ MB\n"
     ]
    }
   ],
   "source": [
    "postulantes_merge.info()"
   ]
  },
  {
   "cell_type": "code",
   "execution_count": 9,
   "metadata": {},
   "outputs": [
    {
     "data": {
      "text/html": [
       "<div>\n",
       "<style scoped>\n",
       "    .dataframe tbody tr th:only-of-type {\n",
       "        vertical-align: middle;\n",
       "    }\n",
       "\n",
       "    .dataframe tbody tr th {\n",
       "        vertical-align: top;\n",
       "    }\n",
       "\n",
       "    .dataframe thead th {\n",
       "        text-align: right;\n",
       "    }\n",
       "</style>\n",
       "<table border=\"1\" class=\"dataframe\">\n",
       "  <thead>\n",
       "    <tr style=\"text-align: right;\">\n",
       "      <th></th>\n",
       "      <th>idpostulante</th>\n",
       "      <th>fechanacimiento</th>\n",
       "      <th>sexo</th>\n",
       "      <th>nombre</th>\n",
       "      <th>estado</th>\n",
       "    </tr>\n",
       "  </thead>\n",
       "  <tbody>\n",
       "    <tr>\n",
       "      <th>0</th>\n",
       "      <td>6MM</td>\n",
       "      <td>1985-01-01</td>\n",
       "      <td>MASC</td>\n",
       "      <td>NaN</td>\n",
       "      <td>NaN</td>\n",
       "    </tr>\n",
       "    <tr>\n",
       "      <th>1</th>\n",
       "      <td>Nzz</td>\n",
       "      <td>nan</td>\n",
       "      <td>NO_DECLARA</td>\n",
       "      <td>NaN</td>\n",
       "      <td>NaN</td>\n",
       "    </tr>\n",
       "    <tr>\n",
       "      <th>2</th>\n",
       "      <td>ZX1</td>\n",
       "      <td>nan</td>\n",
       "      <td>NO_DECLARA</td>\n",
       "      <td>NaN</td>\n",
       "      <td>NaN</td>\n",
       "    </tr>\n",
       "    <tr>\n",
       "      <th>3</th>\n",
       "      <td>Nq5</td>\n",
       "      <td>nan</td>\n",
       "      <td>NO_DECLARA</td>\n",
       "      <td>NaN</td>\n",
       "      <td>NaN</td>\n",
       "    </tr>\n",
       "    <tr>\n",
       "      <th>4</th>\n",
       "      <td>ebE</td>\n",
       "      <td>1952-07-07</td>\n",
       "      <td>MASC</td>\n",
       "      <td>Posgrado</td>\n",
       "      <td>Graduado</td>\n",
       "    </tr>\n",
       "  </tbody>\n",
       "</table>\n",
       "</div>"
      ],
      "text/plain": [
       "  idpostulante fechanacimiento        sexo    nombre    estado\n",
       "0          6MM      1985-01-01        MASC       NaN       NaN\n",
       "1          Nzz             nan  NO_DECLARA       NaN       NaN\n",
       "2          ZX1             nan  NO_DECLARA       NaN       NaN\n",
       "3          Nq5             nan  NO_DECLARA       NaN       NaN\n",
       "4          ebE      1952-07-07        MASC  Posgrado  Graduado"
      ]
     },
     "execution_count": 9,
     "metadata": {},
     "output_type": "execute_result"
    }
   ],
   "source": [
    "postulantes_merge.head()"
   ]
  },
  {
   "cell_type": "code",
   "execution_count": 8,
   "metadata": {},
   "outputs": [],
   "source": [
    "#Voy a agregar una columna con la edad ya calculada(estimando por 2017-año nacimiento) para cada registro\n",
    "postulantes_merge[\"año\"] = postulantes_merge[postulantes_merge[\"fechanacimiento\"] != 'nan']\\\n",
    "        [\"fechanacimiento\"].apply(lambda x: x[0:4])\n",
    "postulantes_merge[\"edad\"] = postulantes_merge[postulantes_merge[\"año\"].notna()] \\\n",
    "        [\"año\"].apply(lambda x: 2017 - int(x))"
   ]
  },
  {
   "cell_type": "code",
   "execution_count": 9,
   "metadata": {},
   "outputs": [],
   "source": [
    "#Elimino columna fechanacimiento y año que ya no me sirven\n",
    "postulantes_merge = postulantes_merge.drop(columns=['fechanacimiento','año'])"
   ]
  },
  {
   "cell_type": "code",
   "execution_count": 10,
   "metadata": {},
   "outputs": [
    {
     "name": "stdout",
     "output_type": "stream",
     "text": [
      "<class 'pandas.core.frame.DataFrame'>\n",
      "Int64Index: 504407 entries, 0 to 504406\n",
      "Data columns (total 5 columns):\n",
      "idpostulante    504407 non-null object\n",
      "sexo            504407 non-null category\n",
      "nombre          447909 non-null category\n",
      "estado          447909 non-null category\n",
      "edad            477918 non-null float64\n",
      "dtypes: category(3), float64(1), object(1)\n",
      "memory usage: 13.0+ MB\n"
     ]
    }
   ],
   "source": [
    "postulantes_merge.info()"
   ]
  },
  {
   "cell_type": "code",
   "execution_count": 11,
   "metadata": {},
   "outputs": [],
   "source": [
    "#Elimino NaNs\n",
    "postulantes_merge = postulantes_merge[postulantes_merge['nombre'].notnull() &\n",
    "                                     postulantes_merge['estado'].notnull() &\n",
    "                                     postulantes_merge['edad'].notnull()]"
   ]
  },
  {
   "cell_type": "code",
   "execution_count": 14,
   "metadata": {},
   "outputs": [
    {
     "name": "stdout",
     "output_type": "stream",
     "text": [
      "<class 'pandas.core.frame.DataFrame'>\n",
      "Int64Index: 438357 entries, 4 to 504405\n",
      "Data columns (total 5 columns):\n",
      "idpostulante    438357 non-null object\n",
      "sexo            438357 non-null category\n",
      "nombre          438357 non-null category\n",
      "estado          438357 non-null category\n",
      "edad            438357 non-null float64\n",
      "dtypes: category(3), float64(1), object(1)\n",
      "memory usage: 11.3+ MB\n"
     ]
    }
   ],
   "source": [
    "postulantes_merge.info()"
   ]
  },
  {
   "cell_type": "code",
   "execution_count": 12,
   "metadata": {},
   "outputs": [],
   "source": [
    "#Vamos a codificar cada columna que sea de strings\n",
    "lb_make1 = LabelEncoder()\n",
    "postulantes_merge[\"estado_code\"] = lb_make1.fit_transform(postulantes_merge[\"estado\"])\n",
    "\n",
    "lb_make2 = LabelEncoder()\n",
    "postulantes_merge[\"sexo_code\"] = lb_make2.fit_transform(postulantes_merge[\"sexo\"])\n",
    "\n",
    "lb_make3 = LabelEncoder()\n",
    "postulantes_merge[\"nombre_code\"] = lb_make3.fit_transform(postulantes_merge[\"nombre\"])\n",
    "\n",
    "postulantes_merge.drop(columns=['sexo','nombre','estado'],inplace=True)\n",
    "postulantes_merge[['sexo_code','nombre_code','estado_code','edad']] = postulantes_merge[['sexo_code','nombre_code','estado_code','edad']].apply(pd.to_numeric,downcast='unsigned')"
   ]
  },
  {
   "cell_type": "code",
   "execution_count": 13,
   "metadata": {},
   "outputs": [
    {
     "name": "stdout",
     "output_type": "stream",
     "text": [
      "<class 'pandas.core.frame.DataFrame'>\n",
      "Int64Index: 438357 entries, 4 to 504405\n",
      "Data columns (total 5 columns):\n",
      "idpostulante    438357 non-null object\n",
      "edad            438357 non-null uint16\n",
      "estado_code     438357 non-null uint8\n",
      "sexo_code       438357 non-null uint8\n",
      "nombre_code     438357 non-null uint8\n",
      "dtypes: object(1), uint16(1), uint8(3)\n",
      "memory usage: 8.8+ MB\n"
     ]
    }
   ],
   "source": [
    "postulantes_merge.info()"
   ]
  },
  {
   "cell_type": "code",
   "execution_count": 17,
   "metadata": {},
   "outputs": [],
   "source": [
    "postulantes_merge.to_csv('/home/lucio/Documentos/Datos/NaventDatosTP/Data/POSTULANTES_FINAL.csv')"
   ]
  },
  {
   "cell_type": "markdown",
   "metadata": {},
   "source": [
    "# Agrego la informacion a postulaciones"
   ]
  },
  {
   "cell_type": "code",
   "execution_count": 6,
   "metadata": {},
   "outputs": [],
   "source": [
    "merge_postulaciones = pd.merge(postulaciones,postulantes_merge,how='left',on='idpostulante')"
   ]
  },
  {
   "cell_type": "code",
   "execution_count": 7,
   "metadata": {},
   "outputs": [],
   "source": [
    "#Creo columna con un 1 para indicar postulacion\n",
    "merge_postulaciones['se_postulo'] = 1\n",
    "merge_postulaciones['se_postulo'] = merge_postulaciones[['se_postulo']].apply(pd.to_numeric,downcast='unsigned')"
   ]
  },
  {
   "cell_type": "code",
   "execution_count": 8,
   "metadata": {},
   "outputs": [
    {
     "name": "stdout",
     "output_type": "stream",
     "text": [
      "<class 'pandas.core.frame.DataFrame'>\n",
      "Int64Index: 6603752 entries, 0 to 6603751\n",
      "Data columns (total 7 columns):\n",
      "idaviso         uint32\n",
      "idpostulante    object\n",
      "edad            float64\n",
      "estado_code     float64\n",
      "sexo_code       float64\n",
      "nombre_code     float64\n",
      "se_postulo      uint8\n",
      "dtypes: float64(4), object(1), uint32(1), uint8(1)\n",
      "memory usage: 333.8+ MB\n"
     ]
    }
   ],
   "source": [
    "merge_postulaciones.info()"
   ]
  },
  {
   "cell_type": "code",
   "execution_count": 21,
   "metadata": {},
   "outputs": [
    {
     "data": {
      "text/html": [
       "<div>\n",
       "<style scoped>\n",
       "    .dataframe tbody tr th:only-of-type {\n",
       "        vertical-align: middle;\n",
       "    }\n",
       "\n",
       "    .dataframe tbody tr th {\n",
       "        vertical-align: top;\n",
       "    }\n",
       "\n",
       "    .dataframe thead th {\n",
       "        text-align: right;\n",
       "    }\n",
       "</style>\n",
       "<table border=\"1\" class=\"dataframe\">\n",
       "  <thead>\n",
       "    <tr style=\"text-align: right;\">\n",
       "      <th></th>\n",
       "      <th>idaviso</th>\n",
       "      <th>idpostulante</th>\n",
       "      <th>edad</th>\n",
       "      <th>estado_code</th>\n",
       "      <th>sexo_code</th>\n",
       "      <th>nombre_code</th>\n",
       "      <th>se_postulo</th>\n",
       "    </tr>\n",
       "  </thead>\n",
       "  <tbody>\n",
       "    <tr>\n",
       "      <th>566</th>\n",
       "      <td>1112264812</td>\n",
       "      <td>1zKzwB</td>\n",
       "      <td>NaN</td>\n",
       "      <td>NaN</td>\n",
       "      <td>NaN</td>\n",
       "      <td>NaN</td>\n",
       "      <td>1</td>\n",
       "    </tr>\n",
       "    <tr>\n",
       "      <th>567</th>\n",
       "      <td>1111105892</td>\n",
       "      <td>1zKzwB</td>\n",
       "      <td>NaN</td>\n",
       "      <td>NaN</td>\n",
       "      <td>NaN</td>\n",
       "      <td>NaN</td>\n",
       "      <td>1</td>\n",
       "    </tr>\n",
       "    <tr>\n",
       "      <th>568</th>\n",
       "      <td>1112202363</td>\n",
       "      <td>1zKzwB</td>\n",
       "      <td>NaN</td>\n",
       "      <td>NaN</td>\n",
       "      <td>NaN</td>\n",
       "      <td>NaN</td>\n",
       "      <td>1</td>\n",
       "    </tr>\n",
       "    <tr>\n",
       "      <th>569</th>\n",
       "      <td>1112344620</td>\n",
       "      <td>1zKzwB</td>\n",
       "      <td>NaN</td>\n",
       "      <td>NaN</td>\n",
       "      <td>NaN</td>\n",
       "      <td>NaN</td>\n",
       "      <td>1</td>\n",
       "    </tr>\n",
       "    <tr>\n",
       "      <th>570</th>\n",
       "      <td>1112281337</td>\n",
       "      <td>NM1J0z</td>\n",
       "      <td>NaN</td>\n",
       "      <td>NaN</td>\n",
       "      <td>NaN</td>\n",
       "      <td>NaN</td>\n",
       "      <td>1</td>\n",
       "    </tr>\n",
       "    <tr>\n",
       "      <th>571</th>\n",
       "      <td>1112334640</td>\n",
       "      <td>NM1J0z</td>\n",
       "      <td>NaN</td>\n",
       "      <td>NaN</td>\n",
       "      <td>NaN</td>\n",
       "      <td>NaN</td>\n",
       "      <td>1</td>\n",
       "    </tr>\n",
       "    <tr>\n",
       "      <th>572</th>\n",
       "      <td>1112289378</td>\n",
       "      <td>NM1J0z</td>\n",
       "      <td>NaN</td>\n",
       "      <td>NaN</td>\n",
       "      <td>NaN</td>\n",
       "      <td>NaN</td>\n",
       "      <td>1</td>\n",
       "    </tr>\n",
       "    <tr>\n",
       "      <th>573</th>\n",
       "      <td>1112296073</td>\n",
       "      <td>NM1J0z</td>\n",
       "      <td>NaN</td>\n",
       "      <td>NaN</td>\n",
       "      <td>NaN</td>\n",
       "      <td>NaN</td>\n",
       "      <td>1</td>\n",
       "    </tr>\n",
       "    <tr>\n",
       "      <th>574</th>\n",
       "      <td>1112310231</td>\n",
       "      <td>NM1J0z</td>\n",
       "      <td>NaN</td>\n",
       "      <td>NaN</td>\n",
       "      <td>NaN</td>\n",
       "      <td>NaN</td>\n",
       "      <td>1</td>\n",
       "    </tr>\n",
       "    <tr>\n",
       "      <th>575</th>\n",
       "      <td>1112195462</td>\n",
       "      <td>NM1J0z</td>\n",
       "      <td>NaN</td>\n",
       "      <td>NaN</td>\n",
       "      <td>NaN</td>\n",
       "      <td>NaN</td>\n",
       "      <td>1</td>\n",
       "    </tr>\n",
       "    <tr>\n",
       "      <th>576</th>\n",
       "      <td>1112288872</td>\n",
       "      <td>NM1J0z</td>\n",
       "      <td>NaN</td>\n",
       "      <td>NaN</td>\n",
       "      <td>NaN</td>\n",
       "      <td>NaN</td>\n",
       "      <td>1</td>\n",
       "    </tr>\n",
       "    <tr>\n",
       "      <th>577</th>\n",
       "      <td>1112277388</td>\n",
       "      <td>NM1J0z</td>\n",
       "      <td>NaN</td>\n",
       "      <td>NaN</td>\n",
       "      <td>NaN</td>\n",
       "      <td>NaN</td>\n",
       "      <td>1</td>\n",
       "    </tr>\n",
       "    <tr>\n",
       "      <th>578</th>\n",
       "      <td>1112334643</td>\n",
       "      <td>NM1J0z</td>\n",
       "      <td>NaN</td>\n",
       "      <td>NaN</td>\n",
       "      <td>NaN</td>\n",
       "      <td>NaN</td>\n",
       "      <td>1</td>\n",
       "    </tr>\n",
       "    <tr>\n",
       "      <th>579</th>\n",
       "      <td>1112153209</td>\n",
       "      <td>NM1J0z</td>\n",
       "      <td>NaN</td>\n",
       "      <td>NaN</td>\n",
       "      <td>NaN</td>\n",
       "      <td>NaN</td>\n",
       "      <td>1</td>\n",
       "    </tr>\n",
       "    <tr>\n",
       "      <th>580</th>\n",
       "      <td>1112351871</td>\n",
       "      <td>NM1J0z</td>\n",
       "      <td>NaN</td>\n",
       "      <td>NaN</td>\n",
       "      <td>NaN</td>\n",
       "      <td>NaN</td>\n",
       "      <td>1</td>\n",
       "    </tr>\n",
       "    <tr>\n",
       "      <th>581</th>\n",
       "      <td>1112353148</td>\n",
       "      <td>NM1J0z</td>\n",
       "      <td>NaN</td>\n",
       "      <td>NaN</td>\n",
       "      <td>NaN</td>\n",
       "      <td>NaN</td>\n",
       "      <td>1</td>\n",
       "    </tr>\n",
       "    <tr>\n",
       "      <th>582</th>\n",
       "      <td>1112351859</td>\n",
       "      <td>NM1J0z</td>\n",
       "      <td>NaN</td>\n",
       "      <td>NaN</td>\n",
       "      <td>NaN</td>\n",
       "      <td>NaN</td>\n",
       "      <td>1</td>\n",
       "    </tr>\n",
       "    <tr>\n",
       "      <th>583</th>\n",
       "      <td>1112358588</td>\n",
       "      <td>NM1J0z</td>\n",
       "      <td>NaN</td>\n",
       "      <td>NaN</td>\n",
       "      <td>NaN</td>\n",
       "      <td>NaN</td>\n",
       "      <td>1</td>\n",
       "    </tr>\n",
       "    <tr>\n",
       "      <th>1869</th>\n",
       "      <td>1001315606</td>\n",
       "      <td>8bJX2l</td>\n",
       "      <td>NaN</td>\n",
       "      <td>NaN</td>\n",
       "      <td>NaN</td>\n",
       "      <td>NaN</td>\n",
       "      <td>1</td>\n",
       "    </tr>\n",
       "    <tr>\n",
       "      <th>4354</th>\n",
       "      <td>1112221552</td>\n",
       "      <td>1kJkkB</td>\n",
       "      <td>NaN</td>\n",
       "      <td>NaN</td>\n",
       "      <td>NaN</td>\n",
       "      <td>NaN</td>\n",
       "      <td>1</td>\n",
       "    </tr>\n",
       "    <tr>\n",
       "      <th>4355</th>\n",
       "      <td>1110915410</td>\n",
       "      <td>1kJkkB</td>\n",
       "      <td>NaN</td>\n",
       "      <td>NaN</td>\n",
       "      <td>NaN</td>\n",
       "      <td>NaN</td>\n",
       "      <td>1</td>\n",
       "    </tr>\n",
       "    <tr>\n",
       "      <th>4356</th>\n",
       "      <td>1110478766</td>\n",
       "      <td>1kJkkB</td>\n",
       "      <td>NaN</td>\n",
       "      <td>NaN</td>\n",
       "      <td>NaN</td>\n",
       "      <td>NaN</td>\n",
       "      <td>1</td>\n",
       "    </tr>\n",
       "    <tr>\n",
       "      <th>4357</th>\n",
       "      <td>1112263295</td>\n",
       "      <td>1kJkkB</td>\n",
       "      <td>NaN</td>\n",
       "      <td>NaN</td>\n",
       "      <td>NaN</td>\n",
       "      <td>NaN</td>\n",
       "      <td>1</td>\n",
       "    </tr>\n",
       "    <tr>\n",
       "      <th>4358</th>\n",
       "      <td>1111972061</td>\n",
       "      <td>1kJkkB</td>\n",
       "      <td>NaN</td>\n",
       "      <td>NaN</td>\n",
       "      <td>NaN</td>\n",
       "      <td>NaN</td>\n",
       "      <td>1</td>\n",
       "    </tr>\n",
       "    <tr>\n",
       "      <th>4359</th>\n",
       "      <td>1112278015</td>\n",
       "      <td>1kJkkB</td>\n",
       "      <td>NaN</td>\n",
       "      <td>NaN</td>\n",
       "      <td>NaN</td>\n",
       "      <td>NaN</td>\n",
       "      <td>1</td>\n",
       "    </tr>\n",
       "    <tr>\n",
       "      <th>4360</th>\n",
       "      <td>1112279443</td>\n",
       "      <td>1kJkkB</td>\n",
       "      <td>NaN</td>\n",
       "      <td>NaN</td>\n",
       "      <td>NaN</td>\n",
       "      <td>NaN</td>\n",
       "      <td>1</td>\n",
       "    </tr>\n",
       "    <tr>\n",
       "      <th>4361</th>\n",
       "      <td>1112280868</td>\n",
       "      <td>1kJkkB</td>\n",
       "      <td>NaN</td>\n",
       "      <td>NaN</td>\n",
       "      <td>NaN</td>\n",
       "      <td>NaN</td>\n",
       "      <td>1</td>\n",
       "    </tr>\n",
       "    <tr>\n",
       "      <th>4362</th>\n",
       "      <td>1112285082</td>\n",
       "      <td>1kJkkB</td>\n",
       "      <td>NaN</td>\n",
       "      <td>NaN</td>\n",
       "      <td>NaN</td>\n",
       "      <td>NaN</td>\n",
       "      <td>1</td>\n",
       "    </tr>\n",
       "    <tr>\n",
       "      <th>4363</th>\n",
       "      <td>1112295653</td>\n",
       "      <td>1kJkkB</td>\n",
       "      <td>NaN</td>\n",
       "      <td>NaN</td>\n",
       "      <td>NaN</td>\n",
       "      <td>NaN</td>\n",
       "      <td>1</td>\n",
       "    </tr>\n",
       "    <tr>\n",
       "      <th>4364</th>\n",
       "      <td>1112280936</td>\n",
       "      <td>1kJkkB</td>\n",
       "      <td>NaN</td>\n",
       "      <td>NaN</td>\n",
       "      <td>NaN</td>\n",
       "      <td>NaN</td>\n",
       "      <td>1</td>\n",
       "    </tr>\n",
       "    <tr>\n",
       "      <th>...</th>\n",
       "      <td>...</td>\n",
       "      <td>...</td>\n",
       "      <td>...</td>\n",
       "      <td>...</td>\n",
       "      <td>...</td>\n",
       "      <td>...</td>\n",
       "      <td>...</td>\n",
       "    </tr>\n",
       "    <tr>\n",
       "      <th>6603714</th>\n",
       "      <td>1112376875</td>\n",
       "      <td>VNr0qZ2</td>\n",
       "      <td>NaN</td>\n",
       "      <td>NaN</td>\n",
       "      <td>NaN</td>\n",
       "      <td>NaN</td>\n",
       "      <td>1</td>\n",
       "    </tr>\n",
       "    <tr>\n",
       "      <th>6603715</th>\n",
       "      <td>1112357780</td>\n",
       "      <td>VNr0qZ2</td>\n",
       "      <td>NaN</td>\n",
       "      <td>NaN</td>\n",
       "      <td>NaN</td>\n",
       "      <td>NaN</td>\n",
       "      <td>1</td>\n",
       "    </tr>\n",
       "    <tr>\n",
       "      <th>6603716</th>\n",
       "      <td>1112368325</td>\n",
       "      <td>VNr0qZ2</td>\n",
       "      <td>NaN</td>\n",
       "      <td>NaN</td>\n",
       "      <td>NaN</td>\n",
       "      <td>NaN</td>\n",
       "      <td>1</td>\n",
       "    </tr>\n",
       "    <tr>\n",
       "      <th>6603717</th>\n",
       "      <td>1112396113</td>\n",
       "      <td>VNr0qZ2</td>\n",
       "      <td>NaN</td>\n",
       "      <td>NaN</td>\n",
       "      <td>NaN</td>\n",
       "      <td>NaN</td>\n",
       "      <td>1</td>\n",
       "    </tr>\n",
       "    <tr>\n",
       "      <th>6603718</th>\n",
       "      <td>1112350856</td>\n",
       "      <td>VNr0qZ2</td>\n",
       "      <td>NaN</td>\n",
       "      <td>NaN</td>\n",
       "      <td>NaN</td>\n",
       "      <td>NaN</td>\n",
       "      <td>1</td>\n",
       "    </tr>\n",
       "    <tr>\n",
       "      <th>6603719</th>\n",
       "      <td>1112394743</td>\n",
       "      <td>VNr0qZ2</td>\n",
       "      <td>NaN</td>\n",
       "      <td>NaN</td>\n",
       "      <td>NaN</td>\n",
       "      <td>NaN</td>\n",
       "      <td>1</td>\n",
       "    </tr>\n",
       "    <tr>\n",
       "      <th>6603720</th>\n",
       "      <td>1112357032</td>\n",
       "      <td>VNr0qZ2</td>\n",
       "      <td>NaN</td>\n",
       "      <td>NaN</td>\n",
       "      <td>NaN</td>\n",
       "      <td>NaN</td>\n",
       "      <td>1</td>\n",
       "    </tr>\n",
       "    <tr>\n",
       "      <th>6603721</th>\n",
       "      <td>1112369367</td>\n",
       "      <td>VNr0qZ2</td>\n",
       "      <td>NaN</td>\n",
       "      <td>NaN</td>\n",
       "      <td>NaN</td>\n",
       "      <td>NaN</td>\n",
       "      <td>1</td>\n",
       "    </tr>\n",
       "    <tr>\n",
       "      <th>6603722</th>\n",
       "      <td>1112285718</td>\n",
       "      <td>VNr0qZ2</td>\n",
       "      <td>NaN</td>\n",
       "      <td>NaN</td>\n",
       "      <td>NaN</td>\n",
       "      <td>NaN</td>\n",
       "      <td>1</td>\n",
       "    </tr>\n",
       "    <tr>\n",
       "      <th>6603723</th>\n",
       "      <td>1112404551</td>\n",
       "      <td>VNr0qZ2</td>\n",
       "      <td>NaN</td>\n",
       "      <td>NaN</td>\n",
       "      <td>NaN</td>\n",
       "      <td>NaN</td>\n",
       "      <td>1</td>\n",
       "    </tr>\n",
       "    <tr>\n",
       "      <th>6603724</th>\n",
       "      <td>1112085715</td>\n",
       "      <td>VNr0qZ2</td>\n",
       "      <td>NaN</td>\n",
       "      <td>NaN</td>\n",
       "      <td>NaN</td>\n",
       "      <td>NaN</td>\n",
       "      <td>1</td>\n",
       "    </tr>\n",
       "    <tr>\n",
       "      <th>6603725</th>\n",
       "      <td>1112414973</td>\n",
       "      <td>VNr0qZ2</td>\n",
       "      <td>NaN</td>\n",
       "      <td>NaN</td>\n",
       "      <td>NaN</td>\n",
       "      <td>NaN</td>\n",
       "      <td>1</td>\n",
       "    </tr>\n",
       "    <tr>\n",
       "      <th>6603726</th>\n",
       "      <td>1112394499</td>\n",
       "      <td>VNr0qZ2</td>\n",
       "      <td>NaN</td>\n",
       "      <td>NaN</td>\n",
       "      <td>NaN</td>\n",
       "      <td>NaN</td>\n",
       "      <td>1</td>\n",
       "    </tr>\n",
       "    <tr>\n",
       "      <th>6603727</th>\n",
       "      <td>1112423829</td>\n",
       "      <td>VNr0qZ2</td>\n",
       "      <td>NaN</td>\n",
       "      <td>NaN</td>\n",
       "      <td>NaN</td>\n",
       "      <td>NaN</td>\n",
       "      <td>1</td>\n",
       "    </tr>\n",
       "    <tr>\n",
       "      <th>6603728</th>\n",
       "      <td>1112283616</td>\n",
       "      <td>VNr0qZ2</td>\n",
       "      <td>NaN</td>\n",
       "      <td>NaN</td>\n",
       "      <td>NaN</td>\n",
       "      <td>NaN</td>\n",
       "      <td>1</td>\n",
       "    </tr>\n",
       "    <tr>\n",
       "      <th>6603729</th>\n",
       "      <td>1112428719</td>\n",
       "      <td>VNr0qZ2</td>\n",
       "      <td>NaN</td>\n",
       "      <td>NaN</td>\n",
       "      <td>NaN</td>\n",
       "      <td>NaN</td>\n",
       "      <td>1</td>\n",
       "    </tr>\n",
       "    <tr>\n",
       "      <th>6603730</th>\n",
       "      <td>1112396644</td>\n",
       "      <td>VNr0qZ2</td>\n",
       "      <td>NaN</td>\n",
       "      <td>NaN</td>\n",
       "      <td>NaN</td>\n",
       "      <td>NaN</td>\n",
       "      <td>1</td>\n",
       "    </tr>\n",
       "    <tr>\n",
       "      <th>6603731</th>\n",
       "      <td>1112399940</td>\n",
       "      <td>VNr0qZ2</td>\n",
       "      <td>NaN</td>\n",
       "      <td>NaN</td>\n",
       "      <td>NaN</td>\n",
       "      <td>NaN</td>\n",
       "      <td>1</td>\n",
       "    </tr>\n",
       "    <tr>\n",
       "      <th>6603732</th>\n",
       "      <td>1110843523</td>\n",
       "      <td>VNr0qZ2</td>\n",
       "      <td>NaN</td>\n",
       "      <td>NaN</td>\n",
       "      <td>NaN</td>\n",
       "      <td>NaN</td>\n",
       "      <td>1</td>\n",
       "    </tr>\n",
       "    <tr>\n",
       "      <th>6603733</th>\n",
       "      <td>1112377120</td>\n",
       "      <td>VNr0qZ2</td>\n",
       "      <td>NaN</td>\n",
       "      <td>NaN</td>\n",
       "      <td>NaN</td>\n",
       "      <td>NaN</td>\n",
       "      <td>1</td>\n",
       "    </tr>\n",
       "    <tr>\n",
       "      <th>6603734</th>\n",
       "      <td>1112411944</td>\n",
       "      <td>VNr0qZ2</td>\n",
       "      <td>NaN</td>\n",
       "      <td>NaN</td>\n",
       "      <td>NaN</td>\n",
       "      <td>NaN</td>\n",
       "      <td>1</td>\n",
       "    </tr>\n",
       "    <tr>\n",
       "      <th>6603735</th>\n",
       "      <td>1112429944</td>\n",
       "      <td>VNr0qZ2</td>\n",
       "      <td>NaN</td>\n",
       "      <td>NaN</td>\n",
       "      <td>NaN</td>\n",
       "      <td>NaN</td>\n",
       "      <td>1</td>\n",
       "    </tr>\n",
       "    <tr>\n",
       "      <th>6603736</th>\n",
       "      <td>1112378625</td>\n",
       "      <td>VNr0qZ2</td>\n",
       "      <td>NaN</td>\n",
       "      <td>NaN</td>\n",
       "      <td>NaN</td>\n",
       "      <td>NaN</td>\n",
       "      <td>1</td>\n",
       "    </tr>\n",
       "    <tr>\n",
       "      <th>6603737</th>\n",
       "      <td>1112396114</td>\n",
       "      <td>VNr0qZ2</td>\n",
       "      <td>NaN</td>\n",
       "      <td>NaN</td>\n",
       "      <td>NaN</td>\n",
       "      <td>NaN</td>\n",
       "      <td>1</td>\n",
       "    </tr>\n",
       "    <tr>\n",
       "      <th>6603738</th>\n",
       "      <td>1112388569</td>\n",
       "      <td>VNr0qZ2</td>\n",
       "      <td>NaN</td>\n",
       "      <td>NaN</td>\n",
       "      <td>NaN</td>\n",
       "      <td>NaN</td>\n",
       "      <td>1</td>\n",
       "    </tr>\n",
       "    <tr>\n",
       "      <th>6603739</th>\n",
       "      <td>1112424040</td>\n",
       "      <td>VNr0qZ2</td>\n",
       "      <td>NaN</td>\n",
       "      <td>NaN</td>\n",
       "      <td>NaN</td>\n",
       "      <td>NaN</td>\n",
       "      <td>1</td>\n",
       "    </tr>\n",
       "    <tr>\n",
       "      <th>6603740</th>\n",
       "      <td>1112432333</td>\n",
       "      <td>VNr0qZ2</td>\n",
       "      <td>NaN</td>\n",
       "      <td>NaN</td>\n",
       "      <td>NaN</td>\n",
       "      <td>NaN</td>\n",
       "      <td>1</td>\n",
       "    </tr>\n",
       "    <tr>\n",
       "      <th>6603741</th>\n",
       "      <td>1112354099</td>\n",
       "      <td>mzdNpX9</td>\n",
       "      <td>NaN</td>\n",
       "      <td>NaN</td>\n",
       "      <td>NaN</td>\n",
       "      <td>NaN</td>\n",
       "      <td>1</td>\n",
       "    </tr>\n",
       "    <tr>\n",
       "      <th>6603742</th>\n",
       "      <td>1112352347</td>\n",
       "      <td>mzdNpX9</td>\n",
       "      <td>NaN</td>\n",
       "      <td>NaN</td>\n",
       "      <td>NaN</td>\n",
       "      <td>NaN</td>\n",
       "      <td>1</td>\n",
       "    </tr>\n",
       "    <tr>\n",
       "      <th>6603743</th>\n",
       "      <td>1112346761</td>\n",
       "      <td>mzdNpX9</td>\n",
       "      <td>NaN</td>\n",
       "      <td>NaN</td>\n",
       "      <td>NaN</td>\n",
       "      <td>NaN</td>\n",
       "      <td>1</td>\n",
       "    </tr>\n",
       "  </tbody>\n",
       "</table>\n",
       "<p>275805 rows × 7 columns</p>\n",
       "</div>"
      ],
      "text/plain": [
       "            idaviso idpostulante  edad  estado_code  sexo_code  nombre_code  \\\n",
       "566      1112264812       1zKzwB   NaN          NaN        NaN          NaN   \n",
       "567      1111105892       1zKzwB   NaN          NaN        NaN          NaN   \n",
       "568      1112202363       1zKzwB   NaN          NaN        NaN          NaN   \n",
       "569      1112344620       1zKzwB   NaN          NaN        NaN          NaN   \n",
       "570      1112281337       NM1J0z   NaN          NaN        NaN          NaN   \n",
       "571      1112334640       NM1J0z   NaN          NaN        NaN          NaN   \n",
       "572      1112289378       NM1J0z   NaN          NaN        NaN          NaN   \n",
       "573      1112296073       NM1J0z   NaN          NaN        NaN          NaN   \n",
       "574      1112310231       NM1J0z   NaN          NaN        NaN          NaN   \n",
       "575      1112195462       NM1J0z   NaN          NaN        NaN          NaN   \n",
       "576      1112288872       NM1J0z   NaN          NaN        NaN          NaN   \n",
       "577      1112277388       NM1J0z   NaN          NaN        NaN          NaN   \n",
       "578      1112334643       NM1J0z   NaN          NaN        NaN          NaN   \n",
       "579      1112153209       NM1J0z   NaN          NaN        NaN          NaN   \n",
       "580      1112351871       NM1J0z   NaN          NaN        NaN          NaN   \n",
       "581      1112353148       NM1J0z   NaN          NaN        NaN          NaN   \n",
       "582      1112351859       NM1J0z   NaN          NaN        NaN          NaN   \n",
       "583      1112358588       NM1J0z   NaN          NaN        NaN          NaN   \n",
       "1869     1001315606       8bJX2l   NaN          NaN        NaN          NaN   \n",
       "4354     1112221552       1kJkkB   NaN          NaN        NaN          NaN   \n",
       "4355     1110915410       1kJkkB   NaN          NaN        NaN          NaN   \n",
       "4356     1110478766       1kJkkB   NaN          NaN        NaN          NaN   \n",
       "4357     1112263295       1kJkkB   NaN          NaN        NaN          NaN   \n",
       "4358     1111972061       1kJkkB   NaN          NaN        NaN          NaN   \n",
       "4359     1112278015       1kJkkB   NaN          NaN        NaN          NaN   \n",
       "4360     1112279443       1kJkkB   NaN          NaN        NaN          NaN   \n",
       "4361     1112280868       1kJkkB   NaN          NaN        NaN          NaN   \n",
       "4362     1112285082       1kJkkB   NaN          NaN        NaN          NaN   \n",
       "4363     1112295653       1kJkkB   NaN          NaN        NaN          NaN   \n",
       "4364     1112280936       1kJkkB   NaN          NaN        NaN          NaN   \n",
       "...             ...          ...   ...          ...        ...          ...   \n",
       "6603714  1112376875      VNr0qZ2   NaN          NaN        NaN          NaN   \n",
       "6603715  1112357780      VNr0qZ2   NaN          NaN        NaN          NaN   \n",
       "6603716  1112368325      VNr0qZ2   NaN          NaN        NaN          NaN   \n",
       "6603717  1112396113      VNr0qZ2   NaN          NaN        NaN          NaN   \n",
       "6603718  1112350856      VNr0qZ2   NaN          NaN        NaN          NaN   \n",
       "6603719  1112394743      VNr0qZ2   NaN          NaN        NaN          NaN   \n",
       "6603720  1112357032      VNr0qZ2   NaN          NaN        NaN          NaN   \n",
       "6603721  1112369367      VNr0qZ2   NaN          NaN        NaN          NaN   \n",
       "6603722  1112285718      VNr0qZ2   NaN          NaN        NaN          NaN   \n",
       "6603723  1112404551      VNr0qZ2   NaN          NaN        NaN          NaN   \n",
       "6603724  1112085715      VNr0qZ2   NaN          NaN        NaN          NaN   \n",
       "6603725  1112414973      VNr0qZ2   NaN          NaN        NaN          NaN   \n",
       "6603726  1112394499      VNr0qZ2   NaN          NaN        NaN          NaN   \n",
       "6603727  1112423829      VNr0qZ2   NaN          NaN        NaN          NaN   \n",
       "6603728  1112283616      VNr0qZ2   NaN          NaN        NaN          NaN   \n",
       "6603729  1112428719      VNr0qZ2   NaN          NaN        NaN          NaN   \n",
       "6603730  1112396644      VNr0qZ2   NaN          NaN        NaN          NaN   \n",
       "6603731  1112399940      VNr0qZ2   NaN          NaN        NaN          NaN   \n",
       "6603732  1110843523      VNr0qZ2   NaN          NaN        NaN          NaN   \n",
       "6603733  1112377120      VNr0qZ2   NaN          NaN        NaN          NaN   \n",
       "6603734  1112411944      VNr0qZ2   NaN          NaN        NaN          NaN   \n",
       "6603735  1112429944      VNr0qZ2   NaN          NaN        NaN          NaN   \n",
       "6603736  1112378625      VNr0qZ2   NaN          NaN        NaN          NaN   \n",
       "6603737  1112396114      VNr0qZ2   NaN          NaN        NaN          NaN   \n",
       "6603738  1112388569      VNr0qZ2   NaN          NaN        NaN          NaN   \n",
       "6603739  1112424040      VNr0qZ2   NaN          NaN        NaN          NaN   \n",
       "6603740  1112432333      VNr0qZ2   NaN          NaN        NaN          NaN   \n",
       "6603741  1112354099      mzdNpX9   NaN          NaN        NaN          NaN   \n",
       "6603742  1112352347      mzdNpX9   NaN          NaN        NaN          NaN   \n",
       "6603743  1112346761      mzdNpX9   NaN          NaN        NaN          NaN   \n",
       "\n",
       "         se_postulo  \n",
       "566               1  \n",
       "567               1  \n",
       "568               1  \n",
       "569               1  \n",
       "570               1  \n",
       "571               1  \n",
       "572               1  \n",
       "573               1  \n",
       "574               1  \n",
       "575               1  \n",
       "576               1  \n",
       "577               1  \n",
       "578               1  \n",
       "579               1  \n",
       "580               1  \n",
       "581               1  \n",
       "582               1  \n",
       "583               1  \n",
       "1869              1  \n",
       "4354              1  \n",
       "4355              1  \n",
       "4356              1  \n",
       "4357              1  \n",
       "4358              1  \n",
       "4359              1  \n",
       "4360              1  \n",
       "4361              1  \n",
       "4362              1  \n",
       "4363              1  \n",
       "4364              1  \n",
       "...             ...  \n",
       "6603714           1  \n",
       "6603715           1  \n",
       "6603716           1  \n",
       "6603717           1  \n",
       "6603718           1  \n",
       "6603719           1  \n",
       "6603720           1  \n",
       "6603721           1  \n",
       "6603722           1  \n",
       "6603723           1  \n",
       "6603724           1  \n",
       "6603725           1  \n",
       "6603726           1  \n",
       "6603727           1  \n",
       "6603728           1  \n",
       "6603729           1  \n",
       "6603730           1  \n",
       "6603731           1  \n",
       "6603732           1  \n",
       "6603733           1  \n",
       "6603734           1  \n",
       "6603735           1  \n",
       "6603736           1  \n",
       "6603737           1  \n",
       "6603738           1  \n",
       "6603739           1  \n",
       "6603740           1  \n",
       "6603741           1  \n",
       "6603742           1  \n",
       "6603743           1  \n",
       "\n",
       "[275805 rows x 7 columns]"
      ]
     },
     "execution_count": 21,
     "metadata": {},
     "output_type": "execute_result"
    }
   ],
   "source": [
    "merge_postulaciones[merge_postulaciones['edad'].isnull()]"
   ]
  },
  {
   "cell_type": "code",
   "execution_count": 9,
   "metadata": {},
   "outputs": [
    {
     "name": "stdout",
     "output_type": "stream",
     "text": [
      "<class 'pandas.core.frame.DataFrame'>\n",
      "Int64Index: 6327947 entries, 0 to 6603751\n",
      "Data columns (total 7 columns):\n",
      "idaviso         uint32\n",
      "idpostulante    object\n",
      "edad            uint16\n",
      "estado_code     uint8\n",
      "sexo_code       uint8\n",
      "nombre_code     uint8\n",
      "se_postulo      uint8\n",
      "dtypes: object(1), uint16(1), uint32(1), uint8(4)\n",
      "memory usage: 156.9+ MB\n"
     ]
    }
   ],
   "source": [
    "#Me quedo con los registros con todos los datos (por ahora desp ver si se puede usar imputing)\n",
    "merge_sin_nan = merge_postulaciones[merge_postulaciones['nombre_code'].notnull() &\n",
    "                                    merge_postulaciones['estado_code'].notnull() & \n",
    "                                    merge_postulaciones['edad'].notnull()]\n",
    "merge_sin_nan = merge_sin_nan[merge_sin_nan['nombre_code'].notnull() &\n",
    "                                    merge_sin_nan['estado_code'].notnull()]\n",
    "merge_sin_nan[['edad','estado_code','sexo_code','nombre_code']] = merge_sin_nan[['edad','estado_code','sexo_code','nombre_code']].apply(pd.to_numeric,downcast='unsigned')\n",
    "merge_sin_nan.info()"
   ]
  },
  {
   "cell_type": "markdown",
   "metadata": {},
   "source": [
    "# Agrego datos de vistas que serian los postulantes que ven algo y no se postulan"
   ]
  },
  {
   "cell_type": "code",
   "execution_count": 10,
   "metadata": {},
   "outputs": [],
   "source": [
    "dtypes = pd.Series({'idAviso': np.dtype('uint32'), 'idpostulante': np.dtype('object')})\n",
    "\n",
    "dtypes_col = dtypes.index\n",
    "dtypes_type = [i.name for i in dtypes.values]\n",
    "\n",
    "column_types = dict(zip(dtypes_col, dtypes_type))\n",
    "\n",
    "vistas = pd.read_csv('/home/lucio/Documentos/Datos/NaventDatosTP/Data/Vistas/Vistas-merge.csv',dtype=column_types,parse_dates=['timestamp'],\n",
    "                     infer_datetime_format=True)\n",
    "vistas = vistas.drop(columns=['Unnamed: 0'])\n",
    "#Considero unica vista de aviso por postulante (no me importa ni horario ni cantidad solo que lo vea)\n",
    "vistas.drop(columns=['timestamp'],inplace=True)\n",
    "vistas.drop_duplicates(subset=['idAviso','idpostulante'],inplace=True)\n",
    "vistas['se_postulo'] = 0\n",
    "vistas['se_postulo'] = vistas[['se_postulo']].apply(pd.to_numeric,downcast='unsigned')"
   ]
  },
  {
   "cell_type": "code",
   "execution_count": 11,
   "metadata": {},
   "outputs": [
    {
     "name": "stdout",
     "output_type": "stream",
     "text": [
      "<class 'pandas.core.frame.DataFrame'>\n",
      "Index: 8597915 entries, 0 to 8597914\n",
      "Data columns (total 3 columns):\n",
      "idaviso         uint32\n",
      "idpostulante    object\n",
      "se_postulo      uint8\n",
      "dtypes: object(1), uint32(1), uint8(1)\n",
      "memory usage: 172.2+ MB\n"
     ]
    }
   ],
   "source": [
    "vistas.rename(index=str,columns={'idAviso':'idaviso'},inplace=True)\n",
    "vistas.info()"
   ]
  },
  {
   "cell_type": "markdown",
   "metadata": {},
   "source": [
    "# Agrego datos de avisos y lo mergeo con las vistas"
   ]
  },
  {
   "cell_type": "code",
   "execution_count": 12,
   "metadata": {},
   "outputs": [],
   "source": [
    "avisos = pd.read_csv('/home/lucio/Documentos/Datos/NaventDatosTP/Data/optimized_avisos_detalle.csv')\n",
    "avisos.drop(columns=['Unnamed: 0'],axis=1,inplace=True)"
   ]
  },
  {
   "cell_type": "code",
   "execution_count": 30,
   "metadata": {},
   "outputs": [
    {
     "data": {
      "text/plain": [
       "idaviso                      0\n",
       "nombre_area_code             0\n",
       "denominacion_empresa_code    0\n",
       "nivel_laboral_code           0\n",
       "tipo_de_trabajo_code         0\n",
       "nombre_zona_code             0\n",
       "dtype: int64"
      ]
     },
     "execution_count": 30,
     "metadata": {},
     "output_type": "execute_result"
    }
   ],
   "source": [
    "avisos.isnull().sum()"
   ]
  },
  {
   "cell_type": "code",
   "execution_count": 13,
   "metadata": {},
   "outputs": [],
   "source": [
    "#Hago un merge de avisos y vistas\n",
    "vistas_y_avisos = pd.merge(vistas,avisos,how='inner',on='idaviso')"
   ]
  },
  {
   "cell_type": "code",
   "execution_count": 14,
   "metadata": {},
   "outputs": [
    {
     "name": "stdout",
     "output_type": "stream",
     "text": [
      "<class 'pandas.core.frame.DataFrame'>\n",
      "Int64Index: 5542237 entries, 0 to 5542236\n",
      "Data columns (total 8 columns):\n",
      "idaviso                      uint32\n",
      "idpostulante                 object\n",
      "se_postulo                   uint8\n",
      "nombre_area_code             uint8\n",
      "denominacion_empresa_code    uint16\n",
      "nivel_laboral_code           uint8\n",
      "tipo_de_trabajo_code         uint8\n",
      "nombre_zona_code             uint8\n",
      "dtypes: object(1), uint16(1), uint32(1), uint8(5)\n",
      "memory usage: 142.7+ MB\n"
     ]
    }
   ],
   "source": [
    "vistas_y_avisos[['nombre_area_code','denominacion_empresa_code','nivel_laboral_code','tipo_de_trabajo_code',\n",
    "                'nombre_zona_code']] = vistas_y_avisos[['nombre_area_code','denominacion_empresa_code','nivel_laboral_code','tipo_de_trabajo_code',\n",
    "                'nombre_zona_code']].apply(pd.to_numeric,downcast='unsigned')\n",
    "vistas_y_avisos.info()"
   ]
  },
  {
   "cell_type": "markdown",
   "metadata": {},
   "source": [
    "# Merge de todos"
   ]
  },
  {
   "cell_type": "code",
   "execution_count": null,
   "metadata": {},
   "outputs": [],
   "source": [
    "#Puede que haya vistas que enrealidad el postulante luego se postulo asi que verifico con el dataset merge\n",
    "outer = pd.merge(merge_sin_nan,vistas_y_avisos,how='outer',on=['idaviso','idpostulante'])"
   ]
  },
  {
   "cell_type": "code",
   "execution_count": 51,
   "metadata": {},
   "outputs": [
    {
     "ename": "MemoryError",
     "evalue": "",
     "output_type": "error",
     "traceback": [
      "\u001b[0;31m---------------------------------------------------------------------------\u001b[0m",
      "\u001b[0;31mMemoryError\u001b[0m                               Traceback (most recent call last)",
      "\u001b[0;32m<ipython-input-51-91a793100289>\u001b[0m in \u001b[0;36m<module>\u001b[0;34m()\u001b[0m\n\u001b[1;32m      7\u001b[0m              \u001b[0mouter\u001b[0m\u001b[0;34m[\u001b[0m\u001b[0;34m'nivel_laboral_code'\u001b[0m\u001b[0;34m]\u001b[0m\u001b[0;34m.\u001b[0m\u001b[0mnotnull\u001b[0m\u001b[0;34m(\u001b[0m\u001b[0;34m)\u001b[0m \u001b[0;34m&\u001b[0m\u001b[0;34m\u001b[0m\u001b[0m\n\u001b[1;32m      8\u001b[0m              \u001b[0mouter\u001b[0m\u001b[0;34m[\u001b[0m\u001b[0;34m'tipo_de_trabajo_code'\u001b[0m\u001b[0;34m]\u001b[0m\u001b[0;34m.\u001b[0m\u001b[0mnotnull\u001b[0m\u001b[0;34m(\u001b[0m\u001b[0;34m)\u001b[0m \u001b[0;34m&\u001b[0m\u001b[0;34m\u001b[0m\u001b[0m\n\u001b[0;32m----> 9\u001b[0;31m              outer['nombre_zona_code'].notnull()]\n\u001b[0m",
      "\u001b[0;32m~/Documentos/Datos/lib/python3.6/site-packages/pandas/core/frame.py\u001b[0m in \u001b[0;36m__getitem__\u001b[0;34m(self, key)\u001b[0m\n\u001b[1;32m   2677\u001b[0m         \u001b[0;32mif\u001b[0m \u001b[0misinstance\u001b[0m\u001b[0;34m(\u001b[0m\u001b[0mkey\u001b[0m\u001b[0;34m,\u001b[0m \u001b[0;34m(\u001b[0m\u001b[0mSeries\u001b[0m\u001b[0;34m,\u001b[0m \u001b[0mnp\u001b[0m\u001b[0;34m.\u001b[0m\u001b[0mndarray\u001b[0m\u001b[0;34m,\u001b[0m \u001b[0mIndex\u001b[0m\u001b[0;34m,\u001b[0m \u001b[0mlist\u001b[0m\u001b[0;34m)\u001b[0m\u001b[0;34m)\u001b[0m\u001b[0;34m:\u001b[0m\u001b[0;34m\u001b[0m\u001b[0m\n\u001b[1;32m   2678\u001b[0m             \u001b[0;31m# either boolean or fancy integer index\u001b[0m\u001b[0;34m\u001b[0m\u001b[0;34m\u001b[0m\u001b[0m\n\u001b[0;32m-> 2679\u001b[0;31m             \u001b[0;32mreturn\u001b[0m \u001b[0mself\u001b[0m\u001b[0;34m.\u001b[0m\u001b[0m_getitem_array\u001b[0m\u001b[0;34m(\u001b[0m\u001b[0mkey\u001b[0m\u001b[0;34m)\u001b[0m\u001b[0;34m\u001b[0m\u001b[0m\n\u001b[0m\u001b[1;32m   2680\u001b[0m         \u001b[0;32melif\u001b[0m \u001b[0misinstance\u001b[0m\u001b[0;34m(\u001b[0m\u001b[0mkey\u001b[0m\u001b[0;34m,\u001b[0m \u001b[0mDataFrame\u001b[0m\u001b[0;34m)\u001b[0m\u001b[0;34m:\u001b[0m\u001b[0;34m\u001b[0m\u001b[0m\n\u001b[1;32m   2681\u001b[0m             \u001b[0;32mreturn\u001b[0m \u001b[0mself\u001b[0m\u001b[0;34m.\u001b[0m\u001b[0m_getitem_frame\u001b[0m\u001b[0;34m(\u001b[0m\u001b[0mkey\u001b[0m\u001b[0;34m)\u001b[0m\u001b[0;34m\u001b[0m\u001b[0m\n",
      "\u001b[0;32m~/Documentos/Datos/lib/python3.6/site-packages/pandas/core/frame.py\u001b[0m in \u001b[0;36m_getitem_array\u001b[0;34m(self, key)\u001b[0m\n\u001b[1;32m   2719\u001b[0m             \u001b[0mkey\u001b[0m \u001b[0;34m=\u001b[0m \u001b[0mcheck_bool_indexer\u001b[0m\u001b[0;34m(\u001b[0m\u001b[0mself\u001b[0m\u001b[0;34m.\u001b[0m\u001b[0mindex\u001b[0m\u001b[0;34m,\u001b[0m \u001b[0mkey\u001b[0m\u001b[0;34m)\u001b[0m\u001b[0;34m\u001b[0m\u001b[0m\n\u001b[1;32m   2720\u001b[0m             \u001b[0mindexer\u001b[0m \u001b[0;34m=\u001b[0m \u001b[0mkey\u001b[0m\u001b[0;34m.\u001b[0m\u001b[0mnonzero\u001b[0m\u001b[0;34m(\u001b[0m\u001b[0;34m)\u001b[0m\u001b[0;34m[\u001b[0m\u001b[0;36m0\u001b[0m\u001b[0;34m]\u001b[0m\u001b[0;34m\u001b[0m\u001b[0m\n\u001b[0;32m-> 2721\u001b[0;31m             \u001b[0;32mreturn\u001b[0m \u001b[0mself\u001b[0m\u001b[0;34m.\u001b[0m\u001b[0m_take\u001b[0m\u001b[0;34m(\u001b[0m\u001b[0mindexer\u001b[0m\u001b[0;34m,\u001b[0m \u001b[0maxis\u001b[0m\u001b[0;34m=\u001b[0m\u001b[0;36m0\u001b[0m\u001b[0;34m)\u001b[0m\u001b[0;34m\u001b[0m\u001b[0m\n\u001b[0m\u001b[1;32m   2722\u001b[0m         \u001b[0;32melse\u001b[0m\u001b[0;34m:\u001b[0m\u001b[0;34m\u001b[0m\u001b[0m\n\u001b[1;32m   2723\u001b[0m             \u001b[0mindexer\u001b[0m \u001b[0;34m=\u001b[0m \u001b[0mself\u001b[0m\u001b[0;34m.\u001b[0m\u001b[0mloc\u001b[0m\u001b[0;34m.\u001b[0m\u001b[0m_convert_to_indexer\u001b[0m\u001b[0;34m(\u001b[0m\u001b[0mkey\u001b[0m\u001b[0;34m,\u001b[0m \u001b[0maxis\u001b[0m\u001b[0;34m=\u001b[0m\u001b[0;36m1\u001b[0m\u001b[0;34m)\u001b[0m\u001b[0;34m\u001b[0m\u001b[0m\n",
      "\u001b[0;32m~/Documentos/Datos/lib/python3.6/site-packages/pandas/core/generic.py\u001b[0m in \u001b[0;36m_take\u001b[0;34m(self, indices, axis, is_copy)\u001b[0m\n\u001b[1;32m   2780\u001b[0m     \u001b[0;34m@\u001b[0m\u001b[0mAppender\u001b[0m\u001b[0;34m(\u001b[0m\u001b[0m_shared_docs\u001b[0m\u001b[0;34m[\u001b[0m\u001b[0;34m'_take'\u001b[0m\u001b[0;34m]\u001b[0m\u001b[0;34m)\u001b[0m\u001b[0;34m\u001b[0m\u001b[0m\n\u001b[1;32m   2781\u001b[0m     \u001b[0;32mdef\u001b[0m \u001b[0m_take\u001b[0m\u001b[0;34m(\u001b[0m\u001b[0mself\u001b[0m\u001b[0;34m,\u001b[0m \u001b[0mindices\u001b[0m\u001b[0;34m,\u001b[0m \u001b[0maxis\u001b[0m\u001b[0;34m=\u001b[0m\u001b[0;36m0\u001b[0m\u001b[0;34m,\u001b[0m \u001b[0mis_copy\u001b[0m\u001b[0;34m=\u001b[0m\u001b[0;32mTrue\u001b[0m\u001b[0;34m)\u001b[0m\u001b[0;34m:\u001b[0m\u001b[0;34m\u001b[0m\u001b[0m\n\u001b[0;32m-> 2782\u001b[0;31m         \u001b[0mself\u001b[0m\u001b[0;34m.\u001b[0m\u001b[0m_consolidate_inplace\u001b[0m\u001b[0;34m(\u001b[0m\u001b[0;34m)\u001b[0m\u001b[0;34m\u001b[0m\u001b[0m\n\u001b[0m\u001b[1;32m   2783\u001b[0m \u001b[0;34m\u001b[0m\u001b[0m\n\u001b[1;32m   2784\u001b[0m         new_data = self._data.take(indices,\n",
      "\u001b[0;32m~/Documentos/Datos/lib/python3.6/site-packages/pandas/core/generic.py\u001b[0m in \u001b[0;36m_consolidate_inplace\u001b[0;34m(self)\u001b[0m\n\u001b[1;32m   4433\u001b[0m             \u001b[0mself\u001b[0m\u001b[0;34m.\u001b[0m\u001b[0m_data\u001b[0m \u001b[0;34m=\u001b[0m \u001b[0mself\u001b[0m\u001b[0;34m.\u001b[0m\u001b[0m_data\u001b[0m\u001b[0;34m.\u001b[0m\u001b[0mconsolidate\u001b[0m\u001b[0;34m(\u001b[0m\u001b[0;34m)\u001b[0m\u001b[0;34m\u001b[0m\u001b[0m\n\u001b[1;32m   4434\u001b[0m \u001b[0;34m\u001b[0m\u001b[0m\n\u001b[0;32m-> 4435\u001b[0;31m         \u001b[0mself\u001b[0m\u001b[0;34m.\u001b[0m\u001b[0m_protect_consolidate\u001b[0m\u001b[0;34m(\u001b[0m\u001b[0mf\u001b[0m\u001b[0;34m)\u001b[0m\u001b[0;34m\u001b[0m\u001b[0m\n\u001b[0m\u001b[1;32m   4436\u001b[0m \u001b[0;34m\u001b[0m\u001b[0m\n\u001b[1;32m   4437\u001b[0m     \u001b[0;32mdef\u001b[0m \u001b[0m_consolidate\u001b[0m\u001b[0;34m(\u001b[0m\u001b[0mself\u001b[0m\u001b[0;34m,\u001b[0m \u001b[0minplace\u001b[0m\u001b[0;34m=\u001b[0m\u001b[0;32mFalse\u001b[0m\u001b[0;34m)\u001b[0m\u001b[0;34m:\u001b[0m\u001b[0;34m\u001b[0m\u001b[0m\n",
      "\u001b[0;32m~/Documentos/Datos/lib/python3.6/site-packages/pandas/core/generic.py\u001b[0m in \u001b[0;36m_protect_consolidate\u001b[0;34m(self, f)\u001b[0m\n\u001b[1;32m   4422\u001b[0m         \"\"\"\n\u001b[1;32m   4423\u001b[0m         \u001b[0mblocks_before\u001b[0m \u001b[0;34m=\u001b[0m \u001b[0mlen\u001b[0m\u001b[0;34m(\u001b[0m\u001b[0mself\u001b[0m\u001b[0;34m.\u001b[0m\u001b[0m_data\u001b[0m\u001b[0;34m.\u001b[0m\u001b[0mblocks\u001b[0m\u001b[0;34m)\u001b[0m\u001b[0;34m\u001b[0m\u001b[0m\n\u001b[0;32m-> 4424\u001b[0;31m         \u001b[0mresult\u001b[0m \u001b[0;34m=\u001b[0m \u001b[0mf\u001b[0m\u001b[0;34m(\u001b[0m\u001b[0;34m)\u001b[0m\u001b[0;34m\u001b[0m\u001b[0m\n\u001b[0m\u001b[1;32m   4425\u001b[0m         \u001b[0;32mif\u001b[0m \u001b[0mlen\u001b[0m\u001b[0;34m(\u001b[0m\u001b[0mself\u001b[0m\u001b[0;34m.\u001b[0m\u001b[0m_data\u001b[0m\u001b[0;34m.\u001b[0m\u001b[0mblocks\u001b[0m\u001b[0;34m)\u001b[0m \u001b[0;34m!=\u001b[0m \u001b[0mblocks_before\u001b[0m\u001b[0;34m:\u001b[0m\u001b[0;34m\u001b[0m\u001b[0m\n\u001b[1;32m   4426\u001b[0m             \u001b[0mself\u001b[0m\u001b[0;34m.\u001b[0m\u001b[0m_clear_item_cache\u001b[0m\u001b[0;34m(\u001b[0m\u001b[0;34m)\u001b[0m\u001b[0;34m\u001b[0m\u001b[0m\n",
      "\u001b[0;32m~/Documentos/Datos/lib/python3.6/site-packages/pandas/core/generic.py\u001b[0m in \u001b[0;36mf\u001b[0;34m()\u001b[0m\n\u001b[1;32m   4431\u001b[0m \u001b[0;34m\u001b[0m\u001b[0m\n\u001b[1;32m   4432\u001b[0m         \u001b[0;32mdef\u001b[0m \u001b[0mf\u001b[0m\u001b[0;34m(\u001b[0m\u001b[0;34m)\u001b[0m\u001b[0;34m:\u001b[0m\u001b[0;34m\u001b[0m\u001b[0m\n\u001b[0;32m-> 4433\u001b[0;31m             \u001b[0mself\u001b[0m\u001b[0;34m.\u001b[0m\u001b[0m_data\u001b[0m \u001b[0;34m=\u001b[0m \u001b[0mself\u001b[0m\u001b[0;34m.\u001b[0m\u001b[0m_data\u001b[0m\u001b[0;34m.\u001b[0m\u001b[0mconsolidate\u001b[0m\u001b[0;34m(\u001b[0m\u001b[0;34m)\u001b[0m\u001b[0;34m\u001b[0m\u001b[0m\n\u001b[0m\u001b[1;32m   4434\u001b[0m \u001b[0;34m\u001b[0m\u001b[0m\n\u001b[1;32m   4435\u001b[0m         \u001b[0mself\u001b[0m\u001b[0;34m.\u001b[0m\u001b[0m_protect_consolidate\u001b[0m\u001b[0;34m(\u001b[0m\u001b[0mf\u001b[0m\u001b[0;34m)\u001b[0m\u001b[0;34m\u001b[0m\u001b[0m\n",
      "\u001b[0;32m~/Documentos/Datos/lib/python3.6/site-packages/pandas/core/internals.py\u001b[0m in \u001b[0;36mconsolidate\u001b[0;34m(self)\u001b[0m\n\u001b[1;32m   4096\u001b[0m         \u001b[0mbm\u001b[0m \u001b[0;34m=\u001b[0m \u001b[0mself\u001b[0m\u001b[0;34m.\u001b[0m\u001b[0m__class__\u001b[0m\u001b[0;34m(\u001b[0m\u001b[0mself\u001b[0m\u001b[0;34m.\u001b[0m\u001b[0mblocks\u001b[0m\u001b[0;34m,\u001b[0m \u001b[0mself\u001b[0m\u001b[0;34m.\u001b[0m\u001b[0maxes\u001b[0m\u001b[0;34m)\u001b[0m\u001b[0;34m\u001b[0m\u001b[0m\n\u001b[1;32m   4097\u001b[0m         \u001b[0mbm\u001b[0m\u001b[0;34m.\u001b[0m\u001b[0m_is_consolidated\u001b[0m \u001b[0;34m=\u001b[0m \u001b[0;32mFalse\u001b[0m\u001b[0;34m\u001b[0m\u001b[0m\n\u001b[0;32m-> 4098\u001b[0;31m         \u001b[0mbm\u001b[0m\u001b[0;34m.\u001b[0m\u001b[0m_consolidate_inplace\u001b[0m\u001b[0;34m(\u001b[0m\u001b[0;34m)\u001b[0m\u001b[0;34m\u001b[0m\u001b[0m\n\u001b[0m\u001b[1;32m   4099\u001b[0m         \u001b[0;32mreturn\u001b[0m \u001b[0mbm\u001b[0m\u001b[0;34m\u001b[0m\u001b[0m\n\u001b[1;32m   4100\u001b[0m \u001b[0;34m\u001b[0m\u001b[0m\n",
      "\u001b[0;32m~/Documentos/Datos/lib/python3.6/site-packages/pandas/core/internals.py\u001b[0m in \u001b[0;36m_consolidate_inplace\u001b[0;34m(self)\u001b[0m\n\u001b[1;32m   4101\u001b[0m     \u001b[0;32mdef\u001b[0m \u001b[0m_consolidate_inplace\u001b[0m\u001b[0;34m(\u001b[0m\u001b[0mself\u001b[0m\u001b[0;34m)\u001b[0m\u001b[0;34m:\u001b[0m\u001b[0;34m\u001b[0m\u001b[0m\n\u001b[1;32m   4102\u001b[0m         \u001b[0;32mif\u001b[0m \u001b[0;32mnot\u001b[0m \u001b[0mself\u001b[0m\u001b[0;34m.\u001b[0m\u001b[0mis_consolidated\u001b[0m\u001b[0;34m(\u001b[0m\u001b[0;34m)\u001b[0m\u001b[0;34m:\u001b[0m\u001b[0;34m\u001b[0m\u001b[0m\n\u001b[0;32m-> 4103\u001b[0;31m             \u001b[0mself\u001b[0m\u001b[0;34m.\u001b[0m\u001b[0mblocks\u001b[0m \u001b[0;34m=\u001b[0m \u001b[0mtuple\u001b[0m\u001b[0;34m(\u001b[0m\u001b[0m_consolidate\u001b[0m\u001b[0;34m(\u001b[0m\u001b[0mself\u001b[0m\u001b[0;34m.\u001b[0m\u001b[0mblocks\u001b[0m\u001b[0;34m)\u001b[0m\u001b[0;34m)\u001b[0m\u001b[0;34m\u001b[0m\u001b[0m\n\u001b[0m\u001b[1;32m   4104\u001b[0m             \u001b[0mself\u001b[0m\u001b[0;34m.\u001b[0m\u001b[0m_is_consolidated\u001b[0m \u001b[0;34m=\u001b[0m \u001b[0;32mTrue\u001b[0m\u001b[0;34m\u001b[0m\u001b[0m\n\u001b[1;32m   4105\u001b[0m             \u001b[0mself\u001b[0m\u001b[0;34m.\u001b[0m\u001b[0m_known_consolidated\u001b[0m \u001b[0;34m=\u001b[0m \u001b[0;32mTrue\u001b[0m\u001b[0;34m\u001b[0m\u001b[0m\n",
      "\u001b[0;32m~/Documentos/Datos/lib/python3.6/site-packages/pandas/core/internals.py\u001b[0m in \u001b[0;36m_consolidate\u001b[0;34m(blocks)\u001b[0m\n\u001b[1;32m   5067\u001b[0m     \u001b[0;32mfor\u001b[0m \u001b[0;34m(\u001b[0m\u001b[0m_can_consolidate\u001b[0m\u001b[0;34m,\u001b[0m \u001b[0mdtype\u001b[0m\u001b[0;34m)\u001b[0m\u001b[0;34m,\u001b[0m \u001b[0mgroup_blocks\u001b[0m \u001b[0;32min\u001b[0m \u001b[0mgrouper\u001b[0m\u001b[0;34m:\u001b[0m\u001b[0;34m\u001b[0m\u001b[0m\n\u001b[1;32m   5068\u001b[0m         merged_blocks = _merge_blocks(list(group_blocks), dtype=dtype,\n\u001b[0;32m-> 5069\u001b[0;31m                                       _can_consolidate=_can_consolidate)\n\u001b[0m\u001b[1;32m   5070\u001b[0m         \u001b[0mnew_blocks\u001b[0m \u001b[0;34m=\u001b[0m \u001b[0m_extend_blocks\u001b[0m\u001b[0;34m(\u001b[0m\u001b[0mmerged_blocks\u001b[0m\u001b[0;34m,\u001b[0m \u001b[0mnew_blocks\u001b[0m\u001b[0;34m)\u001b[0m\u001b[0;34m\u001b[0m\u001b[0m\n\u001b[1;32m   5071\u001b[0m     \u001b[0;32mreturn\u001b[0m \u001b[0mnew_blocks\u001b[0m\u001b[0;34m\u001b[0m\u001b[0m\n",
      "\u001b[0;32m~/Documentos/Datos/lib/python3.6/site-packages/pandas/core/internals.py\u001b[0m in \u001b[0;36m_merge_blocks\u001b[0;34m(blocks, dtype, _can_consolidate)\u001b[0m\n\u001b[1;32m   5087\u001b[0m         \u001b[0;31m# combination of those slices is a slice, too.\u001b[0m\u001b[0;34m\u001b[0m\u001b[0;34m\u001b[0m\u001b[0m\n\u001b[1;32m   5088\u001b[0m         \u001b[0mnew_mgr_locs\u001b[0m \u001b[0;34m=\u001b[0m \u001b[0mnp\u001b[0m\u001b[0;34m.\u001b[0m\u001b[0mconcatenate\u001b[0m\u001b[0;34m(\u001b[0m\u001b[0;34m[\u001b[0m\u001b[0mb\u001b[0m\u001b[0;34m.\u001b[0m\u001b[0mmgr_locs\u001b[0m\u001b[0;34m.\u001b[0m\u001b[0mas_array\u001b[0m \u001b[0;32mfor\u001b[0m \u001b[0mb\u001b[0m \u001b[0;32min\u001b[0m \u001b[0mblocks\u001b[0m\u001b[0;34m]\u001b[0m\u001b[0;34m)\u001b[0m\u001b[0;34m\u001b[0m\u001b[0m\n\u001b[0;32m-> 5089\u001b[0;31m         \u001b[0mnew_values\u001b[0m \u001b[0;34m=\u001b[0m \u001b[0m_vstack\u001b[0m\u001b[0;34m(\u001b[0m\u001b[0;34m[\u001b[0m\u001b[0mb\u001b[0m\u001b[0;34m.\u001b[0m\u001b[0mvalues\u001b[0m \u001b[0;32mfor\u001b[0m \u001b[0mb\u001b[0m \u001b[0;32min\u001b[0m \u001b[0mblocks\u001b[0m\u001b[0;34m]\u001b[0m\u001b[0;34m,\u001b[0m \u001b[0mdtype\u001b[0m\u001b[0;34m)\u001b[0m\u001b[0;34m\u001b[0m\u001b[0m\n\u001b[0m\u001b[1;32m   5090\u001b[0m \u001b[0;34m\u001b[0m\u001b[0m\n\u001b[1;32m   5091\u001b[0m         \u001b[0margsort\u001b[0m \u001b[0;34m=\u001b[0m \u001b[0mnp\u001b[0m\u001b[0;34m.\u001b[0m\u001b[0margsort\u001b[0m\u001b[0;34m(\u001b[0m\u001b[0mnew_mgr_locs\u001b[0m\u001b[0;34m)\u001b[0m\u001b[0;34m\u001b[0m\u001b[0m\n",
      "\u001b[0;32m~/Documentos/Datos/lib/python3.6/site-packages/pandas/core/internals.py\u001b[0m in \u001b[0;36m_vstack\u001b[0;34m(to_stack, dtype)\u001b[0m\n\u001b[1;32m   5133\u001b[0m \u001b[0;34m\u001b[0m\u001b[0m\n\u001b[1;32m   5134\u001b[0m     \u001b[0;32melse\u001b[0m\u001b[0;34m:\u001b[0m\u001b[0;34m\u001b[0m\u001b[0m\n\u001b[0;32m-> 5135\u001b[0;31m         \u001b[0;32mreturn\u001b[0m \u001b[0mnp\u001b[0m\u001b[0;34m.\u001b[0m\u001b[0mvstack\u001b[0m\u001b[0;34m(\u001b[0m\u001b[0mto_stack\u001b[0m\u001b[0;34m)\u001b[0m\u001b[0;34m\u001b[0m\u001b[0m\n\u001b[0m\u001b[1;32m   5136\u001b[0m \u001b[0;34m\u001b[0m\u001b[0m\n\u001b[1;32m   5137\u001b[0m \u001b[0;34m\u001b[0m\u001b[0m\n",
      "\u001b[0;32m~/Documentos/Datos/lib/python3.6/site-packages/numpy/core/shape_base.py\u001b[0m in \u001b[0;36mvstack\u001b[0;34m(tup)\u001b[0m\n\u001b[1;32m    232\u001b[0m \u001b[0;34m\u001b[0m\u001b[0m\n\u001b[1;32m    233\u001b[0m     \"\"\"\n\u001b[0;32m--> 234\u001b[0;31m     \u001b[0;32mreturn\u001b[0m \u001b[0m_nx\u001b[0m\u001b[0;34m.\u001b[0m\u001b[0mconcatenate\u001b[0m\u001b[0;34m(\u001b[0m\u001b[0;34m[\u001b[0m\u001b[0matleast_2d\u001b[0m\u001b[0;34m(\u001b[0m\u001b[0m_m\u001b[0m\u001b[0;34m)\u001b[0m \u001b[0;32mfor\u001b[0m \u001b[0m_m\u001b[0m \u001b[0;32min\u001b[0m \u001b[0mtup\u001b[0m\u001b[0;34m]\u001b[0m\u001b[0;34m,\u001b[0m \u001b[0;36m0\u001b[0m\u001b[0;34m)\u001b[0m\u001b[0;34m\u001b[0m\u001b[0m\n\u001b[0m\u001b[1;32m    235\u001b[0m \u001b[0;34m\u001b[0m\u001b[0m\n\u001b[1;32m    236\u001b[0m \u001b[0;32mdef\u001b[0m \u001b[0mhstack\u001b[0m\u001b[0;34m(\u001b[0m\u001b[0mtup\u001b[0m\u001b[0;34m)\u001b[0m\u001b[0;34m:\u001b[0m\u001b[0;34m\u001b[0m\u001b[0m\n",
      "\u001b[0;31mMemoryError\u001b[0m: "
     ]
    }
   ],
   "source": [
    "#Me quedo con los registros con todos los datos (por ahora desp ver si se puede usar imputing)\n",
    "outer = outer[outer['nombre_code'].notnull() &\n",
    "            outer['estado_code'].notnull() & \n",
    "            outer['edad'].notnull() &\n",
    "             outer['nombre_area_code'].notnull() &\n",
    "             outer['denominacion_empresa_code'].notnull() &\n",
    "             outer['nivel_laboral_code'].notnull() &\n",
    "             outer['tipo_de_trabajo_code'].notnull() &\n",
    "             outer['nombre_zona_code'].notnull()]"
   ]
  },
  {
   "cell_type": "code",
   "execution_count": 30,
   "metadata": {},
   "outputs": [
    {
     "data": {
      "text/plain": [
       "1.0    1674375\n",
       "Name: se_postulo_x, dtype: int64"
      ]
     },
     "execution_count": 30,
     "metadata": {},
     "output_type": "execute_result"
    }
   ],
   "source": [
    "outer.se_postulo_x.value_counts()"
   ]
  },
  {
   "cell_type": "code",
   "execution_count": 31,
   "metadata": {},
   "outputs": [],
   "source": [
    "#Dejo solo los que no aparecen ya en postulaciones\n",
    "trainingSet = outer[(outer['se_postulo_x'].isnull() & outer['se_postulo_y'] == 0) &\n",
    "                   (outer['se_postulo_x'] == 1 & outer['se_postulo_y'].isnull())]"
   ]
  },
  {
   "cell_type": "code",
   "execution_count": 32,
   "metadata": {},
   "outputs": [],
   "source": [
    "trainingSet.drop('se_postulo_x',axis=1,inplace=True)\n",
    "trainingSet.drop('Unnamed: 0',axis=1,inplace=True)\n",
    "trainingSet.rename(index=str,columns={'se_postulo_y':'se_postulo'},inplace=True)"
   ]
  },
  {
   "cell_type": "code",
   "execution_count": 33,
   "metadata": {},
   "outputs": [
    {
     "data": {
      "text/plain": [
       "0.0    1674375\n",
       "Name: se_postulo, dtype: int64"
      ]
     },
     "execution_count": 33,
     "metadata": {},
     "output_type": "execute_result"
    }
   ],
   "source": [
    "trainingSet.se_postulo.value_counts()"
   ]
  },
  {
   "cell_type": "code",
   "execution_count": 34,
   "metadata": {},
   "outputs": [],
   "source": [
    "postMasVistas = pd.concat([trainingSet,merge_sin_nan])"
   ]
  },
  {
   "cell_type": "code",
   "execution_count": 37,
   "metadata": {},
   "outputs": [
    {
     "data": {
      "text/plain": [
       "denominacion_empresa_code    6322780\n",
       "edad                               0\n",
       "estado_code                        0\n",
       "idaviso                            0\n",
       "idpostulante                       0\n",
       "nivel_laboral_code           6322780\n",
       "nombre_area_code             6322780\n",
       "nombre_code                        0\n",
       "nombre_zona_code             6322780\n",
       "se_postulo                         0\n",
       "sexo_code                          0\n",
       "tipo_de_trabajo_code         6322780\n",
       "dtype: int64"
      ]
     },
     "execution_count": 37,
     "metadata": {},
     "output_type": "execute_result"
    }
   ],
   "source": [
    "postMasVistas.isnull().sum()"
   ]
  },
  {
   "cell_type": "code",
   "execution_count": 38,
   "metadata": {},
   "outputs": [],
   "source": [
    "postMasVistas = postMasVistas[postMasVistas['denominacion_empresa_code'].notnull() &\n",
    "                             postMasVistas['nivel_laboral_code'].notnull() &\n",
    "                             postMasVistas['nombre_area_code'].notnull() &\n",
    "                             postMasVistas['nombre_zona_code'].notnull() &\n",
    "                             postMasVistas['tipo_de_trabajo_code'].notnull()]"
   ]
  },
  {
   "cell_type": "code",
   "execution_count": 39,
   "metadata": {},
   "outputs": [
    {
     "data": {
      "text/plain": [
       "denominacion_empresa_code    0\n",
       "edad                         0\n",
       "estado_code                  0\n",
       "idaviso                      0\n",
       "idpostulante                 0\n",
       "nivel_laboral_code           0\n",
       "nombre_area_code             0\n",
       "nombre_code                  0\n",
       "nombre_zona_code             0\n",
       "se_postulo                   0\n",
       "sexo_code                    0\n",
       "tipo_de_trabajo_code         0\n",
       "dtype: int64"
      ]
     },
     "execution_count": 39,
     "metadata": {},
     "output_type": "execute_result"
    }
   ],
   "source": [
    "postMasVistas.isnull().sum()"
   ]
  },
  {
   "cell_type": "code",
   "execution_count": 40,
   "metadata": {},
   "outputs": [
    {
     "data": {
      "text/plain": [
       "0.0    1674375\n",
       "Name: se_postulo, dtype: int64"
      ]
     },
     "execution_count": 40,
     "metadata": {},
     "output_type": "execute_result"
    }
   ],
   "source": [
    "postMasVistas.se_postulo.value_counts()"
   ]
  },
  {
   "cell_type": "code",
   "execution_count": 42,
   "metadata": {},
   "outputs": [],
   "source": [
    "#postMasVistas.to_csv('/home/fabrizio/env/NaventDatosTP/Data/postulaciones_mas_vistas_mas_avisos.csv')"
   ]
  },
  {
   "cell_type": "code",
   "execution_count": 92,
   "metadata": {},
   "outputs": [],
   "source": [
    "postMasVistasCopiaSinPostulanteParaCorr = postMasVistas.drop('idpostulante',axis=1)"
   ]
  },
  {
   "cell_type": "code",
   "execution_count": 95,
   "metadata": {},
   "outputs": [],
   "source": [
    "postMasVistasCopiaSinPostulanteParaCorr = postMasVistas.drop('idaviso',axis=1)"
   ]
  },
  {
   "cell_type": "code",
   "execution_count": 97,
   "metadata": {},
   "outputs": [
    {
     "name": "stdout",
     "output_type": "stream",
     "text": [
      "<class 'pandas.core.frame.DataFrame'>\n",
      "Index: 1674375 entries, 23 to 6322779\n",
      "Data columns (total 10 columns):\n",
      "denominacion_empresa_code    1674375 non-null float64\n",
      "edad                         1674375 non-null float64\n",
      "estado_code                  1674375 non-null float64\n",
      "nivel_laboral_code           1674375 non-null float64\n",
      "nombre_area_code             1674375 non-null float64\n",
      "nombre_code                  1674375 non-null float64\n",
      "nombre_zona_code             1674375 non-null float64\n",
      "se_postulo                   1674375 non-null float64\n",
      "sexo_code                    1674375 non-null float64\n",
      "tipo_de_trabajo_code         1674375 non-null float64\n",
      "dtypes: float64(10)\n",
      "memory usage: 140.5+ MB\n"
     ]
    }
   ],
   "source": [
    "postMasVistasCopiaSinPostulanteParaCorr.info()"
   ]
  },
  {
   "cell_type": "code",
   "execution_count": 104,
   "metadata": {},
   "outputs": [
    {
     "data": {
      "text/plain": [
       "0.0    1674375\n",
       "Name: se_postulo, dtype: int64"
      ]
     },
     "execution_count": 104,
     "metadata": {},
     "output_type": "execute_result"
    }
   ],
   "source": [
    "postMasVistasCopiaSinPostulanteParaCorr.se_postulo.value_counts()"
   ]
  },
  {
   "cell_type": "code",
   "execution_count": null,
   "metadata": {},
   "outputs": [],
   "source": [
    "#Dropeo las columnas que use para codificar\n",
    "postulantes_merge = postulantes_merge.drop(columns=['sexo','nombre','estado'])\n",
    "postulantes_merge.info()"
   ]
  },
  {
   "cell_type": "code",
   "execution_count": null,
   "metadata": {},
   "outputs": [],
   "source": [
    "postulantes_merge_int = postulantes_merge.select_dtypes(include=['int','float'])\n",
    "converted_int = postulantes_merge_int.apply(pd.to_numeric,downcast='unsigned')\n",
    "\n",
    "print(mem_usage(postulantes_merge_int))\n",
    "print(mem_usage(converted_int))\n",
    "\n",
    "compare_ints = pd.concat([postulantes_merge_int.dtypes,converted_int.dtypes],axis=1)\n",
    "compare_ints.columns = ['before','after']\n",
    "compare_ints.apply(pd.Series.value_counts)"
   ]
  },
  {
   "cell_type": "code",
   "execution_count": null,
   "metadata": {},
   "outputs": [],
   "source": [
    "optimized_postulantes_merge = postulantes_merge.copy()\n",
    "\n",
    "optimized_postulantes_merge[converted_int.columns] = converted_int\n",
    "\n",
    "print(mem_usage(postulantes_merge))\n",
    "print(mem_usage(optimized_postulantes_merge))"
   ]
  },
  {
   "cell_type": "code",
   "execution_count": null,
   "metadata": {},
   "outputs": [],
   "source": [
    "optimized_postulantes_merge.info()"
   ]
  },
  {
   "cell_type": "code",
   "execution_count": 19,
   "metadata": {},
   "outputs": [],
   "source": [
    "optimized_postulantes_merge.to_csv('Data/optimized_postulantes_merge.csv')"
   ]
  },
  {
   "cell_type": "code",
   "execution_count": 20,
   "metadata": {},
   "outputs": [],
   "source": [
    "intereses_vistas = pd.read_csv('Data/unique_postulantes_con_intereses_vistas.csv')"
   ]
  },
  {
   "cell_type": "code",
   "execution_count": 22,
   "metadata": {},
   "outputs": [
    {
     "data": {
      "text/html": [
       "<div>\n",
       "<style scoped>\n",
       "    .dataframe tbody tr th:only-of-type {\n",
       "        vertical-align: middle;\n",
       "    }\n",
       "\n",
       "    .dataframe tbody tr th {\n",
       "        vertical-align: top;\n",
       "    }\n",
       "\n",
       "    .dataframe thead th {\n",
       "        text-align: right;\n",
       "    }\n",
       "</style>\n",
       "<table border=\"1\" class=\"dataframe\">\n",
       "  <thead>\n",
       "    <tr style=\"text-align: right;\">\n",
       "      <th></th>\n",
       "      <th>idpostulante</th>\n",
       "      <th>nombre_zona_interes</th>\n",
       "      <th>nivel_laboral_interes</th>\n",
       "      <th>tipo_de_trabajo_interes</th>\n",
       "      <th>nombre_area_interes</th>\n",
       "    </tr>\n",
       "  </thead>\n",
       "  <tbody>\n",
       "    <tr>\n",
       "      <th>0</th>\n",
       "      <td>YjVJQ6Z</td>\n",
       "      <td>-7</td>\n",
       "      <td>-4</td>\n",
       "      <td>-1</td>\n",
       "      <td>-175</td>\n",
       "    </tr>\n",
       "    <tr>\n",
       "      <th>1</th>\n",
       "      <td>BmVpYoR</td>\n",
       "      <td>NaN</td>\n",
       "      <td>NaN</td>\n",
       "      <td>NaN</td>\n",
       "      <td>NaN</td>\n",
       "    </tr>\n",
       "    <tr>\n",
       "      <th>2</th>\n",
       "      <td>wVkBzZd</td>\n",
       "      <td>-7</td>\n",
       "      <td>-2</td>\n",
       "      <td>-1</td>\n",
       "      <td>-120</td>\n",
       "    </tr>\n",
       "    <tr>\n",
       "      <th>3</th>\n",
       "      <td>OqmP9pv</td>\n",
       "      <td>-7</td>\n",
       "      <td>-4-2</td>\n",
       "      <td>-1</td>\n",
       "      <td>-175</td>\n",
       "    </tr>\n",
       "    <tr>\n",
       "      <th>4</th>\n",
       "      <td>DrpbXDP</td>\n",
       "      <td>NaN</td>\n",
       "      <td>NaN</td>\n",
       "      <td>NaN</td>\n",
       "      <td>NaN</td>\n",
       "    </tr>\n",
       "  </tbody>\n",
       "</table>\n",
       "</div>"
      ],
      "text/plain": [
       "  idpostulante nombre_zona_interes nivel_laboral_interes  \\\n",
       "0      YjVJQ6Z                  -7                    -4   \n",
       "1      BmVpYoR                 NaN                   NaN   \n",
       "2      wVkBzZd                  -7                    -2   \n",
       "3      OqmP9pv                  -7                  -4-2   \n",
       "4      DrpbXDP                 NaN                   NaN   \n",
       "\n",
       "  tipo_de_trabajo_interes nombre_area_interes  \n",
       "0                      -1                -175  \n",
       "1                     NaN                 NaN  \n",
       "2                      -1                -120  \n",
       "3                      -1                -175  \n",
       "4                     NaN                 NaN  "
      ]
     },
     "execution_count": 22,
     "metadata": {},
     "output_type": "execute_result"
    }
   ],
   "source": [
    "intereses_vistas.head()"
   ]
  }
 ],
 "metadata": {
  "kernelspec": {
   "display_name": "Python 3",
   "language": "python",
   "name": "python3"
  },
  "language_info": {
   "codemirror_mode": {
    "name": "ipython",
    "version": 3
   },
   "file_extension": ".py",
   "mimetype": "text/x-python",
   "name": "python",
   "nbconvert_exporter": "python",
   "pygments_lexer": "ipython3",
   "version": "3.6.5"
  }
 },
 "nbformat": 4,
 "nbformat_minor": 2
}
