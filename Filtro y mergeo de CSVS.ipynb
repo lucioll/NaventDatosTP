{
 "cells": [
  {
   "cell_type": "code",
   "execution_count": 31,
   "metadata": {},
   "outputs": [],
   "source": [
    "import pandas as pd\n",
    "import numpy as np\n",
    "import glob,os"
   ]
  },
  {
   "cell_type": "markdown",
   "metadata": {},
   "source": [
    "# Funcion para reducir el uso de memoria en columnas numericas"
   ]
  },
  {
   "cell_type": "code",
   "execution_count": 2,
   "metadata": {},
   "outputs": [],
   "source": [
    "# We're going to be calculating memory usage a lot,\n",
    "# so we'll create a function to save us some time!\n",
    "\n",
    "def mem_usage(pandas_obj):\n",
    "    if isinstance(pandas_obj,pd.DataFrame):\n",
    "        usage_b = pandas_obj.memory_usage(deep=True).sum()\n",
    "    else: # we assume if not a df it's a series\n",
    "        usage_b = pandas_obj.memory_usage(deep=True)\n",
    "    usage_mb = usage_b / 1024 ** 2 # convert bytes to megabytes\n",
    "    return \"{:03.2f} MB\".format(usage_mb)\n"
   ]
  },
  {
   "cell_type": "markdown",
   "metadata": {},
   "source": [
    "# Postulantes Educacion"
   ]
  },
  {
   "cell_type": "code",
   "execution_count": 46,
   "metadata": {},
   "outputs": [],
   "source": [
    "fiuba_1_postulantes_educacion = pd.read_csv('Data/Postulantes-Educacion/fiuba_1_postulantes_educacion.csv')"
   ]
  },
  {
   "cell_type": "code",
   "execution_count": 47,
   "metadata": {},
   "outputs": [
    {
     "name": "stdout",
     "output_type": "stream",
     "text": [
      "<class 'pandas.core.frame.DataFrame'>\n",
      "RangeIndex: 298231 entries, 0 to 298230\n",
      "Data columns (total 3 columns):\n",
      "idpostulante    298231 non-null object\n",
      "nombre          298231 non-null object\n",
      "estado          298231 non-null object\n",
      "dtypes: object(3)\n",
      "memory usage: 6.8+ MB\n"
     ]
    }
   ],
   "source": [
    "fiuba_1_postulantes_educacion.info()"
   ]
  },
  {
   "cell_type": "code",
   "execution_count": 48,
   "metadata": {},
   "outputs": [
    {
     "name": "stdout",
     "output_type": "stream",
     "text": [
      "Average memory usage for int columns: 0.00 MB\n",
      "Average memory usage for object columns: 14.32 MB\n"
     ]
    }
   ],
   "source": [
    "for dtype in ['int','object']:\n",
    "    selected_dtype = fiuba_1_postulantes_educacion.select_dtypes(include=[dtype])\n",
    "    mean_usage_b = selected_dtype.memory_usage(deep=True).mean()\n",
    "    mean_usage_mb = mean_usage_b / 1024 ** 2\n",
    "    print(\"Average memory usage for {} columns: {:03.2f} MB\".format(dtype,mean_usage_mb))"
   ]
  },
  {
   "cell_type": "code",
   "execution_count": 49,
   "metadata": {},
   "outputs": [
    {
     "data": {
      "text/html": [
       "<div>\n",
       "<style scoped>\n",
       "    .dataframe tbody tr th:only-of-type {\n",
       "        vertical-align: middle;\n",
       "    }\n",
       "\n",
       "    .dataframe tbody tr th {\n",
       "        vertical-align: top;\n",
       "    }\n",
       "\n",
       "    .dataframe thead th {\n",
       "        text-align: right;\n",
       "    }\n",
       "</style>\n",
       "<table border=\"1\" class=\"dataframe\">\n",
       "  <thead>\n",
       "    <tr style=\"text-align: right;\">\n",
       "      <th></th>\n",
       "      <th>idpostulante</th>\n",
       "      <th>nombre</th>\n",
       "      <th>estado</th>\n",
       "    </tr>\n",
       "  </thead>\n",
       "  <tbody>\n",
       "    <tr>\n",
       "      <th>count</th>\n",
       "      <td>298231</td>\n",
       "      <td>298231</td>\n",
       "      <td>298231</td>\n",
       "    </tr>\n",
       "    <tr>\n",
       "      <th>unique</th>\n",
       "      <td>188752</td>\n",
       "      <td>7</td>\n",
       "      <td>3</td>\n",
       "    </tr>\n",
       "    <tr>\n",
       "      <th>top</th>\n",
       "      <td>YlMLGD</td>\n",
       "      <td>Secundario</td>\n",
       "      <td>Graduado</td>\n",
       "    </tr>\n",
       "    <tr>\n",
       "      <th>freq</th>\n",
       "      <td>9</td>\n",
       "      <td>110256</td>\n",
       "      <td>194474</td>\n",
       "    </tr>\n",
       "  </tbody>\n",
       "</table>\n",
       "</div>"
      ],
      "text/plain": [
       "       idpostulante      nombre    estado\n",
       "count        298231      298231    298231\n",
       "unique       188752           7         3\n",
       "top          YlMLGD  Secundario  Graduado\n",
       "freq              9      110256    194474"
      ]
     },
     "execution_count": 49,
     "metadata": {},
     "output_type": "execute_result"
    }
   ],
   "source": [
    "fiuba_1_postulantes_educacion_obj = fiuba_1_postulantes_educacion.select_dtypes(include=['object']).copy()\n",
    "fiuba_1_postulantes_educacion_obj.describe()"
   ]
  },
  {
   "cell_type": "code",
   "execution_count": 50,
   "metadata": {},
   "outputs": [
    {
     "name": "stdout",
     "output_type": "stream",
     "text": [
      "0    En Curso\n",
      "1    En Curso\n",
      "2    En Curso\n",
      "3    En Curso\n",
      "4    En Curso\n",
      "Name: estado, dtype: object\n",
      "0    En Curso\n",
      "1    En Curso\n",
      "2    En Curso\n",
      "3    En Curso\n",
      "4    En Curso\n",
      "Name: estado, dtype: category\n",
      "Categories (3, object): [Abandonado, En Curso, Graduado]\n"
     ]
    }
   ],
   "source": [
    "estado = fiuba_1_postulantes_educacion_obj.estado\n",
    "print(estado.head())\n",
    "\n",
    "estado_cat = estado.astype('category')\n",
    "print(estado_cat.head())"
   ]
  },
  {
   "cell_type": "code",
   "execution_count": 51,
   "metadata": {},
   "outputs": [
    {
     "data": {
      "text/plain": [
       "0    1\n",
       "1    1\n",
       "2    1\n",
       "3    1\n",
       "4    1\n",
       "dtype: int8"
      ]
     },
     "execution_count": 51,
     "metadata": {},
     "output_type": "execute_result"
    }
   ],
   "source": [
    "estado_cat.head().cat.codes"
   ]
  },
  {
   "cell_type": "code",
   "execution_count": 52,
   "metadata": {},
   "outputs": [
    {
     "name": "stdout",
     "output_type": "stream",
     "text": [
      "18.54 MB\n",
      "0.28 MB\n"
     ]
    }
   ],
   "source": [
    "print(mem_usage(estado))\n",
    "print(mem_usage(estado_cat))"
   ]
  },
  {
   "cell_type": "code",
   "execution_count": 53,
   "metadata": {},
   "outputs": [],
   "source": [
    "converted_obj = pd.DataFrame()\n",
    "\n",
    "for col in fiuba_1_postulantes_educacion_obj.columns:\n",
    "    num_unique_values = len(fiuba_1_postulantes_educacion_obj[col].unique())\n",
    "    num_total_values = len(fiuba_1_postulantes_educacion_obj[col])\n",
    "    if num_unique_values / num_total_values < 0.5:\n",
    "        converted_obj.loc[:,col] = fiuba_1_postulantes_educacion_obj[col].astype('category')\n",
    "    else:\n",
    "        converted_obj.loc[:,col] = fiuba_1_postulantes_educacion_obj[col]"
   ]
  },
  {
   "cell_type": "code",
   "execution_count": 54,
   "metadata": {},
   "outputs": [
    {
     "name": "stdout",
     "output_type": "stream",
     "text": [
      "58.14 MB\n",
      "18.71 MB\n"
     ]
    },
    {
     "data": {
      "text/html": [
       "<div>\n",
       "<style scoped>\n",
       "    .dataframe tbody tr th:only-of-type {\n",
       "        vertical-align: middle;\n",
       "    }\n",
       "\n",
       "    .dataframe tbody tr th {\n",
       "        vertical-align: top;\n",
       "    }\n",
       "\n",
       "    .dataframe thead th {\n",
       "        text-align: right;\n",
       "    }\n",
       "</style>\n",
       "<table border=\"1\" class=\"dataframe\">\n",
       "  <thead>\n",
       "    <tr style=\"text-align: right;\">\n",
       "      <th></th>\n",
       "      <th>before</th>\n",
       "      <th>after</th>\n",
       "    </tr>\n",
       "  </thead>\n",
       "  <tbody>\n",
       "    <tr>\n",
       "      <th>object</th>\n",
       "      <td>3.0</td>\n",
       "      <td>1</td>\n",
       "    </tr>\n",
       "    <tr>\n",
       "      <th>category</th>\n",
       "      <td>NaN</td>\n",
       "      <td>1</td>\n",
       "    </tr>\n",
       "    <tr>\n",
       "      <th>category</th>\n",
       "      <td>NaN</td>\n",
       "      <td>1</td>\n",
       "    </tr>\n",
       "  </tbody>\n",
       "</table>\n",
       "</div>"
      ],
      "text/plain": [
       "          before  after\n",
       "object       3.0      1\n",
       "category     NaN      1\n",
       "category     NaN      1"
      ]
     },
     "execution_count": 54,
     "metadata": {},
     "output_type": "execute_result"
    }
   ],
   "source": [
    "print(mem_usage(fiuba_1_postulantes_educacion_obj))\n",
    "print(mem_usage(converted_obj))\n",
    "\n",
    "compare_obj = pd.concat([fiuba_1_postulantes_educacion_obj.dtypes,converted_obj.dtypes],axis=1)\n",
    "compare_obj.columns = ['before','after']\n",
    "compare_obj.apply(pd.Series.value_counts)"
   ]
  },
  {
   "cell_type": "code",
   "execution_count": 55,
   "metadata": {},
   "outputs": [
    {
     "name": "stdout",
     "output_type": "stream",
     "text": [
      "{'estado': 'category', 'idpostulante': 'object', 'nombre': 'category'}\n"
     ]
    }
   ],
   "source": [
    "dtypes = converted_obj.dtypes\n",
    "\n",
    "dtypes_col = dtypes.index\n",
    "dtypes_type = [i.name for i in dtypes.values]\n",
    "\n",
    "column_types = dict(zip(dtypes_col, dtypes_type))\n",
    "\n",
    "# rather than print all 161 items, we'll\n",
    "# sample 10 key/value pairs from the dict\n",
    "# and print it nicely using prettyprint\n",
    "\n",
    "preview = first2pairs = {key:value for key,value in list(column_types.items())[:10]}\n",
    "import pprint\n",
    "pp = pp = pprint.PrettyPrinter(indent=4)\n",
    "pp.pprint(preview)"
   ]
  },
  {
   "cell_type": "code",
   "execution_count": 56,
   "metadata": {},
   "outputs": [
    {
     "data": {
      "text/plain": [
       "array([dtype('O'),\n",
       "       CategoricalDtype(categories=['Doctorado', 'Master', 'Otro', 'Posgrado', 'Secundario',\n",
       "                  'Terciario/Técnico', 'Universitario'],\n",
       "                 ordered=False),\n",
       "       CategoricalDtype(categories=['Abandonado', 'En Curso', 'Graduado'], ordered=False)],\n",
       "      dtype=object)"
      ]
     },
     "execution_count": 56,
     "metadata": {},
     "output_type": "execute_result"
    }
   ],
   "source": [
    "dtypes.values"
   ]
  },
  {
   "cell_type": "code",
   "execution_count": 70,
   "metadata": {},
   "outputs": [],
   "source": [
    "converted_obj.to_csv('Data/Postulantes-Educacion/fiuba_1_postulantes_educacion-reduced.csv')"
   ]
  },
  {
   "cell_type": "code",
   "execution_count": null,
   "metadata": {},
   "outputs": [],
   "source": []
  },
  {
   "cell_type": "code",
   "execution_count": 71,
   "metadata": {},
   "outputs": [],
   "source": [
    "fiuba_1_postulantes_educacionDesde15Abril = pd.read_csv('Data/Postulantes-Educacion/fiuba_1_postulantes_educacionDesde15Abril.csv')"
   ]
  },
  {
   "cell_type": "code",
   "execution_count": 72,
   "metadata": {},
   "outputs": [
    {
     "name": "stdout",
     "output_type": "stream",
     "text": [
      "<class 'pandas.core.frame.DataFrame'>\n",
      "RangeIndex: 397509 entries, 0 to 397508\n",
      "Data columns (total 3 columns):\n",
      "idpostulante    397509 non-null object\n",
      "nombre          397509 non-null object\n",
      "estado          397509 non-null object\n",
      "dtypes: object(3)\n",
      "memory usage: 9.1+ MB\n"
     ]
    }
   ],
   "source": [
    "fiuba_1_postulantes_educacionDesde15Abril.info()"
   ]
  },
  {
   "cell_type": "code",
   "execution_count": 73,
   "metadata": {},
   "outputs": [
    {
     "data": {
      "text/html": [
       "<div>\n",
       "<style scoped>\n",
       "    .dataframe tbody tr th:only-of-type {\n",
       "        vertical-align: middle;\n",
       "    }\n",
       "\n",
       "    .dataframe tbody tr th {\n",
       "        vertical-align: top;\n",
       "    }\n",
       "\n",
       "    .dataframe thead th {\n",
       "        text-align: right;\n",
       "    }\n",
       "</style>\n",
       "<table border=\"1\" class=\"dataframe\">\n",
       "  <thead>\n",
       "    <tr style=\"text-align: right;\">\n",
       "      <th></th>\n",
       "      <th>idpostulante</th>\n",
       "      <th>nombre</th>\n",
       "      <th>estado</th>\n",
       "    </tr>\n",
       "  </thead>\n",
       "  <tbody>\n",
       "    <tr>\n",
       "      <th>count</th>\n",
       "      <td>397509</td>\n",
       "      <td>397509</td>\n",
       "      <td>397509</td>\n",
       "    </tr>\n",
       "    <tr>\n",
       "      <th>unique</th>\n",
       "      <td>253688</td>\n",
       "      <td>7</td>\n",
       "      <td>3</td>\n",
       "    </tr>\n",
       "    <tr>\n",
       "      <th>top</th>\n",
       "      <td>YlMLGD</td>\n",
       "      <td>Universitario</td>\n",
       "      <td>Graduado</td>\n",
       "    </tr>\n",
       "    <tr>\n",
       "      <th>freq</th>\n",
       "      <td>9</td>\n",
       "      <td>145069</td>\n",
       "      <td>261312</td>\n",
       "    </tr>\n",
       "  </tbody>\n",
       "</table>\n",
       "</div>"
      ],
      "text/plain": [
       "       idpostulante         nombre    estado\n",
       "count        397509         397509    397509\n",
       "unique       253688              7         3\n",
       "top          YlMLGD  Universitario  Graduado\n",
       "freq              9         145069    261312"
      ]
     },
     "execution_count": 73,
     "metadata": {},
     "output_type": "execute_result"
    }
   ],
   "source": [
    "fiuba_1_postulantes_educacionDesde15Abril_obj = fiuba_1_postulantes_educacionDesde15Abril.select_dtypes(include=['object']).copy()\n",
    "fiuba_1_postulantes_educacionDesde15Abril_obj.describe()"
   ]
  },
  {
   "cell_type": "code",
   "execution_count": 74,
   "metadata": {},
   "outputs": [],
   "source": [
    "converted_obj = pd.DataFrame()\n",
    "\n",
    "for col in fiuba_1_postulantes_educacionDesde15Abril_obj.columns:\n",
    "    num_unique_values = len(fiuba_1_postulantes_educacionDesde15Abril_obj[col].unique())\n",
    "    num_total_values = len(fiuba_1_postulantes_educacionDesde15Abril_obj[col])\n",
    "    if num_unique_values / num_total_values < 0.5:\n",
    "        converted_obj.loc[:,col] = fiuba_1_postulantes_educacionDesde15Abril_obj[col].astype('category')\n",
    "    else:\n",
    "        converted_obj.loc[:,col] = fiuba_1_postulantes_educacionDesde15Abril_obj[col]"
   ]
  },
  {
   "cell_type": "code",
   "execution_count": 75,
   "metadata": {},
   "outputs": [
    {
     "name": "stdout",
     "output_type": "stream",
     "text": [
      "77.58 MB\n",
      "24.93 MB\n"
     ]
    },
    {
     "data": {
      "text/html": [
       "<div>\n",
       "<style scoped>\n",
       "    .dataframe tbody tr th:only-of-type {\n",
       "        vertical-align: middle;\n",
       "    }\n",
       "\n",
       "    .dataframe tbody tr th {\n",
       "        vertical-align: top;\n",
       "    }\n",
       "\n",
       "    .dataframe thead th {\n",
       "        text-align: right;\n",
       "    }\n",
       "</style>\n",
       "<table border=\"1\" class=\"dataframe\">\n",
       "  <thead>\n",
       "    <tr style=\"text-align: right;\">\n",
       "      <th></th>\n",
       "      <th>before</th>\n",
       "      <th>after</th>\n",
       "    </tr>\n",
       "  </thead>\n",
       "  <tbody>\n",
       "    <tr>\n",
       "      <th>object</th>\n",
       "      <td>3.0</td>\n",
       "      <td>1</td>\n",
       "    </tr>\n",
       "    <tr>\n",
       "      <th>category</th>\n",
       "      <td>NaN</td>\n",
       "      <td>1</td>\n",
       "    </tr>\n",
       "    <tr>\n",
       "      <th>category</th>\n",
       "      <td>NaN</td>\n",
       "      <td>1</td>\n",
       "    </tr>\n",
       "  </tbody>\n",
       "</table>\n",
       "</div>"
      ],
      "text/plain": [
       "          before  after\n",
       "object       3.0      1\n",
       "category     NaN      1\n",
       "category     NaN      1"
      ]
     },
     "execution_count": 75,
     "metadata": {},
     "output_type": "execute_result"
    }
   ],
   "source": [
    "print(mem_usage(fiuba_1_postulantes_educacionDesde15Abril_obj))\n",
    "print(mem_usage(converted_obj))\n",
    "\n",
    "compare_obj = pd.concat([fiuba_1_postulantes_educacionDesde15Abril_obj.dtypes,converted_obj.dtypes],axis=1)\n",
    "compare_obj.columns = ['before','after']\n",
    "compare_obj.apply(pd.Series.value_counts)"
   ]
  },
  {
   "cell_type": "code",
   "execution_count": 76,
   "metadata": {},
   "outputs": [],
   "source": [
    "converted_obj.to_csv('Data/Postulantes-Educacion/fiuba_1_postulantes_educacionDesde15Abril-reduced.csv')"
   ]
  },
  {
   "cell_type": "code",
   "execution_count": null,
   "metadata": {},
   "outputs": [],
   "source": []
  },
  {
   "cell_type": "code",
   "execution_count": 77,
   "metadata": {},
   "outputs": [],
   "source": [
    "fiuba_1_postulantes_educacionHasta15Abril = pd.read_csv('Data/Postulantes-Educacion/fiuba_1_postulantes_educacionHasta15Abril.csv')"
   ]
  },
  {
   "cell_type": "code",
   "execution_count": 78,
   "metadata": {},
   "outputs": [
    {
     "name": "stdout",
     "output_type": "stream",
     "text": [
      "<class 'pandas.core.frame.DataFrame'>\n",
      "RangeIndex: 407453 entries, 0 to 407452\n",
      "Data columns (total 3 columns):\n",
      "idpostulante    407453 non-null object\n",
      "nombre          407453 non-null object\n",
      "estado          407453 non-null object\n",
      "dtypes: object(3)\n",
      "memory usage: 9.3+ MB\n"
     ]
    }
   ],
   "source": [
    "fiuba_1_postulantes_educacionHasta15Abril.info()"
   ]
  },
  {
   "cell_type": "code",
   "execution_count": 79,
   "metadata": {},
   "outputs": [
    {
     "data": {
      "text/html": [
       "<div>\n",
       "<style scoped>\n",
       "    .dataframe tbody tr th:only-of-type {\n",
       "        vertical-align: middle;\n",
       "    }\n",
       "\n",
       "    .dataframe tbody tr th {\n",
       "        vertical-align: top;\n",
       "    }\n",
       "\n",
       "    .dataframe thead th {\n",
       "        text-align: right;\n",
       "    }\n",
       "</style>\n",
       "<table border=\"1\" class=\"dataframe\">\n",
       "  <thead>\n",
       "    <tr style=\"text-align: right;\">\n",
       "      <th></th>\n",
       "      <th>idpostulante</th>\n",
       "      <th>nombre</th>\n",
       "      <th>estado</th>\n",
       "    </tr>\n",
       "  </thead>\n",
       "  <tbody>\n",
       "    <tr>\n",
       "      <th>count</th>\n",
       "      <td>407453</td>\n",
       "      <td>407453</td>\n",
       "      <td>407453</td>\n",
       "    </tr>\n",
       "    <tr>\n",
       "      <th>unique</th>\n",
       "      <td>263788</td>\n",
       "      <td>7</td>\n",
       "      <td>3</td>\n",
       "    </tr>\n",
       "    <tr>\n",
       "      <th>top</th>\n",
       "      <td>YlMLGD</td>\n",
       "      <td>Universitario</td>\n",
       "      <td>Graduado</td>\n",
       "    </tr>\n",
       "    <tr>\n",
       "      <th>freq</th>\n",
       "      <td>9</td>\n",
       "      <td>155255</td>\n",
       "      <td>266008</td>\n",
       "    </tr>\n",
       "  </tbody>\n",
       "</table>\n",
       "</div>"
      ],
      "text/plain": [
       "       idpostulante         nombre    estado\n",
       "count        407453         407453    407453\n",
       "unique       263788              7         3\n",
       "top          YlMLGD  Universitario  Graduado\n",
       "freq              9         155255    266008"
      ]
     },
     "execution_count": 79,
     "metadata": {},
     "output_type": "execute_result"
    }
   ],
   "source": [
    "fiuba_1_postulantes_educacionHasta15Abril_obj = fiuba_1_postulantes_educacionHasta15Abril.select_dtypes(include=['object']).copy()\n",
    "fiuba_1_postulantes_educacionHasta15Abril_obj.describe()"
   ]
  },
  {
   "cell_type": "code",
   "execution_count": 80,
   "metadata": {},
   "outputs": [],
   "source": [
    "converted_obj = pd.DataFrame()\n",
    "\n",
    "for col in fiuba_1_postulantes_educacionHasta15Abril_obj.columns:\n",
    "    num_unique_values = len(fiuba_1_postulantes_educacionHasta15Abril_obj[col].unique())\n",
    "    num_total_values = len(fiuba_1_postulantes_educacionHasta15Abril_obj[col])\n",
    "    if num_unique_values / num_total_values < 0.5:\n",
    "        converted_obj.loc[:,col] = fiuba_1_postulantes_educacionHasta15Abril_obj[col].astype('category')\n",
    "    else:\n",
    "        converted_obj.loc[:,col] = fiuba_1_postulantes_educacionHasta15Abril_obj[col]"
   ]
  },
  {
   "cell_type": "code",
   "execution_count": 81,
   "metadata": {},
   "outputs": [
    {
     "name": "stdout",
     "output_type": "stream",
     "text": [
      "79.56 MB\n",
      "25.55 MB\n"
     ]
    },
    {
     "data": {
      "text/html": [
       "<div>\n",
       "<style scoped>\n",
       "    .dataframe tbody tr th:only-of-type {\n",
       "        vertical-align: middle;\n",
       "    }\n",
       "\n",
       "    .dataframe tbody tr th {\n",
       "        vertical-align: top;\n",
       "    }\n",
       "\n",
       "    .dataframe thead th {\n",
       "        text-align: right;\n",
       "    }\n",
       "</style>\n",
       "<table border=\"1\" class=\"dataframe\">\n",
       "  <thead>\n",
       "    <tr style=\"text-align: right;\">\n",
       "      <th></th>\n",
       "      <th>before</th>\n",
       "      <th>after</th>\n",
       "    </tr>\n",
       "  </thead>\n",
       "  <tbody>\n",
       "    <tr>\n",
       "      <th>object</th>\n",
       "      <td>3.0</td>\n",
       "      <td>1</td>\n",
       "    </tr>\n",
       "    <tr>\n",
       "      <th>category</th>\n",
       "      <td>NaN</td>\n",
       "      <td>1</td>\n",
       "    </tr>\n",
       "    <tr>\n",
       "      <th>category</th>\n",
       "      <td>NaN</td>\n",
       "      <td>1</td>\n",
       "    </tr>\n",
       "  </tbody>\n",
       "</table>\n",
       "</div>"
      ],
      "text/plain": [
       "          before  after\n",
       "object       3.0      1\n",
       "category     NaN      1\n",
       "category     NaN      1"
      ]
     },
     "execution_count": 81,
     "metadata": {},
     "output_type": "execute_result"
    }
   ],
   "source": [
    "print(mem_usage(fiuba_1_postulantes_educacionHasta15Abril_obj))\n",
    "print(mem_usage(converted_obj))\n",
    "\n",
    "compare_obj = pd.concat([fiuba_1_postulantes_educacionHasta15Abril_obj.dtypes,converted_obj.dtypes],axis=1)\n",
    "compare_obj.columns = ['before','after']\n",
    "compare_obj.apply(pd.Series.value_counts)"
   ]
  },
  {
   "cell_type": "code",
   "execution_count": 82,
   "metadata": {},
   "outputs": [],
   "source": [
    "converted_obj.to_csv('Data/Postulantes-Educacion/fiuba_1_postulantes_educacionHasta15Abril-reduced.csv')"
   ]
  },
  {
   "cell_type": "markdown",
   "metadata": {},
   "source": [
    "# Verifico que no haya IDs nulos ya que al hacer drop_duplicates dos NaN \\ los toma como iguales"
   ]
  },
  {
   "cell_type": "code",
   "execution_count": 33,
   "metadata": {},
   "outputs": [
    {
     "data": {
      "text/plain": [
       "False"
      ]
     },
     "execution_count": 33,
     "metadata": {},
     "output_type": "execute_result"
    }
   ],
   "source": [
    "fiuba_1_postulantes_educacion['idpostulante'].isnull().any()"
   ]
  },
  {
   "cell_type": "code",
   "execution_count": 34,
   "metadata": {},
   "outputs": [
    {
     "data": {
      "text/plain": [
       "False"
      ]
     },
     "execution_count": 34,
     "metadata": {},
     "output_type": "execute_result"
    }
   ],
   "source": [
    "fiuba_1_postulantes_educacionDesde15Abril['idpostulante'].isnull().any()"
   ]
  },
  {
   "cell_type": "code",
   "execution_count": 35,
   "metadata": {},
   "outputs": [
    {
     "data": {
      "text/plain": [
       "False"
      ]
     },
     "execution_count": 35,
     "metadata": {},
     "output_type": "execute_result"
    }
   ],
   "source": [
    "fiuba_1_postulantes_educacionHasta15Abril['idpostulante'].isnull().any()"
   ]
  },
  {
   "cell_type": "code",
   "execution_count": 38,
   "metadata": {},
   "outputs": [],
   "source": [
    "def nombre_to_value(x):\n",
    "    if(x == 'Otro'):\n",
    "        return 0\n",
    "    if(x == 'Secundario'):\n",
    "        return 1\n",
    "    if(x == 'Terciario/Técnico'):\n",
    "        return 2\n",
    "    if(x == 'Universitario'):\n",
    "        return 3\n",
    "    if(x == 'Posgrado'):\n",
    "        return 4\n",
    "    if(x == 'Master'):\n",
    "        return 5\n",
    "    if(x == 'Doctorado'):\n",
    "        return 6"
   ]
  },
  {
   "cell_type": "markdown",
   "metadata": {},
   "source": [
    "# Merge de CSVs de postulantes educacion"
   ]
  },
  {
   "cell_type": "code",
   "execution_count": 87,
   "metadata": {},
   "outputs": [
    {
     "name": "stdout",
     "output_type": "stream",
     "text": [
      "/home/lucio/Documentos/Datos/NaventDatosTP/Data/Postulantes-Educacion/fiuba_1_postulantes_educacionDesde15Abril-reduced.csv\n",
      "/home/lucio/Documentos/Datos/NaventDatosTP/Data/Postulantes-Educacion/fiuba_1_postulantes_educacion-reduced.csv\n",
      "/home/lucio/Documentos/Datos/NaventDatosTP/Data/Postulantes-Educacion/fiuba_1_postulantes_educacionHasta15Abril-reduced.csv\n"
     ]
    }
   ],
   "source": [
    "#Para idpostulantes repetidos con distintos estudios alcanzados dejamos el maximo\n",
    "path =r'/home/lucio/Documentos/Datos/NaventDatosTP/Data/Postulantes-Educacion'\n",
    "allFiles = glob.glob(path + \"/*.csv\")\n",
    "frame = pd.DataFrame()\n",
    "list_ = []\n",
    "for file_ in allFiles:\n",
    "    print (file_)\n",
    "    df = pd.read_csv(file_,low_memory=False)\n",
    "    list_.append(df)\n",
    "frame = pd.concat(list_)\n",
    "frame['nombre_numerico'] = frame['nombre'].apply(nombre_to_value)\n",
    "frame = frame.sort_values(['idpostulante', 'nombre_numerico'],ascending=False)\n",
    "frame = frame.drop_duplicates(subset='idpostulante', keep='first')\n",
    "frame.to_csv('/home/lucio/Documentos/Datos/NaventDatosTP/Data/Postulantes-Educacion/postulantes_educacion-merge.csv',sep=\",\",index=False)"
   ]
  },
  {
   "cell_type": "markdown",
   "metadata": {},
   "source": [
    "# Postulantes genero y edad"
   ]
  },
  {
   "cell_type": "code",
   "execution_count": 57,
   "metadata": {},
   "outputs": [],
   "source": [
    "fiuba_2_postulantes_genero_y_edad = pd.read_csv('Data/Postulantes-Genero-Edad/fiuba_2_postulantes_genero_y_edad.csv')"
   ]
  },
  {
   "cell_type": "code",
   "execution_count": 58,
   "metadata": {},
   "outputs": [
    {
     "name": "stdout",
     "output_type": "stream",
     "text": [
      "<class 'pandas.core.frame.DataFrame'>\n",
      "RangeIndex: 200888 entries, 0 to 200887\n",
      "Data columns (total 3 columns):\n",
      "idpostulante       200888 non-null object\n",
      "fechanacimiento    196138 non-null object\n",
      "sexo               200888 non-null object\n",
      "dtypes: object(3)\n",
      "memory usage: 4.6+ MB\n"
     ]
    }
   ],
   "source": [
    "fiuba_2_postulantes_genero_y_edad.info()"
   ]
  },
  {
   "cell_type": "code",
   "execution_count": 59,
   "metadata": {},
   "outputs": [
    {
     "data": {
      "text/html": [
       "<div>\n",
       "<style scoped>\n",
       "    .dataframe tbody tr th:only-of-type {\n",
       "        vertical-align: middle;\n",
       "    }\n",
       "\n",
       "    .dataframe tbody tr th {\n",
       "        vertical-align: top;\n",
       "    }\n",
       "\n",
       "    .dataframe thead th {\n",
       "        text-align: right;\n",
       "    }\n",
       "</style>\n",
       "<table border=\"1\" class=\"dataframe\">\n",
       "  <thead>\n",
       "    <tr style=\"text-align: right;\">\n",
       "      <th></th>\n",
       "      <th>idpostulante</th>\n",
       "      <th>fechanacimiento</th>\n",
       "      <th>sexo</th>\n",
       "    </tr>\n",
       "  </thead>\n",
       "  <tbody>\n",
       "    <tr>\n",
       "      <th>count</th>\n",
       "      <td>200888</td>\n",
       "      <td>196138</td>\n",
       "      <td>200888</td>\n",
       "    </tr>\n",
       "    <tr>\n",
       "      <th>unique</th>\n",
       "      <td>200888</td>\n",
       "      <td>15027</td>\n",
       "      <td>3</td>\n",
       "    </tr>\n",
       "    <tr>\n",
       "      <th>top</th>\n",
       "      <td>lDbJJx2</td>\n",
       "      <td>1994-05-24</td>\n",
       "      <td>FEM</td>\n",
       "    </tr>\n",
       "    <tr>\n",
       "      <th>freq</th>\n",
       "      <td>1</td>\n",
       "      <td>57</td>\n",
       "      <td>101981</td>\n",
       "    </tr>\n",
       "  </tbody>\n",
       "</table>\n",
       "</div>"
      ],
      "text/plain": [
       "       idpostulante fechanacimiento    sexo\n",
       "count        200888          196138  200888\n",
       "unique       200888           15027       3\n",
       "top         lDbJJx2      1994-05-24     FEM\n",
       "freq              1              57  101981"
      ]
     },
     "execution_count": 59,
     "metadata": {},
     "output_type": "execute_result"
    }
   ],
   "source": [
    "fiuba_2_postulantes_genero_y_edad_obj = fiuba_2_postulantes_genero_y_edad.select_dtypes(include=['object']).copy()\n",
    "fiuba_2_postulantes_genero_y_edad_obj.describe()"
   ]
  },
  {
   "cell_type": "code",
   "execution_count": 60,
   "metadata": {},
   "outputs": [],
   "source": [
    "converted_obj = pd.DataFrame()\n",
    "\n",
    "for col in fiuba_2_postulantes_genero_y_edad_obj.columns:\n",
    "    num_unique_values = len(fiuba_2_postulantes_genero_y_edad_obj[col].unique())\n",
    "    num_total_values = len(fiuba_2_postulantes_genero_y_edad_obj[col])\n",
    "    if num_unique_values / num_total_values < 0.5:\n",
    "        converted_obj.loc[:,col] = fiuba_2_postulantes_genero_y_edad_obj[col].astype('category')\n",
    "    else:\n",
    "        converted_obj.loc[:,col] = fiuba_2_postulantes_genero_y_edad_obj[col]"
   ]
  },
  {
   "cell_type": "code",
   "execution_count": 61,
   "metadata": {},
   "outputs": [
    {
     "name": "stdout",
     "output_type": "stream",
     "text": [
      "36.52 MB\n",
      "14.39 MB\n"
     ]
    },
    {
     "data": {
      "text/html": [
       "<div>\n",
       "<style scoped>\n",
       "    .dataframe tbody tr th:only-of-type {\n",
       "        vertical-align: middle;\n",
       "    }\n",
       "\n",
       "    .dataframe tbody tr th {\n",
       "        vertical-align: top;\n",
       "    }\n",
       "\n",
       "    .dataframe thead th {\n",
       "        text-align: right;\n",
       "    }\n",
       "</style>\n",
       "<table border=\"1\" class=\"dataframe\">\n",
       "  <thead>\n",
       "    <tr style=\"text-align: right;\">\n",
       "      <th></th>\n",
       "      <th>before</th>\n",
       "      <th>after</th>\n",
       "    </tr>\n",
       "  </thead>\n",
       "  <tbody>\n",
       "    <tr>\n",
       "      <th>object</th>\n",
       "      <td>3.0</td>\n",
       "      <td>1</td>\n",
       "    </tr>\n",
       "    <tr>\n",
       "      <th>category</th>\n",
       "      <td>NaN</td>\n",
       "      <td>1</td>\n",
       "    </tr>\n",
       "    <tr>\n",
       "      <th>category</th>\n",
       "      <td>NaN</td>\n",
       "      <td>1</td>\n",
       "    </tr>\n",
       "  </tbody>\n",
       "</table>\n",
       "</div>"
      ],
      "text/plain": [
       "          before  after\n",
       "object       3.0      1\n",
       "category     NaN      1\n",
       "category     NaN      1"
      ]
     },
     "execution_count": 61,
     "metadata": {},
     "output_type": "execute_result"
    }
   ],
   "source": [
    "print(mem_usage(fiuba_2_postulantes_genero_y_edad_obj))\n",
    "print(mem_usage(converted_obj))\n",
    "\n",
    "compare_obj = pd.concat([fiuba_2_postulantes_genero_y_edad_obj.dtypes,converted_obj.dtypes],axis=1)\n",
    "compare_obj.columns = ['before','after']\n",
    "compare_obj.apply(pd.Series.value_counts)"
   ]
  },
  {
   "cell_type": "code",
   "execution_count": 63,
   "metadata": {},
   "outputs": [
    {
     "name": "stdout",
     "output_type": "stream",
     "text": [
      "{'idpostulante': 'object', 'sexo': 'category'}\n"
     ]
    }
   ],
   "source": [
    "dtypes = converted_obj.drop('fechanacimiento',axis=1).dtypes\n",
    "\n",
    "dtypes_col = dtypes.index\n",
    "dtypes_type = [i.name for i in dtypes.values]\n",
    "\n",
    "column_types = dict(zip(dtypes_col, dtypes_type))\n",
    "\n",
    "# rather than print all 161 items, we'll\n",
    "# sample 10 key/value pairs from the dict\n",
    "# and print it nicely using prettyprint\n",
    "\n",
    "preview = first2pairs = {key:value for key,value in list(column_types.items())[:10]}\n",
    "import pprint\n",
    "pp = pp = pprint.PrettyPrinter(indent=4)\n",
    "pp.pprint(preview)"
   ]
  },
  {
   "cell_type": "code",
   "execution_count": 64,
   "metadata": {},
   "outputs": [
    {
     "data": {
      "text/plain": [
       "array([dtype('O'),\n",
       "       CategoricalDtype(categories=['FEM', 'MASC', 'NO_DECLARA'], ordered=False)],\n",
       "      dtype=object)"
      ]
     },
     "execution_count": 64,
     "metadata": {},
     "output_type": "execute_result"
    }
   ],
   "source": [
    "dtypes.values"
   ]
  },
  {
   "cell_type": "code",
   "execution_count": 95,
   "metadata": {},
   "outputs": [],
   "source": [
    "converted_obj.to_csv('Data/Postulantes-Genero-Edad/fiuba_2_postulantes_genero_y_edad-reduced.csv')"
   ]
  },
  {
   "cell_type": "code",
   "execution_count": null,
   "metadata": {},
   "outputs": [],
   "source": []
  },
  {
   "cell_type": "code",
   "execution_count": 97,
   "metadata": {},
   "outputs": [],
   "source": [
    "fiuba_2_postulantes_genero_y_edadDesde15Abril = pd.read_csv('Data/Postulantes-Genero-Edad/fiuba_2_postulantes_genero_y_edadDesde15Abril.csv')"
   ]
  },
  {
   "cell_type": "code",
   "execution_count": 98,
   "metadata": {},
   "outputs": [
    {
     "name": "stdout",
     "output_type": "stream",
     "text": [
      "<class 'pandas.core.frame.DataFrame'>\n",
      "RangeIndex: 281385 entries, 0 to 281384\n",
      "Data columns (total 3 columns):\n",
      "idpostulante       281385 non-null object\n",
      "fechanacimiento    268482 non-null object\n",
      "sexo               281385 non-null object\n",
      "dtypes: object(3)\n",
      "memory usage: 6.4+ MB\n"
     ]
    }
   ],
   "source": [
    "fiuba_2_postulantes_genero_y_edadDesde15Abril.info()"
   ]
  },
  {
   "cell_type": "code",
   "execution_count": 99,
   "metadata": {},
   "outputs": [
    {
     "data": {
      "text/html": [
       "<div>\n",
       "<style scoped>\n",
       "    .dataframe tbody tr th:only-of-type {\n",
       "        vertical-align: middle;\n",
       "    }\n",
       "\n",
       "    .dataframe tbody tr th {\n",
       "        vertical-align: top;\n",
       "    }\n",
       "\n",
       "    .dataframe thead th {\n",
       "        text-align: right;\n",
       "    }\n",
       "</style>\n",
       "<table border=\"1\" class=\"dataframe\">\n",
       "  <thead>\n",
       "    <tr style=\"text-align: right;\">\n",
       "      <th></th>\n",
       "      <th>idpostulante</th>\n",
       "      <th>fechanacimiento</th>\n",
       "      <th>sexo</th>\n",
       "    </tr>\n",
       "  </thead>\n",
       "  <tbody>\n",
       "    <tr>\n",
       "      <th>count</th>\n",
       "      <td>281385</td>\n",
       "      <td>268482</td>\n",
       "      <td>281385</td>\n",
       "    </tr>\n",
       "    <tr>\n",
       "      <th>unique</th>\n",
       "      <td>281385</td>\n",
       "      <td>16331</td>\n",
       "      <td>4</td>\n",
       "    </tr>\n",
       "    <tr>\n",
       "      <th>top</th>\n",
       "      <td>eQBKd9</td>\n",
       "      <td>1992-01-31</td>\n",
       "      <td>FEM</td>\n",
       "    </tr>\n",
       "    <tr>\n",
       "      <th>freq</th>\n",
       "      <td>1</td>\n",
       "      <td>64</td>\n",
       "      <td>140041</td>\n",
       "    </tr>\n",
       "  </tbody>\n",
       "</table>\n",
       "</div>"
      ],
      "text/plain": [
       "       idpostulante fechanacimiento    sexo\n",
       "count        281385          268482  281385\n",
       "unique       281385           16331       4\n",
       "top          eQBKd9      1992-01-31     FEM\n",
       "freq              1              64  140041"
      ]
     },
     "execution_count": 99,
     "metadata": {},
     "output_type": "execute_result"
    }
   ],
   "source": [
    "fiuba_2_postulantes_genero_y_edadDesde15Abril_obj = fiuba_2_postulantes_genero_y_edadDesde15Abril.select_dtypes(include=['object']).copy()\n",
    "fiuba_2_postulantes_genero_y_edadDesde15Abril_obj.describe()"
   ]
  },
  {
   "cell_type": "code",
   "execution_count": 100,
   "metadata": {},
   "outputs": [],
   "source": [
    "converted_obj = pd.DataFrame()\n",
    "\n",
    "for col in fiuba_2_postulantes_genero_y_edadDesde15Abril_obj.columns:\n",
    "    num_unique_values = len(fiuba_2_postulantes_genero_y_edadDesde15Abril_obj[col].unique())\n",
    "    num_total_values = len(fiuba_2_postulantes_genero_y_edadDesde15Abril_obj[col])\n",
    "    if num_unique_values / num_total_values < 0.5:\n",
    "        converted_obj.loc[:,col] = fiuba_2_postulantes_genero_y_edadDesde15Abril_obj[col].astype('category')\n",
    "    else:\n",
    "        converted_obj.loc[:,col] = fiuba_2_postulantes_genero_y_edadDesde15Abril_obj[col]"
   ]
  },
  {
   "cell_type": "code",
   "execution_count": 101,
   "metadata": {},
   "outputs": [
    {
     "name": "stdout",
     "output_type": "stream",
     "text": [
      "50.97 MB\n",
      "19.59 MB\n"
     ]
    },
    {
     "data": {
      "text/html": [
       "<div>\n",
       "<style scoped>\n",
       "    .dataframe tbody tr th:only-of-type {\n",
       "        vertical-align: middle;\n",
       "    }\n",
       "\n",
       "    .dataframe tbody tr th {\n",
       "        vertical-align: top;\n",
       "    }\n",
       "\n",
       "    .dataframe thead th {\n",
       "        text-align: right;\n",
       "    }\n",
       "</style>\n",
       "<table border=\"1\" class=\"dataframe\">\n",
       "  <thead>\n",
       "    <tr style=\"text-align: right;\">\n",
       "      <th></th>\n",
       "      <th>before</th>\n",
       "      <th>after</th>\n",
       "    </tr>\n",
       "  </thead>\n",
       "  <tbody>\n",
       "    <tr>\n",
       "      <th>object</th>\n",
       "      <td>3.0</td>\n",
       "      <td>1</td>\n",
       "    </tr>\n",
       "    <tr>\n",
       "      <th>category</th>\n",
       "      <td>NaN</td>\n",
       "      <td>1</td>\n",
       "    </tr>\n",
       "    <tr>\n",
       "      <th>category</th>\n",
       "      <td>NaN</td>\n",
       "      <td>1</td>\n",
       "    </tr>\n",
       "  </tbody>\n",
       "</table>\n",
       "</div>"
      ],
      "text/plain": [
       "          before  after\n",
       "object       3.0      1\n",
       "category     NaN      1\n",
       "category     NaN      1"
      ]
     },
     "execution_count": 101,
     "metadata": {},
     "output_type": "execute_result"
    }
   ],
   "source": [
    "print(mem_usage(fiuba_2_postulantes_genero_y_edadDesde15Abril_obj))\n",
    "print(mem_usage(converted_obj))\n",
    "\n",
    "compare_obj = pd.concat([fiuba_2_postulantes_genero_y_edadDesde15Abril_obj.dtypes,converted_obj.dtypes],axis=1)\n",
    "compare_obj.columns = ['before','after']\n",
    "compare_obj.apply(pd.Series.value_counts)"
   ]
  },
  {
   "cell_type": "code",
   "execution_count": 102,
   "metadata": {},
   "outputs": [],
   "source": [
    "converted_obj.to_csv('Data/Postulantes-Genero-Edad/fiuba_2_postulantes_genero_y_edadDesde15Abril-reduced.csv')"
   ]
  },
  {
   "cell_type": "code",
   "execution_count": null,
   "metadata": {},
   "outputs": [],
   "source": []
  },
  {
   "cell_type": "code",
   "execution_count": 103,
   "metadata": {},
   "outputs": [],
   "source": [
    "fiuba_2_postulantes_genero_y_edadHasta15Abril = pd.read_csv('Data/Postulantes-Genero-Edad/fiuba_2_postulantes_genero_y_edadHasta15Abril.csv')"
   ]
  },
  {
   "cell_type": "code",
   "execution_count": 104,
   "metadata": {},
   "outputs": [
    {
     "name": "stdout",
     "output_type": "stream",
     "text": [
      "<class 'pandas.core.frame.DataFrame'>\n",
      "RangeIndex: 297747 entries, 0 to 297746\n",
      "Data columns (total 3 columns):\n",
      "idpostulante       297747 non-null object\n",
      "fechanacimiento    281127 non-null object\n",
      "sexo               297747 non-null object\n",
      "dtypes: object(3)\n",
      "memory usage: 6.8+ MB\n"
     ]
    }
   ],
   "source": [
    "fiuba_2_postulantes_genero_y_edadHasta15Abril.info()"
   ]
  },
  {
   "cell_type": "code",
   "execution_count": 105,
   "metadata": {},
   "outputs": [
    {
     "data": {
      "text/html": [
       "<div>\n",
       "<style scoped>\n",
       "    .dataframe tbody tr th:only-of-type {\n",
       "        vertical-align: middle;\n",
       "    }\n",
       "\n",
       "    .dataframe tbody tr th {\n",
       "        vertical-align: top;\n",
       "    }\n",
       "\n",
       "    .dataframe thead th {\n",
       "        text-align: right;\n",
       "    }\n",
       "</style>\n",
       "<table border=\"1\" class=\"dataframe\">\n",
       "  <thead>\n",
       "    <tr style=\"text-align: right;\">\n",
       "      <th></th>\n",
       "      <th>idpostulante</th>\n",
       "      <th>fechanacimiento</th>\n",
       "      <th>sexo</th>\n",
       "    </tr>\n",
       "  </thead>\n",
       "  <tbody>\n",
       "    <tr>\n",
       "      <th>count</th>\n",
       "      <td>297747</td>\n",
       "      <td>281127</td>\n",
       "      <td>297747</td>\n",
       "    </tr>\n",
       "    <tr>\n",
       "      <th>unique</th>\n",
       "      <td>297747</td>\n",
       "      <td>16616</td>\n",
       "      <td>4</td>\n",
       "    </tr>\n",
       "    <tr>\n",
       "      <th>top</th>\n",
       "      <td>vVwbPGe</td>\n",
       "      <td>1990-10-18</td>\n",
       "      <td>FEM</td>\n",
       "    </tr>\n",
       "    <tr>\n",
       "      <th>freq</th>\n",
       "      <td>1</td>\n",
       "      <td>65</td>\n",
       "      <td>149457</td>\n",
       "    </tr>\n",
       "  </tbody>\n",
       "</table>\n",
       "</div>"
      ],
      "text/plain": [
       "       idpostulante fechanacimiento    sexo\n",
       "count        297747          281127  297747\n",
       "unique       297747           16616       4\n",
       "top         vVwbPGe      1990-10-18     FEM\n",
       "freq              1              65  149457"
      ]
     },
     "execution_count": 105,
     "metadata": {},
     "output_type": "execute_result"
    }
   ],
   "source": [
    "fiuba_2_postulantes_genero_y_edadHasta15Abril_obj = fiuba_2_postulantes_genero_y_edadHasta15Abril.select_dtypes(include=['object']).copy()\n",
    "fiuba_2_postulantes_genero_y_edadHasta15Abril_obj.describe()"
   ]
  },
  {
   "cell_type": "code",
   "execution_count": 106,
   "metadata": {},
   "outputs": [],
   "source": [
    "converted_obj = pd.DataFrame()\n",
    "\n",
    "for col in fiuba_2_postulantes_genero_y_edad_obj.columns:\n",
    "    num_unique_values = len(fiuba_2_postulantes_genero_y_edadHasta15Abril_obj[col].unique())\n",
    "    num_total_values = len(fiuba_2_postulantes_genero_y_edadHasta15Abril_obj[col])\n",
    "    if num_unique_values / num_total_values < 0.5:\n",
    "        converted_obj.loc[:,col] = fiuba_2_postulantes_genero_y_edadHasta15Abril_obj[col].astype('category')\n",
    "    else:\n",
    "        converted_obj.loc[:,col] = fiuba_2_postulantes_genero_y_edadHasta15Abril_obj[col]"
   ]
  },
  {
   "cell_type": "code",
   "execution_count": 107,
   "metadata": {},
   "outputs": [
    {
     "name": "stdout",
     "output_type": "stream",
     "text": [
      "53.85 MB\n",
      "20.64 MB\n"
     ]
    },
    {
     "data": {
      "text/html": [
       "<div>\n",
       "<style scoped>\n",
       "    .dataframe tbody tr th:only-of-type {\n",
       "        vertical-align: middle;\n",
       "    }\n",
       "\n",
       "    .dataframe tbody tr th {\n",
       "        vertical-align: top;\n",
       "    }\n",
       "\n",
       "    .dataframe thead th {\n",
       "        text-align: right;\n",
       "    }\n",
       "</style>\n",
       "<table border=\"1\" class=\"dataframe\">\n",
       "  <thead>\n",
       "    <tr style=\"text-align: right;\">\n",
       "      <th></th>\n",
       "      <th>before</th>\n",
       "      <th>after</th>\n",
       "    </tr>\n",
       "  </thead>\n",
       "  <tbody>\n",
       "    <tr>\n",
       "      <th>object</th>\n",
       "      <td>3.0</td>\n",
       "      <td>1</td>\n",
       "    </tr>\n",
       "    <tr>\n",
       "      <th>category</th>\n",
       "      <td>NaN</td>\n",
       "      <td>1</td>\n",
       "    </tr>\n",
       "    <tr>\n",
       "      <th>category</th>\n",
       "      <td>NaN</td>\n",
       "      <td>1</td>\n",
       "    </tr>\n",
       "  </tbody>\n",
       "</table>\n",
       "</div>"
      ],
      "text/plain": [
       "          before  after\n",
       "object       3.0      1\n",
       "category     NaN      1\n",
       "category     NaN      1"
      ]
     },
     "execution_count": 107,
     "metadata": {},
     "output_type": "execute_result"
    }
   ],
   "source": [
    "print(mem_usage(fiuba_2_postulantes_genero_y_edadHasta15Abril_obj))\n",
    "print(mem_usage(converted_obj))\n",
    "\n",
    "compare_obj = pd.concat([fiuba_2_postulantes_genero_y_edad_obj.dtypes,converted_obj.dtypes],axis=1)\n",
    "compare_obj.columns = ['before','after']\n",
    "compare_obj.apply(pd.Series.value_counts)"
   ]
  },
  {
   "cell_type": "code",
   "execution_count": 108,
   "metadata": {},
   "outputs": [],
   "source": [
    "converted_obj.to_csv('Data/Postulantes-Genero-Edad/fiuba_2_postulantes_genero_y_edadHasta15Abril-reduced.csv')"
   ]
  },
  {
   "cell_type": "code",
   "execution_count": null,
   "metadata": {},
   "outputs": [],
   "source": []
  },
  {
   "cell_type": "markdown",
   "metadata": {},
   "source": [
    "# Verifico que no haya IDs nulos ya que al hacer drop_duplicates dos NaN \\ los toma como iguales"
   ]
  },
  {
   "cell_type": "code",
   "execution_count": 109,
   "metadata": {},
   "outputs": [
    {
     "data": {
      "text/plain": [
       "False"
      ]
     },
     "execution_count": 109,
     "metadata": {},
     "output_type": "execute_result"
    }
   ],
   "source": [
    "fiuba_2_postulantes_genero_y_edad['idpostulante'].isnull().any()"
   ]
  },
  {
   "cell_type": "code",
   "execution_count": 110,
   "metadata": {},
   "outputs": [
    {
     "data": {
      "text/plain": [
       "False"
      ]
     },
     "execution_count": 110,
     "metadata": {},
     "output_type": "execute_result"
    }
   ],
   "source": [
    "fiuba_2_postulantes_genero_y_edadDesde15Abril['idpostulante'].isnull().any()"
   ]
  },
  {
   "cell_type": "code",
   "execution_count": 111,
   "metadata": {},
   "outputs": [
    {
     "data": {
      "text/plain": [
       "False"
      ]
     },
     "execution_count": 111,
     "metadata": {},
     "output_type": "execute_result"
    }
   ],
   "source": [
    "fiuba_2_postulantes_genero_y_edadHasta15Abril['idpostulante'].isnull().any()"
   ]
  },
  {
   "cell_type": "markdown",
   "metadata": {},
   "source": [
    "# Merge de CSVs de postulantes genero y edad"
   ]
  },
  {
   "cell_type": "code",
   "execution_count": 112,
   "metadata": {},
   "outputs": [
    {
     "name": "stdout",
     "output_type": "stream",
     "text": [
      "/home/lucio/Documentos/Datos/NaventDatosTP/Data/Postulantes-Genero-Edad/fiuba_2_postulantes_genero_y_edadHasta15Abril-reduced.csv\n",
      "/home/lucio/Documentos/Datos/NaventDatosTP/Data/Postulantes-Genero-Edad/fiuba_2_postulantes_genero_y_edadDesde15Abril-reduced.csv\n",
      "/home/lucio/Documentos/Datos/NaventDatosTP/Data/Postulantes-Genero-Edad/fiuba_2_postulantes_genero_y_edad-reduced.csv\n"
     ]
    }
   ],
   "source": [
    "path =r'/home/lucio/Documentos/Datos/NaventDatosTP/Data/Postulantes-Genero-Edad'\n",
    "allFiles = glob.glob(path + \"/*.csv\")\n",
    "frame = pd.DataFrame()\n",
    "list_ = []\n",
    "for file_ in allFiles:\n",
    "    print (file_)\n",
    "    df = pd.read_csv(file_,low_memory=False)\n",
    "    list_.append(df)\n",
    "frame = pd.concat(list_)\n",
    "frame.drop_duplicates([\"idpostulante\"],inplace=True)\n",
    "frame.to_csv('/home/lucio/Documentos/Datos/NaventDatosTP/Data/Postulantes-Genero-Edad/postulantes_genero_y_edad-merge.csv',sep=\",\",index=False)"
   ]
  },
  {
   "cell_type": "markdown",
   "metadata": {},
   "source": [
    "# Vistas"
   ]
  },
  {
   "cell_type": "code",
   "execution_count": 128,
   "metadata": {},
   "outputs": [],
   "source": [
    "fiuba_3_vistas = pd.read_csv('Data/Vistas/fiuba_3_vistas.csv')"
   ]
  },
  {
   "cell_type": "code",
   "execution_count": 129,
   "metadata": {},
   "outputs": [
    {
     "name": "stdout",
     "output_type": "stream",
     "text": [
      "<class 'pandas.core.frame.DataFrame'>\n",
      "RangeIndex: 961897 entries, 0 to 961896\n",
      "Data columns (total 3 columns):\n",
      "idAviso         961897 non-null int64\n",
      "timestamp       961897 non-null object\n",
      "idpostulante    961897 non-null object\n",
      "dtypes: int64(1), object(2)\n",
      "memory usage: 22.0+ MB\n"
     ]
    }
   ],
   "source": [
    "fiuba_3_vistas.info()"
   ]
  },
  {
   "cell_type": "code",
   "execution_count": 130,
   "metadata": {},
   "outputs": [
    {
     "name": "stdout",
     "output_type": "stream",
     "text": [
      "7.34 MB\n",
      "3.67 MB\n"
     ]
    },
    {
     "data": {
      "text/html": [
       "<div>\n",
       "<style scoped>\n",
       "    .dataframe tbody tr th:only-of-type {\n",
       "        vertical-align: middle;\n",
       "    }\n",
       "\n",
       "    .dataframe tbody tr th {\n",
       "        vertical-align: top;\n",
       "    }\n",
       "\n",
       "    .dataframe thead th {\n",
       "        text-align: right;\n",
       "    }\n",
       "</style>\n",
       "<table border=\"1\" class=\"dataframe\">\n",
       "  <thead>\n",
       "    <tr style=\"text-align: right;\">\n",
       "      <th></th>\n",
       "      <th>before</th>\n",
       "      <th>after</th>\n",
       "    </tr>\n",
       "  </thead>\n",
       "  <tbody>\n",
       "    <tr>\n",
       "      <th>uint32</th>\n",
       "      <td>NaN</td>\n",
       "      <td>1.0</td>\n",
       "    </tr>\n",
       "    <tr>\n",
       "      <th>int64</th>\n",
       "      <td>1.0</td>\n",
       "      <td>NaN</td>\n",
       "    </tr>\n",
       "  </tbody>\n",
       "</table>\n",
       "</div>"
      ],
      "text/plain": [
       "        before  after\n",
       "uint32     NaN    1.0\n",
       "int64      1.0    NaN"
      ]
     },
     "execution_count": 130,
     "metadata": {},
     "output_type": "execute_result"
    }
   ],
   "source": [
    "fiuba_3_vistas_int = fiuba_3_vistas.select_dtypes(include=['int'])\n",
    "converted_int = fiuba_3_vistas_int.apply(pd.to_numeric,downcast='unsigned')\n",
    "\n",
    "print(mem_usage(fiuba_3_vistas_int))\n",
    "print(mem_usage(converted_int))\n",
    "\n",
    "compare_ints = pd.concat([fiuba_3_vistas_int.dtypes,converted_int.dtypes],axis=1)\n",
    "compare_ints.columns = ['before','after']\n",
    "compare_ints.apply(pd.Series.value_counts)"
   ]
  },
  {
   "cell_type": "code",
   "execution_count": 131,
   "metadata": {},
   "outputs": [
    {
     "name": "stdout",
     "output_type": "stream",
     "text": [
      "143.84 MB\n",
      "140.17 MB\n"
     ]
    }
   ],
   "source": [
    "optimized_fiuba_3_vistas = fiuba_3_vistas.copy()\n",
    "\n",
    "optimized_fiuba_3_vistas[converted_int.columns] = converted_int\n",
    "\n",
    "print(mem_usage(fiuba_3_vistas))\n",
    "print(mem_usage(optimized_fiuba_3_vistas))"
   ]
  },
  {
   "cell_type": "code",
   "execution_count": 132,
   "metadata": {},
   "outputs": [
    {
     "name": "stdout",
     "output_type": "stream",
     "text": [
      "77.97 MB\n"
     ]
    },
    {
     "data": {
      "text/plain": [
       "0    2018-02-23T13:38:13.187-0500\n",
       "1    2018-02-23T13:38:14.296-0500\n",
       "2    2018-02-23T13:38:14.329-0500\n",
       "3    2018-02-23T13:38:17.921-0500\n",
       "4    2018-02-23T13:38:18.973-0500\n",
       "Name: timestamp, dtype: object"
      ]
     },
     "execution_count": 132,
     "metadata": {},
     "output_type": "execute_result"
    }
   ],
   "source": [
    "timestamp = optimized_fiuba_3_vistas.timestamp\n",
    "print(mem_usage(timestamp))\n",
    "timestamp.head()"
   ]
  },
  {
   "cell_type": "code",
   "execution_count": 133,
   "metadata": {},
   "outputs": [
    {
     "name": "stdout",
     "output_type": "stream",
     "text": [
      "69.53 MB\n"
     ]
    },
    {
     "data": {
      "text/plain": [
       "0   2018-02-23 18:38:13.187\n",
       "1   2018-02-23 18:38:14.296\n",
       "2   2018-02-23 18:38:14.329\n",
       "3   2018-02-23 18:38:17.921\n",
       "4   2018-02-23 18:38:18.973\n",
       "Name: timestamp, dtype: datetime64[ns]"
      ]
     },
     "execution_count": 133,
     "metadata": {},
     "output_type": "execute_result"
    }
   ],
   "source": [
    "optimized_fiuba_3_vistas['timestamp'] = pd.to_datetime(timestamp,format='%Y-%m-%dT%H:%M:%S.%f')\n",
    "\n",
    "\n",
    "print(mem_usage(optimized_fiuba_3_vistas))\n",
    "optimized_fiuba_3_vistas.timestamp.head()"
   ]
  },
  {
   "cell_type": "code",
   "execution_count": 134,
   "metadata": {},
   "outputs": [
    {
     "name": "stdout",
     "output_type": "stream",
     "text": [
      "143.84 MB\n",
      "69.53 MB\n"
     ]
    }
   ],
   "source": [
    "print(mem_usage(fiuba_3_vistas))\n",
    "print(mem_usage(optimized_fiuba_3_vistas))"
   ]
  },
  {
   "cell_type": "code",
   "execution_count": 137,
   "metadata": {},
   "outputs": [
    {
     "name": "stdout",
     "output_type": "stream",
     "text": [
      "{'idAviso': 'uint32', 'idpostulante': 'object'}\n"
     ]
    }
   ],
   "source": [
    "dtypes = optimized_fiuba_3_vistas.drop('timestamp',axis=1).dtypes\n",
    "\n",
    "dtypes_col = dtypes.index\n",
    "dtypes_type = [i.name for i in dtypes.values]\n",
    "\n",
    "column_types = dict(zip(dtypes_col, dtypes_type))\n",
    "\n",
    "# rather than print all 161 items, we'll\n",
    "# sample 10 key/value pairs from the dict\n",
    "# and print it nicely using prettyprint\n",
    "\n",
    "preview = first2pairs = {key:value for key,value in list(column_types.items())[:10]}\n",
    "import pprint\n",
    "pp = pp = pprint.PrettyPrinter(indent=4)\n",
    "pp.pprint(preview)"
   ]
  },
  {
   "cell_type": "code",
   "execution_count": 31,
   "metadata": {},
   "outputs": [],
   "source": [
    "optimized_fiuba_3_vistas.to_csv('Data/Vistas/fiuba_3_vistas-reduced.csv')"
   ]
  },
  {
   "cell_type": "code",
   "execution_count": null,
   "metadata": {},
   "outputs": [],
   "source": []
  },
  {
   "cell_type": "code",
   "execution_count": 18,
   "metadata": {},
   "outputs": [],
   "source": [
    "fiuba_3_vistasDesde15Abril = pd.read_csv('Data/Vistas/fiuba_3_vistasDesde15Abril.csv')"
   ]
  },
  {
   "cell_type": "code",
   "execution_count": 4,
   "metadata": {},
   "outputs": [
    {
     "name": "stdout",
     "output_type": "stream",
     "text": [
      "<class 'pandas.core.frame.DataFrame'>\n",
      "RangeIndex: 11648230 entries, 0 to 11648229\n",
      "Data columns (total 3 columns):\n",
      "idAviso         int64\n",
      "timestamp       object\n",
      "idpostulante    object\n",
      "dtypes: int64(1), object(2)\n",
      "memory usage: 266.6+ MB\n"
     ]
    }
   ],
   "source": [
    "fiuba_3_vistasDesde15Abril.info()"
   ]
  },
  {
   "cell_type": "code",
   "execution_count": 19,
   "metadata": {},
   "outputs": [
    {
     "name": "stdout",
     "output_type": "stream",
     "text": [
      "88.87 MB\n",
      "44.43 MB\n"
     ]
    },
    {
     "data": {
      "text/html": [
       "<div>\n",
       "<style scoped>\n",
       "    .dataframe tbody tr th:only-of-type {\n",
       "        vertical-align: middle;\n",
       "    }\n",
       "\n",
       "    .dataframe tbody tr th {\n",
       "        vertical-align: top;\n",
       "    }\n",
       "\n",
       "    .dataframe thead th {\n",
       "        text-align: right;\n",
       "    }\n",
       "</style>\n",
       "<table border=\"1\" class=\"dataframe\">\n",
       "  <thead>\n",
       "    <tr style=\"text-align: right;\">\n",
       "      <th></th>\n",
       "      <th>before</th>\n",
       "      <th>after</th>\n",
       "    </tr>\n",
       "  </thead>\n",
       "  <tbody>\n",
       "    <tr>\n",
       "      <th>uint32</th>\n",
       "      <td>NaN</td>\n",
       "      <td>1.0</td>\n",
       "    </tr>\n",
       "    <tr>\n",
       "      <th>int64</th>\n",
       "      <td>1.0</td>\n",
       "      <td>NaN</td>\n",
       "    </tr>\n",
       "  </tbody>\n",
       "</table>\n",
       "</div>"
      ],
      "text/plain": [
       "        before  after\n",
       "uint32     NaN    1.0\n",
       "int64      1.0    NaN"
      ]
     },
     "execution_count": 19,
     "metadata": {},
     "output_type": "execute_result"
    }
   ],
   "source": [
    "fiuba_3_vistasDesde15Abril_int = fiuba_3_vistasDesde15Abril.select_dtypes(include=['int'])\n",
    "converted_int = fiuba_3_vistasDesde15Abril_int.apply(pd.to_numeric,downcast='unsigned')\n",
    "\n",
    "print(mem_usage(fiuba_3_vistasDesde15Abril_int))\n",
    "print(mem_usage(converted_int))\n",
    "\n",
    "compare_ints = pd.concat([fiuba_3_vistasDesde15Abril_int.dtypes,converted_int.dtypes],axis=1)\n",
    "compare_ints.columns = ['before','after']\n",
    "compare_ints.apply(pd.Series.value_counts)"
   ]
  },
  {
   "cell_type": "code",
   "execution_count": 20,
   "metadata": {},
   "outputs": [
    {
     "name": "stdout",
     "output_type": "stream",
     "text": [
      "1735.56 MB\n",
      "1691.13 MB\n"
     ]
    }
   ],
   "source": [
    "optimized_fiuba_3_vistasDesde15Abril = fiuba_3_vistasDesde15Abril.copy()\n",
    "\n",
    "optimized_fiuba_3_vistasDesde15Abril[converted_int.columns] = converted_int\n",
    "\n",
    "print(mem_usage(fiuba_3_vistasDesde15Abril))\n",
    "print(mem_usage(optimized_fiuba_3_vistasDesde15Abril))"
   ]
  },
  {
   "cell_type": "code",
   "execution_count": 21,
   "metadata": {},
   "outputs": [
    {
     "name": "stdout",
     "output_type": "stream",
     "text": [
      "944.23 MB\n"
     ]
    },
    {
     "data": {
      "text/plain": [
       "0    2018-04-30T19:55:37.990-0400\n",
       "1    2018-04-30T19:55:38.291-0400\n",
       "2    2018-04-30T19:55:37.686-0400\n",
       "3    2018-04-30T19:55:40.199-0400\n",
       "4    2018-04-30T19:55:40.507-0400\n",
       "Name: timestamp, dtype: object"
      ]
     },
     "execution_count": 21,
     "metadata": {},
     "output_type": "execute_result"
    }
   ],
   "source": [
    "timestamp = optimized_fiuba_3_vistasDesde15Abril.timestamp\n",
    "print(mem_usage(timestamp))\n",
    "timestamp.head()"
   ]
  },
  {
   "cell_type": "code",
   "execution_count": 22,
   "metadata": {},
   "outputs": [
    {
     "name": "stdout",
     "output_type": "stream",
     "text": [
      "835.76 MB\n"
     ]
    },
    {
     "data": {
      "text/plain": [
       "0   2018-04-30 23:55:37.990\n",
       "1   2018-04-30 23:55:38.291\n",
       "2   2018-04-30 23:55:37.686\n",
       "3   2018-04-30 23:55:40.199\n",
       "4   2018-04-30 23:55:40.507\n",
       "Name: timestamp, dtype: datetime64[ns]"
      ]
     },
     "execution_count": 22,
     "metadata": {},
     "output_type": "execute_result"
    }
   ],
   "source": [
    "optimized_fiuba_3_vistasDesde15Abril['timestamp'] = pd.to_datetime(timestamp,format='%Y-%m-%dT%H:%M:%S.%f')\n",
    "\n",
    "print(mem_usage(optimized_fiuba_3_vistasDesde15Abril))\n",
    "optimized_fiuba_3_vistasDesde15Abril.timestamp.head()"
   ]
  },
  {
   "cell_type": "code",
   "execution_count": 23,
   "metadata": {},
   "outputs": [
    {
     "name": "stdout",
     "output_type": "stream",
     "text": [
      "1735.56 MB\n",
      "835.76 MB\n"
     ]
    }
   ],
   "source": [
    "print(mem_usage(fiuba_3_vistasDesde15Abril))\n",
    "print(mem_usage(optimized_fiuba_3_vistasDesde15Abril))"
   ]
  },
  {
   "cell_type": "code",
   "execution_count": 24,
   "metadata": {},
   "outputs": [],
   "source": [
    "optimized_fiuba_3_vistasDesde15Abril.to_csv('Data/Vistas/fiuba_3_vistasDesde15Abril-reduced.csv')"
   ]
  },
  {
   "cell_type": "code",
   "execution_count": null,
   "metadata": {},
   "outputs": [],
   "source": []
  },
  {
   "cell_type": "code",
   "execution_count": 3,
   "metadata": {},
   "outputs": [],
   "source": [
    "fiuba_3_vistasHasta15Abril = pd.read_csv('Data/Vistas/fiuba_3_vistasHasta15Abril.csv')"
   ]
  },
  {
   "cell_type": "code",
   "execution_count": 4,
   "metadata": {},
   "outputs": [
    {
     "name": "stdout",
     "output_type": "stream",
     "text": [
      "<class 'pandas.core.frame.DataFrame'>\n",
      "RangeIndex: 5758686 entries, 0 to 5758685\n",
      "Data columns (total 3 columns):\n",
      "idAviso         int64\n",
      "timestamp       object\n",
      "idpostulante    object\n",
      "dtypes: int64(1), object(2)\n",
      "memory usage: 131.8+ MB\n"
     ]
    }
   ],
   "source": [
    "fiuba_3_vistasHasta15Abril.info()"
   ]
  },
  {
   "cell_type": "code",
   "execution_count": 5,
   "metadata": {},
   "outputs": [
    {
     "name": "stdout",
     "output_type": "stream",
     "text": [
      "43.94 MB\n",
      "21.97 MB\n"
     ]
    },
    {
     "data": {
      "text/html": [
       "<div>\n",
       "<style scoped>\n",
       "    .dataframe tbody tr th:only-of-type {\n",
       "        vertical-align: middle;\n",
       "    }\n",
       "\n",
       "    .dataframe tbody tr th {\n",
       "        vertical-align: top;\n",
       "    }\n",
       "\n",
       "    .dataframe thead th {\n",
       "        text-align: right;\n",
       "    }\n",
       "</style>\n",
       "<table border=\"1\" class=\"dataframe\">\n",
       "  <thead>\n",
       "    <tr style=\"text-align: right;\">\n",
       "      <th></th>\n",
       "      <th>before</th>\n",
       "      <th>after</th>\n",
       "    </tr>\n",
       "  </thead>\n",
       "  <tbody>\n",
       "    <tr>\n",
       "      <th>uint32</th>\n",
       "      <td>NaN</td>\n",
       "      <td>1.0</td>\n",
       "    </tr>\n",
       "    <tr>\n",
       "      <th>int64</th>\n",
       "      <td>1.0</td>\n",
       "      <td>NaN</td>\n",
       "    </tr>\n",
       "  </tbody>\n",
       "</table>\n",
       "</div>"
      ],
      "text/plain": [
       "        before  after\n",
       "uint32     NaN    1.0\n",
       "int64      1.0    NaN"
      ]
     },
     "execution_count": 5,
     "metadata": {},
     "output_type": "execute_result"
    }
   ],
   "source": [
    "fiuba_3_vistasHasta15Abril_int = fiuba_3_vistasHasta15Abril.select_dtypes(include=['int'])\n",
    "converted_int = fiuba_3_vistasHasta15Abril_int.apply(pd.to_numeric,downcast='unsigned')\n",
    "\n",
    "print(mem_usage(fiuba_3_vistasHasta15Abril_int))\n",
    "print(mem_usage(converted_int))\n",
    "\n",
    "compare_ints = pd.concat([fiuba_3_vistasHasta15Abril_int.dtypes,converted_int.dtypes],axis=1)\n",
    "compare_ints.columns = ['before','after']\n",
    "compare_ints.apply(pd.Series.value_counts)"
   ]
  },
  {
   "cell_type": "code",
   "execution_count": 6,
   "metadata": {},
   "outputs": [
    {
     "name": "stdout",
     "output_type": "stream",
     "text": [
      "861.11 MB\n",
      "839.14 MB\n"
     ]
    }
   ],
   "source": [
    "optimized_fiuba_3_vistasHasta15Abril = fiuba_3_vistasHasta15Abril.copy()\n",
    "\n",
    "optimized_fiuba_3_vistasHasta15Abril[converted_int.columns] = converted_int\n",
    "\n",
    "print(mem_usage(fiuba_3_vistasHasta15Abril))\n",
    "print(mem_usage(optimized_fiuba_3_vistasHasta15Abril))"
   ]
  },
  {
   "cell_type": "code",
   "execution_count": 7,
   "metadata": {},
   "outputs": [
    {
     "name": "stdout",
     "output_type": "stream",
     "text": [
      "466.81 MB\n"
     ]
    },
    {
     "data": {
      "text/plain": [
       "0    2018-04-06T01:43:47.445-0400\n",
       "1    2018-04-06T01:43:48.330-0400\n",
       "2    2018-04-06T01:43:50.042-0400\n",
       "3    2018-04-06T01:43:51.171-0400\n",
       "4    2018-04-06T01:43:46.371-0400\n",
       "Name: timestamp, dtype: object"
      ]
     },
     "execution_count": 7,
     "metadata": {},
     "output_type": "execute_result"
    }
   ],
   "source": [
    "timestamp = optimized_fiuba_3_vistasHasta15Abril.timestamp\n",
    "print(mem_usage(timestamp))\n",
    "timestamp.head()"
   ]
  },
  {
   "cell_type": "code",
   "execution_count": 8,
   "metadata": {},
   "outputs": [
    {
     "name": "stdout",
     "output_type": "stream",
     "text": [
      "416.27 MB\n"
     ]
    },
    {
     "data": {
      "text/plain": [
       "0   2018-04-06 05:43:47.445\n",
       "1   2018-04-06 05:43:48.330\n",
       "2   2018-04-06 05:43:50.042\n",
       "3   2018-04-06 05:43:51.171\n",
       "4   2018-04-06 05:43:46.371\n",
       "Name: timestamp, dtype: datetime64[ns]"
      ]
     },
     "execution_count": 8,
     "metadata": {},
     "output_type": "execute_result"
    }
   ],
   "source": [
    "optimized_fiuba_3_vistasHasta15Abril['timestamp'] = pd.to_datetime(timestamp,format='%Y-%m-%dT%H:%M:%S.%f')\n",
    "\n",
    "print(mem_usage(optimized_fiuba_3_vistasHasta15Abril))\n",
    "optimized_fiuba_3_vistasHasta15Abril.timestamp.head()"
   ]
  },
  {
   "cell_type": "code",
   "execution_count": 9,
   "metadata": {},
   "outputs": [
    {
     "name": "stdout",
     "output_type": "stream",
     "text": [
      "861.11 MB\n",
      "416.27 MB\n"
     ]
    }
   ],
   "source": [
    "print(mem_usage(fiuba_3_vistasHasta15Abril))\n",
    "print(mem_usage(optimized_fiuba_3_vistasHasta15Abril))"
   ]
  },
  {
   "cell_type": "code",
   "execution_count": 10,
   "metadata": {},
   "outputs": [],
   "source": [
    "optimized_fiuba_3_vistasHasta15Abril.to_csv('Data/Vistas/fiuba_3_vistasHasta15Abril-reduced.csv')"
   ]
  },
  {
   "cell_type": "code",
   "execution_count": null,
   "metadata": {},
   "outputs": [],
   "source": []
  },
  {
   "cell_type": "markdown",
   "metadata": {},
   "source": [
    "# Verifico que no haya IDs nulos"
   ]
  },
  {
   "cell_type": "code",
   "execution_count": 31,
   "metadata": {},
   "outputs": [
    {
     "data": {
      "text/plain": [
       "False"
      ]
     },
     "execution_count": 31,
     "metadata": {},
     "output_type": "execute_result"
    }
   ],
   "source": [
    "fiuba_3_vistas['idpostulante'].isnull().any()"
   ]
  },
  {
   "cell_type": "code",
   "execution_count": 30,
   "metadata": {},
   "outputs": [
    {
     "data": {
      "text/plain": [
       "False"
      ]
     },
     "execution_count": 30,
     "metadata": {},
     "output_type": "execute_result"
    }
   ],
   "source": [
    "fiuba_3_vistasDesde15Abril['idpostulante'].isnull().any()"
   ]
  },
  {
   "cell_type": "code",
   "execution_count": 33,
   "metadata": {},
   "outputs": [],
   "source": [
    "fiuba_3_vistasHasta15Abril['idpostulante'].isnull().any()"
   ]
  },
  {
   "cell_type": "markdown",
   "metadata": {},
   "source": [
    "# Merge de CSVs de vistas"
   ]
  },
  {
   "cell_type": "code",
   "execution_count": 3,
   "metadata": {},
   "outputs": [
    {
     "name": "stdout",
     "output_type": "stream",
     "text": [
      "/home/lucio/Documentos/Datos/NaventDatosTP/Data/Vistas/fiuba_3_vistas-reduced.csv\n",
      "/home/lucio/Documentos/Datos/NaventDatosTP/Data/Vistas/fiuba_3_vistasHasta15Abril-reduced.csv\n",
      "/home/lucio/Documentos/Datos/NaventDatosTP/Data/Vistas/fiuba_3_vistasDesde15Abril-reduced.csv\n"
     ]
    }
   ],
   "source": [
    "path =r'/home/lucio/Documentos/Datos/NaventDatosTP/Data/Vistas'\n",
    "allFiles = glob.glob(path + \"/*.csv\")\n",
    "frame = pd.DataFrame()\n",
    "list_ = []\n",
    "for file_ in allFiles:\n",
    "    print (file_)\n",
    "    df = pd.read_csv(file_,low_memory=False)\n",
    "    list_.append(df)\n",
    "frame = pd.concat(list_)\n",
    "#frame.drop_duplicates([\"idpostulante\"],inplace=True) PUEDE REPETIRSE EL IDPOSTULANTE\n",
    "frame.drop_duplicates([\"idpostulante\",\"idAviso\"],inplace=True) #Elimino vistas repetidas\n",
    "#Como el dataset a predecir no contiene el dato de horario de postulacion o vista decido\n",
    "#que un postulante puede ver o no ver un aviso... sin darle importancia al horario\n",
    "frame.to_csv('/home/lucio/Documentos/Datos/NaventDatosTP/Data/Vistas/Vistas-merge.csv',sep=\",\",index=False)"
   ]
  },
  {
   "cell_type": "markdown",
   "metadata": {},
   "source": [
    "# Postulaciones"
   ]
  },
  {
   "cell_type": "code",
   "execution_count": 4,
   "metadata": {},
   "outputs": [],
   "source": [
    "fiuba_4_postulaciones = pd.read_csv('Data/Postulaciones/fiuba_4_postulaciones.csv')"
   ]
  },
  {
   "cell_type": "code",
   "execution_count": 5,
   "metadata": {},
   "outputs": [
    {
     "name": "stdout",
     "output_type": "stream",
     "text": [
      "<class 'pandas.core.frame.DataFrame'>\n",
      "RangeIndex: 3401623 entries, 0 to 3401622\n",
      "Data columns (total 3 columns):\n",
      "idaviso             int64\n",
      "idpostulante        object\n",
      "fechapostulacion    object\n",
      "dtypes: int64(1), object(2)\n",
      "memory usage: 77.9+ MB\n"
     ]
    }
   ],
   "source": [
    "fiuba_4_postulaciones.info()"
   ]
  },
  {
   "cell_type": "code",
   "execution_count": 6,
   "metadata": {},
   "outputs": [
    {
     "name": "stdout",
     "output_type": "stream",
     "text": [
      "25.95 MB\n",
      "12.98 MB\n"
     ]
    },
    {
     "data": {
      "text/html": [
       "<div>\n",
       "<style scoped>\n",
       "    .dataframe tbody tr th:only-of-type {\n",
       "        vertical-align: middle;\n",
       "    }\n",
       "\n",
       "    .dataframe tbody tr th {\n",
       "        vertical-align: top;\n",
       "    }\n",
       "\n",
       "    .dataframe thead th {\n",
       "        text-align: right;\n",
       "    }\n",
       "</style>\n",
       "<table border=\"1\" class=\"dataframe\">\n",
       "  <thead>\n",
       "    <tr style=\"text-align: right;\">\n",
       "      <th></th>\n",
       "      <th>before</th>\n",
       "      <th>after</th>\n",
       "    </tr>\n",
       "  </thead>\n",
       "  <tbody>\n",
       "    <tr>\n",
       "      <th>uint32</th>\n",
       "      <td>NaN</td>\n",
       "      <td>1.0</td>\n",
       "    </tr>\n",
       "    <tr>\n",
       "      <th>int64</th>\n",
       "      <td>1.0</td>\n",
       "      <td>NaN</td>\n",
       "    </tr>\n",
       "  </tbody>\n",
       "</table>\n",
       "</div>"
      ],
      "text/plain": [
       "        before  after\n",
       "uint32     NaN    1.0\n",
       "int64      1.0    NaN"
      ]
     },
     "execution_count": 6,
     "metadata": {},
     "output_type": "execute_result"
    }
   ],
   "source": [
    "fiuba_4_postulaciones_int = fiuba_4_postulaciones.select_dtypes(include=['int'])\n",
    "converted_int = fiuba_4_postulaciones_int.apply(pd.to_numeric,downcast='unsigned')\n",
    "\n",
    "print(mem_usage(fiuba_4_postulaciones_int))\n",
    "print(mem_usage(converted_int))\n",
    "\n",
    "compare_ints = pd.concat([fiuba_4_postulaciones_int.dtypes,converted_int.dtypes],axis=1)\n",
    "compare_ints.columns = ['before','after']\n",
    "compare_ints.apply(pd.Series.value_counts)"
   ]
  },
  {
   "cell_type": "code",
   "execution_count": 7,
   "metadata": {},
   "outputs": [
    {
     "name": "stdout",
     "output_type": "stream",
     "text": [
      "479.50 MB\n",
      "466.53 MB\n"
     ]
    }
   ],
   "source": [
    "optimized_fiuba_4_postulaciones = fiuba_4_postulaciones.copy()\n",
    "\n",
    "optimized_fiuba_4_postulaciones[converted_int.columns] = converted_int\n",
    "\n",
    "print(mem_usage(fiuba_4_postulaciones))\n",
    "print(mem_usage(optimized_fiuba_4_postulaciones))"
   ]
  },
  {
   "cell_type": "code",
   "execution_count": 8,
   "metadata": {},
   "outputs": [
    {
     "name": "stdout",
     "output_type": "stream",
     "text": [
      "246.55 MB\n"
     ]
    },
    {
     "data": {
      "text/plain": [
       "0    2018-01-15 16:22:34\n",
       "1    2018-02-06 09:04:50\n",
       "2    2018-02-22 09:04:47\n",
       "3    2018-02-22 09:04:59\n",
       "4    2018-01-25 18:55:03\n",
       "Name: fechapostulacion, dtype: object"
      ]
     },
     "execution_count": 8,
     "metadata": {},
     "output_type": "execute_result"
    }
   ],
   "source": [
    "fechapostulacion = optimized_fiuba_4_postulaciones.fechapostulacion\n",
    "print(mem_usage(fechapostulacion))\n",
    "fechapostulacion.head()"
   ]
  },
  {
   "cell_type": "code",
   "execution_count": 9,
   "metadata": {},
   "outputs": [
    {
     "name": "stdout",
     "output_type": "stream",
     "text": [
      "245.93 MB\n"
     ]
    },
    {
     "data": {
      "text/plain": [
       "0   2018-01-15 16:22:34\n",
       "1   2018-02-06 09:04:50\n",
       "2   2018-02-22 09:04:47\n",
       "3   2018-02-22 09:04:59\n",
       "4   2018-01-25 18:55:03\n",
       "Name: fechapostulacion, dtype: datetime64[ns]"
      ]
     },
     "execution_count": 9,
     "metadata": {},
     "output_type": "execute_result"
    }
   ],
   "source": [
    "optimized_fiuba_4_postulaciones['fechapostulacion'] = pd.to_datetime(fechapostulacion,format='%Y-%m-%d %H:%M:%S')\n",
    "\n",
    "print(mem_usage(optimized_fiuba_4_postulaciones))\n",
    "optimized_fiuba_4_postulaciones.fechapostulacion.head()"
   ]
  },
  {
   "cell_type": "code",
   "execution_count": 10,
   "metadata": {},
   "outputs": [
    {
     "name": "stdout",
     "output_type": "stream",
     "text": [
      "479.50 MB\n",
      "245.93 MB\n"
     ]
    }
   ],
   "source": [
    "print(mem_usage(fiuba_4_postulaciones))\n",
    "print(mem_usage(optimized_fiuba_4_postulaciones))"
   ]
  },
  {
   "cell_type": "code",
   "execution_count": 11,
   "metadata": {},
   "outputs": [
    {
     "name": "stdout",
     "output_type": "stream",
     "text": [
      "{'idaviso': 'uint32', 'idpostulante': 'object'}\n"
     ]
    }
   ],
   "source": [
    "dtypes = optimized_fiuba_4_postulaciones.drop('fechapostulacion',axis=1).dtypes\n",
    "\n",
    "dtypes_col = dtypes.index\n",
    "dtypes_type = [i.name for i in dtypes.values]\n",
    "\n",
    "column_types = dict(zip(dtypes_col, dtypes_type))\n",
    "\n",
    "# rather than print all 161 items, we'll\n",
    "# sample 10 key/value pairs from the dict\n",
    "# and print it nicely using prettyprint\n",
    "\n",
    "preview = first2pairs = {key:value for key,value in list(column_types.items())[:10]}\n",
    "import pprint\n",
    "pp = pp = pprint.PrettyPrinter(indent=4)\n",
    "pp.pprint(preview)"
   ]
  },
  {
   "cell_type": "code",
   "execution_count": 21,
   "metadata": {},
   "outputs": [],
   "source": [
    "optimized_fiuba_4_postulaciones.to_csv('Data/Postulaciones/fiuba_4_postulaciones-reduced.csv')"
   ]
  },
  {
   "cell_type": "code",
   "execution_count": null,
   "metadata": {},
   "outputs": [],
   "source": []
  },
  {
   "cell_type": "code",
   "execution_count": 36,
   "metadata": {},
   "outputs": [],
   "source": [
    "fiuba_4_postulacionesHasta15Abril = pd.read_csv('Data/Postulaciones/fiuba_4_postulacionesHasta15Abril.csv')"
   ]
  },
  {
   "cell_type": "code",
   "execution_count": 37,
   "metadata": {},
   "outputs": [
    {
     "name": "stdout",
     "output_type": "stream",
     "text": [
      "<class 'pandas.core.frame.DataFrame'>\n",
      "RangeIndex: 4909641 entries, 0 to 4909640\n",
      "Data columns (total 3 columns):\n",
      "idaviso             int64\n",
      "idpostulante        object\n",
      "fechapostulacion    object\n",
      "dtypes: int64(1), object(2)\n",
      "memory usage: 112.4+ MB\n"
     ]
    }
   ],
   "source": [
    "fiuba_4_postulacionesHasta15Abril.info()"
   ]
  },
  {
   "cell_type": "code",
   "execution_count": 38,
   "metadata": {},
   "outputs": [
    {
     "name": "stdout",
     "output_type": "stream",
     "text": [
      "37.46 MB\n",
      "18.73 MB\n"
     ]
    },
    {
     "data": {
      "text/html": [
       "<div>\n",
       "<style scoped>\n",
       "    .dataframe tbody tr th:only-of-type {\n",
       "        vertical-align: middle;\n",
       "    }\n",
       "\n",
       "    .dataframe tbody tr th {\n",
       "        vertical-align: top;\n",
       "    }\n",
       "\n",
       "    .dataframe thead th {\n",
       "        text-align: right;\n",
       "    }\n",
       "</style>\n",
       "<table border=\"1\" class=\"dataframe\">\n",
       "  <thead>\n",
       "    <tr style=\"text-align: right;\">\n",
       "      <th></th>\n",
       "      <th>before</th>\n",
       "      <th>after</th>\n",
       "    </tr>\n",
       "  </thead>\n",
       "  <tbody>\n",
       "    <tr>\n",
       "      <th>uint32</th>\n",
       "      <td>NaN</td>\n",
       "      <td>1.0</td>\n",
       "    </tr>\n",
       "    <tr>\n",
       "      <th>int64</th>\n",
       "      <td>1.0</td>\n",
       "      <td>NaN</td>\n",
       "    </tr>\n",
       "  </tbody>\n",
       "</table>\n",
       "</div>"
      ],
      "text/plain": [
       "        before  after\n",
       "uint32     NaN    1.0\n",
       "int64      1.0    NaN"
      ]
     },
     "execution_count": 38,
     "metadata": {},
     "output_type": "execute_result"
    }
   ],
   "source": [
    "fiuba_4_postulacionesHasta15Abril_int = fiuba_4_postulacionesHasta15Abril.select_dtypes(include=['int'])\n",
    "converted_int = fiuba_4_postulacionesHasta15Abril_int.apply(pd.to_numeric,downcast='unsigned')\n",
    "\n",
    "print(mem_usage(fiuba_4_postulacionesHasta15Abril_int))\n",
    "print(mem_usage(converted_int))\n",
    "\n",
    "compare_ints = pd.concat([fiuba_4_postulacionesHasta15Abril_int.dtypes,converted_int.dtypes],axis=1)\n",
    "compare_ints.columns = ['before','after']\n",
    "compare_ints.apply(pd.Series.value_counts)"
   ]
  },
  {
   "cell_type": "code",
   "execution_count": 39,
   "metadata": {},
   "outputs": [
    {
     "name": "stdout",
     "output_type": "stream",
     "text": [
      "691.98 MB\n",
      "673.25 MB\n"
     ]
    }
   ],
   "source": [
    "optimized_fiuba_4_postulacionesHasta15Abril = fiuba_4_postulacionesHasta15Abril.copy()\n",
    "\n",
    "optimized_fiuba_4_postulacionesHasta15Abril[converted_int.columns] = converted_int\n",
    "\n",
    "print(mem_usage(fiuba_4_postulacionesHasta15Abril))\n",
    "print(mem_usage(optimized_fiuba_4_postulacionesHasta15Abril))"
   ]
  },
  {
   "cell_type": "code",
   "execution_count": 40,
   "metadata": {},
   "outputs": [
    {
     "name": "stdout",
     "output_type": "stream",
     "text": [
      "355.85 MB\n"
     ]
    },
    {
     "data": {
      "text/plain": [
       "0    2018-01-19 07:39:16\n",
       "1    2018-01-24 15:07:39\n",
       "2    2018-01-24 15:20:10\n",
       "3    2018-01-26 08:37:04\n",
       "4    2018-01-30 13:35:48\n",
       "Name: fechapostulacion, dtype: object"
      ]
     },
     "execution_count": 40,
     "metadata": {},
     "output_type": "execute_result"
    }
   ],
   "source": [
    "fechapostulacion = optimized_fiuba_4_postulacionesHasta15Abril.fechapostulacion\n",
    "print(mem_usage(fechapostulacion))\n",
    "fechapostulacion.head()"
   ]
  },
  {
   "cell_type": "code",
   "execution_count": 41,
   "metadata": {},
   "outputs": [
    {
     "name": "stdout",
     "output_type": "stream",
     "text": [
      "354.86 MB\n"
     ]
    },
    {
     "data": {
      "text/plain": [
       "0   2018-01-19 07:39:16\n",
       "1   2018-01-24 15:07:39\n",
       "2   2018-01-24 15:20:10\n",
       "3   2018-01-26 08:37:04\n",
       "4   2018-01-30 13:35:48\n",
       "Name: fechapostulacion, dtype: datetime64[ns]"
      ]
     },
     "execution_count": 41,
     "metadata": {},
     "output_type": "execute_result"
    }
   ],
   "source": [
    "optimized_fiuba_4_postulacionesHasta15Abril['fechapostulacion'] = pd.to_datetime(fechapostulacion,format='%Y-%m-%d %H:%M:%S')\n",
    "\n",
    "print(mem_usage(optimized_fiuba_4_postulacionesHasta15Abril))\n",
    "optimized_fiuba_4_postulacionesHasta15Abril.fechapostulacion.head()"
   ]
  },
  {
   "cell_type": "code",
   "execution_count": 42,
   "metadata": {},
   "outputs": [
    {
     "name": "stdout",
     "output_type": "stream",
     "text": [
      "691.98 MB\n",
      "354.86 MB\n"
     ]
    }
   ],
   "source": [
    "print(mem_usage(fiuba_4_postulacionesHasta15Abril))\n",
    "print(mem_usage(optimized_fiuba_4_postulacionesHasta15Abril))"
   ]
  },
  {
   "cell_type": "code",
   "execution_count": 44,
   "metadata": {},
   "outputs": [
    {
     "name": "stdout",
     "output_type": "stream",
     "text": [
      "{'idaviso': 'uint32', 'idpostulante': 'object'}\n"
     ]
    }
   ],
   "source": [
    "dtypes = optimized_fiuba_4_postulacionesHasta15Abril.drop('fechapostulacion',axis=1).dtypes\n",
    "\n",
    "dtypes_col = dtypes.index\n",
    "dtypes_type = [i.name for i in dtypes.values]\n",
    "\n",
    "column_types = dict(zip(dtypes_col, dtypes_type))\n",
    "\n",
    "# rather than print all 161 items, we'll\n",
    "# sample 10 key/value pairs from the dict\n",
    "# and print it nicely using prettyprint\n",
    "\n",
    "preview = first2pairs = {key:value for key,value in list(column_types.items())[:10]}\n",
    "import pprint\n",
    "pp = pp = pprint.PrettyPrinter(indent=4)\n",
    "pp.pprint(preview)"
   ]
  },
  {
   "cell_type": "code",
   "execution_count": 10,
   "metadata": {},
   "outputs": [],
   "source": [
    "optimized_fiuba_4_postulacionesHasta15Abril.to_csv('Data/Postulaciones/fiuba_4_postulacionesHasta15Abril-reduced.csv')"
   ]
  },
  {
   "cell_type": "markdown",
   "metadata": {},
   "source": [
    "# Verifico que no haya IDs nulos"
   ]
  },
  {
   "cell_type": "code",
   "execution_count": 8,
   "metadata": {},
   "outputs": [
    {
     "data": {
      "text/plain": [
       "False"
      ]
     },
     "execution_count": 8,
     "metadata": {},
     "output_type": "execute_result"
    }
   ],
   "source": [
    "fiuba_4_postulaciones['idpostulante'].isnull().any()"
   ]
  },
  {
   "cell_type": "code",
   "execution_count": 10,
   "metadata": {},
   "outputs": [
    {
     "data": {
      "text/plain": [
       "False"
      ]
     },
     "execution_count": 10,
     "metadata": {},
     "output_type": "execute_result"
    }
   ],
   "source": [
    "fiuba_4_postulacionesHasta15Abril['idpostulante'].isnull().any()"
   ]
  },
  {
   "cell_type": "markdown",
   "metadata": {},
   "source": [
    "# Merge de CSVs de postulaciones"
   ]
  },
  {
   "cell_type": "code",
   "execution_count": 19,
   "metadata": {},
   "outputs": [
    {
     "name": "stdout",
     "output_type": "stream",
     "text": [
      "/home/lucio/Documentos/Datos/NaventDatosTP/Data/Postulaciones/fiuba_4_postulaciones-reduced.csv\n",
      "/home/lucio/Documentos/Datos/NaventDatosTP/Data/Postulaciones/fiuba_4_postulacionesHasta15Abril-reduced.csv\n"
     ]
    }
   ],
   "source": [
    "path =r'/home/lucio/Documentos/Datos/NaventDatosTP/Data/Postulaciones'\n",
    "allFiles = glob.glob(path + \"/*.csv\")\n",
    "frame = pd.DataFrame()\n",
    "list_ = []\n",
    "for file_ in allFiles:\n",
    "    print (file_)\n",
    "    df = pd.read_csv(file_,low_memory=False)\n",
    "    list_.append(df)\n",
    "frame = pd.concat(list_)\n",
    "#frame.drop_duplicates([\"idpostulante\"],inplace=True) UN POSTULANTE PUEDE APARECER VARIAS VECES\n",
    "frame.drop_duplicates([\"idpostulante\",\"idaviso\"],inplace=True) #Elimino postulaciones repetidas\n",
    "frame.to_csv('/home/lucio/Documentos/Datos/NaventDatosTP/Data/Postulaciones/Postulaciones-merge.csv',sep=\",\",index=False)"
   ]
  },
  {
   "cell_type": "markdown",
   "metadata": {},
   "source": [
    "# Avisos online"
   ]
  },
  {
   "cell_type": "code",
   "execution_count": 12,
   "metadata": {},
   "outputs": [],
   "source": [
    "fiuba_5_avisos_online = pd.read_csv('Data/fiuba_5_avisos_online.csv')"
   ]
  },
  {
   "cell_type": "code",
   "execution_count": 13,
   "metadata": {},
   "outputs": [],
   "source": [
    "fiuba_5_avisos_onlineHasta15Abril = pd.read_csv('Data/fiuba_5_avisos_onlineHasta15Abril.csv')"
   ]
  },
  {
   "cell_type": "markdown",
   "metadata": {},
   "source": [
    "# Verifico que no haya IDs nulos"
   ]
  },
  {
   "cell_type": "code",
   "execution_count": 16,
   "metadata": {},
   "outputs": [
    {
     "data": {
      "text/plain": [
       "False"
      ]
     },
     "execution_count": 16,
     "metadata": {},
     "output_type": "execute_result"
    }
   ],
   "source": [
    "fiuba_5_avisos_online['idaviso'].isnull().any()"
   ]
  },
  {
   "cell_type": "code",
   "execution_count": 17,
   "metadata": {},
   "outputs": [
    {
     "data": {
      "text/plain": [
       "False"
      ]
     },
     "execution_count": 17,
     "metadata": {},
     "output_type": "execute_result"
    }
   ],
   "source": [
    "fiuba_5_avisos_onlineHasta15Abril['idaviso'].isnull().any()"
   ]
  },
  {
   "cell_type": "markdown",
   "metadata": {},
   "source": [
    "# Merge de CSVs de avisos online"
   ]
  },
  {
   "cell_type": "code",
   "execution_count": 5,
   "metadata": {},
   "outputs": [
    {
     "name": "stdout",
     "output_type": "stream",
     "text": [
      "/home/lucio/Documentos/Datos/NaventDatosTP/Data/Avisos-Online/fiuba_5_avisos_online.csv\n",
      "/home/lucio/Documentos/Datos/NaventDatosTP/Data/Avisos-Online/fiuba_5_avisos_onlineHasta15Abril.csv\n"
     ]
    }
   ],
   "source": [
    "path =r'/home/lucio/Documentos/Datos/NaventDatosTP/Data/Avisos-Online'\n",
    "allFiles = glob.glob(path + \"/*.csv\")\n",
    "frame = pd.DataFrame()\n",
    "list_ = []\n",
    "for file_ in allFiles:\n",
    "    print (file_)\n",
    "    df = pd.read_csv(file_,low_memory=False)\n",
    "    list_.append(df)\n",
    "frame = pd.concat(list_)\n",
    "#frame.drop_duplicates([\"idaviso\"],inplace=True) PUEDE HABER AVISOS REPETIDOS\n",
    "frame.to_csv('/home/lucio/Documentos/Datos/NaventDatosTP/Data/Avisos-Online/Avisos-Online-merge.csv',sep=\",\",index=False)"
   ]
  },
  {
   "cell_type": "markdown",
   "metadata": {},
   "source": [
    "# Avisos detalle"
   ]
  },
  {
   "cell_type": "code",
   "execution_count": 80,
   "metadata": {},
   "outputs": [],
   "source": [
    "fiuba_6_avisos_detalle = pd.read_csv('Data/Avisos-Detalle/fiuba_6_avisos_detalle.csv')"
   ]
  },
  {
   "cell_type": "code",
   "execution_count": 81,
   "metadata": {},
   "outputs": [
    {
     "name": "stdout",
     "output_type": "stream",
     "text": [
      "<class 'pandas.core.frame.DataFrame'>\n",
      "RangeIndex: 13534 entries, 0 to 13533\n",
      "Data columns (total 11 columns):\n",
      "idaviso                 13534 non-null int64\n",
      "idpais                  13534 non-null int64\n",
      "titulo                  13534 non-null object\n",
      "descripcion             13534 non-null object\n",
      "nombre_zona             13534 non-null object\n",
      "ciudad                  47 non-null object\n",
      "mapacalle               872 non-null object\n",
      "tipo_de_trabajo         13534 non-null object\n",
      "nivel_laboral           13534 non-null object\n",
      "nombre_area             13534 non-null object\n",
      "denominacion_empresa    13529 non-null object\n",
      "dtypes: int64(2), object(9)\n",
      "memory usage: 1.1+ MB\n"
     ]
    }
   ],
   "source": [
    "fiuba_6_avisos_detalle.info()"
   ]
  },
  {
   "cell_type": "code",
   "execution_count": 82,
   "metadata": {},
   "outputs": [
    {
     "name": "stdout",
     "output_type": "stream",
     "text": [
      "Average memory usage for int columns: 0.07 MB\n",
      "Average memory usage for object columns: 2.53 MB\n"
     ]
    }
   ],
   "source": [
    "for dtype in ['int','object']:\n",
    "    selected_dtype = fiuba_6_avisos_detalle.select_dtypes(include=[dtype])\n",
    "    mean_usage_b = selected_dtype.memory_usage(deep=True).mean()\n",
    "    mean_usage_mb = mean_usage_b / 1024 ** 2\n",
    "    print(\"Average memory usage for {} columns: {:03.2f} MB\".format(dtype,mean_usage_mb))"
   ]
  },
  {
   "cell_type": "code",
   "execution_count": 83,
   "metadata": {},
   "outputs": [
    {
     "data": {
      "text/html": [
       "<div>\n",
       "<style scoped>\n",
       "    .dataframe tbody tr th:only-of-type {\n",
       "        vertical-align: middle;\n",
       "    }\n",
       "\n",
       "    .dataframe tbody tr th {\n",
       "        vertical-align: top;\n",
       "    }\n",
       "\n",
       "    .dataframe thead th {\n",
       "        text-align: right;\n",
       "    }\n",
       "</style>\n",
       "<table border=\"1\" class=\"dataframe\">\n",
       "  <thead>\n",
       "    <tr style=\"text-align: right;\">\n",
       "      <th></th>\n",
       "      <th>titulo</th>\n",
       "      <th>descripcion</th>\n",
       "      <th>nombre_zona</th>\n",
       "      <th>ciudad</th>\n",
       "      <th>mapacalle</th>\n",
       "      <th>tipo_de_trabajo</th>\n",
       "      <th>nivel_laboral</th>\n",
       "      <th>nombre_area</th>\n",
       "      <th>denominacion_empresa</th>\n",
       "    </tr>\n",
       "  </thead>\n",
       "  <tbody>\n",
       "    <tr>\n",
       "      <th>count</th>\n",
       "      <td>13534</td>\n",
       "      <td>13534</td>\n",
       "      <td>13534</td>\n",
       "      <td>47</td>\n",
       "      <td>872</td>\n",
       "      <td>13534</td>\n",
       "      <td>13534</td>\n",
       "      <td>13534</td>\n",
       "      <td>13529</td>\n",
       "    </tr>\n",
       "    <tr>\n",
       "      <th>unique</th>\n",
       "      <td>11650</td>\n",
       "      <td>12674</td>\n",
       "      <td>4</td>\n",
       "      <td>18</td>\n",
       "      <td>487</td>\n",
       "      <td>9</td>\n",
       "      <td>5</td>\n",
       "      <td>173</td>\n",
       "      <td>2592</td>\n",
       "    </tr>\n",
       "    <tr>\n",
       "      <th>top</th>\n",
       "      <td>Analistas de Testing Ssr/Sr con Automatización...</td>\n",
       "      <td>&lt;p&gt;Nos encontramos en la búsqueda de un ANALIS...</td>\n",
       "      <td>Gran Buenos Aires</td>\n",
       "      <td>Buenos Aires</td>\n",
       "      <td>SARMIENTO 1937</td>\n",
       "      <td>Full-time</td>\n",
       "      <td>Senior / Semi-Senior</td>\n",
       "      <td>Ventas</td>\n",
       "      <td>RANDSTAD</td>\n",
       "    </tr>\n",
       "    <tr>\n",
       "      <th>freq</th>\n",
       "      <td>22</td>\n",
       "      <td>19</td>\n",
       "      <td>12654</td>\n",
       "      <td>14</td>\n",
       "      <td>43</td>\n",
       "      <td>12339</td>\n",
       "      <td>9407</td>\n",
       "      <td>1659</td>\n",
       "      <td>562</td>\n",
       "    </tr>\n",
       "  </tbody>\n",
       "</table>\n",
       "</div>"
      ],
      "text/plain": [
       "                                                   titulo  \\\n",
       "count                                               13534   \n",
       "unique                                              11650   \n",
       "top     Analistas de Testing Ssr/Sr con Automatización...   \n",
       "freq                                                   22   \n",
       "\n",
       "                                              descripcion        nombre_zona  \\\n",
       "count                                               13534              13534   \n",
       "unique                                              12674                  4   \n",
       "top     <p>Nos encontramos en la búsqueda de un ANALIS...  Gran Buenos Aires   \n",
       "freq                                                   19              12654   \n",
       "\n",
       "              ciudad       mapacalle tipo_de_trabajo         nivel_laboral  \\\n",
       "count             47             872           13534                 13534   \n",
       "unique            18             487               9                     5   \n",
       "top     Buenos Aires  SARMIENTO 1937       Full-time  Senior / Semi-Senior   \n",
       "freq              14              43           12339                  9407   \n",
       "\n",
       "       nombre_area denominacion_empresa  \n",
       "count        13534                13529  \n",
       "unique         173                 2592  \n",
       "top         Ventas             RANDSTAD  \n",
       "freq          1659                  562  "
      ]
     },
     "execution_count": 83,
     "metadata": {},
     "output_type": "execute_result"
    }
   ],
   "source": [
    "fiuba_6_avisos_detalle_obj = fiuba_6_avisos_detalle.select_dtypes(include=['object']).copy()\n",
    "fiuba_6_avisos_detalle_obj.describe()"
   ]
  },
  {
   "cell_type": "code",
   "execution_count": 119,
   "metadata": {},
   "outputs": [],
   "source": [
    "converted_obj = pd.DataFrame()\n",
    "\n",
    "for col in ['nombre_zona','ciudad','tipo_de_trabajo', 'nivel_laboral']:\n",
    "    num_unique_values = len(fiuba_6_avisos_detalle_obj[col].unique())\n",
    "    num_total_values = len(fiuba_6_avisos_detalle_obj[col])\n",
    "    if num_unique_values / num_total_values < 0.5:\n",
    "        converted_obj.loc[:,col] = fiuba_6_avisos_detalle_obj[col].astype('category')\n",
    "    else:\n",
    "        converted_obj.loc[:,col] = fiuba_6_avisos_detalle_obj[col]"
   ]
  },
  {
   "cell_type": "code",
   "execution_count": 120,
   "metadata": {},
   "outputs": [
    {
     "name": "stdout",
     "output_type": "stream",
     "text": [
      "25.42 MB\n",
      "0.06 MB\n"
     ]
    },
    {
     "name": "stderr",
     "output_type": "stream",
     "text": [
      "/home/lucio/Documentos/Datos/lib/python3.6/site-packages/ipykernel_launcher.py:4: FutureWarning: Sorting because non-concatenation axis is not aligned. A future version\n",
      "of pandas will change to not sort by default.\n",
      "\n",
      "To accept the future behavior, pass 'sort=True'.\n",
      "\n",
      "To retain the current behavior and silence the warning, pass sort=False\n",
      "\n",
      "  after removing the cwd from sys.path.\n"
     ]
    },
    {
     "data": {
      "text/html": [
       "<div>\n",
       "<style scoped>\n",
       "    .dataframe tbody tr th:only-of-type {\n",
       "        vertical-align: middle;\n",
       "    }\n",
       "\n",
       "    .dataframe tbody tr th {\n",
       "        vertical-align: top;\n",
       "    }\n",
       "\n",
       "    .dataframe thead th {\n",
       "        text-align: right;\n",
       "    }\n",
       "</style>\n",
       "<table border=\"1\" class=\"dataframe\">\n",
       "  <thead>\n",
       "    <tr style=\"text-align: right;\">\n",
       "      <th></th>\n",
       "      <th>before</th>\n",
       "      <th>after</th>\n",
       "    </tr>\n",
       "  </thead>\n",
       "  <tbody>\n",
       "    <tr>\n",
       "      <th>object</th>\n",
       "      <td>9.0</td>\n",
       "      <td>NaN</td>\n",
       "    </tr>\n",
       "    <tr>\n",
       "      <th>category</th>\n",
       "      <td>NaN</td>\n",
       "      <td>1.0</td>\n",
       "    </tr>\n",
       "    <tr>\n",
       "      <th>category</th>\n",
       "      <td>NaN</td>\n",
       "      <td>1.0</td>\n",
       "    </tr>\n",
       "    <tr>\n",
       "      <th>category</th>\n",
       "      <td>NaN</td>\n",
       "      <td>1.0</td>\n",
       "    </tr>\n",
       "    <tr>\n",
       "      <th>category</th>\n",
       "      <td>NaN</td>\n",
       "      <td>1.0</td>\n",
       "    </tr>\n",
       "  </tbody>\n",
       "</table>\n",
       "</div>"
      ],
      "text/plain": [
       "          before  after\n",
       "object       9.0    NaN\n",
       "category     NaN    1.0\n",
       "category     NaN    1.0\n",
       "category     NaN    1.0\n",
       "category     NaN    1.0"
      ]
     },
     "execution_count": 120,
     "metadata": {},
     "output_type": "execute_result"
    }
   ],
   "source": [
    "print(mem_usage(fiuba_6_avisos_detalle_obj))\n",
    "print(mem_usage(converted_obj))\n",
    "\n",
    "compare_obj = pd.concat([fiuba_6_avisos_detalle_obj.dtypes,converted_obj.dtypes],axis=1)\n",
    "compare_obj.columns = ['before','after']\n",
    "compare_obj.apply(pd.Series.value_counts)"
   ]
  },
  {
   "cell_type": "code",
   "execution_count": 121,
   "metadata": {},
   "outputs": [
    {
     "data": {
      "text/html": [
       "<div>\n",
       "<style scoped>\n",
       "    .dataframe tbody tr th:only-of-type {\n",
       "        vertical-align: middle;\n",
       "    }\n",
       "\n",
       "    .dataframe tbody tr th {\n",
       "        vertical-align: top;\n",
       "    }\n",
       "\n",
       "    .dataframe thead th {\n",
       "        text-align: right;\n",
       "    }\n",
       "</style>\n",
       "<table border=\"1\" class=\"dataframe\">\n",
       "  <thead>\n",
       "    <tr style=\"text-align: right;\">\n",
       "      <th></th>\n",
       "      <th>idaviso</th>\n",
       "      <th>idpais</th>\n",
       "    </tr>\n",
       "  </thead>\n",
       "  <tbody>\n",
       "    <tr>\n",
       "      <th>count</th>\n",
       "      <td>1.353400e+04</td>\n",
       "      <td>13534.0</td>\n",
       "    </tr>\n",
       "    <tr>\n",
       "      <th>mean</th>\n",
       "      <td>1.110816e+09</td>\n",
       "      <td>1.0</td>\n",
       "    </tr>\n",
       "    <tr>\n",
       "      <th>std</th>\n",
       "      <td>3.235817e+07</td>\n",
       "      <td>0.0</td>\n",
       "    </tr>\n",
       "    <tr>\n",
       "      <th>min</th>\n",
       "      <td>1.585950e+06</td>\n",
       "      <td>1.0</td>\n",
       "    </tr>\n",
       "    <tr>\n",
       "      <th>25%</th>\n",
       "      <td>1.112222e+09</td>\n",
       "      <td>1.0</td>\n",
       "    </tr>\n",
       "    <tr>\n",
       "      <th>50%</th>\n",
       "      <td>1.112279e+09</td>\n",
       "      <td>1.0</td>\n",
       "    </tr>\n",
       "    <tr>\n",
       "      <th>75%</th>\n",
       "      <td>1.112339e+09</td>\n",
       "      <td>1.0</td>\n",
       "    </tr>\n",
       "    <tr>\n",
       "      <th>max</th>\n",
       "      <td>1.112389e+09</td>\n",
       "      <td>1.0</td>\n",
       "    </tr>\n",
       "  </tbody>\n",
       "</table>\n",
       "</div>"
      ],
      "text/plain": [
       "            idaviso   idpais\n",
       "count  1.353400e+04  13534.0\n",
       "mean   1.110816e+09      1.0\n",
       "std    3.235817e+07      0.0\n",
       "min    1.585950e+06      1.0\n",
       "25%    1.112222e+09      1.0\n",
       "50%    1.112279e+09      1.0\n",
       "75%    1.112339e+09      1.0\n",
       "max    1.112389e+09      1.0"
      ]
     },
     "execution_count": 121,
     "metadata": {},
     "output_type": "execute_result"
    }
   ],
   "source": [
    "fiuba_6_avisos_detalle_int = fiuba_6_avisos_detalle.select_dtypes(include=['int']).copy()\n",
    "fiuba_6_avisos_detalle_int.describe()"
   ]
  },
  {
   "cell_type": "code",
   "execution_count": 122,
   "metadata": {},
   "outputs": [
    {
     "name": "stdout",
     "output_type": "stream",
     "text": [
      "0.21 MB\n",
      "0.06 MB\n"
     ]
    },
    {
     "data": {
      "text/html": [
       "<div>\n",
       "<style scoped>\n",
       "    .dataframe tbody tr th:only-of-type {\n",
       "        vertical-align: middle;\n",
       "    }\n",
       "\n",
       "    .dataframe tbody tr th {\n",
       "        vertical-align: top;\n",
       "    }\n",
       "\n",
       "    .dataframe thead th {\n",
       "        text-align: right;\n",
       "    }\n",
       "</style>\n",
       "<table border=\"1\" class=\"dataframe\">\n",
       "  <thead>\n",
       "    <tr style=\"text-align: right;\">\n",
       "      <th></th>\n",
       "      <th>before</th>\n",
       "      <th>after</th>\n",
       "    </tr>\n",
       "  </thead>\n",
       "  <tbody>\n",
       "    <tr>\n",
       "      <th>uint8</th>\n",
       "      <td>NaN</td>\n",
       "      <td>1.0</td>\n",
       "    </tr>\n",
       "    <tr>\n",
       "      <th>uint32</th>\n",
       "      <td>NaN</td>\n",
       "      <td>1.0</td>\n",
       "    </tr>\n",
       "    <tr>\n",
       "      <th>int64</th>\n",
       "      <td>2.0</td>\n",
       "      <td>NaN</td>\n",
       "    </tr>\n",
       "  </tbody>\n",
       "</table>\n",
       "</div>"
      ],
      "text/plain": [
       "        before  after\n",
       "uint8      NaN    1.0\n",
       "uint32     NaN    1.0\n",
       "int64      2.0    NaN"
      ]
     },
     "execution_count": 122,
     "metadata": {},
     "output_type": "execute_result"
    }
   ],
   "source": [
    "fiuba_6_avisos_detalle_int = fiuba_6_avisos_detalle.select_dtypes(include=['int'])\n",
    "converted_int = fiuba_6_avisos_detalle_int.apply(pd.to_numeric,downcast='unsigned')\n",
    "\n",
    "print(mem_usage(fiuba_6_avisos_detalle_int))\n",
    "print(mem_usage(converted_int))\n",
    "\n",
    "compare_ints = pd.concat([fiuba_6_avisos_detalle_int.dtypes,converted_int.dtypes],axis=1)\n",
    "compare_ints.columns = ['before','after']\n",
    "compare_ints.apply(pd.Series.value_counts)"
   ]
  },
  {
   "cell_type": "code",
   "execution_count": 123,
   "metadata": {},
   "outputs": [
    {
     "name": "stdout",
     "output_type": "stream",
     "text": [
      "25.62 MB\n",
      "22.34 MB\n"
     ]
    }
   ],
   "source": [
    "optimized_fiuba_6_avisos_detalle = fiuba_6_avisos_detalle.copy()\n",
    "\n",
    "optimized_fiuba_6_avisos_detalle[converted_int.columns] = converted_int\n",
    "optimized_fiuba_6_avisos_detalle[converted_obj.columns] = converted_obj\n",
    "\n",
    "print(mem_usage(fiuba_6_avisos_detalle))\n",
    "print(mem_usage(optimized_fiuba_6_avisos_detalle))"
   ]
  },
  {
   "cell_type": "code",
   "execution_count": 124,
   "metadata": {},
   "outputs": [
    {
     "name": "stdout",
     "output_type": "stream",
     "text": [
      "{   'ciudad': 'category',\n",
      "    'nivel_laboral': 'category',\n",
      "    'nombre_zona': 'category',\n",
      "    'tipo_de_trabajo': 'category'}\n"
     ]
    }
   ],
   "source": [
    "dtypes = converted_obj.dtypes\n",
    "\n",
    "dtypes_col = dtypes.index\n",
    "dtypes_type = [i.name for i in dtypes.values]\n",
    "\n",
    "column_types = dict(zip(dtypes_col, dtypes_type))\n",
    "\n",
    "# rather than print all 161 items, we'll\n",
    "# sample 10 key/value pairs from the dict\n",
    "# and print it nicely using prettyprint\n",
    "\n",
    "preview = first2pairs = {key:value for key,value in list(column_types.items())[:10]}\n",
    "import pprint\n",
    "pp = pp = pprint.PrettyPrinter(indent=4)\n",
    "pp.pprint(preview)"
   ]
  },
  {
   "cell_type": "code",
   "execution_count": 21,
   "metadata": {},
   "outputs": [],
   "source": [
    "optimized_fiuba_6_avisos_detalle.to_csv('Data/Avisos-Detalle/fiuba_6_avisos_detalle-reduced.csv')"
   ]
  },
  {
   "cell_type": "code",
   "execution_count": null,
   "metadata": {},
   "outputs": [],
   "source": []
  },
  {
   "cell_type": "code",
   "execution_count": 26,
   "metadata": {},
   "outputs": [],
   "source": [
    "fiuba_6_avisos_detalle_missing_nivel_laboral = pd.read_csv('Data/Avisos-Detalle/fiuba_6_avisos_detalle_missing_nivel_laboral.csv')"
   ]
  },
  {
   "cell_type": "code",
   "execution_count": 24,
   "metadata": {},
   "outputs": [
    {
     "name": "stdout",
     "output_type": "stream",
     "text": [
      "<class 'pandas.core.frame.DataFrame'>\n",
      "RangeIndex: 338 entries, 0 to 337\n",
      "Data columns (total 11 columns):\n",
      "idaviso                 338 non-null int64\n",
      "idpais                  338 non-null int64\n",
      "titulo                  338 non-null object\n",
      "descripcion             338 non-null object\n",
      "nombre_zona             338 non-null object\n",
      "ciudad                  28 non-null object\n",
      "mapacalle               271 non-null object\n",
      "tipo_de_trabajo         338 non-null object\n",
      "nivel_laboral           3 non-null object\n",
      "nombre_area             338 non-null object\n",
      "denominacion_empresa    338 non-null object\n",
      "dtypes: int64(2), object(9)\n",
      "memory usage: 29.1+ KB\n"
     ]
    }
   ],
   "source": [
    "fiuba_6_avisos_detalle_missing_nivel_laboral.info()"
   ]
  },
  {
   "cell_type": "code",
   "execution_count": 27,
   "metadata": {},
   "outputs": [
    {
     "name": "stdout",
     "output_type": "stream",
     "text": [
      "Average memory usage for int columns: 0.00 MB\n",
      "Average memory usage for object columns: 0.07 MB\n"
     ]
    }
   ],
   "source": [
    "for dtype in ['int','object']:\n",
    "    selected_dtype = fiuba_6_avisos_detalle_missing_nivel_laboral.select_dtypes(include=[dtype])\n",
    "    mean_usage_b = selected_dtype.memory_usage(deep=True).mean()\n",
    "    mean_usage_mb = mean_usage_b / 1024 ** 2\n",
    "    print(\"Average memory usage for {} columns: {:03.2f} MB\".format(dtype,mean_usage_mb))"
   ]
  },
  {
   "cell_type": "code",
   "execution_count": 28,
   "metadata": {},
   "outputs": [
    {
     "data": {
      "text/html": [
       "<div>\n",
       "<style scoped>\n",
       "    .dataframe tbody tr th:only-of-type {\n",
       "        vertical-align: middle;\n",
       "    }\n",
       "\n",
       "    .dataframe tbody tr th {\n",
       "        vertical-align: top;\n",
       "    }\n",
       "\n",
       "    .dataframe thead th {\n",
       "        text-align: right;\n",
       "    }\n",
       "</style>\n",
       "<table border=\"1\" class=\"dataframe\">\n",
       "  <thead>\n",
       "    <tr style=\"text-align: right;\">\n",
       "      <th></th>\n",
       "      <th>titulo</th>\n",
       "      <th>descripcion</th>\n",
       "      <th>nombre_zona</th>\n",
       "      <th>ciudad</th>\n",
       "      <th>mapacalle</th>\n",
       "      <th>tipo_de_trabajo</th>\n",
       "      <th>nivel_laboral</th>\n",
       "      <th>nombre_area</th>\n",
       "      <th>denominacion_empresa</th>\n",
       "    </tr>\n",
       "  </thead>\n",
       "  <tbody>\n",
       "    <tr>\n",
       "      <th>count</th>\n",
       "      <td>338</td>\n",
       "      <td>338</td>\n",
       "      <td>338</td>\n",
       "      <td>28</td>\n",
       "      <td>271</td>\n",
       "      <td>338</td>\n",
       "      <td>3</td>\n",
       "      <td>338</td>\n",
       "      <td>338</td>\n",
       "    </tr>\n",
       "    <tr>\n",
       "      <th>unique</th>\n",
       "      <td>332</td>\n",
       "      <td>336</td>\n",
       "      <td>6</td>\n",
       "      <td>9</td>\n",
       "      <td>64</td>\n",
       "      <td>5</td>\n",
       "      <td>1</td>\n",
       "      <td>82</td>\n",
       "      <td>102</td>\n",
       "    </tr>\n",
       "    <tr>\n",
       "      <th>top</th>\n",
       "      <td>Telefonista vendedores</td>\n",
       "      <td>&lt;p style=\"\"&gt;Requisitos:&lt;br /&gt;Edad: 21 a 40 año...</td>\n",
       "      <td>Capital Federal</td>\n",
       "      <td>Buenos Aires</td>\n",
       "      <td>Capital Federal</td>\n",
       "      <td>Full-time</td>\n",
       "      <td>Senior / Semi-Senior</td>\n",
       "      <td>Ventas</td>\n",
       "      <td>Gestion Compartida S.A.</td>\n",
       "    </tr>\n",
       "    <tr>\n",
       "      <th>freq</th>\n",
       "      <td>2</td>\n",
       "      <td>2</td>\n",
       "      <td>268</td>\n",
       "      <td>9</td>\n",
       "      <td>107</td>\n",
       "      <td>308</td>\n",
       "      <td>3</td>\n",
       "      <td>28</td>\n",
       "      <td>28</td>\n",
       "    </tr>\n",
       "  </tbody>\n",
       "</table>\n",
       "</div>"
      ],
      "text/plain": [
       "                        titulo  \\\n",
       "count                      338   \n",
       "unique                     332   \n",
       "top     Telefonista vendedores   \n",
       "freq                         2   \n",
       "\n",
       "                                              descripcion      nombre_zona  \\\n",
       "count                                                 338              338   \n",
       "unique                                                336                6   \n",
       "top     <p style=\"\">Requisitos:<br />Edad: 21 a 40 año...  Capital Federal   \n",
       "freq                                                    2              268   \n",
       "\n",
       "              ciudad        mapacalle tipo_de_trabajo         nivel_laboral  \\\n",
       "count             28              271             338                     3   \n",
       "unique             9               64               5                     1   \n",
       "top     Buenos Aires  Capital Federal       Full-time  Senior / Semi-Senior   \n",
       "freq               9              107             308                     3   \n",
       "\n",
       "       nombre_area     denominacion_empresa  \n",
       "count          338                      338  \n",
       "unique          82                      102  \n",
       "top         Ventas  Gestion Compartida S.A.  \n",
       "freq            28                       28  "
      ]
     },
     "execution_count": 28,
     "metadata": {},
     "output_type": "execute_result"
    }
   ],
   "source": [
    "fiuba_6_avisos_detalle_missing_nivel_laboral_obj = fiuba_6_avisos_detalle_missing_nivel_laboral.select_dtypes(include=['object']).copy()\n",
    "fiuba_6_avisos_detalle_missing_nivel_laboral_obj.describe()"
   ]
  },
  {
   "cell_type": "code",
   "execution_count": 29,
   "metadata": {},
   "outputs": [],
   "source": [
    "converted_obj = pd.DataFrame()\n",
    "\n",
    "for col in fiuba_6_avisos_detalle_missing_nivel_laboral_obj.columns:\n",
    "    num_unique_values = len(fiuba_6_avisos_detalle_missing_nivel_laboral_obj[col].unique())\n",
    "    num_total_values = len(fiuba_6_avisos_detalle_missing_nivel_laboral_obj[col])\n",
    "    if num_unique_values / num_total_values < 0.5:\n",
    "        converted_obj.loc[:,col] = fiuba_6_avisos_detalle_missing_nivel_laboral_obj[col].astype('category')\n",
    "    else:\n",
    "        converted_obj.loc[:,col] = fiuba_6_avisos_detalle_missing_nivel_laboral_obj[col]"
   ]
  },
  {
   "cell_type": "code",
   "execution_count": 30,
   "metadata": {},
   "outputs": [
    {
     "name": "stdout",
     "output_type": "stream",
     "text": [
      "1.15 MB\n",
      "1.04 MB\n"
     ]
    },
    {
     "data": {
      "text/html": [
       "<div>\n",
       "<style scoped>\n",
       "    .dataframe tbody tr th:only-of-type {\n",
       "        vertical-align: middle;\n",
       "    }\n",
       "\n",
       "    .dataframe tbody tr th {\n",
       "        vertical-align: top;\n",
       "    }\n",
       "\n",
       "    .dataframe thead th {\n",
       "        text-align: right;\n",
       "    }\n",
       "</style>\n",
       "<table border=\"1\" class=\"dataframe\">\n",
       "  <thead>\n",
       "    <tr style=\"text-align: right;\">\n",
       "      <th></th>\n",
       "      <th>before</th>\n",
       "      <th>after</th>\n",
       "    </tr>\n",
       "  </thead>\n",
       "  <tbody>\n",
       "    <tr>\n",
       "      <th>object</th>\n",
       "      <td>9.0</td>\n",
       "      <td>2</td>\n",
       "    </tr>\n",
       "    <tr>\n",
       "      <th>category</th>\n",
       "      <td>NaN</td>\n",
       "      <td>1</td>\n",
       "    </tr>\n",
       "    <tr>\n",
       "      <th>category</th>\n",
       "      <td>NaN</td>\n",
       "      <td>1</td>\n",
       "    </tr>\n",
       "    <tr>\n",
       "      <th>category</th>\n",
       "      <td>NaN</td>\n",
       "      <td>1</td>\n",
       "    </tr>\n",
       "    <tr>\n",
       "      <th>category</th>\n",
       "      <td>NaN</td>\n",
       "      <td>1</td>\n",
       "    </tr>\n",
       "    <tr>\n",
       "      <th>category</th>\n",
       "      <td>NaN</td>\n",
       "      <td>1</td>\n",
       "    </tr>\n",
       "    <tr>\n",
       "      <th>category</th>\n",
       "      <td>NaN</td>\n",
       "      <td>1</td>\n",
       "    </tr>\n",
       "    <tr>\n",
       "      <th>category</th>\n",
       "      <td>NaN</td>\n",
       "      <td>1</td>\n",
       "    </tr>\n",
       "  </tbody>\n",
       "</table>\n",
       "</div>"
      ],
      "text/plain": [
       "          before  after\n",
       "object       9.0      2\n",
       "category     NaN      1\n",
       "category     NaN      1\n",
       "category     NaN      1\n",
       "category     NaN      1\n",
       "category     NaN      1\n",
       "category     NaN      1\n",
       "category     NaN      1"
      ]
     },
     "execution_count": 30,
     "metadata": {},
     "output_type": "execute_result"
    }
   ],
   "source": [
    "print(mem_usage(fiuba_6_avisos_detalle_missing_nivel_laboral_obj))\n",
    "print(mem_usage(converted_obj))\n",
    "\n",
    "compare_obj = pd.concat([fiuba_6_avisos_detalle_missing_nivel_laboral_obj.dtypes,converted_obj.dtypes],axis=1)\n",
    "compare_obj.columns = ['before','after']\n",
    "compare_obj.apply(pd.Series.value_counts)"
   ]
  },
  {
   "cell_type": "code",
   "execution_count": 31,
   "metadata": {},
   "outputs": [
    {
     "data": {
      "text/html": [
       "<div>\n",
       "<style scoped>\n",
       "    .dataframe tbody tr th:only-of-type {\n",
       "        vertical-align: middle;\n",
       "    }\n",
       "\n",
       "    .dataframe tbody tr th {\n",
       "        vertical-align: top;\n",
       "    }\n",
       "\n",
       "    .dataframe thead th {\n",
       "        text-align: right;\n",
       "    }\n",
       "</style>\n",
       "<table border=\"1\" class=\"dataframe\">\n",
       "  <thead>\n",
       "    <tr style=\"text-align: right;\">\n",
       "      <th></th>\n",
       "      <th>idaviso</th>\n",
       "      <th>idpais</th>\n",
       "    </tr>\n",
       "  </thead>\n",
       "  <tbody>\n",
       "    <tr>\n",
       "      <th>count</th>\n",
       "      <td>3.380000e+02</td>\n",
       "      <td>338.0</td>\n",
       "    </tr>\n",
       "    <tr>\n",
       "      <th>mean</th>\n",
       "      <td>1.112038e+09</td>\n",
       "      <td>1.0</td>\n",
       "    </tr>\n",
       "    <tr>\n",
       "      <th>std</th>\n",
       "      <td>6.049318e+06</td>\n",
       "      <td>0.0</td>\n",
       "    </tr>\n",
       "    <tr>\n",
       "      <th>min</th>\n",
       "      <td>1.001284e+09</td>\n",
       "      <td>1.0</td>\n",
       "    </tr>\n",
       "    <tr>\n",
       "      <th>25%</th>\n",
       "      <td>1.112416e+09</td>\n",
       "      <td>1.0</td>\n",
       "    </tr>\n",
       "    <tr>\n",
       "      <th>50%</th>\n",
       "      <td>1.112431e+09</td>\n",
       "      <td>1.0</td>\n",
       "    </tr>\n",
       "    <tr>\n",
       "      <th>75%</th>\n",
       "      <td>1.112455e+09</td>\n",
       "      <td>1.0</td>\n",
       "    </tr>\n",
       "    <tr>\n",
       "      <th>max</th>\n",
       "      <td>1.112471e+09</td>\n",
       "      <td>1.0</td>\n",
       "    </tr>\n",
       "  </tbody>\n",
       "</table>\n",
       "</div>"
      ],
      "text/plain": [
       "            idaviso  idpais\n",
       "count  3.380000e+02   338.0\n",
       "mean   1.112038e+09     1.0\n",
       "std    6.049318e+06     0.0\n",
       "min    1.001284e+09     1.0\n",
       "25%    1.112416e+09     1.0\n",
       "50%    1.112431e+09     1.0\n",
       "75%    1.112455e+09     1.0\n",
       "max    1.112471e+09     1.0"
      ]
     },
     "execution_count": 31,
     "metadata": {},
     "output_type": "execute_result"
    }
   ],
   "source": [
    "fiuba_6_avisos_detalle_missing_nivel_laboral_int = fiuba_6_avisos_detalle_missing_nivel_laboral.select_dtypes(include=['int']).copy()\n",
    "fiuba_6_avisos_detalle_missing_nivel_laboral_int.describe()"
   ]
  },
  {
   "cell_type": "code",
   "execution_count": 32,
   "metadata": {},
   "outputs": [
    {
     "name": "stdout",
     "output_type": "stream",
     "text": [
      "0.01 MB\n",
      "0.00 MB\n"
     ]
    },
    {
     "data": {
      "text/html": [
       "<div>\n",
       "<style scoped>\n",
       "    .dataframe tbody tr th:only-of-type {\n",
       "        vertical-align: middle;\n",
       "    }\n",
       "\n",
       "    .dataframe tbody tr th {\n",
       "        vertical-align: top;\n",
       "    }\n",
       "\n",
       "    .dataframe thead th {\n",
       "        text-align: right;\n",
       "    }\n",
       "</style>\n",
       "<table border=\"1\" class=\"dataframe\">\n",
       "  <thead>\n",
       "    <tr style=\"text-align: right;\">\n",
       "      <th></th>\n",
       "      <th>before</th>\n",
       "      <th>after</th>\n",
       "    </tr>\n",
       "  </thead>\n",
       "  <tbody>\n",
       "    <tr>\n",
       "      <th>uint8</th>\n",
       "      <td>NaN</td>\n",
       "      <td>1.0</td>\n",
       "    </tr>\n",
       "    <tr>\n",
       "      <th>uint32</th>\n",
       "      <td>NaN</td>\n",
       "      <td>1.0</td>\n",
       "    </tr>\n",
       "    <tr>\n",
       "      <th>int64</th>\n",
       "      <td>2.0</td>\n",
       "      <td>NaN</td>\n",
       "    </tr>\n",
       "  </tbody>\n",
       "</table>\n",
       "</div>"
      ],
      "text/plain": [
       "        before  after\n",
       "uint8      NaN    1.0\n",
       "uint32     NaN    1.0\n",
       "int64      2.0    NaN"
      ]
     },
     "execution_count": 32,
     "metadata": {},
     "output_type": "execute_result"
    }
   ],
   "source": [
    "fiuba_6_avisos_detalle_missing_nivel_laboral_int = fiuba_6_avisos_detalle_missing_nivel_laboral_int.select_dtypes(include=['int'])\n",
    "converted_int = fiuba_6_avisos_detalle_missing_nivel_laboral_int.apply(pd.to_numeric,downcast='unsigned')\n",
    "\n",
    "print(mem_usage(fiuba_6_avisos_detalle_missing_nivel_laboral_int))\n",
    "print(mem_usage(converted_int))\n",
    "\n",
    "compare_ints = pd.concat([fiuba_6_avisos_detalle_missing_nivel_laboral_int.dtypes,converted_int.dtypes],axis=1)\n",
    "compare_ints.columns = ['before','after']\n",
    "compare_ints.apply(pd.Series.value_counts)"
   ]
  },
  {
   "cell_type": "code",
   "execution_count": 33,
   "metadata": {},
   "outputs": [
    {
     "name": "stdout",
     "output_type": "stream",
     "text": [
      "1.15 MB\n",
      "1.04 MB\n"
     ]
    }
   ],
   "source": [
    "optimized_fiuba_6_avisos_detalle_missing_nivel_laboral = fiuba_6_avisos_detalle_missing_nivel_laboral.copy()\n",
    "\n",
    "optimized_fiuba_6_avisos_detalle_missing_nivel_laboral[converted_int.columns] = converted_int\n",
    "optimized_fiuba_6_avisos_detalle_missing_nivel_laboral[converted_obj.columns] = converted_obj\n",
    "\n",
    "print(mem_usage(fiuba_6_avisos_detalle_missing_nivel_laboral))\n",
    "print(mem_usage(optimized_fiuba_6_avisos_detalle_missing_nivel_laboral))"
   ]
  },
  {
   "cell_type": "code",
   "execution_count": 34,
   "metadata": {},
   "outputs": [],
   "source": [
    "optimized_fiuba_6_avisos_detalle_missing_nivel_laboral.to_csv('Data/Avisos-Detalle/fiuba_6_avisos_detalle_missing_nivel_laboral-reduced.csv')"
   ]
  },
  {
   "cell_type": "code",
   "execution_count": null,
   "metadata": {},
   "outputs": [],
   "source": []
  },
  {
   "cell_type": "code",
   "execution_count": 3,
   "metadata": {},
   "outputs": [],
   "source": [
    "fiuba_6_avisos_detalleDesde15Abril = pd.read_csv('Data/Avisos-Detalle/fiuba_6_avisos_detalleDesde15Abril.csv')"
   ]
  },
  {
   "cell_type": "code",
   "execution_count": 4,
   "metadata": {},
   "outputs": [
    {
     "name": "stdout",
     "output_type": "stream",
     "text": [
      "<class 'pandas.core.frame.DataFrame'>\n",
      "RangeIndex: 13798 entries, 0 to 13797\n",
      "Data columns (total 11 columns):\n",
      "idaviso                 13798 non-null int64\n",
      "idpais                  13798 non-null int64\n",
      "titulo                  13798 non-null object\n",
      "descripcion             13798 non-null object\n",
      "nombre_zona             13798 non-null object\n",
      "ciudad                  86 non-null object\n",
      "mapacalle               1019 non-null object\n",
      "tipo_de_trabajo         13798 non-null object\n",
      "nivel_laboral           13798 non-null object\n",
      "nombre_area             13798 non-null object\n",
      "denominacion_empresa    13795 non-null object\n",
      "dtypes: int64(2), object(9)\n",
      "memory usage: 1.2+ MB\n"
     ]
    }
   ],
   "source": [
    "fiuba_6_avisos_detalleDesde15Abril.info()"
   ]
  },
  {
   "cell_type": "code",
   "execution_count": 5,
   "metadata": {},
   "outputs": [
    {
     "name": "stdout",
     "output_type": "stream",
     "text": [
      "Average memory usage for int columns: 0.07 MB\n",
      "Average memory usage for object columns: 2.57 MB\n"
     ]
    }
   ],
   "source": [
    "for dtype in ['int','object']:\n",
    "    selected_dtype = fiuba_6_avisos_detalleDesde15Abril.select_dtypes(include=[dtype])\n",
    "    mean_usage_b = selected_dtype.memory_usage(deep=True).mean()\n",
    "    mean_usage_mb = mean_usage_b / 1024 ** 2\n",
    "    print(\"Average memory usage for {} columns: {:03.2f} MB\".format(dtype,mean_usage_mb))"
   ]
  },
  {
   "cell_type": "code",
   "execution_count": 6,
   "metadata": {},
   "outputs": [
    {
     "data": {
      "text/html": [
       "<div>\n",
       "<style scoped>\n",
       "    .dataframe tbody tr th:only-of-type {\n",
       "        vertical-align: middle;\n",
       "    }\n",
       "\n",
       "    .dataframe tbody tr th {\n",
       "        vertical-align: top;\n",
       "    }\n",
       "\n",
       "    .dataframe thead th {\n",
       "        text-align: right;\n",
       "    }\n",
       "</style>\n",
       "<table border=\"1\" class=\"dataframe\">\n",
       "  <thead>\n",
       "    <tr style=\"text-align: right;\">\n",
       "      <th></th>\n",
       "      <th>titulo</th>\n",
       "      <th>descripcion</th>\n",
       "      <th>nombre_zona</th>\n",
       "      <th>ciudad</th>\n",
       "      <th>mapacalle</th>\n",
       "      <th>tipo_de_trabajo</th>\n",
       "      <th>nivel_laboral</th>\n",
       "      <th>nombre_area</th>\n",
       "      <th>denominacion_empresa</th>\n",
       "    </tr>\n",
       "  </thead>\n",
       "  <tbody>\n",
       "    <tr>\n",
       "      <th>count</th>\n",
       "      <td>13798</td>\n",
       "      <td>13798</td>\n",
       "      <td>13798</td>\n",
       "      <td>86</td>\n",
       "      <td>1019</td>\n",
       "      <td>13798</td>\n",
       "      <td>13798</td>\n",
       "      <td>13798</td>\n",
       "      <td>13795</td>\n",
       "    </tr>\n",
       "    <tr>\n",
       "      <th>unique</th>\n",
       "      <td>12010</td>\n",
       "      <td>13134</td>\n",
       "      <td>15</td>\n",
       "      <td>37</td>\n",
       "      <td>591</td>\n",
       "      <td>9</td>\n",
       "      <td>5</td>\n",
       "      <td>182</td>\n",
       "      <td>2951</td>\n",
       "    </tr>\n",
       "    <tr>\n",
       "      <th>top</th>\n",
       "      <td>Analista Contable</td>\n",
       "      <td>&lt;p style=\"\"&gt;&lt;strong&gt;&lt;em style=\"\"&gt;&lt;u&gt;&lt;span styl...</td>\n",
       "      <td>Gran Buenos Aires</td>\n",
       "      <td>Buenos Aires</td>\n",
       "      <td>SARMIENTO 1937</td>\n",
       "      <td>Full-time</td>\n",
       "      <td>Senior / Semi-Senior</td>\n",
       "      <td>Ventas</td>\n",
       "      <td>RANDSTAD</td>\n",
       "    </tr>\n",
       "    <tr>\n",
       "      <th>freq</th>\n",
       "      <td>30</td>\n",
       "      <td>11</td>\n",
       "      <td>12603</td>\n",
       "      <td>16</td>\n",
       "      <td>48</td>\n",
       "      <td>12282</td>\n",
       "      <td>9157</td>\n",
       "      <td>1766</td>\n",
       "      <td>505</td>\n",
       "    </tr>\n",
       "  </tbody>\n",
       "</table>\n",
       "</div>"
      ],
      "text/plain": [
       "                   titulo                                        descripcion  \\\n",
       "count               13798                                              13798   \n",
       "unique              12010                                              13134   \n",
       "top     Analista Contable  <p style=\"\"><strong><em style=\"\"><u><span styl...   \n",
       "freq                   30                                                 11   \n",
       "\n",
       "              nombre_zona        ciudad       mapacalle tipo_de_trabajo  \\\n",
       "count               13798            86            1019           13798   \n",
       "unique                 15            37             591               9   \n",
       "top     Gran Buenos Aires  Buenos Aires  SARMIENTO 1937       Full-time   \n",
       "freq                12603            16              48           12282   \n",
       "\n",
       "               nivel_laboral nombre_area denominacion_empresa  \n",
       "count                  13798       13798                13795  \n",
       "unique                     5         182                 2951  \n",
       "top     Senior / Semi-Senior      Ventas             RANDSTAD  \n",
       "freq                    9157        1766                  505  "
      ]
     },
     "execution_count": 6,
     "metadata": {},
     "output_type": "execute_result"
    }
   ],
   "source": [
    "fiuba_6_avisos_detalleDesde15Abril_obj = fiuba_6_avisos_detalleDesde15Abril.select_dtypes(include=['object']).copy()\n",
    "fiuba_6_avisos_detalleDesde15Abril_obj.describe()"
   ]
  },
  {
   "cell_type": "code",
   "execution_count": 7,
   "metadata": {},
   "outputs": [],
   "source": [
    "converted_obj = pd.DataFrame()\n",
    "\n",
    "for col in fiuba_6_avisos_detalleDesde15Abril_obj.columns:\n",
    "    num_unique_values = len(fiuba_6_avisos_detalleDesde15Abril_obj[col].unique())\n",
    "    num_total_values = len(fiuba_6_avisos_detalleDesde15Abril_obj[col])\n",
    "    if num_unique_values / num_total_values < 0.5:\n",
    "        converted_obj.loc[:,col] = fiuba_6_avisos_detalleDesde15Abril_obj[col].astype('category')\n",
    "    else:\n",
    "        converted_obj.loc[:,col] = fiuba_6_avisos_detalleDesde15Abril_obj[col]"
   ]
  },
  {
   "cell_type": "code",
   "execution_count": 8,
   "metadata": {},
   "outputs": [
    {
     "name": "stdout",
     "output_type": "stream",
     "text": [
      "43.87 MB\n",
      "38.51 MB\n"
     ]
    },
    {
     "data": {
      "text/html": [
       "<div>\n",
       "<style scoped>\n",
       "    .dataframe tbody tr th:only-of-type {\n",
       "        vertical-align: middle;\n",
       "    }\n",
       "\n",
       "    .dataframe tbody tr th {\n",
       "        vertical-align: top;\n",
       "    }\n",
       "\n",
       "    .dataframe thead th {\n",
       "        text-align: right;\n",
       "    }\n",
       "</style>\n",
       "<table border=\"1\" class=\"dataframe\">\n",
       "  <thead>\n",
       "    <tr style=\"text-align: right;\">\n",
       "      <th></th>\n",
       "      <th>before</th>\n",
       "      <th>after</th>\n",
       "    </tr>\n",
       "  </thead>\n",
       "  <tbody>\n",
       "    <tr>\n",
       "      <th>object</th>\n",
       "      <td>9.0</td>\n",
       "      <td>2</td>\n",
       "    </tr>\n",
       "    <tr>\n",
       "      <th>category</th>\n",
       "      <td>NaN</td>\n",
       "      <td>1</td>\n",
       "    </tr>\n",
       "    <tr>\n",
       "      <th>category</th>\n",
       "      <td>NaN</td>\n",
       "      <td>1</td>\n",
       "    </tr>\n",
       "    <tr>\n",
       "      <th>category</th>\n",
       "      <td>NaN</td>\n",
       "      <td>1</td>\n",
       "    </tr>\n",
       "    <tr>\n",
       "      <th>category</th>\n",
       "      <td>NaN</td>\n",
       "      <td>1</td>\n",
       "    </tr>\n",
       "    <tr>\n",
       "      <th>category</th>\n",
       "      <td>NaN</td>\n",
       "      <td>1</td>\n",
       "    </tr>\n",
       "    <tr>\n",
       "      <th>category</th>\n",
       "      <td>NaN</td>\n",
       "      <td>1</td>\n",
       "    </tr>\n",
       "    <tr>\n",
       "      <th>category</th>\n",
       "      <td>NaN</td>\n",
       "      <td>1</td>\n",
       "    </tr>\n",
       "  </tbody>\n",
       "</table>\n",
       "</div>"
      ],
      "text/plain": [
       "          before  after\n",
       "object       9.0      2\n",
       "category     NaN      1\n",
       "category     NaN      1\n",
       "category     NaN      1\n",
       "category     NaN      1\n",
       "category     NaN      1\n",
       "category     NaN      1\n",
       "category     NaN      1"
      ]
     },
     "execution_count": 8,
     "metadata": {},
     "output_type": "execute_result"
    }
   ],
   "source": [
    "print(mem_usage(fiuba_6_avisos_detalleDesde15Abril_obj))\n",
    "print(mem_usage(converted_obj))\n",
    "\n",
    "compare_obj = pd.concat([fiuba_6_avisos_detalleDesde15Abril_obj.dtypes,converted_obj.dtypes],axis=1)\n",
    "compare_obj.columns = ['before','after']\n",
    "compare_obj.apply(pd.Series.value_counts)"
   ]
  },
  {
   "cell_type": "code",
   "execution_count": 9,
   "metadata": {},
   "outputs": [
    {
     "data": {
      "text/html": [
       "<div>\n",
       "<style scoped>\n",
       "    .dataframe tbody tr th:only-of-type {\n",
       "        vertical-align: middle;\n",
       "    }\n",
       "\n",
       "    .dataframe tbody tr th {\n",
       "        vertical-align: top;\n",
       "    }\n",
       "\n",
       "    .dataframe thead th {\n",
       "        text-align: right;\n",
       "    }\n",
       "</style>\n",
       "<table border=\"1\" class=\"dataframe\">\n",
       "  <thead>\n",
       "    <tr style=\"text-align: right;\">\n",
       "      <th></th>\n",
       "      <th>idaviso</th>\n",
       "      <th>idpais</th>\n",
       "    </tr>\n",
       "  </thead>\n",
       "  <tbody>\n",
       "    <tr>\n",
       "      <th>count</th>\n",
       "      <td>1.379800e+04</td>\n",
       "      <td>13798.0</td>\n",
       "    </tr>\n",
       "    <tr>\n",
       "      <th>mean</th>\n",
       "      <td>1.097216e+09</td>\n",
       "      <td>1.0</td>\n",
       "    </tr>\n",
       "    <tr>\n",
       "      <th>std</th>\n",
       "      <td>1.261502e+08</td>\n",
       "      <td>0.0</td>\n",
       "    </tr>\n",
       "    <tr>\n",
       "      <th>min</th>\n",
       "      <td>7.392600e+05</td>\n",
       "      <td>1.0</td>\n",
       "    </tr>\n",
       "    <tr>\n",
       "      <th>25%</th>\n",
       "      <td>1.112160e+09</td>\n",
       "      <td>1.0</td>\n",
       "    </tr>\n",
       "    <tr>\n",
       "      <th>50%</th>\n",
       "      <td>1.112405e+09</td>\n",
       "      <td>1.0</td>\n",
       "    </tr>\n",
       "    <tr>\n",
       "      <th>75%</th>\n",
       "      <td>1.112463e+09</td>\n",
       "      <td>1.0</td>\n",
       "    </tr>\n",
       "    <tr>\n",
       "      <th>max</th>\n",
       "      <td>1.112515e+09</td>\n",
       "      <td>1.0</td>\n",
       "    </tr>\n",
       "  </tbody>\n",
       "</table>\n",
       "</div>"
      ],
      "text/plain": [
       "            idaviso   idpais\n",
       "count  1.379800e+04  13798.0\n",
       "mean   1.097216e+09      1.0\n",
       "std    1.261502e+08      0.0\n",
       "min    7.392600e+05      1.0\n",
       "25%    1.112160e+09      1.0\n",
       "50%    1.112405e+09      1.0\n",
       "75%    1.112463e+09      1.0\n",
       "max    1.112515e+09      1.0"
      ]
     },
     "execution_count": 9,
     "metadata": {},
     "output_type": "execute_result"
    }
   ],
   "source": [
    "fiuba_6_avisos_detalleDesde15Abril_int = fiuba_6_avisos_detalleDesde15Abril.select_dtypes(include=['int']).copy()\n",
    "fiuba_6_avisos_detalleDesde15Abril_int.describe()"
   ]
  },
  {
   "cell_type": "code",
   "execution_count": 10,
   "metadata": {},
   "outputs": [
    {
     "name": "stdout",
     "output_type": "stream",
     "text": [
      "0.21 MB\n",
      "0.07 MB\n"
     ]
    },
    {
     "data": {
      "text/html": [
       "<div>\n",
       "<style scoped>\n",
       "    .dataframe tbody tr th:only-of-type {\n",
       "        vertical-align: middle;\n",
       "    }\n",
       "\n",
       "    .dataframe tbody tr th {\n",
       "        vertical-align: top;\n",
       "    }\n",
       "\n",
       "    .dataframe thead th {\n",
       "        text-align: right;\n",
       "    }\n",
       "</style>\n",
       "<table border=\"1\" class=\"dataframe\">\n",
       "  <thead>\n",
       "    <tr style=\"text-align: right;\">\n",
       "      <th></th>\n",
       "      <th>before</th>\n",
       "      <th>after</th>\n",
       "    </tr>\n",
       "  </thead>\n",
       "  <tbody>\n",
       "    <tr>\n",
       "      <th>uint8</th>\n",
       "      <td>NaN</td>\n",
       "      <td>1.0</td>\n",
       "    </tr>\n",
       "    <tr>\n",
       "      <th>uint32</th>\n",
       "      <td>NaN</td>\n",
       "      <td>1.0</td>\n",
       "    </tr>\n",
       "    <tr>\n",
       "      <th>int64</th>\n",
       "      <td>2.0</td>\n",
       "      <td>NaN</td>\n",
       "    </tr>\n",
       "  </tbody>\n",
       "</table>\n",
       "</div>"
      ],
      "text/plain": [
       "        before  after\n",
       "uint8      NaN    1.0\n",
       "uint32     NaN    1.0\n",
       "int64      2.0    NaN"
      ]
     },
     "execution_count": 10,
     "metadata": {},
     "output_type": "execute_result"
    }
   ],
   "source": [
    "fiuba_6_avisos_detalleDesde15Abril_int = fiuba_6_avisos_detalleDesde15Abril_int.select_dtypes(include=['int'])\n",
    "converted_int = fiuba_6_avisos_detalleDesde15Abril_int.apply(pd.to_numeric,downcast='unsigned')\n",
    "\n",
    "print(mem_usage(fiuba_6_avisos_detalleDesde15Abril_int))\n",
    "print(mem_usage(converted_int))\n",
    "\n",
    "compare_ints = pd.concat([fiuba_6_avisos_detalleDesde15Abril_int.dtypes,converted_int.dtypes],axis=1)\n",
    "compare_ints.columns = ['before','after']\n",
    "compare_ints.apply(pd.Series.value_counts)"
   ]
  },
  {
   "cell_type": "code",
   "execution_count": 11,
   "metadata": {},
   "outputs": [
    {
     "name": "stdout",
     "output_type": "stream",
     "text": [
      "44.08 MB\n",
      "38.57 MB\n"
     ]
    }
   ],
   "source": [
    "optimized_fiuba_6_avisos_detalleDesde15Abril = fiuba_6_avisos_detalleDesde15Abril.copy()\n",
    "\n",
    "optimized_fiuba_6_avisos_detalleDesde15Abril[converted_int.columns] = converted_int\n",
    "optimized_fiuba_6_avisos_detalleDesde15Abril[converted_obj.columns] = converted_obj\n",
    "\n",
    "print(mem_usage(fiuba_6_avisos_detalleDesde15Abril))\n",
    "print(mem_usage(optimized_fiuba_6_avisos_detalleDesde15Abril))"
   ]
  },
  {
   "cell_type": "code",
   "execution_count": 24,
   "metadata": {},
   "outputs": [],
   "source": [
    "optimized_fiuba_6_avisos_detalleDesde15Abril.to_csv('Data/Avisos-Detalle/fiuba_6_avisos_detalleDesde15Abril-reduced.csv')"
   ]
  },
  {
   "cell_type": "code",
   "execution_count": null,
   "metadata": {},
   "outputs": [],
   "source": []
  },
  {
   "cell_type": "code",
   "execution_count": 13,
   "metadata": {},
   "outputs": [],
   "source": [
    "fiuba_6_avisos_detalleHasta15Abril = pd.read_csv('Data/Avisos-Detalle/fiuba_6_avisos_detalleHasta15Abril.csv')"
   ]
  },
  {
   "cell_type": "code",
   "execution_count": 14,
   "metadata": {},
   "outputs": [
    {
     "name": "stdout",
     "output_type": "stream",
     "text": [
      "<class 'pandas.core.frame.DataFrame'>\n",
      "RangeIndex: 18299 entries, 0 to 18298\n",
      "Data columns (total 11 columns):\n",
      "idaviso                 18299 non-null int64\n",
      "idpais                  18299 non-null int64\n",
      "titulo                  18299 non-null object\n",
      "descripcion             18299 non-null object\n",
      "nombre_zona             18299 non-null object\n",
      "ciudad                  64 non-null object\n",
      "mapacalle               1282 non-null object\n",
      "tipo_de_trabajo         18299 non-null object\n",
      "nivel_laboral           18299 non-null object\n",
      "nombre_area             18299 non-null object\n",
      "denominacion_empresa    18293 non-null object\n",
      "dtypes: int64(2), object(9)\n",
      "memory usage: 1.5+ MB\n"
     ]
    }
   ],
   "source": [
    "fiuba_6_avisos_detalleHasta15Abril.info()"
   ]
  },
  {
   "cell_type": "code",
   "execution_count": 15,
   "metadata": {},
   "outputs": [
    {
     "name": "stdout",
     "output_type": "stream",
     "text": [
      "Average memory usage for int columns: 0.09 MB\n",
      "Average memory usage for object columns: 3.42 MB\n"
     ]
    }
   ],
   "source": [
    "for dtype in ['int','object']:\n",
    "    selected_dtype = fiuba_6_avisos_detalleHasta15Abril.select_dtypes(include=[dtype])\n",
    "    mean_usage_b = selected_dtype.memory_usage(deep=True).mean()\n",
    "    mean_usage_mb = mean_usage_b / 1024 ** 2\n",
    "    print(\"Average memory usage for {} columns: {:03.2f} MB\".format(dtype,mean_usage_mb))"
   ]
  },
  {
   "cell_type": "code",
   "execution_count": 16,
   "metadata": {},
   "outputs": [
    {
     "data": {
      "text/html": [
       "<div>\n",
       "<style scoped>\n",
       "    .dataframe tbody tr th:only-of-type {\n",
       "        vertical-align: middle;\n",
       "    }\n",
       "\n",
       "    .dataframe tbody tr th {\n",
       "        vertical-align: top;\n",
       "    }\n",
       "\n",
       "    .dataframe thead th {\n",
       "        text-align: right;\n",
       "    }\n",
       "</style>\n",
       "<table border=\"1\" class=\"dataframe\">\n",
       "  <thead>\n",
       "    <tr style=\"text-align: right;\">\n",
       "      <th></th>\n",
       "      <th>titulo</th>\n",
       "      <th>descripcion</th>\n",
       "      <th>nombre_zona</th>\n",
       "      <th>ciudad</th>\n",
       "      <th>mapacalle</th>\n",
       "      <th>tipo_de_trabajo</th>\n",
       "      <th>nivel_laboral</th>\n",
       "      <th>nombre_area</th>\n",
       "      <th>denominacion_empresa</th>\n",
       "    </tr>\n",
       "  </thead>\n",
       "  <tbody>\n",
       "    <tr>\n",
       "      <th>count</th>\n",
       "      <td>18299</td>\n",
       "      <td>18299</td>\n",
       "      <td>18299</td>\n",
       "      <td>64</td>\n",
       "      <td>1282</td>\n",
       "      <td>18299</td>\n",
       "      <td>18299</td>\n",
       "      <td>18299</td>\n",
       "      <td>18293</td>\n",
       "    </tr>\n",
       "    <tr>\n",
       "      <th>unique</th>\n",
       "      <td>15337</td>\n",
       "      <td>16992</td>\n",
       "      <td>3</td>\n",
       "      <td>21</td>\n",
       "      <td>633</td>\n",
       "      <td>10</td>\n",
       "      <td>5</td>\n",
       "      <td>186</td>\n",
       "      <td>3279</td>\n",
       "    </tr>\n",
       "    <tr>\n",
       "      <th>top</th>\n",
       "      <td>Analista Contable</td>\n",
       "      <td>&lt;p&gt;En &lt;strong&gt;SOLUTIX&lt;/strong&gt; seleccionamos &lt;...</td>\n",
       "      <td>Gran Buenos Aires</td>\n",
       "      <td>Argentina</td>\n",
       "      <td>SARMIENTO 1937</td>\n",
       "      <td>Full-time</td>\n",
       "      <td>Senior / Semi-Senior</td>\n",
       "      <td>Ventas</td>\n",
       "      <td>RANDSTAD</td>\n",
       "    </tr>\n",
       "    <tr>\n",
       "      <th>freq</th>\n",
       "      <td>32</td>\n",
       "      <td>18</td>\n",
       "      <td>17016</td>\n",
       "      <td>22</td>\n",
       "      <td>98</td>\n",
       "      <td>16769</td>\n",
       "      <td>12713</td>\n",
       "      <td>2268</td>\n",
       "      <td>774</td>\n",
       "    </tr>\n",
       "  </tbody>\n",
       "</table>\n",
       "</div>"
      ],
      "text/plain": [
       "                   titulo                                        descripcion  \\\n",
       "count               18299                                              18299   \n",
       "unique              15337                                              16992   \n",
       "top     Analista Contable  <p>En <strong>SOLUTIX</strong> seleccionamos <...   \n",
       "freq                   32                                                 18   \n",
       "\n",
       "              nombre_zona     ciudad       mapacalle tipo_de_trabajo  \\\n",
       "count               18299         64            1282           18299   \n",
       "unique                  3         21             633              10   \n",
       "top     Gran Buenos Aires  Argentina  SARMIENTO 1937       Full-time   \n",
       "freq                17016         22              98           16769   \n",
       "\n",
       "               nivel_laboral nombre_area denominacion_empresa  \n",
       "count                  18299       18299                18293  \n",
       "unique                     5         186                 3279  \n",
       "top     Senior / Semi-Senior      Ventas             RANDSTAD  \n",
       "freq                   12713        2268                  774  "
      ]
     },
     "execution_count": 16,
     "metadata": {},
     "output_type": "execute_result"
    }
   ],
   "source": [
    "fiuba_6_avisos_detalleHasta15Abril_obj = fiuba_6_avisos_detalleHasta15Abril.select_dtypes(include=['object']).copy()\n",
    "fiuba_6_avisos_detalleHasta15Abril_obj.describe()"
   ]
  },
  {
   "cell_type": "code",
   "execution_count": 17,
   "metadata": {},
   "outputs": [],
   "source": [
    "converted_obj = pd.DataFrame()\n",
    "\n",
    "for col in fiuba_6_avisos_detalleHasta15Abril_obj.columns:\n",
    "    num_unique_values = len(fiuba_6_avisos_detalleHasta15Abril_obj[col].unique())\n",
    "    num_total_values = len(fiuba_6_avisos_detalleHasta15Abril_obj[col])\n",
    "    if num_unique_values / num_total_values < 0.5:\n",
    "        converted_obj.loc[:,col] = fiuba_6_avisos_detalleHasta15Abril_obj[col].astype('category')\n",
    "    else:\n",
    "        converted_obj.loc[:,col] = fiuba_6_avisos_detalleHasta15Abril_obj[col]"
   ]
  },
  {
   "cell_type": "code",
   "execution_count": 18,
   "metadata": {},
   "outputs": [
    {
     "name": "stdout",
     "output_type": "stream",
     "text": [
      "58.43 MB\n",
      "51.28 MB\n"
     ]
    },
    {
     "data": {
      "text/html": [
       "<div>\n",
       "<style scoped>\n",
       "    .dataframe tbody tr th:only-of-type {\n",
       "        vertical-align: middle;\n",
       "    }\n",
       "\n",
       "    .dataframe tbody tr th {\n",
       "        vertical-align: top;\n",
       "    }\n",
       "\n",
       "    .dataframe thead th {\n",
       "        text-align: right;\n",
       "    }\n",
       "</style>\n",
       "<table border=\"1\" class=\"dataframe\">\n",
       "  <thead>\n",
       "    <tr style=\"text-align: right;\">\n",
       "      <th></th>\n",
       "      <th>before</th>\n",
       "      <th>after</th>\n",
       "    </tr>\n",
       "  </thead>\n",
       "  <tbody>\n",
       "    <tr>\n",
       "      <th>object</th>\n",
       "      <td>9.0</td>\n",
       "      <td>2</td>\n",
       "    </tr>\n",
       "    <tr>\n",
       "      <th>category</th>\n",
       "      <td>NaN</td>\n",
       "      <td>1</td>\n",
       "    </tr>\n",
       "    <tr>\n",
       "      <th>category</th>\n",
       "      <td>NaN</td>\n",
       "      <td>1</td>\n",
       "    </tr>\n",
       "    <tr>\n",
       "      <th>category</th>\n",
       "      <td>NaN</td>\n",
       "      <td>1</td>\n",
       "    </tr>\n",
       "    <tr>\n",
       "      <th>category</th>\n",
       "      <td>NaN</td>\n",
       "      <td>1</td>\n",
       "    </tr>\n",
       "    <tr>\n",
       "      <th>category</th>\n",
       "      <td>NaN</td>\n",
       "      <td>1</td>\n",
       "    </tr>\n",
       "    <tr>\n",
       "      <th>category</th>\n",
       "      <td>NaN</td>\n",
       "      <td>1</td>\n",
       "    </tr>\n",
       "    <tr>\n",
       "      <th>category</th>\n",
       "      <td>NaN</td>\n",
       "      <td>1</td>\n",
       "    </tr>\n",
       "  </tbody>\n",
       "</table>\n",
       "</div>"
      ],
      "text/plain": [
       "          before  after\n",
       "object       9.0      2\n",
       "category     NaN      1\n",
       "category     NaN      1\n",
       "category     NaN      1\n",
       "category     NaN      1\n",
       "category     NaN      1\n",
       "category     NaN      1\n",
       "category     NaN      1"
      ]
     },
     "execution_count": 18,
     "metadata": {},
     "output_type": "execute_result"
    }
   ],
   "source": [
    "print(mem_usage(fiuba_6_avisos_detalleHasta15Abril_obj))\n",
    "print(mem_usage(converted_obj))\n",
    "\n",
    "compare_obj = pd.concat([fiuba_6_avisos_detalleHasta15Abril_obj.dtypes,converted_obj.dtypes],axis=1)\n",
    "compare_obj.columns = ['before','after']\n",
    "compare_obj.apply(pd.Series.value_counts)"
   ]
  },
  {
   "cell_type": "code",
   "execution_count": 19,
   "metadata": {},
   "outputs": [
    {
     "data": {
      "text/html": [
       "<div>\n",
       "<style scoped>\n",
       "    .dataframe tbody tr th:only-of-type {\n",
       "        vertical-align: middle;\n",
       "    }\n",
       "\n",
       "    .dataframe tbody tr th {\n",
       "        vertical-align: top;\n",
       "    }\n",
       "\n",
       "    .dataframe thead th {\n",
       "        text-align: right;\n",
       "    }\n",
       "</style>\n",
       "<table border=\"1\" class=\"dataframe\">\n",
       "  <thead>\n",
       "    <tr style=\"text-align: right;\">\n",
       "      <th></th>\n",
       "      <th>idaviso</th>\n",
       "      <th>idpais</th>\n",
       "    </tr>\n",
       "  </thead>\n",
       "  <tbody>\n",
       "    <tr>\n",
       "      <th>count</th>\n",
       "      <td>1.829900e+04</td>\n",
       "      <td>18299.0</td>\n",
       "    </tr>\n",
       "    <tr>\n",
       "      <th>mean</th>\n",
       "      <td>1.111665e+09</td>\n",
       "      <td>1.0</td>\n",
       "    </tr>\n",
       "    <tr>\n",
       "      <th>std</th>\n",
       "      <td>1.755209e+07</td>\n",
       "      <td>0.0</td>\n",
       "    </tr>\n",
       "    <tr>\n",
       "      <th>min</th>\n",
       "      <td>8.725750e+06</td>\n",
       "      <td>1.0</td>\n",
       "    </tr>\n",
       "    <tr>\n",
       "      <th>25%</th>\n",
       "      <td>1.112257e+09</td>\n",
       "      <td>1.0</td>\n",
       "    </tr>\n",
       "    <tr>\n",
       "      <th>50%</th>\n",
       "      <td>1.112336e+09</td>\n",
       "      <td>1.0</td>\n",
       "    </tr>\n",
       "    <tr>\n",
       "      <th>75%</th>\n",
       "      <td>1.112403e+09</td>\n",
       "      <td>1.0</td>\n",
       "    </tr>\n",
       "    <tr>\n",
       "      <th>max</th>\n",
       "      <td>1.112471e+09</td>\n",
       "      <td>1.0</td>\n",
       "    </tr>\n",
       "  </tbody>\n",
       "</table>\n",
       "</div>"
      ],
      "text/plain": [
       "            idaviso   idpais\n",
       "count  1.829900e+04  18299.0\n",
       "mean   1.111665e+09      1.0\n",
       "std    1.755209e+07      0.0\n",
       "min    8.725750e+06      1.0\n",
       "25%    1.112257e+09      1.0\n",
       "50%    1.112336e+09      1.0\n",
       "75%    1.112403e+09      1.0\n",
       "max    1.112471e+09      1.0"
      ]
     },
     "execution_count": 19,
     "metadata": {},
     "output_type": "execute_result"
    }
   ],
   "source": [
    "fiuba_6_avisos_detalleHasta15Abril_int = fiuba_6_avisos_detalleHasta15Abril.select_dtypes(include=['int']).copy()\n",
    "fiuba_6_avisos_detalleHasta15Abril_int.describe()"
   ]
  },
  {
   "cell_type": "code",
   "execution_count": 20,
   "metadata": {},
   "outputs": [
    {
     "name": "stdout",
     "output_type": "stream",
     "text": [
      "0.28 MB\n",
      "0.09 MB\n"
     ]
    },
    {
     "data": {
      "text/html": [
       "<div>\n",
       "<style scoped>\n",
       "    .dataframe tbody tr th:only-of-type {\n",
       "        vertical-align: middle;\n",
       "    }\n",
       "\n",
       "    .dataframe tbody tr th {\n",
       "        vertical-align: top;\n",
       "    }\n",
       "\n",
       "    .dataframe thead th {\n",
       "        text-align: right;\n",
       "    }\n",
       "</style>\n",
       "<table border=\"1\" class=\"dataframe\">\n",
       "  <thead>\n",
       "    <tr style=\"text-align: right;\">\n",
       "      <th></th>\n",
       "      <th>before</th>\n",
       "      <th>after</th>\n",
       "    </tr>\n",
       "  </thead>\n",
       "  <tbody>\n",
       "    <tr>\n",
       "      <th>uint8</th>\n",
       "      <td>NaN</td>\n",
       "      <td>1.0</td>\n",
       "    </tr>\n",
       "    <tr>\n",
       "      <th>uint32</th>\n",
       "      <td>NaN</td>\n",
       "      <td>1.0</td>\n",
       "    </tr>\n",
       "    <tr>\n",
       "      <th>int64</th>\n",
       "      <td>2.0</td>\n",
       "      <td>NaN</td>\n",
       "    </tr>\n",
       "  </tbody>\n",
       "</table>\n",
       "</div>"
      ],
      "text/plain": [
       "        before  after\n",
       "uint8      NaN    1.0\n",
       "uint32     NaN    1.0\n",
       "int64      2.0    NaN"
      ]
     },
     "execution_count": 20,
     "metadata": {},
     "output_type": "execute_result"
    }
   ],
   "source": [
    "fiuba_6_avisos_detalleHasta15Abril_int = fiuba_6_avisos_detalleHasta15Abril_int.select_dtypes(include=['int'])\n",
    "converted_int = fiuba_6_avisos_detalleHasta15Abril_int.apply(pd.to_numeric,downcast='unsigned')\n",
    "\n",
    "print(mem_usage(fiuba_6_avisos_detalleHasta15Abril_int))\n",
    "print(mem_usage(converted_int))\n",
    "\n",
    "compare_ints = pd.concat([fiuba_6_avisos_detalleHasta15Abril_int.dtypes,converted_int.dtypes],axis=1)\n",
    "compare_ints.columns = ['before','after']\n",
    "compare_ints.apply(pd.Series.value_counts)"
   ]
  },
  {
   "cell_type": "code",
   "execution_count": 21,
   "metadata": {},
   "outputs": [
    {
     "name": "stdout",
     "output_type": "stream",
     "text": [
      "58.70 MB\n",
      "51.36 MB\n"
     ]
    }
   ],
   "source": [
    "optimized_fiuba_6_avisos_detalleHasta15Abril = fiuba_6_avisos_detalleHasta15Abril.copy()\n",
    "\n",
    "optimized_fiuba_6_avisos_detalleHasta15Abril[converted_int.columns] = converted_int\n",
    "optimized_fiuba_6_avisos_detalleHasta15Abril[converted_obj.columns] = converted_obj\n",
    "\n",
    "print(mem_usage(fiuba_6_avisos_detalleHasta15Abril))\n",
    "print(mem_usage(optimized_fiuba_6_avisos_detalleHasta15Abril))"
   ]
  },
  {
   "cell_type": "code",
   "execution_count": 23,
   "metadata": {},
   "outputs": [],
   "source": [
    "optimized_fiuba_6_avisos_detalleHasta15Abril.to_csv('Data/Avisos-Detalle/fiuba_6_avisos_detalleHasta15Abril-reduced.csv')"
   ]
  },
  {
   "cell_type": "code",
   "execution_count": null,
   "metadata": {},
   "outputs": [],
   "source": []
  },
  {
   "cell_type": "markdown",
   "metadata": {},
   "source": [
    "# Verifico que no haya IDs nulos"
   ]
  },
  {
   "cell_type": "code",
   "execution_count": 27,
   "metadata": {},
   "outputs": [
    {
     "data": {
      "text/plain": [
       "False"
      ]
     },
     "execution_count": 27,
     "metadata": {},
     "output_type": "execute_result"
    }
   ],
   "source": [
    "fiuba_6_avisos_detalle['idaviso'].isnull().any()"
   ]
  },
  {
   "cell_type": "code",
   "execution_count": 31,
   "metadata": {},
   "outputs": [
    {
     "data": {
      "text/plain": [
       "False"
      ]
     },
     "execution_count": 31,
     "metadata": {},
     "output_type": "execute_result"
    }
   ],
   "source": [
    "fiuba_6_avisos_detalle_missing_nivel_laboral['idaviso'].isnull().any()"
   ]
  },
  {
   "cell_type": "code",
   "execution_count": 32,
   "metadata": {},
   "outputs": [
    {
     "data": {
      "text/plain": [
       "False"
      ]
     },
     "execution_count": 32,
     "metadata": {},
     "output_type": "execute_result"
    }
   ],
   "source": [
    "fiuba_6_avisos_detalleDesde15Abril['idaviso'].isnull().any()"
   ]
  },
  {
   "cell_type": "code",
   "execution_count": 34,
   "metadata": {},
   "outputs": [
    {
     "data": {
      "text/plain": [
       "False"
      ]
     },
     "execution_count": 34,
     "metadata": {},
     "output_type": "execute_result"
    }
   ],
   "source": [
    "fiuba_6_avisos_detalleHasta15Abril['idaviso'].isnull().any()"
   ]
  },
  {
   "cell_type": "markdown",
   "metadata": {},
   "source": [
    "# Mergeo de CSVS de avisos detalle"
   ]
  },
  {
   "cell_type": "code",
   "execution_count": 35,
   "metadata": {},
   "outputs": [
    {
     "name": "stdout",
     "output_type": "stream",
     "text": [
      "/home/lucio/Documentos/Datos/NaventDatosTP/Data/Avisos-Detalle/fiuba_6_avisos_detalleHasta15Abril-reduced.csv\n",
      "/home/lucio/Documentos/Datos/NaventDatosTP/Data/Avisos-Detalle/fiuba_6_avisos_detalleDesde15Abril-reduced.csv\n",
      "/home/lucio/Documentos/Datos/NaventDatosTP/Data/Avisos-Detalle/fiuba_6_avisos_detalle-reduced.csv\n",
      "/home/lucio/Documentos/Datos/NaventDatosTP/Data/Avisos-Detalle/fiuba_6_avisos_detalle_missing_nivel_laboral-reduced.csv\n"
     ]
    }
   ],
   "source": [
    "path =r'/home/lucio/Documentos/Datos/NaventDatosTP/Data/Avisos-Detalle'\n",
    "allFiles = glob.glob(path + \"/*.csv\")\n",
    "frame = pd.DataFrame()\n",
    "list_ = []\n",
    "for file_ in allFiles:\n",
    "    print (file_)\n",
    "    df = pd.read_csv(file_,low_memory=False)\n",
    "    list_.append(df)\n",
    "frame = pd.concat(list_)\n",
    "frame.drop_duplicates([\"idaviso\"],inplace=True) #NO PUEDE HABER AVISOS REPETIDOS, por algo es unico un id\n",
    "frame.to_csv('/home/lucio/Documentos/Datos/NaventDatosTP/Data/Avisos-Detalle/Avisos-Detalle-merge.csv',sep=\",\",index=False)"
   ]
  }
 ],
 "metadata": {
  "kernelspec": {
   "display_name": "Python 3",
   "language": "python",
   "name": "python3"
  },
  "language_info": {
   "codemirror_mode": {
    "name": "ipython",
    "version": 3
   },
   "file_extension": ".py",
   "mimetype": "text/x-python",
   "name": "python",
   "nbconvert_exporter": "python",
   "pygments_lexer": "ipython3",
   "version": "3.6.5"
  }
 },
 "nbformat": 4,
 "nbformat_minor": 2
}
