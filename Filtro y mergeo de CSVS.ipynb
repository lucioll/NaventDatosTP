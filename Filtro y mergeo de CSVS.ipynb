{
 "cells": [
  {
   "cell_type": "code",
   "execution_count": 1,
   "metadata": {},
   "outputs": [],
   "source": [
    "import pandas as pd\n",
    "import glob,os"
   ]
  },
  {
   "cell_type": "markdown",
   "metadata": {},
   "source": [
    "# Postulantes Educacion"
   ]
  },
  {
   "cell_type": "code",
   "execution_count": 3,
   "metadata": {},
   "outputs": [],
   "source": [
    "fiuba_1_postulantes_educacion = pd.read_csv('Data/Postulantes-Educacion/fiuba_1_postulantes_educacion.csv')"
   ]
  },
  {
   "cell_type": "code",
   "execution_count": 4,
   "metadata": {},
   "outputs": [
    {
     "name": "stdout",
     "output_type": "stream",
     "text": [
      "<class 'pandas.core.frame.DataFrame'>\n",
      "RangeIndex: 298231 entries, 0 to 298230\n",
      "Data columns (total 3 columns):\n",
      "idpostulante    298231 non-null object\n",
      "nombre          298231 non-null object\n",
      "estado          298231 non-null object\n",
      "dtypes: object(3)\n",
      "memory usage: 6.8+ MB\n"
     ]
    }
   ],
   "source": [
    "fiuba_1_postulantes_educacion.info()"
   ]
  },
  {
   "cell_type": "code",
   "execution_count": 5,
   "metadata": {},
   "outputs": [],
   "source": [
    "fiuba_1_postulantes_educacionDesde15Abril = pd.read_csv('Data/Postulantes-Educacion/fiuba_1_postulantes_educacionDesde15Abril.csv')"
   ]
  },
  {
   "cell_type": "code",
   "execution_count": 6,
   "metadata": {},
   "outputs": [
    {
     "name": "stdout",
     "output_type": "stream",
     "text": [
      "<class 'pandas.core.frame.DataFrame'>\n",
      "RangeIndex: 397509 entries, 0 to 397508\n",
      "Data columns (total 3 columns):\n",
      "idpostulante    397509 non-null object\n",
      "nombre          397509 non-null object\n",
      "estado          397509 non-null object\n",
      "dtypes: object(3)\n",
      "memory usage: 9.1+ MB\n"
     ]
    }
   ],
   "source": [
    "fiuba_1_postulantes_educacionDesde15Abril.info()"
   ]
  },
  {
   "cell_type": "code",
   "execution_count": 8,
   "metadata": {},
   "outputs": [],
   "source": [
    "fiuba_1_postulantes_educacionHasta15Abril = pd.read_csv('Data/Postulantes-Educacion/fiuba_1_postulantes_educacionHasta15Abril.csv')"
   ]
  },
  {
   "cell_type": "code",
   "execution_count": 9,
   "metadata": {},
   "outputs": [
    {
     "name": "stdout",
     "output_type": "stream",
     "text": [
      "<class 'pandas.core.frame.DataFrame'>\n",
      "RangeIndex: 407453 entries, 0 to 407452\n",
      "Data columns (total 3 columns):\n",
      "idpostulante    407453 non-null object\n",
      "nombre          407453 non-null object\n",
      "estado          407453 non-null object\n",
      "dtypes: object(3)\n",
      "memory usage: 9.3+ MB\n"
     ]
    }
   ],
   "source": [
    "fiuba_1_postulantes_educacionHasta15Abril.info()"
   ]
  },
  {
   "cell_type": "markdown",
   "metadata": {},
   "source": [
    "# Verifico que no haya IDs nulos ya que al hacer drop_duplicates dos NaN \\ los toma como iguales"
   ]
  },
  {
   "cell_type": "code",
   "execution_count": 10,
   "metadata": {},
   "outputs": [
    {
     "data": {
      "text/plain": [
       "False"
      ]
     },
     "execution_count": 10,
     "metadata": {},
     "output_type": "execute_result"
    }
   ],
   "source": [
    "fiuba_1_postulantes_educacion['idpostulante'].isnull().any()"
   ]
  },
  {
   "cell_type": "code",
   "execution_count": 11,
   "metadata": {},
   "outputs": [
    {
     "data": {
      "text/plain": [
       "False"
      ]
     },
     "execution_count": 11,
     "metadata": {},
     "output_type": "execute_result"
    }
   ],
   "source": [
    "fiuba_1_postulantes_educacionDesde15Abril['idpostulante'].isnull().any()"
   ]
  },
  {
   "cell_type": "code",
   "execution_count": 12,
   "metadata": {},
   "outputs": [
    {
     "data": {
      "text/plain": [
       "False"
      ]
     },
     "execution_count": 12,
     "metadata": {},
     "output_type": "execute_result"
    }
   ],
   "source": [
    "fiuba_1_postulantes_educacionHasta15Abril['idpostulante'].isnull().any()"
   ]
  },
  {
   "cell_type": "markdown",
   "metadata": {},
   "source": [
    "# Merge de CSVs de postulantes educacion"
   ]
  },
  {
   "cell_type": "code",
   "execution_count": 13,
   "metadata": {},
   "outputs": [
    {
     "name": "stdout",
     "output_type": "stream",
     "text": [
      "/home/lucio/Documentos/Datos/NaventDatosTP/Data/Postulantes-Educacion/fiuba_1_postulantes_educacionDesde15Abril.csv\n",
      "/home/lucio/Documentos/Datos/NaventDatosTP/Data/Postulantes-Educacion/fiuba_1_postulantes_educacionHasta15Abril.csv\n",
      "/home/lucio/Documentos/Datos/NaventDatosTP/Data/Postulantes-Educacion/fiuba_1_postulantes_educacion.csv\n"
     ]
    }
   ],
   "source": [
    "path =r'/home/lucio/Documentos/Datos/NaventDatosTP/Data/Postulantes-Educacion'\n",
    "allFiles = glob.glob(path + \"/*.csv\")\n",
    "frame = pd.DataFrame()\n",
    "list_ = []\n",
    "for file_ in allFiles:\n",
    "    print (file_)\n",
    "    df = pd.read_csv(file_,low_memory=False)\n",
    "    list_.append(df)\n",
    "frame = pd.concat(list_)\n",
    "frame.drop_duplicates([\"idpostulante\"],inplace=True)\n",
    "frame.to_csv('/home/lucio/Documentos/Datos/NaventDatosTP/Data/Postulantes-Educacion/postulantes_educacion-merge.csv',sep=\",\",index=False)"
   ]
  },
  {
   "cell_type": "markdown",
   "metadata": {},
   "source": [
    "# Postulantes genero y edad"
   ]
  },
  {
   "cell_type": "code",
   "execution_count": 14,
   "metadata": {},
   "outputs": [],
   "source": [
    "fiuba_2_postulantes_genero_y_edad = pd.read_csv('Data/Postulantes-Genero-Edad/fiuba_2_postulantes_genero_y_edad.csv')"
   ]
  },
  {
   "cell_type": "code",
   "execution_count": 15,
   "metadata": {},
   "outputs": [],
   "source": [
    "fiuba_2_postulantes_genero_y_edadDesde15Abril = pd.read_csv('Data/Postulantes-Genero-Edad/fiuba_2_postulantes_genero_y_edadDesde15Abril.csv')"
   ]
  },
  {
   "cell_type": "code",
   "execution_count": 16,
   "metadata": {},
   "outputs": [],
   "source": [
    "fiuba_2_postulantes_genero_y_edadHasta15Abril = pd.read_csv('Data/Postulantes-Genero-Edad/fiuba_2_postulantes_genero_y_edadHasta15Abril.csv')"
   ]
  },
  {
   "cell_type": "markdown",
   "metadata": {},
   "source": [
    "# Verifico que no haya IDs nulos ya que al hacer drop_duplicates dos NaN \\ los toma como iguales"
   ]
  },
  {
   "cell_type": "code",
   "execution_count": 17,
   "metadata": {},
   "outputs": [
    {
     "data": {
      "text/plain": [
       "False"
      ]
     },
     "execution_count": 17,
     "metadata": {},
     "output_type": "execute_result"
    }
   ],
   "source": [
    "fiuba_2_postulantes_genero_y_edad['idpostulante'].isnull().any()"
   ]
  },
  {
   "cell_type": "code",
   "execution_count": 18,
   "metadata": {},
   "outputs": [
    {
     "data": {
      "text/plain": [
       "False"
      ]
     },
     "execution_count": 18,
     "metadata": {},
     "output_type": "execute_result"
    }
   ],
   "source": [
    "fiuba_2_postulantes_genero_y_edadDesde15Abril['idpostulante'].isnull().any()"
   ]
  },
  {
   "cell_type": "code",
   "execution_count": 19,
   "metadata": {},
   "outputs": [
    {
     "data": {
      "text/plain": [
       "False"
      ]
     },
     "execution_count": 19,
     "metadata": {},
     "output_type": "execute_result"
    }
   ],
   "source": [
    "fiuba_2_postulantes_genero_y_edadHasta15Abril['idpostulante'].isnull().any()"
   ]
  },
  {
   "cell_type": "markdown",
   "metadata": {},
   "source": [
    "# Merge de CSVs de postulantes genero y edad"
   ]
  },
  {
   "cell_type": "code",
   "execution_count": 20,
   "metadata": {},
   "outputs": [
    {
     "name": "stdout",
     "output_type": "stream",
     "text": [
      "/home/lucio/Documentos/Datos/NaventDatosTP/Data/Postulantes-Genero-Edad/fiuba_2_postulantes_genero_y_edadHasta15Abril.csv\n",
      "/home/lucio/Documentos/Datos/NaventDatosTP/Data/Postulantes-Genero-Edad/fiuba_2_postulantes_genero_y_edad.csv\n",
      "/home/lucio/Documentos/Datos/NaventDatosTP/Data/Postulantes-Genero-Edad/fiuba_2_postulantes_genero_y_edadDesde15Abril.csv\n"
     ]
    }
   ],
   "source": [
    "path =r'/home/lucio/Documentos/Datos/NaventDatosTP/Data/Postulantes-Genero-Edad'\n",
    "allFiles = glob.glob(path + \"/*.csv\")\n",
    "frame = pd.DataFrame()\n",
    "list_ = []\n",
    "for file_ in allFiles:\n",
    "    print (file_)\n",
    "    df = pd.read_csv(file_,low_memory=False)\n",
    "    list_.append(df)\n",
    "frame = pd.concat(list_)\n",
    "frame.drop_duplicates([\"idpostulante\"],inplace=True)\n",
    "frame.to_csv('/home/lucio/Documentos/Datos/NaventDatosTP/Data/Postulantes-Genero-Edad/postulantes_genero_y_edad-merge.csv',sep=\",\",index=False)"
   ]
  },
  {
   "cell_type": "markdown",
   "metadata": {},
   "source": [
    "# Vistas"
   ]
  },
  {
   "cell_type": "code",
   "execution_count": 21,
   "metadata": {},
   "outputs": [],
   "source": [
    "fiuba_3_vistas = pd.read_csv('Data/Vistas/fiuba_3_vistas.csv')"
   ]
  },
  {
   "cell_type": "code",
   "execution_count": null,
   "metadata": {},
   "outputs": [],
   "source": [
    "fiuba_3_vistasDesde15Abril = pd.read_csv('Data/Vistas/fiuba_3_vistasDesde15Abril.csv')"
   ]
  },
  {
   "cell_type": "code",
   "execution_count": 30,
   "metadata": {},
   "outputs": [],
   "source": [
    "fiuba_3_vistasHasta15Abril = pd.read_csv('Data/Vistas/fiuba_3_vistasHasta15Abril.csv')"
   ]
  },
  {
   "cell_type": "markdown",
   "metadata": {},
   "source": [
    "# Verifico que no haya IDs nulos ya que al hacer drop_duplicates dos NaN \\ los toma como iguales"
   ]
  },
  {
   "cell_type": "code",
   "execution_count": 31,
   "metadata": {},
   "outputs": [
    {
     "data": {
      "text/plain": [
       "False"
      ]
     },
     "execution_count": 31,
     "metadata": {},
     "output_type": "execute_result"
    }
   ],
   "source": [
    "fiuba_3_vistas['idpostulante'].isnull().any()"
   ]
  },
  {
   "cell_type": "code",
   "execution_count": 30,
   "metadata": {},
   "outputs": [
    {
     "data": {
      "text/plain": [
       "False"
      ]
     },
     "execution_count": 30,
     "metadata": {},
     "output_type": "execute_result"
    }
   ],
   "source": [
    "fiuba_3_vistasDesde15Abril['idpostulante'].isnull().any()"
   ]
  },
  {
   "cell_type": "code",
   "execution_count": 33,
   "metadata": {},
   "outputs": [],
   "source": [
    "fiuba_3_vistasHasta15Abril['idpostulante'].isnull().any()"
   ]
  },
  {
   "cell_type": "markdown",
   "metadata": {},
   "source": [
    "# Merge de CSVs de vistas"
   ]
  },
  {
   "cell_type": "code",
   "execution_count": 2,
   "metadata": {},
   "outputs": [
    {
     "name": "stdout",
     "output_type": "stream",
     "text": [
      "/home/lucio/Documentos/Datos/NaventDatosTP/Data/Vistas/fiuba_3_vistasDesde15Abril.csv\n",
      "/home/lucio/Documentos/Datos/NaventDatosTP/Data/Vistas/fiuba_3_vistas.csv\n",
      "/home/lucio/Documentos/Datos/NaventDatosTP/Data/Vistas/fiuba_3_vistasHasta15Abril.csv\n"
     ]
    }
   ],
   "source": [
    "path =r'/home/lucio/Documentos/Datos/NaventDatosTP/Data/Vistas'\n",
    "allFiles = glob.glob(path + \"/*.csv\")\n",
    "frame = pd.DataFrame()\n",
    "list_ = []\n",
    "for file_ in allFiles:\n",
    "    print (file_)\n",
    "    df = pd.read_csv(file_,low_memory=False)\n",
    "    list_.append(df)\n",
    "frame = pd.concat(list_)\n",
    "frame.drop_duplicates([\"idpostulante\"],inplace=True)\n",
    "frame.to_csv('/home/lucio/Documentos/Datos/NaventDatosTP/Data/Vistas/Vistas-merge.csv',sep=\",\",index=False)"
   ]
  },
  {
   "cell_type": "markdown",
   "metadata": {},
   "source": [
    "# Postulaciones"
   ]
  },
  {
   "cell_type": "code",
   "execution_count": 7,
   "metadata": {},
   "outputs": [],
   "source": [
    "fiuba_4_postulaciones = pd.read_csv('Data/fiuba_4_postulaciones.csv')"
   ]
  },
  {
   "cell_type": "code",
   "execution_count": 9,
   "metadata": {},
   "outputs": [],
   "source": [
    "fiuba_4_postulacionesHasta15Abril = pd.read_csv('Data/fiuba_4_postulacionesHasta15Abril.csv')"
   ]
  },
  {
   "cell_type": "markdown",
   "metadata": {},
   "source": [
    "# Verifico que no haya IDs nulos ya que al hacer drop_duplicates dos NaN \\ los toma como iguales"
   ]
  },
  {
   "cell_type": "code",
   "execution_count": 8,
   "metadata": {},
   "outputs": [
    {
     "data": {
      "text/plain": [
       "False"
      ]
     },
     "execution_count": 8,
     "metadata": {},
     "output_type": "execute_result"
    }
   ],
   "source": [
    "fiuba_4_postulaciones['idpostulante'].isnull().any()"
   ]
  },
  {
   "cell_type": "code",
   "execution_count": 10,
   "metadata": {},
   "outputs": [
    {
     "data": {
      "text/plain": [
       "False"
      ]
     },
     "execution_count": 10,
     "metadata": {},
     "output_type": "execute_result"
    }
   ],
   "source": [
    "fiuba_4_postulacionesHasta15Abril['idpostulante'].isnull().any()"
   ]
  },
  {
   "cell_type": "markdown",
   "metadata": {},
   "source": [
    "# Merge de CSVs de postulaciones"
   ]
  },
  {
   "cell_type": "code",
   "execution_count": 3,
   "metadata": {},
   "outputs": [
    {
     "name": "stdout",
     "output_type": "stream",
     "text": [
      "/home/lucio/Documentos/Datos/NaventDatosTP/Data/Postulaciones/fiuba_4_postulacionesHasta15Abril.csv\n",
      "/home/lucio/Documentos/Datos/NaventDatosTP/Data/Postulaciones/fiuba_4_postulaciones.csv\n"
     ]
    }
   ],
   "source": [
    "path =r'/home/lucio/Documentos/Datos/NaventDatosTP/Data/Postulaciones'\n",
    "allFiles = glob.glob(path + \"/*.csv\")\n",
    "frame = pd.DataFrame()\n",
    "list_ = []\n",
    "for file_ in allFiles:\n",
    "    print (file_)\n",
    "    df = pd.read_csv(file_,low_memory=False)\n",
    "    list_.append(df)\n",
    "frame = pd.concat(list_)\n",
    "frame.drop_duplicates([\"idpostulante\"],inplace=True)\n",
    "frame.to_csv('/home/lucio/Documentos/Datos/NaventDatosTP/Data/Postulaciones/Postulaciones-merge.csv',sep=\",\",index=False)"
   ]
  },
  {
   "cell_type": "markdown",
   "metadata": {},
   "source": [
    "# Avisos online"
   ]
  },
  {
   "cell_type": "code",
   "execution_count": 12,
   "metadata": {},
   "outputs": [],
   "source": [
    "fiuba_5_avisos_online = pd.read_csv('Data/fiuba_5_avisos_online.csv')"
   ]
  },
  {
   "cell_type": "code",
   "execution_count": 13,
   "metadata": {},
   "outputs": [],
   "source": [
    "fiuba_5_avisos_onlineHasta15Abril = pd.read_csv('Data/fiuba_5_avisos_onlineHasta15Abril.csv')"
   ]
  },
  {
   "cell_type": "markdown",
   "metadata": {},
   "source": [
    "# Verifico que no haya IDs nulos ya que al hacer drop_duplicates dos NaN \\ los toma como iguales"
   ]
  },
  {
   "cell_type": "code",
   "execution_count": 16,
   "metadata": {},
   "outputs": [
    {
     "data": {
      "text/plain": [
       "False"
      ]
     },
     "execution_count": 16,
     "metadata": {},
     "output_type": "execute_result"
    }
   ],
   "source": [
    "fiuba_5_avisos_online['idaviso'].isnull().any()"
   ]
  },
  {
   "cell_type": "code",
   "execution_count": 17,
   "metadata": {},
   "outputs": [
    {
     "data": {
      "text/plain": [
       "False"
      ]
     },
     "execution_count": 17,
     "metadata": {},
     "output_type": "execute_result"
    }
   ],
   "source": [
    "fiuba_5_avisos_onlineHasta15Abril['idaviso'].isnull().any()"
   ]
  },
  {
   "cell_type": "markdown",
   "metadata": {},
   "source": [
    "# Merge de CSVs de avisos online"
   ]
  },
  {
   "cell_type": "code",
   "execution_count": 4,
   "metadata": {},
   "outputs": [
    {
     "name": "stdout",
     "output_type": "stream",
     "text": [
      "/home/lucio/Documentos/Datos/NaventDatosTP/Data/Avisos-Online/fiuba_5_avisos_online.csv\n",
      "/home/lucio/Documentos/Datos/NaventDatosTP/Data/Avisos-Online/fiuba_5_avisos_onlineHasta15Abril.csv\n"
     ]
    }
   ],
   "source": [
    "path =r'/home/lucio/Documentos/Datos/NaventDatosTP/Data/Avisos-Online'\n",
    "allFiles = glob.glob(path + \"/*.csv\")\n",
    "frame = pd.DataFrame()\n",
    "list_ = []\n",
    "for file_ in allFiles:\n",
    "    print (file_)\n",
    "    df = pd.read_csv(file_,low_memory=False)\n",
    "    list_.append(df)\n",
    "frame = pd.concat(list_)\n",
    "frame.drop_duplicates([\"idaviso\"],inplace=True)\n",
    "frame.to_csv('/home/lucio/Documentos/Datos/NaventDatosTP/Data/Avisos-Online/Avisos-Online-merge.csv',sep=\",\",index=False)"
   ]
  },
  {
   "cell_type": "markdown",
   "metadata": {},
   "source": [
    "# Avisos detalle"
   ]
  },
  {
   "cell_type": "code",
   "execution_count": 20,
   "metadata": {},
   "outputs": [],
   "source": [
    "fiuba_6_avisos_detalle = pd.read_csv('Data/fiuba_6_avisos_detalle.csv')"
   ]
  },
  {
   "cell_type": "code",
   "execution_count": 21,
   "metadata": {},
   "outputs": [],
   "source": [
    "fiuba_6_avisos_detalle_missing_nivel_laboral = pd.read_csv('Data/fiuba_6_avisos_detalle_missing_nivel_laboral.csv')"
   ]
  },
  {
   "cell_type": "code",
   "execution_count": 22,
   "metadata": {},
   "outputs": [],
   "source": [
    "fiuba_6_avisos_detalleDesde15Abril = pd.read_csv('Data/fiuba_6_avisos_detalleDesde15Abril.csv')"
   ]
  },
  {
   "cell_type": "code",
   "execution_count": 23,
   "metadata": {},
   "outputs": [],
   "source": [
    "fiuba_6_avisos_detalleHasta15Abril = pd.read_csv('Data/fiuba_6_avisos_detalleHasta15Abril.csv')"
   ]
  },
  {
   "cell_type": "markdown",
   "metadata": {},
   "source": [
    "# Verifico que no haya IDs nulos ya que al hacer drop_duplicates dos NaN \\ los toma como iguales"
   ]
  },
  {
   "cell_type": "code",
   "execution_count": 27,
   "metadata": {},
   "outputs": [
    {
     "data": {
      "text/plain": [
       "False"
      ]
     },
     "execution_count": 27,
     "metadata": {},
     "output_type": "execute_result"
    }
   ],
   "source": [
    "fiuba_6_avisos_detalle['idaviso'].isnull().any()"
   ]
  },
  {
   "cell_type": "code",
   "execution_count": 31,
   "metadata": {},
   "outputs": [
    {
     "data": {
      "text/plain": [
       "False"
      ]
     },
     "execution_count": 31,
     "metadata": {},
     "output_type": "execute_result"
    }
   ],
   "source": [
    "fiuba_6_avisos_detalle_missing_nivel_laboral['idaviso'].isnull().any()"
   ]
  },
  {
   "cell_type": "code",
   "execution_count": 32,
   "metadata": {},
   "outputs": [
    {
     "data": {
      "text/plain": [
       "False"
      ]
     },
     "execution_count": 32,
     "metadata": {},
     "output_type": "execute_result"
    }
   ],
   "source": [
    "fiuba_6_avisos_detalleDesde15Abril['idaviso'].isnull().any()"
   ]
  },
  {
   "cell_type": "code",
   "execution_count": 34,
   "metadata": {},
   "outputs": [
    {
     "data": {
      "text/plain": [
       "False"
      ]
     },
     "execution_count": 34,
     "metadata": {},
     "output_type": "execute_result"
    }
   ],
   "source": [
    "fiuba_6_avisos_detalleHasta15Abril['idaviso'].isnull().any()"
   ]
  },
  {
   "cell_type": "markdown",
   "metadata": {},
   "source": [
    "# Mergeo de CSVS de avisos detalle"
   ]
  },
  {
   "cell_type": "code",
   "execution_count": 5,
   "metadata": {},
   "outputs": [
    {
     "name": "stdout",
     "output_type": "stream",
     "text": [
      "/home/lucio/Documentos/Datos/NaventDatosTP/Data/Avisos-Detalle/fiuba_6_avisos_detalleHasta15Abril.csv\n",
      "/home/lucio/Documentos/Datos/NaventDatosTP/Data/Avisos-Detalle/fiuba_6_avisos_detalleDesde15Abril.csv\n",
      "/home/lucio/Documentos/Datos/NaventDatosTP/Data/Avisos-Detalle/fiuba_6_avisos_detalle.csv\n",
      "/home/lucio/Documentos/Datos/NaventDatosTP/Data/Avisos-Detalle/fiuba_6_avisos_detalle_missing_nivel_laboral.csv\n"
     ]
    }
   ],
   "source": [
    "path =r'/home/lucio/Documentos/Datos/NaventDatosTP/Data/Avisos-Detalle'\n",
    "allFiles = glob.glob(path + \"/*.csv\")\n",
    "frame = pd.DataFrame()\n",
    "list_ = []\n",
    "for file_ in allFiles:\n",
    "    print (file_)\n",
    "    df = pd.read_csv(file_,low_memory=False)\n",
    "    list_.append(df)\n",
    "frame = pd.concat(list_)\n",
    "frame.drop_duplicates([\"idaviso\"],inplace=True)\n",
    "frame.to_csv('/home/lucio/Documentos/Datos/NaventDatosTP/Data/Avisos-Online/Avisos-Online-merge.csv',sep=\",\",index=False)"
   ]
  }
 ],
 "metadata": {
  "kernelspec": {
   "display_name": "Python 3",
   "language": "python",
   "name": "python3"
  },
  "language_info": {
   "codemirror_mode": {
    "name": "ipython",
    "version": 3
   },
   "file_extension": ".py",
   "mimetype": "text/x-python",
   "name": "python",
   "nbconvert_exporter": "python",
   "pygments_lexer": "ipython3",
   "version": "3.6.5"
  }
 },
 "nbformat": 4,
 "nbformat_minor": 2
}
