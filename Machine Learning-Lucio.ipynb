{
 "cells": [
  {
   "cell_type": "code",
   "execution_count": 1,
   "metadata": {},
   "outputs": [],
   "source": [
    "import pandas as pd\n",
    "import numpy as np\n",
    "from pandas.api.types import CategoricalDtype\n",
    "import time\n",
    "from datetime import datetime\n",
    "import scipy.spatial\n",
    "import numpy as np\n",
    "from sklearn.preprocessing import LabelEncoder\n",
    "from sklearn import preprocessing\n",
    "from sklearn import model_selection\n",
    "from sklearn.discriminant_analysis import LinearDiscriminantAnalysis\n",
    "from sklearn.naive_bayes import GaussianNB\n",
    "from sklearn.svm import SVC\n",
    "from sklearn.model_selection import GridSearchCV\n",
    "from sklearn.model_selection import RandomizedSearchCV\n",
    "from sklearn.model_selection import cross_val_score\n",
    "from sklearn.linear_model import LinearRegression\n",
    "from sklearn.linear_model import Ridge\n",
    "from sklearn.linear_model import RidgeCV\n",
    "from sklearn.linear_model import Lasso\n",
    "from sklearn.linear_model import HuberRegressor \n",
    "from sklearn.linear_model import ElasticNet\n",
    "from sklearn.linear_model import LassoLars\n",
    "from sklearn.linear_model import OrthogonalMatchingPursuit\n",
    "from sklearn.linear_model import BayesianRidge\n",
    "from sklearn.ensemble import ExtraTreesRegressor\n",
    "from sklearn.ensemble import AdaBoostRegressor\n",
    "from sklearn.ensemble import RandomForestRegressor"
   ]
  },
  {
   "cell_type": "markdown",
   "metadata": {},
   "source": [
    "# Training set"
   ]
  },
  {
   "cell_type": "code",
   "execution_count": 2,
   "metadata": {},
   "outputs": [],
   "source": [
    "dtypes = pd.Series({'idaviso': np.dtype('uint64'), 'idpostulante': np.dtype('object'),\n",
    "                   'se_postulo': np.dtype('uint8'), 'sexo_numerico': np.dtype('uint8'),\n",
    "                   'edad': np.dtype('uint16'), 'estado_code': np.dtype('uint8'),\n",
    "                   'sexo_code': np.dtype('uint8'), 'nombre_code': np.dtype('uint8'),\n",
    "                   'nombre_area_code': np.dtype('uint8'),\n",
    "                    'denominacion_empresa_code': np.dtype('uint16'),\n",
    "                   'nivel_laboral_code': np.dtype('uint8'),\n",
    "                   'tipo_de_trabajo_code': np.dtype('uint8'),\n",
    "                   'nombre_zona_code': np.dtype('uint8')})\n",
    "\n",
    "dtypes_col = dtypes.index\n",
    "dtypes_type = [i.name for i in dtypes.values]\n",
    "\n",
    "column_types = dict(zip(dtypes_col, dtypes_type))\n",
    "\n",
    "trainingSet = pd.read_csv('Data/trainingSet.csv',dtype=column_types)\n",
    "trainingSet.drop(columns=['Unnamed: 0'],inplace=True)\n",
    "trainingSet.drop(columns=['sexo_numerico'],inplace=True)"
   ]
  },
  {
   "cell_type": "code",
   "execution_count": 3,
   "metadata": {},
   "outputs": [
    {
     "name": "stdout",
     "output_type": "stream",
     "text": [
      "<class 'pandas.core.frame.DataFrame'>\n",
      "RangeIndex: 9439964 entries, 0 to 9439963\n",
      "Data columns (total 11 columns):\n",
      "idaviso                      uint64\n",
      "se_postulo                   uint8\n",
      "edad                         uint16\n",
      "estado_code                  uint8\n",
      "sexo_code                    uint8\n",
      "nombre_code                  uint8\n",
      "nombre_area_code             uint8\n",
      "denominacion_empresa_code    uint16\n",
      "nivel_laboral_code           uint8\n",
      "tipo_de_trabajo_code         uint8\n",
      "nombre_zona_code             uint8\n",
      "dtypes: uint16(2), uint64(1), uint8(8)\n",
      "memory usage: 180.1 MB\n"
     ]
    }
   ],
   "source": [
    "trainingSet.drop(columns=['idpostulante'],inplace=True) #No sirve para el algoritmo de ML\n",
    "trainingSet.info()"
   ]
  },
  {
   "cell_type": "markdown",
   "metadata": {},
   "source": [
    "# Testing sets"
   ]
  },
  {
   "cell_type": "code",
   "execution_count": 4,
   "metadata": {},
   "outputs": [],
   "source": [
    "dtypes = pd.Series({'idaviso': np.dtype('uint64'), 'idpostulante': np.dtype('object'),\n",
    "                   'se_postulo': np.dtype('uint8'), 'edad': np.dtype('uint16'), \n",
    "                    'estado_code': np.dtype('uint8'),'sexo_code': np.dtype('uint8'),\n",
    "                    'nombre_code': np.dtype('uint8'),'nombre_area_code': np.dtype('uint8'),\n",
    "                    'denominacion_empresa_code': np.dtype('uint16'),\n",
    "                   'nivel_laboral_code': np.dtype('uint8'),\n",
    "                   'tipo_de_trabajo_code': np.dtype('uint8'),\n",
    "                   'nombre_zona_code': np.dtype('uint8')})\n",
    "\n",
    "dtypes_col = dtypes.index\n",
    "dtypes_type = [i.name for i in dtypes.values]\n",
    "\n",
    "column_types = dict(zip(dtypes_col, dtypes_type))\n",
    "\n",
    "\n",
    "testingSet_imp_mean = pd.read_csv('TestingSets/testingSet_imp_mean.csv')\n",
    "testingSet_imp_mean.drop(columns=['Unnamed: 0'],inplace=True)"
   ]
  },
  {
   "cell_type": "code",
   "execution_count": 5,
   "metadata": {},
   "outputs": [
    {
     "name": "stdout",
     "output_type": "stream",
     "text": [
      "<class 'pandas.core.frame.DataFrame'>\n",
      "RangeIndex: 100000 entries, 0 to 99999\n",
      "Data columns (total 12 columns):\n",
      "nombre_area_code             100000 non-null float64\n",
      "denominacion_empresa_code    100000 non-null float64\n",
      "nivel_laboral_code           100000 non-null float64\n",
      "tipo_de_trabajo_code         100000 non-null float64\n",
      "nombre_zona_code             100000 non-null float64\n",
      "edad                         100000 non-null float64\n",
      "estado_code                  100000 non-null float64\n",
      "sexo_code                    100000 non-null float64\n",
      "nombre_code                  100000 non-null float64\n",
      "id                           100000 non-null int64\n",
      "idaviso                      100000 non-null int64\n",
      "idpostulante                 100000 non-null object\n",
      "dtypes: float64(9), int64(2), object(1)\n",
      "memory usage: 9.2+ MB\n"
     ]
    }
   ],
   "source": [
    "testingSet_imp_mean.info()"
   ]
  },
  {
   "cell_type": "code",
   "execution_count": null,
   "metadata": {},
   "outputs": [],
   "source": []
  },
  {
   "cell_type": "code",
   "execution_count": 6,
   "metadata": {},
   "outputs": [],
   "source": [
    "dtypes = pd.Series({'idaviso': np.dtype('uint64'), 'idpostulante': np.dtype('object'),\n",
    "                   'se_postulo': np.dtype('uint8'), 'edad': np.dtype('uint16'), \n",
    "                    'estado_code': np.dtype('uint8'),'sexo_code': np.dtype('uint8'),\n",
    "                    'nombre_code': np.dtype('uint8'),'nombre_area_code': np.dtype('uint8'),\n",
    "                    'denominacion_empresa_code': np.dtype('uint16'),\n",
    "                   'nivel_laboral_code': np.dtype('uint8'),\n",
    "                   'tipo_de_trabajo_code': np.dtype('uint8'),\n",
    "                   'nombre_zona_code': np.dtype('uint8')})\n",
    "\n",
    "dtypes_col = dtypes.index\n",
    "dtypes_type = [i.name for i in dtypes.values]\n",
    "\n",
    "column_types = dict(zip(dtypes_col, dtypes_type))\n",
    "\n",
    "\n",
    "testingSet_imp_median = pd.read_csv('TestingSets/testingSet_imp_median.csv')\n",
    "testingSet_imp_median.drop(columns=['Unnamed: 0'],inplace=True)"
   ]
  },
  {
   "cell_type": "code",
   "execution_count": 7,
   "metadata": {},
   "outputs": [
    {
     "name": "stdout",
     "output_type": "stream",
     "text": [
      "<class 'pandas.core.frame.DataFrame'>\n",
      "RangeIndex: 100000 entries, 0 to 99999\n",
      "Data columns (total 12 columns):\n",
      "nombre_area_code             100000 non-null float64\n",
      "denominacion_empresa_code    100000 non-null float64\n",
      "nivel_laboral_code           100000 non-null float64\n",
      "tipo_de_trabajo_code         100000 non-null float64\n",
      "nombre_zona_code             100000 non-null float64\n",
      "edad                         100000 non-null float64\n",
      "estado_code                  100000 non-null float64\n",
      "sexo_code                    100000 non-null float64\n",
      "nombre_code                  100000 non-null float64\n",
      "id                           100000 non-null int64\n",
      "idaviso                      100000 non-null int64\n",
      "idpostulante                 100000 non-null object\n",
      "dtypes: float64(9), int64(2), object(1)\n",
      "memory usage: 9.2+ MB\n"
     ]
    }
   ],
   "source": [
    "testingSet_imp_median.info()"
   ]
  },
  {
   "cell_type": "code",
   "execution_count": 8,
   "metadata": {},
   "outputs": [],
   "source": [
    "dtypes = pd.Series({'idaviso': np.dtype('uint64'), 'idpostulante': np.dtype('object'),\n",
    "                   'se_postulo': np.dtype('uint8'), 'edad': np.dtype('uint16'), \n",
    "                    'estado_code': np.dtype('uint8'),'sexo_code': np.dtype('uint8'),\n",
    "                    'nombre_code': np.dtype('uint8'),'nombre_area_code': np.dtype('uint8'),\n",
    "                    'denominacion_empresa_code': np.dtype('uint16'),\n",
    "                   'nivel_laboral_code': np.dtype('uint8'),\n",
    "                   'tipo_de_trabajo_code': np.dtype('uint8'),\n",
    "                   'nombre_zona_code': np.dtype('uint8')})\n",
    "\n",
    "dtypes_col = dtypes.index\n",
    "dtypes_type = [i.name for i in dtypes.values]\n",
    "\n",
    "column_types = dict(zip(dtypes_col, dtypes_type))\n",
    "\n",
    "\n",
    "testingSet_imp_most_frequent = pd.read_csv('TestingSets/testingSet_imp_most_frequent.csv')\n",
    "testingSet_imp_most_frequent.drop(columns=['Unnamed: 0'],inplace=True)"
   ]
  },
  {
   "cell_type": "code",
   "execution_count": 9,
   "metadata": {},
   "outputs": [
    {
     "name": "stdout",
     "output_type": "stream",
     "text": [
      "<class 'pandas.core.frame.DataFrame'>\n",
      "RangeIndex: 100000 entries, 0 to 99999\n",
      "Data columns (total 12 columns):\n",
      "nombre_area_code             100000 non-null float64\n",
      "denominacion_empresa_code    100000 non-null float64\n",
      "nivel_laboral_code           100000 non-null float64\n",
      "tipo_de_trabajo_code         100000 non-null float64\n",
      "nombre_zona_code             100000 non-null float64\n",
      "edad                         100000 non-null float64\n",
      "estado_code                  100000 non-null float64\n",
      "sexo_code                    100000 non-null float64\n",
      "nombre_code                  100000 non-null float64\n",
      "id                           100000 non-null int64\n",
      "idaviso                      100000 non-null int64\n",
      "idpostulante                 100000 non-null object\n",
      "dtypes: float64(9), int64(2), object(1)\n",
      "memory usage: 9.2+ MB\n"
     ]
    }
   ],
   "source": [
    "testingSet_imp_most_frequent.info()"
   ]
  },
  {
   "cell_type": "markdown",
   "metadata": {},
   "source": [
    "# Inicio de Machine Learning"
   ]
  },
  {
   "cell_type": "code",
   "execution_count": null,
   "metadata": {},
   "outputs": [
    {
     "name": "stdout",
     "output_type": "stream",
     "text": [
      "Precision = -15795.07 % , name = LinearRegression\n",
      "Precision = -15795.07 % , name = Ridge\n",
      "Precision = -7607133338379186.00 % , name = RidgeCV\n",
      "Precision = -15085.22 % , name = Lasso\n",
      "Precision = -15169.90 % , name = Elastic Net\n",
      "Precision = -14525.67 % , name = LassoLars\n",
      "Precision = -15795.07 % , name = OrthogonalMatchingPursuit\n",
      "Precision = -15795.07 % , name = BayesianRidge\n"
     ]
    }
   ],
   "source": [
    "columnas = ['idaviso','edad', 'estado_code', 'sexo_code',\n",
    "       'nombre_code', 'nombre_area_code', 'denominacion_empresa_code',\n",
    "       'nivel_laboral_code', 'tipo_de_trabajo_code', 'nombre_zona_code']\n",
    "\n",
    "set_pruebas = trainingSet\n",
    "\n",
    "X,y = trainingSet,trainingSet.se_postulo\n",
    "X = X[columnas]\n",
    "\n",
    "# prepare models\n",
    "models = []\n",
    "models.append(('LinearRegression', LinearRegression()))\n",
    "models.append(('Ridge', Ridge()))\n",
    "models.append(('RidgeCV', RidgeCV()))\n",
    "models.append(('Lasso', Lasso()))\n",
    "models.append(('Elastic Net', ElasticNet()))\n",
    "models.append(('LassoLars', LassoLars()))\n",
    "models.append(('OrthogonalMatchingPursuit', OrthogonalMatchingPursuit()))\n",
    "models.append(('BayesianRidge', BayesianRidge()))\n",
    "models.append(('HuberRegressor  ', HuberRegressor()))\n",
    "\n",
    "# evaluate each model in turn\n",
    "for name, model in models:\n",
    "    model.fit(X,Y)\n",
    "    score = model.score(X,y) * 100\n",
    "    print(\"Precision = {:.2f} % , name = {}\".format(score,name))"
   ]
  },
  {
   "cell_type": "code",
   "execution_count": null,
   "metadata": {},
   "outputs": [],
   "source": []
  }
 ],
 "metadata": {
  "kernelspec": {
   "display_name": "Python 3",
   "language": "python",
   "name": "python3"
  },
  "language_info": {
   "codemirror_mode": {
    "name": "ipython",
    "version": 3
   },
   "file_extension": ".py",
   "mimetype": "text/x-python",
   "name": "python",
   "nbconvert_exporter": "python",
   "pygments_lexer": "ipython3",
   "version": "3.6.4"
  }
 },
 "nbformat": 4,
 "nbformat_minor": 2
}
