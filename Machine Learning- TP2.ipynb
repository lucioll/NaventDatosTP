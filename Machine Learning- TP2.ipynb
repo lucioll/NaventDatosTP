{
 "cells": [
  {
   "cell_type": "markdown",
   "metadata": {},
   "source": [
    "# Algoritmos de regresion lineal"
   ]
  },
  {
   "cell_type": "code",
   "execution_count": 1,
   "metadata": {},
   "outputs": [],
   "source": [
    "import pandas as pd\n",
    "import numpy as np\n",
    "from pandas.api.types import CategoricalDtype\n",
    "import time\n",
    "from datetime import datetime\n",
    "import scipy.spatial\n",
    "import numpy as np\n",
    "from sklearn.preprocessing import LabelEncoder\n",
    "from sklearn import preprocessing\n",
    "from sklearn import model_selection\n",
    "from sklearn.discriminant_analysis import LinearDiscriminantAnalysis\n",
    "from sklearn.naive_bayes import GaussianNB\n",
    "from sklearn.svm import SVC\n",
    "from sklearn.model_selection import GridSearchCV\n",
    "from sklearn.model_selection import RandomizedSearchCV\n",
    "from sklearn.model_selection import cross_val_score\n",
    "from sklearn.linear_model import LinearRegression\n",
    "from sklearn.linear_model import Ridge\n",
    "from sklearn.linear_model import RidgeCV\n",
    "from sklearn.linear_model import Lasso\n",
    "from sklearn.linear_model import HuberRegressor \n",
    "from sklearn.linear_model import ElasticNet\n",
    "from sklearn.linear_model import LassoLars\n",
    "from sklearn.linear_model import OrthogonalMatchingPursuit\n",
    "from sklearn.linear_model import BayesianRidge\n",
    "from sklearn.ensemble import ExtraTreesRegressor\n",
    "from sklearn.ensemble import AdaBoostRegressor\n",
    "from sklearn.ensemble import RandomForestRegressor"
   ]
  },
  {
   "cell_type": "markdown",
   "metadata": {},
   "source": [
    "# Training set con encoding"
   ]
  },
  {
   "cell_type": "code",
   "execution_count": 2,
   "metadata": {},
   "outputs": [],
   "source": [
    "dtypes = pd.Series({'idaviso': np.dtype('uint64'), 'idpostulante': np.dtype('object'),\n",
    "                   'se_postulo': np.dtype('uint8'), 'sexo_numerico': np.dtype('uint8'),\n",
    "                   'edad': np.dtype('uint16'), 'estado_code': np.dtype('uint8'),\n",
    "                   'sexo_code': np.dtype('uint8'), 'nombre_code': np.dtype('uint8'),\n",
    "                   'nombre_area_code': np.dtype('uint8'),\n",
    "                    'denominacion_empresa_code': np.dtype('uint16'),\n",
    "                   'nivel_laboral_code': np.dtype('uint8'),\n",
    "                   'tipo_de_trabajo_code': np.dtype('uint8'),\n",
    "                   'nombre_zona_code': np.dtype('uint8')})\n",
    "\n",
    "dtypes_col = dtypes.index\n",
    "dtypes_type = [i.name for i in dtypes.values]\n",
    "\n",
    "column_types = dict(zip(dtypes_col, dtypes_type))\n",
    "\n",
    "trainingSet = pd.read_csv('Data/trainingSet.csv',dtype=column_types)\n",
    "trainingSet.drop(columns=['Unnamed: 0'],inplace=True)\n",
    "trainingSet.drop(columns=['sexo_numerico'],inplace=True)"
   ]
  },
  {
   "cell_type": "code",
   "execution_count": 3,
   "metadata": {},
   "outputs": [
    {
     "name": "stdout",
     "output_type": "stream",
     "text": [
      "<class 'pandas.core.frame.DataFrame'>\n",
      "RangeIndex: 9439964 entries, 0 to 9439963\n",
      "Data columns (total 12 columns):\n",
      "idaviso                      uint64\n",
      "idpostulante                 object\n",
      "se_postulo                   uint8\n",
      "edad                         uint16\n",
      "estado_code                  uint8\n",
      "sexo_code                    uint8\n",
      "nombre_code                  uint8\n",
      "nombre_area_code             uint8\n",
      "denominacion_empresa_code    uint16\n",
      "nivel_laboral_code           uint8\n",
      "tipo_de_trabajo_code         uint8\n",
      "nombre_zona_code             uint8\n",
      "dtypes: object(1), uint16(2), uint64(1), uint8(8)\n",
      "memory usage: 252.1+ MB\n"
     ]
    }
   ],
   "source": [
    "trainingSet.info()"
   ]
  },
  {
   "cell_type": "code",
   "execution_count": 4,
   "metadata": {},
   "outputs": [],
   "source": [
    "#Vamos a codificar la columna de idpostulantes\n",
    "lb_make1 = LabelEncoder()\n",
    "trainingSet[\"idpostulante_code\"] = lb_make1.fit_transform(trainingSet[\"idpostulante\"])"
   ]
  },
  {
   "cell_type": "code",
   "execution_count": 5,
   "metadata": {},
   "outputs": [],
   "source": [
    "trainingSet.drop(columns=['idpostulante'],inplace=True) #No sirve para el algoritmo de ML"
   ]
  },
  {
   "cell_type": "markdown",
   "metadata": {},
   "source": [
    "# Testing sets con encoding"
   ]
  },
  {
   "cell_type": "code",
   "execution_count": 6,
   "metadata": {},
   "outputs": [],
   "source": [
    "dtypes = pd.Series({'idaviso': np.dtype('uint64'), 'idpostulante': np.dtype('object'),\n",
    "                   'se_postulo': np.dtype('uint8'), 'edad': np.dtype('uint16'), \n",
    "                    'estado_code': np.dtype('uint8'),'sexo_code': np.dtype('uint8'),\n",
    "                    'nombre_code': np.dtype('uint8'),'nombre_area_code': np.dtype('uint8'),\n",
    "                    'denominacion_empresa_code': np.dtype('uint16'),\n",
    "                   'nivel_laboral_code': np.dtype('uint8'),\n",
    "                   'tipo_de_trabajo_code': np.dtype('uint8'),\n",
    "                   'nombre_zona_code': np.dtype('uint8')})\n",
    "\n",
    "dtypes_col = dtypes.index\n",
    "dtypes_type = [i.name for i in dtypes.values]\n",
    "\n",
    "column_types = dict(zip(dtypes_col, dtypes_type))\n",
    "\n",
    "\n",
    "testingSet_imp_mean = pd.read_csv('TestingSets/testingSet_imp_mean.csv')\n",
    "testingSet_imp_mean.drop(columns=['Unnamed: 0'],inplace=True)"
   ]
  },
  {
   "cell_type": "code",
   "execution_count": 7,
   "metadata": {},
   "outputs": [
    {
     "name": "stdout",
     "output_type": "stream",
     "text": [
      "<class 'pandas.core.frame.DataFrame'>\n",
      "RangeIndex: 100000 entries, 0 to 99999\n",
      "Data columns (total 12 columns):\n",
      "nombre_area_code             100000 non-null float64\n",
      "denominacion_empresa_code    100000 non-null float64\n",
      "nivel_laboral_code           100000 non-null float64\n",
      "tipo_de_trabajo_code         100000 non-null float64\n",
      "nombre_zona_code             100000 non-null float64\n",
      "edad                         100000 non-null float64\n",
      "estado_code                  100000 non-null float64\n",
      "sexo_code                    100000 non-null float64\n",
      "nombre_code                  100000 non-null float64\n",
      "id                           100000 non-null int64\n",
      "idaviso                      100000 non-null int64\n",
      "idpostulante                 100000 non-null object\n",
      "dtypes: float64(9), int64(2), object(1)\n",
      "memory usage: 9.2+ MB\n"
     ]
    }
   ],
   "source": [
    "testingSet_imp_mean.info()"
   ]
  },
  {
   "cell_type": "code",
   "execution_count": 8,
   "metadata": {},
   "outputs": [],
   "source": [
    "dtypes = pd.Series({'idaviso': np.dtype('uint64'), 'idpostulante': np.dtype('object'),\n",
    "                   'se_postulo': np.dtype('uint8'), 'edad': np.dtype('uint16'), \n",
    "                    'estado_code': np.dtype('uint8'),'sexo_code': np.dtype('uint8'),\n",
    "                    'nombre_code': np.dtype('uint8'),'nombre_area_code': np.dtype('uint8'),\n",
    "                    'denominacion_empresa_code': np.dtype('uint16'),\n",
    "                   'nivel_laboral_code': np.dtype('uint8'),\n",
    "                   'tipo_de_trabajo_code': np.dtype('uint8'),\n",
    "                   'nombre_zona_code': np.dtype('uint8')})\n",
    "\n",
    "dtypes_col = dtypes.index\n",
    "dtypes_type = [i.name for i in dtypes.values]\n",
    "\n",
    "column_types = dict(zip(dtypes_col, dtypes_type))\n",
    "\n",
    "\n",
    "testingSet_imp_median = pd.read_csv('TestingSets/testingSet_imp_median.csv')\n",
    "testingSet_imp_median.drop(columns=['Unnamed: 0'],inplace=True)"
   ]
  },
  {
   "cell_type": "code",
   "execution_count": 9,
   "metadata": {},
   "outputs": [
    {
     "name": "stdout",
     "output_type": "stream",
     "text": [
      "<class 'pandas.core.frame.DataFrame'>\n",
      "RangeIndex: 100000 entries, 0 to 99999\n",
      "Data columns (total 12 columns):\n",
      "nombre_area_code             100000 non-null float64\n",
      "denominacion_empresa_code    100000 non-null float64\n",
      "nivel_laboral_code           100000 non-null float64\n",
      "tipo_de_trabajo_code         100000 non-null float64\n",
      "nombre_zona_code             100000 non-null float64\n",
      "edad                         100000 non-null float64\n",
      "estado_code                  100000 non-null float64\n",
      "sexo_code                    100000 non-null float64\n",
      "nombre_code                  100000 non-null float64\n",
      "id                           100000 non-null int64\n",
      "idaviso                      100000 non-null int64\n",
      "idpostulante                 100000 non-null object\n",
      "dtypes: float64(9), int64(2), object(1)\n",
      "memory usage: 9.2+ MB\n"
     ]
    }
   ],
   "source": [
    "testingSet_imp_median.info()"
   ]
  },
  {
   "cell_type": "code",
   "execution_count": 10,
   "metadata": {},
   "outputs": [],
   "source": [
    "dtypes = pd.Series({'idaviso': np.dtype('uint64'), 'idpostulante': np.dtype('object'),\n",
    "                   'se_postulo': np.dtype('uint8'), 'edad': np.dtype('uint16'), \n",
    "                    'estado_code': np.dtype('uint8'),'sexo_code': np.dtype('uint8'),\n",
    "                    'nombre_code': np.dtype('uint8'),'nombre_area_code': np.dtype('uint8'),\n",
    "                    'denominacion_empresa_code': np.dtype('uint16'),\n",
    "                   'nivel_laboral_code': np.dtype('uint8'),\n",
    "                   'tipo_de_trabajo_code': np.dtype('uint8'),\n",
    "                   'nombre_zona_code': np.dtype('uint8')})\n",
    "\n",
    "dtypes_col = dtypes.index\n",
    "dtypes_type = [i.name for i in dtypes.values]\n",
    "\n",
    "column_types = dict(zip(dtypes_col, dtypes_type))\n",
    "\n",
    "\n",
    "testingSet_imp_most_frequent = pd.read_csv('TestingSets/testingSet_imp_most_frequent.csv')\n",
    "testingSet_imp_most_frequent.drop(columns=['Unnamed: 0'],inplace=True)"
   ]
  },
  {
   "cell_type": "code",
   "execution_count": 11,
   "metadata": {},
   "outputs": [
    {
     "name": "stdout",
     "output_type": "stream",
     "text": [
      "<class 'pandas.core.frame.DataFrame'>\n",
      "RangeIndex: 100000 entries, 0 to 99999\n",
      "Data columns (total 12 columns):\n",
      "nombre_area_code             100000 non-null float64\n",
      "denominacion_empresa_code    100000 non-null float64\n",
      "nivel_laboral_code           100000 non-null float64\n",
      "tipo_de_trabajo_code         100000 non-null float64\n",
      "nombre_zona_code             100000 non-null float64\n",
      "edad                         100000 non-null float64\n",
      "estado_code                  100000 non-null float64\n",
      "sexo_code                    100000 non-null float64\n",
      "nombre_code                  100000 non-null float64\n",
      "id                           100000 non-null int64\n",
      "idaviso                      100000 non-null int64\n",
      "idpostulante                 100000 non-null object\n",
      "dtypes: float64(9), int64(2), object(1)\n",
      "memory usage: 9.2+ MB\n"
     ]
    }
   ],
   "source": [
    "testingSet_imp_most_frequent.info()"
   ]
  },
  {
   "cell_type": "markdown",
   "metadata": {},
   "source": [
    "# Inicio de Machine Learning"
   ]
  },
  {
   "cell_type": "code",
   "execution_count": 12,
   "metadata": {},
   "outputs": [
    {
     "name": "stdout",
     "output_type": "stream",
     "text": [
      "Precision = 0.35 % , name = LinearRegression\n",
      "Precision = 0.35 % , name = Ridge\n",
      "Precision = -78121918887.95 % , name = RidgeCV\n",
      "Precision = 0.02 % , name = Lasso\n",
      "Precision = 0.02 % , name = Elastic Net\n",
      "Precision = 0.00 % , name = LassoLars\n",
      "Precision = 0.19 % , name = OrthogonalMatchingPursuit\n",
      "Precision = 0.35 % , name = BayesianRidge\n",
      "Precision = -0.04 % , name = HuberRegressor  \n"
     ]
    }
   ],
   "source": [
    "columnas = ['idaviso','idpostulante_code','edad', 'estado_code', 'sexo_code',\n",
    "       'nombre_code', 'nombre_area_code', 'denominacion_empresa_code',\n",
    "       'nivel_laboral_code', 'tipo_de_trabajo_code', 'nombre_zona_code']\n",
    "\n",
    "set_pruebas = trainingSet\n",
    "\n",
    "X,y = trainingSet,trainingSet.se_postulo\n",
    "X = X[columnas]\n",
    "\n",
    "# prepare models\n",
    "models = []\n",
    "models.append(('LinearRegression', LinearRegression()))\n",
    "models.append(('Ridge', Ridge()))\n",
    "models.append(('RidgeCV', RidgeCV()))\n",
    "models.append(('Lasso', Lasso()))\n",
    "models.append(('Elastic Net', ElasticNet()))\n",
    "models.append(('LassoLars', LassoLars()))\n",
    "models.append(('OrthogonalMatchingPursuit', OrthogonalMatchingPursuit()))\n",
    "models.append(('BayesianRidge', BayesianRidge()))\n",
    "models.append(('HuberRegressor  ', HuberRegressor()))\n",
    "\n",
    "# evaluate each model in turn\n",
    "for name, model in models:\n",
    "    model.fit(X,y)\n",
    "    score = model.score(X,y) * 100\n",
    "    print(\"Precision = {:.2f} % , name = {}\".format(score,name))"
   ]
  },
  {
   "cell_type": "code",
   "execution_count": 13,
   "metadata": {},
   "outputs": [
    {
     "data": {
      "text/plain": [
       "se_postulo                   1.000000\n",
       "sexo_code                    0.043731\n",
       "nivel_laboral_code           0.024677\n",
       "estado_code                  0.016165\n",
       "nombre_zona_code             0.010822\n",
       "idpostulante_code            0.003469\n",
       "idaviso                      0.002977\n",
       "nombre_area_code             0.002570\n",
       "tipo_de_trabajo_code        -0.007484\n",
       "edad                        -0.012981\n",
       "denominacion_empresa_code   -0.014913\n",
       "nombre_code                 -0.020866\n",
       "Name: se_postulo, dtype: float64"
      ]
     },
     "execution_count": 13,
     "metadata": {},
     "output_type": "execute_result"
    }
   ],
   "source": [
    "trainingSet.corr().se_postulo.sort_values(ascending = False)"
   ]
  },
  {
   "cell_type": "code",
   "execution_count": 14,
   "metadata": {},
   "outputs": [
    {
     "name": "stdout",
     "output_type": "stream",
     "text": [
      "Precision = 0.28 % , name = LinearRegression\n",
      "Precision = 0.28 % , name = Ridge\n",
      "Precision = -210668018185.80 % , name = RidgeCV\n",
      "Precision = 0.00 % , name = Lasso\n",
      "Precision = 0.00 % , name = Elastic Net\n",
      "Precision = 0.00 % , name = LassoLars\n",
      "Precision = 0.19 % , name = OrthogonalMatchingPursuit\n",
      "Precision = 0.28 % , name = BayesianRidge\n",
      "Precision = -0.04 % , name = HuberRegressor  \n"
     ]
    }
   ],
   "source": [
    "columnas_corr = ['sexo_code','nivel_laboral_code','estado_code','nombre_zona_code','idpostulante_code',\n",
    "                 'idaviso','nombre_area_code']\n",
    "\n",
    "set_pruebas = trainingSet\n",
    "\n",
    "X,y = trainingSet,trainingSet.se_postulo\n",
    "X = X[columnas_corr]\n",
    "\n",
    "# prepare models\n",
    "models = []\n",
    "models.append(('LinearRegression', LinearRegression()))\n",
    "models.append(('Ridge', Ridge()))\n",
    "models.append(('RidgeCV', RidgeCV()))\n",
    "models.append(('Lasso', Lasso()))\n",
    "models.append(('Elastic Net', ElasticNet()))\n",
    "models.append(('LassoLars', LassoLars()))\n",
    "models.append(('OrthogonalMatchingPursuit', OrthogonalMatchingPursuit()))\n",
    "models.append(('BayesianRidge', BayesianRidge()))\n",
    "models.append(('HuberRegressor  ', HuberRegressor()))\n",
    "\n",
    "# evaluate each model in turn\n",
    "for name, model in models:\n",
    "    model.fit(X,y)\n",
    "    score = model.score(X,y) * 100\n",
    "    print(\"Precision = {:.2f} % , name = {}\".format(score,name))"
   ]
  },
  {
   "cell_type": "markdown",
   "metadata": {},
   "source": [
    "## Random Forest"
   ]
  },
  {
   "cell_type": "code",
   "execution_count": 15,
   "metadata": {},
   "outputs": [
    {
     "name": "stdout",
     "output_type": "stream",
     "text": [
      "Method name = RandomForestRegressor\n",
      "Mean squared error: 0.19485293319871383\n",
      "Precission: 88.25 %\n"
     ]
    }
   ],
   "source": [
    "columnas = ['idaviso','idpostulante_code','edad', 'estado_code', 'sexo_code',\n",
    "       'nombre_code', 'nombre_area_code', 'denominacion_empresa_code',\n",
    "       'nivel_laboral_code', 'tipo_de_trabajo_code', 'nombre_zona_code']\n",
    "\n",
    "set_pruebas = trainingSet\n",
    "\n",
    "X,y = trainingSet,trainingSet.se_postulo\n",
    "X = X[columnas]\n",
    "\n",
    "random_forest = RandomForestRegressor()\n",
    "random_forest.fit(X,y)\n",
    "precission = random_forest.score(X,y) * 100\n",
    "mse = np.mean(cross_val_score(random_forest, X, y,scoring='neg_mean_squared_error', cv=15,  n_jobs=2))\n",
    "print(\"Method name = {}\".format(\"RandomForestRegressor\"))\n",
    "print ('Mean squared error: {}'.format(abs(mse)))\n",
    "print ('Precission: {:.2f} %'. format(abs(precission)))"
   ]
  },
  {
   "cell_type": "code",
   "execution_count": 16,
   "metadata": {},
   "outputs": [
    {
     "name": "stderr",
     "output_type": "stream",
     "text": [
      "/home/fabrizio/anaconda3/lib/python3.6/site-packages/sklearn/cross_validation.py:41: DeprecationWarning: This module was deprecated in version 0.18 in favor of the model_selection module into which all the refactored classes and functions are moved. Also note that the interface of the new CV iterators are different from that of this module. This module will be removed in 0.20.\n",
      "  \"This module will be removed in 0.20.\", DeprecationWarning)\n"
     ]
    }
   ],
   "source": [
    "from sklearn.cross_validation import train_test_split\n",
    "\n",
    "X,y = trainingSet,trainingSet.se_postulo\n",
    "X = X[columnas]\n",
    "X_train, X_test, y_train, y_test = train_test_split(X, y, test_size=0.3, random_state=0)"
   ]
  },
  {
   "cell_type": "markdown",
   "metadata": {},
   "source": [
    "## ExtraTrees"
   ]
  },
  {
   "cell_type": "code",
   "execution_count": 17,
   "metadata": {},
   "outputs": [
    {
     "name": "stdout",
     "output_type": "stream",
     "text": [
      "Method name = ExtraTreesRegressor\n",
      "Mean squared error: 0.2334869833774863\n",
      "Precission: 1.474309678783925e-05 %\n"
     ]
    }
   ],
   "source": [
    "X,y = trainingSet,trainingSet.se_postulo\n",
    "X = X[columnas]\n",
    "X_train, X_test, y_train, y_test = train_test_split(X, y, test_size=0.3, random_state=0)\n",
    "\n",
    "\n",
    "extra_tree = ExtraTreesRegressor(n_estimators=32, criterion = 'mse', max_depth=None, min_samples_split=5,\\\n",
    "                                 min_samples_leaf=1, min_weight_fraction_leaf = 0.0, max_features =\"auto\",\\\n",
    "                                max_leaf_nodes = None,min_impurity_decrease = 6,bootstrap = False)\n",
    "extra_tree.fit(X_train,y_train)\n",
    "\n",
    "\n",
    "precission = extra_tree.score(X_test,y_test) * 100\n",
    "mse = np.mean(cross_val_score(extra_tree, X_test, y_test,scoring='neg_mean_squared_error', cv=15,  n_jobs=2))\n",
    "print(\"Method name = {}\".format(\"ExtraTreesRegressor\"))\n",
    "print ('Mean squared error: {}'.format(abs(mse)))\n",
    "print ('Precission: {} %'. format(abs(precission)))"
   ]
  },
  {
   "cell_type": "markdown",
   "metadata": {},
   "source": [
    "## GradientBoostingRegressor"
   ]
  },
  {
   "cell_type": "code",
   "execution_count": 18,
   "metadata": {},
   "outputs": [
    {
     "name": "stdout",
     "output_type": "stream",
     "text": [
      "Method name = GradientBoostingRegressor\n",
      "Mean squared error: 0.2556160523924702\n",
      "Precission: 37.677365878911914 %\n"
     ]
    }
   ],
   "source": [
    "from sklearn.ensemble import GradientBoostingRegressor\n",
    "\n",
    "X,y = trainingSet,trainingSet.se_postulo\n",
    "X = X[columnas]\n",
    "\n",
    "#X_train, X_test, y_train, y_test = train_test_split(X, y, test_size=0.3, random_state=0)\n",
    "\n",
    "gradient_boosting = GradientBoostingRegressor(loss='ls', learning_rate=0.75, n_estimators=100, subsample=1.0, criterion='mse', min_samples_split=2, min_samples_leaf=1, min_weight_fraction_leaf=0.0, max_depth=3, min_impurity_decrease=0.0, min_impurity_split=None, init=None, random_state=None, max_features=None, alpha=0.9, verbose=0, max_leaf_nodes=None, warm_start=False, presort='auto')\n",
    "gradient_boosting.fit(X,y)\n",
    "\n",
    "precission = gradient_boosting.score(X,y) * 100\n",
    "mse = np.mean(cross_val_score(gradient_boosting, X, y,scoring='neg_mean_squared_error', cv=5,  n_jobs=2))\n",
    "print(\"Method name = {}\".format(\"GradientBoostingRegressor\"))\n",
    "print ('Mean squared error: {}'.format(abs(mse)))\n",
    "print ('Precission: {} %'. format(abs(precission)))"
   ]
  },
  {
   "cell_type": "markdown",
   "metadata": {},
   "source": [
    "## Adaboost"
   ]
  },
  {
   "cell_type": "code",
   "execution_count": 12,
   "metadata": {},
   "outputs": [
    {
     "ename": "MemoryError",
     "evalue": "",
     "output_type": "error",
     "traceback": [
      "\u001b[0;31m---------------------------------------------------------------------------\u001b[0m",
      "\u001b[0;31mMemoryError\u001b[0m                               Traceback (most recent call last)",
      "\u001b[0;32m<ipython-input-12-78eff73ae3f0>\u001b[0m in \u001b[0;36m<module>\u001b[0;34m()\u001b[0m\n\u001b[1;32m     19\u001b[0m         \u001b[0mada_boost\u001b[0m\u001b[0;34m.\u001b[0m\u001b[0mfit\u001b[0m\u001b[0;34m(\u001b[0m\u001b[0mX\u001b[0m\u001b[0;34m,\u001b[0m\u001b[0my\u001b[0m\u001b[0;34m)\u001b[0m\u001b[0;34m\u001b[0m\u001b[0m\n\u001b[1;32m     20\u001b[0m \u001b[0;34m\u001b[0m\u001b[0m\n\u001b[0;32m---> 21\u001b[0;31m         \u001b[0mprecission\u001b[0m \u001b[0;34m=\u001b[0m \u001b[0mada_boost\u001b[0m\u001b[0;34m.\u001b[0m\u001b[0mscore\u001b[0m\u001b[0;34m(\u001b[0m\u001b[0mX\u001b[0m\u001b[0;34m,\u001b[0m\u001b[0my\u001b[0m\u001b[0;34m)\u001b[0m \u001b[0;34m*\u001b[0m \u001b[0;36m100\u001b[0m\u001b[0;34m\u001b[0m\u001b[0m\n\u001b[0m\u001b[1;32m     22\u001b[0m         \u001b[0mmse\u001b[0m \u001b[0;34m=\u001b[0m \u001b[0mnp\u001b[0m\u001b[0;34m.\u001b[0m\u001b[0mmean\u001b[0m\u001b[0;34m(\u001b[0m\u001b[0mcross_val_score\u001b[0m\u001b[0;34m(\u001b[0m\u001b[0mada_boost\u001b[0m\u001b[0;34m,\u001b[0m \u001b[0mX\u001b[0m\u001b[0;34m,\u001b[0m \u001b[0my\u001b[0m\u001b[0;34m,\u001b[0m\u001b[0mscoring\u001b[0m\u001b[0;34m=\u001b[0m\u001b[0;34m'neg_mean_squared_error'\u001b[0m\u001b[0;34m,\u001b[0m \u001b[0mcv\u001b[0m\u001b[0;34m=\u001b[0m\u001b[0;36m15\u001b[0m\u001b[0;34m,\u001b[0m  \u001b[0mn_jobs\u001b[0m\u001b[0;34m=\u001b[0m\u001b[0;36m2\u001b[0m\u001b[0;34m)\u001b[0m\u001b[0;34m)\u001b[0m\u001b[0;34m\u001b[0m\u001b[0m\n\u001b[1;32m     23\u001b[0m         \u001b[0mprint\u001b[0m\u001b[0;34m(\u001b[0m\u001b[0;34m\"Method name = {}, Estimator = {}, Loss = {}\"\u001b[0m\u001b[0;34m.\u001b[0m\u001b[0mformat\u001b[0m\u001b[0;34m(\u001b[0m\u001b[0;34m\"AdaBoostRegressor\"\u001b[0m\u001b[0;34m,\u001b[0m\u001b[0mestimator\u001b[0m\u001b[0;34m,\u001b[0m\u001b[0mval_loss\u001b[0m\u001b[0;34m)\u001b[0m\u001b[0;34m)\u001b[0m\u001b[0;34m\u001b[0m\u001b[0m\n",
      "\u001b[0;32m~/anaconda3/lib/python3.6/site-packages/sklearn/base.py\u001b[0m in \u001b[0;36mscore\u001b[0;34m(self, X, y, sample_weight)\u001b[0m\n\u001b[1;32m    384\u001b[0m \u001b[0;34m\u001b[0m\u001b[0m\n\u001b[1;32m    385\u001b[0m         \u001b[0;32mfrom\u001b[0m \u001b[0;34m.\u001b[0m\u001b[0mmetrics\u001b[0m \u001b[0;32mimport\u001b[0m \u001b[0mr2_score\u001b[0m\u001b[0;34m\u001b[0m\u001b[0m\n\u001b[0;32m--> 386\u001b[0;31m         return r2_score(y, self.predict(X), sample_weight=sample_weight,\n\u001b[0m\u001b[1;32m    387\u001b[0m                         multioutput='variance_weighted')\n\u001b[1;32m    388\u001b[0m \u001b[0;34m\u001b[0m\u001b[0m\n",
      "\u001b[0;32m~/anaconda3/lib/python3.6/site-packages/sklearn/ensemble/weight_boosting.py\u001b[0m in \u001b[0;36mpredict\u001b[0;34m(self, X)\u001b[0m\n\u001b[1;32m   1094\u001b[0m         \u001b[0mX\u001b[0m \u001b[0;34m=\u001b[0m \u001b[0mself\u001b[0m\u001b[0;34m.\u001b[0m\u001b[0m_validate_X_predict\u001b[0m\u001b[0;34m(\u001b[0m\u001b[0mX\u001b[0m\u001b[0;34m)\u001b[0m\u001b[0;34m\u001b[0m\u001b[0m\n\u001b[1;32m   1095\u001b[0m \u001b[0;34m\u001b[0m\u001b[0m\n\u001b[0;32m-> 1096\u001b[0;31m         \u001b[0;32mreturn\u001b[0m \u001b[0mself\u001b[0m\u001b[0;34m.\u001b[0m\u001b[0m_get_median_predict\u001b[0m\u001b[0;34m(\u001b[0m\u001b[0mX\u001b[0m\u001b[0;34m,\u001b[0m \u001b[0mlen\u001b[0m\u001b[0;34m(\u001b[0m\u001b[0mself\u001b[0m\u001b[0;34m.\u001b[0m\u001b[0mestimators_\u001b[0m\u001b[0;34m)\u001b[0m\u001b[0;34m)\u001b[0m\u001b[0;34m\u001b[0m\u001b[0m\n\u001b[0m\u001b[1;32m   1097\u001b[0m \u001b[0;34m\u001b[0m\u001b[0m\n\u001b[1;32m   1098\u001b[0m     \u001b[0;32mdef\u001b[0m \u001b[0mstaged_predict\u001b[0m\u001b[0;34m(\u001b[0m\u001b[0mself\u001b[0m\u001b[0;34m,\u001b[0m \u001b[0mX\u001b[0m\u001b[0;34m)\u001b[0m\u001b[0;34m:\u001b[0m\u001b[0;34m\u001b[0m\u001b[0m\n",
      "\u001b[0;32m~/anaconda3/lib/python3.6/site-packages/sklearn/ensemble/weight_boosting.py\u001b[0m in \u001b[0;36m_get_median_predict\u001b[0;34m(self, X, limit)\u001b[0m\n\u001b[1;32m   1065\u001b[0m \u001b[0;34m\u001b[0m\u001b[0m\n\u001b[1;32m   1066\u001b[0m         \u001b[0;31m# Find index of median prediction for each sample\u001b[0m\u001b[0;34m\u001b[0m\u001b[0;34m\u001b[0m\u001b[0m\n\u001b[0;32m-> 1067\u001b[0;31m         \u001b[0mweight_cdf\u001b[0m \u001b[0;34m=\u001b[0m \u001b[0mstable_cumsum\u001b[0m\u001b[0;34m(\u001b[0m\u001b[0mself\u001b[0m\u001b[0;34m.\u001b[0m\u001b[0mestimator_weights_\u001b[0m\u001b[0;34m[\u001b[0m\u001b[0msorted_idx\u001b[0m\u001b[0;34m]\u001b[0m\u001b[0;34m,\u001b[0m \u001b[0maxis\u001b[0m\u001b[0;34m=\u001b[0m\u001b[0;36m1\u001b[0m\u001b[0;34m)\u001b[0m\u001b[0;34m\u001b[0m\u001b[0m\n\u001b[0m\u001b[1;32m   1068\u001b[0m         \u001b[0mmedian_or_above\u001b[0m \u001b[0;34m=\u001b[0m \u001b[0mweight_cdf\u001b[0m \u001b[0;34m>=\u001b[0m \u001b[0;36m0.5\u001b[0m \u001b[0;34m*\u001b[0m \u001b[0mweight_cdf\u001b[0m\u001b[0;34m[\u001b[0m\u001b[0;34m:\u001b[0m\u001b[0;34m,\u001b[0m \u001b[0;34m-\u001b[0m\u001b[0;36m1\u001b[0m\u001b[0;34m]\u001b[0m\u001b[0;34m[\u001b[0m\u001b[0;34m:\u001b[0m\u001b[0;34m,\u001b[0m \u001b[0mnp\u001b[0m\u001b[0;34m.\u001b[0m\u001b[0mnewaxis\u001b[0m\u001b[0;34m]\u001b[0m\u001b[0;34m\u001b[0m\u001b[0m\n\u001b[1;32m   1069\u001b[0m         \u001b[0mmedian_idx\u001b[0m \u001b[0;34m=\u001b[0m \u001b[0mmedian_or_above\u001b[0m\u001b[0;34m.\u001b[0m\u001b[0margmax\u001b[0m\u001b[0;34m(\u001b[0m\u001b[0maxis\u001b[0m\u001b[0;34m=\u001b[0m\u001b[0;36m1\u001b[0m\u001b[0;34m)\u001b[0m\u001b[0;34m\u001b[0m\u001b[0m\n",
      "\u001b[0;32m~/anaconda3/lib/python3.6/site-packages/sklearn/utils/extmath.py\u001b[0m in \u001b[0;36mstable_cumsum\u001b[0;34m(arr, axis, rtol, atol)\u001b[0m\n\u001b[1;32m    758\u001b[0m         \u001b[0;32mreturn\u001b[0m \u001b[0mnp\u001b[0m\u001b[0;34m.\u001b[0m\u001b[0mcumsum\u001b[0m\u001b[0;34m(\u001b[0m\u001b[0marr\u001b[0m\u001b[0;34m,\u001b[0m \u001b[0maxis\u001b[0m\u001b[0;34m=\u001b[0m\u001b[0maxis\u001b[0m\u001b[0;34m,\u001b[0m \u001b[0mdtype\u001b[0m\u001b[0;34m=\u001b[0m\u001b[0mnp\u001b[0m\u001b[0;34m.\u001b[0m\u001b[0mfloat64\u001b[0m\u001b[0;34m)\u001b[0m\u001b[0;34m\u001b[0m\u001b[0m\n\u001b[1;32m    759\u001b[0m \u001b[0;34m\u001b[0m\u001b[0m\n\u001b[0;32m--> 760\u001b[0;31m     \u001b[0mout\u001b[0m \u001b[0;34m=\u001b[0m \u001b[0mnp\u001b[0m\u001b[0;34m.\u001b[0m\u001b[0mcumsum\u001b[0m\u001b[0;34m(\u001b[0m\u001b[0marr\u001b[0m\u001b[0;34m,\u001b[0m \u001b[0maxis\u001b[0m\u001b[0;34m=\u001b[0m\u001b[0maxis\u001b[0m\u001b[0;34m,\u001b[0m \u001b[0mdtype\u001b[0m\u001b[0;34m=\u001b[0m\u001b[0mnp\u001b[0m\u001b[0;34m.\u001b[0m\u001b[0mfloat64\u001b[0m\u001b[0;34m)\u001b[0m\u001b[0;34m\u001b[0m\u001b[0m\n\u001b[0m\u001b[1;32m    761\u001b[0m     \u001b[0mexpected\u001b[0m \u001b[0;34m=\u001b[0m \u001b[0mnp\u001b[0m\u001b[0;34m.\u001b[0m\u001b[0msum\u001b[0m\u001b[0;34m(\u001b[0m\u001b[0marr\u001b[0m\u001b[0;34m,\u001b[0m \u001b[0maxis\u001b[0m\u001b[0;34m=\u001b[0m\u001b[0maxis\u001b[0m\u001b[0;34m,\u001b[0m \u001b[0mdtype\u001b[0m\u001b[0;34m=\u001b[0m\u001b[0mnp\u001b[0m\u001b[0;34m.\u001b[0m\u001b[0mfloat64\u001b[0m\u001b[0;34m)\u001b[0m\u001b[0;34m\u001b[0m\u001b[0m\n\u001b[1;32m    762\u001b[0m     if not np.all(np.isclose(out.take(-1, axis=axis), expected, rtol=rtol,\n",
      "\u001b[0;32m~/anaconda3/lib/python3.6/site-packages/numpy/core/fromnumeric.py\u001b[0m in \u001b[0;36mcumsum\u001b[0;34m(a, axis, dtype, out)\u001b[0m\n\u001b[1;32m   2163\u001b[0m \u001b[0;34m\u001b[0m\u001b[0m\n\u001b[1;32m   2164\u001b[0m     \"\"\"\n\u001b[0;32m-> 2165\u001b[0;31m     \u001b[0;32mreturn\u001b[0m \u001b[0m_wrapfunc\u001b[0m\u001b[0;34m(\u001b[0m\u001b[0ma\u001b[0m\u001b[0;34m,\u001b[0m \u001b[0;34m'cumsum'\u001b[0m\u001b[0;34m,\u001b[0m \u001b[0maxis\u001b[0m\u001b[0;34m=\u001b[0m\u001b[0maxis\u001b[0m\u001b[0;34m,\u001b[0m \u001b[0mdtype\u001b[0m\u001b[0;34m=\u001b[0m\u001b[0mdtype\u001b[0m\u001b[0;34m,\u001b[0m \u001b[0mout\u001b[0m\u001b[0;34m=\u001b[0m\u001b[0mout\u001b[0m\u001b[0;34m)\u001b[0m\u001b[0;34m\u001b[0m\u001b[0m\n\u001b[0m\u001b[1;32m   2166\u001b[0m \u001b[0;34m\u001b[0m\u001b[0m\n\u001b[1;32m   2167\u001b[0m \u001b[0;34m\u001b[0m\u001b[0m\n",
      "\u001b[0;32m~/anaconda3/lib/python3.6/site-packages/numpy/core/fromnumeric.py\u001b[0m in \u001b[0;36m_wrapfunc\u001b[0;34m(obj, method, *args, **kwds)\u001b[0m\n\u001b[1;32m     50\u001b[0m \u001b[0;32mdef\u001b[0m \u001b[0m_wrapfunc\u001b[0m\u001b[0;34m(\u001b[0m\u001b[0mobj\u001b[0m\u001b[0;34m,\u001b[0m \u001b[0mmethod\u001b[0m\u001b[0;34m,\u001b[0m \u001b[0;34m*\u001b[0m\u001b[0margs\u001b[0m\u001b[0;34m,\u001b[0m \u001b[0;34m**\u001b[0m\u001b[0mkwds\u001b[0m\u001b[0;34m)\u001b[0m\u001b[0;34m:\u001b[0m\u001b[0;34m\u001b[0m\u001b[0m\n\u001b[1;32m     51\u001b[0m     \u001b[0;32mtry\u001b[0m\u001b[0;34m:\u001b[0m\u001b[0;34m\u001b[0m\u001b[0m\n\u001b[0;32m---> 52\u001b[0;31m         \u001b[0;32mreturn\u001b[0m \u001b[0mgetattr\u001b[0m\u001b[0;34m(\u001b[0m\u001b[0mobj\u001b[0m\u001b[0;34m,\u001b[0m \u001b[0mmethod\u001b[0m\u001b[0;34m)\u001b[0m\u001b[0;34m(\u001b[0m\u001b[0;34m*\u001b[0m\u001b[0margs\u001b[0m\u001b[0;34m,\u001b[0m \u001b[0;34m**\u001b[0m\u001b[0mkwds\u001b[0m\u001b[0;34m)\u001b[0m\u001b[0;34m\u001b[0m\u001b[0m\n\u001b[0m\u001b[1;32m     53\u001b[0m \u001b[0;34m\u001b[0m\u001b[0m\n\u001b[1;32m     54\u001b[0m     \u001b[0;31m# An AttributeError occurs if the object does not have\u001b[0m\u001b[0;34m\u001b[0m\u001b[0;34m\u001b[0m\u001b[0m\n",
      "\u001b[0;31mMemoryError\u001b[0m: "
     ]
    }
   ],
   "source": [
    "from sklearn.ensemble import AdaBoostRegressor\n",
    "from sklearn.tree import DecisionTreeRegressor\n",
    "from sklearn.ensemble import GradientBoostingRegressor\n",
    "\n",
    "columnas = ['idaviso','idpostulante_code','edad', 'estado_code', 'sexo_code',\n",
    "       'nombre_code', 'nombre_area_code', 'denominacion_empresa_code',\n",
    "       'nivel_laboral_code', 'tipo_de_trabajo_code', 'nombre_zona_code']\n",
    "\n",
    "X,y = trainingSet,trainingSet.se_postulo\n",
    "X = X[columnas]\n",
    "\n",
    "#X_train, X_test, y_train, y_test = train_test_split(X, y, test_size=0.3, random_state=0)\n",
    "#Tambien probar con columnas corr\n",
    "\n",
    "\n",
    "for estimator in [DecisionTreeRegressor(),RandomForestRegressor(),ExtraTreesRegressor(),GradientBoostingRegressor()]:\n",
    "    for val_loss in ['linear','square','exponential']:\n",
    "        ada_boost= AdaBoostRegressor(loss=val_loss,base_estimator=estimator)\n",
    "        ada_boost.fit(X,y)\n",
    "\n",
    "        precission = ada_boost.score(X,y) * 100\n",
    "        mse = np.mean(cross_val_score(ada_boost, X, y,scoring='neg_mean_squared_error', cv=15,  n_jobs=2))\n",
    "        print(\"Method name = {}, Estimator = {}, Loss = {}\".format(\"AdaBoostRegressor\",estimator,val_loss))\n",
    "        print ('Mean squared error: {}'.format(abs(mse)))\n",
    "        print ('Precission: {} %'. format(abs(precission)))\n",
    "        print (\"\")\n",
    "        print (\"\")"
   ]
  },
  {
   "cell_type": "markdown",
   "metadata": {},
   "source": [
    "## Random Search"
   ]
  },
  {
   "cell_type": "code",
   "execution_count": 20,
   "metadata": {},
   "outputs": [
    {
     "name": "stdout",
     "output_type": "stream",
     "text": [
      "Fitting... Inicio: 14:07:46 \n",
      "RandomizedSearchCV took 2266.89 seconds for 10 candidates parameter settings.\n",
      "Model with rank: 1\n",
      "Mean validation score: -59.384 (std: 1.188)\n",
      "Parameters: {'n_estimators': 25, 'min_samples_split': 3, 'min_samples_leaf': 3, 'max_features': 0.4, 'max_depth': 10, 'criterion': 'friedman_mse', 'bootstrap': False}\n",
      "\n",
      "Model with rank: 2\n",
      "Mean validation score: -59.776 (std: 1.196)\n",
      "Parameters: {'n_estimators': 10, 'min_samples_split': 2, 'min_samples_leaf': 2, 'max_features': 0.8, 'max_depth': 5, 'criterion': 'mse', 'bootstrap': False}\n",
      "\n",
      "Model with rank: 3\n",
      "Mean validation score: -59.789 (std: 1.196)\n",
      "Parameters: {'n_estimators': 80, 'min_samples_split': 2, 'min_samples_leaf': 10, 'max_features': 0.8, 'max_depth': 3, 'criterion': 'mse', 'bootstrap': False}\n",
      "\n"
     ]
    }
   ],
   "source": [
    "from sklearn.ensemble import ExtraTreesRegressor\n",
    "\n",
    "X,y = trainingSet,trainingSet.se_postulo\n",
    "X = X[columnas]\n",
    "\n",
    "#X_train, X_test, y_train, y_test = train_test_split(X, y, test_size=0.3, random_state=0)\n",
    "#Tambien probar con columnas corr\n",
    "\n",
    "\n",
    "extra = ExtraTreesRegressor()\n",
    "\n",
    "\n",
    "# Utility function to report best scores\n",
    "def report(results, n_top=3):\n",
    "    for i in range(1, n_top + 1):\n",
    "        candidates = np.flatnonzero(results['rank_test_score'] == i)\n",
    "        for candidate in candidates:\n",
    "            print(\"Model with rank: {0}\".format(i))\n",
    "            print(\"Mean validation score: {0:.3f} (std: {1:.3f})\".format(\n",
    "                  (results['mean_test_score'][candidate])*100,\n",
    "                  results['std_test_score'][candidate]))\n",
    "            print(\"Parameters: {0}\".format(results['params'][candidate]))\n",
    "            print(\"\")\n",
    "\n",
    "\n",
    "# specify parameters and distributions to sample from\n",
    "param_dist = {\"max_depth\": [3, None,5,10,1],\n",
    "              \"max_features\": [0.2,0.4,0.6,0.8,1.0],\n",
    "              \"n_estimators\" : [10,25,50,80,100],\n",
    "              \"min_samples_split\": [2, 3, 10],\n",
    "              \"min_samples_leaf\": [2, 3, 10],\n",
    "              \"criterion\": [\"mse\",\"friedman_mse\"],\n",
    "              \"bootstrap\": [True, False]}\n",
    "\n",
    "# run randomized search\n",
    "random_search = RandomizedSearchCV(estimator = extra, param_distributions=param_dist, n_jobs = 2, cv = 5)\n",
    "\n",
    "start = time.time()\n",
    "print (\"Fitting... Inicio: {} \".format(time.strftime(\"%X\")))\n",
    "random_search.fit(X, y)\n",
    "print(\"RandomizedSearchCV took %.2f seconds for %d candidates parameter settings.\" % ((time.time() - start), len(random_search.cv_results_['params'])))\n",
    "report(random_search.cv_results_)"
   ]
  },
  {
   "cell_type": "markdown",
   "metadata": {},
   "source": [
    "## Grid search"
   ]
  },
  {
   "cell_type": "code",
   "execution_count": 13,
   "metadata": {},
   "outputs": [
    {
     "name": "stdout",
     "output_type": "stream",
     "text": [
      "Fitting... Inicio: 20:51:21 \n"
     ]
    },
    {
     "ename": "KeyboardInterrupt",
     "evalue": "",
     "output_type": "error",
     "traceback": [
      "\u001b[0;31m---------------------------------------------------------------------------\u001b[0m",
      "\u001b[0;31mKeyboardInterrupt\u001b[0m                         Traceback (most recent call last)",
      "\u001b[0;32m<ipython-input-13-5a1bd89a81a0>\u001b[0m in \u001b[0;36m<module>\u001b[0;34m()\u001b[0m\n\u001b[1;32m     37\u001b[0m \u001b[0mstart\u001b[0m \u001b[0;34m=\u001b[0m \u001b[0mtime\u001b[0m\u001b[0;34m.\u001b[0m\u001b[0mtime\u001b[0m\u001b[0;34m(\u001b[0m\u001b[0;34m)\u001b[0m\u001b[0;34m\u001b[0m\u001b[0m\n\u001b[1;32m     38\u001b[0m \u001b[0mprint\u001b[0m \u001b[0;34m(\u001b[0m\u001b[0;34m\"Fitting... Inicio: {} \"\u001b[0m\u001b[0;34m.\u001b[0m\u001b[0mformat\u001b[0m\u001b[0;34m(\u001b[0m\u001b[0mtime\u001b[0m\u001b[0;34m.\u001b[0m\u001b[0mstrftime\u001b[0m\u001b[0;34m(\u001b[0m\u001b[0;34m\"%X\"\u001b[0m\u001b[0;34m)\u001b[0m\u001b[0;34m)\u001b[0m\u001b[0;34m)\u001b[0m\u001b[0;34m\u001b[0m\u001b[0m\n\u001b[0;32m---> 39\u001b[0;31m \u001b[0mgrid_search\u001b[0m\u001b[0;34m.\u001b[0m\u001b[0mfit\u001b[0m\u001b[0;34m(\u001b[0m\u001b[0mX\u001b[0m\u001b[0;34m,\u001b[0m \u001b[0my\u001b[0m\u001b[0;34m)\u001b[0m\u001b[0;34m\u001b[0m\u001b[0m\n\u001b[0m\u001b[1;32m     40\u001b[0m \u001b[0;34m\u001b[0m\u001b[0m\n\u001b[1;32m     41\u001b[0m print(\"GridSearchCV took %.2f seconds for %d candidate parameter settings.\"\n",
      "\u001b[0;32m~/anaconda3/lib/python3.6/site-packages/sklearn/model_selection/_search.py\u001b[0m in \u001b[0;36mfit\u001b[0;34m(self, X, y, groups, **fit_params)\u001b[0m\n\u001b[1;32m    637\u001b[0m                                   error_score=self.error_score)\n\u001b[1;32m    638\u001b[0m           for parameters, (train, test) in product(candidate_params,\n\u001b[0;32m--> 639\u001b[0;31m                                                    cv.split(X, y, groups)))\n\u001b[0m\u001b[1;32m    640\u001b[0m \u001b[0;34m\u001b[0m\u001b[0m\n\u001b[1;32m    641\u001b[0m         \u001b[0;31m# if one choose to see train score, \"out\" will contain train score info\u001b[0m\u001b[0;34m\u001b[0m\u001b[0;34m\u001b[0m\u001b[0m\n",
      "\u001b[0;32m~/anaconda3/lib/python3.6/site-packages/sklearn/externals/joblib/parallel.py\u001b[0m in \u001b[0;36m__call__\u001b[0;34m(self, iterable)\u001b[0m\n\u001b[1;32m    787\u001b[0m                 \u001b[0;31m# consumption.\u001b[0m\u001b[0;34m\u001b[0m\u001b[0;34m\u001b[0m\u001b[0m\n\u001b[1;32m    788\u001b[0m                 \u001b[0mself\u001b[0m\u001b[0;34m.\u001b[0m\u001b[0m_iterating\u001b[0m \u001b[0;34m=\u001b[0m \u001b[0;32mFalse\u001b[0m\u001b[0;34m\u001b[0m\u001b[0m\n\u001b[0;32m--> 789\u001b[0;31m             \u001b[0mself\u001b[0m\u001b[0;34m.\u001b[0m\u001b[0mretrieve\u001b[0m\u001b[0;34m(\u001b[0m\u001b[0;34m)\u001b[0m\u001b[0;34m\u001b[0m\u001b[0m\n\u001b[0m\u001b[1;32m    790\u001b[0m             \u001b[0;31m# Make sure that we get a last message telling us we are done\u001b[0m\u001b[0;34m\u001b[0m\u001b[0;34m\u001b[0m\u001b[0m\n\u001b[1;32m    791\u001b[0m             \u001b[0melapsed_time\u001b[0m \u001b[0;34m=\u001b[0m \u001b[0mtime\u001b[0m\u001b[0;34m.\u001b[0m\u001b[0mtime\u001b[0m\u001b[0;34m(\u001b[0m\u001b[0;34m)\u001b[0m \u001b[0;34m-\u001b[0m \u001b[0mself\u001b[0m\u001b[0;34m.\u001b[0m\u001b[0m_start_time\u001b[0m\u001b[0;34m\u001b[0m\u001b[0m\n",
      "\u001b[0;32m~/anaconda3/lib/python3.6/site-packages/sklearn/externals/joblib/parallel.py\u001b[0m in \u001b[0;36mretrieve\u001b[0;34m(self)\u001b[0m\n\u001b[1;32m    697\u001b[0m             \u001b[0;32mtry\u001b[0m\u001b[0;34m:\u001b[0m\u001b[0;34m\u001b[0m\u001b[0m\n\u001b[1;32m    698\u001b[0m                 \u001b[0;32mif\u001b[0m \u001b[0mgetattr\u001b[0m\u001b[0;34m(\u001b[0m\u001b[0mself\u001b[0m\u001b[0;34m.\u001b[0m\u001b[0m_backend\u001b[0m\u001b[0;34m,\u001b[0m \u001b[0;34m'supports_timeout'\u001b[0m\u001b[0;34m,\u001b[0m \u001b[0;32mFalse\u001b[0m\u001b[0;34m)\u001b[0m\u001b[0;34m:\u001b[0m\u001b[0;34m\u001b[0m\u001b[0m\n\u001b[0;32m--> 699\u001b[0;31m                     \u001b[0mself\u001b[0m\u001b[0;34m.\u001b[0m\u001b[0m_output\u001b[0m\u001b[0;34m.\u001b[0m\u001b[0mextend\u001b[0m\u001b[0;34m(\u001b[0m\u001b[0mjob\u001b[0m\u001b[0;34m.\u001b[0m\u001b[0mget\u001b[0m\u001b[0;34m(\u001b[0m\u001b[0mtimeout\u001b[0m\u001b[0;34m=\u001b[0m\u001b[0mself\u001b[0m\u001b[0;34m.\u001b[0m\u001b[0mtimeout\u001b[0m\u001b[0;34m)\u001b[0m\u001b[0;34m)\u001b[0m\u001b[0;34m\u001b[0m\u001b[0m\n\u001b[0m\u001b[1;32m    700\u001b[0m                 \u001b[0;32melse\u001b[0m\u001b[0;34m:\u001b[0m\u001b[0;34m\u001b[0m\u001b[0m\n\u001b[1;32m    701\u001b[0m                     \u001b[0mself\u001b[0m\u001b[0;34m.\u001b[0m\u001b[0m_output\u001b[0m\u001b[0;34m.\u001b[0m\u001b[0mextend\u001b[0m\u001b[0;34m(\u001b[0m\u001b[0mjob\u001b[0m\u001b[0;34m.\u001b[0m\u001b[0mget\u001b[0m\u001b[0;34m(\u001b[0m\u001b[0;34m)\u001b[0m\u001b[0;34m)\u001b[0m\u001b[0;34m\u001b[0m\u001b[0m\n",
      "\u001b[0;32m~/anaconda3/lib/python3.6/multiprocessing/pool.py\u001b[0m in \u001b[0;36mget\u001b[0;34m(self, timeout)\u001b[0m\n\u001b[1;32m    636\u001b[0m \u001b[0;34m\u001b[0m\u001b[0m\n\u001b[1;32m    637\u001b[0m     \u001b[0;32mdef\u001b[0m \u001b[0mget\u001b[0m\u001b[0;34m(\u001b[0m\u001b[0mself\u001b[0m\u001b[0;34m,\u001b[0m \u001b[0mtimeout\u001b[0m\u001b[0;34m=\u001b[0m\u001b[0;32mNone\u001b[0m\u001b[0;34m)\u001b[0m\u001b[0;34m:\u001b[0m\u001b[0;34m\u001b[0m\u001b[0m\n\u001b[0;32m--> 638\u001b[0;31m         \u001b[0mself\u001b[0m\u001b[0;34m.\u001b[0m\u001b[0mwait\u001b[0m\u001b[0;34m(\u001b[0m\u001b[0mtimeout\u001b[0m\u001b[0;34m)\u001b[0m\u001b[0;34m\u001b[0m\u001b[0m\n\u001b[0m\u001b[1;32m    639\u001b[0m         \u001b[0;32mif\u001b[0m \u001b[0;32mnot\u001b[0m \u001b[0mself\u001b[0m\u001b[0;34m.\u001b[0m\u001b[0mready\u001b[0m\u001b[0;34m(\u001b[0m\u001b[0;34m)\u001b[0m\u001b[0;34m:\u001b[0m\u001b[0;34m\u001b[0m\u001b[0m\n\u001b[1;32m    640\u001b[0m             \u001b[0;32mraise\u001b[0m \u001b[0mTimeoutError\u001b[0m\u001b[0;34m\u001b[0m\u001b[0m\n",
      "\u001b[0;32m~/anaconda3/lib/python3.6/multiprocessing/pool.py\u001b[0m in \u001b[0;36mwait\u001b[0;34m(self, timeout)\u001b[0m\n\u001b[1;32m    633\u001b[0m \u001b[0;34m\u001b[0m\u001b[0m\n\u001b[1;32m    634\u001b[0m     \u001b[0;32mdef\u001b[0m \u001b[0mwait\u001b[0m\u001b[0;34m(\u001b[0m\u001b[0mself\u001b[0m\u001b[0;34m,\u001b[0m \u001b[0mtimeout\u001b[0m\u001b[0;34m=\u001b[0m\u001b[0;32mNone\u001b[0m\u001b[0;34m)\u001b[0m\u001b[0;34m:\u001b[0m\u001b[0;34m\u001b[0m\u001b[0m\n\u001b[0;32m--> 635\u001b[0;31m         \u001b[0mself\u001b[0m\u001b[0;34m.\u001b[0m\u001b[0m_event\u001b[0m\u001b[0;34m.\u001b[0m\u001b[0mwait\u001b[0m\u001b[0;34m(\u001b[0m\u001b[0mtimeout\u001b[0m\u001b[0;34m)\u001b[0m\u001b[0;34m\u001b[0m\u001b[0m\n\u001b[0m\u001b[1;32m    636\u001b[0m \u001b[0;34m\u001b[0m\u001b[0m\n\u001b[1;32m    637\u001b[0m     \u001b[0;32mdef\u001b[0m \u001b[0mget\u001b[0m\u001b[0;34m(\u001b[0m\u001b[0mself\u001b[0m\u001b[0;34m,\u001b[0m \u001b[0mtimeout\u001b[0m\u001b[0;34m=\u001b[0m\u001b[0;32mNone\u001b[0m\u001b[0;34m)\u001b[0m\u001b[0;34m:\u001b[0m\u001b[0;34m\u001b[0m\u001b[0m\n",
      "\u001b[0;32m~/anaconda3/lib/python3.6/threading.py\u001b[0m in \u001b[0;36mwait\u001b[0;34m(self, timeout)\u001b[0m\n\u001b[1;32m    549\u001b[0m             \u001b[0msignaled\u001b[0m \u001b[0;34m=\u001b[0m \u001b[0mself\u001b[0m\u001b[0;34m.\u001b[0m\u001b[0m_flag\u001b[0m\u001b[0;34m\u001b[0m\u001b[0m\n\u001b[1;32m    550\u001b[0m             \u001b[0;32mif\u001b[0m \u001b[0;32mnot\u001b[0m \u001b[0msignaled\u001b[0m\u001b[0;34m:\u001b[0m\u001b[0;34m\u001b[0m\u001b[0m\n\u001b[0;32m--> 551\u001b[0;31m                 \u001b[0msignaled\u001b[0m \u001b[0;34m=\u001b[0m \u001b[0mself\u001b[0m\u001b[0;34m.\u001b[0m\u001b[0m_cond\u001b[0m\u001b[0;34m.\u001b[0m\u001b[0mwait\u001b[0m\u001b[0;34m(\u001b[0m\u001b[0mtimeout\u001b[0m\u001b[0;34m)\u001b[0m\u001b[0;34m\u001b[0m\u001b[0m\n\u001b[0m\u001b[1;32m    552\u001b[0m             \u001b[0;32mreturn\u001b[0m \u001b[0msignaled\u001b[0m\u001b[0;34m\u001b[0m\u001b[0m\n\u001b[1;32m    553\u001b[0m \u001b[0;34m\u001b[0m\u001b[0m\n",
      "\u001b[0;32m~/anaconda3/lib/python3.6/threading.py\u001b[0m in \u001b[0;36mwait\u001b[0;34m(self, timeout)\u001b[0m\n\u001b[1;32m    293\u001b[0m         \u001b[0;32mtry\u001b[0m\u001b[0;34m:\u001b[0m    \u001b[0;31m# restore state no matter what (e.g., KeyboardInterrupt)\u001b[0m\u001b[0;34m\u001b[0m\u001b[0m\n\u001b[1;32m    294\u001b[0m             \u001b[0;32mif\u001b[0m \u001b[0mtimeout\u001b[0m \u001b[0;32mis\u001b[0m \u001b[0;32mNone\u001b[0m\u001b[0;34m:\u001b[0m\u001b[0;34m\u001b[0m\u001b[0m\n\u001b[0;32m--> 295\u001b[0;31m                 \u001b[0mwaiter\u001b[0m\u001b[0;34m.\u001b[0m\u001b[0macquire\u001b[0m\u001b[0;34m(\u001b[0m\u001b[0;34m)\u001b[0m\u001b[0;34m\u001b[0m\u001b[0m\n\u001b[0m\u001b[1;32m    296\u001b[0m                 \u001b[0mgotit\u001b[0m \u001b[0;34m=\u001b[0m \u001b[0;32mTrue\u001b[0m\u001b[0;34m\u001b[0m\u001b[0m\n\u001b[1;32m    297\u001b[0m             \u001b[0;32melse\u001b[0m\u001b[0;34m:\u001b[0m\u001b[0;34m\u001b[0m\u001b[0m\n",
      "\u001b[0;31mKeyboardInterrupt\u001b[0m: "
     ]
    }
   ],
   "source": [
    "from sklearn.tree import DecisionTreeRegressor\n",
    "\n",
    "columnas = ['idaviso','idpostulante_code','edad', 'estado_code', 'sexo_code',\n",
    "       'nombre_code', 'nombre_area_code', 'denominacion_empresa_code',\n",
    "       'nivel_laboral_code', 'tipo_de_trabajo_code', 'nombre_zona_code']\n",
    "\n",
    "# Utility function to report best scores\n",
    "def report(results, n_top=3):\n",
    "    for i in range(1, n_top + 1):\n",
    "        candidates = np.flatnonzero(results['rank_test_score'] == i)\n",
    "        for candidate in candidates:\n",
    "            print(\"Model with rank: {0}\".format(i))\n",
    "            print(\"Mean validation score: {0:.3f} (std: {1:.3f})\".format(\n",
    "                  (results['mean_test_score'][candidate])*100,\n",
    "                  results['std_test_score'][candidate]))\n",
    "            print(\"Parameters: {0}\".format(results['params'][candidate]))\n",
    "            print(\"\")\n",
    "\n",
    "# use a full grid over all parameters\n",
    "param_grid = {\"max_depth\": [3, None,5,10,1],\n",
    "              \"max_features\": [0.2,0.4,0.6,0.8,1.0],\n",
    "              \"splitter\" : [\"random\",\"best\"],\n",
    "              \"min_samples_split\": [2, 3],\n",
    "              \"min_samples_leaf\": [1, 3, 10],\n",
    "              \"criterion\": [\"mse\",\"friedman_mse\"]}\n",
    "\n",
    "X,y = trainingSet,trainingSet.se_postulo\n",
    "X = X[columnas]\n",
    "\n",
    "#X_train, X_test, y_train, y_test = train_test_split(X, y, test_size=0.3, random_state=0)\n",
    "#Tambien probar con columnas corr\n",
    "\n",
    "tree = DecisionTreeRegressor()\n",
    "\n",
    "# run grid search\n",
    "grid_search = GridSearchCV(estimator = tree, param_grid=param_grid,n_jobs= 2,cv = 15)\n",
    "start = time.time()\n",
    "print (\"Fitting... Inicio: {} \".format(time.strftime(\"%X\")))\n",
    "grid_search.fit(X, y)\n",
    "\n",
    "print(\"GridSearchCV took %.2f seconds for %d candidate parameter settings.\"\n",
    "      % (time.time() - start, len(grid_search.cv_results_['params'])))\n",
    "report(grid_search.cv_results_)"
   ]
  },
  {
   "cell_type": "code",
   "execution_count": null,
   "metadata": {},
   "outputs": [],
   "source": []
  },
  {
   "cell_type": "markdown",
   "metadata": {},
   "source": [
    "# GradientBoostingClassifier"
   ]
  },
  {
   "cell_type": "code",
   "execution_count": 1,
   "metadata": {},
   "outputs": [],
   "source": [
    "import pandas as pd\n",
    "import numpy as np\n",
    "from sklearn.ensemble import GradientBoostingClassifier  #GBM algorithm\n",
    "from sklearn import metrics   #Additional scklearn functions\n",
    "from sklearn.model_selection import GridSearchCV   #Perforing grid search\n",
    "from sklearn.preprocessing import LabelEncoder\n",
    "from pandas.api.types import CategoricalDtype\n",
    "\n",
    "import matplotlib.pylab as plt\n",
    "%matplotlib inline\n",
    "from matplotlib.pylab import rcParams\n",
    "rcParams['figure.figsize'] = 12, 4"
   ]
  },
  {
   "cell_type": "markdown",
   "metadata": {},
   "source": [
    "# Utilizando datasets sin encoding"
   ]
  },
  {
   "cell_type": "code",
   "execution_count": 2,
   "metadata": {},
   "outputs": [],
   "source": [
    "dtypes = pd.Series({'sepostulo': np.dtype('uint8'),'edad': np.dtype('uint16')})\n",
    "\n",
    "dtypes_col = dtypes.index\n",
    "dtypes_type = [i.name for i in dtypes.values]\n",
    "\n",
    "column_types = dict(zip(dtypes_col, dtypes_type))\n",
    "\n",
    "trainingSet = pd.read_csv('/home/lucio/Documentos/Datos/NaventDatosTP/Data/TRAINING_SET_SIN_ENCODING.csv',dtype=column_types)\n",
    "trainingSet.drop(['Unnamed: 0','denominacion_empresa'],axis=1,inplace=True)\n",
    "trainingSet[[\"sexo\",'nombre','estado','nombre_zona',\n",
    "             'tipo_de_trabajo','nivel_laboral',\n",
    "             'nombre_area']] = trainingSet[[\"sexo\",'nombre','estado','nombre_zona',\n",
    "                                            'tipo_de_trabajo','nivel_laboral',\n",
    "                                            'nombre_area']].astype('category')"
   ]
  },
  {
   "cell_type": "code",
   "execution_count": 5,
   "metadata": {},
   "outputs": [
    {
     "name": "stdout",
     "output_type": "stream",
     "text": [
      "<class 'pandas.core.frame.DataFrame'>\n",
      "RangeIndex: 9439964 entries, 0 to 9439963\n",
      "Data columns (total 9 columns):\n",
      "sepostulo          uint8\n",
      "sexo               category\n",
      "nombre             category\n",
      "estado             category\n",
      "edad               uint16\n",
      "nombre_zona        category\n",
      "tipo_de_trabajo    category\n",
      "nivel_laboral      category\n",
      "nombre_area        category\n",
      "dtypes: category(7), uint16(1), uint8(1)\n",
      "memory usage: 99.0 MB\n"
     ]
    }
   ],
   "source": [
    "trainingSet.info()"
   ]
  },
  {
   "cell_type": "markdown",
   "metadata": {},
   "source": [
    "# Me quedo con 1.5M de registros random"
   ]
  },
  {
   "cell_type": "code",
   "execution_count": 3,
   "metadata": {},
   "outputs": [],
   "source": [
    "trainingSet_samples = trainingSet.sample(n=1500000,random_state=50)"
   ]
  },
  {
   "cell_type": "code",
   "execution_count": 4,
   "metadata": {},
   "outputs": [
    {
     "data": {
      "text/plain": [
       "1    942921\n",
       "0    557079\n",
       "Name: sepostulo, dtype: int64"
      ]
     },
     "execution_count": 4,
     "metadata": {},
     "output_type": "execute_result"
    }
   ],
   "source": [
    "trainingSet_samples['sepostulo'].value_counts()"
   ]
  },
  {
   "cell_type": "markdown",
   "metadata": {},
   "source": [
    "# Hago dummificacion"
   ]
  },
  {
   "cell_type": "code",
   "execution_count": 4,
   "metadata": {},
   "outputs": [],
   "source": [
    "trainingSet_samples = trainingSet_samples.join(pd.get_dummies(trainingSet_samples.sexo))\n",
    "\n",
    "trainingSet_samples.drop('sexo',axis=1, inplace=True)\n",
    "\n",
    "trainingSet_samples = trainingSet_samples.join(pd.get_dummies(trainingSet_samples.nombre))\n",
    "\n",
    "trainingSet_samples.drop('nombre',axis=1, inplace=True)\n",
    "\n",
    "trainingSet_samples = trainingSet_samples.join(pd.get_dummies(trainingSet_samples.estado))\n",
    "\n",
    "trainingSet_samples.drop('estado',axis=1, inplace=True)\n",
    "\n",
    "trainingSet_samples = trainingSet_samples.join(pd.get_dummies(trainingSet_samples.nombre_zona))\n",
    "\n",
    "trainingSet_samples.drop('nombre_zona',axis=1, inplace=True)\n",
    "\n",
    "trainingSet_samples = trainingSet_samples.join(pd.get_dummies(trainingSet_samples.tipo_de_trabajo))\n",
    "\n",
    "trainingSet_samples.drop('tipo_de_trabajo',axis=1, inplace=True)\n",
    "\n",
    "trainingSet_samples = trainingSet_samples.join(pd.get_dummies(trainingSet_samples.nivel_laboral,\n",
    "                                                             prefix=\"Nivel_laboral\"))\n",
    "\n",
    "trainingSet_samples.drop('nivel_laboral',axis=1, inplace=True)\n",
    "\n",
    "#trainingSet_samples = trainingSet_samples.join(pd.get_dummies(trainingSet_samples.nombre_area))\n",
    "# LO SAQUE PORQUE MI MAQUINA NO SE BANCA POR AHI LA DE UDS SI AUNQUE AGREGA MUCHAS COLUMAS(188)\n",
    "\n",
    "trainingSet_samples.drop('nombre_area',axis=1, inplace=True)"
   ]
  },
  {
   "cell_type": "code",
   "execution_count": 6,
   "metadata": {},
   "outputs": [
    {
     "name": "stdout",
     "output_type": "stream",
     "text": [
      "confusion matrix\n",
      "[[  2056 164830]\n",
      " [  1370 281744]]\n",
      "classification report\n",
      "             precision    recall  f1-score   support\n",
      "\n",
      "          0       0.60      0.01      0.02    166886\n",
      "          1       0.63      1.00      0.77    283114\n",
      "\n",
      "avg / total       0.62      0.63      0.49    450000\n",
      "\n",
      "-----------------------------------------------------------------------------------------\n",
      "Accuracy is :\n",
      "0.6306666666666667\n",
      "Area under the curve : 0.503740\n"
     ]
    }
   ],
   "source": [
    "from sklearn import ensemble\n",
    "from sklearn import metrics\n",
    "\n",
    "from sklearn.model_selection import train_test_split\n",
    "columnas = trainingSet_samples.columns.drop(\"sepostulo\")\n",
    "xtrain, xtest, ytrain, ytest = train_test_split(trainingSet_samples[columnas], \n",
    "                                        trainingSet_samples['sepostulo'],test_size=0.30, random_state=12)\n",
    "\n",
    "params = {'n_estimators': 500, 'max_depth': 3, 'subsample': 0.5,\n",
    "          'learning_rate': 0.01, 'min_samples_leaf': 1, 'random_state': 3}\n",
    "clf = ensemble.GradientBoostingClassifier(**params)\n",
    "clf.fit(xtrain, ytrain) #trains\n",
    "y_pred = clf.predict(xtest)  #predicts\n",
    "print('confusion matrix')\n",
    "print(metrics.confusion_matrix(ytest, y_pred))\n",
    "print('classification report')\n",
    "print(metrics.classification_report(ytest, y_pred))\n",
    "print(\"-----------------------------------------------------------------------------------------\")\n",
    "print(\"Accuracy is :\")\n",
    "print(metrics.accuracy_score(ytest, y_pred))\n",
    "print('Area under the curve : %f' % (metrics.roc_auc_score(ytest, y_pred)))"
   ]
  },
  {
   "cell_type": "code",
   "execution_count": 7,
   "metadata": {},
   "outputs": [],
   "source": [
    "'''We are taking 10% of non frauds and merge it with frauds data'''\n",
    "\n",
    "si_sepostulo = trainingSet_samples[trainingSet_samples['sepostulo'] ==1]\n",
    "no_sepostulo = trainingSet_samples[trainingSet_samples['sepostulo'] == 0]\n",
    "\n",
    "# random sampling\n",
    "ignore_me, si_sepostulo = train_test_split(si_sepostulo, test_size = 0.1)"
   ]
  },
  {
   "cell_type": "code",
   "execution_count": 8,
   "metadata": {},
   "outputs": [],
   "source": [
    "import warnings\n",
    "warnings.filterwarnings(\"ignore\")\n",
    "\n",
    "si_sepostulo = pd.concat([si_sepostulo, no_sepostulo])\n",
    "\n",
    "# Split into train and test units.\n",
    "xtrain, xtest = train_test_split(si_sepostulo, test_size = 0.3)\n",
    "ytrain = xtrain['sepostulo']\n",
    "ytest = xtest['sepostulo']\n",
    "xtrain.drop('sepostulo', 1, inplace = True)\n",
    "xtest.drop('sepostulo', 1, inplace = True)"
   ]
  },
  {
   "cell_type": "code",
   "execution_count": 9,
   "metadata": {},
   "outputs": [
    {
     "name": "stdout",
     "output_type": "stream",
     "text": [
      "confusion matrix\n",
      "[[167015      0]\n",
      " [ 28394      3]]\n",
      "classification report\n",
      "             precision    recall  f1-score   support\n",
      "\n",
      "          0       0.85      1.00      0.92    167015\n",
      "          1       1.00      0.00      0.00     28397\n",
      "\n",
      "avg / total       0.88      0.85      0.79    195412\n",
      "\n",
      "-----------------------------------------------------------------------------------------\n",
      "Accuracy is :\n",
      "0.8546967432910978\n",
      "Area under the curve : 0.500053\n"
     ]
    }
   ],
   "source": [
    "params = {'n_estimators': 500, 'max_depth': 3, 'subsample': 0.5,\n",
    "          'learning_rate': 0.01, 'min_samples_leaf': 1, 'random_state': 3}\n",
    "clf = ensemble.GradientBoostingClassifier(**params)\n",
    "clf.fit(xtrain, ytrain) #trains\n",
    "y_pred = clf.predict(xtest)  #predicts\n",
    "print('confusion matrix')\n",
    "print(metrics.confusion_matrix(ytest, y_pred))\n",
    "print('classification report')\n",
    "print(metrics.classification_report(ytest, y_pred))\n",
    "print(\"-----------------------------------------------------------------------------------------\")\n",
    "print(\"Accuracy is :\")\n",
    "print(metrics.accuracy_score(ytest, y_pred))\n",
    "print('Area under the curve : %f' % (metrics.roc_auc_score(ytest, y_pred)))"
   ]
  },
  {
   "cell_type": "markdown",
   "metadata": {},
   "source": [
    "# Hago over sampling"
   ]
  },
  {
   "cell_type": "code",
   "execution_count": 13,
   "metadata": {},
   "outputs": [],
   "source": [
    "from sklearn.model_selection import train_test_split\n",
    "columnas = trainingSet_samples.columns.drop(\"sepostulo\")\n",
    "x_train, x_val, y_train, y_val = train_test_split(trainingSet_samples[columnas], \n",
    "                                        trainingSet_samples['sepostulo'],test_size = .1,random_state=12)"
   ]
  },
  {
   "cell_type": "code",
   "execution_count": 14,
   "metadata": {},
   "outputs": [
    {
     "name": "stderr",
     "output_type": "stream",
     "text": [
      "/home/lucio/Documentos/Datos/lib/python3.6/site-packages/sklearn/utils/deprecation.py:77: DeprecationWarning: Function _ratio_float is deprecated; Use a float for 'ratio' is deprecated from version 0.2. The support will be removed in 0.4. Use a dict, str, or a callable instead.\n",
      "  warnings.warn(msg, category=DeprecationWarning)\n"
     ]
    }
   ],
   "source": [
    "from imblearn.over_sampling import SMOTE\n",
    "sm = SMOTE(random_state=12, ratio = 1.0)\n",
    "x_train_res, y_train_res = sm.fit_sample(x_train, y_train)"
   ]
  },
  {
   "cell_type": "code",
   "execution_count": 17,
   "metadata": {},
   "outputs": [
    {
     "name": "stdout",
     "output_type": "stream",
     "text": [
      "Validation Results\n",
      "0.5353\n"
     ]
    },
    {
     "ename": "NameError",
     "evalue": "name 'recall_score' is not defined",
     "output_type": "error",
     "traceback": [
      "\u001b[0;31m---------------------------------------------------------------------------\u001b[0m",
      "\u001b[0;31mNameError\u001b[0m                                 Traceback (most recent call last)",
      "\u001b[0;32m<ipython-input-17-602db856bc6a>\u001b[0m in \u001b[0;36m<module>\u001b[0;34m()\u001b[0m\n\u001b[1;32m      9\u001b[0m \u001b[0mprint\u001b[0m \u001b[0;34m(\u001b[0m\u001b[0;34m'Validation Results'\u001b[0m\u001b[0;34m)\u001b[0m\u001b[0;34m\u001b[0m\u001b[0m\n\u001b[1;32m     10\u001b[0m \u001b[0mprint\u001b[0m \u001b[0;34m(\u001b[0m\u001b[0mgbm0\u001b[0m\u001b[0;34m.\u001b[0m\u001b[0mscore\u001b[0m\u001b[0;34m(\u001b[0m\u001b[0mx_val\u001b[0m\u001b[0;34m,\u001b[0m \u001b[0my_val\u001b[0m\u001b[0;34m)\u001b[0m\u001b[0;34m)\u001b[0m\u001b[0;34m\u001b[0m\u001b[0m\n\u001b[0;32m---> 11\u001b[0;31m \u001b[0mprint\u001b[0m \u001b[0;34m(\u001b[0m\u001b[0mrecall_score\u001b[0m\u001b[0;34m(\u001b[0m\u001b[0my_val\u001b[0m\u001b[0;34m,\u001b[0m \u001b[0mgbm0\u001b[0m\u001b[0;34m.\u001b[0m\u001b[0mpredict\u001b[0m\u001b[0;34m(\u001b[0m\u001b[0mx_val\u001b[0m\u001b[0;34m)\u001b[0m\u001b[0;34m)\u001b[0m\u001b[0;34m)\u001b[0m\u001b[0;34m\u001b[0m\u001b[0m\n\u001b[0m",
      "\u001b[0;31mNameError\u001b[0m: name 'recall_score' is not defined"
     ]
    }
   ],
   "source": [
    "from sklearn.metrics import recall_score\n",
    "gbm0 = GradientBoostingClassifier(random_state=10)\n",
    "\n",
    "performCV=True\n",
    "printFeatureImportance=True\n",
    "cv_folds=5\n",
    "#Fit the algorithm on the data\n",
    "gbm0.fit(x_train_res, y_train_res)\n",
    "\n",
    "print ('Validation Results')\n",
    "print (gbm0.score(x_val, y_val))\n",
    "y_pred = gbm0.predict(x_val)  #predicts\n",
    "print('confusion matrix')\n",
    "print(metrics.confusion_matrix(y_val, y_pred))\n",
    "print('classification report')\n",
    "print(metrics.classification_report(y_val, y_pred))\n",
    "print(\"-----------------------------------------------------------------------------------------\")\n",
    "print(\"Accuracy is :\")\n",
    "print(metrics.accuracy_score(y_val, y_pred))\n",
    "print('Area under the curve : %f' % (metrics.roc_auc_score(y_val, y_pred)))"
   ]
  },
  {
   "cell_type": "code",
   "execution_count": 6,
   "metadata": {},
   "outputs": [
    {
     "ename": "MemoryError",
     "evalue": "",
     "output_type": "error",
     "traceback": [
      "\u001b[0;31m---------------------------------------------------------------------------\u001b[0m",
      "\u001b[0;31mMemoryError\u001b[0m                               Traceback (most recent call last)",
      "\u001b[0;32m<ipython-input-6-3b76cc1fe566>\u001b[0m in \u001b[0;36m<module>\u001b[0;34m()\u001b[0m\n\u001b[1;32m      8\u001b[0m \u001b[0mcv_folds\u001b[0m\u001b[0;34m=\u001b[0m\u001b[0;36m5\u001b[0m\u001b[0;34m\u001b[0m\u001b[0m\n\u001b[1;32m      9\u001b[0m \u001b[0;31m#Fit the algorithm on the data\u001b[0m\u001b[0;34m\u001b[0m\u001b[0;34m\u001b[0m\u001b[0m\n\u001b[0;32m---> 10\u001b[0;31m \u001b[0mgbm0\u001b[0m\u001b[0;34m.\u001b[0m\u001b[0mfit\u001b[0m\u001b[0;34m(\u001b[0m\u001b[0mtrainingSet_samples\u001b[0m\u001b[0;34m[\u001b[0m\u001b[0mpredictors\u001b[0m\u001b[0;34m]\u001b[0m\u001b[0;34m,\u001b[0m \u001b[0mtrainingSet_samples\u001b[0m\u001b[0;34m[\u001b[0m\u001b[0;34m'sepostulo'\u001b[0m\u001b[0;34m]\u001b[0m\u001b[0;34m)\u001b[0m\u001b[0;34m\u001b[0m\u001b[0m\n\u001b[0m\u001b[1;32m     11\u001b[0m \u001b[0;34m\u001b[0m\u001b[0m\n\u001b[1;32m     12\u001b[0m \u001b[0;31m#Predict training set:\u001b[0m\u001b[0;34m\u001b[0m\u001b[0;34m\u001b[0m\u001b[0m\n",
      "\u001b[0;32m~/Documentos/Datos/lib/python3.6/site-packages/sklearn/ensemble/gradient_boosting.py\u001b[0m in \u001b[0;36mfit\u001b[0;34m(self, X, y, sample_weight, monitor)\u001b[0m\n\u001b[1;32m   1027\u001b[0m                 \u001b[0;32mraise\u001b[0m \u001b[0mValueError\u001b[0m\u001b[0;34m(\u001b[0m\u001b[0;34m\"Presorting is not supported for sparse matrices.\"\u001b[0m\u001b[0;34m)\u001b[0m\u001b[0;34m\u001b[0m\u001b[0m\n\u001b[1;32m   1028\u001b[0m             \u001b[0;32melse\u001b[0m\u001b[0;34m:\u001b[0m\u001b[0;34m\u001b[0m\u001b[0m\n\u001b[0;32m-> 1029\u001b[0;31m                 X_idx_sorted = np.asfortranarray(np.argsort(X, axis=0),\n\u001b[0m\u001b[1;32m   1030\u001b[0m                                                  dtype=np.int32)\n\u001b[1;32m   1031\u001b[0m \u001b[0;34m\u001b[0m\u001b[0m\n",
      "\u001b[0;32m~/Documentos/Datos/lib/python3.6/site-packages/numpy/core/fromnumeric.py\u001b[0m in \u001b[0;36margsort\u001b[0;34m(a, axis, kind, order)\u001b[0m\n\u001b[1;32m    938\u001b[0m \u001b[0;34m\u001b[0m\u001b[0m\n\u001b[1;32m    939\u001b[0m     \"\"\"\n\u001b[0;32m--> 940\u001b[0;31m     \u001b[0;32mreturn\u001b[0m \u001b[0m_wrapfunc\u001b[0m\u001b[0;34m(\u001b[0m\u001b[0ma\u001b[0m\u001b[0;34m,\u001b[0m \u001b[0;34m'argsort'\u001b[0m\u001b[0;34m,\u001b[0m \u001b[0maxis\u001b[0m\u001b[0;34m=\u001b[0m\u001b[0maxis\u001b[0m\u001b[0;34m,\u001b[0m \u001b[0mkind\u001b[0m\u001b[0;34m=\u001b[0m\u001b[0mkind\u001b[0m\u001b[0;34m,\u001b[0m \u001b[0morder\u001b[0m\u001b[0;34m=\u001b[0m\u001b[0morder\u001b[0m\u001b[0;34m)\u001b[0m\u001b[0;34m\u001b[0m\u001b[0m\n\u001b[0m\u001b[1;32m    941\u001b[0m \u001b[0;34m\u001b[0m\u001b[0m\n\u001b[1;32m    942\u001b[0m \u001b[0;34m\u001b[0m\u001b[0m\n",
      "\u001b[0;32m~/Documentos/Datos/lib/python3.6/site-packages/numpy/core/fromnumeric.py\u001b[0m in \u001b[0;36m_wrapfunc\u001b[0;34m(obj, method, *args, **kwds)\u001b[0m\n\u001b[1;32m     50\u001b[0m \u001b[0;32mdef\u001b[0m \u001b[0m_wrapfunc\u001b[0m\u001b[0;34m(\u001b[0m\u001b[0mobj\u001b[0m\u001b[0;34m,\u001b[0m \u001b[0mmethod\u001b[0m\u001b[0;34m,\u001b[0m \u001b[0;34m*\u001b[0m\u001b[0margs\u001b[0m\u001b[0;34m,\u001b[0m \u001b[0;34m**\u001b[0m\u001b[0mkwds\u001b[0m\u001b[0;34m)\u001b[0m\u001b[0;34m:\u001b[0m\u001b[0;34m\u001b[0m\u001b[0m\n\u001b[1;32m     51\u001b[0m     \u001b[0;32mtry\u001b[0m\u001b[0;34m:\u001b[0m\u001b[0;34m\u001b[0m\u001b[0m\n\u001b[0;32m---> 52\u001b[0;31m         \u001b[0;32mreturn\u001b[0m \u001b[0mgetattr\u001b[0m\u001b[0;34m(\u001b[0m\u001b[0mobj\u001b[0m\u001b[0;34m,\u001b[0m \u001b[0mmethod\u001b[0m\u001b[0;34m)\u001b[0m\u001b[0;34m(\u001b[0m\u001b[0;34m*\u001b[0m\u001b[0margs\u001b[0m\u001b[0;34m,\u001b[0m \u001b[0;34m**\u001b[0m\u001b[0mkwds\u001b[0m\u001b[0;34m)\u001b[0m\u001b[0;34m\u001b[0m\u001b[0m\n\u001b[0m\u001b[1;32m     53\u001b[0m \u001b[0;34m\u001b[0m\u001b[0m\n\u001b[1;32m     54\u001b[0m     \u001b[0;31m# An AttributeError occurs if the object does not have\u001b[0m\u001b[0;34m\u001b[0m\u001b[0;34m\u001b[0m\u001b[0m\n",
      "\u001b[0;31mMemoryError\u001b[0m: "
     ]
    }
   ],
   "source": [
    "#Choose all predictors except target & IDcols\n",
    "target = \"sepostulo\"\n",
    "predictors = [x for x in trainingSet_samples.columns if x not in [target]]\n",
    "gbm0 = GradientBoostingClassifier(random_state=10)\n",
    "\n",
    "performCV=True\n",
    "printFeatureImportance=True\n",
    "cv_folds=5\n",
    "#Fit the algorithm on the data\n",
    "gbm0.fit(trainingSet_samples[predictors], trainingSet_samples['sepostulo'])\n",
    "\n",
    "#Predict training set:\n",
    "dtrain_predictions = gbm0.predict(trainingSet_samples[predictors])\n",
    "dtrain_predprob = gbm0.predict_proba(trainingSet_samples[predictors])[:,1]\n",
    "\n",
    "#Perform cross-validation:\n",
    "if performCV:\n",
    "    cv_score = cross_validation.cross_val_score(gbm0, trainingSet_samples[predictors],\n",
    "                                                trainingSet_samples['sepostulo'],\n",
    "                                                cv=cv_folds, scoring='roc_auc')\n",
    "\n",
    "#Print model report:\n",
    "print (\"\\nModel Report\")\n",
    "print (\"Accuracy : %.4g\" % metrics.accuracy_score(trainingSet_samples['sepostulo'].values,\n",
    "                                                  dtrain_predictions))\n",
    "print (\"AUC Score (Train): %f\" % metrics.roc_auc_score(trainingSet_samples['sepostulo'], dtrain_predprob))\n",
    "\n",
    "if performCV:\n",
    "    print (\"CV Score : Mean - %.7g | Std - %.7g | Min - %.7g | Max - %.7g\" % \n",
    "           (np.mean(cv_score),np.std(cv_score),np.min(cv_score),np.max(cv_score)))\n",
    "\n",
    "#Print Feature Importance:\n",
    "if printFeatureImportance:\n",
    "    feat_imp = pd.Series(gbm0.feature_importances_, predictors).sort_values(ascending=False)\n",
    "    feat_imp.plot(kind='bar', title='Feature Importances')\n",
    "    plt.ylabel('Feature Importance Score')"
   ]
  },
  {
   "cell_type": "markdown",
   "metadata": {},
   "source": [
    "# TestingSet"
   ]
  },
  {
   "cell_type": "code",
   "execution_count": 10,
   "metadata": {},
   "outputs": [],
   "source": [
    "dtypes = pd.Series({'estado': CategoricalDtype(categories=['Abandonado', 'En Curso', 'Graduado'], \n",
    "                                               ordered=False), 'idpostulante': np.dtype('object'),\n",
    "                    'nombre': CategoricalDtype(categories=['Doctorado', 'Master', 'Otro', 'Posgrado',\n",
    "                            'Secundario','Terciario/Técnico', 'Universitario'],ordered=False),\n",
    "                    'sexo': CategoricalDtype(categories=['FEM', 'MASC', 'NO_DECLARA'], ordered=False)})\n",
    "\n",
    "dtypes_col = dtypes.index\n",
    "dtypes_type = [i.name for i in dtypes.values]\n",
    "\n",
    "column_types = dict(zip(dtypes_col, dtypes_type))\n",
    "\n",
    "testingSet_CON_NAN = pd.read_csv('/home/lucio/Documentos/Datos/NaventDatosTP/TestingSets/testingSet_CON_NAN.csv',dtype=column_types)\n",
    "testingSet_CON_NAN.drop('Unnamed: 0',inplace=True,axis=1)\n",
    "testingSet_CON_NAN.drop(columns=['idpostulante','denominacion_empresa','nombre_area'],inplace=True) #No sirve para el algoritmo de ML"
   ]
  },
  {
   "cell_type": "markdown",
   "metadata": {},
   "source": [
    "# Aplico dummificacion"
   ]
  },
  {
   "cell_type": "code",
   "execution_count": 11,
   "metadata": {},
   "outputs": [],
   "source": [
    "testingSet_CON_NAN = testingSet_CON_NAN.join(pd.get_dummies(testingSet_CON_NAN.sexo))\n",
    "\n",
    "testingSet_CON_NAN.drop('sexo',axis=1, inplace=True)\n",
    "\n",
    "testingSet_CON_NAN = testingSet_CON_NAN.join(pd.get_dummies(testingSet_CON_NAN.nombre))\n",
    "\n",
    "testingSet_CON_NAN.drop('nombre',axis=1, inplace=True)\n",
    "\n",
    "testingSet_CON_NAN = testingSet_CON_NAN.join(pd.get_dummies(testingSet_CON_NAN.estado))\n",
    "\n",
    "testingSet_CON_NAN.drop('estado',axis=1, inplace=True)\n",
    "\n",
    "testingSet_CON_NAN = testingSet_CON_NAN.join(pd.get_dummies(testingSet_CON_NAN.nombre_zona))\n",
    "\n",
    "testingSet_CON_NAN.drop('nombre_zona',axis=1, inplace=True)\n",
    "\n",
    "testingSet_CON_NAN = testingSet_CON_NAN.join(pd.get_dummies(testingSet_CON_NAN.tipo_de_trabajo))\n",
    "\n",
    "testingSet_CON_NAN.drop('tipo_de_trabajo',axis=1, inplace=True)\n",
    "\n",
    "testingSet_CON_NAN = testingSet_CON_NAN.join(pd.get_dummies(testingSet_CON_NAN.nivel_laboral,\n",
    "                                                             prefix=\"Nivel_laboral\"))\n",
    "\n",
    "testingSet_CON_NAN.drop('nivel_laboral',axis=1, inplace=True)\n",
    "\n",
    "#testingSet_CON_NAN = trainingSet_samples.join(pd.get_dummies(trainingSet_samples.nombre_area))"
   ]
  },
  {
   "cell_type": "code",
   "execution_count": 12,
   "metadata": {},
   "outputs": [],
   "source": [
    "# Get missing columns in the training test\n",
    "missing_cols = set( trainingSet_samples.columns ) - set( testingSet_CON_NAN.columns )\n",
    "# Add a missing column in test set with default value equal to 0\n",
    "for c in missing_cols:\n",
    "    testingSet_CON_NAN[c] = 0\n",
    "# Ensure the order of column in the test set is in the same order than in train set\n",
    "testingSet_CON_NAN = testingSet_CON_NAN[trainingSet_samples.columns]"
   ]
  },
  {
   "cell_type": "code",
   "execution_count": 15,
   "metadata": {},
   "outputs": [
    {
     "name": "stdout",
     "output_type": "stream",
     "text": [
      "<class 'pandas.core.frame.DataFrame'>\n",
      "RangeIndex: 100000 entries, 0 to 99999\n",
      "Data columns (total 42 columns):\n",
      "sepostulo                                             100000 non-null int64\n",
      "edad                                                  93375 non-null float64\n",
      "FEM                                                   100000 non-null uint8\n",
      "MASC                                                  100000 non-null uint8\n",
      "NO_DECLARA                                            100000 non-null uint8\n",
      "Doctorado                                             100000 non-null uint8\n",
      "Master                                                100000 non-null uint8\n",
      "Otro                                                  100000 non-null uint8\n",
      "Posgrado                                              100000 non-null uint8\n",
      "Secundario                                            100000 non-null uint8\n",
      "Terciario/Técnico                                     100000 non-null uint8\n",
      "Universitario                                         100000 non-null uint8\n",
      "Abandonado                                            100000 non-null uint8\n",
      "En Curso                                              100000 non-null uint8\n",
      "Graduado                                              100000 non-null uint8\n",
      "Buenos Aires (fuera de GBA)                           100000 non-null uint8\n",
      "Capital Federal                                       100000 non-null uint8\n",
      "Catamarca                                             100000 non-null uint8\n",
      "Cordoba                                               100000 non-null uint8\n",
      "Corrientes                                            100000 non-null uint8\n",
      "GBA Oeste                                             100000 non-null uint8\n",
      "Gran Buenos Aires                                     100000 non-null uint8\n",
      "La Plata                                              100000 non-null uint8\n",
      "Rosario                                               100000 non-null uint8\n",
      "San Juan                                              100000 non-null uint8\n",
      "Santa Cruz                                            100000 non-null uint8\n",
      "Tucuman                                               100000 non-null uint8\n",
      "Fines de Semana                                       100000 non-null uint8\n",
      "Full-time                                             100000 non-null uint8\n",
      "Part-time                                             100000 non-null uint8\n",
      "Pasantia                                              100000 non-null uint8\n",
      "Por Contrato                                          100000 non-null uint8\n",
      "Por Horas                                             100000 non-null uint8\n",
      "Primer empleo                                         100000 non-null uint8\n",
      "Teletrabajo                                           100000 non-null uint8\n",
      "Temporario                                            100000 non-null uint8\n",
      "Voluntario                                            100000 non-null int64\n",
      "Nivel_laboral_Gerencia / Alta Gerencia / Dirección    100000 non-null uint8\n",
      "Nivel_laboral_Jefe / Supervisor / Responsable         100000 non-null uint8\n",
      "Nivel_laboral_Junior                                  100000 non-null uint8\n",
      "Nivel_laboral_Otro                                    100000 non-null uint8\n",
      "Nivel_laboral_Senior / Semi-Senior                    100000 non-null uint8\n",
      "dtypes: float64(1), int64(2), uint8(39)\n",
      "memory usage: 6.0 MB\n"
     ]
    }
   ],
   "source": [
    "testingSet_CON_NAN.info()"
   ]
  },
  {
   "cell_type": "markdown",
   "metadata": {},
   "source": [
    "# Aplico imputing a la edad"
   ]
  },
  {
   "cell_type": "code",
   "execution_count": 13,
   "metadata": {},
   "outputs": [
    {
     "name": "stdout",
     "output_type": "stream",
     "text": [
      "<class 'pandas.core.frame.DataFrame'>\n",
      "RangeIndex: 100000 entries, 0 to 99999\n",
      "Data columns (total 42 columns):\n",
      "sepostulo                                             100000 non-null int64\n",
      "edad                                                  100000 non-null float64\n",
      "FEM                                                   100000 non-null uint8\n",
      "MASC                                                  100000 non-null uint8\n",
      "NO_DECLARA                                            100000 non-null uint8\n",
      "Doctorado                                             100000 non-null uint8\n",
      "Master                                                100000 non-null uint8\n",
      "Otro                                                  100000 non-null uint8\n",
      "Posgrado                                              100000 non-null uint8\n",
      "Secundario                                            100000 non-null uint8\n",
      "Terciario/Técnico                                     100000 non-null uint8\n",
      "Universitario                                         100000 non-null uint8\n",
      "Abandonado                                            100000 non-null uint8\n",
      "En Curso                                              100000 non-null uint8\n",
      "Graduado                                              100000 non-null uint8\n",
      "Buenos Aires (fuera de GBA)                           100000 non-null uint8\n",
      "Capital Federal                                       100000 non-null uint8\n",
      "Catamarca                                             100000 non-null uint8\n",
      "Cordoba                                               100000 non-null uint8\n",
      "Corrientes                                            100000 non-null uint8\n",
      "GBA Oeste                                             100000 non-null uint8\n",
      "Gran Buenos Aires                                     100000 non-null uint8\n",
      "La Plata                                              100000 non-null uint8\n",
      "Rosario                                               100000 non-null uint8\n",
      "San Juan                                              100000 non-null uint8\n",
      "Santa Cruz                                            100000 non-null uint8\n",
      "Tucuman                                               100000 non-null uint8\n",
      "Fines de Semana                                       100000 non-null uint8\n",
      "Full-time                                             100000 non-null uint8\n",
      "Part-time                                             100000 non-null uint8\n",
      "Pasantia                                              100000 non-null uint8\n",
      "Por Contrato                                          100000 non-null uint8\n",
      "Por Horas                                             100000 non-null uint8\n",
      "Primer empleo                                         100000 non-null uint8\n",
      "Teletrabajo                                           100000 non-null uint8\n",
      "Temporario                                            100000 non-null uint8\n",
      "Voluntario                                            100000 non-null int64\n",
      "Nivel_laboral_Gerencia / Alta Gerencia / Dirección    100000 non-null uint8\n",
      "Nivel_laboral_Jefe / Supervisor / Responsable         100000 non-null uint8\n",
      "Nivel_laboral_Junior                                  100000 non-null uint8\n",
      "Nivel_laboral_Otro                                    100000 non-null uint8\n",
      "Nivel_laboral_Senior / Semi-Senior                    100000 non-null uint8\n",
      "dtypes: float64(1), int64(2), uint8(39)\n",
      "memory usage: 6.0 MB\n"
     ]
    }
   ],
   "source": [
    "testingSet_CON_NAN['edad'].fillna(testingSet_CON_NAN['edad'].mode()[0],inplace=True)\n",
    "testingSet_CON_NAN.info()"
   ]
  },
  {
   "cell_type": "code",
   "execution_count": 14,
   "metadata": {},
   "outputs": [],
   "source": [
    "#Predict testing set:\n",
    "dtest_predictions = clf.predict(testingSet_CON_NAN[columnas])\n",
    "dtest_predprob = clf.predict_proba(testingSet_CON_NAN[columnas])[:,1]"
   ]
  },
  {
   "cell_type": "code",
   "execution_count": 15,
   "metadata": {},
   "outputs": [],
   "source": [
    "testingSet_CON_NAN['sepostulo'] = dtest_predictions"
   ]
  },
  {
   "cell_type": "code",
   "execution_count": 30,
   "metadata": {},
   "outputs": [
    {
     "data": {
      "text/plain": [
       "1    98809\n",
       "0     1191\n",
       "Name: sepostulo, dtype: int64"
      ]
     },
     "execution_count": 30,
     "metadata": {},
     "output_type": "execute_result"
    }
   ],
   "source": [
    "testingSet_CON_NAN['sepostulo'].value_counts()"
   ]
  },
  {
   "cell_type": "code",
   "execution_count": 26,
   "metadata": {},
   "outputs": [
    {
     "data": {
      "text/plain": [
       "0    51432\n",
       "1    48568\n",
       "Name: sepostulo, dtype: int64"
      ]
     },
     "execution_count": 26,
     "metadata": {},
     "output_type": "execute_result"
    }
   ],
   "source": [
    "testingSet_CON_NAN['sepostulo'].value_counts()"
   ]
  },
  {
   "cell_type": "code",
   "execution_count": 16,
   "metadata": {},
   "outputs": [
    {
     "data": {
      "text/plain": [
       "0    100000\n",
       "Name: sepostulo, dtype: int64"
      ]
     },
     "execution_count": 16,
     "metadata": {},
     "output_type": "execute_result"
    }
   ],
   "source": [
    "testingSet_CON_NAN['sepostulo'].value_counts()"
   ]
  },
  {
   "cell_type": "code",
   "execution_count": 27,
   "metadata": {},
   "outputs": [
    {
     "data": {
      "text/html": [
       "<div>\n",
       "<style scoped>\n",
       "    .dataframe tbody tr th:only-of-type {\n",
       "        vertical-align: middle;\n",
       "    }\n",
       "\n",
       "    .dataframe tbody tr th {\n",
       "        vertical-align: top;\n",
       "    }\n",
       "\n",
       "    .dataframe thead th {\n",
       "        text-align: right;\n",
       "    }\n",
       "</style>\n",
       "<table border=\"1\" class=\"dataframe\">\n",
       "  <thead>\n",
       "    <tr style=\"text-align: right;\">\n",
       "      <th></th>\n",
       "      <th>sepostulo</th>\n",
       "    </tr>\n",
       "  </thead>\n",
       "  <tbody>\n",
       "    <tr>\n",
       "      <th>0</th>\n",
       "      <td>0</td>\n",
       "    </tr>\n",
       "    <tr>\n",
       "      <th>1</th>\n",
       "      <td>0</td>\n",
       "    </tr>\n",
       "    <tr>\n",
       "      <th>2</th>\n",
       "      <td>0</td>\n",
       "    </tr>\n",
       "    <tr>\n",
       "      <th>3</th>\n",
       "      <td>0</td>\n",
       "    </tr>\n",
       "    <tr>\n",
       "      <th>4</th>\n",
       "      <td>0</td>\n",
       "    </tr>\n",
       "  </tbody>\n",
       "</table>\n",
       "</div>"
      ],
      "text/plain": [
       "   sepostulo\n",
       "0          0\n",
       "1          0\n",
       "2          0\n",
       "3          0\n",
       "4          0"
      ]
     },
     "execution_count": 27,
     "metadata": {},
     "output_type": "execute_result"
    }
   ],
   "source": [
    "submit = testingSet_CON_NAN[['sepostulo']]\n",
    "submit.head()"
   ]
  },
  {
   "cell_type": "code",
   "execution_count": 29,
   "metadata": {},
   "outputs": [],
   "source": [
    "#Primero volver a leer el testingSet del csv\n",
    "submit.insert(0, 'id', testingSet_CON_NAN['id'])"
   ]
  },
  {
   "cell_type": "code",
   "execution_count": 30,
   "metadata": {},
   "outputs": [],
   "source": [
    "submit.to_csv('Submit/prediccion29_LIGHTGBM_1.5M_dummies_over_sampling.csv',index=False)"
   ]
  },
  {
   "cell_type": "markdown",
   "metadata": {},
   "source": [
    "# Light GBM"
   ]
  },
  {
   "cell_type": "code",
   "execution_count": 1,
   "metadata": {},
   "outputs": [],
   "source": [
    "import pandas as pd\n",
    "import numpy as np\n",
    "from sklearn import metrics   #Additional scklearn functions\n",
    "from sklearn.model_selection import GridSearchCV   #Perforing grid search\n",
    "from sklearn.preprocessing import LabelEncoder\n",
    "from pandas.api.types import CategoricalDtype"
   ]
  },
  {
   "cell_type": "markdown",
   "metadata": {},
   "source": [
    "# Utilizando datasets sin encoding"
   ]
  },
  {
   "cell_type": "code",
   "execution_count": 2,
   "metadata": {},
   "outputs": [],
   "source": [
    "dtypes = pd.Series({'sepostulo': np.dtype('uint8'),'edad': np.dtype('uint16')})\n",
    "\n",
    "dtypes_col = dtypes.index\n",
    "dtypes_type = [i.name for i in dtypes.values]\n",
    "\n",
    "column_types = dict(zip(dtypes_col, dtypes_type))\n",
    "\n",
    "trainingSet = pd.read_csv('/home/lucio/Documentos/Datos/NaventDatosTP/Data/TRAINING_SET_SIN_ENCODING.csv',dtype=column_types)\n",
    "trainingSet.drop(['Unnamed: 0','denominacion_empresa'],axis=1,inplace=True)\n",
    "trainingSet[[\"sexo\",'nombre','estado','nombre_zona',\n",
    "             'tipo_de_trabajo','nivel_laboral',\n",
    "             'nombre_area']] = trainingSet[[\"sexo\",'nombre','estado','nombre_zona',\n",
    "                                            'tipo_de_trabajo','nivel_laboral',\n",
    "                                            'nombre_area']].astype('category')"
   ]
  },
  {
   "cell_type": "markdown",
   "metadata": {},
   "source": [
    "# Me quedo con 1.5M de registros random"
   ]
  },
  {
   "cell_type": "code",
   "execution_count": 3,
   "metadata": {},
   "outputs": [],
   "source": [
    "trainingSet_samples = trainingSet.sample(n=3500000,random_state=50)"
   ]
  },
  {
   "cell_type": "code",
   "execution_count": 8,
   "metadata": {},
   "outputs": [
    {
     "data": {
      "text/plain": [
       "1    942921\n",
       "0    557079\n",
       "Name: sepostulo, dtype: int64"
      ]
     },
     "execution_count": 8,
     "metadata": {},
     "output_type": "execute_result"
    }
   ],
   "source": [
    "trainingSet_samples['sepostulo'].value_counts()"
   ]
  },
  {
   "cell_type": "markdown",
   "metadata": {},
   "source": [
    "# Hago Dummificacion"
   ]
  },
  {
   "cell_type": "code",
   "execution_count": 4,
   "metadata": {},
   "outputs": [],
   "source": [
    "trainingSet_samples = trainingSet_samples.join(pd.get_dummies(trainingSet_samples.sexo))\n",
    "\n",
    "trainingSet_samples.drop('sexo',axis=1, inplace=True)\n",
    "\n",
    "trainingSet_samples = trainingSet_samples.join(pd.get_dummies(trainingSet_samples.nombre))\n",
    "\n",
    "trainingSet_samples.drop('nombre',axis=1, inplace=True)\n",
    "\n",
    "trainingSet_samples = trainingSet_samples.join(pd.get_dummies(trainingSet_samples.estado))\n",
    "\n",
    "trainingSet_samples.drop('estado',axis=1, inplace=True)\n",
    "\n",
    "trainingSet_samples = trainingSet_samples.join(pd.get_dummies(trainingSet_samples.nombre_zona))\n",
    "\n",
    "trainingSet_samples.drop('nombre_zona',axis=1, inplace=True)\n",
    "\n",
    "trainingSet_samples = trainingSet_samples.join(pd.get_dummies(trainingSet_samples.tipo_de_trabajo))\n",
    "\n",
    "trainingSet_samples.drop('tipo_de_trabajo',axis=1, inplace=True)\n",
    "\n",
    "trainingSet_samples = trainingSet_samples.join(pd.get_dummies(trainingSet_samples.nivel_laboral,\n",
    "                                                             prefix=\"Nivel_laboral\"))\n",
    "\n",
    "trainingSet_samples.drop('nivel_laboral',axis=1, inplace=True)\n",
    "\n",
    "#trainingSet_samples = trainingSet_samples.join(pd.get_dummies(trainingSet_samples.nombre_area))\n",
    "# LO SAQUE PORQUE MI MAQUINA NO SE BANCA POR AHI LA DE UDS SI AUNQUE AGREGA MUCHAS COLUMAS(188)\n",
    "\n",
    "trainingSet_samples.drop('nombre_area',axis=1, inplace=True)"
   ]
  },
  {
   "cell_type": "code",
   "execution_count": 14,
   "metadata": {},
   "outputs": [
    {
     "data": {
      "text/html": [
       "<div>\n",
       "<style scoped>\n",
       "    .dataframe tbody tr th:only-of-type {\n",
       "        vertical-align: middle;\n",
       "    }\n",
       "\n",
       "    .dataframe tbody tr th {\n",
       "        vertical-align: top;\n",
       "    }\n",
       "\n",
       "    .dataframe thead th {\n",
       "        text-align: right;\n",
       "    }\n",
       "</style>\n",
       "<table border=\"1\" class=\"dataframe\">\n",
       "  <thead>\n",
       "    <tr style=\"text-align: right;\">\n",
       "      <th></th>\n",
       "      <th>sepostulo</th>\n",
       "      <th>edad</th>\n",
       "      <th>FEM</th>\n",
       "      <th>MASC</th>\n",
       "      <th>NO_DECLARA</th>\n",
       "      <th>Doctorado</th>\n",
       "      <th>Master</th>\n",
       "      <th>Otro</th>\n",
       "      <th>Posgrado</th>\n",
       "      <th>Secundario</th>\n",
       "      <th>...</th>\n",
       "      <th>Trabajo Social</th>\n",
       "      <th>Trabajo social</th>\n",
       "      <th>Traduccion</th>\n",
       "      <th>Transporte</th>\n",
       "      <th>Turismo</th>\n",
       "      <th>Urbanismo</th>\n",
       "      <th>Venta de Seguros</th>\n",
       "      <th>Ventas</th>\n",
       "      <th>Ventas Internacionales/Exportación</th>\n",
       "      <th>Veterinaria</th>\n",
       "    </tr>\n",
       "  </thead>\n",
       "  <tbody>\n",
       "    <tr>\n",
       "      <th>4306768</th>\n",
       "      <td>1</td>\n",
       "      <td>32</td>\n",
       "      <td>0</td>\n",
       "      <td>1</td>\n",
       "      <td>0</td>\n",
       "      <td>0</td>\n",
       "      <td>0</td>\n",
       "      <td>0</td>\n",
       "      <td>0</td>\n",
       "      <td>0</td>\n",
       "      <td>...</td>\n",
       "      <td>0</td>\n",
       "      <td>0</td>\n",
       "      <td>0</td>\n",
       "      <td>0</td>\n",
       "      <td>0</td>\n",
       "      <td>0</td>\n",
       "      <td>0</td>\n",
       "      <td>0</td>\n",
       "      <td>0</td>\n",
       "      <td>0</td>\n",
       "    </tr>\n",
       "    <tr>\n",
       "      <th>8580170</th>\n",
       "      <td>0</td>\n",
       "      <td>26</td>\n",
       "      <td>0</td>\n",
       "      <td>1</td>\n",
       "      <td>0</td>\n",
       "      <td>0</td>\n",
       "      <td>0</td>\n",
       "      <td>0</td>\n",
       "      <td>0</td>\n",
       "      <td>0</td>\n",
       "      <td>...</td>\n",
       "      <td>0</td>\n",
       "      <td>0</td>\n",
       "      <td>0</td>\n",
       "      <td>0</td>\n",
       "      <td>0</td>\n",
       "      <td>0</td>\n",
       "      <td>0</td>\n",
       "      <td>0</td>\n",
       "      <td>0</td>\n",
       "      <td>0</td>\n",
       "    </tr>\n",
       "    <tr>\n",
       "      <th>3762082</th>\n",
       "      <td>1</td>\n",
       "      <td>24</td>\n",
       "      <td>0</td>\n",
       "      <td>1</td>\n",
       "      <td>0</td>\n",
       "      <td>0</td>\n",
       "      <td>0</td>\n",
       "      <td>0</td>\n",
       "      <td>0</td>\n",
       "      <td>1</td>\n",
       "      <td>...</td>\n",
       "      <td>0</td>\n",
       "      <td>0</td>\n",
       "      <td>0</td>\n",
       "      <td>0</td>\n",
       "      <td>0</td>\n",
       "      <td>0</td>\n",
       "      <td>0</td>\n",
       "      <td>0</td>\n",
       "      <td>0</td>\n",
       "      <td>0</td>\n",
       "    </tr>\n",
       "    <tr>\n",
       "      <th>794324</th>\n",
       "      <td>1</td>\n",
       "      <td>29</td>\n",
       "      <td>1</td>\n",
       "      <td>0</td>\n",
       "      <td>0</td>\n",
       "      <td>0</td>\n",
       "      <td>0</td>\n",
       "      <td>0</td>\n",
       "      <td>0</td>\n",
       "      <td>0</td>\n",
       "      <td>...</td>\n",
       "      <td>0</td>\n",
       "      <td>0</td>\n",
       "      <td>0</td>\n",
       "      <td>0</td>\n",
       "      <td>0</td>\n",
       "      <td>0</td>\n",
       "      <td>0</td>\n",
       "      <td>0</td>\n",
       "      <td>0</td>\n",
       "      <td>0</td>\n",
       "    </tr>\n",
       "    <tr>\n",
       "      <th>8607474</th>\n",
       "      <td>0</td>\n",
       "      <td>24</td>\n",
       "      <td>1</td>\n",
       "      <td>0</td>\n",
       "      <td>0</td>\n",
       "      <td>0</td>\n",
       "      <td>0</td>\n",
       "      <td>0</td>\n",
       "      <td>0</td>\n",
       "      <td>1</td>\n",
       "      <td>...</td>\n",
       "      <td>0</td>\n",
       "      <td>0</td>\n",
       "      <td>0</td>\n",
       "      <td>0</td>\n",
       "      <td>0</td>\n",
       "      <td>0</td>\n",
       "      <td>0</td>\n",
       "      <td>0</td>\n",
       "      <td>0</td>\n",
       "      <td>0</td>\n",
       "    </tr>\n",
       "  </tbody>\n",
       "</table>\n",
       "<p>5 rows × 230 columns</p>\n",
       "</div>"
      ],
      "text/plain": [
       "         sepostulo  edad  FEM  MASC  NO_DECLARA  Doctorado  Master  Otro  \\\n",
       "4306768          1    32    0     1           0          0       0     0   \n",
       "8580170          0    26    0     1           0          0       0     0   \n",
       "3762082          1    24    0     1           0          0       0     0   \n",
       "794324           1    29    1     0           0          0       0     0   \n",
       "8607474          0    24    1     0           0          0       0     0   \n",
       "\n",
       "         Posgrado  Secundario     ...       Trabajo Social  Trabajo social  \\\n",
       "4306768         0           0     ...                    0               0   \n",
       "8580170         0           0     ...                    0               0   \n",
       "3762082         0           1     ...                    0               0   \n",
       "794324          0           0     ...                    0               0   \n",
       "8607474         0           1     ...                    0               0   \n",
       "\n",
       "         Traduccion  Transporte  Turismo  Urbanismo  Venta de Seguros  Ventas  \\\n",
       "4306768           0           0        0          0                 0       0   \n",
       "8580170           0           0        0          0                 0       0   \n",
       "3762082           0           0        0          0                 0       0   \n",
       "794324            0           0        0          0                 0       0   \n",
       "8607474           0           0        0          0                 0       0   \n",
       "\n",
       "         Ventas Internacionales/Exportación  Veterinaria  \n",
       "4306768                                   0            0  \n",
       "8580170                                   0            0  \n",
       "3762082                                   0            0  \n",
       "794324                                    0            0  \n",
       "8607474                                   0            0  \n",
       "\n",
       "[5 rows x 230 columns]"
      ]
     },
     "execution_count": 14,
     "metadata": {},
     "output_type": "execute_result"
    }
   ],
   "source": [
    "trainingSet_samples.head()"
   ]
  },
  {
   "cell_type": "code",
   "execution_count": 5,
   "metadata": {},
   "outputs": [
    {
     "name": "stderr",
     "output_type": "stream",
     "text": [
      "/home/lucio/Documentos/Datos/lib/python3.6/site-packages/lightgbm/engine.py:102: UserWarning: Found `num_trees` in params. Will use it instead of argument\n",
      "  warnings.warn(\"Found `{}` in params. Will use it instead of argument\".format(alias))\n"
     ]
    },
    {
     "name": "stdout",
     "output_type": "stream",
     "text": [
      "confusion matrix\n",
      "[[ 13446 376281]\n",
      " [  9747 650526]]\n",
      "classification report\n",
      "             precision    recall  f1-score   support\n",
      "\n",
      "          0       0.58      0.03      0.07    389727\n",
      "          1       0.63      0.99      0.77    660273\n",
      "\n",
      "avg / total       0.61      0.63      0.51   1050000\n",
      "\n",
      "-----------------------------------------------------------------------------------------\n",
      "Accuracy is :\n",
      "663972\n",
      "Area under the curve : 0.509869\n"
     ]
    }
   ],
   "source": [
    "from sklearn import metrics\n",
    "import lightgbm as lgb\n",
    "\n",
    "from sklearn.model_selection import train_test_split\n",
    "columnas = trainingSet_samples.columns.drop(\"sepostulo\")\n",
    "xtrain, xtest, ytrain, ytest = train_test_split(trainingSet_samples[columnas], \n",
    "                                        trainingSet_samples['sepostulo'],test_size=0.30, random_state=12)\n",
    "\n",
    "d_train = lgb.Dataset(xtrain, label=ytrain)\n",
    "\n",
    "params = {}\n",
    "params['learning_rate'] = 0.1\n",
    "params['boosting_type'] = 'gbdt'\n",
    "params['objective'] = 'binary'\n",
    "params['metric'] = ['binary_logloss','auc']\n",
    "params['metric_freq'] = 1\n",
    "params['is_training_metric'] = True\n",
    "params['sub_feature'] = 0.5\n",
    "params['num_leaves'] = 63\n",
    "params['min_data'] = 50\n",
    "params['max_depth'] = 10\n",
    "params['is_unbalanced'] = True\n",
    "params['bagging_freq'] = 5\n",
    "params['bagging_fraction'] = 0.8\n",
    "params['max_bin'] = 255\n",
    "params['num_trees'] = 100\n",
    "params['tree_learner'] = 'serial'\n",
    "params['feature_fraction'] = 0.8\n",
    "params['min_data_in_leaf'] = 50\n",
    "params['min_sum_hessian_in_leaf'] = 5.0\n",
    "params['is_enable_sparse'] = True\n",
    "params['use_two_round_loading'] = True\n",
    "\n",
    "# Train and evaluate.\n",
    "clf = lgb.train(params, d_train, 100)\n",
    "y_pred = clf.predict(xtest)  #predicts\n",
    "\n",
    "print('confusion matrix')\n",
    "print(metrics.confusion_matrix(ytest, y_pred.round()))\n",
    "print('classification report')\n",
    "print(metrics.classification_report(ytest, y_pred.round()))\n",
    "print(\"-----------------------------------------------------------------------------------------\")\n",
    "print(\"Accuracy is :\")\n",
    "print(metrics.accuracy_score(ytest, y_pred.round(), normalize=False))\n",
    "print('Area under the curve : %f' % (metrics.roc_auc_score(ytest, y_pred.round())))"
   ]
  },
  {
   "cell_type": "code",
   "execution_count": 129,
   "metadata": {},
   "outputs": [],
   "source": [
    "import pandas as pd\n",
    "from pandas.api.types import CategoricalDtype\n",
    "import time\n",
    "from datetime import datetime\n",
    "import scipy.spatial\n",
    "import numpy as np\n",
    "from sklearn.preprocessing import LabelEncoder\n",
    "from sklearn.ensemble import RandomForestClassifier, AdaBoostClassifier, ExtraTreesClassifier\n",
    "from sklearn.model_selection import cross_val_score\n",
    "from sklearn.neighbors import KNeighborsClassifier\n",
    "from sklearn.externals import joblib"
   ]
  },
  {
   "cell_type": "code",
   "execution_count": 130,
   "metadata": {
    "scrolled": true
   },
   "outputs": [],
   "source": [
    "dtypes = pd.Series({'idaviso': np.dtype('uint64'), 'idpostulante': np.dtype('object'),\n",
    "                   'se_postulo': np.dtype('uint8'), 'sexo_numerico': np.dtype('uint8'),\n",
    "                   'edad': np.dtype('uint16'), 'estado_code': np.dtype('uint8'),\n",
    "                   'sexo_code': np.dtype('uint8'), 'nombre_code': np.dtype('uint8'),\n",
    "                   'nombre_area_code': np.dtype('uint8'),\n",
    "                    'denominacion_empresa_code': np.dtype('uint16'),\n",
    "                   'nivel_laboral_code': np.dtype('uint8'),\n",
    "                   'tipo_de_trabajo_code': np.dtype('uint8'),\n",
    "                   'nombre_zona_code': np.dtype('uint8')})\n",
    "\n",
    "dtypes_col = dtypes.index\n",
    "dtypes_type = [i.name for i in dtypes.values]\n",
    "\n",
    "column_types = dict(zip(dtypes_col, dtypes_type))\n",
    "\n",
    "\n",
    "trainingSet = pd.read_csv('Data/trainingSet.csv',dtype=column_types,low_memory=True)\n",
    "trainingSet.drop(columns=['Unnamed: 0'],inplace=True)"
   ]
  },
  {
   "cell_type": "code",
   "execution_count": 131,
   "metadata": {},
   "outputs": [
    {
     "data": {
      "text/html": [
       "<div>\n",
       "<style scoped>\n",
       "    .dataframe tbody tr th:only-of-type {\n",
       "        vertical-align: middle;\n",
       "    }\n",
       "\n",
       "    .dataframe tbody tr th {\n",
       "        vertical-align: top;\n",
       "    }\n",
       "\n",
       "    .dataframe thead th {\n",
       "        text-align: right;\n",
       "    }\n",
       "</style>\n",
       "<table border=\"1\" class=\"dataframe\">\n",
       "  <thead>\n",
       "    <tr style=\"text-align: right;\">\n",
       "      <th></th>\n",
       "      <th>idaviso</th>\n",
       "      <th>idpostulante</th>\n",
       "      <th>se_postulo</th>\n",
       "      <th>edad</th>\n",
       "      <th>estado_code</th>\n",
       "      <th>sexo_code</th>\n",
       "      <th>nombre_code</th>\n",
       "      <th>nombre_area_code</th>\n",
       "      <th>denominacion_empresa_code</th>\n",
       "      <th>nivel_laboral_code</th>\n",
       "      <th>tipo_de_trabajo_code</th>\n",
       "      <th>nombre_zona_code</th>\n",
       "    </tr>\n",
       "  </thead>\n",
       "  <tbody>\n",
       "    <tr>\n",
       "      <th>0</th>\n",
       "      <td>1112248724</td>\n",
       "      <td>NjlD</td>\n",
       "      <td>1</td>\n",
       "      <td>36</td>\n",
       "      <td>2</td>\n",
       "      <td>0</td>\n",
       "      <td>6</td>\n",
       "      <td>120</td>\n",
       "      <td>2468</td>\n",
       "      <td>4</td>\n",
       "      <td>1</td>\n",
       "      <td>7</td>\n",
       "    </tr>\n",
       "    <tr>\n",
       "      <th>1</th>\n",
       "      <td>1112286523</td>\n",
       "      <td>ZaO5</td>\n",
       "      <td>1</td>\n",
       "      <td>39</td>\n",
       "      <td>0</td>\n",
       "      <td>0</td>\n",
       "      <td>6</td>\n",
       "      <td>159</td>\n",
       "      <td>952</td>\n",
       "      <td>4</td>\n",
       "      <td>1</td>\n",
       "      <td>7</td>\n",
       "    </tr>\n",
       "    <tr>\n",
       "      <th>2</th>\n",
       "      <td>1112272060</td>\n",
       "      <td>ZaO5</td>\n",
       "      <td>1</td>\n",
       "      <td>39</td>\n",
       "      <td>0</td>\n",
       "      <td>0</td>\n",
       "      <td>6</td>\n",
       "      <td>153</td>\n",
       "      <td>36</td>\n",
       "      <td>4</td>\n",
       "      <td>1</td>\n",
       "      <td>7</td>\n",
       "    </tr>\n",
       "    <tr>\n",
       "      <th>3</th>\n",
       "      <td>1112288401</td>\n",
       "      <td>ZaO5</td>\n",
       "      <td>1</td>\n",
       "      <td>39</td>\n",
       "      <td>0</td>\n",
       "      <td>0</td>\n",
       "      <td>6</td>\n",
       "      <td>153</td>\n",
       "      <td>3629</td>\n",
       "      <td>4</td>\n",
       "      <td>1</td>\n",
       "      <td>7</td>\n",
       "    </tr>\n",
       "    <tr>\n",
       "      <th>4</th>\n",
       "      <td>1112300563</td>\n",
       "      <td>ZaO5</td>\n",
       "      <td>1</td>\n",
       "      <td>39</td>\n",
       "      <td>0</td>\n",
       "      <td>0</td>\n",
       "      <td>6</td>\n",
       "      <td>159</td>\n",
       "      <td>350</td>\n",
       "      <td>4</td>\n",
       "      <td>1</td>\n",
       "      <td>7</td>\n",
       "    </tr>\n",
       "  </tbody>\n",
       "</table>\n",
       "</div>"
      ],
      "text/plain": [
       "      idaviso idpostulante  se_postulo  edad  estado_code  sexo_code  \\\n",
       "0  1112248724         NjlD           1    36            2          0   \n",
       "1  1112286523         ZaO5           1    39            0          0   \n",
       "2  1112272060         ZaO5           1    39            0          0   \n",
       "3  1112288401         ZaO5           1    39            0          0   \n",
       "4  1112300563         ZaO5           1    39            0          0   \n",
       "\n",
       "   nombre_code  nombre_area_code  denominacion_empresa_code  \\\n",
       "0            6               120                       2468   \n",
       "1            6               159                        952   \n",
       "2            6               153                         36   \n",
       "3            6               153                       3629   \n",
       "4            6               159                        350   \n",
       "\n",
       "   nivel_laboral_code  tipo_de_trabajo_code  nombre_zona_code  \n",
       "0                   4                     1                 7  \n",
       "1                   4                     1                 7  \n",
       "2                   4                     1                 7  \n",
       "3                   4                     1                 7  \n",
       "4                   4                     1                 7  "
      ]
     },
     "execution_count": 131,
     "metadata": {},
     "output_type": "execute_result"
    }
   ],
   "source": [
    "trainingSet.head()"
   ]
  },
  {
   "cell_type": "code",
   "execution_count": 132,
   "metadata": {},
   "outputs": [
    {
     "name": "stdout",
     "output_type": "stream",
     "text": [
      "<class 'pandas.core.frame.DataFrame'>\n",
      "RangeIndex: 9439964 entries, 0 to 9439963\n",
      "Data columns (total 12 columns):\n",
      "idaviso                      uint64\n",
      "idpostulante                 object\n",
      "se_postulo                   uint8\n",
      "edad                         uint16\n",
      "estado_code                  uint8\n",
      "sexo_code                    uint8\n",
      "nombre_code                  uint8\n",
      "nombre_area_code             uint8\n",
      "denominacion_empresa_code    uint16\n",
      "nivel_laboral_code           uint8\n",
      "tipo_de_trabajo_code         uint8\n",
      "nombre_zona_code             uint8\n",
      "dtypes: object(1), uint16(2), uint64(1), uint8(8)\n",
      "memory usage: 252.1+ MB\n"
     ]
    }
   ],
   "source": [
    "trainingSet.info()\n",
    "\n",
    "#TODO: ENCODEAR TESTING Y TRAINING SETS"
   ]
  },
  {
   "cell_type": "markdown",
   "metadata": {},
   "source": [
    "# Inicializo el testing set"
   ]
  },
  {
   "cell_type": "code",
   "execution_count": 133,
   "metadata": {},
   "outputs": [],
   "source": [
    "testingSet = pd.read_csv('TestingSets/testingSet_imp_mean.csv')\n",
    "testingSet = testingSet.drop(columns='Unnamed: 0')"
   ]
  },
  {
   "cell_type": "code",
   "execution_count": 134,
   "metadata": {},
   "outputs": [
    {
     "data": {
      "text/html": [
       "<div>\n",
       "<style scoped>\n",
       "    .dataframe tbody tr th:only-of-type {\n",
       "        vertical-align: middle;\n",
       "    }\n",
       "\n",
       "    .dataframe tbody tr th {\n",
       "        vertical-align: top;\n",
       "    }\n",
       "\n",
       "    .dataframe thead th {\n",
       "        text-align: right;\n",
       "    }\n",
       "</style>\n",
       "<table border=\"1\" class=\"dataframe\">\n",
       "  <thead>\n",
       "    <tr style=\"text-align: right;\">\n",
       "      <th></th>\n",
       "      <th>nombre_area_code</th>\n",
       "      <th>denominacion_empresa_code</th>\n",
       "      <th>nivel_laboral_code</th>\n",
       "      <th>tipo_de_trabajo_code</th>\n",
       "      <th>nombre_zona_code</th>\n",
       "      <th>edad</th>\n",
       "      <th>estado_code</th>\n",
       "      <th>sexo_code</th>\n",
       "      <th>nombre_code</th>\n",
       "      <th>id</th>\n",
       "      <th>idaviso</th>\n",
       "      <th>idpostulante</th>\n",
       "    </tr>\n",
       "  </thead>\n",
       "  <tbody>\n",
       "    <tr>\n",
       "      <th>0</th>\n",
       "      <td>30.0</td>\n",
       "      <td>465.0</td>\n",
       "      <td>1.0</td>\n",
       "      <td>1.0</td>\n",
       "      <td>1.0</td>\n",
       "      <td>41.0</td>\n",
       "      <td>2.0</td>\n",
       "      <td>0.0</td>\n",
       "      <td>0.0</td>\n",
       "      <td>0</td>\n",
       "      <td>739260</td>\n",
       "      <td>6M9ZQR</td>\n",
       "    </tr>\n",
       "    <tr>\n",
       "      <th>1</th>\n",
       "      <td>30.0</td>\n",
       "      <td>465.0</td>\n",
       "      <td>1.0</td>\n",
       "      <td>1.0</td>\n",
       "      <td>1.0</td>\n",
       "      <td>30.0</td>\n",
       "      <td>2.0</td>\n",
       "      <td>1.0</td>\n",
       "      <td>5.0</td>\n",
       "      <td>1</td>\n",
       "      <td>739260</td>\n",
       "      <td>6v1xdL</td>\n",
       "    </tr>\n",
       "    <tr>\n",
       "      <th>2</th>\n",
       "      <td>30.0</td>\n",
       "      <td>465.0</td>\n",
       "      <td>1.0</td>\n",
       "      <td>1.0</td>\n",
       "      <td>1.0</td>\n",
       "      <td>35.0</td>\n",
       "      <td>2.0</td>\n",
       "      <td>0.0</td>\n",
       "      <td>6.0</td>\n",
       "      <td>2</td>\n",
       "      <td>739260</td>\n",
       "      <td>ezRKm9</td>\n",
       "    </tr>\n",
       "    <tr>\n",
       "      <th>3</th>\n",
       "      <td>170.0</td>\n",
       "      <td>3891.0</td>\n",
       "      <td>3.0</td>\n",
       "      <td>1.0</td>\n",
       "      <td>1.0</td>\n",
       "      <td>68.0</td>\n",
       "      <td>2.0</td>\n",
       "      <td>1.0</td>\n",
       "      <td>3.0</td>\n",
       "      <td>3</td>\n",
       "      <td>758580</td>\n",
       "      <td>1Q35ej</td>\n",
       "    </tr>\n",
       "    <tr>\n",
       "      <th>4</th>\n",
       "      <td>170.0</td>\n",
       "      <td>3891.0</td>\n",
       "      <td>3.0</td>\n",
       "      <td>1.0</td>\n",
       "      <td>1.0</td>\n",
       "      <td>31.0</td>\n",
       "      <td>1.0</td>\n",
       "      <td>0.0</td>\n",
       "      <td>6.0</td>\n",
       "      <td>4</td>\n",
       "      <td>758580</td>\n",
       "      <td>EAN4J6</td>\n",
       "    </tr>\n",
       "  </tbody>\n",
       "</table>\n",
       "</div>"
      ],
      "text/plain": [
       "   nombre_area_code  denominacion_empresa_code  nivel_laboral_code  \\\n",
       "0              30.0                      465.0                 1.0   \n",
       "1              30.0                      465.0                 1.0   \n",
       "2              30.0                      465.0                 1.0   \n",
       "3             170.0                     3891.0                 3.0   \n",
       "4             170.0                     3891.0                 3.0   \n",
       "\n",
       "   tipo_de_trabajo_code  nombre_zona_code  edad  estado_code  sexo_code  \\\n",
       "0                   1.0               1.0  41.0          2.0        0.0   \n",
       "1                   1.0               1.0  30.0          2.0        1.0   \n",
       "2                   1.0               1.0  35.0          2.0        0.0   \n",
       "3                   1.0               1.0  68.0          2.0        1.0   \n",
       "4                   1.0               1.0  31.0          1.0        0.0   \n",
       "\n",
       "   nombre_code  id  idaviso idpostulante  \n",
       "0          0.0   0   739260       6M9ZQR  \n",
       "1          5.0   1   739260       6v1xdL  \n",
       "2          6.0   2   739260       ezRKm9  \n",
       "3          3.0   3   758580       1Q35ej  \n",
       "4          6.0   4   758580       EAN4J6  "
      ]
     },
     "execution_count": 134,
     "metadata": {},
     "output_type": "execute_result"
    }
   ],
   "source": [
    "testingSet.head()"
   ]
  },
  {
   "cell_type": "markdown",
   "metadata": {},
   "source": [
    "TO DO"
   ]
  },
  {
   "cell_type": "markdown",
   "metadata": {},
   "source": [
    "# Encoding de sets"
   ]
  },
  {
   "cell_type": "code",
   "execution_count": 135,
   "metadata": {},
   "outputs": [],
   "source": [
    "lb_postulante = LabelEncoder()"
   ]
  },
  {
   "cell_type": "code",
   "execution_count": 136,
   "metadata": {},
   "outputs": [],
   "source": [
    "a = (testingSet['idpostulante']).astype('str')\n",
    "ids_postulante = trainingSet['idpostulante'].append(a)"
   ]
  },
  {
   "cell_type": "code",
   "execution_count": 137,
   "metadata": {},
   "outputs": [],
   "source": [
    "#ids_postulante = trainingSet['idpostulante'].append(str(testingSet['idpostulante']))"
   ]
  },
  {
   "cell_type": "code",
   "execution_count": 138,
   "metadata": {},
   "outputs": [
    {
     "data": {
      "text/plain": [
       "LabelEncoder()"
      ]
     },
     "execution_count": 138,
     "metadata": {},
     "output_type": "execute_result"
    }
   ],
   "source": [
    "lb_postulante.fit(ids_postulante)"
   ]
  },
  {
   "cell_type": "code",
   "execution_count": 139,
   "metadata": {},
   "outputs": [],
   "source": [
    "trainingSet[\"idpostulante\"] = lb_postulante.transform(trainingSet['idpostulante'])"
   ]
  },
  {
   "cell_type": "code",
   "execution_count": 140,
   "metadata": {},
   "outputs": [],
   "source": [
    "testingSet[\"idpostulante\"] = lb_postulante.transform(testingSet['idpostulante'])"
   ]
  },
  {
   "cell_type": "code",
   "execution_count": 141,
   "metadata": {},
   "outputs": [
    {
     "data": {
      "text/html": [
       "<div>\n",
       "<style scoped>\n",
       "    .dataframe tbody tr th:only-of-type {\n",
       "        vertical-align: middle;\n",
       "    }\n",
       "\n",
       "    .dataframe tbody tr th {\n",
       "        vertical-align: top;\n",
       "    }\n",
       "\n",
       "    .dataframe thead th {\n",
       "        text-align: right;\n",
       "    }\n",
       "</style>\n",
       "<table border=\"1\" class=\"dataframe\">\n",
       "  <thead>\n",
       "    <tr style=\"text-align: right;\">\n",
       "      <th></th>\n",
       "      <th>idaviso</th>\n",
       "      <th>idpostulante</th>\n",
       "      <th>se_postulo</th>\n",
       "      <th>edad</th>\n",
       "      <th>estado_code</th>\n",
       "      <th>sexo_code</th>\n",
       "      <th>nombre_code</th>\n",
       "      <th>nombre_area_code</th>\n",
       "      <th>denominacion_empresa_code</th>\n",
       "      <th>nivel_laboral_code</th>\n",
       "      <th>tipo_de_trabajo_code</th>\n",
       "      <th>nombre_zona_code</th>\n",
       "    </tr>\n",
       "  </thead>\n",
       "  <tbody>\n",
       "    <tr>\n",
       "      <th>0</th>\n",
       "      <td>1112248724</td>\n",
       "      <td>192881</td>\n",
       "      <td>1</td>\n",
       "      <td>36</td>\n",
       "      <td>2</td>\n",
       "      <td>0</td>\n",
       "      <td>6</td>\n",
       "      <td>120</td>\n",
       "      <td>2468</td>\n",
       "      <td>4</td>\n",
       "      <td>1</td>\n",
       "      <td>7</td>\n",
       "    </tr>\n",
       "    <tr>\n",
       "      <th>1</th>\n",
       "      <td>1112286523</td>\n",
       "      <td>275438</td>\n",
       "      <td>1</td>\n",
       "      <td>39</td>\n",
       "      <td>0</td>\n",
       "      <td>0</td>\n",
       "      <td>6</td>\n",
       "      <td>159</td>\n",
       "      <td>952</td>\n",
       "      <td>4</td>\n",
       "      <td>1</td>\n",
       "      <td>7</td>\n",
       "    </tr>\n",
       "    <tr>\n",
       "      <th>2</th>\n",
       "      <td>1112272060</td>\n",
       "      <td>275438</td>\n",
       "      <td>1</td>\n",
       "      <td>39</td>\n",
       "      <td>0</td>\n",
       "      <td>0</td>\n",
       "      <td>6</td>\n",
       "      <td>153</td>\n",
       "      <td>36</td>\n",
       "      <td>4</td>\n",
       "      <td>1</td>\n",
       "      <td>7</td>\n",
       "    </tr>\n",
       "    <tr>\n",
       "      <th>3</th>\n",
       "      <td>1112288401</td>\n",
       "      <td>275438</td>\n",
       "      <td>1</td>\n",
       "      <td>39</td>\n",
       "      <td>0</td>\n",
       "      <td>0</td>\n",
       "      <td>6</td>\n",
       "      <td>153</td>\n",
       "      <td>3629</td>\n",
       "      <td>4</td>\n",
       "      <td>1</td>\n",
       "      <td>7</td>\n",
       "    </tr>\n",
       "    <tr>\n",
       "      <th>4</th>\n",
       "      <td>1112300563</td>\n",
       "      <td>275438</td>\n",
       "      <td>1</td>\n",
       "      <td>39</td>\n",
       "      <td>0</td>\n",
       "      <td>0</td>\n",
       "      <td>6</td>\n",
       "      <td>159</td>\n",
       "      <td>350</td>\n",
       "      <td>4</td>\n",
       "      <td>1</td>\n",
       "      <td>7</td>\n",
       "    </tr>\n",
       "  </tbody>\n",
       "</table>\n",
       "</div>"
      ],
      "text/plain": [
       "      idaviso  idpostulante  se_postulo  edad  estado_code  sexo_code  \\\n",
       "0  1112248724        192881           1    36            2          0   \n",
       "1  1112286523        275438           1    39            0          0   \n",
       "2  1112272060        275438           1    39            0          0   \n",
       "3  1112288401        275438           1    39            0          0   \n",
       "4  1112300563        275438           1    39            0          0   \n",
       "\n",
       "   nombre_code  nombre_area_code  denominacion_empresa_code  \\\n",
       "0            6               120                       2468   \n",
       "1            6               159                        952   \n",
       "2            6               153                         36   \n",
       "3            6               153                       3629   \n",
       "4            6               159                        350   \n",
       "\n",
       "   nivel_laboral_code  tipo_de_trabajo_code  nombre_zona_code  \n",
       "0                   4                     1                 7  \n",
       "1                   4                     1                 7  \n",
       "2                   4                     1                 7  \n",
       "3                   4                     1                 7  \n",
       "4                   4                     1                 7  "
      ]
     },
     "execution_count": 141,
     "metadata": {},
     "output_type": "execute_result"
    }
   ],
   "source": [
    "trainingSet.head()"
   ]
  },
  {
   "cell_type": "markdown",
   "metadata": {},
   "source": [
    "# Prueba AdaBoost"
   ]
  },
  {
   "cell_type": "code",
   "execution_count": 156,
   "metadata": {},
   "outputs": [],
   "source": [
    "clf = AdaBoostClassifier(learning_rate=0.1,n_estimators=60,random_state=42)"
   ]
  },
  {
   "cell_type": "code",
   "execution_count": 157,
   "metadata": {},
   "outputs": [],
   "source": [
    "y_training = trainingSet['se_postulo']"
   ]
  },
  {
   "cell_type": "code",
   "execution_count": 158,
   "metadata": {},
   "outputs": [],
   "source": [
    "trainingSet2 = trainingSet.drop(columns=['se_postulo']);"
   ]
  },
  {
   "cell_type": "code",
   "execution_count": 159,
   "metadata": {},
   "outputs": [],
   "source": [
    "trainingSet2;"
   ]
  },
  {
   "cell_type": "code",
   "execution_count": 160,
   "metadata": {},
   "outputs": [
    {
     "data": {
      "text/plain": [
       "AdaBoostClassifier(algorithm='SAMME.R', base_estimator=None,\n",
       "          learning_rate=0.1, n_estimators=60, random_state=42)"
      ]
     },
     "execution_count": 160,
     "metadata": {},
     "output_type": "execute_result"
    }
   ],
   "source": [
    "clf.fit(trainingSet2, y_training)"
   ]
  },
  {
   "cell_type": "code",
   "execution_count": 161,
   "metadata": {},
   "outputs": [
    {
     "data": {
      "text/plain": [
       "0.7674009138170442"
      ]
     },
     "execution_count": 161,
     "metadata": {},
     "output_type": "execute_result"
    }
   ],
   "source": [
    "clf.score(trainingSet2,y_training)"
   ]
  },
  {
   "cell_type": "code",
   "execution_count": 163,
   "metadata": {},
   "outputs": [],
   "source": [
    "testingSet2 = testingSet"
   ]
  },
  {
   "cell_type": "code",
   "execution_count": 164,
   "metadata": {},
   "outputs": [],
   "source": [
    "testingSet2 = testingSet2.drop(columns='idpostulante')"
   ]
  },
  {
   "cell_type": "code",
   "execution_count": 165,
   "metadata": {},
   "outputs": [],
   "source": [
    "y_testing = rf1.predict(testingSet2)"
   ]
  },
  {
   "cell_type": "code",
   "execution_count": 52,
   "metadata": {},
   "outputs": [],
   "source": [
    "mse = np.mean(cross_val_score(clf, trainingSet2,y_training,scoring='neg_mean_squared_error', cv=4,  n_jobs=2))"
   ]
  },
  {
   "cell_type": "code",
   "execution_count": 53,
   "metadata": {},
   "outputs": [
    {
     "data": {
      "text/plain": [
       "-0.24437379665662057"
      ]
     },
     "execution_count": 53,
     "metadata": {},
     "output_type": "execute_result"
    }
   ],
   "source": [
    "mse"
   ]
  },
  {
   "cell_type": "code",
   "execution_count": 166,
   "metadata": {},
   "outputs": [],
   "source": [
    "pred = clf.predict(testingSet2)"
   ]
  },
  {
   "cell_type": "markdown",
   "metadata": {},
   "source": [
    "# Random Search CV y RandomForests"
   ]
  },
  {
   "cell_type": "code",
   "execution_count": 155,
   "metadata": {},
   "outputs": [
    {
     "name": "stdout",
     "output_type": "stream",
     "text": [
      "{'n_estimators': [5, 15, 26, 36, 47, 57, 68, 78, 89, 100], 'max_features': ['auto', 'sqrt'], 'max_depth': [10, 20, 30, 40, 50, 60, 70, 80, 90, 100, 110, None], 'min_samples_split': [2, 5, 10], 'min_samples_leaf': [1, 2, 4], 'bootstrap': [True, False]}\n"
     ]
    }
   ],
   "source": [
    "from sklearn.model_selection import RandomizedSearchCV\n",
    "\n",
    "# Number of trees in random forest\n",
    "n_estimators = [int(x) for x in np.linspace(start = 5, stop = 100, num = 10)]\n",
    "# Number of features to consider at every split\n",
    "max_features = ['auto', 'sqrt']\n",
    "# Maximum number of levels in tree\n",
    "max_depth = [int(x) for x in np.linspace(10, 110, num = 11)]\n",
    "max_depth.append(None)\n",
    "# Minimum number of samples required to split a node\n",
    "min_samples_split = [2, 5, 10]\n",
    "# Minimum number of samples required at each leaf node\n",
    "min_samples_leaf = [1, 2, 4]\n",
    "# Method of selecting samples for training each tree\n",
    "bootstrap = [True, False]\n",
    "\n",
    "# Create the random grid\n",
    "random_grid = {'n_estimators': n_estimators,\n",
    "               'max_features': max_features,\n",
    "               'max_depth': max_depth,\n",
    "               'min_samples_split': min_samples_split,\n",
    "               'min_samples_leaf': min_samples_leaf,\n",
    "               'bootstrap': bootstrap}\n",
    "\n",
    "print(random_grid)\n",
    "\n"
   ]
  },
  {
   "cell_type": "code",
   "execution_count": 61,
   "metadata": {},
   "outputs": [
    {
     "name": "stdout",
     "output_type": "stream",
     "text": [
      "Fitting 3 folds for each of 3 candidates, totalling 9 fits\n",
      "[CV] n_estimators=30, min_samples_split=10, min_samples_leaf=2, max_features=auto, max_depth=30, bootstrap=False \n",
      "[CV]  n_estimators=30, min_samples_split=10, min_samples_leaf=2, max_features=auto, max_depth=30, bootstrap=False, total=15.6min\n",
      "[CV] n_estimators=30, min_samples_split=10, min_samples_leaf=2, max_features=auto, max_depth=30, bootstrap=False \n"
     ]
    },
    {
     "name": "stderr",
     "output_type": "stream",
     "text": [
      "[Parallel(n_jobs=1)]: Done   1 out of   1 | elapsed: 17.2min remaining:    0.0s\n"
     ]
    },
    {
     "name": "stdout",
     "output_type": "stream",
     "text": [
      "[CV]  n_estimators=30, min_samples_split=10, min_samples_leaf=2, max_features=auto, max_depth=30, bootstrap=False, total=16.0min\n",
      "[CV] n_estimators=30, min_samples_split=10, min_samples_leaf=2, max_features=auto, max_depth=30, bootstrap=False \n",
      "[CV]  n_estimators=30, min_samples_split=10, min_samples_leaf=2, max_features=auto, max_depth=30, bootstrap=False, total=16.1min\n",
      "[CV] n_estimators=35, min_samples_split=2, min_samples_leaf=1, max_features=auto, max_depth=90, bootstrap=False \n",
      "[CV]  n_estimators=35, min_samples_split=2, min_samples_leaf=1, max_features=auto, max_depth=90, bootstrap=False, total=22.4min\n",
      "[CV] n_estimators=35, min_samples_split=2, min_samples_leaf=1, max_features=auto, max_depth=90, bootstrap=False \n",
      "[CV]  n_estimators=35, min_samples_split=2, min_samples_leaf=1, max_features=auto, max_depth=90, bootstrap=False, total=22.7min\n",
      "[CV] n_estimators=35, min_samples_split=2, min_samples_leaf=1, max_features=auto, max_depth=90, bootstrap=False \n",
      "[CV]  n_estimators=35, min_samples_split=2, min_samples_leaf=1, max_features=auto, max_depth=90, bootstrap=False, total=22.3min\n",
      "[CV] n_estimators=25, min_samples_split=10, min_samples_leaf=4, max_features=sqrt, max_depth=20, bootstrap=False \n",
      "[CV]  n_estimators=25, min_samples_split=10, min_samples_leaf=4, max_features=sqrt, max_depth=20, bootstrap=False, total=11.3min\n",
      "[CV] n_estimators=25, min_samples_split=10, min_samples_leaf=4, max_features=sqrt, max_depth=20, bootstrap=False \n",
      "[CV]  n_estimators=25, min_samples_split=10, min_samples_leaf=4, max_features=sqrt, max_depth=20, bootstrap=False, total=10.6min\n",
      "[CV] n_estimators=25, min_samples_split=10, min_samples_leaf=4, max_features=sqrt, max_depth=20, bootstrap=False \n",
      "[CV]  n_estimators=25, min_samples_split=10, min_samples_leaf=4, max_features=sqrt, max_depth=20, bootstrap=False, total=11.0min\n"
     ]
    },
    {
     "name": "stderr",
     "output_type": "stream",
     "text": [
      "[Parallel(n_jobs=1)]: Done   9 out of   9 | elapsed: 166.2min finished\n"
     ]
    },
    {
     "data": {
      "text/plain": [
       "RandomizedSearchCV(cv=3, error_score='raise',\n",
       "          estimator=RandomForestClassifier(bootstrap=True, class_weight=None, criterion='gini',\n",
       "            max_depth=None, max_features='auto', max_leaf_nodes=None,\n",
       "            min_impurity_decrease=0.0, min_impurity_split=None,\n",
       "            min_samples_leaf=1, min_samples_split=2,\n",
       "            min_weight_fraction_leaf=0.0, n_estimators=10, n_jobs=1,\n",
       "            oob_score=False, random_state=None, verbose=0,\n",
       "            warm_start=False),\n",
       "          fit_params=None, iid=True, n_iter=3, n_jobs=1,\n",
       "          param_distributions={'n_estimators': [5, 10, 15, 20, 25, 30, 35, 40, 45, 50], 'max_features': ['auto', 'sqrt'], 'max_depth': [10, 20, 30, 40, 50, 60, 70, 80, 90, 100, 110, None], 'min_samples_split': [2, 5, 10], 'min_samples_leaf': [1, 2, 4], 'bootstrap': [True, False]},\n",
       "          pre_dispatch='2*n_jobs', random_state=2, refit=True,\n",
       "          return_train_score='warn', scoring=None, verbose=2)"
      ]
     },
     "execution_count": 61,
     "metadata": {},
     "output_type": "execute_result"
    }
   ],
   "source": [
    "# Use the random grid to search for best hyperparameters\n",
    "# First create the base model to tune\n",
    "rf = RandomForestClassifier()\n",
    "# Random search of parameters, using 3 fold cross validation, \n",
    "# search across 100 different combinations, and use all available cores\n",
    "rf_random = RandomizedSearchCV(estimator = rf, param_distributions = random_grid, n_iter = 10, cv = 3, verbose=2, random_state=2, n_jobs = 1)\n",
    "\n",
    "# Fit the random search model\n",
    "rf_random.fit(trainingSet2, y_training)"
   ]
  },
  {
   "cell_type": "code",
   "execution_count": 62,
   "metadata": {},
   "outputs": [
    {
     "data": {
      "text/plain": [
       "{'n_estimators': 25,\n",
       " 'min_samples_split': 10,\n",
       " 'min_samples_leaf': 4,\n",
       " 'max_features': 'sqrt',\n",
       " 'max_depth': 20,\n",
       " 'bootstrap': False}"
      ]
     },
     "execution_count": 62,
     "metadata": {},
     "output_type": "execute_result"
    }
   ],
   "source": [
    "rf_random.best_params_"
   ]
  },
  {
   "cell_type": "code",
   "execution_count": 23,
   "metadata": {},
   "outputs": [],
   "source": [
    "mse = np.mean(cross_val_score(rf, trainingSet2,y_training,scoring='neg_mean_squared_error', cv=4,  n_jobs=2))"
   ]
  },
  {
   "cell_type": "code",
   "execution_count": null,
   "metadata": {},
   "outputs": [],
   "source": []
  },
  {
   "cell_type": "markdown",
   "metadata": {},
   "source": [
    "# Pruebo con los mejores params"
   ]
  },
  {
   "cell_type": "code",
   "execution_count": 143,
   "metadata": {},
   "outputs": [],
   "source": [
    "rf1 = RandomForestClassifier(n_estimators=5,min_samples_split=10,min_samples_leaf=3,max_features='sqrt',max_depth=4,bootstrap=False)"
   ]
  },
  {
   "cell_type": "code",
   "execution_count": 144,
   "metadata": {},
   "outputs": [
    {
     "data": {
      "text/plain": [
       "RandomForestClassifier(bootstrap=False, class_weight=None, criterion='gini',\n",
       "            max_depth=4, max_features='sqrt', max_leaf_nodes=None,\n",
       "            min_impurity_decrease=0.0, min_impurity_split=None,\n",
       "            min_samples_leaf=3, min_samples_split=10,\n",
       "            min_weight_fraction_leaf=0.0, n_estimators=5, n_jobs=1,\n",
       "            oob_score=False, random_state=None, verbose=0,\n",
       "            warm_start=False)"
      ]
     },
     "execution_count": 144,
     "metadata": {},
     "output_type": "execute_result"
    }
   ],
   "source": [
    "rf1.fit(trainingSet2,y_training)"
   ]
  },
  {
   "cell_type": "code",
   "execution_count": 162,
   "metadata": {},
   "outputs": [],
   "source": [
    "#mse = np.mean(cross_val_score(rf1, trainingSet2,y_training,scoring='neg_mean_squared_error', cv=3,  n_jobs=2))"
   ]
  },
  {
   "cell_type": "code",
   "execution_count": null,
   "metadata": {},
   "outputs": [],
   "source": [
    "1"
   ]
  },
  {
   "cell_type": "code",
   "execution_count": null,
   "metadata": {},
   "outputs": [],
   "source": []
  },
  {
   "cell_type": "code",
   "execution_count": 145,
   "metadata": {},
   "outputs": [
    {
     "data": {
      "text/plain": [
       "0.7185498800631019"
      ]
     },
     "execution_count": 145,
     "metadata": {},
     "output_type": "execute_result"
    }
   ],
   "source": [
    "rf1.score(trainingSet2,y_training)"
   ]
  },
  {
   "cell_type": "code",
   "execution_count": 60,
   "metadata": {},
   "outputs": [
    {
     "data": {
      "text/plain": [
       "['Modelos/random_forest(nest14,minsamp10,minsamleaf4,maxde20).pkl']"
      ]
     },
     "execution_count": 60,
     "metadata": {},
     "output_type": "execute_result"
    }
   ],
   "source": [
    "joblib.dump(rf, 'Modelos/random_forest(nest14,minsamp10,minsamleaf4,maxde20).pkl') "
   ]
  },
  {
   "cell_type": "code",
   "execution_count": 146,
   "metadata": {},
   "outputs": [],
   "source": [
    "testingSet2 = testingSet"
   ]
  },
  {
   "cell_type": "code",
   "execution_count": 149,
   "metadata": {},
   "outputs": [],
   "source": [
    "testingSet2 = testingSet2.drop(columns='idpostulante')"
   ]
  },
  {
   "cell_type": "code",
   "execution_count": 150,
   "metadata": {},
   "outputs": [],
   "source": [
    "y_testing = rf1.predict(testingSet2)"
   ]
  },
  {
   "cell_type": "code",
   "execution_count": 151,
   "metadata": {},
   "outputs": [
    {
     "data": {
      "text/plain": [
       "10957"
      ]
     },
     "execution_count": 151,
     "metadata": {},
     "output_type": "execute_result"
    }
   ],
   "source": [
    "y_testing.sum()"
   ]
  },
  {
   "cell_type": "code",
   "execution_count": 152,
   "metadata": {},
   "outputs": [],
   "source": [
    "testingSet2.drop(['nombre_area_code','denominacion_empresa_code','nivel_laboral_code','tipo_de_trabajo_code','tipo_de_trabajo_code','nombre_zona_code','edad','estado_code','sexo_code','nombre_code','idaviso',],axis=1,inplace=True)"
   ]
  },
  {
   "cell_type": "code",
   "execution_count": 153,
   "metadata": {},
   "outputs": [],
   "source": [
    "testingSet2['sepostulo'] = y_testing"
   ]
  },
  {
   "cell_type": "code",
   "execution_count": 154,
   "metadata": {},
   "outputs": [],
   "source": [
    "testingSet2.to_csv('Submit/predictionADA.csv',index=False)"
   ]
  },
  {
   "cell_type": "code",
   "execution_count": null,
   "metadata": {},
   "outputs": [],
   "source": []
  },
  {
   "cell_type": "code",
   "execution_count": null,
   "metadata": {},
   "outputs": [],
   "source": []
  },
  {
   "cell_type": "markdown",
   "metadata": {},
   "source": [
    "# KNN"
   ]
  },
  {
   "cell_type": "code",
   "execution_count": 61,
   "metadata": {},
   "outputs": [
    {
     "data": {
      "text/html": [
       "<div>\n",
       "<style scoped>\n",
       "    .dataframe tbody tr th:only-of-type {\n",
       "        vertical-align: middle;\n",
       "    }\n",
       "\n",
       "    .dataframe tbody tr th {\n",
       "        vertical-align: top;\n",
       "    }\n",
       "\n",
       "    .dataframe thead th {\n",
       "        text-align: right;\n",
       "    }\n",
       "</style>\n",
       "<table border=\"1\" class=\"dataframe\">\n",
       "  <thead>\n",
       "    <tr style=\"text-align: right;\">\n",
       "      <th></th>\n",
       "      <th>idaviso</th>\n",
       "      <th>idpostulante</th>\n",
       "      <th>se_postulo</th>\n",
       "      <th>edad</th>\n",
       "      <th>estado_code</th>\n",
       "      <th>sexo_code</th>\n",
       "      <th>nombre_code</th>\n",
       "      <th>nombre_area_code</th>\n",
       "      <th>denominacion_empresa_code</th>\n",
       "      <th>nivel_laboral_code</th>\n",
       "      <th>tipo_de_trabajo_code</th>\n",
       "      <th>nombre_zona_code</th>\n",
       "    </tr>\n",
       "  </thead>\n",
       "  <tbody>\n",
       "    <tr>\n",
       "      <th>0</th>\n",
       "      <td>1112248724</td>\n",
       "      <td>192881</td>\n",
       "      <td>1</td>\n",
       "      <td>36</td>\n",
       "      <td>2</td>\n",
       "      <td>0</td>\n",
       "      <td>6</td>\n",
       "      <td>120</td>\n",
       "      <td>2468</td>\n",
       "      <td>4</td>\n",
       "      <td>1</td>\n",
       "      <td>7</td>\n",
       "    </tr>\n",
       "    <tr>\n",
       "      <th>1</th>\n",
       "      <td>1112286523</td>\n",
       "      <td>275438</td>\n",
       "      <td>1</td>\n",
       "      <td>39</td>\n",
       "      <td>0</td>\n",
       "      <td>0</td>\n",
       "      <td>6</td>\n",
       "      <td>159</td>\n",
       "      <td>952</td>\n",
       "      <td>4</td>\n",
       "      <td>1</td>\n",
       "      <td>7</td>\n",
       "    </tr>\n",
       "    <tr>\n",
       "      <th>2</th>\n",
       "      <td>1112272060</td>\n",
       "      <td>275438</td>\n",
       "      <td>1</td>\n",
       "      <td>39</td>\n",
       "      <td>0</td>\n",
       "      <td>0</td>\n",
       "      <td>6</td>\n",
       "      <td>153</td>\n",
       "      <td>36</td>\n",
       "      <td>4</td>\n",
       "      <td>1</td>\n",
       "      <td>7</td>\n",
       "    </tr>\n",
       "    <tr>\n",
       "      <th>3</th>\n",
       "      <td>1112288401</td>\n",
       "      <td>275438</td>\n",
       "      <td>1</td>\n",
       "      <td>39</td>\n",
       "      <td>0</td>\n",
       "      <td>0</td>\n",
       "      <td>6</td>\n",
       "      <td>153</td>\n",
       "      <td>3629</td>\n",
       "      <td>4</td>\n",
       "      <td>1</td>\n",
       "      <td>7</td>\n",
       "    </tr>\n",
       "    <tr>\n",
       "      <th>4</th>\n",
       "      <td>1112300563</td>\n",
       "      <td>275438</td>\n",
       "      <td>1</td>\n",
       "      <td>39</td>\n",
       "      <td>0</td>\n",
       "      <td>0</td>\n",
       "      <td>6</td>\n",
       "      <td>159</td>\n",
       "      <td>350</td>\n",
       "      <td>4</td>\n",
       "      <td>1</td>\n",
       "      <td>7</td>\n",
       "    </tr>\n",
       "  </tbody>\n",
       "</table>\n",
       "</div>"
      ],
      "text/plain": [
       "      idaviso  idpostulante  se_postulo  edad  estado_code  sexo_code  \\\n",
       "0  1112248724        192881           1    36            2          0   \n",
       "1  1112286523        275438           1    39            0          0   \n",
       "2  1112272060        275438           1    39            0          0   \n",
       "3  1112288401        275438           1    39            0          0   \n",
       "4  1112300563        275438           1    39            0          0   \n",
       "\n",
       "   nombre_code  nombre_area_code  denominacion_empresa_code  \\\n",
       "0            6               120                       2468   \n",
       "1            6               159                        952   \n",
       "2            6               153                         36   \n",
       "3            6               153                       3629   \n",
       "4            6               159                        350   \n",
       "\n",
       "   nivel_laboral_code  tipo_de_trabajo_code  nombre_zona_code  \n",
       "0                   4                     1                 7  \n",
       "1                   4                     1                 7  \n",
       "2                   4                     1                 7  \n",
       "3                   4                     1                 7  \n",
       "4                   4                     1                 7  "
      ]
     },
     "execution_count": 61,
     "metadata": {},
     "output_type": "execute_result"
    }
   ],
   "source": [
    "trainingSet.head()"
   ]
  },
  {
   "cell_type": "code",
   "execution_count": 77,
   "metadata": {},
   "outputs": [
    {
     "data": {
      "text/plain": [
       "1    5934281\n",
       "0    3505683\n",
       "Name: se_postulo, dtype: int64"
      ]
     },
     "execution_count": 77,
     "metadata": {},
     "output_type": "execute_result"
    }
   ],
   "source": [
    "y_training.value_counts()"
   ]
  },
  {
   "cell_type": "code",
   "execution_count": 111,
   "metadata": {},
   "outputs": [],
   "source": [
    "KNN = KNeighborsClassifier(n_neighbors=3,weights='distance')"
   ]
  },
  {
   "cell_type": "code",
   "execution_count": 112,
   "metadata": {},
   "outputs": [
    {
     "data": {
      "text/plain": [
       "KNeighborsClassifier(algorithm='auto', leaf_size=30, metric='minkowski',\n",
       "           metric_params=None, n_jobs=1, n_neighbors=3, p=2,\n",
       "           weights='distance')"
      ]
     },
     "execution_count": 112,
     "metadata": {},
     "output_type": "execute_result"
    }
   ],
   "source": [
    "KNN.fit(trainingSet2,y_training)"
   ]
  },
  {
   "cell_type": "code",
   "execution_count": 113,
   "metadata": {},
   "outputs": [],
   "source": [
    "testingSet2 = testingSet"
   ]
  },
  {
   "cell_type": "code",
   "execution_count": 114,
   "metadata": {},
   "outputs": [],
   "source": [
    "id_testing = testingSet2.id"
   ]
  },
  {
   "cell_type": "code",
   "execution_count": 115,
   "metadata": {},
   "outputs": [],
   "source": [
    "testingSet2 = testingSet2.drop(columns='id')"
   ]
  },
  {
   "cell_type": "code",
   "execution_count": 116,
   "metadata": {},
   "outputs": [
    {
     "data": {
      "text/plain": [
       "1.0"
      ]
     },
     "execution_count": 116,
     "metadata": {},
     "output_type": "execute_result"
    }
   ],
   "source": [
    "KNN.score(trainingSet2,y_training)"
   ]
  },
  {
   "cell_type": "code",
   "execution_count": 84,
   "metadata": {},
   "outputs": [],
   "source": [
    "y_testing = KNN.predict(testingSet2)"
   ]
  },
  {
   "cell_type": "code",
   "execution_count": 117,
   "metadata": {},
   "outputs": [
    {
     "data": {
      "text/plain": [
       "0"
      ]
     },
     "execution_count": 117,
     "metadata": {},
     "output_type": "execute_result"
    }
   ],
   "source": [
    "y_testing.sum()"
   ]
  },
  {
   "cell_type": "markdown",
   "metadata": {},
   "source": [
    "# ExtraTrees"
   ]
  },
  {
   "cell_type": "code",
   "execution_count": 89,
   "metadata": {},
   "outputs": [],
   "source": [
    "exclf = ExtraTreesClassifier()"
   ]
  },
  {
   "cell_type": "code",
   "execution_count": 155,
   "metadata": {},
   "outputs": [
    {
     "name": "stdout",
     "output_type": "stream",
     "text": [
      "{'n_estimators': [5, 15, 26, 36, 47, 57, 68, 78, 89, 100], 'max_features': ['auto', 'sqrt'], 'max_depth': [10, 20, 30, 40, 50, 60, 70, 80, 90, 100, 110, None], 'min_samples_split': [2, 5, 10], 'min_samples_leaf': [1, 2, 4], 'bootstrap': [True, False]}\n"
     ]
    }
   ],
   "source": [
    "from sklearn.model_selection import RandomizedSearchCV\n",
    "\n",
    "# Number of trees in random forest\n",
    "n_estimators = [int(x) for x in np.linspace(start = 5, stop = 100, num = 10)]\n",
    "# Number of features to consider at every split\n",
    "max_features = ['auto', 'sqrt']\n",
    "# Maximum number of levels in tree\n",
    "max_depth = [int(x) for x in np.linspace(10, 110, num = 11)]\n",
    "max_depth.append(None)\n",
    "# Minimum number of samples required to split a node\n",
    "min_samples_split = [2, 5, 10]\n",
    "# Minimum number of samples required at each leaf node\n",
    "min_samples_leaf = [1, 2, 4]\n",
    "# Method of selecting samples for training each tree\n",
    "bootstrap = [True, False]\n",
    "\n",
    "# Create the random grid\n",
    "random_grid = {'n_estimators': n_estimators,\n",
    "               'max_features': max_features,\n",
    "               'max_depth': max_depth,\n",
    "               'min_samples_split': min_samples_split,\n",
    "               'min_samples_leaf': min_samples_leaf,\n",
    "               'bootstrap': bootstrap}\n",
    "\n",
    "print(random_grid)\n",
    "\n"
   ]
  },
  {
   "cell_type": "code",
   "execution_count": 61,
   "metadata": {},
   "outputs": [
    {
     "name": "stdout",
     "output_type": "stream",
     "text": [
      "Fitting 3 folds for each of 3 candidates, totalling 9 fits\n",
      "[CV] n_estimators=30, min_samples_split=10, min_samples_leaf=2, max_features=auto, max_depth=30, bootstrap=False \n",
      "[CV]  n_estimators=30, min_samples_split=10, min_samples_leaf=2, max_features=auto, max_depth=30, bootstrap=False, total=15.6min\n",
      "[CV] n_estimators=30, min_samples_split=10, min_samples_leaf=2, max_features=auto, max_depth=30, bootstrap=False \n"
     ]
    },
    {
     "name": "stderr",
     "output_type": "stream",
     "text": [
      "[Parallel(n_jobs=1)]: Done   1 out of   1 | elapsed: 17.2min remaining:    0.0s\n"
     ]
    },
    {
     "name": "stdout",
     "output_type": "stream",
     "text": [
      "[CV]  n_estimators=30, min_samples_split=10, min_samples_leaf=2, max_features=auto, max_depth=30, bootstrap=False, total=16.0min\n",
      "[CV] n_estimators=30, min_samples_split=10, min_samples_leaf=2, max_features=auto, max_depth=30, bootstrap=False \n",
      "[CV]  n_estimators=30, min_samples_split=10, min_samples_leaf=2, max_features=auto, max_depth=30, bootstrap=False, total=16.1min\n",
      "[CV] n_estimators=35, min_samples_split=2, min_samples_leaf=1, max_features=auto, max_depth=90, bootstrap=False \n",
      "[CV]  n_estimators=35, min_samples_split=2, min_samples_leaf=1, max_features=auto, max_depth=90, bootstrap=False, total=22.4min\n",
      "[CV] n_estimators=35, min_samples_split=2, min_samples_leaf=1, max_features=auto, max_depth=90, bootstrap=False \n",
      "[CV]  n_estimators=35, min_samples_split=2, min_samples_leaf=1, max_features=auto, max_depth=90, bootstrap=False, total=22.7min\n",
      "[CV] n_estimators=35, min_samples_split=2, min_samples_leaf=1, max_features=auto, max_depth=90, bootstrap=False \n",
      "[CV]  n_estimators=35, min_samples_split=2, min_samples_leaf=1, max_features=auto, max_depth=90, bootstrap=False, total=22.3min\n",
      "[CV] n_estimators=25, min_samples_split=10, min_samples_leaf=4, max_features=sqrt, max_depth=20, bootstrap=False \n",
      "[CV]  n_estimators=25, min_samples_split=10, min_samples_leaf=4, max_features=sqrt, max_depth=20, bootstrap=False, total=11.3min\n",
      "[CV] n_estimators=25, min_samples_split=10, min_samples_leaf=4, max_features=sqrt, max_depth=20, bootstrap=False \n",
      "[CV]  n_estimators=25, min_samples_split=10, min_samples_leaf=4, max_features=sqrt, max_depth=20, bootstrap=False, total=10.6min\n",
      "[CV] n_estimators=25, min_samples_split=10, min_samples_leaf=4, max_features=sqrt, max_depth=20, bootstrap=False \n",
      "[CV]  n_estimators=25, min_samples_split=10, min_samples_leaf=4, max_features=sqrt, max_depth=20, bootstrap=False, total=11.0min\n"
     ]
    },
    {
     "name": "stderr",
     "output_type": "stream",
     "text": [
      "[Parallel(n_jobs=1)]: Done   9 out of   9 | elapsed: 166.2min finished\n"
     ]
    },
    {
     "data": {
      "text/plain": [
       "RandomizedSearchCV(cv=3, error_score='raise',\n",
       "          estimator=RandomForestClassifier(bootstrap=True, class_weight=None, criterion='gini',\n",
       "            max_depth=None, max_features='auto', max_leaf_nodes=None,\n",
       "            min_impurity_decrease=0.0, min_impurity_split=None,\n",
       "            min_samples_leaf=1, min_samples_split=2,\n",
       "            min_weight_fraction_leaf=0.0, n_estimators=10, n_jobs=1,\n",
       "            oob_score=False, random_state=None, verbose=0,\n",
       "            warm_start=False),\n",
       "          fit_params=None, iid=True, n_iter=3, n_jobs=1,\n",
       "          param_distributions={'n_estimators': [5, 10, 15, 20, 25, 30, 35, 40, 45, 50], 'max_features': ['auto', 'sqrt'], 'max_depth': [10, 20, 30, 40, 50, 60, 70, 80, 90, 100, 110, None], 'min_samples_split': [2, 5, 10], 'min_samples_leaf': [1, 2, 4], 'bootstrap': [True, False]},\n",
       "          pre_dispatch='2*n_jobs', random_state=2, refit=True,\n",
       "          return_train_score='warn', scoring=None, verbose=2)"
      ]
     },
     "execution_count": 61,
     "metadata": {},
     "output_type": "execute_result"
    }
   ],
   "source": [
    "# Use the random grid to search for best hyperparameters\n",
    "# First create the base model to tune\n",
    "exclf = RandomForestClassifier()\n",
    "# Random search of parameters, using 3 fold cross validation, \n",
    "# search across 100 different combinations, and use all available cores\n",
    "exclf_random = RandomizedSearchCV(estimator = rf, param_distributions = random_grid, n_iter = 10, cv = 3, verbose=2, random_state=2, n_jobs = 1)\n",
    "\n",
    "# Fit the random search model\n",
    "exclf_random.fit(trainingSet2, y_training)"
   ]
  },
  {
   "cell_type": "code",
   "execution_count": 62,
   "metadata": {},
   "outputs": [
    {
     "data": {
      "text/plain": [
       "{'n_estimators': 25,\n",
       " 'min_samples_split': 10,\n",
       " 'min_samples_leaf': 4,\n",
       " 'max_features': 'sqrt',\n",
       " 'max_depth': 20,\n",
       " 'bootstrap': False}"
      ]
     },
     "execution_count": 62,
     "metadata": {},
     "output_type": "execute_result"
    }
   ],
   "source": [
    "exclf_random.best_params_"
   ]
  },
  {
   "cell_type": "markdown",
   "metadata": {},
   "source": [
    "# Pruebo con los mejores params"
   ]
  },
  {
   "cell_type": "code",
   "execution_count": 90,
   "metadata": {},
   "outputs": [],
   "source": [
    "testingSet2 = testingSet"
   ]
  },
  {
   "cell_type": "code",
   "execution_count": 91,
   "metadata": {},
   "outputs": [],
   "source": [
    "id_testing = testingSet2.id"
   ]
  },
  {
   "cell_type": "code",
   "execution_count": 103,
   "metadata": {},
   "outputs": [
    {
     "data": {
      "text/plain": [
       "1    5934281\n",
       "0    3505683\n",
       "Name: se_postulo, dtype: int64"
      ]
     },
     "execution_count": 103,
     "metadata": {},
     "output_type": "execute_result"
    }
   ],
   "source": [
    "y_training.value_counts()"
   ]
  },
  {
   "cell_type": "code",
   "execution_count": 92,
   "metadata": {},
   "outputs": [],
   "source": [
    "testingSet2 = testingSet2.drop(columns='id')"
   ]
  },
  {
   "cell_type": "code",
   "execution_count": 98,
   "metadata": {},
   "outputs": [
    {
     "data": {
      "text/plain": [
       "ExtraTreesClassifier(bootstrap=False, class_weight=None, criterion='gini',\n",
       "           max_depth=None, max_features='auto', max_leaf_nodes=None,\n",
       "           min_impurity_decrease=0.0, min_impurity_split=None,\n",
       "           min_samples_leaf=1, min_samples_split=2,\n",
       "           min_weight_fraction_leaf=0.0, n_estimators=10, n_jobs=1,\n",
       "           oob_score=False, random_state=None, verbose=0, warm_start=False)"
      ]
     },
     "execution_count": 98,
     "metadata": {},
     "output_type": "execute_result"
    }
   ],
   "source": [
    "exclf.fit(trainingSet2,y_training)"
   ]
  },
  {
   "cell_type": "code",
   "execution_count": 99,
   "metadata": {},
   "outputs": [
    {
     "data": {
      "text/plain": [
       "0.999571502603188"
      ]
     },
     "execution_count": 99,
     "metadata": {},
     "output_type": "execute_result"
    }
   ],
   "source": [
    "exclf.score(trainingSet2,y_training)"
   ]
  },
  {
   "cell_type": "code",
   "execution_count": 109,
   "metadata": {},
   "outputs": [],
   "source": [
    "y_testing = KNN.predict(testingSet2)"
   ]
  },
  {
   "cell_type": "code",
   "execution_count": 110,
   "metadata": {},
   "outputs": [
    {
     "data": {
      "text/plain": [
       "array([0, 0, 0, ..., 0, 0, 0], dtype=uint8)"
      ]
     },
     "execution_count": 110,
     "metadata": {},
     "output_type": "execute_result"
    }
   ],
   "source": [
    "y_testing"
   ]
  },
  {
   "cell_type": "code",
   "execution_count": null,
   "metadata": {},
   "outputs": [],
   "source": []
  },
  {
   "cell_type": "markdown",
   "metadata": {},
   "source": [
    "# MLPClassifier"
   ]
  },
  {
   "cell_type": "code",
   "execution_count": 1,
   "metadata": {},
   "outputs": [],
   "source": [
    "import pandas as pd\n",
    "import numpy as np\n",
    "from sklearn.neural_network import MLPClassifier\n",
    "from sklearn.metrics import mean_squared_error\n",
    "from sklearn.metrics import classification_report\n",
    "from sklearn.preprocessing import LabelEncoder"
   ]
  },
  {
   "cell_type": "code",
   "execution_count": 2,
   "metadata": {},
   "outputs": [],
   "source": [
    "dtypes = pd.Series({'idaviso': np.dtype('uint64'), 'idpostulante': np.dtype('object'),\n",
    "                   'se_postulo': np.dtype('uint8'), 'sexo_numerico': np.dtype('uint8'),\n",
    "                   'edad': np.dtype('uint16'), 'estado_code': np.dtype('uint8'),\n",
    "                   'sexo_code': np.dtype('uint8'), 'nombre_code': np.dtype('uint8'),\n",
    "                   'nombre_area_code': np.dtype('uint8'),\n",
    "                    'denominacion_empresa_code': np.dtype('uint16'),\n",
    "                   'nivel_laboral_code': np.dtype('uint8'),\n",
    "                   'tipo_de_trabajo_code': np.dtype('uint8'),\n",
    "                   'nombre_zona_code': np.dtype('uint8')})\n",
    "\n",
    "dtypes_col = dtypes.index\n",
    "dtypes_type = [i.name for i in dtypes.values]\n",
    "\n",
    "column_types = dict(zip(dtypes_col, dtypes_type))\n",
    "\n",
    "trainingSet = pd.read_csv('Data/trainingSet.csv',dtype=column_types)\n",
    "trainingSet.drop(['Unnamed: 0','sexo_numerico'],axis=1,inplace=True)"
   ]
  },
  {
   "cell_type": "code",
   "execution_count": 3,
   "metadata": {},
   "outputs": [],
   "source": [
    "#Vamos a codificar la columna de idpostulantes\n",
    "lb_make1 = LabelEncoder()\n",
    "trainingSet[\"idpostulante_code\"] = lb_make1.fit_transform(trainingSet[\"idpostulante\"])\n",
    "trainingSet.drop('idpostulante',axis=1,inplace=True) #No sirve para el algoritmo de ML"
   ]
  },
  {
   "cell_type": "code",
   "execution_count": 29,
   "metadata": {},
   "outputs": [],
   "source": [
    "columnas_corr = ['sexo_code','nivel_laboral_code','estado_code','nombre_zona_code','idpostulante_code',\n",
    "                 'idaviso','nombre_area_code']"
   ]
  },
  {
   "cell_type": "code",
   "execution_count": 5,
   "metadata": {},
   "outputs": [],
   "source": [
    "columnas_reduced = ['sexo_code','nivel_laboral_code','estado_code','nombre_zona_code','idpostulante_code']\n",
    "trainingSet_reduced =trainingSet.drop_duplicates(subset=columnas_reduced)"
   ]
  },
  {
   "cell_type": "code",
   "execution_count": 17,
   "metadata": {},
   "outputs": [
    {
     "data": {
      "text/plain": [
       "1    1003475\n",
       "0     402386\n",
       "Name: se_postulo, dtype: int64"
      ]
     },
     "execution_count": 17,
     "metadata": {},
     "output_type": "execute_result"
    }
   ],
   "source": [
    "trainingSet_reduced['se_postulo'].value_counts()"
   ]
  },
  {
   "cell_type": "markdown",
   "metadata": {},
   "source": [
    "## Se produce el problema de clases no balanceadas (malo para la red)\n",
    "    · Uso el metodo de resampling"
   ]
  },
  {
   "cell_type": "code",
   "execution_count": 19,
   "metadata": {},
   "outputs": [
    {
     "data": {
      "text/plain": [
       "1    1003475\n",
       "0    1003475\n",
       "Name: se_postulo, dtype: int64"
      ]
     },
     "execution_count": 19,
     "metadata": {},
     "output_type": "execute_result"
    }
   ],
   "source": [
    "from sklearn.utils import resample\n",
    "\n",
    "# Separate majority and minority classes\n",
    "df_majority = trainingSet_reduced[trainingSet_reduced.se_postulo==1]\n",
    "df_minority = trainingSet_reduced[trainingSet_reduced.se_postulo==0]\n",
    " \n",
    "# Upsample minority class\n",
    "df_minority_upsampled = resample(df_minority, \n",
    "                                 replace=True,     # sample with replacement\n",
    "                                 n_samples=1003475,    # to match majority class\n",
    "                                 random_state=123) # reproducible results\n",
    " \n",
    "# Combine majority class with upsampled minority class\n",
    "df_upsampled = pd.concat([df_majority, df_minority_upsampled])\n",
    " \n",
    "# Display new class counts\n",
    "df_upsampled.se_postulo.value_counts()"
   ]
  },
  {
   "cell_type": "markdown",
   "metadata": {},
   "source": [
    "# Inicio de Machine Learning"
   ]
  },
  {
   "cell_type": "code",
   "execution_count": 4,
   "metadata": {},
   "outputs": [],
   "source": [
    "columnas = ['idaviso','idpostulante_code','edad', 'estado_code', 'sexo_code',\n",
    "       'nombre_code', 'nombre_area_code', 'denominacion_empresa_code',\n",
    "       'nivel_laboral_code', 'tipo_de_trabajo_code', 'nombre_zona_code']"
   ]
  },
  {
   "cell_type": "code",
   "execution_count": 34,
   "metadata": {},
   "outputs": [],
   "source": [
    "from sklearn.model_selection import train_test_split\n",
    "\n",
    "X,y = df_upsampled,df_upsampled.se_postulo\n",
    "X = X[columnas]\n",
    "X_train, X_test, y_train, y_test = train_test_split(X, y, test_size=0.2)"
   ]
  },
  {
   "cell_type": "code",
   "execution_count": 32,
   "metadata": {},
   "outputs": [],
   "source": [
    "MLP_Classifier = MLPClassifier(hidden_layer_sizes=(11,11,11), max_iter=500)\n",
    "MLP_Classifier.fit(X_train,y_train)\n",
    "precission = MLP_Classifier.score(X_test,y_test) * 100"
   ]
  },
  {
   "cell_type": "code",
   "execution_count": 33,
   "metadata": {},
   "outputs": [
    {
     "name": "stdout",
     "output_type": "stream",
     "text": [
      "Precission: 49.99 %\n"
     ]
    }
   ],
   "source": [
    "print ('Precission: {:.2f} %'. format(abs(precission)))"
   ]
  },
  {
   "cell_type": "code",
   "execution_count": 23,
   "metadata": {},
   "outputs": [
    {
     "name": "stdout",
     "output_type": "stream",
     "text": [
      "Precission: 50.01 %\n"
     ]
    }
   ],
   "source": [
    "print ('Precission: {:.2f} %'. format(abs(precission)))"
   ]
  },
  {
   "cell_type": "markdown",
   "metadata": {},
   "source": [
    "## Aplico Down-sample Majority Class"
   ]
  },
  {
   "cell_type": "code",
   "execution_count": 25,
   "metadata": {},
   "outputs": [
    {
     "data": {
      "text/plain": [
       "1    402386\n",
       "0    402386\n",
       "Name: se_postulo, dtype: int64"
      ]
     },
     "execution_count": 25,
     "metadata": {},
     "output_type": "execute_result"
    }
   ],
   "source": [
    "df_majority = trainingSet_reduced[trainingSet_reduced.se_postulo==1]\n",
    "df_minority = trainingSet_reduced[trainingSet_reduced.se_postulo==0]\n",
    " \n",
    "# Downsample majority class\n",
    "df_majority_downsampled = resample(df_majority, \n",
    "                                 replace=False,    # sample without replacement\n",
    "                                 n_samples=402386,     # to match minority class\n",
    "                                 random_state=123) # reproducible results\n",
    " \n",
    "# Combine minority class with downsampled majority class\n",
    "df_downsampled = pd.concat([df_majority_downsampled, df_minority])\n",
    " \n",
    "# Display new class counts\n",
    "df_downsampled.se_postulo.value_counts()"
   ]
  },
  {
   "cell_type": "code",
   "execution_count": 27,
   "metadata": {},
   "outputs": [],
   "source": [
    "from sklearn.model_selection import train_test_split\n",
    "\n",
    "X,y = df_downsampled,df_downsampled.se_postulo\n",
    "X = X[columnas]\n",
    "X_train, X_test, y_train, y_test = train_test_split(X, y, test_size=0.2)"
   ]
  },
  {
   "cell_type": "code",
   "execution_count": 28,
   "metadata": {},
   "outputs": [
    {
     "name": "stdout",
     "output_type": "stream",
     "text": [
      "Precission: 49.97 %\n"
     ]
    }
   ],
   "source": [
    "MLP_Classifier = MLPClassifier(hidden_layer_sizes=(11,11,11), max_iter=500)\n",
    "MLP_Classifier.fit(X_train,y_train)\n",
    "precission = MLP_Classifier.score(X_test,y_test) * 100\n",
    "print ('Precission: {:.2f} %'. format(abs(precission)))"
   ]
  },
  {
   "cell_type": "markdown",
   "metadata": {},
   "source": [
    "# Aplico PCA al training reducido"
   ]
  },
  {
   "cell_type": "code",
   "execution_count": 7,
   "metadata": {},
   "outputs": [],
   "source": [
    "from sklearn.model_selection import train_test_split\n",
    "\n",
    "X,y = trainingSet_reduced,trainingSet_reduced.se_postulo\n",
    "X = X[columnas]\n",
    "X_train, X_test, y_train, y_test = train_test_split(X, y, test_size=0.2)"
   ]
  },
  {
   "cell_type": "code",
   "execution_count": 9,
   "metadata": {},
   "outputs": [],
   "source": [
    "from sklearn.preprocessing import StandardScaler\n",
    "scaler = StandardScaler()\n",
    "\n",
    "# Fit on training set only.\n",
    "scaler.fit(X_train)\n",
    "\n",
    "# Apply transform to both the training set and the test set.\n",
    "X_train = scaler.transform(X_train)\n",
    "X_test = scaler.transform(X_test)"
   ]
  },
  {
   "cell_type": "code",
   "execution_count": 8,
   "metadata": {},
   "outputs": [],
   "source": [
    "from sklearn.decomposition import PCA\n",
    "\n",
    "# Make an instance of the Model\n",
    "pca = PCA(.95)\n",
    "\n",
    "#Nos quedamos con el 95% de la varianza"
   ]
  },
  {
   "cell_type": "code",
   "execution_count": 9,
   "metadata": {},
   "outputs": [
    {
     "data": {
      "text/plain": [
       "PCA(copy=True, iterated_power='auto', n_components=0.95, random_state=None,\n",
       "  svd_solver='auto', tol=0.0, whiten=False)"
      ]
     },
     "execution_count": 9,
     "metadata": {},
     "output_type": "execute_result"
    }
   ],
   "source": [
    "pca.fit(X_train)"
   ]
  },
  {
   "cell_type": "code",
   "execution_count": 10,
   "metadata": {},
   "outputs": [],
   "source": [
    "X_train = pca.transform(X_train)\n",
    "X_test = pca.transform(X_test)"
   ]
  },
  {
   "cell_type": "markdown",
   "metadata": {},
   "source": [
    "# Uso MLPClassifier sin PCA y con todas las columnas"
   ]
  },
  {
   "cell_type": "code",
   "execution_count": 10,
   "metadata": {},
   "outputs": [],
   "source": [
    "MLP_Classifier = MLPClassifier(hidden_layer_sizes=(11,11,11), max_iter=500)\n",
    "MLP_Classifier.fit(X_train,y_train)\n",
    "precission = MLP_Classifier.score(X_test,y_test) * 100"
   ]
  },
  {
   "cell_type": "code",
   "execution_count": 12,
   "metadata": {},
   "outputs": [
    {
     "name": "stdout",
     "output_type": "stream",
     "text": [
      "Method name = MLPClassifier\n",
      "Mean squared error: 0.19009649511969026\n",
      "Precission: 81.81 %\n"
     ]
    }
   ],
   "source": [
    "from sklearn.model_selection import cross_val_score\n",
    "mse = np.mean(cross_val_score(MLP_Classifier, X_test, y_test,scoring='neg_mean_squared_error', cv=3,  n_jobs=-1))\n",
    "print(\"Method name = {}\".format(\"MLPClassifier\"))\n",
    "print ('Mean squared error: {}'.format(abs(mse)))\n",
    "print ('Precission: {:.2f} %'. format(abs(precission)))"
   ]
  },
  {
   "cell_type": "markdown",
   "metadata": {},
   "source": [
    "# TestingSet"
   ]
  },
  {
   "cell_type": "code",
   "execution_count": 13,
   "metadata": {},
   "outputs": [],
   "source": [
    "dtypes = pd.Series({'idaviso': np.dtype('uint64'), 'idpostulante': np.dtype('object'),\n",
    "                   'se_postulo': np.dtype('uint8'), 'edad': np.dtype('uint16'), \n",
    "                    'estado_code': np.dtype('uint8'),'sexo_code': np.dtype('uint8'),\n",
    "                    'nombre_code': np.dtype('uint8'),'nombre_area_code': np.dtype('uint8'),\n",
    "                    'denominacion_empresa_code': np.dtype('uint16'),\n",
    "                   'nivel_laboral_code': np.dtype('uint8'),\n",
    "                   'tipo_de_trabajo_code': np.dtype('uint8'),\n",
    "                   'nombre_zona_code': np.dtype('uint8')})\n",
    "\n",
    "dtypes_col = dtypes.index\n",
    "dtypes_type = [i.name for i in dtypes.values]\n",
    "\n",
    "column_types = dict(zip(dtypes_col, dtypes_type))\n",
    "\n",
    "\n",
    "testingSet_imp_mean = pd.read_csv('TestingSets/testingSet_imp_mean.csv')\n",
    "testingSet_imp_mean.drop(columns=['Unnamed: 0'],inplace=True)\n",
    "testingSet_imp_mean[\"idpostulante_code\"] = lb_make1.fit_transform(testingSet_imp_mean[\"idpostulante\"])\n",
    "testingSet_imp_mean.drop(columns=['idpostulante'],inplace=True) #No sirve para el algoritmo de ML"
   ]
  },
  {
   "cell_type": "code",
   "execution_count": 15,
   "metadata": {},
   "outputs": [],
   "source": [
    "# Hago la prediccion\n",
    "testingSet_imp_mean.loc[:,'sepostulo'] = testingSet_imp_mean[columnas].apply(lambda x: MLP_Classifier.predict([x])[0],axis = 1)\n",
    "testingSet_imp_mean.drop(['nombre_area_code','denominacion_empresa_code','nivel_laboral_code','tipo_de_trabajo_code','tipo_de_trabajo_code','nombre_zona_code','edad','estado_code','sexo_code','nombre_code','idaviso','idpostulante_code'],axis=1,inplace=True)"
   ]
  },
  {
   "cell_type": "code",
   "execution_count": 16,
   "metadata": {},
   "outputs": [
    {
     "data": {
      "text/plain": [
       "0    100000\n",
       "Name: sepostulo, dtype: int64"
      ]
     },
     "execution_count": 16,
     "metadata": {},
     "output_type": "execute_result"
    }
   ],
   "source": [
    "testingSet_imp_mean['sepostulo'].value_counts()"
   ]
  },
  {
   "cell_type": "markdown",
   "metadata": {},
   "source": [
    "# RandomForestClassifier"
   ]
  },
  {
   "cell_type": "code",
   "execution_count": 1,
   "metadata": {
    "collapsed": true
   },
   "outputs": [],
   "source": [
    "import pandas as pd\n",
    "import numpy as np\n",
    "from pandas.api.types import CategoricalDtype\n",
    "import time\n",
    "from datetime import datetime\n",
    "import scipy.spatial\n",
    "import numpy as np\n",
    "from sklearn.preprocessing import LabelEncoder\n",
    "from sklearn import preprocessing\n",
    "from sklearn import model_selection\n",
    "from sklearn.model_selection import GridSearchCV\n",
    "from sklearn.model_selection import RandomizedSearchCV\n",
    "from sklearn.model_selection import cross_val_score\n",
    "from sklearn.model_selection import train_test_split\n",
    "from sklearn.ensemble import RandomForestClassifier\n",
    "import matplotlib.pyplot as plt\n",
    "import seaborn as sns # data visualization library "
   ]
  },
  {
   "cell_type": "markdown",
   "metadata": {},
   "source": [
    "# Training set con encoding"
   ]
  },
  {
   "cell_type": "code",
   "execution_count": 2,
   "metadata": {
    "collapsed": true
   },
   "outputs": [],
   "source": [
    "dtypes = pd.Series({'idaviso': np.dtype('uint64'), 'idpostulante': np.dtype('object'),\n",
    "                   'se_postulo': np.dtype('uint8'), 'sexo_numerico': np.dtype('uint8'),\n",
    "                   'edad': np.dtype('uint16'), 'estado_code': np.dtype('uint8'),\n",
    "                   'sexo_code': np.dtype('uint8'), 'nombre_code': np.dtype('uint8'),\n",
    "                   'nombre_area_code': np.dtype('uint8'),\n",
    "                    'denominacion_empresa_code': np.dtype('uint16'),\n",
    "                   'nivel_laboral_code': np.dtype('uint8'),\n",
    "                   'tipo_de_trabajo_code': np.dtype('uint8'),\n",
    "                   'nombre_zona_code': np.dtype('uint8')})\n",
    "\n",
    "dtypes_col = dtypes.index\n",
    "dtypes_type = [i.name for i in dtypes.values]\n",
    "\n",
    "column_types = dict(zip(dtypes_col, dtypes_type))\n",
    "\n",
    "trainingSet = pd.read_csv('Data/trainingSet.csv',dtype=column_types)\n",
    "trainingSet.drop(['Unnamed: 0','sexo_numerico'],axis=1,inplace=True)\n",
    "#trainingSet.drop(inplace=True)"
   ]
  },
  {
   "cell_type": "code",
   "execution_count": 3,
   "metadata": {},
   "outputs": [
    {
     "name": "stdout",
     "output_type": "stream",
     "text": [
      "<class 'pandas.core.frame.DataFrame'>\n",
      "RangeIndex: 9439964 entries, 0 to 9439963\n",
      "Data columns (total 12 columns):\n",
      "idaviso                      uint64\n",
      "idpostulante                 object\n",
      "se_postulo                   uint8\n",
      "edad                         uint16\n",
      "estado_code                  uint8\n",
      "sexo_code                    uint8\n",
      "nombre_code                  uint8\n",
      "nombre_area_code             uint8\n",
      "denominacion_empresa_code    uint16\n",
      "nivel_laboral_code           uint8\n",
      "tipo_de_trabajo_code         uint8\n",
      "nombre_zona_code             uint8\n",
      "dtypes: object(1), uint16(2), uint64(1), uint8(8)\n",
      "memory usage: 252.1+ MB\n"
     ]
    }
   ],
   "source": [
    "trainingSet.info()"
   ]
  },
  {
   "cell_type": "code",
   "execution_count": 3,
   "metadata": {
    "collapsed": true
   },
   "outputs": [],
   "source": [
    "#Vamos a codificar la columna de idpostulantes\n",
    "lb_make1 = LabelEncoder()\n",
    "trainingSet[\"idpostulante_code\"] = lb_make1.fit_transform(trainingSet[\"idpostulante\"])\n",
    "trainingSet.drop('idpostulante',axis=1,inplace=True) #No sirve para el algoritmo de ML"
   ]
  },
  {
   "cell_type": "code",
   "execution_count": null,
   "metadata": {},
   "outputs": [],
   "source": [
    "import matplotlib.pyplot as plt\n",
    "from sklearn.model_selection import train_test_split\n",
    "from sklearn.ensemble import RandomForestClassifier\n",
    "from sklearn.metrics import f1_score,confusion_matrix\n",
    "from sklearn.metrics import accuracy_score\n",
    "\n",
    "# split data train 70 % and test 30 %\n",
    "columnas = trainingSet.columns.drop(\"se_postulo\")\n",
    "x_train, x_test, y_train, y_test = train_test_split(trainingSet[columnas],trainingSet['se_postulo']\n",
    "                                                    , test_size=0.3, random_state=42)\n",
    "\n",
    "clf_rf_5 = RandomForestClassifier()      \n",
    "clr_rf_5 = clf_rf_5.fit(x_train,y_train)\n",
    "importances = clr_rf_5.feature_importances_\n",
    "std = np.std([tree.feature_importances_ for tree in clf_rf_5.estimators_],\n",
    "             axis=0)\n",
    "indices = np.argsort(importances)[::-1]\n",
    "\n",
    "# Print the feature ranking\n",
    "print(\"Feature ranking:\")\n",
    "\n",
    "for f in range(x_train.shape[1]):\n",
    "    print(\"%d. feature %d (%f)\" % (f + 1, indices[f], importances[indices[f]]))\n",
    "\n",
    "# Plot the feature importances of the forest\n",
    "\n",
    "plt.figure(1, figsize=(14, 13))\n",
    "plt.title(\"Feature importances\")\n",
    "plt.bar(range(x_train.shape[1]), importances[indices],\n",
    "       color=\"g\", yerr=std[indices], align=\"center\")\n",
    "plt.xticks(range(x_train.shape[1]), x_train.columns[indices],rotation=90)\n",
    "plt.xlim([-1, x_train.shape[1]])\n",
    "plt.show()"
   ]
  },
  {
   "cell_type": "code",
   "execution_count": 4,
   "metadata": {},
   "outputs": [],
   "source": [
    "columnas_por_importancia = ['idaviso','idpostulante_code','edad','denominacion_empresa_code',\n",
    "                            'nombre_area_code','nombre_code']"
   ]
  },
  {
   "cell_type": "code",
   "execution_count": 5,
   "metadata": {},
   "outputs": [
    {
     "name": "stdout",
     "output_type": "stream",
     "text": [
      "confusion matrix\n",
      "[[ 722292  328803]\n",
      " [ 351141 1429754]]\n",
      "classification report\n",
      "             precision    recall  f1-score   support\n",
      "\n",
      "          0       0.67      0.69      0.68   1051095\n",
      "          1       0.81      0.80      0.81   1780895\n",
      "\n",
      "avg / total       0.76      0.76      0.76   2831990\n",
      "\n",
      "-----------------------------------------------------------------------------------------\n",
      "Accuracy is :\n",
      "0.7599059318712283\n",
      "Area under the curve : 0.745005\n"
     ]
    }
   ],
   "source": [
    "from sklearn.model_selection import train_test_split\n",
    "from sklearn.ensemble import RandomForestClassifier\n",
    "from sklearn.metrics import f1_score,confusion_matrix\n",
    "from sklearn.metrics import accuracy_score\n",
    "\n",
    "# split data train 70 % and test 30 %\n",
    "columnas = trainingSet.columns.drop(\"se_postulo\")\n",
    "x_train, x_test, y_train, y_test = train_test_split(trainingSet[columnas_por_importancia],trainingSet['se_postulo']\n",
    "                                                    ,test_size=0.3, random_state=42)\n",
    "\n",
    "clf = RandomForestClassifier()\n",
    "clr = clf.fit(x_train,y_train)\n",
    "\n",
    "from sklearn import metrics\n",
    "import warnings\n",
    "warnings.filterwarnings(\"ignore\")\n",
    "\n",
    "y_pred = clf.predict(x_test)  #predicts\n",
    "print('confusion matrix')\n",
    "print(metrics.confusion_matrix(y_test, y_pred))\n",
    "print('classification report')\n",
    "print(metrics.classification_report(y_test, y_pred))\n",
    "print(\"-----------------------------------------------------------------------------------------\")\n",
    "print(\"Accuracy is :\")\n",
    "print(metrics.accuracy_score(y_test, y_pred))\n",
    "print('Area under the curve : %f' % (metrics.roc_auc_score(y_test, y_pred)))"
   ]
  },
  {
   "cell_type": "markdown",
   "metadata": {},
   "source": [
    "# Stochastic Gradient Descent"
   ]
  },
  {
   "cell_type": "code",
   "execution_count": 5,
   "metadata": {},
   "outputs": [
    {
     "name": "stderr",
     "output_type": "stream",
     "text": [
      "/home/lucio/Documentos/Datos/lib/python3.6/site-packages/sklearn/linear_model/stochastic_gradient.py:117: DeprecationWarning: n_iter parameter is deprecated in 0.19 and will be removed in 0.21. Use max_iter and tol instead.\n",
      "  DeprecationWarning)\n"
     ]
    },
    {
     "name": "stdout",
     "output_type": "stream",
     "text": [
      "confusion matrix\n",
      "[[      0 1051095]\n",
      " [      0 1780895]]\n",
      "classification report\n"
     ]
    },
    {
     "name": "stderr",
     "output_type": "stream",
     "text": [
      "/home/lucio/Documentos/Datos/lib/python3.6/site-packages/sklearn/metrics/classification.py:1135: UndefinedMetricWarning: Precision and F-score are ill-defined and being set to 0.0 in labels with no predicted samples.\n",
      "  'precision', 'predicted', average, warn_for)\n"
     ]
    },
    {
     "name": "stdout",
     "output_type": "stream",
     "text": [
      "             precision    recall  f1-score   support\n",
      "\n",
      "          0       0.00      0.00      0.00   1051095\n",
      "          1       0.63      1.00      0.77   1780895\n",
      "\n",
      "avg / total       0.40      0.63      0.49   2831990\n",
      "\n",
      "-----------------------------------------------------------------------------------------\n",
      "Accuracy is :\n",
      "1780895\n",
      "Area under the curve : 0.500000\n"
     ]
    }
   ],
   "source": [
    "from sklearn.linear_model import SGDClassifier\n",
    "from sklearn.model_selection import train_test_split\n",
    "from sklearn import metrics\n",
    "\n",
    "# split data train 70 % and test 30 %\n",
    "columnas = trainingSet.columns.drop(\"se_postulo\")\n",
    "x_train, x_test, y_train, y_test = train_test_split(trainingSet[columnas],trainingSet['se_postulo']\n",
    "                                                    , test_size=0.3, random_state=42)\n",
    "\n",
    "clf = SGDClassifier(loss=\"log\", penalty=\"l2\",n_iter=500)\n",
    "clf.fit(x_train, y_train)\n",
    "y_pred = clf.predict(x_test)  #predicts\n",
    "\n",
    "print('confusion matrix')\n",
    "print(metrics.confusion_matrix(y_test, y_pred.round()))\n",
    "print('classification report')\n",
    "print(metrics.classification_report(y_test, y_pred.round()))\n",
    "print(\"-----------------------------------------------------------------------------------------\")\n",
    "print(\"Accuracy is :\")\n",
    "print(metrics.accuracy_score(y_test, y_pred.round(), normalize=False))\n",
    "print('Area under the curve : %f' % (metrics.roc_auc_score(y_test, y_pred.round())))"
   ]
  },
  {
   "cell_type": "code",
   "execution_count": 6,
   "metadata": {},
   "outputs": [
    {
     "name": "stderr",
     "output_type": "stream",
     "text": [
      "/home/lucio/Documentos/Datos/lib/python3.6/site-packages/sklearn/linear_model/stochastic_gradient.py:117: DeprecationWarning: n_iter parameter is deprecated in 0.19 and will be removed in 0.21. Use max_iter and tol instead.\n",
      "  DeprecationWarning)\n"
     ]
    },
    {
     "name": "stdout",
     "output_type": "stream",
     "text": [
      "confusion matrix\n",
      "[[    171 1050924]\n",
      " [     29 1780866]]\n",
      "classification report\n",
      "             precision    recall  f1-score   support\n",
      "\n",
      "          0       0.85      0.00      0.00   1051095\n",
      "          1       0.63      1.00      0.77   1780895\n",
      "\n",
      "avg / total       0.71      0.63      0.49   2831990\n",
      "\n",
      "-----------------------------------------------------------------------------------------\n",
      "Accuracy is :\n",
      "1781037\n",
      "Area under the curve : 0.500073\n"
     ]
    }
   ],
   "source": [
    "from sklearn.linear_model import SGDClassifier\n",
    "from sklearn.model_selection import train_test_split\n",
    "from sklearn import metrics\n",
    "\n",
    "from sklearn.preprocessing import StandardScaler\n",
    "scaler = StandardScaler()\n",
    "scaler.fit(x_train)  # Don't cheat - fit only on training data\n",
    "x_train = scaler.transform(x_train)\n",
    "x_test = scaler.transform(x_test)  # apply same transformation to test data\n",
    "\n",
    "clf = SGDClassifier(loss=\"log\", penalty=\"l2\",n_iter=500)\n",
    "clf.fit(x_train, y_train)\n",
    "y_pred = clf.predict(x_test)  #predicts\n",
    "\n",
    "print('confusion matrix')\n",
    "print(metrics.confusion_matrix(y_test, y_pred.round()))\n",
    "print('classification report')\n",
    "print(metrics.classification_report(y_test, y_pred.round()))\n",
    "print(\"-----------------------------------------------------------------------------------------\")\n",
    "print(\"Accuracy is :\")\n",
    "print(metrics.accuracy_score(y_test, y_pred.round(), normalize=False))\n",
    "print('Area under the curve : %f' % (metrics.roc_auc_score(y_test, y_pred.round())))"
   ]
  },
  {
   "cell_type": "code",
   "execution_count": 7,
   "metadata": {},
   "outputs": [
    {
     "name": "stderr",
     "output_type": "stream",
     "text": [
      "/home/lucio/Documentos/Datos/lib/python3.6/site-packages/sklearn/linear_model/stochastic_gradient.py:117: DeprecationWarning: n_iter parameter is deprecated in 0.19 and will be removed in 0.21. Use max_iter and tol instead.\n",
      "  DeprecationWarning)\n"
     ]
    },
    {
     "name": "stdout",
     "output_type": "stream",
     "text": [
      "confusion matrix\n",
      "[[      0 1051095]\n",
      " [      0 1780895]]\n",
      "classification report\n"
     ]
    },
    {
     "name": "stderr",
     "output_type": "stream",
     "text": [
      "/home/lucio/Documentos/Datos/lib/python3.6/site-packages/sklearn/metrics/classification.py:1135: UndefinedMetricWarning: Precision and F-score are ill-defined and being set to 0.0 in labels with no predicted samples.\n",
      "  'precision', 'predicted', average, warn_for)\n"
     ]
    },
    {
     "name": "stdout",
     "output_type": "stream",
     "text": [
      "             precision    recall  f1-score   support\n",
      "\n",
      "          0       0.00      0.00      0.00   1051095\n",
      "          1       0.63      1.00      0.77   1780895\n",
      "\n",
      "avg / total       0.40      0.63      0.49   2831990\n",
      "\n",
      "-----------------------------------------------------------------------------------------\n",
      "Accuracy is :\n",
      "1780895\n",
      "Area under the curve : 0.500000\n"
     ]
    }
   ],
   "source": [
    "clf = SGDClassifier(loss=\"hinge\", penalty=\"l2\",n_iter=500)\n",
    "clf.fit(x_train, y_train)\n",
    "y_pred = clf.predict(x_test)  #predicts\n",
    "\n",
    "print('confusion matrix')\n",
    "print(metrics.confusion_matrix(y_test, y_pred.round()))\n",
    "print('classification report')\n",
    "print(metrics.classification_report(y_test, y_pred.round()))\n",
    "print(\"-----------------------------------------------------------------------------------------\")\n",
    "print(\"Accuracy is :\")\n",
    "print(metrics.accuracy_score(y_test, y_pred.round(), normalize=False))\n",
    "print('Area under the curve : %f' % (metrics.roc_auc_score(y_test, y_pred.round())))"
   ]
  },
  {
   "cell_type": "markdown",
   "metadata": {},
   "source": [
    "# Testing sets con encoding"
   ]
  },
  {
   "cell_type": "code",
   "execution_count": 11,
   "metadata": {},
   "outputs": [],
   "source": [
    "dtypes = pd.Series({'idaviso': np.dtype('uint64'), 'idpostulante': np.dtype('object'),\n",
    "                   'se_postulo': np.dtype('uint8'), 'edad': np.dtype('uint16'), \n",
    "                    'estado_code': np.dtype('uint8'),'sexo_code': np.dtype('uint8'),\n",
    "                    'nombre_code': np.dtype('uint8'),'nombre_area_code': np.dtype('uint8'),\n",
    "                    'denominacion_empresa_code': np.dtype('uint16'),\n",
    "                   'nivel_laboral_code': np.dtype('uint8'),\n",
    "                   'tipo_de_trabajo_code': np.dtype('uint8'),\n",
    "                   'nombre_zona_code': np.dtype('uint8')})\n",
    "\n",
    "dtypes_col = dtypes.index\n",
    "dtypes_type = [i.name for i in dtypes.values]\n",
    "\n",
    "column_types = dict(zip(dtypes_col, dtypes_type))\n",
    "\n",
    "\n",
    "testingSet_imp_mean = pd.read_csv('TestingSets/testingSet_imp_mean.csv')\n",
    "testingSet_imp_mean.drop(columns=['Unnamed: 0'],inplace=True)\n",
    "testingSet_imp_mean[\"idpostulante_code\"] = lb_make1.fit_transform(testingSet_imp_mean[\"idpostulante\"])\n",
    "testingSet_imp_mean.drop(columns=['idpostulante'],inplace=True) #No sirve para el algoritmo de ML"
   ]
  },
  {
   "cell_type": "code",
   "execution_count": 12,
   "metadata": {},
   "outputs": [],
   "source": [
    "# Hago la prediccion\n",
    "testingSet_imp_mean.loc[:,'se_postulo'] = testingSet_imp_mean[columnas_por_importancia].apply(lambda x: clf.predict([x])[0],axis = 1)\n",
    "testingSet_imp_mean.drop(['nombre_area_code','denominacion_empresa_code','nivel_laboral_code','tipo_de_trabajo_code','tipo_de_trabajo_code','nombre_zona_code','edad','estado_code','sexo_code','nombre_code','idaviso','idpostulante_code'],axis=1,inplace=True)"
   ]
  },
  {
   "cell_type": "code",
   "execution_count": 17,
   "metadata": {},
   "outputs": [
    {
     "data": {
      "text/plain": [
       "0    62137\n",
       "1    37863\n",
       "Name: sepostulo, dtype: int64"
      ]
     },
     "execution_count": 17,
     "metadata": {},
     "output_type": "execute_result"
    }
   ],
   "source": [
    "testingSet_imp_mean.rename(index=str,columns={'se_postulo': 'sepostulo'},inplace=True)\n",
    "testingSet_imp_mean['sepostulo'].value_counts()"
   ]
  },
  {
   "cell_type": "code",
   "execution_count": 18,
   "metadata": {},
   "outputs": [
    {
     "data": {
      "text/html": [
       "<div>\n",
       "<style scoped>\n",
       "    .dataframe tbody tr th:only-of-type {\n",
       "        vertical-align: middle;\n",
       "    }\n",
       "\n",
       "    .dataframe tbody tr th {\n",
       "        vertical-align: top;\n",
       "    }\n",
       "\n",
       "    .dataframe thead th {\n",
       "        text-align: right;\n",
       "    }\n",
       "</style>\n",
       "<table border=\"1\" class=\"dataframe\">\n",
       "  <thead>\n",
       "    <tr style=\"text-align: right;\">\n",
       "      <th></th>\n",
       "      <th>id</th>\n",
       "      <th>sepostulo</th>\n",
       "    </tr>\n",
       "  </thead>\n",
       "  <tbody>\n",
       "    <tr>\n",
       "      <th>0</th>\n",
       "      <td>0</td>\n",
       "      <td>0</td>\n",
       "    </tr>\n",
       "    <tr>\n",
       "      <th>1</th>\n",
       "      <td>1</td>\n",
       "      <td>0</td>\n",
       "    </tr>\n",
       "    <tr>\n",
       "      <th>2</th>\n",
       "      <td>2</td>\n",
       "      <td>0</td>\n",
       "    </tr>\n",
       "    <tr>\n",
       "      <th>3</th>\n",
       "      <td>3</td>\n",
       "      <td>0</td>\n",
       "    </tr>\n",
       "    <tr>\n",
       "      <th>4</th>\n",
       "      <td>4</td>\n",
       "      <td>0</td>\n",
       "    </tr>\n",
       "  </tbody>\n",
       "</table>\n",
       "</div>"
      ],
      "text/plain": [
       "   id  sepostulo\n",
       "0   0          0\n",
       "1   1          0\n",
       "2   2          0\n",
       "3   3          0\n",
       "4   4          0"
      ]
     },
     "execution_count": 18,
     "metadata": {},
     "output_type": "execute_result"
    }
   ],
   "source": [
    "testingSet_imp_mean.head()"
   ]
  },
  {
   "cell_type": "code",
   "execution_count": 19,
   "metadata": {},
   "outputs": [],
   "source": [
    "testingSet_imp_mean.to_csv('Submit/randomForest_feature_importance_encodeado.csv',index=False)"
   ]
  },
  {
   "cell_type": "markdown",
   "metadata": {},
   "source": [
    "# RandomSearch"
   ]
  },
  {
   "cell_type": "code",
   "execution_count": 5,
   "metadata": {
    "collapsed": true
   },
   "outputs": [],
   "source": [
    "columnas_por_importancia = ['idaviso','idpostulante_code','edad','denominacion_empresa_code',\n",
    "                            'nombre_area_code','nombre_code']"
   ]
  },
  {
   "cell_type": "code",
   "execution_count": 6,
   "metadata": {},
   "outputs": [],
   "source": [
    "columnas_reduced = ['sexo_code','nivel_laboral_code','estado_code','nombre_zona_code','idpostulante_code']\n",
    "trainingSet_reduced =trainingSet.drop_duplicates(subset=columnas_reduced)"
   ]
  },
  {
   "cell_type": "code",
   "execution_count": 11,
   "metadata": {},
   "outputs": [],
   "source": [
    "from sklearn.model_selection import RandomizedSearchCV\n",
    "\n",
    "# Number of trees in random forest\n",
    "n_estimators = [int(x) for x in np.linspace(start = 200, stop = 2000, num = 10)]\n",
    "# Number of features to consider at every split\n",
    "max_features = ['auto', 'sqrt']\n",
    "# Maximum number of levels in tree\n",
    "max_depth = [int(x) for x in np.linspace(10, 50, num = 11)]\n",
    "max_depth.append(None)\n",
    "# Minimum number of samples required to split a node\n",
    "min_samples_split = [2, 5, 10]\n",
    "# Minimum number of samples required at each leaf node\n",
    "min_samples_leaf = [1, 2, 4]\n",
    "# Method of selecting samples for training each tree\n",
    "bootstrap = [True, False]\n",
    "\n",
    "# Create the random grid\n",
    "random_grid = {'n_estimators': n_estimators,\n",
    "               'max_features': max_features,\n",
    "               'max_depth': max_depth,\n",
    "               'min_samples_split': min_samples_split,\n",
    "               'min_samples_leaf': min_samples_leaf,\n",
    "               'bootstrap': bootstrap}"
   ]
  },
  {
   "cell_type": "code",
   "execution_count": null,
   "metadata": {},
   "outputs": [
    {
     "name": "stdout",
     "output_type": "stream",
     "text": [
      "Fitting 2 folds for each of 2 candidates, totalling 4 fits\n",
      "[CV] n_estimators=200, min_samples_split=10, min_samples_leaf=2, max_features=sqrt, max_depth=50, bootstrap=True \n",
      "[CV] n_estimators=200, min_samples_split=10, min_samples_leaf=2, max_features=sqrt, max_depth=50, bootstrap=True \n",
      "[CV]  n_estimators=200, min_samples_split=10, min_samples_leaf=2, max_features=sqrt, max_depth=50, bootstrap=True, total=13.6min\n",
      "[CV]  n_estimators=200, min_samples_split=10, min_samples_leaf=2, max_features=sqrt, max_depth=50, bootstrap=True, total=13.7min\n",
      "[CV] n_estimators=600, min_samples_split=10, min_samples_leaf=4, max_features=sqrt, max_depth=90, bootstrap=False \n",
      "[CV] n_estimators=600, min_samples_split=10, min_samples_leaf=4, max_features=sqrt, max_depth=90, bootstrap=False \n"
     ]
    }
   ],
   "source": [
    "X,y = trainingSet_reduced,trainingSet_reduced.se_postulo\n",
    "X = X[columnas]\n",
    "X_train, X_test, y_train, y_test = train_test_split(X, y, test_size=0.25)\n",
    "\n",
    "# Use the random grid to search for best hyperparameters\n",
    "# First create the base model to tune\n",
    "rf = RandomForestClassifier(random_state = 42)\n",
    "# Random search of parameters, using 3 fold cross validation, \n",
    "# search across 100 different combinations, and use all available cores\n",
    "rf_random = RandomizedSearchCV(estimator=rf, param_distributions=random_grid,\n",
    "                              n_iter = 2, scoring='neg_mean_absolute_error', \n",
    "                              cv = 2, verbose=2, random_state=42, n_jobs=-1,\n",
    "                              return_train_score=True)\n",
    "\n",
    "# Fit the random search model\n",
    "rf_random.fit(X_train, y_train);"
   ]
  },
  {
   "cell_type": "code",
   "execution_count": null,
   "metadata": {},
   "outputs": [
    {
     "name": "stdout",
     "output_type": "stream",
     "text": [
      "Fitting 2 folds for each of 2 candidates, totalling 4 fits\n",
      "[CV] n_estimators=200, min_samples_split=10, min_samples_leaf=2, max_features=sqrt, max_depth=26, bootstrap=True \n",
      "[CV] n_estimators=200, min_samples_split=10, min_samples_leaf=2, max_features=sqrt, max_depth=26, bootstrap=True \n",
      "[CV]  n_estimators=200, min_samples_split=10, min_samples_leaf=2, max_features=sqrt, max_depth=26, bootstrap=True, total=13.9min\n",
      "[CV]  n_estimators=200, min_samples_split=10, min_samples_leaf=2, max_features=sqrt, max_depth=26, bootstrap=True, total=13.9min\n",
      "[CV] n_estimators=600, min_samples_split=10, min_samples_leaf=4, max_features=sqrt, max_depth=42, bootstrap=False \n",
      "[CV] n_estimators=600, min_samples_split=10, min_samples_leaf=4, max_features=sqrt, max_depth=42, bootstrap=False \n"
     ]
    }
   ],
   "source": [
    "X,y = trainingSet_reduced,trainingSet_reduced.se_postulo\n",
    "X = X[columnas]\n",
    "X_train, X_test, y_train, y_test = train_test_split(X, y, test_size=0.25)\n",
    "\n",
    "# Use the random grid to search for best hyperparameters\n",
    "# First create the base model to tune\n",
    "rf = RandomForestClassifier(random_state = 42)\n",
    "# Random search of parameters, using 3 fold cross validation, \n",
    "# search across 100 different combinations, and use all available cores\n",
    "rf_random = RandomizedSearchCV(estimator=rf, param_distributions=random_grid,\n",
    "                              n_iter = 2, scoring='neg_mean_absolute_error', \n",
    "                              cv = 2, verbose=2, random_state=42, n_jobs=-1,\n",
    "                              return_train_score=True)\n",
    "\n",
    "# Fit the random search model\n",
    "rf_random.fit(X_train, y_train);"
   ]
  },
  {
   "cell_type": "code",
   "execution_count": null,
   "metadata": {
    "collapsed": true
   },
   "outputs": [],
   "source": []
  },
  {
   "cell_type": "code",
   "execution_count": 15,
   "metadata": {},
   "outputs": [],
   "source": [
    "dtypes = pd.Series({'idaviso': np.dtype('uint64'), 'idpostulante': np.dtype('object'),\n",
    "                   'se_postulo': np.dtype('uint8'), 'edad': np.dtype('uint16'), \n",
    "                    'estado_code': np.dtype('uint8'),'sexo_code': np.dtype('uint8'),\n",
    "                    'nombre_code': np.dtype('uint8'),'nombre_area_code': np.dtype('uint8'),\n",
    "                    'denominacion_empresa_code': np.dtype('uint16'),\n",
    "                   'nivel_laboral_code': np.dtype('uint8'),\n",
    "                   'tipo_de_trabajo_code': np.dtype('uint8'),\n",
    "                   'nombre_zona_code': np.dtype('uint8')})\n",
    "\n",
    "dtypes_col = dtypes.index\n",
    "dtypes_type = [i.name for i in dtypes.values]\n",
    "\n",
    "column_types = dict(zip(dtypes_col, dtypes_type))\n",
    "\n",
    "\n",
    "testingSet_imp_mean = pd.read_csv('TestingSets/testingSet_imp_mean.csv')\n",
    "testingSet_imp_mean.drop(columns=['Unnamed: 0'],inplace=True)\n",
    "testingSet_imp_mean[\"idpostulante_code\"] = lb_make1.fit_transform(testingSet_imp_mean[\"idpostulante\"])\n",
    "testingSet_imp_mean.drop(columns=['idpostulante'],inplace=True) #No sirve para el algoritmo de ML"
   ]
  },
  {
   "cell_type": "code",
   "execution_count": 16,
   "metadata": {},
   "outputs": [],
   "source": [
    "# Hago la prediccion\n",
    "testingSet_imp_mean.loc[:,'sepostulo'] = testingSet_imp_mean[columnas_corr].apply(lambda x: random_forest.predict([x])[0],axis = 1)"
   ]
  },
  {
   "cell_type": "code",
   "execution_count": 17,
   "metadata": {},
   "outputs": [],
   "source": [
    "testingSet_imp_mean.drop(['nombre_area_code','denominacion_empresa_code','nivel_laboral_code','tipo_de_trabajo_code','tipo_de_trabajo_code','nombre_zona_code','edad','estado_code','sexo_code','nombre_code','idaviso','idpostulante_code'],axis=1,inplace=True)"
   ]
  },
  {
   "cell_type": "code",
   "execution_count": 18,
   "metadata": {},
   "outputs": [
    {
     "data": {
      "text/plain": [
       "0    59091\n",
       "1    40909\n",
       "Name: sepostulo, dtype: int64"
      ]
     },
     "execution_count": 18,
     "metadata": {},
     "output_type": "execute_result"
    }
   ],
   "source": [
    "testingSet_imp_mean['sepostulo'].value_counts()"
   ]
  },
  {
   "cell_type": "code",
   "execution_count": 21,
   "metadata": {},
   "outputs": [],
   "source": [
    "testingSet_imp_mean.to_csv('Submit/prediccion11creo_training_reducido.csv',index=False)"
   ]
  },
  {
   "cell_type": "markdown",
   "metadata": {},
   "source": [
    "# Otra prediccion con train split"
   ]
  },
  {
   "cell_type": "code",
   "execution_count": 24,
   "metadata": {},
   "outputs": [],
   "source": [
    "# Hago la prediccion\n",
    "testingSet_imp_mean.loc[:,'sepostulo'] = testingSet_imp_mean[columnas_corr].apply(lambda x: random_forest.predict([x])[0],axis = 1)"
   ]
  },
  {
   "cell_type": "code",
   "execution_count": 25,
   "metadata": {},
   "outputs": [],
   "source": [
    "testingSet_imp_mean.drop(['nombre_area_code','denominacion_empresa_code','nivel_laboral_code','tipo_de_trabajo_code','tipo_de_trabajo_code','nombre_zona_code','edad','estado_code','sexo_code','nombre_code','idaviso','idpostulante_code'],axis=1,inplace=True)"
   ]
  },
  {
   "cell_type": "code",
   "execution_count": 26,
   "metadata": {},
   "outputs": [
    {
     "data": {
      "text/plain": [
       "0    59210\n",
       "1    40790\n",
       "Name: sepostulo, dtype: int64"
      ]
     },
     "execution_count": 26,
     "metadata": {},
     "output_type": "execute_result"
    }
   ],
   "source": [
    "testingSet_imp_mean['sepostulo'].value_counts()"
   ]
  },
  {
   "cell_type": "code",
   "execution_count": 27,
   "metadata": {},
   "outputs": [],
   "source": [
    "testingSet_imp_mean.to_csv('Submit/prediccion14_training_reducido.csv',index=False)"
   ]
  },
  {
   "cell_type": "code",
   "execution_count": null,
   "metadata": {},
   "outputs": [],
   "source": []
  },
  {
   "cell_type": "code",
   "execution_count": null,
   "metadata": {},
   "outputs": [],
   "source": []
  },
  {
   "cell_type": "markdown",
   "metadata": {},
   "source": [
    "# Utilizando PCA"
   ]
  },
  {
   "cell_type": "code",
   "execution_count": 7,
   "metadata": {},
   "outputs": [],
   "source": [
    "from sklearn.model_selection import train_test_split\n",
    "\n",
    "X,y = trainingSet_reduced,trainingSet_reduced.se_postulo\n",
    "X = X[columnas_corr]\n",
    "X_train, X_test, y_train, y_test = train_test_split(X, y, test_size=0.2)"
   ]
  },
  {
   "cell_type": "code",
   "execution_count": 8,
   "metadata": {},
   "outputs": [],
   "source": [
    "from sklearn.preprocessing import StandardScaler\n",
    "scaler = StandardScaler()\n",
    "\n",
    "# Fit on training set only.\n",
    "scaler.fit(X_train)\n",
    "\n",
    "# Apply transform to both the training set and the test set.\n",
    "X_train = scaler.transform(X_train)\n",
    "X_test = scaler.transform(X_test)"
   ]
  },
  {
   "cell_type": "code",
   "execution_count": 9,
   "metadata": {},
   "outputs": [],
   "source": [
    "from sklearn.decomposition import PCA\n",
    "\n",
    "# Make an instance of the Model\n",
    "pca = PCA(.95)"
   ]
  },
  {
   "cell_type": "code",
   "execution_count": 10,
   "metadata": {},
   "outputs": [
    {
     "data": {
      "text/plain": [
       "PCA(copy=True, iterated_power='auto', n_components=0.95, random_state=None,\n",
       "  svd_solver='auto', tol=0.0, whiten=False)"
      ]
     },
     "execution_count": 10,
     "metadata": {},
     "output_type": "execute_result"
    }
   ],
   "source": [
    "pca.fit(X_train)"
   ]
  },
  {
   "cell_type": "code",
   "execution_count": 11,
   "metadata": {},
   "outputs": [],
   "source": [
    "X_train = pca.transform(X_train)\n",
    "X_test = pca.transform(X_test)"
   ]
  },
  {
   "cell_type": "code",
   "execution_count": 13,
   "metadata": {},
   "outputs": [
    {
     "name": "stdout",
     "output_type": "stream",
     "text": [
      "Method name = RandomForestClassifier\n",
      "Precission: 76.12 %\n",
      "Method name = RandomForestClassifier\n",
      "Precission: 76.78 %\n",
      "Method name = RandomForestClassifier\n",
      "Precission: 76.21 %\n",
      "Method name = RandomForestClassifier\n",
      "Precission: 73.49 %\n",
      "Method name = RandomForestClassifier\n",
      "Precission: 72.66 %\n",
      "Method name = RandomForestClassifier\n",
      "Precission: 72.35 %\n",
      "Method name = RandomForestClassifier\n",
      "Precission: 71.98 %\n"
     ]
    }
   ],
   "source": [
    "from sklearn.metrics import roc_auc_score\n",
    "sample_leaf_options = [1,5,10,50,100,200,500]\n",
    "\n",
    "for leaf_size in sample_leaf_options :\n",
    "\n",
    "    random_forest = RandomForestClassifier(n_estimators=100, criterion='gini', max_depth=None,\n",
    "                   min_samples_split=2, min_samples_leaf=leaf_size, min_weight_fraction_leaf=0.0,\n",
    "                   max_features='auto', max_leaf_nodes=None, min_impurity_decrease=0.0,\n",
    "                   min_impurity_split=None, bootstrap=True, oob_score=True, n_jobs=1,\n",
    "                   random_state=50, verbose=0, warm_start=False, class_weight=None)\n",
    "    random_forest.fit(X_train,y_train)\n",
    "    precission = random_forest.score(X_test,y_test) * 100\n",
    "    print(\"Method name = {}\".format(\"RandomForestClassifier\"))\n",
    "    print ('Precission: {:.2f} %'. format(abs(precission)))"
   ]
  },
  {
   "cell_type": "code",
   "execution_count": 14,
   "metadata": {},
   "outputs": [
    {
     "name": "stdout",
     "output_type": "stream",
     "text": [
      "Method name = RandomForestClassifier\n",
      "Precission: 76.78 %\n"
     ]
    }
   ],
   "source": [
    "random_forest = RandomForestClassifier(n_estimators=100, criterion='gini', max_depth=None,\n",
    "               min_samples_split=2, min_samples_leaf=5, min_weight_fraction_leaf=0.0,\n",
    "               max_features='sqrt', max_leaf_nodes=None, min_impurity_decrease=0.0,\n",
    "               min_impurity_split=None, bootstrap=True, oob_score=True, n_jobs=1,\n",
    "               random_state=50, verbose=0, warm_start=False, class_weight=None)\n",
    "random_forest.fit(X_train,y_train)\n",
    "precission = random_forest.score(X_test,y_test) * 100\n",
    "print(\"Method name = {}\".format(\"RandomForestClassifier\"))\n",
    "print ('Precission: {:.2f} %'. format(abs(precission)))"
   ]
  },
  {
   "cell_type": "code",
   "execution_count": 16,
   "metadata": {},
   "outputs": [],
   "source": [
    "# Hago la prediccion\n",
    "testingSet_imp_mean.loc[:,'sepostulo'] = testingSet_imp_mean[columnas_corr].apply(lambda x: random_forest.predict([x])[0],axis = 1)\n",
    "testingSet_imp_mean.drop(['nombre_area_code','denominacion_empresa_code','nivel_laboral_code','tipo_de_trabajo_code','tipo_de_trabajo_code','nombre_zona_code','edad','estado_code','sexo_code','nombre_code','idaviso','idpostulante_code'],axis=1,inplace=True)"
   ]
  },
  {
   "cell_type": "code",
   "execution_count": 17,
   "metadata": {},
   "outputs": [
    {
     "data": {
      "text/plain": [
       "0    90713\n",
       "1     9287\n",
       "Name: sepostulo, dtype: int64"
      ]
     },
     "execution_count": 17,
     "metadata": {},
     "output_type": "execute_result"
    }
   ],
   "source": [
    "testingSet_imp_mean['sepostulo'].value_counts()"
   ]
  },
  {
   "cell_type": "code",
   "execution_count": 18,
   "metadata": {},
   "outputs": [],
   "source": [
    "testingSet_imp_mean.to_csv('Submit/prediccion17_training_reducido_PCA_tuning.csv',index=False)"
   ]
  },
  {
   "cell_type": "code",
   "execution_count": 31,
   "metadata": {},
   "outputs": [
    {
     "data": {
      "text/plain": [
       "0    62420\n",
       "1    37580\n",
       "Name: sepostulo, dtype: int64"
      ]
     },
     "execution_count": 31,
     "metadata": {},
     "output_type": "execute_result"
    }
   ],
   "source": [
    "testingSet_imp_mean['sepostulo'].value_counts()"
   ]
  },
  {
   "cell_type": "code",
   "execution_count": 32,
   "metadata": {},
   "outputs": [],
   "source": [
    "testingSet_imp_mean.to_csv('Submit/prediccion15_training_reducido.csv',index=False)"
   ]
  },
  {
   "cell_type": "markdown",
   "metadata": {},
   "source": [
    "# Hago lo mismo pero con un random regressor"
   ]
  },
  {
   "cell_type": "code",
   "execution_count": 34,
   "metadata": {},
   "outputs": [
    {
     "name": "stdout",
     "output_type": "stream",
     "text": [
      "Method name = RandomForestClassifier\n",
      "Mean squared error: 0.21324309259701693\n",
      "Precission: 11.58 %\n"
     ]
    }
   ],
   "source": [
    "from sklearn.ensemble import RandomForestRegressor\n",
    "\n",
    "random_forest = RandomForestRegressor()\n",
    "random_forest.fit(X_train,y_train)\n",
    "precission = random_forest.score(X_test,y_test) * 100\n",
    "mse = np.mean(cross_val_score(random_forest, X_test, y_test,scoring='neg_mean_squared_error', cv=3,  n_jobs=-1))\n",
    "print(\"Method name = {}\".format(\"RandomForestRegressor\"))\n",
    "print ('Mean squared error: {}'.format(abs(mse)))\n",
    "print ('Precission: {:.2f} %'. format(abs(precission)))"
   ]
  },
  {
   "cell_type": "code",
   "execution_count": 36,
   "metadata": {},
   "outputs": [],
   "source": [
    "# Hago la prediccion\n",
    "testingSet_imp_mean.loc[:,'sepostulo'] = testingSet_imp_mean[columnas_corr].apply(lambda x: random_forest.predict([x])[0],axis = 1)\n",
    "testingSet_imp_mean.drop(['nombre_area_code','denominacion_empresa_code','nivel_laboral_code','tipo_de_trabajo_code','tipo_de_trabajo_code','nombre_zona_code','edad','estado_code','sexo_code','nombre_code','idaviso','idpostulante_code'],axis=1,inplace=True)"
   ]
  },
  {
   "cell_type": "code",
   "execution_count": 37,
   "metadata": {},
   "outputs": [
    {
     "data": {
      "text/plain": [
       "0.2    47514\n",
       "0.1    42917\n",
       "0.5     6460\n",
       "0.6     2181\n",
       "0.4      390\n",
       "0.3      285\n",
       "0.7      215\n",
       "0.0       38\n",
       "Name: sepostulo, dtype: int64"
      ]
     },
     "execution_count": 37,
     "metadata": {},
     "output_type": "execute_result"
    }
   ],
   "source": [
    "testingSet_imp_mean['sepostulo'].value_counts()"
   ]
  },
  {
   "cell_type": "code",
   "execution_count": null,
   "metadata": {},
   "outputs": [],
   "source": []
  },
  {
   "cell_type": "markdown",
   "metadata": {},
   "source": [
    "# Intento hacer pca con todo el dataset"
   ]
  },
  {
   "cell_type": "code",
   "execution_count": 13,
   "metadata": {},
   "outputs": [],
   "source": [
    "from sklearn.model_selection import train_test_split\n",
    "\n",
    "X,y = trainingSet,trainingSet.se_postulo\n",
    "X = X[columnas]\n",
    "X_train, X_test, y_train, y_test = train_test_split(X, y, test_size=0.2)"
   ]
  },
  {
   "cell_type": "code",
   "execution_count": 14,
   "metadata": {},
   "outputs": [],
   "source": [
    "from sklearn.preprocessing import StandardScaler\n",
    "scaler = StandardScaler()\n",
    "\n",
    "# Fit on training set only.\n",
    "scaler.fit(X_train)\n",
    "\n",
    "# Apply transform to both the training set and the test set.\n",
    "X_train = scaler.transform(X_train)\n",
    "X_test = scaler.transform(X_test)"
   ]
  },
  {
   "cell_type": "code",
   "execution_count": 41,
   "metadata": {},
   "outputs": [],
   "source": [
    "from sklearn.decomposition import PCA\n",
    "\n",
    "# Make an instance of the Model\n",
    "pca = PCA(.95)"
   ]
  },
  {
   "cell_type": "code",
   "execution_count": 42,
   "metadata": {},
   "outputs": [
    {
     "data": {
      "text/plain": [
       "PCA(copy=True, iterated_power='auto', n_components=0.95, random_state=None,\n",
       "  svd_solver='auto', tol=0.0, whiten=False)"
      ]
     },
     "execution_count": 42,
     "metadata": {},
     "output_type": "execute_result"
    }
   ],
   "source": [
    "pca.fit(X_train)"
   ]
  },
  {
   "cell_type": "code",
   "execution_count": 43,
   "metadata": {},
   "outputs": [],
   "source": [
    "X_train = pca.transform(X_train)\n",
    "X_test = pca.transform(X_test)"
   ]
  },
  {
   "cell_type": "code",
   "execution_count": 44,
   "metadata": {},
   "outputs": [
    {
     "ename": "OSError",
     "evalue": "[Errno 12] Cannot allocate memory",
     "output_type": "error",
     "traceback": [
      "\u001b[0;31m---------------------------------------------------------------------------\u001b[0m",
      "\u001b[0;31mOSError\u001b[0m                                   Traceback (most recent call last)",
      "\u001b[0;32m<ipython-input-44-846f03707e78>\u001b[0m in \u001b[0;36m<module>\u001b[0;34m()\u001b[0m\n\u001b[1;32m      2\u001b[0m \u001b[0mrandom_forest\u001b[0m\u001b[0;34m.\u001b[0m\u001b[0mfit\u001b[0m\u001b[0;34m(\u001b[0m\u001b[0mX_train\u001b[0m\u001b[0;34m,\u001b[0m\u001b[0my_train\u001b[0m\u001b[0;34m)\u001b[0m\u001b[0;34m\u001b[0m\u001b[0m\n\u001b[1;32m      3\u001b[0m \u001b[0mprecission\u001b[0m \u001b[0;34m=\u001b[0m \u001b[0mrandom_forest\u001b[0m\u001b[0;34m.\u001b[0m\u001b[0mscore\u001b[0m\u001b[0;34m(\u001b[0m\u001b[0mX_test\u001b[0m\u001b[0;34m,\u001b[0m\u001b[0my_test\u001b[0m\u001b[0;34m)\u001b[0m \u001b[0;34m*\u001b[0m \u001b[0;36m100\u001b[0m\u001b[0;34m\u001b[0m\u001b[0m\n\u001b[0;32m----> 4\u001b[0;31m \u001b[0mmse\u001b[0m \u001b[0;34m=\u001b[0m \u001b[0mnp\u001b[0m\u001b[0;34m.\u001b[0m\u001b[0mmean\u001b[0m\u001b[0;34m(\u001b[0m\u001b[0mcross_val_score\u001b[0m\u001b[0;34m(\u001b[0m\u001b[0mrandom_forest\u001b[0m\u001b[0;34m,\u001b[0m \u001b[0mX_test\u001b[0m\u001b[0;34m,\u001b[0m \u001b[0my_test\u001b[0m\u001b[0;34m,\u001b[0m\u001b[0mscoring\u001b[0m\u001b[0;34m=\u001b[0m\u001b[0;34m'neg_mean_squared_error'\u001b[0m\u001b[0;34m,\u001b[0m \u001b[0mcv\u001b[0m\u001b[0;34m=\u001b[0m\u001b[0;36m3\u001b[0m\u001b[0;34m,\u001b[0m  \u001b[0mn_jobs\u001b[0m\u001b[0;34m=\u001b[0m\u001b[0;34m-\u001b[0m\u001b[0;36m1\u001b[0m\u001b[0;34m)\u001b[0m\u001b[0;34m)\u001b[0m\u001b[0;34m\u001b[0m\u001b[0m\n\u001b[0m\u001b[1;32m      5\u001b[0m \u001b[0mprint\u001b[0m\u001b[0;34m(\u001b[0m\u001b[0;34m\"Method name = {}\"\u001b[0m\u001b[0;34m.\u001b[0m\u001b[0mformat\u001b[0m\u001b[0;34m(\u001b[0m\u001b[0;34m\"RandomForestClassifier\"\u001b[0m\u001b[0;34m)\u001b[0m\u001b[0;34m)\u001b[0m\u001b[0;34m\u001b[0m\u001b[0m\n\u001b[1;32m      6\u001b[0m \u001b[0mprint\u001b[0m \u001b[0;34m(\u001b[0m\u001b[0;34m'Mean squared error: {}'\u001b[0m\u001b[0;34m.\u001b[0m\u001b[0mformat\u001b[0m\u001b[0;34m(\u001b[0m\u001b[0mabs\u001b[0m\u001b[0;34m(\u001b[0m\u001b[0mmse\u001b[0m\u001b[0;34m)\u001b[0m\u001b[0;34m)\u001b[0m\u001b[0;34m)\u001b[0m\u001b[0;34m\u001b[0m\u001b[0m\n",
      "\u001b[0;32m~/Documentos/Datos/lib/python3.6/site-packages/sklearn/model_selection/_validation.py\u001b[0m in \u001b[0;36mcross_val_score\u001b[0;34m(estimator, X, y, groups, scoring, cv, n_jobs, verbose, fit_params, pre_dispatch)\u001b[0m\n\u001b[1;32m    340\u001b[0m                                 \u001b[0mn_jobs\u001b[0m\u001b[0;34m=\u001b[0m\u001b[0mn_jobs\u001b[0m\u001b[0;34m,\u001b[0m \u001b[0mverbose\u001b[0m\u001b[0;34m=\u001b[0m\u001b[0mverbose\u001b[0m\u001b[0;34m,\u001b[0m\u001b[0;34m\u001b[0m\u001b[0m\n\u001b[1;32m    341\u001b[0m                                 \u001b[0mfit_params\u001b[0m\u001b[0;34m=\u001b[0m\u001b[0mfit_params\u001b[0m\u001b[0;34m,\u001b[0m\u001b[0;34m\u001b[0m\u001b[0m\n\u001b[0;32m--> 342\u001b[0;31m                                 pre_dispatch=pre_dispatch)\n\u001b[0m\u001b[1;32m    343\u001b[0m     \u001b[0;32mreturn\u001b[0m \u001b[0mcv_results\u001b[0m\u001b[0;34m[\u001b[0m\u001b[0;34m'test_score'\u001b[0m\u001b[0;34m]\u001b[0m\u001b[0;34m\u001b[0m\u001b[0m\n\u001b[1;32m    344\u001b[0m \u001b[0;34m\u001b[0m\u001b[0m\n",
      "\u001b[0;32m~/Documentos/Datos/lib/python3.6/site-packages/sklearn/model_selection/_validation.py\u001b[0m in \u001b[0;36mcross_validate\u001b[0;34m(estimator, X, y, groups, scoring, cv, n_jobs, verbose, fit_params, pre_dispatch, return_train_score)\u001b[0m\n\u001b[1;32m    204\u001b[0m             \u001b[0mfit_params\u001b[0m\u001b[0;34m,\u001b[0m \u001b[0mreturn_train_score\u001b[0m\u001b[0;34m=\u001b[0m\u001b[0mreturn_train_score\u001b[0m\u001b[0;34m,\u001b[0m\u001b[0;34m\u001b[0m\u001b[0m\n\u001b[1;32m    205\u001b[0m             return_times=True)\n\u001b[0;32m--> 206\u001b[0;31m         for train, test in cv.split(X, y, groups))\n\u001b[0m\u001b[1;32m    207\u001b[0m \u001b[0;34m\u001b[0m\u001b[0m\n\u001b[1;32m    208\u001b[0m     \u001b[0;32mif\u001b[0m \u001b[0mreturn_train_score\u001b[0m\u001b[0;34m:\u001b[0m\u001b[0;34m\u001b[0m\u001b[0m\n",
      "\u001b[0;32m~/Documentos/Datos/lib/python3.6/site-packages/sklearn/externals/joblib/parallel.py\u001b[0m in \u001b[0;36m__call__\u001b[0;34m(self, iterable)\u001b[0m\n\u001b[1;32m    747\u001b[0m         \u001b[0mself\u001b[0m\u001b[0;34m.\u001b[0m\u001b[0m_aborting\u001b[0m \u001b[0;34m=\u001b[0m \u001b[0;32mFalse\u001b[0m\u001b[0;34m\u001b[0m\u001b[0m\n\u001b[1;32m    748\u001b[0m         \u001b[0;32mif\u001b[0m \u001b[0;32mnot\u001b[0m \u001b[0mself\u001b[0m\u001b[0;34m.\u001b[0m\u001b[0m_managed_backend\u001b[0m\u001b[0;34m:\u001b[0m\u001b[0;34m\u001b[0m\u001b[0m\n\u001b[0;32m--> 749\u001b[0;31m             \u001b[0mn_jobs\u001b[0m \u001b[0;34m=\u001b[0m \u001b[0mself\u001b[0m\u001b[0;34m.\u001b[0m\u001b[0m_initialize_backend\u001b[0m\u001b[0;34m(\u001b[0m\u001b[0;34m)\u001b[0m\u001b[0;34m\u001b[0m\u001b[0m\n\u001b[0m\u001b[1;32m    750\u001b[0m         \u001b[0;32melse\u001b[0m\u001b[0;34m:\u001b[0m\u001b[0;34m\u001b[0m\u001b[0m\n\u001b[1;32m    751\u001b[0m             \u001b[0mn_jobs\u001b[0m \u001b[0;34m=\u001b[0m \u001b[0mself\u001b[0m\u001b[0;34m.\u001b[0m\u001b[0m_effective_n_jobs\u001b[0m\u001b[0;34m(\u001b[0m\u001b[0;34m)\u001b[0m\u001b[0;34m\u001b[0m\u001b[0m\n",
      "\u001b[0;32m~/Documentos/Datos/lib/python3.6/site-packages/sklearn/externals/joblib/parallel.py\u001b[0m in \u001b[0;36m_initialize_backend\u001b[0;34m(self)\u001b[0m\n\u001b[1;32m    545\u001b[0m         \u001b[0;32mtry\u001b[0m\u001b[0;34m:\u001b[0m\u001b[0;34m\u001b[0m\u001b[0m\n\u001b[1;32m    546\u001b[0m             n_jobs = self._backend.configure(n_jobs=self.n_jobs, parallel=self,\n\u001b[0;32m--> 547\u001b[0;31m                                              **self._backend_args)\n\u001b[0m\u001b[1;32m    548\u001b[0m             \u001b[0;32mif\u001b[0m \u001b[0mself\u001b[0m\u001b[0;34m.\u001b[0m\u001b[0mtimeout\u001b[0m \u001b[0;32mis\u001b[0m \u001b[0;32mnot\u001b[0m \u001b[0;32mNone\u001b[0m \u001b[0;32mand\u001b[0m \u001b[0;32mnot\u001b[0m \u001b[0mself\u001b[0m\u001b[0;34m.\u001b[0m\u001b[0m_backend\u001b[0m\u001b[0;34m.\u001b[0m\u001b[0msupports_timeout\u001b[0m\u001b[0;34m:\u001b[0m\u001b[0;34m\u001b[0m\u001b[0m\n\u001b[1;32m    549\u001b[0m                 warnings.warn(\n",
      "\u001b[0;32m~/Documentos/Datos/lib/python3.6/site-packages/sklearn/externals/joblib/_parallel_backends.py\u001b[0m in \u001b[0;36mconfigure\u001b[0;34m(self, n_jobs, parallel, **backend_args)\u001b[0m\n\u001b[1;32m    315\u001b[0m         \u001b[0;31m# Make sure to free as much memory as possible before forking\u001b[0m\u001b[0;34m\u001b[0m\u001b[0;34m\u001b[0m\u001b[0m\n\u001b[1;32m    316\u001b[0m         \u001b[0mgc\u001b[0m\u001b[0;34m.\u001b[0m\u001b[0mcollect\u001b[0m\u001b[0;34m(\u001b[0m\u001b[0;34m)\u001b[0m\u001b[0;34m\u001b[0m\u001b[0m\n\u001b[0;32m--> 317\u001b[0;31m         \u001b[0mself\u001b[0m\u001b[0;34m.\u001b[0m\u001b[0m_pool\u001b[0m \u001b[0;34m=\u001b[0m \u001b[0mMemmapingPool\u001b[0m\u001b[0;34m(\u001b[0m\u001b[0mn_jobs\u001b[0m\u001b[0;34m,\u001b[0m \u001b[0;34m**\u001b[0m\u001b[0mbackend_args\u001b[0m\u001b[0;34m)\u001b[0m\u001b[0;34m\u001b[0m\u001b[0m\n\u001b[0m\u001b[1;32m    318\u001b[0m         \u001b[0mself\u001b[0m\u001b[0;34m.\u001b[0m\u001b[0mparallel\u001b[0m \u001b[0;34m=\u001b[0m \u001b[0mparallel\u001b[0m\u001b[0;34m\u001b[0m\u001b[0m\n\u001b[1;32m    319\u001b[0m         \u001b[0;32mreturn\u001b[0m \u001b[0mn_jobs\u001b[0m\u001b[0;34m\u001b[0m\u001b[0m\n",
      "\u001b[0;32m~/Documentos/Datos/lib/python3.6/site-packages/sklearn/externals/joblib/pool.py\u001b[0m in \u001b[0;36m__init__\u001b[0;34m(self, processes, temp_folder, max_nbytes, mmap_mode, forward_reducers, backward_reducers, verbose, context_id, prewarm, **kwargs)\u001b[0m\n\u001b[1;32m    598\u001b[0m             backward_reducers=backward_reducers)\n\u001b[1;32m    599\u001b[0m         \u001b[0mpoolargs\u001b[0m\u001b[0;34m.\u001b[0m\u001b[0mupdate\u001b[0m\u001b[0;34m(\u001b[0m\u001b[0mkwargs\u001b[0m\u001b[0;34m)\u001b[0m\u001b[0;34m\u001b[0m\u001b[0m\n\u001b[0;32m--> 600\u001b[0;31m         \u001b[0msuper\u001b[0m\u001b[0;34m(\u001b[0m\u001b[0mMemmapingPool\u001b[0m\u001b[0;34m,\u001b[0m \u001b[0mself\u001b[0m\u001b[0;34m)\u001b[0m\u001b[0;34m.\u001b[0m\u001b[0m__init__\u001b[0m\u001b[0;34m(\u001b[0m\u001b[0;34m**\u001b[0m\u001b[0mpoolargs\u001b[0m\u001b[0;34m)\u001b[0m\u001b[0;34m\u001b[0m\u001b[0m\n\u001b[0m\u001b[1;32m    601\u001b[0m \u001b[0;34m\u001b[0m\u001b[0m\n\u001b[1;32m    602\u001b[0m     \u001b[0;32mdef\u001b[0m \u001b[0mterminate\u001b[0m\u001b[0;34m(\u001b[0m\u001b[0mself\u001b[0m\u001b[0;34m)\u001b[0m\u001b[0;34m:\u001b[0m\u001b[0;34m\u001b[0m\u001b[0m\n",
      "\u001b[0;32m~/Documentos/Datos/lib/python3.6/site-packages/sklearn/externals/joblib/pool.py\u001b[0m in \u001b[0;36m__init__\u001b[0;34m(self, processes, forward_reducers, backward_reducers, **kwargs)\u001b[0m\n\u001b[1;32m    418\u001b[0m         \u001b[0mpoolargs\u001b[0m \u001b[0;34m=\u001b[0m \u001b[0mdict\u001b[0m\u001b[0;34m(\u001b[0m\u001b[0mprocesses\u001b[0m\u001b[0;34m=\u001b[0m\u001b[0mprocesses\u001b[0m\u001b[0;34m)\u001b[0m\u001b[0;34m\u001b[0m\u001b[0m\n\u001b[1;32m    419\u001b[0m         \u001b[0mpoolargs\u001b[0m\u001b[0;34m.\u001b[0m\u001b[0mupdate\u001b[0m\u001b[0;34m(\u001b[0m\u001b[0mkwargs\u001b[0m\u001b[0;34m)\u001b[0m\u001b[0;34m\u001b[0m\u001b[0m\n\u001b[0;32m--> 420\u001b[0;31m         \u001b[0msuper\u001b[0m\u001b[0;34m(\u001b[0m\u001b[0mPicklingPool\u001b[0m\u001b[0;34m,\u001b[0m \u001b[0mself\u001b[0m\u001b[0;34m)\u001b[0m\u001b[0;34m.\u001b[0m\u001b[0m__init__\u001b[0m\u001b[0;34m(\u001b[0m\u001b[0;34m**\u001b[0m\u001b[0mpoolargs\u001b[0m\u001b[0;34m)\u001b[0m\u001b[0;34m\u001b[0m\u001b[0m\n\u001b[0m\u001b[1;32m    421\u001b[0m \u001b[0;34m\u001b[0m\u001b[0m\n\u001b[1;32m    422\u001b[0m     \u001b[0;32mdef\u001b[0m \u001b[0m_setup_queues\u001b[0m\u001b[0;34m(\u001b[0m\u001b[0mself\u001b[0m\u001b[0;34m)\u001b[0m\u001b[0;34m:\u001b[0m\u001b[0;34m\u001b[0m\u001b[0m\n",
      "\u001b[0;32m/usr/lib/python3.6/multiprocessing/pool.py\u001b[0m in \u001b[0;36m__init__\u001b[0;34m(self, processes, initializer, initargs, maxtasksperchild, context)\u001b[0m\n\u001b[1;32m    172\u001b[0m         \u001b[0mself\u001b[0m\u001b[0;34m.\u001b[0m\u001b[0m_processes\u001b[0m \u001b[0;34m=\u001b[0m \u001b[0mprocesses\u001b[0m\u001b[0;34m\u001b[0m\u001b[0m\n\u001b[1;32m    173\u001b[0m         \u001b[0mself\u001b[0m\u001b[0;34m.\u001b[0m\u001b[0m_pool\u001b[0m \u001b[0;34m=\u001b[0m \u001b[0;34m[\u001b[0m\u001b[0;34m]\u001b[0m\u001b[0;34m\u001b[0m\u001b[0m\n\u001b[0;32m--> 174\u001b[0;31m         \u001b[0mself\u001b[0m\u001b[0;34m.\u001b[0m\u001b[0m_repopulate_pool\u001b[0m\u001b[0;34m(\u001b[0m\u001b[0;34m)\u001b[0m\u001b[0;34m\u001b[0m\u001b[0m\n\u001b[0m\u001b[1;32m    175\u001b[0m \u001b[0;34m\u001b[0m\u001b[0m\n\u001b[1;32m    176\u001b[0m         self._worker_handler = threading.Thread(\n",
      "\u001b[0;32m/usr/lib/python3.6/multiprocessing/pool.py\u001b[0m in \u001b[0;36m_repopulate_pool\u001b[0;34m(self)\u001b[0m\n\u001b[1;32m    237\u001b[0m             \u001b[0mw\u001b[0m\u001b[0;34m.\u001b[0m\u001b[0mname\u001b[0m \u001b[0;34m=\u001b[0m \u001b[0mw\u001b[0m\u001b[0;34m.\u001b[0m\u001b[0mname\u001b[0m\u001b[0;34m.\u001b[0m\u001b[0mreplace\u001b[0m\u001b[0;34m(\u001b[0m\u001b[0;34m'Process'\u001b[0m\u001b[0;34m,\u001b[0m \u001b[0;34m'PoolWorker'\u001b[0m\u001b[0;34m)\u001b[0m\u001b[0;34m\u001b[0m\u001b[0m\n\u001b[1;32m    238\u001b[0m             \u001b[0mw\u001b[0m\u001b[0;34m.\u001b[0m\u001b[0mdaemon\u001b[0m \u001b[0;34m=\u001b[0m \u001b[0;32mTrue\u001b[0m\u001b[0;34m\u001b[0m\u001b[0m\n\u001b[0;32m--> 239\u001b[0;31m             \u001b[0mw\u001b[0m\u001b[0;34m.\u001b[0m\u001b[0mstart\u001b[0m\u001b[0;34m(\u001b[0m\u001b[0;34m)\u001b[0m\u001b[0;34m\u001b[0m\u001b[0m\n\u001b[0m\u001b[1;32m    240\u001b[0m             \u001b[0mutil\u001b[0m\u001b[0;34m.\u001b[0m\u001b[0mdebug\u001b[0m\u001b[0;34m(\u001b[0m\u001b[0;34m'added worker'\u001b[0m\u001b[0;34m)\u001b[0m\u001b[0;34m\u001b[0m\u001b[0m\n\u001b[1;32m    241\u001b[0m \u001b[0;34m\u001b[0m\u001b[0m\n",
      "\u001b[0;32m/usr/lib/python3.6/multiprocessing/process.py\u001b[0m in \u001b[0;36mstart\u001b[0;34m(self)\u001b[0m\n\u001b[1;32m    103\u001b[0m                \u001b[0;34m'daemonic processes are not allowed to have children'\u001b[0m\u001b[0;34m\u001b[0m\u001b[0m\n\u001b[1;32m    104\u001b[0m         \u001b[0m_cleanup\u001b[0m\u001b[0;34m(\u001b[0m\u001b[0;34m)\u001b[0m\u001b[0;34m\u001b[0m\u001b[0m\n\u001b[0;32m--> 105\u001b[0;31m         \u001b[0mself\u001b[0m\u001b[0;34m.\u001b[0m\u001b[0m_popen\u001b[0m \u001b[0;34m=\u001b[0m \u001b[0mself\u001b[0m\u001b[0;34m.\u001b[0m\u001b[0m_Popen\u001b[0m\u001b[0;34m(\u001b[0m\u001b[0mself\u001b[0m\u001b[0;34m)\u001b[0m\u001b[0;34m\u001b[0m\u001b[0m\n\u001b[0m\u001b[1;32m    106\u001b[0m         \u001b[0mself\u001b[0m\u001b[0;34m.\u001b[0m\u001b[0m_sentinel\u001b[0m \u001b[0;34m=\u001b[0m \u001b[0mself\u001b[0m\u001b[0;34m.\u001b[0m\u001b[0m_popen\u001b[0m\u001b[0;34m.\u001b[0m\u001b[0msentinel\u001b[0m\u001b[0;34m\u001b[0m\u001b[0m\n\u001b[1;32m    107\u001b[0m         \u001b[0;31m# Avoid a refcycle if the target function holds an indirect\u001b[0m\u001b[0;34m\u001b[0m\u001b[0;34m\u001b[0m\u001b[0m\n",
      "\u001b[0;32m/usr/lib/python3.6/multiprocessing/context.py\u001b[0m in \u001b[0;36m_Popen\u001b[0;34m(process_obj)\u001b[0m\n\u001b[1;32m    275\u001b[0m         \u001b[0;32mdef\u001b[0m \u001b[0m_Popen\u001b[0m\u001b[0;34m(\u001b[0m\u001b[0mprocess_obj\u001b[0m\u001b[0;34m)\u001b[0m\u001b[0;34m:\u001b[0m\u001b[0;34m\u001b[0m\u001b[0m\n\u001b[1;32m    276\u001b[0m             \u001b[0;32mfrom\u001b[0m \u001b[0;34m.\u001b[0m\u001b[0mpopen_fork\u001b[0m \u001b[0;32mimport\u001b[0m \u001b[0mPopen\u001b[0m\u001b[0;34m\u001b[0m\u001b[0m\n\u001b[0;32m--> 277\u001b[0;31m             \u001b[0;32mreturn\u001b[0m \u001b[0mPopen\u001b[0m\u001b[0;34m(\u001b[0m\u001b[0mprocess_obj\u001b[0m\u001b[0;34m)\u001b[0m\u001b[0;34m\u001b[0m\u001b[0m\n\u001b[0m\u001b[1;32m    278\u001b[0m \u001b[0;34m\u001b[0m\u001b[0m\n\u001b[1;32m    279\u001b[0m     \u001b[0;32mclass\u001b[0m \u001b[0mSpawnProcess\u001b[0m\u001b[0;34m(\u001b[0m\u001b[0mprocess\u001b[0m\u001b[0;34m.\u001b[0m\u001b[0mBaseProcess\u001b[0m\u001b[0;34m)\u001b[0m\u001b[0;34m:\u001b[0m\u001b[0;34m\u001b[0m\u001b[0m\n",
      "\u001b[0;32m/usr/lib/python3.6/multiprocessing/popen_fork.py\u001b[0m in \u001b[0;36m__init__\u001b[0;34m(self, process_obj)\u001b[0m\n\u001b[1;32m     17\u001b[0m         \u001b[0mutil\u001b[0m\u001b[0;34m.\u001b[0m\u001b[0m_flush_std_streams\u001b[0m\u001b[0;34m(\u001b[0m\u001b[0;34m)\u001b[0m\u001b[0;34m\u001b[0m\u001b[0m\n\u001b[1;32m     18\u001b[0m         \u001b[0mself\u001b[0m\u001b[0;34m.\u001b[0m\u001b[0mreturncode\u001b[0m \u001b[0;34m=\u001b[0m \u001b[0;32mNone\u001b[0m\u001b[0;34m\u001b[0m\u001b[0m\n\u001b[0;32m---> 19\u001b[0;31m         \u001b[0mself\u001b[0m\u001b[0;34m.\u001b[0m\u001b[0m_launch\u001b[0m\u001b[0;34m(\u001b[0m\u001b[0mprocess_obj\u001b[0m\u001b[0;34m)\u001b[0m\u001b[0;34m\u001b[0m\u001b[0m\n\u001b[0m\u001b[1;32m     20\u001b[0m \u001b[0;34m\u001b[0m\u001b[0m\n\u001b[1;32m     21\u001b[0m     \u001b[0;32mdef\u001b[0m \u001b[0mduplicate_for_child\u001b[0m\u001b[0;34m(\u001b[0m\u001b[0mself\u001b[0m\u001b[0;34m,\u001b[0m \u001b[0mfd\u001b[0m\u001b[0;34m)\u001b[0m\u001b[0;34m:\u001b[0m\u001b[0;34m\u001b[0m\u001b[0m\n",
      "\u001b[0;32m/usr/lib/python3.6/multiprocessing/popen_fork.py\u001b[0m in \u001b[0;36m_launch\u001b[0;34m(self, process_obj)\u001b[0m\n\u001b[1;32m     64\u001b[0m         \u001b[0mcode\u001b[0m \u001b[0;34m=\u001b[0m \u001b[0;36m1\u001b[0m\u001b[0;34m\u001b[0m\u001b[0m\n\u001b[1;32m     65\u001b[0m         \u001b[0mparent_r\u001b[0m\u001b[0;34m,\u001b[0m \u001b[0mchild_w\u001b[0m \u001b[0;34m=\u001b[0m \u001b[0mos\u001b[0m\u001b[0;34m.\u001b[0m\u001b[0mpipe\u001b[0m\u001b[0;34m(\u001b[0m\u001b[0;34m)\u001b[0m\u001b[0;34m\u001b[0m\u001b[0m\n\u001b[0;32m---> 66\u001b[0;31m         \u001b[0mself\u001b[0m\u001b[0;34m.\u001b[0m\u001b[0mpid\u001b[0m \u001b[0;34m=\u001b[0m \u001b[0mos\u001b[0m\u001b[0;34m.\u001b[0m\u001b[0mfork\u001b[0m\u001b[0;34m(\u001b[0m\u001b[0;34m)\u001b[0m\u001b[0;34m\u001b[0m\u001b[0m\n\u001b[0m\u001b[1;32m     67\u001b[0m         \u001b[0;32mif\u001b[0m \u001b[0mself\u001b[0m\u001b[0;34m.\u001b[0m\u001b[0mpid\u001b[0m \u001b[0;34m==\u001b[0m \u001b[0;36m0\u001b[0m\u001b[0;34m:\u001b[0m\u001b[0;34m\u001b[0m\u001b[0m\n\u001b[1;32m     68\u001b[0m             \u001b[0;32mtry\u001b[0m\u001b[0;34m:\u001b[0m\u001b[0;34m\u001b[0m\u001b[0m\n",
      "\u001b[0;31mOSError\u001b[0m: [Errno 12] Cannot allocate memory"
     ]
    }
   ],
   "source": [
    "random_forest = RandomForestClassifier(n_estimators=10, criterion='gini', max_depth=None, \n",
    "                                       min_samples_split=2, min_samples_leaf=1, min_weight_fraction_leaf=0.0,\n",
    "                                       max_features='sqrt', max_leaf_nodes=None, min_impurity_decrease=0.0,\n",
    "                                       min_impurity_split=None, bootstrap=True, oob_score=True, n_jobs=1,\n",
    "                                       random_state=None, verbose=0, warm_start=False, class_weight=None)\n",
    "random_forest.fit(X_train,y_train)\n",
    "precission = random_forest.score(X_test,y_test) * 100\n",
    "mse = np.mean(cross_val_score(random_forest, X_test, y_test,scoring='neg_mean_squared_error', cv=3,  n_jobs=-1))\n",
    "print(\"Method name = {}\".format(\"RandomForestClassifier\"))\n",
    "print ('Mean squared error: {}'.format(abs(mse)))\n",
    "print ('Precission: {:.2f} %'. format(abs(precission)))"
   ]
  },
  {
   "cell_type": "code",
   "execution_count": 47,
   "metadata": {},
   "outputs": [],
   "source": [
    "# Hago la prediccion\n",
    "testingSet_imp_mean.loc[:,'sepostulo'] = testingSet_imp_mean[columnas_corr].apply(lambda x: random_forest.predict([x])[0],axis = 1)\n",
    "testingSet_imp_mean.drop(['nombre_area_code','denominacion_empresa_code','nivel_laboral_code','tipo_de_trabajo_code','tipo_de_trabajo_code','nombre_zona_code','edad','estado_code','sexo_code','nombre_code','idaviso','idpostulante_code'],axis=1,inplace=True)"
   ]
  },
  {
   "cell_type": "code",
   "execution_count": 48,
   "metadata": {},
   "outputs": [
    {
     "data": {
      "text/plain": [
       "0    88392\n",
       "1    11608\n",
       "Name: sepostulo, dtype: int64"
      ]
     },
     "execution_count": 48,
     "metadata": {},
     "output_type": "execute_result"
    }
   ],
   "source": [
    "testingSet_imp_mean['sepostulo'].value_counts()"
   ]
  },
  {
   "cell_type": "code",
   "execution_count": 49,
   "metadata": {},
   "outputs": [],
   "source": [
    "testingSet_imp_mean.to_csv('Submit/prediccion16_training_mas_PCA.csv',index=False)"
   ]
  },
  {
   "cell_type": "markdown",
   "metadata": {},
   "source": [
    "# Testing sets"
   ]
  },
  {
   "cell_type": "code",
   "execution_count": null,
   "metadata": {
    "collapsed": true
   },
   "outputs": [],
   "source": [
    "dtypes = pd.Series({'idaviso': np.dtype('uint64'), 'idpostulante': np.dtype('object'),\n",
    "                   'se_postulo': np.dtype('uint8'), 'edad': np.dtype('uint16'), \n",
    "                    'estado_code': np.dtype('uint8'),'sexo_code': np.dtype('uint8'),\n",
    "                    'nombre_code': np.dtype('uint8'),'nombre_area_code': np.dtype('uint8'),\n",
    "                    'denominacion_empresa_code': np.dtype('uint16'),\n",
    "                   'nivel_laboral_code': np.dtype('uint8'),\n",
    "                   'tipo_de_trabajo_code': np.dtype('uint8'),\n",
    "                   'nombre_zona_code': np.dtype('uint8')})\n",
    "\n",
    "dtypes_col = dtypes.index\n",
    "dtypes_type = [i.name for i in dtypes.values]\n",
    "\n",
    "column_types = dict(zip(dtypes_col, dtypes_type))\n",
    "\n",
    "\n",
    "testingSet_imp_mean = pd.read_csv('TestingSets/testingSet_imp_mean.csv')\n",
    "testingSet_imp_mean.drop(columns=['Unnamed: 0'],inplace=True)"
   ]
  },
  {
   "cell_type": "code",
   "execution_count": null,
   "metadata": {
    "collapsed": true
   },
   "outputs": [],
   "source": [
    "le = preprocessing.LabelEncoder();\n",
    "le.fit(testingSet_imp_mean[\"idpostulante\"])"
   ]
  },
  {
   "cell_type": "code",
   "execution_count": null,
   "metadata": {
    "collapsed": true
   },
   "outputs": [],
   "source": [
    "testingSet_imp_mean[\"idpostulante_code\"] = le.transform(testingSet_imp_mean[\"idpostulante\"])"
   ]
  },
  {
   "cell_type": "code",
   "execution_count": null,
   "metadata": {
    "collapsed": true
   },
   "outputs": [],
   "source": [
    "testingSet_imp_mean.drop(columns=['idpostulante'],inplace=True) #No sirve para el algoritmo de ML"
   ]
  },
  {
   "cell_type": "code",
   "execution_count": null,
   "metadata": {
    "collapsed": true
   },
   "outputs": [],
   "source": [
    "testingSet_imp_mean[['idpostulante_code','idaviso']] = testingSet_imp_mean[['idpostulante_code','idaviso']].apply(pd.to_numeric,downcast='unsigned')"
   ]
  },
  {
   "cell_type": "code",
   "execution_count": null,
   "metadata": {
    "collapsed": true
   },
   "outputs": [],
   "source": [
    "dtypes = pd.Series({'idaviso': np.dtype('uint64'), 'idpostulante': np.dtype('object'),\n",
    "                   'se_postulo': np.dtype('uint8'), 'edad': np.dtype('uint16'), \n",
    "                    'estado_code': np.dtype('uint8'),'sexo_code': np.dtype('uint8'),\n",
    "                    'nombre_code': np.dtype('uint8'),'nombre_area_code': np.dtype('uint8'),\n",
    "                    'denominacion_empresa_code': np.dtype('uint16'),\n",
    "                   'nivel_laboral_code': np.dtype('uint8'),\n",
    "                   'tipo_de_trabajo_code': np.dtype('uint8'),\n",
    "                   'nombre_zona_code': np.dtype('uint8')})\n",
    "\n",
    "dtypes_col = dtypes.index\n",
    "dtypes_type = [i.name for i in dtypes.values]\n",
    "\n",
    "column_types = dict(zip(dtypes_col, dtypes_type))\n",
    "\n",
    "\n",
    "testingSet_imp_median = pd.read_csv('TestingSets/testingSet_imp_median.csv')\n",
    "testingSet_imp_median.drop(columns=['Unnamed: 0'],inplace=True)"
   ]
  },
  {
   "cell_type": "code",
   "execution_count": null,
   "metadata": {
    "collapsed": true
   },
   "outputs": [],
   "source": [
    "le2 = preprocessing.LabelEncoder();\n",
    "le2.fit(testingSet_imp_median[\"idpostulante\"])"
   ]
  },
  {
   "cell_type": "code",
   "execution_count": null,
   "metadata": {
    "collapsed": true
   },
   "outputs": [],
   "source": [
    "testingSet_imp_median[\"idpostulante_code\"] = le2.transform(testingSet_imp_median[\"idpostulante\"])"
   ]
  },
  {
   "cell_type": "code",
   "execution_count": null,
   "metadata": {
    "collapsed": true
   },
   "outputs": [],
   "source": [
    "testingSet_imp_median.drop(columns=['idpostulante'],inplace=True) #No sirve para el algoritmo de ML"
   ]
  },
  {
   "cell_type": "code",
   "execution_count": null,
   "metadata": {
    "collapsed": true
   },
   "outputs": [],
   "source": [
    "testingSet_imp_median[['idpostulante_code','idaviso']] = testingSet_imp_median[['idpostulante_code','idaviso']].apply(pd.to_numeric,downcast='unsigned')"
   ]
  },
  {
   "cell_type": "code",
   "execution_count": null,
   "metadata": {
    "collapsed": true
   },
   "outputs": [],
   "source": [
    "dtypes = pd.Series({'idaviso': np.dtype('uint64'), 'idpostulante': np.dtype('object'),\n",
    "                   'se_postulo': np.dtype('uint8'), 'edad': np.dtype('uint16'), \n",
    "                    'estado_code': np.dtype('uint8'),'sexo_code': np.dtype('uint8'),\n",
    "                    'nombre_code': np.dtype('uint8'),'nombre_area_code': np.dtype('uint8'),\n",
    "                    'denominacion_empresa_code': np.dtype('uint16'),\n",
    "                   'nivel_laboral_code': np.dtype('uint8'),\n",
    "                   'tipo_de_trabajo_code': np.dtype('uint8'),\n",
    "                   'nombre_zona_code': np.dtype('uint8')})\n",
    "\n",
    "dtypes_col = dtypes.index\n",
    "dtypes_type = [i.name for i in dtypes.values]\n",
    "\n",
    "column_types = dict(zip(dtypes_col, dtypes_type))\n",
    "\n",
    "\n",
    "testingSet_imp_most_frequent = pd.read_csv('TestingSets/testingSet_imp_most_frequent.csv')\n",
    "testingSet_imp_most_frequent.drop(columns=['Unnamed: 0'],inplace=True)"
   ]
  },
  {
   "cell_type": "code",
   "execution_count": null,
   "metadata": {
    "collapsed": true
   },
   "outputs": [],
   "source": [
    "le3 = preprocessing.LabelEncoder();\n",
    "le3.fit(testingSet_imp_most_frequent[\"idpostulante\"])"
   ]
  },
  {
   "cell_type": "code",
   "execution_count": null,
   "metadata": {
    "collapsed": true
   },
   "outputs": [],
   "source": [
    "testingSet_imp_most_frequent[\"idpostulante_code\"] = le3.transform(testingSet_imp_most_frequent[\"idpostulante\"])"
   ]
  },
  {
   "cell_type": "code",
   "execution_count": null,
   "metadata": {
    "collapsed": true
   },
   "outputs": [],
   "source": [
    "testingSet_imp_most_frequent.drop(columns=['idpostulante'],inplace=True) #No sirve para el algoritmo de ML"
   ]
  },
  {
   "cell_type": "code",
   "execution_count": null,
   "metadata": {
    "collapsed": true
   },
   "outputs": [],
   "source": [
    "testingSet_imp_most_frequent[['idpostulante_code','idaviso']] = testingSet_imp_most_frequent[['idpostulante_code','idaviso']].apply(pd.to_numeric,downcast='unsigned')"
   ]
  },
  {
   "cell_type": "markdown",
   "metadata": {},
   "source": [
    "# Prediccion/submit 8 con RFC "
   ]
  },
  {
   "cell_type": "code",
   "execution_count": null,
   "metadata": {
    "collapsed": true
   },
   "outputs": [],
   "source": [
    "# Hago la prediccion\n",
    "testingSet_imp_mean.loc[:,'sepostulo'] = testingSet_imp_mean[columnas].apply(lambda x: random_forest.predict([x])[0],axis = 1)"
   ]
  },
  {
   "cell_type": "code",
   "execution_count": null,
   "metadata": {
    "collapsed": true
   },
   "outputs": [],
   "source": [
    "testingSet_imp_mean.drop(['nombre_area_code','denominacion_empresa_code','nivel_laboral_code','tipo_de_trabajo_code','tipo_de_trabajo_code','nombre_zona_code','edad','estado_code','sexo_code','nombre_code','idaviso','idpostulante_code'],axis=1,inplace=True)"
   ]
  },
  {
   "cell_type": "code",
   "execution_count": null,
   "metadata": {
    "collapsed": true
   },
   "outputs": [],
   "source": [
    "testingSet_imp_mean['sepostulo'] = testingSet_imp_mean['sepostulo'].astype('float64')"
   ]
  },
  {
   "cell_type": "code",
   "execution_count": null,
   "metadata": {
    "collapsed": true
   },
   "outputs": [],
   "source": [
    "testingSet_imp_mean.to_csv('Submit/prediccion8.csv',index=False)"
   ]
  },
  {
   "cell_type": "markdown",
   "metadata": {},
   "source": [
    "# Prediccion/submit 9 con RFC"
   ]
  },
  {
   "cell_type": "code",
   "execution_count": null,
   "metadata": {
    "collapsed": true
   },
   "outputs": [],
   "source": [
    "# Hago la prediccion\n",
    "testingSet_imp_median.loc[:,'se_postulo'] = testingSet_imp_median[columnas].apply(lambda x: random_forest.predict([x])[0],axis = 1)"
   ]
  },
  {
   "cell_type": "code",
   "execution_count": null,
   "metadata": {
    "collapsed": true
   },
   "outputs": [],
   "source": [
    "testingSet_imp_median.drop(['nombre_area_code','denominacion_empresa_code','nivel_laboral_code','tipo_de_trabajo_code','tipo_de_trabajo_code','nombre_zona_code','edad','estado_code','sexo_code','nombre_code','idaviso','idpostulante_code'],axis=1,inplace=True)"
   ]
  },
  {
   "cell_type": "code",
   "execution_count": null,
   "metadata": {
    "collapsed": true
   },
   "outputs": [],
   "source": [
    "testingSet_imp_median['sepostulo'] = testingSet_imp_median['sepostulo'].astype('float64')"
   ]
  },
  {
   "cell_type": "code",
   "execution_count": null,
   "metadata": {
    "collapsed": true
   },
   "outputs": [],
   "source": [
    "testingSet_imp_median.to_csv('Submit/prediccion9.csv',index=False)"
   ]
  },
  {
   "cell_type": "markdown",
   "metadata": {},
   "source": [
    "# Prediccion/submit 10 con RFC"
   ]
  },
  {
   "cell_type": "code",
   "execution_count": null,
   "metadata": {
    "collapsed": true
   },
   "outputs": [],
   "source": [
    "#Hago la prediccion\n",
    "testingSet_imp_most_frequent.loc[:,'se_postulo'] = testingSet_imp_most_frequent[columnas].apply(lambda x: random_forest.predict([x])[0],axis = 1)"
   ]
  },
  {
   "cell_type": "code",
   "execution_count": null,
   "metadata": {
    "collapsed": true
   },
   "outputs": [],
   "source": [
    "testingSet_imp_most_frequent.drop(['nombre_area_code','denominacion_empresa_code','nivel_laboral_code','tipo_de_trabajo_code','tipo_de_trabajo_code','nombre_zona_code','edad','estado_code','sexo_code','nombre_code','idaviso','idpostulante_code'],axis=1,inplace=True)"
   ]
  },
  {
   "cell_type": "code",
   "execution_count": null,
   "metadata": {
    "collapsed": true
   },
   "outputs": [],
   "source": [
    "testingSet_imp_most_frequent['sepostulo'] = testingSet_imp_most_frequent['sepostulo'].astype('float64')"
   ]
  },
  {
   "cell_type": "code",
   "execution_count": null,
   "metadata": {
    "collapsed": true
   },
   "outputs": [],
   "source": [
    "testingSet_imp_most_frequent.to_csv('Submit/prediccion10.csv',index=False)"
   ]
  },
  {
   "cell_type": "markdown",
   "metadata": {},
   "source": [
    "# XGBOOST"
   ]
  },
  {
   "cell_type": "code",
   "execution_count": 1,
   "metadata": {},
   "outputs": [],
   "source": [
    "import pandas as pd\n",
    "import numpy as np\n",
    "import xgboost as xgb\n",
    "from sklearn.metrics import mean_squared_error\n",
    "from sklearn.metrics import classification_report\n",
    "from sklearn.preprocessing import LabelEncoder\n",
    "from pandas.api.types import CategoricalDtype"
   ]
  },
  {
   "cell_type": "code",
   "execution_count": 2,
   "metadata": {},
   "outputs": [],
   "source": [
    "dtypes = pd.Series({'sepostulo': np.dtype('uint8'),'edad': np.dtype('uint16')})\n",
    "\n",
    "dtypes_col = dtypes.index\n",
    "dtypes_type = [i.name for i in dtypes.values]\n",
    "\n",
    "column_types = dict(zip(dtypes_col, dtypes_type))\n",
    "\n",
    "trainingSet = pd.read_csv('/home/lucio/Documentos/Datos/NaventDatosTP/Data/TRAINING_SET_SIN_ENCODING.csv',dtype=column_types)\n",
    "trainingSet.drop(['Unnamed: 0','denominacion_empresa'],axis=1,inplace=True)\n",
    "trainingSet[[\"sexo\",'nombre','estado','nombre_zona',\n",
    "             'tipo_de_trabajo','nivel_laboral',\n",
    "             'nombre_area']] = trainingSet[[\"sexo\",'nombre','estado','nombre_zona',\n",
    "                                            'tipo_de_trabajo','nivel_laboral',\n",
    "                                            'nombre_area']].astype('category')"
   ]
  },
  {
   "cell_type": "code",
   "execution_count": 3,
   "metadata": {},
   "outputs": [
    {
     "name": "stdout",
     "output_type": "stream",
     "text": [
      "<class 'pandas.core.frame.DataFrame'>\n",
      "RangeIndex: 9439964 entries, 0 to 9439963\n",
      "Data columns (total 9 columns):\n",
      "sepostulo          uint8\n",
      "sexo               category\n",
      "nombre             category\n",
      "estado             category\n",
      "edad               uint16\n",
      "nombre_zona        category\n",
      "tipo_de_trabajo    category\n",
      "nivel_laboral      category\n",
      "nombre_area        category\n",
      "dtypes: category(7), uint16(1), uint8(1)\n",
      "memory usage: 99.0 MB\n"
     ]
    }
   ],
   "source": [
    "trainingSet.info()"
   ]
  },
  {
   "cell_type": "markdown",
   "metadata": {},
   "source": [
    "# Me quedo con 500K de registros random"
   ]
  },
  {
   "cell_type": "code",
   "execution_count": 3,
   "metadata": {},
   "outputs": [],
   "source": [
    "trainingSet_samples = trainingSet.sample(n=500000,random_state=50)"
   ]
  },
  {
   "cell_type": "code",
   "execution_count": 5,
   "metadata": {},
   "outputs": [
    {
     "data": {
      "text/plain": [
       "1    314617\n",
       "0    185383\n",
       "Name: sepostulo, dtype: int64"
      ]
     },
     "execution_count": 5,
     "metadata": {},
     "output_type": "execute_result"
    }
   ],
   "source": [
    "trainingSet_samples['sepostulo'].value_counts()"
   ]
  },
  {
   "cell_type": "markdown",
   "metadata": {},
   "source": [
    "# Hago dummificacion"
   ]
  },
  {
   "cell_type": "code",
   "execution_count": 5,
   "metadata": {},
   "outputs": [],
   "source": [
    "trainingSet_samples = trainingSet_samples.join(pd.get_dummies(trainingSet_samples.sexo))\n",
    "\n",
    "trainingSet_samples.drop('sexo',axis=1, inplace=True)\n",
    "\n",
    "trainingSet_samples = trainingSet_samples.join(pd.get_dummies(trainingSet_samples.nombre))\n",
    "\n",
    "trainingSet_samples.drop('nombre',axis=1, inplace=True)\n",
    "\n",
    "trainingSet_samples = trainingSet_samples.join(pd.get_dummies(trainingSet_samples.estado))\n",
    "\n",
    "trainingSet_samples.drop('estado',axis=1, inplace=True)\n",
    "\n",
    "trainingSet_samples = trainingSet_samples.join(pd.get_dummies(trainingSet_samples.nombre_zona))\n",
    "\n",
    "trainingSet_samples.drop('nombre_zona',axis=1, inplace=True)\n",
    "\n",
    "trainingSet_samples = trainingSet_samples.join(pd.get_dummies(trainingSet_samples.tipo_de_trabajo))\n",
    "\n",
    "trainingSet_samples.drop('tipo_de_trabajo',axis=1, inplace=True)\n",
    "\n",
    "trainingSet_samples = trainingSet_samples.join(pd.get_dummies(trainingSet_samples.nivel_laboral,\n",
    "                                                             prefix=\"Nivel_laboral\"))\n",
    "\n",
    "trainingSet_samples.drop('nivel_laboral',axis=1, inplace=True)\n",
    "\n",
    "trainingSet_samples = trainingSet_samples.join(pd.get_dummies(trainingSet_samples.nombre_area))\n",
    "# LO SAQUE PORQUE MI MAQUINA NO SE BANCA POR AHI LA DE UDS SI AUNQUE AGREGA MUCHAS COLUMAS(188)\n",
    "\n",
    "trainingSet_samples.drop('nombre_area',axis=1, inplace=True)"
   ]
  },
  {
   "cell_type": "code",
   "execution_count": null,
   "metadata": {},
   "outputs": [],
   "source": [
    "trainingSet = trainingSet_samples.join(pd.get_dummies(trainingSet_samples.sexo))\n",
    "\n",
    "trainingSet.drop('sexo',axis=1, inplace=True)\n",
    "\n",
    "trainingSet = trainingSet_samples.join(pd.get_dummies(trainingSet_samples.nombre))\n",
    "\n",
    "trainingSet.drop('nombre',axis=1, inplace=True)\n",
    "\n",
    "trainingSet = trainingSet_samples.join(pd.get_dummies(trainingSet_samples.estado))\n",
    "\n",
    "trainingSet.drop('estado',axis=1, inplace=True)\n",
    "\n",
    "trainingSet = trainingSet_samples.join(pd.get_dummies(trainingSet_samples.nombre_zona))\n",
    "\n",
    "trainingSet.drop('nombre_zona',axis=1, inplace=True)\n",
    "\n",
    "trainingSet = trainingSet_samples.join(pd.get_dummies(trainingSet_samples.tipo_de_trabajo))\n",
    "\n",
    "trainingSet.drop('tipo_de_trabajo',axis=1, inplace=True)\n",
    "\n",
    "trainingSet = trainingSet_samples.join(pd.get_dummies(trainingSet_samples.nivel_laboral,\n",
    "                                                             prefix=\"Nivel_laboral\"))\n",
    "\n",
    "trainingSet_samples.drop('nivel_laboral',axis=1, inplace=True)\n",
    "\n",
    "#trainingSet_samples = trainingSet_samples.join(pd.get_dummies(trainingSet_samples.nombre_area))\n",
    "# LO SAQUE PORQUE MI MAQUINA NO SE BANCA POR AHI LA DE UDS SI AUNQUE AGREGA MUCHAS COLUMAS(188)\n",
    "\n",
    "trainingSet_samples.drop('nombre_area',axis=1, inplace=True)"
   ]
  },
  {
   "cell_type": "code",
   "execution_count": 6,
   "metadata": {},
   "outputs": [
    {
     "name": "stderr",
     "output_type": "stream",
     "text": [
      "/home/lucio/Documentos/Datos/lib/python3.6/site-packages/sklearn/cross_validation.py:41: DeprecationWarning: This module was deprecated in version 0.18 in favor of the model_selection module into which all the refactored classes and functions are moved. Also note that the interface of the new CV iterators are different from that of this module. This module will be removed in 0.20.\n",
      "  \"This module will be removed in 0.20.\", DeprecationWarning)\n"
     ]
    }
   ],
   "source": [
    "from xgboost.sklearn import XGBClassifier\n",
    "from sklearn import cross_validation, metrics   #Additional scklearn functions"
   ]
  },
  {
   "cell_type": "code",
   "execution_count": 6,
   "metadata": {},
   "outputs": [
    {
     "name": "stdout",
     "output_type": "stream",
     "text": [
      "[0]\tvalidation_0-error:0.507789\tvalidation_1-error:0.507767\n",
      "[1]\tvalidation_0-error:0.487797\tvalidation_1-error:0.487947\n",
      "[2]\tvalidation_0-error:0.48742\tvalidation_1-error:0.4878\n",
      "[3]\tvalidation_0-error:0.482477\tvalidation_1-error:0.482673\n",
      "[4]\tvalidation_0-error:0.481869\tvalidation_1-error:0.4819\n",
      "[5]\tvalidation_0-error:0.483\tvalidation_1-error:0.48326\n",
      "[6]\tvalidation_0-error:0.480117\tvalidation_1-error:0.48066\n",
      "[7]\tvalidation_0-error:0.469743\tvalidation_1-error:0.469613\n",
      "[8]\tvalidation_0-error:0.470834\tvalidation_1-error:0.470447\n",
      "[9]\tvalidation_0-error:0.471126\tvalidation_1-error:0.470947\n",
      "[10]\tvalidation_0-error:0.476854\tvalidation_1-error:0.477753\n",
      "[11]\tvalidation_0-error:0.476431\tvalidation_1-error:0.477093\n",
      "[12]\tvalidation_0-error:0.469417\tvalidation_1-error:0.469193\n",
      "[13]\tvalidation_0-error:0.469023\tvalidation_1-error:0.469653\n",
      "[14]\tvalidation_0-error:0.473157\tvalidation_1-error:0.473333\n",
      "[15]\tvalidation_0-error:0.468597\tvalidation_1-error:0.46956\n",
      "[16]\tvalidation_0-error:0.471617\tvalidation_1-error:0.472927\n",
      "[17]\tvalidation_0-error:0.473734\tvalidation_1-error:0.47414\n",
      "[18]\tvalidation_0-error:0.472266\tvalidation_1-error:0.473813\n",
      "[19]\tvalidation_0-error:0.470103\tvalidation_1-error:0.471707\n",
      "[20]\tvalidation_0-error:0.470563\tvalidation_1-error:0.4724\n",
      "[21]\tvalidation_0-error:0.469466\tvalidation_1-error:0.471233\n",
      "[22]\tvalidation_0-error:0.469286\tvalidation_1-error:0.471293\n",
      "[23]\tvalidation_0-error:0.4693\tvalidation_1-error:0.471127\n",
      "[24]\tvalidation_0-error:0.465169\tvalidation_1-error:0.46636\n",
      "[25]\tvalidation_0-error:0.463371\tvalidation_1-error:0.464793\n",
      "[26]\tvalidation_0-error:0.463291\tvalidation_1-error:0.4648\n",
      "[27]\tvalidation_0-error:0.46294\tvalidation_1-error:0.464587\n",
      "[28]\tvalidation_0-error:0.462274\tvalidation_1-error:0.46388\n",
      "[29]\tvalidation_0-error:0.461811\tvalidation_1-error:0.46352\n",
      "[30]\tvalidation_0-error:0.458697\tvalidation_1-error:0.46018\n",
      "[31]\tvalidation_0-error:0.459649\tvalidation_1-error:0.460907\n",
      "[32]\tvalidation_0-error:0.459783\tvalidation_1-error:0.461327\n",
      "[33]\tvalidation_0-error:0.45986\tvalidation_1-error:0.461333\n",
      "[34]\tvalidation_0-error:0.456603\tvalidation_1-error:0.458133\n",
      "[35]\tvalidation_0-error:0.455843\tvalidation_1-error:0.457567\n",
      "[36]\tvalidation_0-error:0.455711\tvalidation_1-error:0.457427\n",
      "[37]\tvalidation_0-error:0.45564\tvalidation_1-error:0.45746\n",
      "[38]\tvalidation_0-error:0.455077\tvalidation_1-error:0.457033\n",
      "[39]\tvalidation_0-error:0.455251\tvalidation_1-error:0.457127\n",
      "[40]\tvalidation_0-error:0.454329\tvalidation_1-error:0.45598\n",
      "[41]\tvalidation_0-error:0.453891\tvalidation_1-error:0.455567\n",
      "[42]\tvalidation_0-error:0.454483\tvalidation_1-error:0.456073\n",
      "[43]\tvalidation_0-error:0.454226\tvalidation_1-error:0.4556\n",
      "[44]\tvalidation_0-error:0.454071\tvalidation_1-error:0.455413\n",
      "[45]\tvalidation_0-error:0.453614\tvalidation_1-error:0.455367\n",
      "[46]\tvalidation_0-error:0.45272\tvalidation_1-error:0.454687\n",
      "[47]\tvalidation_0-error:0.450326\tvalidation_1-error:0.452153\n",
      "[48]\tvalidation_0-error:0.449354\tvalidation_1-error:0.4511\n",
      "[49]\tvalidation_0-error:0.448363\tvalidation_1-error:0.450007\n",
      "[50]\tvalidation_0-error:0.44772\tvalidation_1-error:0.449407\n",
      "[51]\tvalidation_0-error:0.447157\tvalidation_1-error:0.449087\n",
      "[52]\tvalidation_0-error:0.446937\tvalidation_1-error:0.4488\n",
      "[53]\tvalidation_0-error:0.446957\tvalidation_1-error:0.449227\n",
      "[54]\tvalidation_0-error:0.446843\tvalidation_1-error:0.449133\n",
      "[55]\tvalidation_0-error:0.446209\tvalidation_1-error:0.448453\n",
      "[56]\tvalidation_0-error:0.443589\tvalidation_1-error:0.446527\n",
      "[57]\tvalidation_0-error:0.442234\tvalidation_1-error:0.445527\n",
      "[58]\tvalidation_0-error:0.443003\tvalidation_1-error:0.445807\n",
      "[59]\tvalidation_0-error:0.444049\tvalidation_1-error:0.44636\n",
      "[60]\tvalidation_0-error:0.442183\tvalidation_1-error:0.44522\n",
      "[61]\tvalidation_0-error:0.442194\tvalidation_1-error:0.44526\n",
      "[62]\tvalidation_0-error:0.442014\tvalidation_1-error:0.445207\n",
      "[63]\tvalidation_0-error:0.442663\tvalidation_1-error:0.445633\n",
      "[64]\tvalidation_0-error:0.442431\tvalidation_1-error:0.445487\n",
      "[65]\tvalidation_0-error:0.442331\tvalidation_1-error:0.44528\n",
      "[66]\tvalidation_0-error:0.441574\tvalidation_1-error:0.44484\n",
      "[67]\tvalidation_0-error:0.441934\tvalidation_1-error:0.445367\n",
      "[68]\tvalidation_0-error:0.441651\tvalidation_1-error:0.44514\n",
      "[69]\tvalidation_0-error:0.441803\tvalidation_1-error:0.4453\n",
      "[70]\tvalidation_0-error:0.441137\tvalidation_1-error:0.444833\n",
      "[71]\tvalidation_0-error:0.44096\tvalidation_1-error:0.444453\n",
      "[72]\tvalidation_0-error:0.440597\tvalidation_1-error:0.4441\n",
      "[73]\tvalidation_0-error:0.440666\tvalidation_1-error:0.44418\n",
      "[74]\tvalidation_0-error:0.439969\tvalidation_1-error:0.443827\n",
      "[75]\tvalidation_0-error:0.439763\tvalidation_1-error:0.443847\n",
      "[76]\tvalidation_0-error:0.440194\tvalidation_1-error:0.444313\n",
      "[77]\tvalidation_0-error:0.440623\tvalidation_1-error:0.444947\n",
      "[78]\tvalidation_0-error:0.44062\tvalidation_1-error:0.444753\n",
      "[79]\tvalidation_0-error:0.440474\tvalidation_1-error:0.444573\n",
      "[80]\tvalidation_0-error:0.440026\tvalidation_1-error:0.44392\n",
      "[81]\tvalidation_0-error:0.438986\tvalidation_1-error:0.44282\n",
      "[82]\tvalidation_0-error:0.438623\tvalidation_1-error:0.442327\n",
      "[83]\tvalidation_0-error:0.438366\tvalidation_1-error:0.442067\n",
      "[84]\tvalidation_0-error:0.438491\tvalidation_1-error:0.4424\n",
      "[85]\tvalidation_0-error:0.437957\tvalidation_1-error:0.44192\n",
      "[86]\tvalidation_0-error:0.43724\tvalidation_1-error:0.44106\n",
      "[87]\tvalidation_0-error:0.437409\tvalidation_1-error:0.441373\n",
      "[88]\tvalidation_0-error:0.437754\tvalidation_1-error:0.441767\n",
      "[89]\tvalidation_0-error:0.436963\tvalidation_1-error:0.440993\n",
      "[90]\tvalidation_0-error:0.436829\tvalidation_1-error:0.440887\n",
      "[91]\tvalidation_0-error:0.436606\tvalidation_1-error:0.4406\n",
      "[92]\tvalidation_0-error:0.43658\tvalidation_1-error:0.44058\n",
      "[93]\tvalidation_0-error:0.437234\tvalidation_1-error:0.441047\n",
      "[94]\tvalidation_0-error:0.436411\tvalidation_1-error:0.4405\n",
      "[95]\tvalidation_0-error:0.4364\tvalidation_1-error:0.440493\n",
      "[96]\tvalidation_0-error:0.43608\tvalidation_1-error:0.440287\n",
      "[97]\tvalidation_0-error:0.435937\tvalidation_1-error:0.440353\n",
      "[98]\tvalidation_0-error:0.435837\tvalidation_1-error:0.440293\n",
      "[99]\tvalidation_0-error:0.435831\tvalidation_1-error:0.440247\n",
      "[100]\tvalidation_0-error:0.435709\tvalidation_1-error:0.440113\n",
      "[101]\tvalidation_0-error:0.436406\tvalidation_1-error:0.441207\n",
      "[102]\tvalidation_0-error:0.435286\tvalidation_1-error:0.44026\n",
      "[103]\tvalidation_0-error:0.435291\tvalidation_1-error:0.440193\n",
      "[104]\tvalidation_0-error:0.434897\tvalidation_1-error:0.43958\n",
      "[105]\tvalidation_0-error:0.434634\tvalidation_1-error:0.439327\n",
      "[106]\tvalidation_0-error:0.434291\tvalidation_1-error:0.439167\n",
      "[107]\tvalidation_0-error:0.433951\tvalidation_1-error:0.43904\n",
      "[108]\tvalidation_0-error:0.433894\tvalidation_1-error:0.4391\n",
      "[109]\tvalidation_0-error:0.433809\tvalidation_1-error:0.43906\n",
      "[110]\tvalidation_0-error:0.433703\tvalidation_1-error:0.43886\n",
      "[111]\tvalidation_0-error:0.433634\tvalidation_1-error:0.43886\n",
      "[112]\tvalidation_0-error:0.433531\tvalidation_1-error:0.43874\n",
      "[113]\tvalidation_0-error:0.43326\tvalidation_1-error:0.438493\n",
      "[114]\tvalidation_0-error:0.433309\tvalidation_1-error:0.438427\n",
      "[115]\tvalidation_0-error:0.433366\tvalidation_1-error:0.43872\n",
      "[116]\tvalidation_0-error:0.433329\tvalidation_1-error:0.438693\n",
      "[117]\tvalidation_0-error:0.433269\tvalidation_1-error:0.438587\n",
      "[118]\tvalidation_0-error:0.433506\tvalidation_1-error:0.438993\n",
      "[119]\tvalidation_0-error:0.433397\tvalidation_1-error:0.438593\n",
      "[120]\tvalidation_0-error:0.433451\tvalidation_1-error:0.438593\n",
      "[121]\tvalidation_0-error:0.433103\tvalidation_1-error:0.438333\n",
      "[122]\tvalidation_0-error:0.433243\tvalidation_1-error:0.438367\n",
      "[123]\tvalidation_0-error:0.43322\tvalidation_1-error:0.438287\n",
      "[124]\tvalidation_0-error:0.433057\tvalidation_1-error:0.438213\n",
      "[125]\tvalidation_0-error:0.433169\tvalidation_1-error:0.438447\n",
      "[126]\tvalidation_0-error:0.43328\tvalidation_1-error:0.438593\n",
      "[127]\tvalidation_0-error:0.433106\tvalidation_1-error:0.438427\n",
      "[128]\tvalidation_0-error:0.432506\tvalidation_1-error:0.437387\n",
      "[129]\tvalidation_0-error:0.432306\tvalidation_1-error:0.43746\n",
      "[130]\tvalidation_0-error:0.43198\tvalidation_1-error:0.437107\n",
      "[131]\tvalidation_0-error:0.431871\tvalidation_1-error:0.436993\n",
      "[132]\tvalidation_0-error:0.431554\tvalidation_1-error:0.4368\n",
      "[133]\tvalidation_0-error:0.431649\tvalidation_1-error:0.436733\n",
      "[134]\tvalidation_0-error:0.431589\tvalidation_1-error:0.436853\n",
      "[135]\tvalidation_0-error:0.431509\tvalidation_1-error:0.43674\n",
      "[136]\tvalidation_0-error:0.431294\tvalidation_1-error:0.436593\n",
      "[137]\tvalidation_0-error:0.431306\tvalidation_1-error:0.4366\n",
      "[138]\tvalidation_0-error:0.431289\tvalidation_1-error:0.43648\n",
      "[139]\tvalidation_0-error:0.430954\tvalidation_1-error:0.436113\n",
      "[140]\tvalidation_0-error:0.430674\tvalidation_1-error:0.436\n",
      "[141]\tvalidation_0-error:0.430349\tvalidation_1-error:0.435567\n",
      "[142]\tvalidation_0-error:0.43032\tvalidation_1-error:0.4356\n",
      "[143]\tvalidation_0-error:0.430257\tvalidation_1-error:0.435507\n",
      "[144]\tvalidation_0-error:0.430174\tvalidation_1-error:0.435447\n",
      "[145]\tvalidation_0-error:0.429954\tvalidation_1-error:0.435187\n",
      "[146]\tvalidation_0-error:0.429786\tvalidation_1-error:0.434993\n",
      "[147]\tvalidation_0-error:0.429623\tvalidation_1-error:0.434907\n",
      "[148]\tvalidation_0-error:0.429734\tvalidation_1-error:0.435127\n",
      "[149]\tvalidation_0-error:0.429751\tvalidation_1-error:0.435087\n",
      "[150]\tvalidation_0-error:0.429174\tvalidation_1-error:0.434673\n",
      "[151]\tvalidation_0-error:0.429154\tvalidation_1-error:0.434607\n",
      "[152]\tvalidation_0-error:0.429123\tvalidation_1-error:0.43472\n",
      "[153]\tvalidation_0-error:0.429277\tvalidation_1-error:0.434813\n",
      "[154]\tvalidation_0-error:0.429106\tvalidation_1-error:0.434687\n",
      "[155]\tvalidation_0-error:0.428926\tvalidation_1-error:0.43466\n",
      "[156]\tvalidation_0-error:0.428729\tvalidation_1-error:0.434487\n",
      "[157]\tvalidation_0-error:0.428374\tvalidation_1-error:0.43422\n",
      "[158]\tvalidation_0-error:0.428191\tvalidation_1-error:0.434107\n",
      "[159]\tvalidation_0-error:0.427917\tvalidation_1-error:0.433873\n",
      "[160]\tvalidation_0-error:0.427746\tvalidation_1-error:0.433573\n",
      "[161]\tvalidation_0-error:0.428069\tvalidation_1-error:0.433907\n",
      "[162]\tvalidation_0-error:0.42762\tvalidation_1-error:0.43348\n",
      "[163]\tvalidation_0-error:0.427663\tvalidation_1-error:0.433587\n",
      "[164]\tvalidation_0-error:0.427451\tvalidation_1-error:0.43308\n",
      "[165]\tvalidation_0-error:0.427377\tvalidation_1-error:0.433107\n",
      "[166]\tvalidation_0-error:0.427249\tvalidation_1-error:0.432893\n",
      "[167]\tvalidation_0-error:0.427106\tvalidation_1-error:0.43288\n",
      "[168]\tvalidation_0-error:0.426991\tvalidation_1-error:0.432827\n",
      "[169]\tvalidation_0-error:0.426969\tvalidation_1-error:0.432787\n",
      "[170]\tvalidation_0-error:0.426717\tvalidation_1-error:0.432553\n",
      "[171]\tvalidation_0-error:0.426589\tvalidation_1-error:0.432413\n",
      "[172]\tvalidation_0-error:0.42704\tvalidation_1-error:0.43266\n",
      "[173]\tvalidation_0-error:0.426871\tvalidation_1-error:0.432567\n",
      "[174]\tvalidation_0-error:0.426906\tvalidation_1-error:0.432673\n",
      "[175]\tvalidation_0-error:0.426889\tvalidation_1-error:0.432987\n",
      "[176]\tvalidation_0-error:0.426866\tvalidation_1-error:0.43296\n",
      "[177]\tvalidation_0-error:0.426943\tvalidation_1-error:0.433047\n",
      "[178]\tvalidation_0-error:0.4268\tvalidation_1-error:0.432967\n",
      "[179]\tvalidation_0-error:0.426911\tvalidation_1-error:0.43296\n",
      "[180]\tvalidation_0-error:0.42718\tvalidation_1-error:0.43308\n",
      "[181]\tvalidation_0-error:0.426991\tvalidation_1-error:0.433093\n",
      "[182]\tvalidation_0-error:0.426751\tvalidation_1-error:0.4328\n",
      "[183]\tvalidation_0-error:0.4267\tvalidation_1-error:0.432847\n",
      "[184]\tvalidation_0-error:0.426383\tvalidation_1-error:0.432607\n",
      "[185]\tvalidation_0-error:0.426429\tvalidation_1-error:0.432573\n",
      "[186]\tvalidation_0-error:0.426369\tvalidation_1-error:0.432547\n",
      "[187]\tvalidation_0-error:0.426254\tvalidation_1-error:0.432653\n",
      "[188]\tvalidation_0-error:0.425966\tvalidation_1-error:0.43234\n",
      "[189]\tvalidation_0-error:0.425954\tvalidation_1-error:0.432373\n",
      "[190]\tvalidation_0-error:0.426614\tvalidation_1-error:0.432613\n",
      "[191]\tvalidation_0-error:0.426391\tvalidation_1-error:0.432413\n",
      "[192]\tvalidation_0-error:0.426051\tvalidation_1-error:0.432047\n",
      "[193]\tvalidation_0-error:0.425937\tvalidation_1-error:0.43186\n",
      "[194]\tvalidation_0-error:0.42578\tvalidation_1-error:0.43172\n",
      "[195]\tvalidation_0-error:0.425983\tvalidation_1-error:0.43194\n",
      "[196]\tvalidation_0-error:0.425806\tvalidation_1-error:0.43174\n",
      "[197]\tvalidation_0-error:0.425651\tvalidation_1-error:0.43152\n",
      "[198]\tvalidation_0-error:0.425337\tvalidation_1-error:0.431347\n",
      "[199]\tvalidation_0-error:0.425511\tvalidation_1-error:0.431733\n",
      "[200]\tvalidation_0-error:0.425551\tvalidation_1-error:0.43168\n",
      "[201]\tvalidation_0-error:0.425406\tvalidation_1-error:0.431707\n",
      "[202]\tvalidation_0-error:0.424789\tvalidation_1-error:0.431173\n",
      "[203]\tvalidation_0-error:0.425283\tvalidation_1-error:0.431773\n",
      "[204]\tvalidation_0-error:0.425089\tvalidation_1-error:0.431647\n",
      "[205]\tvalidation_0-error:0.425183\tvalidation_1-error:0.431593\n",
      "[206]\tvalidation_0-error:0.425169\tvalidation_1-error:0.431593\n",
      "[207]\tvalidation_0-error:0.42482\tvalidation_1-error:0.43152\n",
      "[208]\tvalidation_0-error:0.424674\tvalidation_1-error:0.431567\n",
      "[209]\tvalidation_0-error:0.424651\tvalidation_1-error:0.431753\n",
      "[210]\tvalidation_0-error:0.4246\tvalidation_1-error:0.431687\n",
      "[211]\tvalidation_0-error:0.42428\tvalidation_1-error:0.431473\n",
      "[212]\tvalidation_0-error:0.424271\tvalidation_1-error:0.431247\n",
      "[213]\tvalidation_0-error:0.424314\tvalidation_1-error:0.431247\n",
      "[214]\tvalidation_0-error:0.424271\tvalidation_1-error:0.43128\n",
      "[215]\tvalidation_0-error:0.423917\tvalidation_1-error:0.431093\n",
      "[216]\tvalidation_0-error:0.42382\tvalidation_1-error:0.430933\n",
      "[217]\tvalidation_0-error:0.423829\tvalidation_1-error:0.43088\n",
      "[218]\tvalidation_0-error:0.423677\tvalidation_1-error:0.43106\n",
      "[219]\tvalidation_0-error:0.422709\tvalidation_1-error:0.429913\n",
      "[220]\tvalidation_0-error:0.422166\tvalidation_1-error:0.42938\n",
      "[221]\tvalidation_0-error:0.422317\tvalidation_1-error:0.429527\n",
      "[222]\tvalidation_0-error:0.423369\tvalidation_1-error:0.430687\n",
      "[223]\tvalidation_0-error:0.423397\tvalidation_1-error:0.43078\n",
      "[224]\tvalidation_0-error:0.423429\tvalidation_1-error:0.430807\n",
      "[225]\tvalidation_0-error:0.423389\tvalidation_1-error:0.430747\n",
      "[226]\tvalidation_0-error:0.422586\tvalidation_1-error:0.429567\n",
      "[227]\tvalidation_0-error:0.422283\tvalidation_1-error:0.429333\n",
      "[228]\tvalidation_0-error:0.422309\tvalidation_1-error:0.429327\n",
      "[229]\tvalidation_0-error:0.422323\tvalidation_1-error:0.42938\n",
      "[230]\tvalidation_0-error:0.4222\tvalidation_1-error:0.42932\n",
      "[231]\tvalidation_0-error:0.421917\tvalidation_1-error:0.4291\n",
      "[232]\tvalidation_0-error:0.421794\tvalidation_1-error:0.428627\n",
      "[233]\tvalidation_0-error:0.421617\tvalidation_1-error:0.428407\n",
      "[234]\tvalidation_0-error:0.421397\tvalidation_1-error:0.428113\n",
      "[235]\tvalidation_0-error:0.42136\tvalidation_1-error:0.42806\n",
      "[236]\tvalidation_0-error:0.421391\tvalidation_1-error:0.42812\n",
      "[237]\tvalidation_0-error:0.421823\tvalidation_1-error:0.42868\n",
      "[238]\tvalidation_0-error:0.421466\tvalidation_1-error:0.428347\n",
      "[239]\tvalidation_0-error:0.421374\tvalidation_1-error:0.428273\n",
      "[240]\tvalidation_0-error:0.42134\tvalidation_1-error:0.428207\n",
      "[241]\tvalidation_0-error:0.420809\tvalidation_1-error:0.427753\n",
      "[242]\tvalidation_0-error:0.4206\tvalidation_1-error:0.42752\n",
      "[243]\tvalidation_0-error:0.420794\tvalidation_1-error:0.427613\n",
      "[244]\tvalidation_0-error:0.420777\tvalidation_1-error:0.427587\n",
      "[245]\tvalidation_0-error:0.420491\tvalidation_1-error:0.427033\n",
      "[246]\tvalidation_0-error:0.4205\tvalidation_1-error:0.427053\n",
      "[247]\tvalidation_0-error:0.420649\tvalidation_1-error:0.42718\n",
      "[248]\tvalidation_0-error:0.420317\tvalidation_1-error:0.426667\n",
      "[249]\tvalidation_0-error:0.420254\tvalidation_1-error:0.42686\n",
      "[250]\tvalidation_0-error:0.420254\tvalidation_1-error:0.426867\n",
      "[251]\tvalidation_0-error:0.420246\tvalidation_1-error:0.426807\n",
      "[252]\tvalidation_0-error:0.420163\tvalidation_1-error:0.4266\n",
      "[253]\tvalidation_0-error:0.419874\tvalidation_1-error:0.426287\n",
      "[254]\tvalidation_0-error:0.420029\tvalidation_1-error:0.42646\n",
      "[255]\tvalidation_0-error:0.420051\tvalidation_1-error:0.426513\n",
      "[256]\tvalidation_0-error:0.419791\tvalidation_1-error:0.426207\n",
      "[257]\tvalidation_0-error:0.419726\tvalidation_1-error:0.426267\n",
      "[258]\tvalidation_0-error:0.419717\tvalidation_1-error:0.426187\n",
      "[259]\tvalidation_0-error:0.419497\tvalidation_1-error:0.42606\n",
      "[260]\tvalidation_0-error:0.419514\tvalidation_1-error:0.426053\n",
      "[261]\tvalidation_0-error:0.419614\tvalidation_1-error:0.42606\n",
      "[262]\tvalidation_0-error:0.419689\tvalidation_1-error:0.42612\n",
      "[263]\tvalidation_0-error:0.419529\tvalidation_1-error:0.42618\n",
      "[264]\tvalidation_0-error:0.419466\tvalidation_1-error:0.426107\n",
      "[265]\tvalidation_0-error:0.419423\tvalidation_1-error:0.426093\n",
      "[266]\tvalidation_0-error:0.419163\tvalidation_1-error:0.425793\n",
      "[267]\tvalidation_0-error:0.419686\tvalidation_1-error:0.42674\n",
      "[268]\tvalidation_0-error:0.419623\tvalidation_1-error:0.42668\n",
      "[269]\tvalidation_0-error:0.419451\tvalidation_1-error:0.426347\n",
      "[270]\tvalidation_0-error:0.41878\tvalidation_1-error:0.42602\n",
      "[271]\tvalidation_0-error:0.418866\tvalidation_1-error:0.42608\n",
      "[272]\tvalidation_0-error:0.419243\tvalidation_1-error:0.426293\n",
      "[273]\tvalidation_0-error:0.418331\tvalidation_1-error:0.42532\n",
      "[274]\tvalidation_0-error:0.418337\tvalidation_1-error:0.42532\n",
      "[275]\tvalidation_0-error:0.418569\tvalidation_1-error:0.425893\n",
      "[276]\tvalidation_0-error:0.418526\tvalidation_1-error:0.425827\n",
      "[277]\tvalidation_0-error:0.418583\tvalidation_1-error:0.42598\n",
      "[278]\tvalidation_0-error:0.418751\tvalidation_1-error:0.42598\n",
      "[279]\tvalidation_0-error:0.418354\tvalidation_1-error:0.42556\n",
      "[280]\tvalidation_0-error:0.418211\tvalidation_1-error:0.425467\n",
      "[281]\tvalidation_0-error:0.418677\tvalidation_1-error:0.4258\n",
      "[282]\tvalidation_0-error:0.41882\tvalidation_1-error:0.426467\n",
      "[283]\tvalidation_0-error:0.418826\tvalidation_1-error:0.426433\n",
      "[284]\tvalidation_0-error:0.418777\tvalidation_1-error:0.42638\n",
      "[285]\tvalidation_0-error:0.418746\tvalidation_1-error:0.426387\n",
      "[286]\tvalidation_0-error:0.41832\tvalidation_1-error:0.426047\n",
      "[287]\tvalidation_0-error:0.418283\tvalidation_1-error:0.426033\n",
      "[288]\tvalidation_0-error:0.418343\tvalidation_1-error:0.426093\n",
      "[289]\tvalidation_0-error:0.418254\tvalidation_1-error:0.42592\n",
      "[290]\tvalidation_0-error:0.418183\tvalidation_1-error:0.42606\n",
      "[291]\tvalidation_0-error:0.417983\tvalidation_1-error:0.42574\n",
      "[292]\tvalidation_0-error:0.417843\tvalidation_1-error:0.425627\n",
      "[293]\tvalidation_0-error:0.417691\tvalidation_1-error:0.42522\n",
      "[294]\tvalidation_0-error:0.417683\tvalidation_1-error:0.425207\n",
      "[295]\tvalidation_0-error:0.417774\tvalidation_1-error:0.425313\n",
      "[296]\tvalidation_0-error:0.417594\tvalidation_1-error:0.425333\n",
      "[297]\tvalidation_0-error:0.417523\tvalidation_1-error:0.425367\n",
      "[298]\tvalidation_0-error:0.417463\tvalidation_1-error:0.425287\n",
      "[299]\tvalidation_0-error:0.417337\tvalidation_1-error:0.425027\n"
     ]
    },
    {
     "ename": "NameError",
     "evalue": "name 'clf' is not defined",
     "output_type": "error",
     "traceback": [
      "\u001b[0;31m---------------------------------------------------------------------------\u001b[0m",
      "\u001b[0;31mNameError\u001b[0m                                 Traceback (most recent call last)",
      "\u001b[0;32m<ipython-input-6-6251efe9ed8f>\u001b[0m in \u001b[0;36m<module>\u001b[0;34m()\u001b[0m\n\u001b[1;32m     25\u001b[0m \u001b[0;31m# Train and evaluate.\u001b[0m\u001b[0;34m\u001b[0m\u001b[0;34m\u001b[0m\u001b[0m\n\u001b[1;32m     26\u001b[0m \u001b[0mxgb_model\u001b[0m\u001b[0;34m.\u001b[0m\u001b[0mfit\u001b[0m\u001b[0;34m(\u001b[0m\u001b[0mxtrain\u001b[0m\u001b[0;34m,\u001b[0m \u001b[0mytrain\u001b[0m\u001b[0;34m,\u001b[0m \u001b[0meval_metric\u001b[0m\u001b[0;34m=\u001b[0m\u001b[0;34m[\u001b[0m\u001b[0;34m'error'\u001b[0m\u001b[0;34m]\u001b[0m\u001b[0;34m,\u001b[0m \u001b[0meval_set\u001b[0m\u001b[0;34m=\u001b[0m\u001b[0;34m[\u001b[0m\u001b[0;34m(\u001b[0m\u001b[0;34m(\u001b[0m\u001b[0mxtrain\u001b[0m\u001b[0;34m,\u001b[0m \u001b[0mytrain\u001b[0m\u001b[0;34m)\u001b[0m\u001b[0;34m)\u001b[0m\u001b[0;34m,\u001b[0m\u001b[0;34m(\u001b[0m\u001b[0mxtest\u001b[0m\u001b[0;34m,\u001b[0m \u001b[0mytest\u001b[0m\u001b[0;34m)\u001b[0m\u001b[0;34m]\u001b[0m\u001b[0;34m)\u001b[0m\u001b[0;34m\u001b[0m\u001b[0m\n\u001b[0;32m---> 27\u001b[0;31m \u001b[0mclf\u001b[0m\u001b[0;34m.\u001b[0m\u001b[0mfeature_importances_\u001b[0m\u001b[0;34m\u001b[0m\u001b[0m\n\u001b[0m\u001b[1;32m     28\u001b[0m \u001b[0mmodel\u001b[0m \u001b[0;34m=\u001b[0m \u001b[0mSelectFromModel\u001b[0m\u001b[0;34m(\u001b[0m\u001b[0mxgb_model\u001b[0m\u001b[0;34m,\u001b[0m \u001b[0mprefit\u001b[0m\u001b[0;34m=\u001b[0m\u001b[0;32mTrue\u001b[0m\u001b[0;34m)\u001b[0m\u001b[0;34m\u001b[0m\u001b[0m\n\u001b[1;32m     29\u001b[0m \u001b[0mxtrain_new\u001b[0m \u001b[0;34m=\u001b[0m \u001b[0mmodel\u001b[0m\u001b[0;34m.\u001b[0m\u001b[0mtransform\u001b[0m\u001b[0;34m(\u001b[0m\u001b[0mxtrain\u001b[0m\u001b[0;34m)\u001b[0m\u001b[0;34m\u001b[0m\u001b[0m\n",
      "\u001b[0;31mNameError\u001b[0m: name 'clf' is not defined"
     ]
    }
   ],
   "source": [
    "#Choose all predictors except target\n",
    "from sklearn.model_selection import train_test_split\n",
    "from sklearn.feature_selection import SelectFromModel\n",
    "columnas = trainingSet_samples.columns.drop(\"sepostulo\")\n",
    "xtrain, xtest, ytrain, ytest = train_test_split(trainingSet_samples[columnas], \n",
    "                                        trainingSet_samples['sepostulo'],test_size=0.30, random_state=12)\n",
    "casos_negativos = trainingSet_samples['sepostulo'].value_counts()[0]\n",
    "casos_positivos = trainingSet_samples['sepostulo'].value_counts()[1]\n",
    "scale_weight =  casos_negativos / casos_positivos\n",
    "\n",
    "xtrain.shape\n",
    "\n",
    "xgb_model = XGBClassifier(\n",
    " learning_rate =0.1,\n",
    " n_estimators=300,\n",
    " max_depth=5,\n",
    " min_child_weight=1,\n",
    " gamma=0,\n",
    " subsample=0.8,\n",
    " colsample_bytree=0.8,\n",
    " objective= 'binary:logistic',\n",
    " nthread=1,\n",
    " scale_pos_weight= scale_weight,\n",
    " seed=27)\n",
    "\n",
    "# Train and evaluate.\n",
    "xgb_model.fit(xtrain, ytrain, eval_metric=['error'], eval_set=[((xtrain, ytrain)),(xtest, ytest)])\n",
    "clf.feature_importances_\n",
    "model = SelectFromModel(xgb_model, prefit=True)\n",
    "xtrain_new = model.transform(xtrain)\n",
    "xtrain_new.shape\n",
    "\n",
    "from sklearn import metrics\n",
    "import warnings\n",
    "warnings.filterwarnings(\"ignore\")\n",
    "\n",
    "y_pred = xgb_model.predict(xtest)  #predicts\n",
    "print('confusion matrix')\n",
    "print(metrics.confusion_matrix(ytest, y_pred))\n",
    "print('classification report')\n",
    "print(metrics.classification_report(ytest, y_pred))\n",
    "print(\"-----------------------------------------------------------------------------------------\")\n",
    "print(\"Accuracy is :\")\n",
    "print(metrics.accuracy_score(ytest, y_pred))\n",
    "print('Area under the curve : %f' % (metrics.roc_auc_score(ytest, y_pred)))"
   ]
  },
  {
   "cell_type": "code",
   "execution_count": 7,
   "metadata": {},
   "outputs": [
    {
     "data": {
      "text/plain": [
       "(350000, 229)"
      ]
     },
     "execution_count": 7,
     "metadata": {},
     "output_type": "execute_result"
    }
   ],
   "source": [
    "xtrain.shape"
   ]
  },
  {
   "cell_type": "code",
   "execution_count": 9,
   "metadata": {},
   "outputs": [
    {
     "name": "stdout",
     "output_type": "stream",
     "text": [
      "[2.3482890e-01 4.3346006e-02 1.6730038e-02 4.5627376e-04 4.5627376e-04\n",
      " 9.8859314e-03 9.1254752e-04 1.3079848e-02 2.4334600e-02 1.9163499e-02\n",
      " 3.1939164e-02 1.6273765e-02 2.5855513e-02 2.7376426e-02 4.5627376e-04\n",
      " 4.1368820e-02 0.0000000e+00 0.0000000e+00 6.0836499e-04 4.5627376e-04\n",
      " 1.2927757e-02 0.0000000e+00 0.0000000e+00 0.0000000e+00 0.0000000e+00\n",
      " 0.0000000e+00 4.1064639e-03 3.7870724e-02 2.2357414e-02 5.9315590e-03\n",
      " 2.5855512e-03 6.3878326e-03 1.5209125e-03 3.1939163e-03 7.9087457e-03\n",
      " 0.0000000e+00 1.0038023e-02 1.7034221e-02 4.3193918e-02 3.3155892e-02\n",
      " 3.8022812e-02 1.5209125e-03 1.5209125e-04 2.8897338e-03 0.0000000e+00\n",
      " 9.1254752e-04 2.8897338e-03 1.8250950e-03 1.9771864e-03 1.6730038e-03\n",
      " 9.1254752e-04 0.0000000e+00 1.0646388e-03 7.6045626e-04 1.5209125e-04\n",
      " 3.3460076e-03 2.5855512e-03 0.0000000e+00 0.0000000e+00 6.0836499e-04\n",
      " 1.0646388e-03 1.5209125e-03 3.0418250e-04 1.5209125e-04 2.1292777e-03\n",
      " 3.3460076e-03 2.4334600e-03 5.0190114e-03 2.2813687e-03 2.5855512e-03\n",
      " 1.8250950e-03 3.8022813e-03 1.3688212e-03 9.1254752e-04 0.0000000e+00\n",
      " 9.1254752e-04 0.0000000e+00 1.3688212e-03 1.8250950e-03 4.5627376e-04\n",
      " 0.0000000e+00 9.1254752e-04 1.0646388e-03 2.4334600e-03 2.4334600e-03\n",
      " 2.4334600e-03 6.0836499e-04 3.9543728e-03 7.6045626e-04 9.1254752e-04\n",
      " 6.0836499e-04 1.5209125e-04 1.2167300e-03 3.0418250e-04 7.6045626e-04\n",
      " 0.0000000e+00 3.0418250e-03 1.5209125e-04 3.0418250e-04 1.9771864e-03\n",
      " 1.3688212e-03 1.5209125e-03 1.0646388e-03 0.0000000e+00 1.2167300e-03\n",
      " 1.9771864e-03 1.5209125e-04 0.0000000e+00 1.5209125e-03 3.9543728e-03\n",
      " 2.2813687e-03 0.0000000e+00 9.1254752e-04 1.0646388e-03 4.5627376e-04\n",
      " 9.1254752e-04 1.6730038e-03 0.0000000e+00 2.1292777e-03 1.8250950e-03\n",
      " 3.0418250e-04 2.2813687e-03 0.0000000e+00 2.7376425e-03 6.0836499e-04\n",
      " 9.1254752e-04 0.0000000e+00 7.6045626e-04 0.0000000e+00 2.1292777e-03\n",
      " 0.0000000e+00 9.1254752e-04 1.5209125e-03 4.5627376e-04 1.8250950e-03\n",
      " 9.1254752e-04 9.1254752e-04 3.0418250e-04 0.0000000e+00 1.2167300e-03\n",
      " 1.2167300e-03 1.5209125e-03 9.1254752e-04 1.5209125e-03 4.5627376e-04\n",
      " 0.0000000e+00 0.0000000e+00 1.5209125e-04 9.1254752e-04 0.0000000e+00\n",
      " 9.1254752e-04 3.0418250e-04 1.5209125e-03 4.5627376e-04 0.0000000e+00\n",
      " 1.5209125e-03 1.6730038e-03 1.9771864e-03 1.3688212e-03 1.3688212e-03\n",
      " 2.4334600e-03 2.1292777e-03 0.0000000e+00 3.0418250e-04 1.9771864e-03\n",
      " 0.0000000e+00 0.0000000e+00 1.5209125e-04 1.3688212e-03 1.3688212e-03\n",
      " 4.5627376e-04 0.0000000e+00 1.5209125e-03 9.1254752e-04 1.9771864e-03\n",
      " 1.8250950e-03 2.7376425e-03 1.2167300e-03 2.5855512e-03 3.6501901e-03\n",
      " 1.6730038e-03 9.1254752e-04 4.5627376e-04 1.5209125e-03 5.4752850e-03\n",
      " 6.0836499e-04 3.6501901e-03 1.0646388e-03 0.0000000e+00 4.5627376e-04\n",
      " 0.0000000e+00 6.0836499e-04 1.9771864e-03 1.3688212e-03 3.9543728e-03\n",
      " 1.9771864e-03 2.5855512e-03 1.5209125e-03 1.2167300e-03 1.9771864e-03\n",
      " 2.5855512e-03 1.5209125e-04 4.5627376e-04 7.6045626e-04 1.0646388e-03\n",
      " 1.5209125e-03 2.4334600e-03 1.8250950e-03 1.6730038e-03 3.9543728e-03\n",
      " 6.0836499e-04 4.1064639e-03 1.9771864e-03 1.8250950e-03 0.0000000e+00\n",
      " 5.3231940e-03 1.2167300e-03 4.5627376e-04 3.0418250e-04 0.0000000e+00\n",
      " 1.5209125e-04 7.6045626e-04 3.8022813e-03 1.5209125e-04 0.0000000e+00\n",
      " 1.3688212e-03 7.4524716e-03 4.5627376e-04 0.0000000e+00]\n",
      "(350000, 27)\n",
      "confusion matrix\n",
      "[[30384 25114]\n",
      " [38640 55862]]\n",
      "classification report\n",
      "             precision    recall  f1-score   support\n",
      "\n",
      "          0       0.44      0.55      0.49     55498\n",
      "          1       0.69      0.59      0.64     94502\n",
      "\n",
      "avg / total       0.60      0.57      0.58    150000\n",
      "\n",
      "-----------------------------------------------------------------------------------------\n",
      "Accuracy is :\n",
      "0.5749733333333333\n",
      "Area under the curve : 0.569299\n"
     ]
    }
   ],
   "source": [
    "from sklearn.feature_selection import SelectFromModel\n",
    "print(xgb_model.feature_importances_)\n",
    "model = SelectFromModel(xgb_model, prefit=True)\n",
    "xtrain_new = model.transform(xtrain)\n",
    "print(xtrain_new.shape)\n",
    "\n",
    "from sklearn import metrics\n",
    "import warnings\n",
    "warnings.filterwarnings(\"ignore\")\n",
    "\n",
    "y_pred = xgb_model.predict(xtest)  #predicts\n",
    "print('confusion matrix')\n",
    "print(metrics.confusion_matrix(ytest, y_pred))\n",
    "print('classification report')\n",
    "print(metrics.classification_report(ytest, y_pred))\n",
    "print(\"-----------------------------------------------------------------------------------------\")\n",
    "print(\"Accuracy is :\")\n",
    "print(metrics.accuracy_score(ytest, y_pred))\n",
    "print('Area under the curve : %f' % (metrics.roc_auc_score(ytest, y_pred)))"
   ]
  },
  {
   "cell_type": "code",
   "execution_count": 12,
   "metadata": {},
   "outputs": [
    {
     "ename": "MemoryError",
     "evalue": "",
     "output_type": "error",
     "traceback": [
      "\u001b[0;31m---------------------------------------------------------------------------\u001b[0m",
      "\u001b[0;31mMemoryError\u001b[0m                               Traceback (most recent call last)",
      "\u001b[0;32m<ipython-input-12-2eee87762ad1>\u001b[0m in \u001b[0;36m<module>\u001b[0;34m()\u001b[0m\n\u001b[1;32m     17\u001b[0m \u001b[0;34m\u001b[0m\u001b[0m\n\u001b[1;32m     18\u001b[0m \u001b[0;31m# Train and evaluate.\u001b[0m\u001b[0;34m\u001b[0m\u001b[0;34m\u001b[0m\u001b[0m\n\u001b[0;32m---> 19\u001b[0;31m \u001b[0mxgb_model\u001b[0m\u001b[0;34m.\u001b[0m\u001b[0mfit\u001b[0m\u001b[0;34m(\u001b[0m\u001b[0mxtrain_new\u001b[0m\u001b[0;34m,\u001b[0m \u001b[0mytrain\u001b[0m\u001b[0;34m,\u001b[0m \u001b[0meval_metric\u001b[0m\u001b[0;34m=\u001b[0m\u001b[0;34m[\u001b[0m\u001b[0;34m'error'\u001b[0m\u001b[0;34m]\u001b[0m\u001b[0;34m,\u001b[0m \u001b[0meval_set\u001b[0m\u001b[0;34m=\u001b[0m\u001b[0;34m[\u001b[0m\u001b[0;34m(\u001b[0m\u001b[0;34m(\u001b[0m\u001b[0mxtrain_new\u001b[0m\u001b[0;34m,\u001b[0m \u001b[0mytrain\u001b[0m\u001b[0;34m)\u001b[0m\u001b[0;34m)\u001b[0m\u001b[0;34m,\u001b[0m\u001b[0;34m(\u001b[0m\u001b[0mxtest\u001b[0m\u001b[0;34m,\u001b[0m \u001b[0mytest\u001b[0m\u001b[0;34m)\u001b[0m\u001b[0;34m]\u001b[0m\u001b[0;34m)\u001b[0m\u001b[0;34m\u001b[0m\u001b[0m\n\u001b[0m\u001b[1;32m     20\u001b[0m \u001b[0;34m\u001b[0m\u001b[0m\n\u001b[1;32m     21\u001b[0m \u001b[0;32mfrom\u001b[0m \u001b[0msklearn\u001b[0m \u001b[0;32mimport\u001b[0m \u001b[0mmetrics\u001b[0m\u001b[0;34m\u001b[0m\u001b[0m\n",
      "\u001b[0;32m~/Documentos/Datos/lib/python3.6/site-packages/xgboost/sklearn.py\u001b[0m in \u001b[0;36mfit\u001b[0;34m(self, X, y, sample_weight, eval_set, eval_metric, early_stopping_rounds, verbose, xgb_model, sample_weight_eval_set)\u001b[0m\n\u001b[1;32m    498\u001b[0m                         \u001b[0mmissing\u001b[0m\u001b[0;34m=\u001b[0m\u001b[0mself\u001b[0m\u001b[0;34m.\u001b[0m\u001b[0mmissing\u001b[0m\u001b[0;34m,\u001b[0m \u001b[0mweight\u001b[0m\u001b[0;34m=\u001b[0m\u001b[0msample_weight_eval_set\u001b[0m\u001b[0;34m[\u001b[0m\u001b[0mi\u001b[0m\u001b[0;34m]\u001b[0m\u001b[0;34m,\u001b[0m\u001b[0;34m\u001b[0m\u001b[0m\n\u001b[1;32m    499\u001b[0m                         nthread=self.n_jobs)\n\u001b[0;32m--> 500\u001b[0;31m                 \u001b[0;32mfor\u001b[0m \u001b[0mi\u001b[0m \u001b[0;32min\u001b[0m \u001b[0mrange\u001b[0m\u001b[0;34m(\u001b[0m\u001b[0mlen\u001b[0m\u001b[0;34m(\u001b[0m\u001b[0meval_set\u001b[0m\u001b[0;34m)\u001b[0m\u001b[0;34m)\u001b[0m\u001b[0;34m\u001b[0m\u001b[0m\n\u001b[0m\u001b[1;32m    501\u001b[0m             )\n\u001b[1;32m    502\u001b[0m             \u001b[0mnevals\u001b[0m \u001b[0;34m=\u001b[0m \u001b[0mlen\u001b[0m\u001b[0;34m(\u001b[0m\u001b[0mevals\u001b[0m\u001b[0;34m)\u001b[0m\u001b[0;34m\u001b[0m\u001b[0m\n",
      "\u001b[0;32m~/Documentos/Datos/lib/python3.6/site-packages/xgboost/sklearn.py\u001b[0m in \u001b[0;36m<genexpr>\u001b[0;34m(.0)\u001b[0m\n\u001b[1;32m    498\u001b[0m                         \u001b[0mmissing\u001b[0m\u001b[0;34m=\u001b[0m\u001b[0mself\u001b[0m\u001b[0;34m.\u001b[0m\u001b[0mmissing\u001b[0m\u001b[0;34m,\u001b[0m \u001b[0mweight\u001b[0m\u001b[0;34m=\u001b[0m\u001b[0msample_weight_eval_set\u001b[0m\u001b[0;34m[\u001b[0m\u001b[0mi\u001b[0m\u001b[0;34m]\u001b[0m\u001b[0;34m,\u001b[0m\u001b[0;34m\u001b[0m\u001b[0m\n\u001b[1;32m    499\u001b[0m                         nthread=self.n_jobs)\n\u001b[0;32m--> 500\u001b[0;31m                 \u001b[0;32mfor\u001b[0m \u001b[0mi\u001b[0m \u001b[0;32min\u001b[0m \u001b[0mrange\u001b[0m\u001b[0;34m(\u001b[0m\u001b[0mlen\u001b[0m\u001b[0;34m(\u001b[0m\u001b[0meval_set\u001b[0m\u001b[0;34m)\u001b[0m\u001b[0;34m)\u001b[0m\u001b[0;34m\u001b[0m\u001b[0m\n\u001b[0m\u001b[1;32m    501\u001b[0m             )\n\u001b[1;32m    502\u001b[0m             \u001b[0mnevals\u001b[0m \u001b[0;34m=\u001b[0m \u001b[0mlen\u001b[0m\u001b[0;34m(\u001b[0m\u001b[0mevals\u001b[0m\u001b[0;34m)\u001b[0m\u001b[0;34m\u001b[0m\u001b[0m\n",
      "\u001b[0;32m~/Documentos/Datos/lib/python3.6/site-packages/xgboost/core.py\u001b[0m in \u001b[0;36m__init__\u001b[0;34m(self, data, label, missing, weight, silent, feature_names, feature_types, nthread)\u001b[0m\n\u001b[1;32m    276\u001b[0m             \u001b[0mself\u001b[0m\u001b[0;34m.\u001b[0m\u001b[0m_init_from_csc\u001b[0m\u001b[0;34m(\u001b[0m\u001b[0mdata\u001b[0m\u001b[0;34m)\u001b[0m\u001b[0;34m\u001b[0m\u001b[0m\n\u001b[1;32m    277\u001b[0m         \u001b[0;32melif\u001b[0m \u001b[0misinstance\u001b[0m\u001b[0;34m(\u001b[0m\u001b[0mdata\u001b[0m\u001b[0;34m,\u001b[0m \u001b[0mnp\u001b[0m\u001b[0;34m.\u001b[0m\u001b[0mndarray\u001b[0m\u001b[0;34m)\u001b[0m\u001b[0;34m:\u001b[0m\u001b[0;34m\u001b[0m\u001b[0m\n\u001b[0;32m--> 278\u001b[0;31m             \u001b[0mself\u001b[0m\u001b[0;34m.\u001b[0m\u001b[0m_init_from_npy2d\u001b[0m\u001b[0;34m(\u001b[0m\u001b[0mdata\u001b[0m\u001b[0;34m,\u001b[0m \u001b[0mmissing\u001b[0m\u001b[0;34m,\u001b[0m \u001b[0mnthread\u001b[0m\u001b[0;34m)\u001b[0m\u001b[0;34m\u001b[0m\u001b[0m\n\u001b[0m\u001b[1;32m    279\u001b[0m         \u001b[0;32melse\u001b[0m\u001b[0;34m:\u001b[0m\u001b[0;34m\u001b[0m\u001b[0m\n\u001b[1;32m    280\u001b[0m             \u001b[0;32mtry\u001b[0m\u001b[0;34m:\u001b[0m\u001b[0;34m\u001b[0m\u001b[0m\n",
      "\u001b[0;32m~/Documentos/Datos/lib/python3.6/site-packages/xgboost/core.py\u001b[0m in \u001b[0;36m_init_from_npy2d\u001b[0;34m(self, mat, missing, nthread)\u001b[0m\n\u001b[1;32m    344\u001b[0m         \u001b[0;31m# we try to avoid data copies if possible (reshape returns a view when possible\u001b[0m\u001b[0;34m\u001b[0m\u001b[0;34m\u001b[0m\u001b[0m\n\u001b[1;32m    345\u001b[0m         \u001b[0;31m# and we explicitly tell np.array to try and avoid copying)\u001b[0m\u001b[0;34m\u001b[0m\u001b[0;34m\u001b[0m\u001b[0m\n\u001b[0;32m--> 346\u001b[0;31m         \u001b[0mdata\u001b[0m \u001b[0;34m=\u001b[0m \u001b[0mnp\u001b[0m\u001b[0;34m.\u001b[0m\u001b[0marray\u001b[0m\u001b[0;34m(\u001b[0m\u001b[0mmat\u001b[0m\u001b[0;34m.\u001b[0m\u001b[0mreshape\u001b[0m\u001b[0;34m(\u001b[0m\u001b[0mmat\u001b[0m\u001b[0;34m.\u001b[0m\u001b[0msize\u001b[0m\u001b[0;34m)\u001b[0m\u001b[0;34m,\u001b[0m \u001b[0mcopy\u001b[0m\u001b[0;34m=\u001b[0m\u001b[0;32mFalse\u001b[0m\u001b[0;34m,\u001b[0m \u001b[0mdtype\u001b[0m\u001b[0;34m=\u001b[0m\u001b[0mnp\u001b[0m\u001b[0;34m.\u001b[0m\u001b[0mfloat32\u001b[0m\u001b[0;34m)\u001b[0m\u001b[0;34m\u001b[0m\u001b[0m\n\u001b[0m\u001b[1;32m    347\u001b[0m         \u001b[0mself\u001b[0m\u001b[0;34m.\u001b[0m\u001b[0mhandle\u001b[0m \u001b[0;34m=\u001b[0m \u001b[0mctypes\u001b[0m\u001b[0;34m.\u001b[0m\u001b[0mc_void_p\u001b[0m\u001b[0;34m(\u001b[0m\u001b[0;34m)\u001b[0m\u001b[0;34m\u001b[0m\u001b[0m\n\u001b[1;32m    348\u001b[0m         \u001b[0mmissing\u001b[0m \u001b[0;34m=\u001b[0m \u001b[0mmissing\u001b[0m \u001b[0;32mif\u001b[0m \u001b[0mmissing\u001b[0m \u001b[0;32mis\u001b[0m \u001b[0;32mnot\u001b[0m \u001b[0;32mNone\u001b[0m \u001b[0;32melse\u001b[0m \u001b[0mnp\u001b[0m\u001b[0;34m.\u001b[0m\u001b[0mnan\u001b[0m\u001b[0;34m\u001b[0m\u001b[0m\n",
      "\u001b[0;31mMemoryError\u001b[0m: "
     ]
    }
   ],
   "source": [
    "casos_negativos = trainingSet_samples['sepostulo'].value_counts()[0]\n",
    "casos_positivos = trainingSet_samples['sepostulo'].value_counts()[1]\n",
    "scale_weight =  casos_negativos / casos_positivos\n",
    "\n",
    "xgb_model = XGBClassifier(\n",
    " learning_rate =0.1,\n",
    " n_estimators=300,\n",
    " max_depth=5,\n",
    " min_child_weight=1,\n",
    " gamma=0,\n",
    " subsample=0.8,\n",
    " colsample_bytree=0.8,\n",
    " objective= 'binary:logistic',\n",
    " nthread=1,\n",
    " scale_pos_weight= scale_weight,\n",
    " seed=27)\n",
    "\n",
    "# Train and evaluate.\n",
    "xgb_model.fit(xtrain_new, ytrain, eval_metric=['error'], eval_set=[((xtrain_new, ytrain)),(xtest, ytest)])\n",
    "\n",
    "from sklearn import metrics\n",
    "import warnings\n",
    "warnings.filterwarnings(\"ignore\")\n",
    "\n",
    "y_pred = xgb_model.predict(xtest)  #predicts\n",
    "print('confusion matrix')\n",
    "print(metrics.confusion_matrix(ytest, y_pred))\n",
    "print('classification report')\n",
    "print(metrics.classification_report(ytest, y_pred))\n",
    "print(\"-----------------------------------------------------------------------------------------\")\n",
    "print(\"Accuracy is :\")\n",
    "print(metrics.accuracy_score(ytest, y_pred))\n",
    "print('Area under the curve : %f' % (metrics.roc_auc_score(ytest, y_pred)))"
   ]
  },
  {
   "cell_type": "code",
   "execution_count": 20,
   "metadata": {},
   "outputs": [
    {
     "name": "stdout",
     "output_type": "stream",
     "text": [
      "[0]\tvalidation_0-error:0.371286\tvalidation_1-error:0.370057\n",
      "[1]\tvalidation_0-error:0.371241\tvalidation_1-error:0.370073\n",
      "[2]\tvalidation_0-error:0.371111\tvalidation_1-error:0.369953\n",
      "[3]\tvalidation_0-error:0.371241\tvalidation_1-error:0.370047\n",
      "[4]\tvalidation_0-error:0.371074\tvalidation_1-error:0.369923\n",
      "[5]\tvalidation_0-error:0.371003\tvalidation_1-error:0.369867\n",
      "[6]\tvalidation_0-error:0.370983\tvalidation_1-error:0.369907\n",
      "[7]\tvalidation_0-error:0.371029\tvalidation_1-error:0.369917\n",
      "[8]\tvalidation_0-error:0.370999\tvalidation_1-error:0.369903\n",
      "[9]\tvalidation_0-error:0.371023\tvalidation_1-error:0.369923\n",
      "[10]\tvalidation_0-error:0.371069\tvalidation_1-error:0.36996\n",
      "[11]\tvalidation_0-error:0.371149\tvalidation_1-error:0.37003\n",
      "[12]\tvalidation_0-error:0.371017\tvalidation_1-error:0.36995\n",
      "[13]\tvalidation_0-error:0.370963\tvalidation_1-error:0.369907\n",
      "[14]\tvalidation_0-error:0.370973\tvalidation_1-error:0.369913\n",
      "[15]\tvalidation_0-error:0.370969\tvalidation_1-error:0.369913\n",
      "[16]\tvalidation_0-error:0.370923\tvalidation_1-error:0.369847\n",
      "[17]\tvalidation_0-error:0.370947\tvalidation_1-error:0.369887\n",
      "[18]\tvalidation_0-error:0.370953\tvalidation_1-error:0.36989\n",
      "[19]\tvalidation_0-error:0.370947\tvalidation_1-error:0.36988\n",
      "[20]\tvalidation_0-error:0.370933\tvalidation_1-error:0.369847\n",
      "[21]\tvalidation_0-error:0.370907\tvalidation_1-error:0.369847\n",
      "[22]\tvalidation_0-error:0.370911\tvalidation_1-error:0.369847\n",
      "[23]\tvalidation_0-error:0.370906\tvalidation_1-error:0.36985\n",
      "[24]\tvalidation_0-error:0.370917\tvalidation_1-error:0.369837\n",
      "[25]\tvalidation_0-error:0.370893\tvalidation_1-error:0.369833\n",
      "[26]\tvalidation_0-error:0.370911\tvalidation_1-error:0.36984\n",
      "[27]\tvalidation_0-error:0.370921\tvalidation_1-error:0.36983\n",
      "[28]\tvalidation_0-error:0.37092\tvalidation_1-error:0.369817\n",
      "[29]\tvalidation_0-error:0.370921\tvalidation_1-error:0.369823\n",
      "[30]\tvalidation_0-error:0.370921\tvalidation_1-error:0.369823\n",
      "[31]\tvalidation_0-error:0.37092\tvalidation_1-error:0.36982\n",
      "[32]\tvalidation_0-error:0.37092\tvalidation_1-error:0.369823\n",
      "[33]\tvalidation_0-error:0.370917\tvalidation_1-error:0.369833\n",
      "[34]\tvalidation_0-error:0.370917\tvalidation_1-error:0.369833\n",
      "[35]\tvalidation_0-error:0.370917\tvalidation_1-error:0.36984\n",
      "[36]\tvalidation_0-error:0.370917\tvalidation_1-error:0.36984\n",
      "[37]\tvalidation_0-error:0.370907\tvalidation_1-error:0.369833\n",
      "[38]\tvalidation_0-error:0.370899\tvalidation_1-error:0.36983\n",
      "[39]\tvalidation_0-error:0.37089\tvalidation_1-error:0.369817\n",
      "[40]\tvalidation_0-error:0.370887\tvalidation_1-error:0.369817\n",
      "[41]\tvalidation_0-error:0.370886\tvalidation_1-error:0.369813\n",
      "[42]\tvalidation_0-error:0.370883\tvalidation_1-error:0.369807\n",
      "[43]\tvalidation_0-error:0.370881\tvalidation_1-error:0.369807\n",
      "[44]\tvalidation_0-error:0.370877\tvalidation_1-error:0.369797\n",
      "[45]\tvalidation_0-error:0.370869\tvalidation_1-error:0.369783\n",
      "[46]\tvalidation_0-error:0.370866\tvalidation_1-error:0.369777\n",
      "[47]\tvalidation_0-error:0.370861\tvalidation_1-error:0.36978\n",
      "[48]\tvalidation_0-error:0.370861\tvalidation_1-error:0.369783\n",
      "[49]\tvalidation_0-error:0.370861\tvalidation_1-error:0.369783\n",
      "[50]\tvalidation_0-error:0.37086\tvalidation_1-error:0.369783\n",
      "[51]\tvalidation_0-error:0.370834\tvalidation_1-error:0.369753\n",
      "[52]\tvalidation_0-error:0.370831\tvalidation_1-error:0.369753\n",
      "[53]\tvalidation_0-error:0.370791\tvalidation_1-error:0.369737\n",
      "[54]\tvalidation_0-error:0.370777\tvalidation_1-error:0.369737\n",
      "[55]\tvalidation_0-error:0.370784\tvalidation_1-error:0.369737\n",
      "[56]\tvalidation_0-error:0.370776\tvalidation_1-error:0.369727\n",
      "[57]\tvalidation_0-error:0.370771\tvalidation_1-error:0.369727\n",
      "[58]\tvalidation_0-error:0.370751\tvalidation_1-error:0.36969\n",
      "[59]\tvalidation_0-error:0.370754\tvalidation_1-error:0.369677\n",
      "[60]\tvalidation_0-error:0.370727\tvalidation_1-error:0.369627\n",
      "[61]\tvalidation_0-error:0.37072\tvalidation_1-error:0.369613\n",
      "[62]\tvalidation_0-error:0.370714\tvalidation_1-error:0.36961\n",
      "[63]\tvalidation_0-error:0.370713\tvalidation_1-error:0.369607\n",
      "[64]\tvalidation_0-error:0.370714\tvalidation_1-error:0.369603\n",
      "[65]\tvalidation_0-error:0.370709\tvalidation_1-error:0.3696\n",
      "[66]\tvalidation_0-error:0.370673\tvalidation_1-error:0.369613\n",
      "[67]\tvalidation_0-error:0.370673\tvalidation_1-error:0.369613\n",
      "[68]\tvalidation_0-error:0.370669\tvalidation_1-error:0.369613\n",
      "[69]\tvalidation_0-error:0.370669\tvalidation_1-error:0.369613\n",
      "[70]\tvalidation_0-error:0.370659\tvalidation_1-error:0.369617\n",
      "[71]\tvalidation_0-error:0.370657\tvalidation_1-error:0.369617\n",
      "[72]\tvalidation_0-error:0.370654\tvalidation_1-error:0.36961\n",
      "[73]\tvalidation_0-error:0.370639\tvalidation_1-error:0.369597\n",
      "[74]\tvalidation_0-error:0.370639\tvalidation_1-error:0.3696\n",
      "[75]\tvalidation_0-error:0.370636\tvalidation_1-error:0.369613\n",
      "[76]\tvalidation_0-error:0.370637\tvalidation_1-error:0.369613\n",
      "[77]\tvalidation_0-error:0.370619\tvalidation_1-error:0.369623\n",
      "[78]\tvalidation_0-error:0.370619\tvalidation_1-error:0.369623\n",
      "[79]\tvalidation_0-error:0.370609\tvalidation_1-error:0.369623\n",
      "[80]\tvalidation_0-error:0.370601\tvalidation_1-error:0.369627\n",
      "[81]\tvalidation_0-error:0.370599\tvalidation_1-error:0.36963\n",
      "[82]\tvalidation_0-error:0.370596\tvalidation_1-error:0.36963\n",
      "[83]\tvalidation_0-error:0.370596\tvalidation_1-error:0.369627\n",
      "[84]\tvalidation_0-error:0.370574\tvalidation_1-error:0.369627\n",
      "[85]\tvalidation_0-error:0.370554\tvalidation_1-error:0.36961\n",
      "[86]\tvalidation_0-error:0.370554\tvalidation_1-error:0.36961\n",
      "[87]\tvalidation_0-error:0.370547\tvalidation_1-error:0.369597\n",
      "[88]\tvalidation_0-error:0.370523\tvalidation_1-error:0.36957\n",
      "[89]\tvalidation_0-error:0.370523\tvalidation_1-error:0.36957\n",
      "[90]\tvalidation_0-error:0.37052\tvalidation_1-error:0.369573\n",
      "[91]\tvalidation_0-error:0.37052\tvalidation_1-error:0.369573\n",
      "[92]\tvalidation_0-error:0.37051\tvalidation_1-error:0.369573\n",
      "[93]\tvalidation_0-error:0.370514\tvalidation_1-error:0.369573\n",
      "[94]\tvalidation_0-error:0.370509\tvalidation_1-error:0.36957\n",
      "[95]\tvalidation_0-error:0.370506\tvalidation_1-error:0.369563\n",
      "[96]\tvalidation_0-error:0.370501\tvalidation_1-error:0.369567\n",
      "[97]\tvalidation_0-error:0.370501\tvalidation_1-error:0.369567\n",
      "[98]\tvalidation_0-error:0.370493\tvalidation_1-error:0.36957\n",
      "[99]\tvalidation_0-error:0.370494\tvalidation_1-error:0.369573\n",
      "[100]\tvalidation_0-error:0.370491\tvalidation_1-error:0.36957\n",
      "[101]\tvalidation_0-error:0.370491\tvalidation_1-error:0.369563\n",
      "[102]\tvalidation_0-error:0.370491\tvalidation_1-error:0.36957\n",
      "[103]\tvalidation_0-error:0.370489\tvalidation_1-error:0.369567\n",
      "[104]\tvalidation_0-error:0.370471\tvalidation_1-error:0.369557\n",
      "[105]\tvalidation_0-error:0.37047\tvalidation_1-error:0.36956\n",
      "[106]\tvalidation_0-error:0.370469\tvalidation_1-error:0.369563\n",
      "[107]\tvalidation_0-error:0.37047\tvalidation_1-error:0.36956\n",
      "[108]\tvalidation_0-error:0.370467\tvalidation_1-error:0.36956\n",
      "[109]\tvalidation_0-error:0.370406\tvalidation_1-error:0.36955\n",
      "[110]\tvalidation_0-error:0.370387\tvalidation_1-error:0.369527\n",
      "[111]\tvalidation_0-error:0.370387\tvalidation_1-error:0.36953\n",
      "[112]\tvalidation_0-error:0.370383\tvalidation_1-error:0.369523\n",
      "[113]\tvalidation_0-error:0.370376\tvalidation_1-error:0.369523\n",
      "[114]\tvalidation_0-error:0.370377\tvalidation_1-error:0.36952\n",
      "[115]\tvalidation_0-error:0.370376\tvalidation_1-error:0.36952\n",
      "[116]\tvalidation_0-error:0.370371\tvalidation_1-error:0.369507\n",
      "[117]\tvalidation_0-error:0.370347\tvalidation_1-error:0.36949\n",
      "[118]\tvalidation_0-error:0.370347\tvalidation_1-error:0.36949\n",
      "[119]\tvalidation_0-error:0.370339\tvalidation_1-error:0.36949\n",
      "[120]\tvalidation_0-error:0.370337\tvalidation_1-error:0.369483\n",
      "[121]\tvalidation_0-error:0.37032\tvalidation_1-error:0.36946\n",
      "[122]\tvalidation_0-error:0.370317\tvalidation_1-error:0.369457\n",
      "[123]\tvalidation_0-error:0.370317\tvalidation_1-error:0.369463\n",
      "[124]\tvalidation_0-error:0.370289\tvalidation_1-error:0.36946\n",
      "[125]\tvalidation_0-error:0.370287\tvalidation_1-error:0.369457\n",
      "[126]\tvalidation_0-error:0.370276\tvalidation_1-error:0.369457\n",
      "[127]\tvalidation_0-error:0.370219\tvalidation_1-error:0.369423\n",
      "[128]\tvalidation_0-error:0.370211\tvalidation_1-error:0.369423\n",
      "[129]\tvalidation_0-error:0.3702\tvalidation_1-error:0.369423\n",
      "[130]\tvalidation_0-error:0.370197\tvalidation_1-error:0.369423\n",
      "[131]\tvalidation_0-error:0.370199\tvalidation_1-error:0.369433\n",
      "[132]\tvalidation_0-error:0.37018\tvalidation_1-error:0.369423\n",
      "[133]\tvalidation_0-error:0.370173\tvalidation_1-error:0.369423\n",
      "[134]\tvalidation_0-error:0.370166\tvalidation_1-error:0.369423\n",
      "[135]\tvalidation_0-error:0.370166\tvalidation_1-error:0.36943\n",
      "[136]\tvalidation_0-error:0.370161\tvalidation_1-error:0.36943\n",
      "[137]\tvalidation_0-error:0.370151\tvalidation_1-error:0.36941\n",
      "[138]\tvalidation_0-error:0.370157\tvalidation_1-error:0.3694\n",
      "[139]\tvalidation_0-error:0.370159\tvalidation_1-error:0.369397\n",
      "[140]\tvalidation_0-error:0.370146\tvalidation_1-error:0.369377\n",
      "[141]\tvalidation_0-error:0.370131\tvalidation_1-error:0.369373\n",
      "[142]\tvalidation_0-error:0.370121\tvalidation_1-error:0.36936\n",
      "[143]\tvalidation_0-error:0.370116\tvalidation_1-error:0.369353\n",
      "[144]\tvalidation_0-error:0.370097\tvalidation_1-error:0.369353\n",
      "[145]\tvalidation_0-error:0.370099\tvalidation_1-error:0.36934\n",
      "[146]\tvalidation_0-error:0.370097\tvalidation_1-error:0.369343\n",
      "[147]\tvalidation_0-error:0.370087\tvalidation_1-error:0.36933\n",
      "[148]\tvalidation_0-error:0.37008\tvalidation_1-error:0.369347\n",
      "[149]\tvalidation_0-error:0.370083\tvalidation_1-error:0.369347\n",
      "[150]\tvalidation_0-error:0.370076\tvalidation_1-error:0.369347\n",
      "[151]\tvalidation_0-error:0.370064\tvalidation_1-error:0.369363\n",
      "[152]\tvalidation_0-error:0.370057\tvalidation_1-error:0.36936\n",
      "[153]\tvalidation_0-error:0.370056\tvalidation_1-error:0.36935\n",
      "[154]\tvalidation_0-error:0.370051\tvalidation_1-error:0.369347\n",
      "[155]\tvalidation_0-error:0.370051\tvalidation_1-error:0.369347\n",
      "[156]\tvalidation_0-error:0.370053\tvalidation_1-error:0.369347\n",
      "[157]\tvalidation_0-error:0.370034\tvalidation_1-error:0.3693\n",
      "[158]\tvalidation_0-error:0.370037\tvalidation_1-error:0.3693\n",
      "[159]\tvalidation_0-error:0.370036\tvalidation_1-error:0.3693\n",
      "[160]\tvalidation_0-error:0.370027\tvalidation_1-error:0.369287\n",
      "[161]\tvalidation_0-error:0.370021\tvalidation_1-error:0.369293\n",
      "[162]\tvalidation_0-error:0.37002\tvalidation_1-error:0.36929\n",
      "[163]\tvalidation_0-error:0.37002\tvalidation_1-error:0.3693\n",
      "[164]\tvalidation_0-error:0.370013\tvalidation_1-error:0.369273\n",
      "[165]\tvalidation_0-error:0.370007\tvalidation_1-error:0.369263\n",
      "[166]\tvalidation_0-error:0.369997\tvalidation_1-error:0.36927\n",
      "[167]\tvalidation_0-error:0.369993\tvalidation_1-error:0.36927\n",
      "[168]\tvalidation_0-error:0.369996\tvalidation_1-error:0.369277\n",
      "[169]\tvalidation_0-error:0.369994\tvalidation_1-error:0.369277\n",
      "[170]\tvalidation_0-error:0.369991\tvalidation_1-error:0.369273\n",
      "[171]\tvalidation_0-error:0.369987\tvalidation_1-error:0.369273\n",
      "[172]\tvalidation_0-error:0.36998\tvalidation_1-error:0.36927\n",
      "[173]\tvalidation_0-error:0.369977\tvalidation_1-error:0.369263\n",
      "[174]\tvalidation_0-error:0.369973\tvalidation_1-error:0.36926\n",
      "[175]\tvalidation_0-error:0.369971\tvalidation_1-error:0.36926\n",
      "[176]\tvalidation_0-error:0.369967\tvalidation_1-error:0.369263\n",
      "[177]\tvalidation_0-error:0.369964\tvalidation_1-error:0.369253\n",
      "[178]\tvalidation_0-error:0.369961\tvalidation_1-error:0.36925\n",
      "[179]\tvalidation_0-error:0.369959\tvalidation_1-error:0.369247\n",
      "[180]\tvalidation_0-error:0.369957\tvalidation_1-error:0.369247\n",
      "[181]\tvalidation_0-error:0.369959\tvalidation_1-error:0.36923\n",
      "[182]\tvalidation_0-error:0.369961\tvalidation_1-error:0.36922\n",
      "[183]\tvalidation_0-error:0.36996\tvalidation_1-error:0.36922\n",
      "[184]\tvalidation_0-error:0.36995\tvalidation_1-error:0.36922\n",
      "[185]\tvalidation_0-error:0.369951\tvalidation_1-error:0.369217\n",
      "[186]\tvalidation_0-error:0.369937\tvalidation_1-error:0.369233\n",
      "[187]\tvalidation_0-error:0.369924\tvalidation_1-error:0.36924\n",
      "[188]\tvalidation_0-error:0.369921\tvalidation_1-error:0.369257\n",
      "[189]\tvalidation_0-error:0.369914\tvalidation_1-error:0.369237\n",
      "[190]\tvalidation_0-error:0.369901\tvalidation_1-error:0.369227\n",
      "[191]\tvalidation_0-error:0.369897\tvalidation_1-error:0.36923\n",
      "[192]\tvalidation_0-error:0.3699\tvalidation_1-error:0.369227\n",
      "[193]\tvalidation_0-error:0.36988\tvalidation_1-error:0.369193\n",
      "[194]\tvalidation_0-error:0.369877\tvalidation_1-error:0.3692\n",
      "[195]\tvalidation_0-error:0.369876\tvalidation_1-error:0.369203\n",
      "[196]\tvalidation_0-error:0.369877\tvalidation_1-error:0.369207\n",
      "[197]\tvalidation_0-error:0.369876\tvalidation_1-error:0.369207\n",
      "[198]\tvalidation_0-error:0.369876\tvalidation_1-error:0.369207\n",
      "[199]\tvalidation_0-error:0.369871\tvalidation_1-error:0.36921\n",
      "[200]\tvalidation_0-error:0.369867\tvalidation_1-error:0.369207\n",
      "[201]\tvalidation_0-error:0.369867\tvalidation_1-error:0.36921\n",
      "[202]\tvalidation_0-error:0.369859\tvalidation_1-error:0.36917\n",
      "[203]\tvalidation_0-error:0.369864\tvalidation_1-error:0.369143\n",
      "[204]\tvalidation_0-error:0.369861\tvalidation_1-error:0.369143\n",
      "[205]\tvalidation_0-error:0.369864\tvalidation_1-error:0.36914\n",
      "[206]\tvalidation_0-error:0.36985\tvalidation_1-error:0.369133\n",
      "[207]\tvalidation_0-error:0.369837\tvalidation_1-error:0.36914\n",
      "[208]\tvalidation_0-error:0.369829\tvalidation_1-error:0.36915\n",
      "[209]\tvalidation_0-error:0.369827\tvalidation_1-error:0.369137\n",
      "[210]\tvalidation_0-error:0.369814\tvalidation_1-error:0.369143\n",
      "[211]\tvalidation_0-error:0.369801\tvalidation_1-error:0.369143\n",
      "[212]\tvalidation_0-error:0.369797\tvalidation_1-error:0.369133\n",
      "[213]\tvalidation_0-error:0.369796\tvalidation_1-error:0.369147\n",
      "[214]\tvalidation_0-error:0.369794\tvalidation_1-error:0.369147\n",
      "[215]\tvalidation_0-error:0.369789\tvalidation_1-error:0.369137\n",
      "[216]\tvalidation_0-error:0.369793\tvalidation_1-error:0.369127\n",
      "[217]\tvalidation_0-error:0.369791\tvalidation_1-error:0.369127\n",
      "[218]\tvalidation_0-error:0.369789\tvalidation_1-error:0.369127\n",
      "[219]\tvalidation_0-error:0.36978\tvalidation_1-error:0.36912\n",
      "[220]\tvalidation_0-error:0.369783\tvalidation_1-error:0.36912\n",
      "[221]\tvalidation_0-error:0.369779\tvalidation_1-error:0.369127\n",
      "[222]\tvalidation_0-error:0.369776\tvalidation_1-error:0.369123\n",
      "[223]\tvalidation_0-error:0.369774\tvalidation_1-error:0.369127\n",
      "[224]\tvalidation_0-error:0.369776\tvalidation_1-error:0.36914\n",
      "[225]\tvalidation_0-error:0.369776\tvalidation_1-error:0.369147\n",
      "[226]\tvalidation_0-error:0.36978\tvalidation_1-error:0.36915\n",
      "[227]\tvalidation_0-error:0.369777\tvalidation_1-error:0.369147\n",
      "[228]\tvalidation_0-error:0.369779\tvalidation_1-error:0.369143\n",
      "[229]\tvalidation_0-error:0.369769\tvalidation_1-error:0.36914\n",
      "[230]\tvalidation_0-error:0.369779\tvalidation_1-error:0.36914\n",
      "[231]\tvalidation_0-error:0.369771\tvalidation_1-error:0.369147\n",
      "[232]\tvalidation_0-error:0.369767\tvalidation_1-error:0.369137\n",
      "[233]\tvalidation_0-error:0.369766\tvalidation_1-error:0.369143\n",
      "[234]\tvalidation_0-error:0.369764\tvalidation_1-error:0.369143\n",
      "[235]\tvalidation_0-error:0.369774\tvalidation_1-error:0.369147\n",
      "[236]\tvalidation_0-error:0.369771\tvalidation_1-error:0.369133\n",
      "[237]\tvalidation_0-error:0.36976\tvalidation_1-error:0.369117\n",
      "[238]\tvalidation_0-error:0.369756\tvalidation_1-error:0.369107\n",
      "[239]\tvalidation_0-error:0.369746\tvalidation_1-error:0.36912\n",
      "[240]\tvalidation_0-error:0.369744\tvalidation_1-error:0.369113\n",
      "[241]\tvalidation_0-error:0.369737\tvalidation_1-error:0.3691\n",
      "[242]\tvalidation_0-error:0.36974\tvalidation_1-error:0.3691\n",
      "[243]\tvalidation_0-error:0.369736\tvalidation_1-error:0.369103\n",
      "[244]\tvalidation_0-error:0.369734\tvalidation_1-error:0.369107\n",
      "[245]\tvalidation_0-error:0.369716\tvalidation_1-error:0.369097\n",
      "[246]\tvalidation_0-error:0.369716\tvalidation_1-error:0.369097\n",
      "[247]\tvalidation_0-error:0.369706\tvalidation_1-error:0.369107\n",
      "[248]\tvalidation_0-error:0.36969\tvalidation_1-error:0.369107\n",
      "[249]\tvalidation_0-error:0.369687\tvalidation_1-error:0.369103\n",
      "[250]\tvalidation_0-error:0.36969\tvalidation_1-error:0.369097\n",
      "[251]\tvalidation_0-error:0.369671\tvalidation_1-error:0.369073\n",
      "[252]\tvalidation_0-error:0.369671\tvalidation_1-error:0.369073\n",
      "[253]\tvalidation_0-error:0.369664\tvalidation_1-error:0.36909\n",
      "[254]\tvalidation_0-error:0.369661\tvalidation_1-error:0.369087\n",
      "[255]\tvalidation_0-error:0.36966\tvalidation_1-error:0.369077\n",
      "[256]\tvalidation_0-error:0.369656\tvalidation_1-error:0.369087\n",
      "[257]\tvalidation_0-error:0.369653\tvalidation_1-error:0.369087\n",
      "[258]\tvalidation_0-error:0.36965\tvalidation_1-error:0.369077\n",
      "[259]\tvalidation_0-error:0.369654\tvalidation_1-error:0.36908\n",
      "[260]\tvalidation_0-error:0.369654\tvalidation_1-error:0.36909\n",
      "[261]\tvalidation_0-error:0.36964\tvalidation_1-error:0.369097\n",
      "[262]\tvalidation_0-error:0.369637\tvalidation_1-error:0.369077\n",
      "[263]\tvalidation_0-error:0.369636\tvalidation_1-error:0.369083\n",
      "[264]\tvalidation_0-error:0.369621\tvalidation_1-error:0.36909\n",
      "[265]\tvalidation_0-error:0.369617\tvalidation_1-error:0.36908\n",
      "[266]\tvalidation_0-error:0.369619\tvalidation_1-error:0.36906\n",
      "[267]\tvalidation_0-error:0.369627\tvalidation_1-error:0.36907\n",
      "[268]\tvalidation_0-error:0.369626\tvalidation_1-error:0.36908\n",
      "[269]\tvalidation_0-error:0.36962\tvalidation_1-error:0.369083\n",
      "[270]\tvalidation_0-error:0.369614\tvalidation_1-error:0.36907\n",
      "[271]\tvalidation_0-error:0.369613\tvalidation_1-error:0.369073\n",
      "[272]\tvalidation_0-error:0.369614\tvalidation_1-error:0.36908\n",
      "[273]\tvalidation_0-error:0.369614\tvalidation_1-error:0.369073\n",
      "[274]\tvalidation_0-error:0.369613\tvalidation_1-error:0.36907\n",
      "[275]\tvalidation_0-error:0.369614\tvalidation_1-error:0.369073\n",
      "[276]\tvalidation_0-error:0.36961\tvalidation_1-error:0.369067\n",
      "[277]\tvalidation_0-error:0.369604\tvalidation_1-error:0.36906\n",
      "[278]\tvalidation_0-error:0.369601\tvalidation_1-error:0.369063\n",
      "[279]\tvalidation_0-error:0.369594\tvalidation_1-error:0.369063\n",
      "[280]\tvalidation_0-error:0.369591\tvalidation_1-error:0.369077\n",
      "[281]\tvalidation_0-error:0.36959\tvalidation_1-error:0.36906\n",
      "[282]\tvalidation_0-error:0.369579\tvalidation_1-error:0.369033\n",
      "[283]\tvalidation_0-error:0.369574\tvalidation_1-error:0.369033\n",
      "[284]\tvalidation_0-error:0.369574\tvalidation_1-error:0.369047\n",
      "[285]\tvalidation_0-error:0.369576\tvalidation_1-error:0.369043\n",
      "[286]\tvalidation_0-error:0.369576\tvalidation_1-error:0.369043\n",
      "[287]\tvalidation_0-error:0.369576\tvalidation_1-error:0.369037\n",
      "[288]\tvalidation_0-error:0.36958\tvalidation_1-error:0.369043\n",
      "[289]\tvalidation_0-error:0.36957\tvalidation_1-error:0.369023\n",
      "[290]\tvalidation_0-error:0.36957\tvalidation_1-error:0.36903\n",
      "[291]\tvalidation_0-error:0.369569\tvalidation_1-error:0.369037\n",
      "[292]\tvalidation_0-error:0.369564\tvalidation_1-error:0.369027\n",
      "[293]\tvalidation_0-error:0.369566\tvalidation_1-error:0.36903\n",
      "[294]\tvalidation_0-error:0.369564\tvalidation_1-error:0.369037\n",
      "[295]\tvalidation_0-error:0.369557\tvalidation_1-error:0.36904\n",
      "[296]\tvalidation_0-error:0.369554\tvalidation_1-error:0.36904\n",
      "[297]\tvalidation_0-error:0.369551\tvalidation_1-error:0.369043\n",
      "[298]\tvalidation_0-error:0.369537\tvalidation_1-error:0.369033\n",
      "[299]\tvalidation_0-error:0.369536\tvalidation_1-error:0.369023\n",
      "confusion matrix\n",
      "[[   763 110354]\n",
      " [   353 188530]]\n",
      "classification report\n",
      "             precision    recall  f1-score   support\n",
      "\n",
      "          0       0.68      0.01      0.01    111117\n",
      "          1       0.63      1.00      0.77    188883\n",
      "\n",
      "avg / total       0.65      0.63      0.49    300000\n",
      "\n",
      "-----------------------------------------------------------------------------------------\n",
      "Accuracy is :\n",
      "0.6309766666666666\n",
      "Area under the curve : 0.502499\n"
     ]
    }
   ],
   "source": [
    "casos_negativos = trainingSet_samples['sepostulo'].value_counts()[1]\n",
    "casos_positivos = trainingSet_samples['sepostulo'].value_counts()[0]\n",
    "scale_weight =  casos_negativos / casos_positivos\n",
    "\n",
    "xgb_model = XGBClassifier(\n",
    " learning_rate =0.1,\n",
    " n_estimators=300,\n",
    " max_depth=5,\n",
    " min_child_weight=1,\n",
    " gamma=0,\n",
    " subsample=0.8,\n",
    " colsample_bytree=0.8,\n",
    " objective= 'binary:logistic',\n",
    " nthread=1,\n",
    " scale_pos_weight= scale_weight,\n",
    " seed=27)\n",
    "\n",
    "# Train and evaluate.\n",
    "xgb_model.fit(xtrain, ytrain, eval_metric=['error'], eval_set=[((xtrain, ytrain)),(xtest, ytest)])\n",
    "\n",
    "from sklearn import metrics\n",
    "import warnings\n",
    "warnings.filterwarnings(\"ignore\")\n",
    "\n",
    "y_pred = xgb_model.predict(xtest)  #predicts\n",
    "print('confusion matrix')\n",
    "print(metrics.confusion_matrix(ytest, y_pred))\n",
    "print('classification report')\n",
    "print(metrics.classification_report(ytest, y_pred))\n",
    "print(\"-----------------------------------------------------------------------------------------\")\n",
    "print(\"Accuracy is :\")\n",
    "print(metrics.accuracy_score(ytest, y_pred))\n",
    "print('Area under the curve : %f' % (metrics.roc_auc_score(ytest, y_pred)))"
   ]
  },
  {
   "cell_type": "code",
   "execution_count": 11,
   "metadata": {},
   "outputs": [
    {
     "name": "stderr",
     "output_type": "stream",
     "text": [
      "/home/lucio/Documentos/Datos/lib/python3.6/site-packages/sklearn/preprocessing/label.py:151: DeprecationWarning: The truth value of an empty array is ambiguous. Returning False, but in future this will result in an error. Use `array.size > 0` to check that an array is not empty.\n",
      "  if diff:\n"
     ]
    },
    {
     "name": "stdout",
     "output_type": "stream",
     "text": [
      "\n",
      "Model Report\n",
      "Accuracy : 0.6354\n",
      "AUC Score (Train): 0.569637\n"
     ]
    },
    {
     "ename": "TypeError",
     "evalue": "'str' object is not callable",
     "output_type": "error",
     "traceback": [
      "\u001b[0;31m---------------------------------------------------------------------------\u001b[0m",
      "\u001b[0;31mTypeError\u001b[0m                                 Traceback (most recent call last)",
      "\u001b[0;32m<ipython-input-11-a23f5ee41239>\u001b[0m in \u001b[0;36m<module>\u001b[0;34m()\u001b[0m\n\u001b[1;32m     14\u001b[0m  \u001b[0mscale_pos_weight\u001b[0m\u001b[0;34m=\u001b[0m\u001b[0;36m1\u001b[0m\u001b[0;34m,\u001b[0m\u001b[0;34m\u001b[0m\u001b[0m\n\u001b[1;32m     15\u001b[0m  seed=27)\n\u001b[0;32m---> 16\u001b[0;31m \u001b[0mmodelfit\u001b[0m\u001b[0;34m(\u001b[0m\u001b[0mxgb1\u001b[0m\u001b[0;34m,\u001b[0m \u001b[0mtrainingSet_samples\u001b[0m\u001b[0;34m,\u001b[0m \u001b[0mpredictors\u001b[0m\u001b[0;34m)\u001b[0m\u001b[0;34m\u001b[0m\u001b[0m\n\u001b[0m",
      "\u001b[0;32m<ipython-input-9-02be22759356>\u001b[0m in \u001b[0;36mmodelfit\u001b[0;34m(alg, dtrain, predictors, useTrainCV, cv_folds, early_stopping_rounds)\u001b[0m\n\u001b[1;32m     21\u001b[0m     \u001b[0mprint\u001b[0m \u001b[0;34m(\u001b[0m\u001b[0;34m\"AUC Score (Train): %f\"\u001b[0m \u001b[0;34m%\u001b[0m \u001b[0mmetrics\u001b[0m\u001b[0;34m.\u001b[0m\u001b[0mroc_auc_score\u001b[0m\u001b[0;34m(\u001b[0m\u001b[0mdtrain\u001b[0m\u001b[0;34m[\u001b[0m\u001b[0;34m'sepostulo'\u001b[0m\u001b[0;34m]\u001b[0m\u001b[0;34m,\u001b[0m \u001b[0mdtrain_predprob\u001b[0m\u001b[0;34m)\u001b[0m\u001b[0;34m)\u001b[0m\u001b[0;34m\u001b[0m\u001b[0m\n\u001b[1;32m     22\u001b[0m \u001b[0;34m\u001b[0m\u001b[0m\n\u001b[0;32m---> 23\u001b[0;31m     \u001b[0mfeat_imp\u001b[0m \u001b[0;34m=\u001b[0m \u001b[0mpd\u001b[0m\u001b[0;34m.\u001b[0m\u001b[0mSeries\u001b[0m\u001b[0;34m(\u001b[0m\u001b[0malg\u001b[0m\u001b[0;34m.\u001b[0m\u001b[0mbooster\u001b[0m\u001b[0;34m(\u001b[0m\u001b[0;34m)\u001b[0m\u001b[0;34m.\u001b[0m\u001b[0mget_fscore\u001b[0m\u001b[0;34m(\u001b[0m\u001b[0;34m)\u001b[0m\u001b[0;34m)\u001b[0m\u001b[0;34m.\u001b[0m\u001b[0msort_values\u001b[0m\u001b[0;34m(\u001b[0m\u001b[0mascending\u001b[0m\u001b[0;34m=\u001b[0m\u001b[0;32mFalse\u001b[0m\u001b[0;34m)\u001b[0m\u001b[0;34m\u001b[0m\u001b[0m\n\u001b[0m\u001b[1;32m     24\u001b[0m     \u001b[0mfeat_imp\u001b[0m\u001b[0;34m.\u001b[0m\u001b[0mplot\u001b[0m\u001b[0;34m(\u001b[0m\u001b[0mkind\u001b[0m\u001b[0;34m=\u001b[0m\u001b[0;34m'bar'\u001b[0m\u001b[0;34m,\u001b[0m \u001b[0mtitle\u001b[0m\u001b[0;34m=\u001b[0m\u001b[0;34m'Feature Importances'\u001b[0m\u001b[0;34m)\u001b[0m\u001b[0;34m\u001b[0m\u001b[0m\n\u001b[1;32m     25\u001b[0m     \u001b[0mplt\u001b[0m\u001b[0;34m.\u001b[0m\u001b[0mylabel\u001b[0m\u001b[0;34m(\u001b[0m\u001b[0;34m'Feature Importance Score'\u001b[0m\u001b[0;34m)\u001b[0m\u001b[0;34m\u001b[0m\u001b[0m\n",
      "\u001b[0;31mTypeError\u001b[0m: 'str' object is not callable"
     ]
    }
   ],
   "source": [
    "#Choose all predictors except target\n",
    "target = 'sepostulo'\n",
    "scale_weight = trainingSet_samples['sepostulo'].value_counts()[0] / \n",
    "            trainingSet_samples['sepostulo'].value_counts()[1]\n",
    "predictors = [x for x in trainingSet_samples.columns if x not in [target]]\n",
    "xgb1 = XGBClassifier(\n",
    " learning_rate =0.1,\n",
    " n_estimators=300,\n",
    " max_depth=5,\n",
    " min_child_weight=1,\n",
    " gamma=0,\n",
    " subsample=0.8,\n",
    " colsample_bytree=0.8,\n",
    " objective= 'binary:logistic',\n",
    " nthread=1,\n",
    " scale_pos_weight= scale_weight,\n",
    " seed=27)\n",
    "    \n",
    "cv_folds=5\n",
    "early_stopping_rounds=50\n",
    "xgb_param = xgb1.get_xgb_params()\n",
    "xgtrain = xgb.DMatrix(trainingSet_samples[predictors].values, label=trainingSet_samples[target].values)\n",
    "cvresult = xgb.cv(xgb_param, xgtrain, num_boost_round=xgb1.get_params()['n_estimators'],\n",
    "                  nfold=cv_folds, metrics={'auc'}, early_stopping_rounds=early_stopping_rounds)\n",
    "xgb1.set_params(n_estimators=cvresult.shape[0])\n",
    "\n",
    "#Fit the algorithm on the data\n",
    "xgb1.fit(trainingSet_samples[predictors], trainingSet_samples['sepostulo'],eval_metric='auc')\n",
    "\n",
    "#Predict training set:\n",
    "dtrain_predictions = xgb1.predict(trainingSet_samples[predictors])\n",
    "dtrain_predprob = xgb1.predict_proba(trainingSet_samples[predictors])[:,1]\n",
    "\n",
    "#Print model report:\n",
    "print (\"\\nModel Report\")\n",
    "print (\"Accuracy : %.4g\" % metrics.accuracy_score(trainingSet_samples['sepostulo'].values, dtrain_predictions))\n",
    "print (\"AUC Score (Train): %f\" % metrics.roc_auc_score(trainingSet_samples['sepostulo'], dtrain_predprob))"
   ]
  },
  {
   "cell_type": "markdown",
   "metadata": {},
   "source": [
    "# TestingSet"
   ]
  },
  {
   "cell_type": "code",
   "execution_count": 21,
   "metadata": {},
   "outputs": [],
   "source": [
    "dtypes = pd.Series({'estado': CategoricalDtype(categories=['Abandonado', 'En Curso', 'Graduado'], \n",
    "                                               ordered=False), 'idpostulante': np.dtype('object'),\n",
    "                    'nombre': CategoricalDtype(categories=['Doctorado', 'Master', 'Otro', 'Posgrado',\n",
    "                            'Secundario','Terciario/Técnico', 'Universitario'],ordered=False),\n",
    "                    'sexo': CategoricalDtype(categories=['FEM', 'MASC', 'NO_DECLARA'], ordered=False)})\n",
    "\n",
    "dtypes_col = dtypes.index\n",
    "dtypes_type = [i.name for i in dtypes.values]\n",
    "\n",
    "column_types = dict(zip(dtypes_col, dtypes_type))\n",
    "\n",
    "testingSet_CON_NAN = pd.read_csv('/home/lucio/Documentos/Datos/NaventDatosTP/TestingSets/testingSet_CON_NAN.csv',dtype=column_types)\n",
    "testingSet_CON_NAN.drop('Unnamed: 0',inplace=True,axis=1)\n",
    "testingSet_CON_NAN.drop(columns=['idpostulante','denominacion_empresa','nombre_area'],inplace=True) #No sirve para el algoritmo de ML"
   ]
  },
  {
   "cell_type": "code",
   "execution_count": 29,
   "metadata": {},
   "outputs": [
    {
     "name": "stdout",
     "output_type": "stream",
     "text": [
      "<class 'pandas.core.frame.DataFrame'>\n",
      "RangeIndex: 100000 entries, 0 to 99999\n",
      "Data columns (total 9 columns):\n",
      "id                 100000 non-null int64\n",
      "idaviso            100000 non-null int64\n",
      "nombre_zona        100000 non-null object\n",
      "tipo_de_trabajo    100000 non-null object\n",
      "nivel_laboral      100000 non-null object\n",
      "sexo               93375 non-null category\n",
      "nombre             93375 non-null category\n",
      "estado             93375 non-null category\n",
      "edad               93375 non-null float64\n",
      "dtypes: category(3), float64(1), int64(2), object(3)\n",
      "memory usage: 4.9+ MB\n"
     ]
    }
   ],
   "source": [
    "testingSet_CON_NAN.info()"
   ]
  },
  {
   "cell_type": "markdown",
   "metadata": {},
   "source": [
    "# Aplico dummies"
   ]
  },
  {
   "cell_type": "code",
   "execution_count": 22,
   "metadata": {},
   "outputs": [],
   "source": [
    "testingSet_CON_NAN = testingSet_CON_NAN.join(pd.get_dummies(testingSet_CON_NAN.sexo))\n",
    "\n",
    "testingSet_CON_NAN.drop('sexo',axis=1, inplace=True)\n",
    "\n",
    "testingSet_CON_NAN = testingSet_CON_NAN.join(pd.get_dummies(testingSet_CON_NAN.nombre))\n",
    "\n",
    "testingSet_CON_NAN.drop('nombre',axis=1, inplace=True)\n",
    "\n",
    "testingSet_CON_NAN = testingSet_CON_NAN.join(pd.get_dummies(testingSet_CON_NAN.estado))\n",
    "\n",
    "testingSet_CON_NAN.drop('estado',axis=1, inplace=True)\n",
    "\n",
    "testingSet_CON_NAN = testingSet_CON_NAN.join(pd.get_dummies(testingSet_CON_NAN.nombre_zona))\n",
    "\n",
    "testingSet_CON_NAN.drop('nombre_zona',axis=1, inplace=True)\n",
    "\n",
    "testingSet_CON_NAN = testingSet_CON_NAN.join(pd.get_dummies(testingSet_CON_NAN.tipo_de_trabajo))\n",
    "\n",
    "testingSet_CON_NAN.drop('tipo_de_trabajo',axis=1, inplace=True)\n",
    "\n",
    "testingSet_CON_NAN = testingSet_CON_NAN.join(pd.get_dummies(testingSet_CON_NAN.nivel_laboral,\n",
    "                                                             prefix=\"Nivel_laboral\"))\n",
    "\n",
    "testingSet_CON_NAN.drop('nivel_laboral',axis=1, inplace=True)\n",
    "\n",
    "#testingSet_CON_NAN = trainingSet_samples.join(pd.get_dummies(trainingSet_samples.nombre_area))"
   ]
  },
  {
   "cell_type": "code",
   "execution_count": 23,
   "metadata": {},
   "outputs": [],
   "source": [
    "# Get missing columns in the training test\n",
    "missing_cols = set( trainingSet_samples.columns ) - set( testingSet_CON_NAN.columns )\n",
    "# Add a missing column in test set with default value equal to 0\n",
    "for c in missing_cols:\n",
    "    testingSet_CON_NAN[c] = 0\n",
    "# Ensure the order of column in the test set is in the same order than in train set\n",
    "testingSet_CON_NAN = testingSet_CON_NAN[trainingSet_samples.columns]"
   ]
  },
  {
   "cell_type": "code",
   "execution_count": 24,
   "metadata": {},
   "outputs": [],
   "source": [
    "#Predict testing set:\n",
    "dtest_predictions = xgb_model.predict(testingSet_CON_NAN[predictors])\n",
    "dtest_predprob = xgb_model.predict_proba(testingSet_CON_NAN[predictors])[:,1]"
   ]
  },
  {
   "cell_type": "code",
   "execution_count": 25,
   "metadata": {},
   "outputs": [],
   "source": [
    "testingSet_CON_NAN['sepostulo'] = dtest_predictions"
   ]
  },
  {
   "cell_type": "code",
   "execution_count": 26,
   "metadata": {},
   "outputs": [
    {
     "data": {
      "text/plain": [
       "1    99136\n",
       "0      864\n",
       "Name: sepostulo, dtype: int64"
      ]
     },
     "execution_count": 26,
     "metadata": {},
     "output_type": "execute_result"
    }
   ],
   "source": [
    "testingSet_CON_NAN['sepostulo'].value_counts()"
   ]
  },
  {
   "cell_type": "code",
   "execution_count": 45,
   "metadata": {},
   "outputs": [
    {
     "data": {
      "text/html": [
       "<div>\n",
       "<style scoped>\n",
       "    .dataframe tbody tr th:only-of-type {\n",
       "        vertical-align: middle;\n",
       "    }\n",
       "\n",
       "    .dataframe tbody tr th {\n",
       "        vertical-align: top;\n",
       "    }\n",
       "\n",
       "    .dataframe thead th {\n",
       "        text-align: right;\n",
       "    }\n",
       "</style>\n",
       "<table border=\"1\" class=\"dataframe\">\n",
       "  <thead>\n",
       "    <tr style=\"text-align: right;\">\n",
       "      <th></th>\n",
       "      <th>sepostulo</th>\n",
       "      <th>edad</th>\n",
       "      <th>FEM</th>\n",
       "      <th>MASC</th>\n",
       "      <th>NO_DECLARA</th>\n",
       "      <th>Doctorado</th>\n",
       "      <th>Master</th>\n",
       "      <th>Otro</th>\n",
       "      <th>Posgrado</th>\n",
       "      <th>Secundario</th>\n",
       "      <th>...</th>\n",
       "      <th>Por Horas</th>\n",
       "      <th>Primer empleo</th>\n",
       "      <th>Teletrabajo</th>\n",
       "      <th>Temporario</th>\n",
       "      <th>Voluntario</th>\n",
       "      <th>Nivel_laboral_Gerencia / Alta Gerencia / Dirección</th>\n",
       "      <th>Nivel_laboral_Jefe / Supervisor / Responsable</th>\n",
       "      <th>Nivel_laboral_Junior</th>\n",
       "      <th>Nivel_laboral_Otro</th>\n",
       "      <th>Nivel_laboral_Senior / Semi-Senior</th>\n",
       "    </tr>\n",
       "  </thead>\n",
       "  <tbody>\n",
       "    <tr>\n",
       "      <th>0</th>\n",
       "      <td>1</td>\n",
       "      <td>41.0</td>\n",
       "      <td>1</td>\n",
       "      <td>0</td>\n",
       "      <td>0</td>\n",
       "      <td>1</td>\n",
       "      <td>0</td>\n",
       "      <td>0</td>\n",
       "      <td>0</td>\n",
       "      <td>0</td>\n",
       "      <td>...</td>\n",
       "      <td>0</td>\n",
       "      <td>0</td>\n",
       "      <td>0</td>\n",
       "      <td>0</td>\n",
       "      <td>0</td>\n",
       "      <td>0</td>\n",
       "      <td>1</td>\n",
       "      <td>0</td>\n",
       "      <td>0</td>\n",
       "      <td>0</td>\n",
       "    </tr>\n",
       "    <tr>\n",
       "      <th>1</th>\n",
       "      <td>1</td>\n",
       "      <td>30.0</td>\n",
       "      <td>0</td>\n",
       "      <td>1</td>\n",
       "      <td>0</td>\n",
       "      <td>0</td>\n",
       "      <td>0</td>\n",
       "      <td>0</td>\n",
       "      <td>0</td>\n",
       "      <td>0</td>\n",
       "      <td>...</td>\n",
       "      <td>0</td>\n",
       "      <td>0</td>\n",
       "      <td>0</td>\n",
       "      <td>0</td>\n",
       "      <td>0</td>\n",
       "      <td>0</td>\n",
       "      <td>1</td>\n",
       "      <td>0</td>\n",
       "      <td>0</td>\n",
       "      <td>0</td>\n",
       "    </tr>\n",
       "    <tr>\n",
       "      <th>2</th>\n",
       "      <td>1</td>\n",
       "      <td>35.0</td>\n",
       "      <td>1</td>\n",
       "      <td>0</td>\n",
       "      <td>0</td>\n",
       "      <td>0</td>\n",
       "      <td>0</td>\n",
       "      <td>0</td>\n",
       "      <td>0</td>\n",
       "      <td>0</td>\n",
       "      <td>...</td>\n",
       "      <td>0</td>\n",
       "      <td>0</td>\n",
       "      <td>0</td>\n",
       "      <td>0</td>\n",
       "      <td>0</td>\n",
       "      <td>0</td>\n",
       "      <td>1</td>\n",
       "      <td>0</td>\n",
       "      <td>0</td>\n",
       "      <td>0</td>\n",
       "    </tr>\n",
       "    <tr>\n",
       "      <th>3</th>\n",
       "      <td>1</td>\n",
       "      <td>68.0</td>\n",
       "      <td>0</td>\n",
       "      <td>1</td>\n",
       "      <td>0</td>\n",
       "      <td>0</td>\n",
       "      <td>0</td>\n",
       "      <td>0</td>\n",
       "      <td>1</td>\n",
       "      <td>0</td>\n",
       "      <td>...</td>\n",
       "      <td>0</td>\n",
       "      <td>0</td>\n",
       "      <td>0</td>\n",
       "      <td>0</td>\n",
       "      <td>0</td>\n",
       "      <td>0</td>\n",
       "      <td>0</td>\n",
       "      <td>0</td>\n",
       "      <td>1</td>\n",
       "      <td>0</td>\n",
       "    </tr>\n",
       "    <tr>\n",
       "      <th>4</th>\n",
       "      <td>1</td>\n",
       "      <td>31.0</td>\n",
       "      <td>1</td>\n",
       "      <td>0</td>\n",
       "      <td>0</td>\n",
       "      <td>0</td>\n",
       "      <td>0</td>\n",
       "      <td>0</td>\n",
       "      <td>0</td>\n",
       "      <td>0</td>\n",
       "      <td>...</td>\n",
       "      <td>0</td>\n",
       "      <td>0</td>\n",
       "      <td>0</td>\n",
       "      <td>0</td>\n",
       "      <td>0</td>\n",
       "      <td>0</td>\n",
       "      <td>0</td>\n",
       "      <td>0</td>\n",
       "      <td>1</td>\n",
       "      <td>0</td>\n",
       "    </tr>\n",
       "  </tbody>\n",
       "</table>\n",
       "<p>5 rows × 42 columns</p>\n",
       "</div>"
      ],
      "text/plain": [
       "   sepostulo  edad  FEM  MASC  NO_DECLARA  Doctorado  Master  Otro  Posgrado  \\\n",
       "0          1  41.0    1     0           0          1       0     0         0   \n",
       "1          1  30.0    0     1           0          0       0     0         0   \n",
       "2          1  35.0    1     0           0          0       0     0         0   \n",
       "3          1  68.0    0     1           0          0       0     0         1   \n",
       "4          1  31.0    1     0           0          0       0     0         0   \n",
       "\n",
       "   Secundario                 ...                  Por Horas  Primer empleo  \\\n",
       "0           0                 ...                          0              0   \n",
       "1           0                 ...                          0              0   \n",
       "2           0                 ...                          0              0   \n",
       "3           0                 ...                          0              0   \n",
       "4           0                 ...                          0              0   \n",
       "\n",
       "   Teletrabajo  Temporario  Voluntario  \\\n",
       "0            0           0           0   \n",
       "1            0           0           0   \n",
       "2            0           0           0   \n",
       "3            0           0           0   \n",
       "4            0           0           0   \n",
       "\n",
       "   Nivel_laboral_Gerencia / Alta Gerencia / Dirección  \\\n",
       "0                                                  0    \n",
       "1                                                  0    \n",
       "2                                                  0    \n",
       "3                                                  0    \n",
       "4                                                  0    \n",
       "\n",
       "   Nivel_laboral_Jefe / Supervisor / Responsable  Nivel_laboral_Junior  \\\n",
       "0                                              1                     0   \n",
       "1                                              1                     0   \n",
       "2                                              1                     0   \n",
       "3                                              0                     0   \n",
       "4                                              0                     0   \n",
       "\n",
       "   Nivel_laboral_Otro  Nivel_laboral_Senior / Semi-Senior  \n",
       "0                   0                                   0  \n",
       "1                   0                                   0  \n",
       "2                   0                                   0  \n",
       "3                   1                                   0  \n",
       "4                   1                                   0  \n",
       "\n",
       "[5 rows x 42 columns]"
      ]
     },
     "execution_count": 45,
     "metadata": {},
     "output_type": "execute_result"
    }
   ],
   "source": [
    "testingSet_CON_NAN.head()"
   ]
  },
  {
   "cell_type": "code",
   "execution_count": 47,
   "metadata": {},
   "outputs": [
    {
     "data": {
      "text/html": [
       "<div>\n",
       "<style scoped>\n",
       "    .dataframe tbody tr th:only-of-type {\n",
       "        vertical-align: middle;\n",
       "    }\n",
       "\n",
       "    .dataframe tbody tr th {\n",
       "        vertical-align: top;\n",
       "    }\n",
       "\n",
       "    .dataframe thead th {\n",
       "        text-align: right;\n",
       "    }\n",
       "</style>\n",
       "<table border=\"1\" class=\"dataframe\">\n",
       "  <thead>\n",
       "    <tr style=\"text-align: right;\">\n",
       "      <th></th>\n",
       "      <th>sepostulo</th>\n",
       "    </tr>\n",
       "  </thead>\n",
       "  <tbody>\n",
       "    <tr>\n",
       "      <th>0</th>\n",
       "      <td>1</td>\n",
       "    </tr>\n",
       "    <tr>\n",
       "      <th>1</th>\n",
       "      <td>1</td>\n",
       "    </tr>\n",
       "    <tr>\n",
       "      <th>2</th>\n",
       "      <td>1</td>\n",
       "    </tr>\n",
       "    <tr>\n",
       "      <th>3</th>\n",
       "      <td>1</td>\n",
       "    </tr>\n",
       "    <tr>\n",
       "      <th>4</th>\n",
       "      <td>1</td>\n",
       "    </tr>\n",
       "  </tbody>\n",
       "</table>\n",
       "</div>"
      ],
      "text/plain": [
       "   sepostulo\n",
       "0          1\n",
       "1          1\n",
       "2          1\n",
       "3          1\n",
       "4          1"
      ]
     },
     "execution_count": 47,
     "metadata": {},
     "output_type": "execute_result"
    }
   ],
   "source": [
    "submit = testingSet_CON_NAN[['sepostulo']]\n",
    "submit.head()"
   ]
  },
  {
   "cell_type": "code",
   "execution_count": 49,
   "metadata": {},
   "outputs": [],
   "source": [
    "submit.insert(0, 'id', testingSet_CON_NAN['id'])"
   ]
  },
  {
   "cell_type": "code",
   "execution_count": 51,
   "metadata": {},
   "outputs": [
    {
     "name": "stdout",
     "output_type": "stream",
     "text": [
      "<class 'pandas.core.frame.DataFrame'>\n",
      "RangeIndex: 100000 entries, 0 to 99999\n",
      "Data columns (total 2 columns):\n",
      "id           100000 non-null int64\n",
      "sepostulo    100000 non-null uint8\n",
      "dtypes: int64(1), uint8(1)\n",
      "memory usage: 879.0 KB\n"
     ]
    }
   ],
   "source": [
    "submit.info()"
   ]
  },
  {
   "cell_type": "code",
   "execution_count": 52,
   "metadata": {},
   "outputs": [],
   "source": [
    "submit.to_csv('Submit/prediccion20_XGBOOST_500K_dummies.csv',index=False)"
   ]
  },
  {
   "cell_type": "code",
   "execution_count": null,
   "metadata": {},
   "outputs": [],
   "source": []
  },
  {
   "cell_type": "markdown",
   "metadata": {},
   "source": [
    "# Tuning max_depth y min_child_weight"
   ]
  },
  {
   "cell_type": "code",
   "execution_count": 53,
   "metadata": {},
   "outputs": [
    {
     "name": "stderr",
     "output_type": "stream",
     "text": [
      "/home/lucio/Documentos/Datos/lib/python3.6/site-packages/sklearn/model_selection/_search.py:761: DeprecationWarning: The grid_scores_ attribute was deprecated in version 0.18 in favor of the more elaborate cv_results_ attribute. The grid_scores_ attribute will not be available from 0.20\n",
      "  DeprecationWarning)\n"
     ]
    },
    {
     "data": {
      "text/plain": [
       "([mean: 0.55301, std: 0.00136, params: {'max_depth': 3, 'min_child_weight': 1},\n",
       "  mean: 0.55301, std: 0.00133, params: {'max_depth': 3, 'min_child_weight': 3},\n",
       "  mean: 0.55313, std: 0.00140, params: {'max_depth': 3, 'min_child_weight': 5},\n",
       "  mean: 0.55625, std: 0.00137, params: {'max_depth': 5, 'min_child_weight': 1},\n",
       "  mean: 0.55651, std: 0.00128, params: {'max_depth': 5, 'min_child_weight': 3},\n",
       "  mean: 0.55644, std: 0.00130, params: {'max_depth': 5, 'min_child_weight': 5},\n",
       "  mean: 0.55807, std: 0.00125, params: {'max_depth': 7, 'min_child_weight': 1},\n",
       "  mean: 0.55772, std: 0.00102, params: {'max_depth': 7, 'min_child_weight': 3},\n",
       "  mean: 0.55789, std: 0.00118, params: {'max_depth': 7, 'min_child_weight': 5},\n",
       "  mean: 0.55784, std: 0.00153, params: {'max_depth': 9, 'min_child_weight': 1},\n",
       "  mean: 0.55783, std: 0.00124, params: {'max_depth': 9, 'min_child_weight': 3},\n",
       "  mean: 0.55780, std: 0.00130, params: {'max_depth': 9, 'min_child_weight': 5}],\n",
       " {'max_depth': 7, 'min_child_weight': 1},\n",
       " 0.5580656634209402)"
      ]
     },
     "execution_count": 53,
     "metadata": {},
     "output_type": "execute_result"
    }
   ],
   "source": [
    "param_test1 = {\n",
    " 'max_depth':range(3,10,2),\n",
    " 'min_child_weight':range(1,6,2)\n",
    "}\n",
    "\n",
    "gsearch1 = GridSearchCV(estimator = XGBClassifier(learning_rate =0.1, n_estimators=140, max_depth=5,\n",
    " min_child_weight=1, gamma=0, subsample=0.8, colsample_bytree=0.8,\n",
    " objective= 'binary:logistic', nthread=4, scale_pos_weight=1, seed=27), \n",
    " param_grid = param_test1, scoring='roc_auc',n_jobs=1,iid=False, cv=5)\n",
    "gsearch1.fit(trainingSet_samples[predictors],trainingSet_samples[target])\n",
    "gsearch1.grid_scores_, gsearch1.best_params_, gsearch1.best_score_"
   ]
  },
  {
   "cell_type": "code",
   "execution_count": 55,
   "metadata": {},
   "outputs": [
    {
     "name": "stderr",
     "output_type": "stream",
     "text": [
      "/home/lucio/Documentos/Datos/lib/python3.6/site-packages/sklearn/model_selection/_search.py:761: DeprecationWarning: The grid_scores_ attribute was deprecated in version 0.18 in favor of the more elaborate cv_results_ attribute. The grid_scores_ attribute will not be available from 0.20\n",
      "  DeprecationWarning)\n"
     ]
    },
    {
     "data": {
      "text/plain": [
       "([mean: 0.55746, std: 0.00144, params: {'max_depth': 6, 'min_child_weight': 1},\n",
       "  mean: 0.55753, std: 0.00147, params: {'max_depth': 6, 'min_child_weight': 2},\n",
       "  mean: 0.55807, std: 0.00125, params: {'max_depth': 7, 'min_child_weight': 1},\n",
       "  mean: 0.55799, std: 0.00134, params: {'max_depth': 7, 'min_child_weight': 2},\n",
       "  mean: 0.55824, std: 0.00123, params: {'max_depth': 8, 'min_child_weight': 1},\n",
       "  mean: 0.55793, std: 0.00106, params: {'max_depth': 8, 'min_child_weight': 2}],\n",
       " {'max_depth': 8, 'min_child_weight': 1},\n",
       " 0.5582404177404134)"
      ]
     },
     "execution_count": 55,
     "metadata": {},
     "output_type": "execute_result"
    }
   ],
   "source": [
    "param_test2 = {\n",
    " 'max_depth':[6,7,8],\n",
    " 'min_child_weight':[1,2]\n",
    "}\n",
    "gsearch2 = GridSearchCV(estimator = XGBClassifier( learning_rate=0.1, n_estimators=140, max_depth=5,\n",
    " min_child_weight=2, gamma=0, subsample=0.8, colsample_bytree=0.8,\n",
    " objective= 'binary:logistic', nthread=4, scale_pos_weight=1,seed=27), \n",
    " param_grid = param_test2, scoring='roc_auc',n_jobs=1,iid=False, cv=5)\n",
    "gsearch2.fit(trainingSet_samples[predictors],trainingSet_samples[target])\n",
    "gsearch2.grid_scores_, gsearch2.best_params_, gsearch2.best_score_"
   ]
  },
  {
   "cell_type": "markdown",
   "metadata": {},
   "source": [
    "# Tuning Gamma"
   ]
  },
  {
   "cell_type": "code",
   "execution_count": 56,
   "metadata": {},
   "outputs": [
    {
     "name": "stderr",
     "output_type": "stream",
     "text": [
      "/home/lucio/Documentos/Datos/lib/python3.6/site-packages/sklearn/model_selection/_search.py:761: DeprecationWarning: The grid_scores_ attribute was deprecated in version 0.18 in favor of the more elaborate cv_results_ attribute. The grid_scores_ attribute will not be available from 0.20\n",
      "  DeprecationWarning)\n"
     ]
    },
    {
     "data": {
      "text/plain": [
       "([mean: 0.55824, std: 0.00123, params: {'gamma': 0.0},\n",
       "  mean: 0.55810, std: 0.00134, params: {'gamma': 0.1},\n",
       "  mean: 0.55797, std: 0.00132, params: {'gamma': 0.2},\n",
       "  mean: 0.55796, std: 0.00145, params: {'gamma': 0.3},\n",
       "  mean: 0.55802, std: 0.00116, params: {'gamma': 0.4}],\n",
       " {'gamma': 0.0},\n",
       " 0.5582404177404134)"
      ]
     },
     "execution_count": 56,
     "metadata": {},
     "output_type": "execute_result"
    }
   ],
   "source": [
    "param_test3 = {\n",
    " 'gamma':[i/10.0 for i in range(0,5)]\n",
    "}\n",
    "gsearch3 = GridSearchCV(estimator = XGBClassifier( learning_rate =0.1, n_estimators=140, max_depth=8,\n",
    " min_child_weight=1, gamma=0, subsample=0.8, colsample_bytree=0.8,\n",
    " objective= 'binary:logistic', nthread=4, scale_pos_weight=1,seed=27), \n",
    " param_grid = param_test3, scoring='roc_auc',n_jobs=1,iid=False, cv=5)\n",
    "gsearch3.fit(trainingSet_samples[predictors],trainingSet_samples[target])\n",
    "gsearch3.grid_scores_, gsearch3.best_params_, gsearch3.best_score_"
   ]
  },
  {
   "cell_type": "code",
   "execution_count": 60,
   "metadata": {},
   "outputs": [
    {
     "name": "stderr",
     "output_type": "stream",
     "text": [
      "/home/lucio/Documentos/Datos/lib/python3.6/site-packages/sklearn/preprocessing/label.py:151: DeprecationWarning: The truth value of an empty array is ambiguous. Returning False, but in future this will result in an error. Use `array.size > 0` to check that an array is not empty.\n",
      "  if diff:\n"
     ]
    }
   ],
   "source": [
    "#Predict testing set:\n",
    "dtest_predictions = gsearch3.predict(testingSet_CON_NAN[predictors])\n",
    "dtest_predprob = gsearch3.predict_proba(testingSet_CON_NAN[predictors])[:,1]"
   ]
  },
  {
   "cell_type": "code",
   "execution_count": 61,
   "metadata": {},
   "outputs": [
    {
     "data": {
      "text/html": [
       "<div>\n",
       "<style scoped>\n",
       "    .dataframe tbody tr th:only-of-type {\n",
       "        vertical-align: middle;\n",
       "    }\n",
       "\n",
       "    .dataframe tbody tr th {\n",
       "        vertical-align: top;\n",
       "    }\n",
       "\n",
       "    .dataframe thead th {\n",
       "        text-align: right;\n",
       "    }\n",
       "</style>\n",
       "<table border=\"1\" class=\"dataframe\">\n",
       "  <thead>\n",
       "    <tr style=\"text-align: right;\">\n",
       "      <th></th>\n",
       "      <th>sepostulo</th>\n",
       "    </tr>\n",
       "  </thead>\n",
       "  <tbody>\n",
       "    <tr>\n",
       "      <th>0</th>\n",
       "      <td>1</td>\n",
       "    </tr>\n",
       "    <tr>\n",
       "      <th>1</th>\n",
       "      <td>1</td>\n",
       "    </tr>\n",
       "    <tr>\n",
       "      <th>2</th>\n",
       "      <td>1</td>\n",
       "    </tr>\n",
       "    <tr>\n",
       "      <th>3</th>\n",
       "      <td>1</td>\n",
       "    </tr>\n",
       "    <tr>\n",
       "      <th>4</th>\n",
       "      <td>1</td>\n",
       "    </tr>\n",
       "  </tbody>\n",
       "</table>\n",
       "</div>"
      ],
      "text/plain": [
       "   sepostulo\n",
       "0          1\n",
       "1          1\n",
       "2          1\n",
       "3          1\n",
       "4          1"
      ]
     },
     "execution_count": 61,
     "metadata": {},
     "output_type": "execute_result"
    }
   ],
   "source": [
    "testingSet_CON_NAN['sepostulo'] = dtest_predictions\n",
    "submit = testingSet_CON_NAN[['sepostulo']]\n",
    "submit.head()"
   ]
  },
  {
   "cell_type": "code",
   "execution_count": 63,
   "metadata": {},
   "outputs": [],
   "source": [
    "submit.insert(0, 'id', testingSet_CON_NAN['id'])"
   ]
  },
  {
   "cell_type": "code",
   "execution_count": 64,
   "metadata": {},
   "outputs": [
    {
     "data": {
      "text/plain": [
       "1    91351\n",
       "0     8649\n",
       "Name: sepostulo, dtype: int64"
      ]
     },
     "execution_count": 64,
     "metadata": {},
     "output_type": "execute_result"
    }
   ],
   "source": [
    "submit['sepostulo'].value_counts()"
   ]
  },
  {
   "cell_type": "code",
   "execution_count": 65,
   "metadata": {},
   "outputs": [],
   "source": [
    "submit.to_csv('Submit/prediccion23_XGBOOST_500K_dummies_algo_tuning.csv',index=False)"
   ]
  },
  {
   "cell_type": "markdown",
   "metadata": {},
   "source": [
    "# RandomForestClassifier con feature selection"
   ]
  },
  {
   "cell_type": "code",
   "execution_count": 1,
   "metadata": {},
   "outputs": [],
   "source": [
    "import pandas as pd\n",
    "import numpy as np\n",
    "from pandas.api.types import CategoricalDtype\n",
    "import time\n",
    "from datetime import datetime\n",
    "import scipy.spatial\n",
    "import numpy as np\n",
    "from sklearn.preprocessing import LabelEncoder\n",
    "from sklearn import preprocessing\n",
    "from sklearn import model_selection\n",
    "from sklearn.model_selection import GridSearchCV\n",
    "from sklearn.model_selection import RandomizedSearchCV\n",
    "from sklearn.model_selection import cross_val_score\n",
    "from sklearn.model_selection import train_test_split\n",
    "from sklearn.ensemble import RandomForestClassifier\n",
    "import matplotlib.pyplot as plt\n",
    "import seaborn as sns # data visualization library "
   ]
  },
  {
   "cell_type": "markdown",
   "metadata": {},
   "source": [
    "# Datasets sin enconding"
   ]
  },
  {
   "cell_type": "code",
   "execution_count": 2,
   "metadata": {},
   "outputs": [],
   "source": [
    "dtypes = pd.Series({'sepostulo': np.dtype('uint8'),'edad': np.dtype('uint16')})\n",
    "\n",
    "dtypes_col = dtypes.index\n",
    "dtypes_type = [i.name for i in dtypes.values]\n",
    "\n",
    "column_types = dict(zip(dtypes_col, dtypes_type))\n",
    "\n",
    "trainingSet = pd.read_csv('/home/lucio/Documentos/Datos/NaventDatosTP/Data/TRAINING_SET_SIN_ENCODING.csv',dtype=column_types)\n",
    "trainingSet.drop(['Unnamed: 0','denominacion_empresa'],axis=1,inplace=True)\n",
    "trainingSet[[\"sexo\",'nombre','estado','nombre_zona',\n",
    "             'tipo_de_trabajo','nivel_laboral',\n",
    "             'nombre_area']] = trainingSet[[\"sexo\",'nombre','estado','nombre_zona',\n",
    "                                            'tipo_de_trabajo','nivel_laboral',\n",
    "                                            'nombre_area']].astype('category')"
   ]
  },
  {
   "cell_type": "code",
   "execution_count": 3,
   "metadata": {},
   "outputs": [],
   "source": [
    "trainingSet_samples = trainingSet.sample(n=1500000,random_state=50)"
   ]
  },
  {
   "cell_type": "code",
   "execution_count": 4,
   "metadata": {},
   "outputs": [],
   "source": [
    "trainingSet_samples = trainingSet_samples.join(pd.get_dummies(trainingSet_samples.sexo))\n",
    "\n",
    "trainingSet_samples.drop('sexo',axis=1, inplace=True)\n",
    "\n",
    "trainingSet_samples = trainingSet_samples.join(pd.get_dummies(trainingSet_samples.nombre))\n",
    "\n",
    "trainingSet_samples.drop('nombre',axis=1, inplace=True)\n",
    "\n",
    "trainingSet_samples = trainingSet_samples.join(pd.get_dummies(trainingSet_samples.estado))\n",
    "\n",
    "trainingSet_samples.drop('estado',axis=1, inplace=True)\n",
    "\n",
    "trainingSet_samples = trainingSet_samples.join(pd.get_dummies(trainingSet_samples.nombre_zona))\n",
    "\n",
    "trainingSet_samples.drop('nombre_zona',axis=1, inplace=True)\n",
    "\n",
    "trainingSet_samples = trainingSet_samples.join(pd.get_dummies(trainingSet_samples.tipo_de_trabajo))\n",
    "\n",
    "trainingSet_samples.drop('tipo_de_trabajo',axis=1, inplace=True)\n",
    "\n",
    "trainingSet_samples = trainingSet_samples.join(pd.get_dummies(trainingSet_samples.nivel_laboral,\n",
    "                                                             prefix=\"Nivel_laboral\"))\n",
    "\n",
    "trainingSet_samples.drop('nivel_laboral',axis=1, inplace=True)\n",
    "\n",
    "trainingSet_samples = trainingSet_samples.join(pd.get_dummies(trainingSet_samples.nombre_area))\n",
    "# LO SAQUE PORQUE MI MAQUINA NO SE BANCA POR AHI LA DE UDS SI AUNQUE AGREGA MUCHAS COLUMAS(188)\n",
    "\n",
    "trainingSet_samples.drop('nombre_area',axis=1, inplace=True)"
   ]
  },
  {
   "cell_type": "code",
   "execution_count": 5,
   "metadata": {},
   "outputs": [
    {
     "name": "stdout",
     "output_type": "stream",
     "text": [
      "Feature ranking:\n",
      "1. feature 0 (0.521272)\n",
      "2. feature 38 (0.015890)\n",
      "3. feature 40 (0.014049)\n",
      "4. feature 10 (0.013467)\n",
      "5. feature 39 (0.013058)\n",
      "6. feature 9 (0.012002)\n",
      "7. feature 20 (0.009801)\n",
      "8. feature 15 (0.009576)\n",
      "9. feature 8 (0.009162)\n",
      "10. feature 27 (0.008659)\n",
      "11. feature 184 (0.008097)\n",
      "12. feature 12 (0.008096)\n",
      "13. feature 28 (0.007793)\n",
      "14. feature 11 (0.007721)\n",
      "15. feature 7 (0.007626)\n",
      "16. feature 13 (0.007544)\n",
      "17. feature 2 (0.006684)\n",
      "18. feature 71 (0.006677)\n",
      "19. feature 43 (0.006609)\n",
      "20. feature 226 (0.006458)\n",
      "21. feature 1 (0.006199)\n",
      "22. feature 55 (0.006177)\n",
      "23. feature 5 (0.006088)\n",
      "24. feature 37 (0.005253)\n",
      "25. feature 67 (0.005030)\n",
      "26. feature 194 (0.004915)\n",
      "27. feature 160 (0.004756)\n",
      "28. feature 209 (0.004260)\n",
      "29. feature 45 (0.004259)\n",
      "30. feature 158 (0.004154)\n",
      "31. feature 216 (0.004115)\n",
      "32. feature 123 (0.004096)\n",
      "33. feature 46 (0.004021)\n",
      "34. feature 195 (0.003799)\n",
      "35. feature 200 (0.003749)\n",
      "36. feature 156 (0.003474)\n",
      "37. feature 83 (0.003471)\n",
      "38. feature 120 (0.003449)\n",
      "39. feature 161 (0.003427)\n",
      "40. feature 6 (0.003218)\n",
      "41. feature 36 (0.003178)\n",
      "42. feature 68 (0.003174)\n",
      "43. feature 215 (0.003169)\n",
      "44. feature 178 (0.003149)\n",
      "45. feature 172 (0.003098)\n",
      "46. feature 125 (0.002987)\n",
      "47. feature 119 (0.002950)\n",
      "48. feature 159 (0.002923)\n",
      "49. feature 207 (0.002912)\n",
      "50. feature 53 (0.002816)\n",
      "51. feature 34 (0.002768)\n",
      "52. feature 92 (0.002767)\n",
      "53. feature 75 (0.002766)\n",
      "54. feature 66 (0.002735)\n",
      "55. feature 64 (0.002730)\n",
      "56. feature 222 (0.002722)\n",
      "57. feature 132 (0.002668)\n",
      "58. feature 87 (0.002630)\n",
      "59. feature 115 (0.002616)\n",
      "60. feature 206 (0.002576)\n",
      "61. feature 201 (0.002545)\n",
      "62. feature 211 (0.002540)\n",
      "63. feature 199 (0.002530)\n",
      "64. feature 155 (0.002500)\n",
      "65. feature 50 (0.002475)\n",
      "66. feature 77 (0.002438)\n",
      "67. feature 84 (0.002339)\n",
      "68. feature 213 (0.002299)\n",
      "69. feature 31 (0.002299)\n",
      "70. feature 153 (0.002282)\n",
      "71. feature 104 (0.002238)\n",
      "72. feature 182 (0.002208)\n",
      "73. feature 127 (0.002203)\n",
      "74. feature 33 (0.002143)\n",
      "75. feature 41 (0.002133)\n",
      "76. feature 80 (0.002095)\n",
      "77. feature 76 (0.002082)\n",
      "78. feature 186 (0.002066)\n",
      "79. feature 197 (0.002019)\n",
      "80. feature 98 (0.001948)\n",
      "81. feature 185 (0.001888)\n",
      "82. feature 56 (0.001874)\n",
      "83. feature 124 (0.001865)\n",
      "84. feature 29 (0.001761)\n",
      "85. feature 82 (0.001747)\n",
      "86. feature 4 (0.001724)\n",
      "87. feature 69 (0.001699)\n",
      "88. feature 196 (0.001684)\n",
      "89. feature 65 (0.001684)\n",
      "90. feature 227 (0.001666)\n",
      "91. feature 187 (0.001657)\n",
      "92. feature 90 (0.001643)\n",
      "93. feature 164 (0.001641)\n",
      "94. feature 30 (0.001625)\n",
      "95. feature 179 (0.001605)\n",
      "96. feature 109 (0.001562)\n",
      "97. feature 42 (0.001518)\n",
      "98. feature 133 (0.001506)\n",
      "99. feature 223 (0.001503)\n",
      "100. feature 131 (0.001501)\n",
      "101. feature 139 (0.001490)\n",
      "102. feature 63 (0.001488)\n",
      "103. feature 176 (0.001487)\n",
      "104. feature 47 (0.001479)\n",
      "105. feature 168 (0.001473)\n",
      "106. feature 96 (0.001466)\n",
      "107. feature 136 (0.001455)\n",
      "108. feature 140 (0.001450)\n",
      "109. feature 225 (0.001407)\n",
      "110. feature 3 (0.001405)\n",
      "111. feature 48 (0.001402)\n",
      "112. feature 81 (0.001397)\n",
      "113. feature 73 (0.001375)\n",
      "114. feature 88 (0.001372)\n",
      "115. feature 205 (0.001358)\n",
      "116. feature 204 (0.001337)\n",
      "117. feature 208 (0.001330)\n",
      "118. feature 141 (0.001280)\n",
      "119. feature 217 (0.001230)\n",
      "120. feature 137 (0.001210)\n",
      "121. feature 108 (0.001191)\n",
      "122. feature 129 (0.001189)\n",
      "123. feature 157 (0.001180)\n",
      "124. feature 183 (0.001134)\n",
      "125. feature 151 (0.001127)\n",
      "126. feature 106 (0.001124)\n",
      "127. feature 74 (0.001106)\n",
      "128. feature 174 (0.001093)\n",
      "129. feature 26 (0.001062)\n",
      "130. feature 54 (0.001048)\n",
      "131. feature 105 (0.001018)\n",
      "132. feature 95 (0.000994)\n",
      "133. feature 85 (0.000986)\n",
      "134. feature 113 (0.000939)\n",
      "135. feature 173 (0.000931)\n",
      "136. feature 144 (0.000922)\n",
      "137. feature 203 (0.000921)\n",
      "138. feature 101 (0.000882)\n",
      "139. feature 177 (0.000867)\n",
      "140. feature 135 (0.000853)\n",
      "141. feature 212 (0.000842)\n",
      "142. feature 192 (0.000836)\n",
      "143. feature 175 (0.000798)\n",
      "144. feature 202 (0.000795)\n",
      "145. feature 118 (0.000785)\n",
      "146. feature 14 (0.000767)\n",
      "147. feature 100 (0.000746)\n",
      "148. feature 143 (0.000713)\n",
      "149. feature 116 (0.000697)\n",
      "150. feature 163 (0.000690)\n",
      "151. feature 44 (0.000677)\n",
      "152. feature 72 (0.000669)\n",
      "153. feature 188 (0.000663)\n",
      "154. feature 134 (0.000661)\n",
      "155. feature 86 (0.000660)\n",
      "156. feature 78 (0.000601)\n",
      "157. feature 103 (0.000601)\n",
      "158. feature 99 (0.000565)\n",
      "159. feature 49 (0.000565)\n",
      "160. feature 130 (0.000549)\n",
      "161. feature 19 (0.000545)\n",
      "162. feature 61 (0.000514)\n",
      "163. feature 59 (0.000512)\n",
      "164. feature 112 (0.000500)\n",
      "165. feature 102 (0.000474)\n",
      "166. feature 189 (0.000469)\n",
      "167. feature 62 (0.000461)\n",
      "168. feature 60 (0.000438)\n",
      "169. feature 210 (0.000425)\n",
      "170. feature 142 (0.000417)\n",
      "171. feature 152 (0.000382)\n",
      "172. feature 110 (0.000370)\n",
      "173. feature 170 (0.000342)\n",
      "174. feature 180 (0.000336)\n",
      "175. feature 150 (0.000330)\n",
      "176. feature 79 (0.000321)\n",
      "177. feature 181 (0.000317)\n",
      "178. feature 70 (0.000304)\n",
      "179. feature 166 (0.000304)\n",
      "180. feature 146 (0.000296)\n",
      "181. feature 94 (0.000293)\n",
      "182. feature 193 (0.000270)\n",
      "183. feature 121 (0.000254)\n",
      "184. feature 32 (0.000250)\n",
      "185. feature 52 (0.000239)\n",
      "186. feature 220 (0.000233)\n",
      "187. feature 91 (0.000227)\n",
      "188. feature 17 (0.000225)\n",
      "189. feature 198 (0.000220)\n",
      "190. feature 147 (0.000217)\n",
      "191. feature 89 (0.000211)\n",
      "192. feature 214 (0.000210)\n",
      "193. feature 145 (0.000197)\n",
      "194. feature 165 (0.000186)\n",
      "195. feature 221 (0.000158)\n",
      "196. feature 51 (0.000143)\n",
      "197. feature 218 (0.000137)\n",
      "198. feature 18 (0.000136)\n",
      "199. feature 57 (0.000134)\n",
      "200. feature 169 (0.000132)\n",
      "201. feature 228 (0.000124)\n",
      "202. feature 148 (0.000124)\n",
      "203. feature 191 (0.000114)\n",
      "204. feature 128 (0.000106)\n",
      "205. feature 154 (0.000104)\n",
      "206. feature 93 (0.000098)\n",
      "207. feature 167 (0.000080)\n",
      "208. feature 149 (0.000073)\n",
      "209. feature 114 (0.000071)\n",
      "210. feature 138 (0.000061)\n",
      "211. feature 97 (0.000047)\n",
      "212. feature 111 (0.000041)\n",
      "213. feature 190 (0.000040)\n",
      "214. feature 219 (0.000039)\n",
      "215. feature 162 (0.000037)\n",
      "216. feature 126 (0.000033)\n",
      "217. feature 117 (0.000033)\n",
      "218. feature 35 (0.000027)\n",
      "219. feature 107 (0.000023)\n",
      "220. feature 122 (0.000015)\n",
      "221. feature 171 (0.000013)\n",
      "222. feature 224 (0.000006)\n",
      "223. feature 16 (0.000005)\n",
      "224. feature 23 (0.000003)\n",
      "225. feature 21 (0.000001)\n",
      "226. feature 58 (0.000000)\n",
      "227. feature 22 (0.000000)\n",
      "228. feature 24 (0.000000)\n",
      "229. feature 25 (0.000000)\n"
     ]
    },
    {
     "data": {
      "image/png": "[encoded data removed]",
      "text/plain": [
       "<Figure size 1008x936 with 1 Axes>"
      ]
     },
     "metadata": {},
     "output_type": "display_data"
    }
   ],
   "source": [
    "import matplotlib.pyplot as plt\n",
    "from sklearn.model_selection import train_test_split\n",
    "from sklearn.ensemble import RandomForestClassifier\n",
    "from sklearn.metrics import f1_score,confusion_matrix\n",
    "from sklearn.metrics import accuracy_score\n",
    "\n",
    "# split data train 70 % and test 30 %\n",
    "columnas = trainingSet_samples.columns.drop(\"sepostulo\")\n",
    "x_train, x_test, y_train, y_test = train_test_split(trainingSet_samples[columnas],trainingSet_samples['sepostulo']\n",
    "                                                    , test_size=0.3, random_state=42)\n",
    "\n",
    "clf = RandomForestClassifier()      \n",
    "clf = clf.fit(x_train,y_train)\n",
    "importances = clf.feature_importances_\n",
    "std = np.std([tree.feature_importances_ for tree in clf.estimators_],\n",
    "             axis=0)\n",
    "indices = np.argsort(importances)[::-1]\n",
    "\n",
    "# Print the feature ranking\n",
    "print(\"Feature ranking:\")\n",
    "\n",
    "for f in range(x_train.shape[1]):\n",
    "    print(\"%d. feature %d (%f)\" % (f + 1, indices[f], importances[indices[f]]))\n",
    "\n",
    "# Plot the feature importances of the forest\n",
    "\n",
    "plt.figure(1, figsize=(14, 13))\n",
    "plt.title(\"Feature importances\")\n",
    "plt.bar(range(x_train.shape[1]), importances[indices],\n",
    "       color=\"g\", yerr=std[indices], align=\"center\")\n",
    "plt.xticks(range(x_train.shape[1]), x_train.columns[indices],rotation=90)\n",
    "plt.xlim([-1, x_train.shape[1]])\n",
    "plt.show()"
   ]
  },
  {
   "cell_type": "markdown",
   "metadata": {},
   "source": [
    "# Me quedo con los 131 mas importantes"
   ]
  },
  {
   "cell_type": "code",
   "execution_count": 11,
   "metadata": {},
   "outputs": [],
   "source": [
    "#Recupero indices de los features \"mas importantes\"\n",
    "columnas_lista = columnas.tolist()\n",
    "columnas_importantes = []\n",
    "for f in range(131):\n",
    "    columnas_importantes.append(columnas_lista[f])"
   ]
  },
  {
   "cell_type": "code",
   "execution_count": 16,
   "metadata": {},
   "outputs": [
    {
     "name": "stdout",
     "output_type": "stream",
     "text": [
      "Feature ranking:\n",
      "1. feature 0 (0.541179)\n",
      "2. feature 43 (0.014732)\n",
      "3. feature 55 (0.014551)\n",
      "4. feature 40 (0.014474)\n",
      "5. feature 38 (0.014001)\n",
      "6. feature 71 (0.013699)\n",
      "7. feature 39 (0.012676)\n",
      "8. feature 9 (0.011138)\n",
      "9. feature 27 (0.011020)\n",
      "10. feature 13 (0.010526)\n",
      "11. feature 67 (0.010434)\n",
      "12. feature 12 (0.010099)\n",
      "13. feature 10 (0.009874)\n",
      "14. feature 15 (0.009683)\n",
      "15. feature 20 (0.009463)\n",
      "16. feature 11 (0.009054)\n",
      "17. feature 28 (0.008905)\n",
      "18. feature 8 (0.008880)\n",
      "19. feature 46 (0.008211)\n",
      "20. feature 37 (0.008117)\n",
      "21. feature 123 (0.007946)\n",
      "22. feature 1 (0.007923)\n",
      "23. feature 45 (0.007680)\n",
      "24. feature 83 (0.007532)\n",
      "25. feature 7 (0.007511)\n",
      "26. feature 2 (0.006909)\n",
      "27. feature 5 (0.006325)\n",
      "28. feature 120 (0.006003)\n",
      "29. feature 68 (0.005830)\n",
      "30. feature 64 (0.005592)\n",
      "31. feature 53 (0.005095)\n",
      "32. feature 119 (0.004843)\n",
      "33. feature 75 (0.004804)\n",
      "34. feature 104 (0.004763)\n",
      "35. feature 92 (0.004645)\n",
      "36. feature 125 (0.004623)\n",
      "37. feature 115 (0.004566)\n",
      "38. feature 87 (0.004494)\n",
      "39. feature 66 (0.004474)\n",
      "40. feature 84 (0.004170)\n",
      "41. feature 41 (0.003954)\n",
      "42. feature 77 (0.003920)\n",
      "43. feature 33 (0.003797)\n",
      "44. feature 50 (0.003685)\n",
      "45. feature 6 (0.003627)\n",
      "46. feature 127 (0.003617)\n",
      "47. feature 34 (0.003505)\n",
      "48. feature 76 (0.003459)\n",
      "49. feature 56 (0.003443)\n",
      "50. feature 124 (0.003360)\n",
      "51. feature 80 (0.003331)\n",
      "52. feature 98 (0.003287)\n",
      "53. feature 65 (0.002998)\n",
      "54. feature 36 (0.002954)\n",
      "55. feature 31 (0.002854)\n",
      "56. feature 69 (0.002839)\n",
      "57. feature 90 (0.002774)\n",
      "58. feature 82 (0.002737)\n",
      "59. feature 109 (0.002623)\n",
      "60. feature 96 (0.002528)\n",
      "61. feature 29 (0.002491)\n",
      "62. feature 42 (0.002449)\n",
      "63. feature 63 (0.002382)\n",
      "64. feature 81 (0.002351)\n",
      "65. feature 47 (0.002344)\n",
      "66. feature 108 (0.002294)\n",
      "67. feature 73 (0.002288)\n",
      "68. feature 88 (0.002288)\n",
      "69. feature 48 (0.002156)\n",
      "70. feature 129 (0.002031)\n",
      "71. feature 30 (0.001978)\n",
      "72. feature 4 (0.001834)\n",
      "73. feature 106 (0.001832)\n",
      "74. feature 105 (0.001808)\n",
      "75. feature 74 (0.001702)\n",
      "76. feature 26 (0.001626)\n",
      "77. feature 3 (0.001622)\n",
      "78. feature 54 (0.001582)\n",
      "79. feature 95 (0.001582)\n",
      "80. feature 85 (0.001558)\n",
      "81. feature 101 (0.001557)\n",
      "82. feature 113 (0.001466)\n",
      "83. feature 116 (0.001333)\n",
      "84. feature 118 (0.001292)\n",
      "85. feature 100 (0.001250)\n",
      "86. feature 14 (0.001230)\n",
      "87. feature 49 (0.001156)\n",
      "88. feature 86 (0.001107)\n",
      "89. feature 99 (0.001087)\n",
      "90. feature 44 (0.001056)\n",
      "91. feature 78 (0.001000)\n",
      "92. feature 103 (0.000968)\n",
      "93. feature 72 (0.000967)\n",
      "94. feature 59 (0.000881)\n",
      "95. feature 130 (0.000836)\n",
      "96. feature 112 (0.000830)\n",
      "97. feature 19 (0.000783)\n",
      "98. feature 62 (0.000754)\n",
      "99. feature 61 (0.000739)\n",
      "100. feature 60 (0.000733)\n",
      "101. feature 102 (0.000732)\n",
      "102. feature 110 (0.000605)\n",
      "103. feature 17 (0.000570)\n",
      "104. feature 70 (0.000544)\n",
      "105. feature 79 (0.000525)\n",
      "106. feature 94 (0.000503)\n",
      "107. feature 32 (0.000480)\n",
      "108. feature 121 (0.000413)\n",
      "109. feature 91 (0.000351)\n",
      "110. feature 52 (0.000351)\n",
      "111. feature 89 (0.000320)\n",
      "112. feature 51 (0.000253)\n",
      "113. feature 18 (0.000247)\n",
      "114. feature 57 (0.000247)\n",
      "115. feature 128 (0.000172)\n",
      "116. feature 93 (0.000170)\n",
      "117. feature 114 (0.000121)\n",
      "118. feature 97 (0.000080)\n",
      "119. feature 126 (0.000077)\n",
      "120. feature 35 (0.000063)\n",
      "121. feature 111 (0.000058)\n",
      "122. feature 117 (0.000051)\n",
      "123. feature 107 (0.000050)\n",
      "124. feature 122 (0.000036)\n",
      "125. feature 23 (0.000009)\n",
      "126. feature 21 (0.000007)\n",
      "127. feature 16 (0.000006)\n",
      "128. feature 58 (0.000000)\n",
      "129. feature 22 (0.000000)\n",
      "130. feature 24 (0.000000)\n",
      "131. feature 25 (0.000000)\n"
     ]
    },
    {
     "data": {
      "image/png": "[encoded data removed]",
      "text/plain": [
       "<Figure size 1008x936 with 1 Axes>"
      ]
     },
     "metadata": {},
     "output_type": "display_data"
    }
   ],
   "source": [
    "import matplotlib.pyplot as plt\n",
    "from sklearn.model_selection import train_test_split\n",
    "from sklearn.ensemble import RandomForestClassifier\n",
    "from sklearn.metrics import f1_score,confusion_matrix\n",
    "from sklearn.metrics import accuracy_score\n",
    "\n",
    "# split data train 70 % and test 30 %\n",
    "x_train, x_test, y_train, y_test = train_test_split(trainingSet_samples[columnas_importantes],trainingSet_samples['sepostulo']\n",
    "                                                    , test_size=0.3, random_state=42)\n",
    "\n",
    "clf = RandomForestClassifier()      \n",
    "clf = clf.fit(x_train,y_train)\n",
    "importances = clf.feature_importances_\n",
    "std = np.std([tree.feature_importances_ for tree in clf.estimators_],\n",
    "             axis=0)\n",
    "indices = np.argsort(importances)[::-1]\n",
    "\n",
    "# Print the feature ranking\n",
    "print(\"Feature ranking:\")\n",
    "\n",
    "for f in range(x_train.shape[1]):\n",
    "    print(\"%d. feature %d (%f)\" % (f + 1, indices[f], importances[indices[f]]))\n",
    "\n",
    "# Plot the feature importances of the forest\n",
    "\n",
    "plt.figure(1, figsize=(14, 13))\n",
    "plt.title(\"Feature importances\")\n",
    "plt.bar(range(x_train.shape[1]), importances[indices],\n",
    "       color=\"g\", yerr=std[indices], align=\"center\")\n",
    "plt.xticks(range(x_train.shape[1]), x_train.columns[indices],rotation=90)\n",
    "plt.xlim([-1, x_train.shape[1]])\n",
    "plt.show()"
   ]
  },
  {
   "cell_type": "code",
   "execution_count": 17,
   "metadata": {},
   "outputs": [
    {
     "name": "stdout",
     "output_type": "stream",
     "text": [
      "confusion matrix\n",
      "[[ 27119 139664]\n",
      " [ 28618 254599]]\n",
      "classification report\n",
      "             precision    recall  f1-score   support\n",
      "\n",
      "          0       0.49      0.16      0.24    166783\n",
      "          1       0.65      0.90      0.75    283217\n",
      "\n",
      "avg / total       0.59      0.63      0.56    450000\n",
      "\n",
      "-----------------------------------------------------------------------------------------\n",
      "Accuracy is :\n",
      "0.62604\n",
      "Area under the curve : 0.530777\n"
     ]
    }
   ],
   "source": [
    "from sklearn.model_selection import train_test_split\n",
    "from sklearn.ensemble import RandomForestClassifier\n",
    "from sklearn.metrics import f1_score,confusion_matrix\n",
    "from sklearn.metrics import accuracy_score\n",
    "\n",
    "clf = RandomForestClassifier()\n",
    "clr = clf.fit(x_train,y_train)\n",
    "\n",
    "from sklearn import metrics\n",
    "import warnings\n",
    "warnings.filterwarnings(\"ignore\")\n",
    "\n",
    "y_pred = clf.predict(x_test)  #predicts\n",
    "print('confusion matrix')\n",
    "print(metrics.confusion_matrix(y_test, y_pred))\n",
    "print('classification report')\n",
    "print(metrics.classification_report(y_test, y_pred))\n",
    "print(\"-----------------------------------------------------------------------------------------\")\n",
    "print(\"Accuracy is :\")\n",
    "print(metrics.accuracy_score(y_test, y_pred))\n",
    "print('Area under the curve : %f' % (metrics.roc_auc_score(y_test, y_pred)))"
   ]
  },
  {
   "cell_type": "code",
   "execution_count": 19,
   "metadata": {},
   "outputs": [
    {
     "name": "stdout",
     "output_type": "stream",
     "text": [
      "confusion matrix\n",
      "[[ 41610 125173]\n",
      " [ 42145 241072]]\n",
      "classification report\n",
      "             precision    recall  f1-score   support\n",
      "\n",
      "          0       0.50      0.25      0.33    166783\n",
      "          1       0.66      0.85      0.74    283217\n",
      "\n",
      "avg / total       0.60      0.63      0.59    450000\n",
      "\n",
      "-----------------------------------------------------------------------------------------\n",
      "Accuracy is :\n",
      "0.6281822222222222\n",
      "Area under the curve : 0.550339\n"
     ]
    }
   ],
   "source": [
    "from sklearn.model_selection import train_test_split\n",
    "from sklearn.ensemble import RandomForestClassifier\n",
    "from sklearn.metrics import f1_score,confusion_matrix\n",
    "from sklearn.metrics import accuracy_score\n",
    "\n",
    "# split data train 70 % and test 30 %\n",
    "columnas = trainingSet_samples.columns.drop(\"sepostulo\")\n",
    "x_train, x_test, y_train, y_test = train_test_split(trainingSet_samples[columnas],\n",
    "                                            trainingSet_samples['sepostulo'],test_size=0.3, random_state=42)\n",
    "\n",
    "clf = RandomForestClassifier()\n",
    "clr = clf.fit(x_train,y_train)\n",
    "\n",
    "from sklearn import metrics\n",
    "import warnings\n",
    "warnings.filterwarnings(\"ignore\")\n",
    "\n",
    "y_pred = clf.predict(x_test)  #predicts\n",
    "print('confusion matrix')\n",
    "print(metrics.confusion_matrix(y_test, y_pred))\n",
    "print('classification report')\n",
    "print(metrics.classification_report(y_test, y_pred))\n",
    "print(\"-----------------------------------------------------------------------------------------\")\n",
    "print(\"Accuracy is :\")\n",
    "print(metrics.accuracy_score(y_test, y_pred))\n",
    "print('Area under the curve : %f' % (metrics.roc_auc_score(y_test, y_pred)))"
   ]
  }
 ],
 "metadata": {
  "kernelspec": {
   "display_name": "Python 3",
   "language": "python",
   "name": "python3"
  },
  "language_info": {
   "codemirror_mode": {
    "name": "ipython",
    "version": 3
   },
   "file_extension": ".py",
   "mimetype": "text/x-python",
   "name": "python",
   "nbconvert_exporter": "python",
   "pygments_lexer": "ipython3",
   "version": "3.6.5"
  }
 },
 "nbformat": 4,
 "nbformat_minor": 2
}
