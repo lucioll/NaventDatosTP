{
 "cells": [
  {
   "cell_type": "code",
   "execution_count": 3,
   "metadata": {},
   "outputs": [],
   "source": [
    "import pandas as pd\n",
    "from pandas.api.types import CategoricalDtype\n",
    "import time\n",
    "from datetime import datetime\n",
    "import scipy.spatial\n",
    "import numpy as np\n",
    "from sklearn.preprocessing import LabelEncoder"
   ]
  },
  {
   "cell_type": "code",
   "execution_count": 4,
   "metadata": {},
   "outputs": [],
   "source": [
    "dtypes = pd.Series({'nombre_zona': CategoricalDtype(categories=['Buenos Aires (fuera de GBA)', 'Capital Federal',\n",
    "                  'GBA Oeste', 'Gran Buenos Aires'],ordered=False),'ciudad': CategoricalDtype(categories=['Argentina', 'Barracas', 'Buenos Aires',\n",
    "                  'Buenos Aires Province', 'CABA', 'Capital Federal', 'La Plata', 'Mendoza', 'Microcentro', \n",
    "                'Parque Patricios','República Argentina', 'San Isidro', 'Santa Rosa ','Tortuguitas',\n",
    "                'Vicente Lopez', 'Zárate, Campana, Escobar','caba', 'paternal'], ordered=False),\n",
    "                'nivel_laboral': CategoricalDtype(categories=['Gerencia / Alta Gerencia / Dirección',\n",
    "                  'Jefe / Supervisor / Responsable', 'Junior', 'Otro', 'Senior / Semi-Senior'],\n",
    "                 ordered=False),'tipo_de_trabajo': CategoricalDtype(categories=['Fines de Semana', 'Full-time', 'Part-time', 'Pasantia',\n",
    "                  'Por Contrato', 'Por Horas', 'Primer empleo', 'Teletrabajo','Temporario'],ordered=False)})\n",
    "\n",
    "dtypes_col = dtypes.index\n",
    "dtypes_type = [i.name for i in dtypes.values]\n",
    "\n",
    "column_types = dict(zip(dtypes_col, dtypes_type))\n",
    "\n",
    "avisos_detalle = pd.read_csv('/home/lucio/Documentos/Datos/NaventDatosTP/Data/Avisos-Detalle/Avisos-Detalle-merge.csv',dtype=column_types)\n",
    "avisos_detalle = avisos_detalle.drop(columns=['mapacalle','ciudad'])"
   ]
  },
  {
   "cell_type": "code",
   "execution_count": 5,
   "metadata": {},
   "outputs": [
    {
     "name": "stdout",
     "output_type": "stream",
     "text": [
      "<class 'pandas.core.frame.DataFrame'>\n",
      "RangeIndex: 25288 entries, 0 to 25287\n",
      "Data columns (total 9 columns):\n",
      "idaviso                 25288 non-null int64\n",
      "idpais                  25288 non-null int64\n",
      "titulo                  25288 non-null object\n",
      "descripcion             25288 non-null object\n",
      "nombre_zona             25288 non-null category\n",
      "tipo_de_trabajo         25288 non-null category\n",
      "nivel_laboral           24953 non-null category\n",
      "nombre_area             25288 non-null object\n",
      "denominacion_empresa    25281 non-null object\n",
      "dtypes: category(3), int64(2), object(4)\n",
      "memory usage: 1.2+ MB\n"
     ]
    }
   ],
   "source": [
    "avisos_detalle.info()"
   ]
  },
  {
   "cell_type": "markdown",
   "metadata": {},
   "source": [
    "# Limpio descripciones para recuperar datos"
   ]
  },
  {
   "cell_type": "code",
   "execution_count": 6,
   "metadata": {},
   "outputs": [],
   "source": [
    "listado_caracteres = [\"</p>\",\"<strong>\",\"<p>\",\"</strong>\",\"<br />\",\"<ul>\",\"<li>\",\"<u>\",\"<em>\",'<p align=\"center\">',\\\n",
    "                        \" </u>\",'<span lang=\"ES\">',\"</em>\",\"</a>\",\"</span>\",\"</u>\",\"</li>\",\"</ul>\",'<p style=\"\">',\\\n",
    "                        '<span style=\"\">',\"&quot\",'<ul style=\"\">','<li style=\"\">','<div style=\"\">','</div>',\\\n",
    "                        '<div>','<span lang=\"ES\" style=\"\">','<u style=\"\">','<strong style=\"\">',\\\n",
    "                        '<p align=\"center\" style=\"\">','<span style=\"text-decoration: underline;\">','\\r\\n','\\t',\\\n",
    "                        '<span>','<span style=\"text-decoration: line-through;\">','<ol>','</ol>','ü','<p <p',\\\n",
    "                        '<span lang=\"es\" style=\"\">','<em style=\"\">',\"&gt\", \"&\",\"acute;\",\n",
    "                      '<p style=\"display: inline !important;\">']\n",
    "avisos_detalle['descripcion'].replace(regex=True,inplace=True,to_replace=listado_caracteres,value=r' ')"
   ]
  },
  {
   "cell_type": "code",
   "execution_count": 7,
   "metadata": {},
   "outputs": [],
   "source": [
    "def recuperar_nivel_laboral_titulo(titulo):\n",
    "    \"Recupera el dato nivel laboral del titulo\"\n",
    "    titulo = titulo.lower()\n",
    "    if \"junior\" in titulo:\n",
    "        return \"Junior\"\n",
    "    elif \"jr\" in titulo:\n",
    "        return \"Junior\"\n",
    "    elif \"senior\" in titulo:\n",
    "        return \"Senior / Semi-Senior\"\n",
    "    elif \"sr/ssr\" in titulo:\n",
    "        return \"Senior / Semi-Senior\"\n",
    "    elif \"sr\" in titulo:\n",
    "        return \"Senior / Semi-Senior\"\n",
    "    elif \"ssr\" in titulo:\n",
    "        return \"Senior / Semi-Senior\"\n",
    "    elif \"jefe\" in titulo:\n",
    "        return \"Jefe / Supervisor / Responsable\"\n",
    "    else:\n",
    "        return None\n",
    "    \n",
    "def recuperar_nivel_laboral_descripcion(descripcion):\n",
    "    \"Recupera el dato nivel laboral del descripcion\"\n",
    "    descripcion = descripcion.lower()\n",
    "    if \"junior\" in descripcion:\n",
    "        return \"Junior\"\n",
    "    elif \"jr\" in descripcion:\n",
    "        return \"Junior\"\n",
    "    elif \"senior\" in descripcion:\n",
    "        return \"Senior / Semi-Senior\"\n",
    "    elif \"sr/ssr\" in descripcion:\n",
    "        return \"Senior / Semi-Senior\"\n",
    "    elif \"sr\" in descripcion:\n",
    "        return \"Senior / Semi-Senior\"\n",
    "    elif \"ssr\" in descripcion:\n",
    "        return \"Senior / Semi-Senior\"\n",
    "    elif \"jefe\" in descripcion:\n",
    "        return \"Jefe / Supervisor / Responsable\"\n",
    "    else:\n",
    "        return \"Otro\""
   ]
  },
  {
   "cell_type": "code",
   "execution_count": 8,
   "metadata": {},
   "outputs": [],
   "source": [
    "avisos_detalle.loc[avisos_detalle['nivel_laboral'].isnull(),'nivel_laboral'] = avisos_detalle['titulo'].apply(recuperar_nivel_laboral_titulo)\n",
    "avisos_detalle.loc[avisos_detalle['nivel_laboral'].isnull(),'nivel_laboral'] = avisos_detalle['descripcion'].apply(recuperar_nivel_laboral_descripcion)"
   ]
  },
  {
   "cell_type": "code",
   "execution_count": 9,
   "metadata": {},
   "outputs": [
    {
     "data": {
      "text/html": [
       "<div>\n",
       "<style scoped>\n",
       "    .dataframe tbody tr th:only-of-type {\n",
       "        vertical-align: middle;\n",
       "    }\n",
       "\n",
       "    .dataframe tbody tr th {\n",
       "        vertical-align: top;\n",
       "    }\n",
       "\n",
       "    .dataframe thead th {\n",
       "        text-align: right;\n",
       "    }\n",
       "</style>\n",
       "<table border=\"1\" class=\"dataframe\">\n",
       "  <thead>\n",
       "    <tr style=\"text-align: right;\">\n",
       "      <th></th>\n",
       "      <th>idaviso</th>\n",
       "      <th>idpais</th>\n",
       "      <th>titulo</th>\n",
       "      <th>descripcion</th>\n",
       "      <th>nombre_zona</th>\n",
       "      <th>tipo_de_trabajo</th>\n",
       "      <th>nivel_laboral</th>\n",
       "      <th>nombre_area</th>\n",
       "      <th>denominacion_empresa</th>\n",
       "    </tr>\n",
       "  </thead>\n",
       "  <tbody>\n",
       "    <tr>\n",
       "      <th>3168</th>\n",
       "      <td>1111960305</td>\n",
       "      <td>1</td>\n",
       "      <td>VENDEDORA- PORTSAID- ZONA NORTE</td>\n",
       "      <td>EXPERIENCIA PORTSAID 2017      Llegan las Fi...</td>\n",
       "      <td>Gran Buenos Aires</td>\n",
       "      <td>Full-time</td>\n",
       "      <td>Otro</td>\n",
       "      <td>Ventas</td>\n",
       "      <td>NaN</td>\n",
       "    </tr>\n",
       "    <tr>\n",
       "      <th>3169</th>\n",
       "      <td>1111960330</td>\n",
       "      <td>1</td>\n",
       "      <td>VENDEDORA- PORTSAID- CAPITAL FEDERAL</td>\n",
       "      <td>EXPERIENCIA PORTSAID 2017      Llega las fie...</td>\n",
       "      <td>Gran Buenos Aires</td>\n",
       "      <td>Full-time</td>\n",
       "      <td>Otro</td>\n",
       "      <td>Ventas</td>\n",
       "      <td>NaN</td>\n",
       "    </tr>\n",
       "    <tr>\n",
       "      <th>3521</th>\n",
       "      <td>1112289439</td>\n",
       "      <td>1</td>\n",
       "      <td>Muestrista  Desiderata</td>\n",
       "      <td>En Mazalosa s.a. nos encontramos en la búsque...</td>\n",
       "      <td>Gran Buenos Aires</td>\n",
       "      <td>Part-time</td>\n",
       "      <td>Senior / Semi-Senior</td>\n",
       "      <td>Producción</td>\n",
       "      <td>NaN</td>\n",
       "    </tr>\n",
       "    <tr>\n",
       "      <th>6221</th>\n",
       "      <td>1112430233</td>\n",
       "      <td>1</td>\n",
       "      <td>MODELO DE CALCE</td>\n",
       "      <td>Importante Empresa Nacional de Indumentaria ...</td>\n",
       "      <td>Gran Buenos Aires</td>\n",
       "      <td>Part-time</td>\n",
       "      <td>Otro</td>\n",
       "      <td>Otros</td>\n",
       "      <td>NaN</td>\n",
       "    </tr>\n",
       "    <tr>\n",
       "      <th>8819</th>\n",
       "      <td>1112243714</td>\n",
       "      <td>1</td>\n",
       "      <td>Analista Comercial Senior - PORTSAID-</td>\n",
       "      <td>En Mazalosa nos encontramos en la búsqueda de...</td>\n",
       "      <td>Gran Buenos Aires</td>\n",
       "      <td>Full-time</td>\n",
       "      <td>Senior / Semi-Senior</td>\n",
       "      <td>Comercial</td>\n",
       "      <td>NaN</td>\n",
       "    </tr>\n",
       "    <tr>\n",
       "      <th>17401</th>\n",
       "      <td>1111946024</td>\n",
       "      <td>1</td>\n",
       "      <td>VENDEDOR DE SALON - PORTSAID-</td>\n",
       "      <td>En Portsaid estamos buscando al mejor vendedo...</td>\n",
       "      <td>Gran Buenos Aires</td>\n",
       "      <td>Full-time</td>\n",
       "      <td>Senior / Semi-Senior</td>\n",
       "      <td>Ventas</td>\n",
       "      <td>NaN</td>\n",
       "    </tr>\n",
       "    <tr>\n",
       "      <th>18602</th>\n",
       "      <td>1112017891</td>\n",
       "      <td>1</td>\n",
       "      <td>Promotora - MODELO DE CALCE PORTSAID Y DESIDER...</td>\n",
       "      <td>Nos encontramos en la búsqueda de una Modelo ...</td>\n",
       "      <td>Gran Buenos Aires</td>\n",
       "      <td>Por Horas</td>\n",
       "      <td>Otro</td>\n",
       "      <td>Ventas</td>\n",
       "      <td>NaN</td>\n",
       "    </tr>\n",
       "  </tbody>\n",
       "</table>\n",
       "</div>"
      ],
      "text/plain": [
       "          idaviso  idpais                                             titulo  \\\n",
       "3168   1111960305       1                    VENDEDORA- PORTSAID- ZONA NORTE   \n",
       "3169   1111960330       1               VENDEDORA- PORTSAID- CAPITAL FEDERAL   \n",
       "3521   1112289439       1                             Muestrista  Desiderata   \n",
       "6221   1112430233       1                                   MODELO DE CALCE    \n",
       "8819   1112243714       1              Analista Comercial Senior - PORTSAID-   \n",
       "17401  1111946024       1                      VENDEDOR DE SALON - PORTSAID-   \n",
       "18602  1112017891       1  Promotora - MODELO DE CALCE PORTSAID Y DESIDER...   \n",
       "\n",
       "                                             descripcion        nombre_zona  \\\n",
       "3168     EXPERIENCIA PORTSAID 2017      Llegan las Fi...  Gran Buenos Aires   \n",
       "3169     EXPERIENCIA PORTSAID 2017      Llega las fie...  Gran Buenos Aires   \n",
       "3521    En Mazalosa s.a. nos encontramos en la búsque...  Gran Buenos Aires   \n",
       "6221     Importante Empresa Nacional de Indumentaria ...  Gran Buenos Aires   \n",
       "8819    En Mazalosa nos encontramos en la búsqueda de...  Gran Buenos Aires   \n",
       "17401   En Portsaid estamos buscando al mejor vendedo...  Gran Buenos Aires   \n",
       "18602   Nos encontramos en la búsqueda de una Modelo ...  Gran Buenos Aires   \n",
       "\n",
       "      tipo_de_trabajo         nivel_laboral nombre_area denominacion_empresa  \n",
       "3168        Full-time                  Otro      Ventas                  NaN  \n",
       "3169        Full-time                  Otro      Ventas                  NaN  \n",
       "3521        Part-time  Senior / Semi-Senior  Producción                  NaN  \n",
       "6221        Part-time                  Otro       Otros                  NaN  \n",
       "8819        Full-time  Senior / Semi-Senior   Comercial                  NaN  \n",
       "17401       Full-time  Senior / Semi-Senior      Ventas                  NaN  \n",
       "18602       Por Horas                  Otro      Ventas                  NaN  "
      ]
     },
     "execution_count": 9,
     "metadata": {},
     "output_type": "execute_result"
    }
   ],
   "source": [
    "avisos_detalle[avisos_detalle['denominacion_empresa'].isnull()]"
   ]
  },
  {
   "cell_type": "code",
   "execution_count": 10,
   "metadata": {},
   "outputs": [],
   "source": [
    "avisos_detalle.loc[3168,'denominacion_empresa'] = \"Portsaid\"\n",
    "avisos_detalle.loc[3169,'denominacion_empresa'] = \"Portsaid\"\n",
    "avisos_detalle.loc[3521,'denominacion_empresa'] = \"Mazalosa S.A\"\n",
    "avisos_detalle.loc[8819,'denominacion_empresa'] = \"Mazalosa S.A\"\n",
    "avisos_detalle.loc[17401,'denominacion_empresa'] = \"Portsaid\"\n",
    "avisos_detalle.loc[18602,'denominacion_empresa'] = \"Portsaid\""
   ]
  },
  {
   "cell_type": "code",
   "execution_count": 11,
   "metadata": {},
   "outputs": [
    {
     "name": "stdout",
     "output_type": "stream",
     "text": [
      "<class 'pandas.core.frame.DataFrame'>\n",
      "Int64Index: 25287 entries, 0 to 25287\n",
      "Data columns (total 6 columns):\n",
      "idaviso                 25287 non-null int64\n",
      "nombre_zona             25287 non-null category\n",
      "tipo_de_trabajo         25287 non-null category\n",
      "nivel_laboral           25287 non-null category\n",
      "nombre_area             25287 non-null object\n",
      "denominacion_empresa    25287 non-null object\n",
      "dtypes: category(3), int64(1), object(2)\n",
      "memory usage: 865.6+ KB\n"
     ]
    }
   ],
   "source": [
    "avisos_detalle.drop(6221,inplace=True) #Ver si realmente sirve de algo en realidad la columna denom...\n",
    "avisos_detalle.drop(columns=['descripcion','titulo','idpais'],inplace=True) # Ya no me sirven\n",
    "avisos_detalle.info()"
   ]
  },
  {
   "cell_type": "code",
   "execution_count": 10,
   "metadata": {},
   "outputs": [],
   "source": [
    "#Vamos a codificar cada columna que sea de strings\n",
    "lb_make1 = LabelEncoder()\n",
    "avisos_detalle[\"nombre_area_code\"] = lb_make1.fit_transform(avisos_detalle[\"nombre_area\"])\n",
    "\n",
    "lb_make2 = LabelEncoder()\n",
    "avisos_detalle[\"denominacion_empresa_code\"] = lb_make2.fit_transform(avisos_detalle[\"denominacion_empresa\"])\n",
    "\n",
    "lb_make3 = LabelEncoder()\n",
    "avisos_detalle[\"nivel_laboral_code\"] = lb_make3.fit_transform(avisos_detalle[\"nivel_laboral\"])\n",
    "\n",
    "lb_make4 = LabelEncoder()\n",
    "avisos_detalle[\"tipo_de_trabajo_code\"] = lb_make4.fit_transform(avisos_detalle[\"tipo_de_trabajo\"])\n",
    "\n",
    "lb_make5 = LabelEncoder()\n",
    "avisos_detalle[\"nombre_zona_code\"] = lb_make5.fit_transform(avisos_detalle[\"nombre_zona\"])"
   ]
  },
  {
   "cell_type": "code",
   "execution_count": 11,
   "metadata": {},
   "outputs": [
    {
     "name": "stdout",
     "output_type": "stream",
     "text": [
      "<class 'pandas.core.frame.DataFrame'>\n",
      "Int64Index: 25287 entries, 0 to 25287\n",
      "Data columns (total 6 columns):\n",
      "idaviso                      25287 non-null int64\n",
      "nombre_area_code             25287 non-null int64\n",
      "denominacion_empresa_code    25287 non-null int64\n",
      "nivel_laboral_code           25287 non-null int64\n",
      "tipo_de_trabajo_code         25287 non-null int64\n",
      "nombre_zona_code             25287 non-null int64\n",
      "dtypes: int64(6)\n",
      "memory usage: 1.4 MB\n"
     ]
    }
   ],
   "source": [
    "avisos_detalle.drop(columns=['nombre_area','denominacion_empresa','nivel_laboral',\n",
    "                            'tipo_de_trabajo','nombre_zona'],inplace=True) # Ya no me sirven\n",
    "avisos_detalle.info()"
   ]
  },
  {
   "cell_type": "code",
   "execution_count": 12,
   "metadata": {},
   "outputs": [],
   "source": [
    "# We're going to be calculating memory usage a lot,\n",
    "# so we'll create a function to save us some time!\n",
    "\n",
    "def mem_usage(pandas_obj):\n",
    "    if isinstance(pandas_obj,pd.DataFrame):\n",
    "        usage_b = pandas_obj.memory_usage(deep=True).sum()\n",
    "    else: # we assume if not a df it's a series\n",
    "        usage_b = pandas_obj.memory_usage(deep=True)\n",
    "    usage_mb = usage_b / 1024 ** 2 # convert bytes to megabytes\n",
    "    return \"{:03.2f} MB\".format(usage_mb)"
   ]
  },
  {
   "cell_type": "code",
   "execution_count": 13,
   "metadata": {},
   "outputs": [
    {
     "name": "stdout",
     "output_type": "stream",
     "text": [
      "1.35 MB\n",
      "0.43 MB\n"
     ]
    },
    {
     "data": {
      "text/html": [
       "<div>\n",
       "<style scoped>\n",
       "    .dataframe tbody tr th:only-of-type {\n",
       "        vertical-align: middle;\n",
       "    }\n",
       "\n",
       "    .dataframe tbody tr th {\n",
       "        vertical-align: top;\n",
       "    }\n",
       "\n",
       "    .dataframe thead th {\n",
       "        text-align: right;\n",
       "    }\n",
       "</style>\n",
       "<table border=\"1\" class=\"dataframe\">\n",
       "  <thead>\n",
       "    <tr style=\"text-align: right;\">\n",
       "      <th></th>\n",
       "      <th>before</th>\n",
       "      <th>after</th>\n",
       "    </tr>\n",
       "  </thead>\n",
       "  <tbody>\n",
       "    <tr>\n",
       "      <th>uint8</th>\n",
       "      <td>NaN</td>\n",
       "      <td>4.0</td>\n",
       "    </tr>\n",
       "    <tr>\n",
       "      <th>uint16</th>\n",
       "      <td>NaN</td>\n",
       "      <td>1.0</td>\n",
       "    </tr>\n",
       "    <tr>\n",
       "      <th>uint32</th>\n",
       "      <td>NaN</td>\n",
       "      <td>1.0</td>\n",
       "    </tr>\n",
       "    <tr>\n",
       "      <th>int64</th>\n",
       "      <td>6.0</td>\n",
       "      <td>NaN</td>\n",
       "    </tr>\n",
       "  </tbody>\n",
       "</table>\n",
       "</div>"
      ],
      "text/plain": [
       "        before  after\n",
       "uint8      NaN    4.0\n",
       "uint16     NaN    1.0\n",
       "uint32     NaN    1.0\n",
       "int64      6.0    NaN"
      ]
     },
     "execution_count": 13,
     "metadata": {},
     "output_type": "execute_result"
    }
   ],
   "source": [
    "avisos_detalle_int = avisos_detalle.select_dtypes(include=['int'])\n",
    "converted_int = avisos_detalle_int.apply(pd.to_numeric,downcast='unsigned')\n",
    "\n",
    "print(mem_usage(avisos_detalle_int))\n",
    "print(mem_usage(converted_int))\n",
    "\n",
    "compare_ints = pd.concat([avisos_detalle_int.dtypes,converted_int.dtypes],axis=1)\n",
    "compare_ints.columns = ['before','after']\n",
    "compare_ints.apply(pd.Series.value_counts)"
   ]
  },
  {
   "cell_type": "code",
   "execution_count": 14,
   "metadata": {},
   "outputs": [
    {
     "name": "stdout",
     "output_type": "stream",
     "text": [
      "1.35 MB\n",
      "0.43 MB\n",
      "<class 'pandas.core.frame.DataFrame'>\n",
      "Int64Index: 25287 entries, 0 to 25287\n",
      "Data columns (total 6 columns):\n",
      "idaviso                      25287 non-null uint32\n",
      "nombre_area_code             25287 non-null uint8\n",
      "denominacion_empresa_code    25287 non-null uint16\n",
      "nivel_laboral_code           25287 non-null uint8\n",
      "tipo_de_trabajo_code         25287 non-null uint8\n",
      "nombre_zona_code             25287 non-null uint8\n",
      "dtypes: uint16(1), uint32(1), uint8(4)\n",
      "memory usage: 444.5 KB\n"
     ]
    }
   ],
   "source": [
    "optimized_avisos_detalle = avisos_detalle.copy()\n",
    "\n",
    "optimized_avisos_detalle[converted_int.columns] = converted_int\n",
    "\n",
    "print(mem_usage(avisos_detalle))\n",
    "print(mem_usage(optimized_avisos_detalle))\n",
    "optimized_avisos_detalle.info()"
   ]
  },
  {
   "cell_type": "code",
   "execution_count": 12,
   "metadata": {},
   "outputs": [],
   "source": [
    "avisos_detalle.to_csv('/home/lucio/Documentos/Datos/NaventDatosTP/Data/AVISOS_DETALLE_SIN_ENCODEAR.csv')"
   ]
  }
 ],
 "metadata": {
  "kernelspec": {
   "display_name": "Python 3",
   "language": "python",
   "name": "python3"
  },
  "language_info": {
   "codemirror_mode": {
    "name": "ipython",
    "version": 3
   },
   "file_extension": ".py",
   "mimetype": "text/x-python",
   "name": "python",
   "nbconvert_exporter": "python",
   "pygments_lexer": "ipython3",
   "version": "3.6.5"
  }
 },
 "nbformat": 4,
 "nbformat_minor": 2
}
