{
 "cells": [
  {
   "cell_type": "code",
   "execution_count": 1,
   "metadata": {},
   "outputs": [],
   "source": [
    "import pandas as pd\n",
    "from pandas.api.types import CategoricalDtype\n",
    "import time\n",
    "from datetime import datetime\n",
    "import scipy.spatial\n",
    "import numpy as np\n",
    "from sklearn.preprocessing import LabelEncoder\n",
    "from sklearn.preprocessing import Imputer"
   ]
  },
  {
   "cell_type": "code",
   "execution_count": 2,
   "metadata": {},
   "outputs": [],
   "source": [
    "testingSet = pd.read_csv('/home/lucio/Documentos/Datos/NaventDatosTP/Data/test_final_100k.csv')"
   ]
  },
  {
   "cell_type": "code",
   "execution_count": 3,
   "metadata": {},
   "outputs": [
    {
     "name": "stdout",
     "output_type": "stream",
     "text": [
      "<class 'pandas.core.frame.DataFrame'>\n",
      "RangeIndex: 100000 entries, 0 to 99999\n",
      "Data columns (total 3 columns):\n",
      "id              100000 non-null int64\n",
      "idaviso         100000 non-null int64\n",
      "idpostulante    100000 non-null object\n",
      "dtypes: int64(2), object(1)\n",
      "memory usage: 2.3+ MB\n"
     ]
    }
   ],
   "source": [
    "testingSet.info()"
   ]
  },
  {
   "cell_type": "markdown",
   "metadata": {},
   "source": [
    "# Agrego informacion de avisos detalle al testingSet"
   ]
  },
  {
   "cell_type": "code",
   "execution_count": 4,
   "metadata": {},
   "outputs": [],
   "source": [
    "avisos_detalle = pd.read_csv('/home/lucio/Documentos/Datos/NaventDatosTP/Data/optimized_avisos_detalle.csv')\n",
    "avisos_detalle.drop('Unnamed: 0',inplace=True,axis=1)"
   ]
  },
  {
   "cell_type": "code",
   "execution_count": 5,
   "metadata": {},
   "outputs": [
    {
     "name": "stdout",
     "output_type": "stream",
     "text": [
      "<class 'pandas.core.frame.DataFrame'>\n",
      "RangeIndex: 25287 entries, 0 to 25286\n",
      "Data columns (total 6 columns):\n",
      "idaviso                      25287 non-null int64\n",
      "nombre_area_code             25287 non-null int64\n",
      "denominacion_empresa_code    25287 non-null int64\n",
      "nivel_laboral_code           25287 non-null int64\n",
      "tipo_de_trabajo_code         25287 non-null int64\n",
      "nombre_zona_code             25287 non-null int64\n",
      "dtypes: int64(6)\n",
      "memory usage: 1.2 MB\n"
     ]
    }
   ],
   "source": [
    "avisos_detalle.info()"
   ]
  },
  {
   "cell_type": "code",
   "execution_count": 6,
   "metadata": {},
   "outputs": [],
   "source": [
    "testingSet = pd.merge(testingSet,avisos_detalle,how='left',on='idaviso')"
   ]
  },
  {
   "cell_type": "code",
   "execution_count": 7,
   "metadata": {},
   "outputs": [
    {
     "name": "stdout",
     "output_type": "stream",
     "text": [
      "<class 'pandas.core.frame.DataFrame'>\n",
      "Int64Index: 100000 entries, 0 to 99999\n",
      "Data columns (total 8 columns):\n",
      "id                           100000 non-null int64\n",
      "idaviso                      100000 non-null int64\n",
      "idpostulante                 100000 non-null object\n",
      "nombre_area_code             100000 non-null int64\n",
      "denominacion_empresa_code    100000 non-null int64\n",
      "nivel_laboral_code           100000 non-null int64\n",
      "tipo_de_trabajo_code         100000 non-null int64\n",
      "nombre_zona_code             100000 non-null int64\n",
      "dtypes: int64(7), object(1)\n",
      "memory usage: 6.9+ MB\n"
     ]
    }
   ],
   "source": [
    "testingSet.info()"
   ]
  },
  {
   "cell_type": "markdown",
   "metadata": {},
   "source": [
    "# Agrego informacion de postulantes"
   ]
  },
  {
   "cell_type": "code",
   "execution_count": 8,
   "metadata": {},
   "outputs": [],
   "source": [
    "dtypes = pd.Series({'estado': CategoricalDtype(categories=['Abandonado', 'En Curso', 'Graduado'], ordered=False), 'idpostulante': np.dtype('object'),\n",
    "                    'nombre': CategoricalDtype(categories=['Doctorado', 'Master', 'Otro', 'Posgrado', 'Secundario',\n",
    "                  'Terciario/Técnico', 'Universitario'],ordered=False),'idpostulante': np.dtype('object'),\n",
    "                    'sexo': CategoricalDtype(categories=['FEM', 'MASC', 'NO_DECLARA'], ordered=False)})\n",
    "\n",
    "dtypes_col = dtypes.index\n",
    "dtypes_type = [i.name for i in dtypes.values]\n",
    "\n",
    "column_types = dict(zip(dtypes_col, dtypes_type))\n",
    "\n",
    "postulantes = pd.read_csv('/home/lucio/Documentos/Datos/NaventDatosTP/Data/POSTULANTES_FINAL.csv',dtype=column_types)\n",
    "postulantes.drop('Unnamed: 0',inplace=True,axis=1)"
   ]
  },
  {
   "cell_type": "code",
   "execution_count": 9,
   "metadata": {},
   "outputs": [
    {
     "name": "stdout",
     "output_type": "stream",
     "text": [
      "<class 'pandas.core.frame.DataFrame'>\n",
      "RangeIndex: 438357 entries, 0 to 438356\n",
      "Data columns (total 5 columns):\n",
      "idpostulante    438357 non-null object\n",
      "edad            438357 non-null int64\n",
      "estado_code     438357 non-null int64\n",
      "sexo_code       438357 non-null int64\n",
      "nombre_code     438357 non-null int64\n",
      "dtypes: int64(4), object(1)\n",
      "memory usage: 16.7+ MB\n"
     ]
    }
   ],
   "source": [
    "postulantes.info()"
   ]
  },
  {
   "cell_type": "code",
   "execution_count": 10,
   "metadata": {},
   "outputs": [],
   "source": [
    "testingSet = pd.merge(testingSet,postulantes,how='left',on='idpostulante')"
   ]
  },
  {
   "cell_type": "code",
   "execution_count": 11,
   "metadata": {},
   "outputs": [
    {
     "name": "stdout",
     "output_type": "stream",
     "text": [
      "<class 'pandas.core.frame.DataFrame'>\n",
      "Int64Index: 100000 entries, 0 to 99999\n",
      "Data columns (total 12 columns):\n",
      "id                           100000 non-null int64\n",
      "idaviso                      100000 non-null int64\n",
      "idpostulante                 100000 non-null object\n",
      "nombre_area_code             100000 non-null int64\n",
      "denominacion_empresa_code    100000 non-null int64\n",
      "nivel_laboral_code           100000 non-null int64\n",
      "tipo_de_trabajo_code         100000 non-null int64\n",
      "nombre_zona_code             100000 non-null int64\n",
      "edad                         93346 non-null float64\n",
      "estado_code                  93346 non-null float64\n",
      "sexo_code                    93346 non-null float64\n",
      "nombre_code                  93346 non-null float64\n",
      "dtypes: float64(4), int64(7), object(1)\n",
      "memory usage: 9.9+ MB\n"
     ]
    }
   ],
   "source": [
    "testingSet.info()"
   ]
  },
  {
   "cell_type": "code",
   "execution_count": 12,
   "metadata": {},
   "outputs": [],
   "source": [
    "testingSet_2 = testingSet[['nombre_area_code',\n",
    "       'denominacion_empresa_code', 'nivel_laboral_code',\n",
    "       'tipo_de_trabajo_code', 'nombre_zona_code', 'edad', 'estado_code',\n",
    "       'sexo_code', 'nombre_code']]"
   ]
  },
  {
   "cell_type": "markdown",
   "metadata": {},
   "source": [
    "# Utilizamos imputing para los valores que no tenemos"
   ]
  },
  {
   "cell_type": "code",
   "execution_count": 13,
   "metadata": {},
   "outputs": [],
   "source": [
    "fill_NaN = Imputer(missing_values=np.nan, strategy='mean', axis=1)\n",
    "imputed_DF_mean = pd.DataFrame(fill_NaN.fit_transform(testingSet_2))\n",
    "imputed_DF_mean.columns = ['nombre_area_code',\n",
    "       'denominacion_empresa_code', 'nivel_laboral_code',\n",
    "       'tipo_de_trabajo_code', 'nombre_zona_code', 'edad', 'estado_code','sexo_code', 'nombre_code']\n",
    "imputed_DF_mean.index = testingSet.index"
   ]
  },
  {
   "cell_type": "code",
   "execution_count": 14,
   "metadata": {},
   "outputs": [
    {
     "name": "stdout",
     "output_type": "stream",
     "text": [
      "<class 'pandas.core.frame.DataFrame'>\n",
      "Int64Index: 100000 entries, 0 to 99999\n",
      "Data columns (total 9 columns):\n",
      "nombre_area_code             100000 non-null float64\n",
      "denominacion_empresa_code    100000 non-null float64\n",
      "nivel_laboral_code           100000 non-null float64\n",
      "tipo_de_trabajo_code         100000 non-null float64\n",
      "nombre_zona_code             100000 non-null float64\n",
      "edad                         100000 non-null float64\n",
      "estado_code                  100000 non-null float64\n",
      "sexo_code                    100000 non-null float64\n",
      "nombre_code                  100000 non-null float64\n",
      "dtypes: float64(9)\n",
      "memory usage: 7.6 MB\n"
     ]
    }
   ],
   "source": [
    "imputed_DF_mean.info()"
   ]
  },
  {
   "cell_type": "code",
   "execution_count": 15,
   "metadata": {},
   "outputs": [],
   "source": [
    "fill_NaN = Imputer(missing_values=np.nan, strategy='median', axis=1)\n",
    "imputed_DF_median = pd.DataFrame(fill_NaN.fit_transform(testingSet_2))\n",
    "imputed_DF_median.columns = ['nombre_area_code',\n",
    "       'denominacion_empresa_code', 'nivel_laboral_code',\n",
    "       'tipo_de_trabajo_code', 'nombre_zona_code', 'edad', 'estado_code','sexo_code', 'nombre_code']\n",
    "imputed_DF_median.index = testingSet.index"
   ]
  },
  {
   "cell_type": "code",
   "execution_count": 16,
   "metadata": {},
   "outputs": [
    {
     "name": "stdout",
     "output_type": "stream",
     "text": [
      "<class 'pandas.core.frame.DataFrame'>\n",
      "Int64Index: 100000 entries, 0 to 99999\n",
      "Data columns (total 9 columns):\n",
      "nombre_area_code             100000 non-null float64\n",
      "denominacion_empresa_code    100000 non-null float64\n",
      "nivel_laboral_code           100000 non-null float64\n",
      "tipo_de_trabajo_code         100000 non-null float64\n",
      "nombre_zona_code             100000 non-null float64\n",
      "edad                         100000 non-null float64\n",
      "estado_code                  100000 non-null float64\n",
      "sexo_code                    100000 non-null float64\n",
      "nombre_code                  100000 non-null float64\n",
      "dtypes: float64(9)\n",
      "memory usage: 7.6 MB\n"
     ]
    }
   ],
   "source": [
    "imputed_DF_median.info()"
   ]
  },
  {
   "cell_type": "code",
   "execution_count": 17,
   "metadata": {},
   "outputs": [],
   "source": [
    "fill_NaN = Imputer(missing_values=np.nan, strategy='most_frequent', axis=1)\n",
    "imputed_DF_most_frequent = pd.DataFrame(fill_NaN.fit_transform(testingSet_2))\n",
    "imputed_DF_most_frequent.columns = ['nombre_area_code',\n",
    "       'denominacion_empresa_code', 'nivel_laboral_code',\n",
    "       'tipo_de_trabajo_code', 'nombre_zona_code', 'edad', 'estado_code','sexo_code', 'nombre_code']\n",
    "imputed_DF_most_frequent.index = testingSet.index"
   ]
  },
  {
   "cell_type": "code",
   "execution_count": 18,
   "metadata": {},
   "outputs": [
    {
     "name": "stdout",
     "output_type": "stream",
     "text": [
      "<class 'pandas.core.frame.DataFrame'>\n",
      "Int64Index: 100000 entries, 0 to 99999\n",
      "Data columns (total 9 columns):\n",
      "nombre_area_code             100000 non-null float64\n",
      "denominacion_empresa_code    100000 non-null float64\n",
      "nivel_laboral_code           100000 non-null float64\n",
      "tipo_de_trabajo_code         100000 non-null float64\n",
      "nombre_zona_code             100000 non-null float64\n",
      "edad                         100000 non-null float64\n",
      "estado_code                  100000 non-null float64\n",
      "sexo_code                    100000 non-null float64\n",
      "nombre_code                  100000 non-null float64\n",
      "dtypes: float64(9)\n",
      "memory usage: 7.6 MB\n"
     ]
    }
   ],
   "source": [
    "imputed_DF_most_frequent.info()"
   ]
  },
  {
   "cell_type": "markdown",
   "metadata": {},
   "source": [
    "# Agrego las columnas id idaviso e idpostulante"
   ]
  },
  {
   "cell_type": "code",
   "execution_count": 20,
   "metadata": {},
   "outputs": [],
   "source": [
    "imputed_DF_mean[['id','idaviso','idpostulante']] = testingSet[['id','idaviso','idpostulante']]"
   ]
  },
  {
   "cell_type": "code",
   "execution_count": 21,
   "metadata": {},
   "outputs": [
    {
     "name": "stdout",
     "output_type": "stream",
     "text": [
      "<class 'pandas.core.frame.DataFrame'>\n",
      "Int64Index: 100000 entries, 0 to 99999\n",
      "Data columns (total 12 columns):\n",
      "nombre_area_code             100000 non-null float64\n",
      "denominacion_empresa_code    100000 non-null float64\n",
      "nivel_laboral_code           100000 non-null float64\n",
      "tipo_de_trabajo_code         100000 non-null float64\n",
      "nombre_zona_code             100000 non-null float64\n",
      "edad                         100000 non-null float64\n",
      "estado_code                  100000 non-null float64\n",
      "sexo_code                    100000 non-null float64\n",
      "nombre_code                  100000 non-null float64\n",
      "id                           100000 non-null int64\n",
      "idaviso                      100000 non-null int64\n",
      "idpostulante                 100000 non-null object\n",
      "dtypes: float64(9), int64(2), object(1)\n",
      "memory usage: 9.9+ MB\n"
     ]
    }
   ],
   "source": [
    "imputed_DF_mean.info()"
   ]
  },
  {
   "cell_type": "code",
   "execution_count": 22,
   "metadata": {},
   "outputs": [
    {
     "name": "stdout",
     "output_type": "stream",
     "text": [
      "<class 'pandas.core.frame.DataFrame'>\n",
      "Int64Index: 100000 entries, 0 to 99999\n",
      "Data columns (total 12 columns):\n",
      "nombre_area_code             100000 non-null float64\n",
      "denominacion_empresa_code    100000 non-null float64\n",
      "nivel_laboral_code           100000 non-null float64\n",
      "tipo_de_trabajo_code         100000 non-null float64\n",
      "nombre_zona_code             100000 non-null float64\n",
      "edad                         100000 non-null float64\n",
      "estado_code                  100000 non-null float64\n",
      "sexo_code                    100000 non-null float64\n",
      "nombre_code                  100000 non-null float64\n",
      "id                           100000 non-null int64\n",
      "idaviso                      100000 non-null int64\n",
      "idpostulante                 100000 non-null object\n",
      "dtypes: float64(9), int64(2), object(1)\n",
      "memory usage: 9.9+ MB\n"
     ]
    }
   ],
   "source": [
    "imputed_DF_median[['id','idaviso','idpostulante']] = testingSet[['id','idaviso','idpostulante']]\n",
    "imputed_DF_median.info()"
   ]
  },
  {
   "cell_type": "code",
   "execution_count": 23,
   "metadata": {},
   "outputs": [
    {
     "name": "stdout",
     "output_type": "stream",
     "text": [
      "<class 'pandas.core.frame.DataFrame'>\n",
      "Int64Index: 100000 entries, 0 to 99999\n",
      "Data columns (total 12 columns):\n",
      "nombre_area_code             100000 non-null float64\n",
      "denominacion_empresa_code    100000 non-null float64\n",
      "nivel_laboral_code           100000 non-null float64\n",
      "tipo_de_trabajo_code         100000 non-null float64\n",
      "nombre_zona_code             100000 non-null float64\n",
      "edad                         100000 non-null float64\n",
      "estado_code                  100000 non-null float64\n",
      "sexo_code                    100000 non-null float64\n",
      "nombre_code                  100000 non-null float64\n",
      "id                           100000 non-null int64\n",
      "idaviso                      100000 non-null int64\n",
      "idpostulante                 100000 non-null object\n",
      "dtypes: float64(9), int64(2), object(1)\n",
      "memory usage: 9.9+ MB\n"
     ]
    }
   ],
   "source": [
    "imputed_DF_most_frequent[['id','idaviso','idpostulante']] = testingSet[['id','idaviso','idpostulante']]\n",
    "imputed_DF_most_frequent.info()"
   ]
  },
  {
   "cell_type": "markdown",
   "metadata": {},
   "source": [
    "# A csvs"
   ]
  },
  {
   "cell_type": "code",
   "execution_count": 25,
   "metadata": {},
   "outputs": [],
   "source": [
    "imputed_DF_mean.to_csv('TestingSets/testingSet_imp_mean.csv')"
   ]
  },
  {
   "cell_type": "code",
   "execution_count": 26,
   "metadata": {},
   "outputs": [],
   "source": [
    "imputed_DF_median.to_csv('TestingSets/testingSet_imp_median.csv')"
   ]
  },
  {
   "cell_type": "code",
   "execution_count": 27,
   "metadata": {},
   "outputs": [],
   "source": [
    "imputed_DF_most_frequent.to_csv('TestingSets/testingSet_imp_most_frequent.csv')"
   ]
  }
 ],
 "metadata": {
  "kernelspec": {
   "display_name": "Python 3",
   "language": "python",
   "name": "python3"
  },
  "language_info": {
   "codemirror_mode": {
    "name": "ipython",
    "version": 3
   },
   "file_extension": ".py",
   "mimetype": "text/x-python",
   "name": "python",
   "nbconvert_exporter": "python",
   "pygments_lexer": "ipython3",
   "version": "3.6.5"
  }
 },
 "nbformat": 4,
 "nbformat_minor": 2
}
