{
 "cells": [
  {
   "cell_type": "code",
   "execution_count": 1,
   "metadata": {},
   "outputs": [],
   "source": [
    "import pandas as pd\n",
    "from pandas.api.types import CategoricalDtype\n",
    "import time\n",
    "from datetime import datetime\n",
    "import scipy.spatial\n",
    "import numpy as np\n",
    "from sklearn.preprocessing import LabelEncoder"
   ]
  },
  {
   "cell_type": "code",
   "execution_count": 2,
   "metadata": {},
   "outputs": [],
   "source": [
    "dtypes = pd.Series({'idaviso': np.dtype('uint32'), 'idpostulante': np.dtype('object')})\n",
    "\n",
    "dtypes_col = dtypes.index\n",
    "dtypes_type = [i.name for i in dtypes.values]\n",
    "\n",
    "column_types = dict(zip(dtypes_col, dtypes_type))\n",
    "postulaciones = pd.read_csv('/home/fabrizio/env/NaventDatosTP/Data/Postulaciones/Postulaciones-merge.csv',\n",
    "                            dtype=column_types,parse_dates=['fechapostulacion'],infer_datetime_format=True)\n",
    "postulaciones = postulaciones.drop(columns=['Unnamed: 0','fechapostulacion'])"
   ]
  },
  {
   "cell_type": "code",
   "execution_count": 3,
   "metadata": {},
   "outputs": [
    {
     "name": "stdout",
     "output_type": "stream",
     "text": [
      "<class 'pandas.core.frame.DataFrame'>\n",
      "RangeIndex: 6603752 entries, 0 to 6603751\n",
      "Data columns (total 2 columns):\n",
      "idaviso         uint32\n",
      "idpostulante    object\n",
      "dtypes: object(1), uint32(1)\n",
      "memory usage: 75.6+ MB\n"
     ]
    }
   ],
   "source": [
    "postulaciones.info()"
   ]
  },
  {
   "cell_type": "code",
   "execution_count": 4,
   "metadata": {},
   "outputs": [],
   "source": [
    "dtypes = pd.Series({'idpostulante': np.dtype('object'), 'sexo': CategoricalDtype(categories=['FEM', 'MASC', 'NO_DECLARA'], ordered=False)})\n",
    "\n",
    "dtypes_col = dtypes.index\n",
    "dtypes_type = [i.name for i in dtypes.values]\n",
    "\n",
    "column_types = dict(zip(dtypes_col, dtypes_type))\n",
    "\n",
    "postulantes_genero_edad = pd.read_csv('/home/fabrizio/env/NaventDatosTP/Data/Postulantes-Genero-Edad/postulantes_genero_y_edad-merge.csv',\n",
    "                                    dtype=column_types,parse_dates=['fechanacimiento'],\n",
    "                                      infer_datetime_format=True)\n",
    "#postulantes_genero_edad = postulantes_genero_edad.drop(columns=['Unnamed: 0'],axis=1)\n",
    "#postulantes_genero_edad"
   ]
  },
  {
   "cell_type": "code",
   "execution_count": 6,
   "metadata": {},
   "outputs": [],
   "source": [
    "dtypes = pd.Series({'estado': CategoricalDtype(categories=['Abandonado', 'En Curso', 'Graduado'], ordered=False), 'idpostulante': np.dtype('object'),\n",
    "                    'nombre': CategoricalDtype(categories=['Doctorado', 'Master', 'Otro', 'Posgrado', 'Secundario',\n",
    "                  'Terciario/Técnico', 'Universitario'],\n",
    "                 ordered=False)})\n",
    "\n",
    "\n",
    "dtypes_col = dtypes.index\n",
    "dtypes_type = [i.name for i in dtypes.values]\n",
    "\n",
    "column_types = dict(zip(dtypes_col, dtypes_type))\n",
    "\n",
    "postulantes_educacion = pd.read_csv('/home/fabrizio/env/NaventDatosTP/Data/Postulantes-Educacion/postulantes_educacion-merge.csv',\n",
    "                                    dtype=column_types)\n",
    "postulantes_educacion = postulantes_educacion.drop(columns=['nombre_numerico'])"
   ]
  },
  {
   "cell_type": "code",
   "execution_count": 7,
   "metadata": {},
   "outputs": [],
   "source": [
    "#Hago un merge de educacion y genero-edad\n",
    "postulantes_merge = pd.merge(postulantes_genero_edad,postulantes_educacion,how='left',on='idpostulante')"
   ]
  },
  {
   "cell_type": "code",
   "execution_count": 8,
   "metadata": {},
   "outputs": [
    {
     "name": "stdout",
     "output_type": "stream",
     "text": [
      "<class 'pandas.core.frame.DataFrame'>\n",
      "Int64Index: 504400 entries, 0 to 504399\n",
      "Data columns (total 6 columns):\n",
      "idpostulante       504400 non-null object\n",
      "fechanacimiento    504400 non-null object\n",
      "sexo               504400 non-null category\n",
      "sexo_numerico      504400 non-null int64\n",
      "nombre             447906 non-null category\n",
      "estado             447906 non-null category\n",
      "dtypes: category(3), int64(1), object(2)\n",
      "memory usage: 16.8+ MB\n"
     ]
    }
   ],
   "source": [
    "postulantes_merge.info()"
   ]
  },
  {
   "cell_type": "code",
   "execution_count": 9,
   "metadata": {},
   "outputs": [
    {
     "data": {
      "text/html": [
       "<div>\n",
       "<style scoped>\n",
       "    .dataframe tbody tr th:only-of-type {\n",
       "        vertical-align: middle;\n",
       "    }\n",
       "\n",
       "    .dataframe tbody tr th {\n",
       "        vertical-align: top;\n",
       "    }\n",
       "\n",
       "    .dataframe thead th {\n",
       "        text-align: right;\n",
       "    }\n",
       "</style>\n",
       "<table border=\"1\" class=\"dataframe\">\n",
       "  <thead>\n",
       "    <tr style=\"text-align: right;\">\n",
       "      <th></th>\n",
       "      <th>idpostulante</th>\n",
       "      <th>fechanacimiento</th>\n",
       "      <th>sexo</th>\n",
       "      <th>sexo_numerico</th>\n",
       "      <th>nombre</th>\n",
       "      <th>estado</th>\n",
       "    </tr>\n",
       "  </thead>\n",
       "  <tbody>\n",
       "    <tr>\n",
       "      <th>0</th>\n",
       "      <td>zvxzzL6</td>\n",
       "      <td>1989-08-31</td>\n",
       "      <td>MASC</td>\n",
       "      <td>2</td>\n",
       "      <td>Secundario</td>\n",
       "      <td>Graduado</td>\n",
       "    </tr>\n",
       "    <tr>\n",
       "      <th>1</th>\n",
       "      <td>zvxzvD5</td>\n",
       "      <td>1994-10-10</td>\n",
       "      <td>FEM</td>\n",
       "      <td>1</td>\n",
       "      <td>Terciario/Técnico</td>\n",
       "      <td>En Curso</td>\n",
       "    </tr>\n",
       "    <tr>\n",
       "      <th>2</th>\n",
       "      <td>zvxzrWm</td>\n",
       "      <td>1981-11-30</td>\n",
       "      <td>MASC</td>\n",
       "      <td>2</td>\n",
       "      <td>Universitario</td>\n",
       "      <td>Graduado</td>\n",
       "    </tr>\n",
       "    <tr>\n",
       "      <th>3</th>\n",
       "      <td>zvxzmED</td>\n",
       "      <td>1999-04-09</td>\n",
       "      <td>FEM</td>\n",
       "      <td>1</td>\n",
       "      <td>Secundario</td>\n",
       "      <td>Graduado</td>\n",
       "    </tr>\n",
       "    <tr>\n",
       "      <th>4</th>\n",
       "      <td>zvxzld5</td>\n",
       "      <td>1997-12-17</td>\n",
       "      <td>MASC</td>\n",
       "      <td>2</td>\n",
       "      <td>NaN</td>\n",
       "      <td>NaN</td>\n",
       "    </tr>\n",
       "  </tbody>\n",
       "</table>\n",
       "</div>"
      ],
      "text/plain": [
       "  idpostulante fechanacimiento  sexo  sexo_numerico             nombre  \\\n",
       "0      zvxzzL6      1989-08-31  MASC              2         Secundario   \n",
       "1      zvxzvD5      1994-10-10   FEM              1  Terciario/Técnico   \n",
       "2      zvxzrWm      1981-11-30  MASC              2      Universitario   \n",
       "3      zvxzmED      1999-04-09   FEM              1         Secundario   \n",
       "4      zvxzld5      1997-12-17  MASC              2                NaN   \n",
       "\n",
       "     estado  \n",
       "0  Graduado  \n",
       "1  En Curso  \n",
       "2  Graduado  \n",
       "3  Graduado  \n",
       "4       NaN  "
      ]
     },
     "execution_count": 9,
     "metadata": {},
     "output_type": "execute_result"
    }
   ],
   "source": [
    "postulantes_merge.head()"
   ]
  },
  {
   "cell_type": "code",
   "execution_count": 10,
   "metadata": {},
   "outputs": [],
   "source": [
    "#Voy a agregar una columna con la edad ya calculada(estimando por 2017-año nacimiento) para cada registro\n",
    "postulantes_merge[\"año\"] = postulantes_merge[postulantes_merge[\"fechanacimiento\"] != 'nan']\\\n",
    "        [\"fechanacimiento\"].apply(lambda x: x[0:4])\n",
    "postulantes_merge[\"edad\"] = postulantes_merge[postulantes_merge[\"año\"].notna()] \\\n",
    "        [\"año\"].apply(lambda x: 2017 - int(x))"
   ]
  },
  {
   "cell_type": "code",
   "execution_count": 11,
   "metadata": {},
   "outputs": [],
   "source": [
    "#Elimino columna fechanacimiento y año que ya no me sirven\n",
    "postulantes_merge = postulantes_merge.drop(columns=['fechanacimiento','año'])"
   ]
  },
  {
   "cell_type": "code",
   "execution_count": 12,
   "metadata": {},
   "outputs": [
    {
     "name": "stdout",
     "output_type": "stream",
     "text": [
      "<class 'pandas.core.frame.DataFrame'>\n",
      "Int64Index: 504400 entries, 0 to 504399\n",
      "Data columns (total 6 columns):\n",
      "idpostulante     504400 non-null object\n",
      "sexo             504400 non-null category\n",
      "sexo_numerico    504400 non-null int64\n",
      "nombre           447906 non-null category\n",
      "estado           447906 non-null category\n",
      "edad             478315 non-null float64\n",
      "dtypes: category(3), float64(1), int64(1), object(1)\n",
      "memory usage: 16.8+ MB\n"
     ]
    }
   ],
   "source": [
    "postulantes_merge.info()"
   ]
  },
  {
   "cell_type": "code",
   "execution_count": 13,
   "metadata": {},
   "outputs": [],
   "source": [
    "#Elimino NaNs\n",
    "postulantes_merge = postulantes_merge[postulantes_merge['nombre'].notnull() &\n",
    "                                     postulantes_merge['estado'].notnull() &\n",
    "                                     postulantes_merge['edad'].notnull()]"
   ]
  },
  {
   "cell_type": "code",
   "execution_count": 14,
   "metadata": {},
   "outputs": [
    {
     "name": "stdout",
     "output_type": "stream",
     "text": [
      "<class 'pandas.core.frame.DataFrame'>\n",
      "Int64Index: 438702 entries, 0 to 504399\n",
      "Data columns (total 6 columns):\n",
      "idpostulante     438702 non-null object\n",
      "sexo             438702 non-null category\n",
      "sexo_numerico    438702 non-null int64\n",
      "nombre           438702 non-null category\n",
      "estado           438702 non-null category\n",
      "edad             438702 non-null float64\n",
      "dtypes: category(3), float64(1), int64(1), object(1)\n",
      "memory usage: 14.6+ MB\n"
     ]
    }
   ],
   "source": [
    "postulantes_merge.info()"
   ]
  },
  {
   "cell_type": "code",
   "execution_count": 15,
   "metadata": {},
   "outputs": [],
   "source": [
    "#Vamos a codificar cada columna que sea de strings\n",
    "lb_make1 = LabelEncoder()\n",
    "postulantes_merge[\"estado_code\"] = lb_make1.fit_transform(postulantes_merge[\"estado\"])\n",
    "\n",
    "lb_make2 = LabelEncoder()\n",
    "postulantes_merge[\"sexo_code\"] = lb_make2.fit_transform(postulantes_merge[\"sexo\"])\n",
    "\n",
    "lb_make3 = LabelEncoder()\n",
    "postulantes_merge[\"nombre_code\"] = lb_make3.fit_transform(postulantes_merge[\"nombre\"])\n",
    "\n",
    "postulantes_merge.drop(columns=['sexo','nombre','estado'],inplace=True)\n",
    "postulantes_merge[['sexo_code','nombre_code','estado_code','edad']] = postulantes_merge[['sexo_code','nombre_code','estado_code','edad']].apply(pd.to_numeric,downcast='unsigned')"
   ]
  },
  {
   "cell_type": "code",
   "execution_count": 16,
   "metadata": {},
   "outputs": [
    {
     "name": "stdout",
     "output_type": "stream",
     "text": [
      "<class 'pandas.core.frame.DataFrame'>\n",
      "Int64Index: 438702 entries, 0 to 504399\n",
      "Data columns (total 6 columns):\n",
      "idpostulante     438702 non-null object\n",
      "sexo_numerico    438702 non-null int64\n",
      "edad             438702 non-null uint16\n",
      "estado_code      438702 non-null uint8\n",
      "sexo_code        438702 non-null uint8\n",
      "nombre_code      438702 non-null uint8\n",
      "dtypes: int64(1), object(1), uint16(1), uint8(3)\n",
      "memory usage: 12.1+ MB\n"
     ]
    }
   ],
   "source": [
    "postulantes_merge.info()"
   ]
  },
  {
   "cell_type": "code",
   "execution_count": 17,
   "metadata": {},
   "outputs": [],
   "source": [
    "postulantes_merge.to_csv('/home/fabrizio/env/NaventDatosTP/Data/POSTULANTES_FINAL.csv')"
   ]
  }
 ],
 "metadata": {
  "kernelspec": {
   "display_name": "Python 3",
   "language": "python",
   "name": "python3"
  },
  "language_info": {
   "codemirror_mode": {
    "name": "ipython",
    "version": 3
   },
   "file_extension": ".py",
   "mimetype": "text/x-python",
   "name": "python",
   "nbconvert_exporter": "python",
   "pygments_lexer": "ipython3",
   "version": "3.6.5"
  }
 },
 "nbformat": 4,
 "nbformat_minor": 2
}
