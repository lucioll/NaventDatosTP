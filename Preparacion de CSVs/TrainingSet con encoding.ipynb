{
 "cells": [
  {
   "cell_type": "code",
   "execution_count": 1,
   "metadata": {},
   "outputs": [],
   "source": [
    "import pandas as pd\n",
    "from pandas.api.types import CategoricalDtype\n",
    "import time\n",
    "from datetime import datetime\n",
    "import scipy.spatial\n",
    "import numpy as np"
   ]
  },
  {
   "cell_type": "markdown",
   "metadata": {},
   "source": [
    "# Postulaciones (se_postulo = 1)"
   ]
  },
  {
   "cell_type": "code",
   "execution_count": 3,
   "metadata": {},
   "outputs": [],
   "source": [
    "dtypes = pd.Series({'idaviso': np.dtype('uint32'), 'idpostulante': np.dtype('object')})\n",
    "\n",
    "dtypes_col = dtypes.index\n",
    "dtypes_type = [i.name for i in dtypes.values]\n",
    "\n",
    "column_types = dict(zip(dtypes_col, dtypes_type))\n",
    "postulaciones = pd.read_csv('/home/lucio/Documentos/Datos/NaventDatosTP/Data/Postulaciones/Postulaciones-merge.csv',\n",
    "                            dtype=column_types,parse_dates=['fechapostulacion'],infer_datetime_format=True)\n",
    "postulaciones['se_postulo'] = 1\n",
    "postulaciones['se_postulo'] = postulaciones[['se_postulo']].apply(pd.to_numeric,downcast='unsigned')\n",
    "postulaciones = postulaciones.drop(columns=['Unnamed: 0','fechapostulacion'])"
   ]
  },
  {
   "cell_type": "code",
   "execution_count": 3,
   "metadata": {},
   "outputs": [
    {
     "name": "stdout",
     "output_type": "stream",
     "text": [
      "<class 'pandas.core.frame.DataFrame'>\n",
      "RangeIndex: 6603752 entries, 0 to 6603751\n",
      "Data columns (total 3 columns):\n",
      "idaviso         uint32\n",
      "idpostulante    object\n",
      "se_postulo      uint8\n",
      "dtypes: object(1), uint32(1), uint8(1)\n",
      "memory usage: 81.9+ MB\n"
     ]
    }
   ],
   "source": [
    "postulaciones.info()"
   ]
  },
  {
   "cell_type": "markdown",
   "metadata": {},
   "source": [
    "# Vistas (se_postulo = 0)"
   ]
  },
  {
   "cell_type": "code",
   "execution_count": 4,
   "metadata": {},
   "outputs": [],
   "source": [
    "dtypes = pd.Series({'idAviso': np.dtype('uint32'), 'idpostulante': np.dtype('object')})\n",
    "\n",
    "dtypes_col = dtypes.index\n",
    "dtypes_type = [i.name for i in dtypes.values]\n",
    "\n",
    "column_types = dict(zip(dtypes_col, dtypes_type))\n",
    "\n",
    "vistas = pd.read_csv('/home/lucio/Documentos/Datos/NaventDatosTP/Data/Vistas/Vistas-merge.csv',dtype=column_types,parse_dates=['timestamp'],\n",
    "                     infer_datetime_format=True)\n",
    "vistas = vistas.drop(columns=['Unnamed: 0'])\n",
    "#Considero unica vista de aviso por postulante (no me importa ni horario ni cantidad solo que lo vea)\n",
    "vistas.drop(columns=['timestamp'],inplace=True)\n",
    "vistas.drop_duplicates(subset=['idAviso','idpostulante'],inplace=True)\n",
    "vistas['se_postulo'] = 0\n",
    "vistas['se_postulo'] = vistas[['se_postulo']].apply(pd.to_numeric,downcast='unsigned')\n",
    "vistas.rename(index=str,columns={'idAviso':'idaviso'},inplace=True)"
   ]
  },
  {
   "cell_type": "code",
   "execution_count": 5,
   "metadata": {},
   "outputs": [
    {
     "name": "stdout",
     "output_type": "stream",
     "text": [
      "<class 'pandas.core.frame.DataFrame'>\n",
      "Index: 8597915 entries, 0 to 8597914\n",
      "Data columns (total 3 columns):\n",
      "idaviso         uint32\n",
      "idpostulante    object\n",
      "se_postulo      uint8\n",
      "dtypes: object(1), uint32(1), uint8(1)\n",
      "memory usage: 172.2+ MB\n"
     ]
    }
   ],
   "source": [
    "vistas.info()"
   ]
  },
  {
   "cell_type": "markdown",
   "metadata": {},
   "source": [
    "# Outer merge"
   ]
  },
  {
   "cell_type": "code",
   "execution_count": 5,
   "metadata": {},
   "outputs": [],
   "source": [
    "#Puede que haya vistas que enrealidad el postulante luego se postulo asi que verifico con el dataset merge\n",
    "outer = pd.merge(postulaciones,vistas,how='outer',on=['idaviso','idpostulante'])"
   ]
  },
  {
   "cell_type": "code",
   "execution_count": 7,
   "metadata": {},
   "outputs": [
    {
     "data": {
      "text/plain": [
       "idaviso               0\n",
       "idpostulante          0\n",
       "se_postulo_x    6823880\n",
       "se_postulo_y    4829717\n",
       "dtype: int64"
      ]
     },
     "execution_count": 7,
     "metadata": {},
     "output_type": "execute_result"
    }
   ],
   "source": [
    "outer.isnull().sum()"
   ]
  },
  {
   "cell_type": "markdown",
   "metadata": {},
   "source": [
    "# Agrego informacion de postulantes"
   ]
  },
  {
   "cell_type": "code",
   "execution_count": 8,
   "metadata": {},
   "outputs": [],
   "source": [
    "postulantes_final = pd.read_csv('/home/fabrizio/env/NaventDatosTP/Data/POSTULANTES_FINAL.csv')\n",
    "postulantes_final = postulantes_final.drop(columns=['Unnamed: 0'])\n",
    "#postulantes_final"
   ]
  },
  {
   "cell_type": "code",
   "execution_count": 9,
   "metadata": {},
   "outputs": [
    {
     "name": "stdout",
     "output_type": "stream",
     "text": [
      "<class 'pandas.core.frame.DataFrame'>\n",
      "RangeIndex: 438702 entries, 0 to 438701\n",
      "Data columns (total 6 columns):\n",
      "idpostulante     438702 non-null object\n",
      "sexo_numerico    438702 non-null int64\n",
      "edad             438702 non-null int64\n",
      "estado_code      438702 non-null int64\n",
      "sexo_code        438702 non-null int64\n",
      "nombre_code      438702 non-null int64\n",
      "dtypes: int64(5), object(1)\n",
      "memory usage: 20.1+ MB\n"
     ]
    }
   ],
   "source": [
    "postulantes_final.info()"
   ]
  },
  {
   "cell_type": "code",
   "execution_count": 10,
   "metadata": {},
   "outputs": [],
   "source": [
    "outer = pd.merge(outer,postulantes_final,how='left',on='idpostulante')"
   ]
  },
  {
   "cell_type": "code",
   "execution_count": 11,
   "metadata": {},
   "outputs": [
    {
     "name": "stdout",
     "output_type": "stream",
     "text": [
      "<class 'pandas.core.frame.DataFrame'>\n",
      "Int64Index: 13427632 entries, 0 to 13427631\n",
      "Data columns (total 9 columns):\n",
      "idaviso          uint64\n",
      "idpostulante     object\n",
      "se_postulo_x     float64\n",
      "se_postulo_y     float64\n",
      "sexo_numerico    float64\n",
      "edad             float64\n",
      "estado_code      float64\n",
      "sexo_code        float64\n",
      "nombre_code      float64\n",
      "dtypes: float64(7), object(1), uint64(1)\n",
      "memory usage: 1.0+ GB\n"
     ]
    }
   ],
   "source": [
    "outer.info()"
   ]
  },
  {
   "cell_type": "code",
   "execution_count": 12,
   "metadata": {},
   "outputs": [
    {
     "name": "stdout",
     "output_type": "stream",
     "text": [
      "<class 'pandas.core.frame.DataFrame'>\n",
      "Int64Index: 10592264 entries, 0 to 13427631\n",
      "Data columns (total 9 columns):\n",
      "idaviso          uint64\n",
      "idpostulante     object\n",
      "se_postulo_x     float64\n",
      "se_postulo_y     float64\n",
      "sexo_numerico    float64\n",
      "edad             uint16\n",
      "estado_code      uint8\n",
      "sexo_code        uint8\n",
      "nombre_code      uint8\n",
      "dtypes: float64(3), object(1), uint16(1), uint64(1), uint8(3)\n",
      "memory usage: 535.4+ MB\n"
     ]
    }
   ],
   "source": [
    "#Me quedo con los registros con todos los datos (por ahora desp ver si se puede usar imputing)\n",
    "outer = outer[outer['nombre_code'].notnull() &\n",
    "                                    outer['estado_code'].notnull() & \n",
    "                                    outer['edad'].notnull()]\n",
    "outer = outer[outer['nombre_code'].notnull() &\n",
    "                                    outer['estado_code'].notnull()]\n",
    "outer[['edad','estado_code','sexo_code','nombre_code']] = outer[['edad','estado_code','sexo_code','nombre_code']].apply(pd.to_numeric,downcast='unsigned')\n",
    "outer.info()"
   ]
  },
  {
   "cell_type": "markdown",
   "metadata": {},
   "source": [
    "# Agrego informacion de avisos"
   ]
  },
  {
   "cell_type": "code",
   "execution_count": 13,
   "metadata": {},
   "outputs": [],
   "source": [
    "avisos = pd.read_csv('/home/fabrizio/env/NaventDatosTP/Data/optimized_avisos_detalle.csv')\n",
    "avisos.drop(columns=['Unnamed: 0'],axis=1,inplace=True)"
   ]
  },
  {
   "cell_type": "code",
   "execution_count": 14,
   "metadata": {},
   "outputs": [
    {
     "data": {
      "text/plain": [
       "idaviso                      0\n",
       "nombre_area_code             0\n",
       "denominacion_empresa_code    0\n",
       "nivel_laboral_code           0\n",
       "tipo_de_trabajo_code         0\n",
       "nombre_zona_code             0\n",
       "dtype: int64"
      ]
     },
     "execution_count": 14,
     "metadata": {},
     "output_type": "execute_result"
    }
   ],
   "source": [
    "avisos.isnull().sum()"
   ]
  },
  {
   "cell_type": "code",
   "execution_count": 15,
   "metadata": {},
   "outputs": [],
   "source": [
    "#Hago un merge de avisos y outer\n",
    "outer = pd.merge(outer,avisos,how='left',on='idaviso')"
   ]
  },
  {
   "cell_type": "code",
   "execution_count": 16,
   "metadata": {},
   "outputs": [
    {
     "name": "stdout",
     "output_type": "stream",
     "text": [
      "<class 'pandas.core.frame.DataFrame'>\n",
      "Int64Index: 10592264 entries, 0 to 10592263\n",
      "Data columns (total 14 columns):\n",
      "idaviso                      uint64\n",
      "idpostulante                 object\n",
      "se_postulo_x                 float64\n",
      "se_postulo_y                 float64\n",
      "sexo_numerico                float64\n",
      "edad                         uint16\n",
      "estado_code                  uint8\n",
      "sexo_code                    uint8\n",
      "nombre_code                  uint8\n",
      "nombre_area_code             float64\n",
      "denominacion_empresa_code    float64\n",
      "nivel_laboral_code           float64\n",
      "tipo_de_trabajo_code         float64\n",
      "nombre_zona_code             float64\n",
      "dtypes: float64(8), object(1), uint16(1), uint64(1), uint8(3)\n",
      "memory usage: 939.4+ MB\n"
     ]
    }
   ],
   "source": [
    "outer[['nombre_area_code','denominacion_empresa_code','nivel_laboral_code','tipo_de_trabajo_code',\n",
    "                'nombre_zona_code']] = outer[['nombre_area_code','denominacion_empresa_code','nivel_laboral_code','tipo_de_trabajo_code',\n",
    "                'nombre_zona_code']].apply(pd.to_numeric,downcast='unsigned')\n",
    "outer.info()"
   ]
  },
  {
   "cell_type": "code",
   "execution_count": 18,
   "metadata": {},
   "outputs": [
    {
     "data": {
      "text/plain": [
       "idaviso                            0\n",
       "idpostulante                       0\n",
       "se_postulo_x                 4261998\n",
       "se_postulo_y                 4652238\n",
       "sexo_numerico                      0\n",
       "edad                               0\n",
       "estado_code                        0\n",
       "sexo_code                          0\n",
       "nombre_code                        0\n",
       "nombre_area_code             1152300\n",
       "denominacion_empresa_code    1152300\n",
       "nivel_laboral_code           1152300\n",
       "tipo_de_trabajo_code         1152300\n",
       "nombre_zona_code             1152300\n",
       "dtype: int64"
      ]
     },
     "execution_count": 18,
     "metadata": {},
     "output_type": "execute_result"
    }
   ],
   "source": [
    "outer.isnull().sum()"
   ]
  },
  {
   "cell_type": "code",
   "execution_count": 19,
   "metadata": {},
   "outputs": [],
   "source": [
    "outer.drop('se_postulo_y',axis=1,inplace=True)\n",
    "outer.rename(index=str,columns={'se_postulo_x':'se_postulo'},inplace=True)"
   ]
  },
  {
   "cell_type": "code",
   "execution_count": 28,
   "metadata": {},
   "outputs": [],
   "source": [
    "outer['se_postulo'].fillna(0, inplace=True)"
   ]
  },
  {
   "cell_type": "code",
   "execution_count": 29,
   "metadata": {},
   "outputs": [
    {
     "data": {
      "text/plain": [
       "idaviso                            0\n",
       "idpostulante                       0\n",
       "se_postulo                         0\n",
       "sexo_numerico                      0\n",
       "edad                               0\n",
       "estado_code                        0\n",
       "sexo_code                          0\n",
       "nombre_code                        0\n",
       "nombre_area_code             1152300\n",
       "denominacion_empresa_code    1152300\n",
       "nivel_laboral_code           1152300\n",
       "tipo_de_trabajo_code         1152300\n",
       "nombre_zona_code             1152300\n",
       "dtype: int64"
      ]
     },
     "execution_count": 29,
     "metadata": {},
     "output_type": "execute_result"
    }
   ],
   "source": [
    "outer.isnull().sum()"
   ]
  },
  {
   "cell_type": "markdown",
   "metadata": {},
   "source": [
    "# Mas limpieza"
   ]
  },
  {
   "cell_type": "code",
   "execution_count": 30,
   "metadata": {},
   "outputs": [],
   "source": [
    "limpito = outer[outer['denominacion_empresa_code'].notnull() &\n",
    "                             outer['nivel_laboral_code'].notnull() &\n",
    "                             outer['nombre_area_code'].notnull() &\n",
    "                             outer['nombre_zona_code'].notnull() &\n",
    "                             outer['tipo_de_trabajo_code'].notnull() &\n",
    "                              outer['nombre_code'].notnull()]"
   ]
  },
  {
   "cell_type": "code",
   "execution_count": 31,
   "metadata": {},
   "outputs": [
    {
     "data": {
      "text/plain": [
       "idaviso                      0\n",
       "idpostulante                 0\n",
       "se_postulo                   0\n",
       "sexo_numerico                0\n",
       "edad                         0\n",
       "estado_code                  0\n",
       "sexo_code                    0\n",
       "nombre_code                  0\n",
       "nombre_area_code             0\n",
       "denominacion_empresa_code    0\n",
       "nivel_laboral_code           0\n",
       "tipo_de_trabajo_code         0\n",
       "nombre_zona_code             0\n",
       "dtype: int64"
      ]
     },
     "execution_count": 31,
     "metadata": {},
     "output_type": "execute_result"
    }
   ],
   "source": [
    "limpito.isnull().sum()"
   ]
  },
  {
   "cell_type": "code",
   "execution_count": 32,
   "metadata": {},
   "outputs": [],
   "source": [
    "limpito = limpito.drop_duplicates(subset=['idaviso','idpostulante'])"
   ]
  },
  {
   "cell_type": "code",
   "execution_count": 33,
   "metadata": {},
   "outputs": [
    {
     "data": {
      "text/plain": [
       "1.0    5934281\n",
       "0.0    3505683\n",
       "Name: se_postulo, dtype: int64"
      ]
     },
     "execution_count": 33,
     "metadata": {},
     "output_type": "execute_result"
    }
   ],
   "source": [
    "limpito.se_postulo.value_counts()"
   ]
  },
  {
   "cell_type": "code",
   "execution_count": 34,
   "metadata": {},
   "outputs": [
    {
     "data": {
      "text/plain": [
       "idaviso                      0\n",
       "idpostulante                 0\n",
       "se_postulo                   0\n",
       "sexo_numerico                0\n",
       "edad                         0\n",
       "estado_code                  0\n",
       "sexo_code                    0\n",
       "nombre_code                  0\n",
       "nombre_area_code             0\n",
       "denominacion_empresa_code    0\n",
       "nivel_laboral_code           0\n",
       "tipo_de_trabajo_code         0\n",
       "nombre_zona_code             0\n",
       "dtype: int64"
      ]
     },
     "execution_count": 34,
     "metadata": {},
     "output_type": "execute_result"
    }
   ],
   "source": [
    "limpito.isnull().sum()"
   ]
  },
  {
   "cell_type": "code",
   "execution_count": 35,
   "metadata": {},
   "outputs": [],
   "source": [
    "limpito.to_csv('/home/fabrizio/env/NaventDatosTP/Data/postulaciones_limpias.csv')"
   ]
  }
 ],
 "metadata": {
  "kernelspec": {
   "display_name": "Python 3",
   "language": "python",
   "name": "python3"
  },
  "language_info": {
   "codemirror_mode": {
    "name": "ipython",
    "version": 3
   },
   "file_extension": ".py",
   "mimetype": "text/x-python",
   "name": "python",
   "nbconvert_exporter": "python",
   "pygments_lexer": "ipython3",
   "version": "3.6.5"
  }
 },
 "nbformat": 4,
 "nbformat_minor": 2
}
