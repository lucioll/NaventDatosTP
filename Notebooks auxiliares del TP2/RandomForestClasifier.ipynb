{
 "cells": [
  {
   "cell_type": "code",
   "execution_count": null,
   "metadata": {
    "collapsed": true
   },
   "outputs": [],
   "source": [
    "import pandas as pd\n",
    "import numpy as np\n",
    "from pandas.api.types import CategoricalDtype\n",
    "import time\n",
    "from datetime import datetime\n",
    "import scipy.spatial\n",
    "import numpy as np\n",
    "from sklearn.preprocessing import LabelEncoder\n",
    "from sklearn import preprocessing\n",
    "from sklearn import model_selection\n",
    "from sklearn.discriminant_analysis import LinearDiscriminantAnalysis\n",
    "from sklearn.naive_bayes import GaussianNB\n",
    "from sklearn.svm import SVC\n",
    "from sklearn.model_selection import GridSearchCV\n",
    "from sklearn.model_selection import RandomizedSearchCV\n",
    "from sklearn.model_selection import cross_val_score\n",
    "from sklearn.linear_model import LinearRegression\n",
    "from sklearn.linear_model import Ridge\n",
    "from sklearn.linear_model import RidgeCV\n",
    "from sklearn.linear_model import Lasso\n",
    "from sklearn.linear_model import HuberRegressor \n",
    "from sklearn.linear_model import ElasticNet\n",
    "from sklearn.linear_model import LassoLars\n",
    "from sklearn.linear_model import OrthogonalMatchingPursuit\n",
    "from sklearn.linear_model import BayesianRidge\n",
    "from sklearn.ensemble import ExtraTreesRegressor\n",
    "from sklearn.ensemble import AdaBoostRegressor\n",
    "from sklearn.ensemble import RandomForestRegressor\n",
    "from sklearn.model_selection import train_test_split\n",
    "from sklearn.ensemble import GradientBoostingRegressor\n",
    "from sklearn.ensemble import AdaBoostRegressor\n",
    "from sklearn.tree import DecisionTreeRegressor"
   ]
  },
  {
   "cell_type": "markdown",
   "metadata": {},
   "source": [
    "# Training set"
   ]
  },
  {
   "cell_type": "code",
   "execution_count": null,
   "metadata": {
    "collapsed": true
   },
   "outputs": [],
   "source": [
    "dtypes = pd.Series({'idaviso': np.dtype('uint64'), 'idpostulante': np.dtype('object'),\n",
    "                   'se_postulo': np.dtype('uint8'), 'sexo_numerico': np.dtype('uint8'),\n",
    "                   'edad': np.dtype('uint16'), 'estado_code': np.dtype('uint8'),\n",
    "                   'sexo_code': np.dtype('uint8'), 'nombre_code': np.dtype('uint8'),\n",
    "                   'nombre_area_code': np.dtype('uint8'),\n",
    "                    'denominacion_empresa_code': np.dtype('uint16'),\n",
    "                   'nivel_laboral_code': np.dtype('uint8'),\n",
    "                   'tipo_de_trabajo_code': np.dtype('uint8'),\n",
    "                   'nombre_zona_code': np.dtype('uint8')})\n",
    "\n",
    "dtypes_col = dtypes.index\n",
    "dtypes_type = [i.name for i in dtypes.values]\n",
    "\n",
    "column_types = dict(zip(dtypes_col, dtypes_type))\n",
    "\n",
    "trainingSet = pd.read_csv('Data/trainingSet.csv',dtype=column_types)\n",
    "trainingSet.drop(['Unnamed: 0','sexo_numerico'],axis=1,inplace=True)\n",
    "#trainingSet.drop(inplace=True)"
   ]
  },
  {
   "cell_type": "code",
   "execution_count": null,
   "metadata": {},
   "outputs": [],
   "source": [
    "trainingSet.info()"
   ]
  },
  {
   "cell_type": "code",
   "execution_count": null,
   "metadata": {
    "collapsed": true
   },
   "outputs": [],
   "source": [
    "#Vamos a codificar la columna de idpostulantes\n",
    "lb_make1 = LabelEncoder()\n",
    "trainingSet[\"idpostulante_code\"] = lb_make1.fit_transform(trainingSet[\"idpostulante\"])"
   ]
  },
  {
   "cell_type": "code",
   "execution_count": null,
   "metadata": {
    "collapsed": true
   },
   "outputs": [],
   "source": [
    "trainingSet.drop('idpostulante',axis=1,inplace=True) #No sirve para el algoritmo de ML"
   ]
  },
  {
   "cell_type": "markdown",
   "metadata": {},
   "source": [
    "# Inicio de Machine Learning"
   ]
  },
  {
   "cell_type": "code",
   "execution_count": null,
   "metadata": {
    "collapsed": true
   },
   "outputs": [],
   "source": [
    "columnas = ['idaviso','idpostulante_code','edad', 'estado_code', 'sexo_code',\n",
    "       'nombre_code', 'nombre_area_code', 'denominacion_empresa_code',\n",
    "       'nivel_laboral_code', 'tipo_de_trabajo_code', 'nombre_zona_code']"
   ]
  },
  {
   "cell_type": "code",
   "execution_count": null,
   "metadata": {
    "collapsed": true
   },
   "outputs": [],
   "source": [
    "columnas_corr = ['sexo_code','nivel_laboral_code','estado_code','nombre_zona_code','idpostulante_code',\n",
    "                 'idaviso','nombre_area_code']"
   ]
  },
  {
   "cell_type": "markdown",
   "metadata": {},
   "source": [
    "## Random Forest Clasificador"
   ]
  },
  {
   "cell_type": "code",
   "execution_count": null,
   "metadata": {},
   "outputs": [],
   "source": [
    "from sklearn.ensemble import RandomForestClassifier\n",
    "set_pruebas = trainingSet\n",
    "\n",
    "X,y = trainingSet,trainingSet.se_postulo\n",
    "X = X[columnas]\n",
    "\n",
    "random_forest = RandomForestClassifier()\n",
    "random_forest.fit(X,y)\n",
    "precission = random_forest.score(X,y) * 100\n",
    "mse = np.mean(cross_val_score(random_forest, X, y,scoring='neg_mean_squared_error', cv=15,  n_jobs=1))\n",
    "print(\"Method name = {}\".format(\"RandomForestClassifier\"))\n",
    "print ('Mean squared error: {}'.format(abs(mse)))\n",
    "print ('Precission: {:.2f} %'. format(abs(precission)))"
   ]
  },
  {
   "cell_type": "code",
   "execution_count": null,
   "metadata": {
    "collapsed": true
   },
   "outputs": [],
   "source": []
  }
 ],
 "metadata": {
  "kernelspec": {
   "display_name": "Python 3",
   "language": "python",
   "name": "python3"
  },
  "language_info": {
   "codemirror_mode": {
    "name": "ipython",
    "version": 3
   },
   "file_extension": ".py",
   "mimetype": "text/x-python",
   "name": "python",
   "nbconvert_exporter": "python",
   "pygments_lexer": "ipython3",
   "version": "3.6.1"
  }
 },
 "nbformat": 4,
 "nbformat_minor": 2
}
