{
 "cells": [
  {
   "cell_type": "code",
   "execution_count": 1,
   "metadata": {},
   "outputs": [],
   "source": [
    "import pandas as pd\n",
    "import numpy as np\n",
    "import xgboost as xgb\n",
    "from sklearn.metrics import mean_squared_error\n",
    "from sklearn.metrics import classification_report\n",
    "from sklearn.preprocessing import LabelEncoder\n",
    "from pandas.api.types import CategoricalDtype"
   ]
  },
  {
   "cell_type": "code",
   "execution_count": 2,
   "metadata": {},
   "outputs": [],
   "source": [
    "dtypes = pd.Series({'sepostulo': np.dtype('uint8'),'edad': np.dtype('uint16')})\n",
    "\n",
    "dtypes_col = dtypes.index\n",
    "dtypes_type = [i.name for i in dtypes.values]\n",
    "\n",
    "column_types = dict(zip(dtypes_col, dtypes_type))\n",
    "\n",
    "trainingSet = pd.read_csv('/home/fabrizio/env/NaventDatosTP/Data/TRAINING_SET_SIN_ENCODING.csv',dtype=column_types)\n",
    "trainingSet.drop(['Unnamed: 0','denominacion_empresa'],axis=1,inplace=True)\n",
    "\n",
    "for col in ['sexo', 'nombre', 'estado', 'nombre_zona',\n",
    "            'tipo_de_trabajo','nivel_laboral','nombre_area']:\n",
    "    trainingSet[col] = trainingSet[col].astype('category')"
   ]
  },
  {
   "cell_type": "code",
   "execution_count": 3,
   "metadata": {},
   "outputs": [
    {
     "name": "stdout",
     "output_type": "stream",
     "text": [
      "<class 'pandas.core.frame.DataFrame'>\n",
      "RangeIndex: 9439964 entries, 0 to 9439963\n",
      "Data columns (total 9 columns):\n",
      "sepostulo          uint8\n",
      "sexo               category\n",
      "nombre             category\n",
      "estado             category\n",
      "edad               uint16\n",
      "nombre_zona        category\n",
      "tipo_de_trabajo    category\n",
      "nivel_laboral      category\n",
      "nombre_area        category\n",
      "dtypes: category(7), uint16(1), uint8(1)\n",
      "memory usage: 99.0 MB\n"
     ]
    }
   ],
   "source": [
    "trainingSet.info()"
   ]
  },
  {
   "cell_type": "markdown",
   "metadata": {},
   "source": [
    "# Me quedo con 500K de registros random"
   ]
  },
  {
   "cell_type": "code",
   "execution_count": 6,
   "metadata": {},
   "outputs": [],
   "source": [
    "trainingSet_samples = trainingSet.sample(n=2000000,random_state=50)"
   ]
  },
  {
   "cell_type": "code",
   "execution_count": 7,
   "metadata": {},
   "outputs": [
    {
     "data": {
      "text/plain": [
       "1    1256729\n",
       "0     743271\n",
       "Name: sepostulo, dtype: int64"
      ]
     },
     "execution_count": 7,
     "metadata": {},
     "output_type": "execute_result"
    }
   ],
   "source": [
    "trainingSet_samples['sepostulo'].value_counts()"
   ]
  },
  {
   "cell_type": "markdown",
   "metadata": {},
   "source": [
    "# Hago dummificacion"
   ]
  },
  {
   "cell_type": "code",
   "execution_count": 8,
   "metadata": {},
   "outputs": [],
   "source": [
    "trainingSet_samples = trainingSet_samples.join(pd.get_dummies(trainingSet_samples.sexo))\n",
    "\n",
    "trainingSet_samples.drop('sexo',axis=1, inplace=True)\n",
    "\n",
    "trainingSet_samples = trainingSet_samples.join(pd.get_dummies(trainingSet_samples.nombre))\n",
    "\n",
    "trainingSet_samples.drop('nombre',axis=1, inplace=True)\n",
    "\n",
    "trainingSet_samples = trainingSet_samples.join(pd.get_dummies(trainingSet_samples.estado))\n",
    "\n",
    "trainingSet_samples.drop('estado',axis=1, inplace=True)\n",
    "\n",
    "trainingSet_samples = trainingSet_samples.join(pd.get_dummies(trainingSet_samples.nombre_zona))\n",
    "\n",
    "trainingSet_samples.drop('nombre_zona',axis=1, inplace=True)\n",
    "\n",
    "trainingSet_samples = trainingSet_samples.join(pd.get_dummies(trainingSet_samples.tipo_de_trabajo))\n",
    "\n",
    "trainingSet_samples.drop('tipo_de_trabajo',axis=1, inplace=True)\n",
    "\n",
    "trainingSet_samples = trainingSet_samples.join(pd.get_dummies(trainingSet_samples.nivel_laboral,\n",
    "                                                             prefix=\"Nivel_laboral\"))\n",
    "\n",
    "trainingSet_samples.drop('nivel_laboral',axis=1, inplace=True)\n",
    "\n",
    "#trainingSet_samples = trainingSet_samples.join(pd.get_dummies(trainingSet_samples.nombre_area))\n",
    "# LO SAQUE PORQUE MI MAQUINA NO SE BANCA POR AHI LA DE UDS SI AUNQUE AGREGA MUCHAS COLUMAS(188)\n",
    "\n",
    "trainingSet_samples.drop('nombre_area',axis=1, inplace=True)"
   ]
  },
  {
   "cell_type": "code",
   "execution_count": 4,
   "metadata": {},
   "outputs": [],
   "source": [
    "trainingSet = trainingSet.join(pd.get_dummies(trainingSet.sexo))\n",
    "\n",
    "trainingSet.drop('sexo',axis=1, inplace=True)\n",
    "\n",
    "trainingSet = trainingSet.join(pd.get_dummies(trainingSet.nombre))\n",
    "\n",
    "trainingSet.drop('nombre',axis=1, inplace=True)\n",
    "\n",
    "trainingSet = trainingSet.join(pd.get_dummies(trainingSet.estado))\n",
    "\n",
    "trainingSet.drop('estado',axis=1, inplace=True)\n",
    "\n",
    "trainingSet = trainingSet.join(pd.get_dummies(trainingSet.nombre_zona))\n",
    "\n",
    "trainingSet.drop('nombre_zona',axis=1, inplace=True)\n",
    "\n",
    "trainingSet = trainingSet.join(pd.get_dummies(trainingSet.tipo_de_trabajo))\n",
    "\n",
    "trainingSet.drop('tipo_de_trabajo',axis=1, inplace=True)\n",
    "\n",
    "trainingSet = trainingSet.join(pd.get_dummies(trainingSet.nivel_laboral,\n",
    "                                                             prefix=\"Nivel_laboral\"))\n",
    "\n",
    "trainingSet.drop('nivel_laboral',axis=1, inplace=True)\n",
    "\n",
    "#trainingSet_samples = trainingSet_samples.join(pd.get_dummies(trainingSet_samples.nombre_area))\n",
    "# LO SAQUE PORQUE MI MAQUINA NO SE BANCA POR AHI LA DE UDS SI AUNQUE AGREGA MUCHAS COLUMAS(188)\n",
    "\n",
    "trainingSet.drop('nombre_area',axis=1, inplace=True)"
   ]
  },
  {
   "cell_type": "code",
   "execution_count": 9,
   "metadata": {},
   "outputs": [
    {
     "name": "stderr",
     "output_type": "stream",
     "text": [
      "/home/fabrizio/anaconda3/lib/python3.6/site-packages/sklearn/cross_validation.py:41: DeprecationWarning: This module was deprecated in version 0.18 in favor of the model_selection module into which all the refactored classes and functions are moved. Also note that the interface of the new CV iterators are different from that of this module. This module will be removed in 0.20.\n",
      "  \"This module will be removed in 0.20.\", DeprecationWarning)\n"
     ]
    }
   ],
   "source": [
    "from xgboost.sklearn import XGBClassifier\n",
    "from sklearn import cross_validation, metrics   #Additional scklearn functions\n",
    "from sklearn.model_selection import GridSearchCV   #Perforing grid search"
   ]
  },
  {
   "cell_type": "code",
   "execution_count": null,
   "metadata": {},
   "outputs": [],
   "source": [
    "#Choose all predictors except target\n",
    "target = 'sepostulo'\n",
    "predictors = [x for x in trainingSet.columns if x not in [target]]\n",
    "xgb1 = XGBClassifier(\n",
    " learning_rate =0.1,\n",
    " n_estimators=500,\n",
    " max_depth=5,\n",
    " min_child_weight=1,\n",
    " gamma=0,\n",
    " subsample=0.8,\n",
    " colsample_bytree=0.8,\n",
    " objective= 'binary:logistic',\n",
    " nthread=1,\n",
    " scale_pos_weight=1,\n",
    " seed=27)\n",
    "#model.fit(xgb1, trainingSet_samples, predictors)\n",
    "\n",
    "    \n",
    "cv_folds=5\n",
    "early_stopping_rounds=50\n",
    "xgb_param = xgb1.get_xgb_params()\n",
    "xgtrain = xgb.DMatrix(trainingSet[predictors].values, label=trainingSet[target].values)\n",
    "cvresult = xgb.cv(xgb_param, xgtrain, num_boost_round=xgb1.get_params()['n_estimators'],\n",
    "                  nfold=cv_folds, metrics={'auc'}, early_stopping_rounds=early_stopping_rounds)\n",
    "xgb1.set_params(n_estimators=cvresult.shape[0])\n",
    "\n",
    "#Fit the algorithm on the data\n",
    "xgb1.fit(trainingSet[predictors], trainingSet['sepostulo'],eval_metric='auc')\n",
    "\n",
    "#Predict training set:\n",
    "dtrain_predictions = xgb1.predict(trainingSet[predictors])\n",
    "dtrain_predprob = xgb1.predict_proba(trainingSet[predictors])[:,1]\n",
    "\n",
    "#Print model report:\n",
    "print (\"\\nModel Report\")\n",
    "print (\"Accuracy : %.4g\" % metrics.accuracy_score(trainingSet['sepostulo'].values, dtrain_predictions))\n",
    "print (\"AUC Score (Train): %f\" % metrics.roc_auc_score(trainingSet['sepostulo'], dtrain_predprob))"
   ]
  },
  {
   "cell_type": "code",
   "execution_count": 10,
   "metadata": {},
   "outputs": [
    {
     "name": "stderr",
     "output_type": "stream",
     "text": [
      "/home/fabrizio/anaconda3/lib/python3.6/site-packages/sklearn/preprocessing/label.py:151: DeprecationWarning: The truth value of an empty array is ambiguous. Returning False, but in future this will result in an error. Use `array.size > 0` to check that an array is not empty.\n",
      "  if diff:\n"
     ]
    },
    {
     "name": "stdout",
     "output_type": "stream",
     "text": [
      "\n",
      "Model Report\n",
      "Accuracy : 0.6327\n",
      "AUC Score (Train): 0.563374\n"
     ]
    }
   ],
   "source": [
    "#Choose all predictors except target\n",
    "target = 'sepostulo'\n",
    "predictors = [x for x in trainingSet_samples.columns if x not in [target]]\n",
    "xgb1 = XGBClassifier(\n",
    " learning_rate =0.1,\n",
    " n_estimators=500,\n",
    " max_depth=5,\n",
    " min_child_weight=1,\n",
    " gamma=0,\n",
    " subsample=0.8,\n",
    " colsample_bytree=0.8,\n",
    " objective= 'binary:logistic',\n",
    " nthread=1,\n",
    " scale_pos_weight=1,\n",
    " seed=27)\n",
    "#model.fit(xgb1, trainingSet_samples, predictors)\n",
    "\n",
    "    \n",
    "cv_folds=5\n",
    "early_stopping_rounds=50\n",
    "xgb_param = xgb1.get_xgb_params()\n",
    "xgtrain = xgb.DMatrix(trainingSet_samples[predictors].values, label=trainingSet_samples[target].values)\n",
    "cvresult = xgb.cv(xgb_param, xgtrain, num_boost_round=xgb1.get_params()['n_estimators'],\n",
    "                  nfold=cv_folds, metrics={'auc'}, early_stopping_rounds=early_stopping_rounds)\n",
    "xgb1.set_params(n_estimators=cvresult.shape[0])\n",
    "\n",
    "#Fit the algorithm on the data\n",
    "xgb1.fit(trainingSet_samples[predictors], trainingSet_samples['sepostulo'],eval_metric='auc')\n",
    "\n",
    "#Predict training set:\n",
    "dtrain_predictions = xgb1.predict(trainingSet_samples[predictors])\n",
    "dtrain_predprob = xgb1.predict_proba(trainingSet_samples[predictors])[:,1]\n",
    "\n",
    "#Print model report:\n",
    "print (\"\\nModel Report\")\n",
    "print (\"Accuracy : %.4g\" % metrics.accuracy_score(trainingSet_samples['sepostulo'].values, dtrain_predictions))\n",
    "print (\"AUC Score (Train): %f\" % metrics.roc_auc_score(trainingSet_samples['sepostulo'], dtrain_predprob))"
   ]
  },
  {
   "cell_type": "markdown",
   "metadata": {},
   "source": [
    "# TestingSet"
   ]
  },
  {
   "cell_type": "code",
   "execution_count": 25,
   "metadata": {},
   "outputs": [],
   "source": [
    "dtypes = pd.Series({'estado': CategoricalDtype(categories=['Abandonado', 'En Curso', 'Graduado'], \n",
    "                                               ordered=False), 'idpostulante': np.dtype('object'),\n",
    "                    'nombre': CategoricalDtype(categories=['Doctorado', 'Master', 'Otro', 'Posgrado',\n",
    "                            'Secundario','Terciario/Técnico', 'Universitario'],ordered=False),\n",
    "                    'sexo': CategoricalDtype(categories=['FEM', 'MASC', 'NO_DECLARA'], ordered=False)})\n",
    "\n",
    "dtypes_col = dtypes.index\n",
    "dtypes_type = [i.name for i in dtypes.values]\n",
    "\n",
    "column_types = dict(zip(dtypes_col, dtypes_type))\n",
    "\n",
    "testingSet_CON_NAN = pd.read_csv('/home/fabrizio/env/NaventDatosTP/TestingSets/testingSet_CON_NAN.csv',dtype=column_types)\n",
    "testingSet_CON_NAN.drop('Unnamed: 0',inplace=True,axis=1)\n",
    "testingSet_CON_NAN.drop(columns=['idpostulante','denominacion_empresa','nombre_area'],inplace=True) #No sirve para el algoritmo de ML"
   ]
  },
  {
   "cell_type": "code",
   "execution_count": 13,
   "metadata": {},
   "outputs": [
    {
     "name": "stdout",
     "output_type": "stream",
     "text": [
      "<class 'pandas.core.frame.DataFrame'>\n",
      "RangeIndex: 100000 entries, 0 to 99999\n",
      "Data columns (total 9 columns):\n",
      "id                 100000 non-null int64\n",
      "idaviso            100000 non-null int64\n",
      "nombre_zona        100000 non-null object\n",
      "tipo_de_trabajo    100000 non-null object\n",
      "nivel_laboral      100000 non-null object\n",
      "sexo               93375 non-null category\n",
      "nombre             93375 non-null category\n",
      "estado             93375 non-null category\n",
      "edad               93375 non-null float64\n",
      "dtypes: category(3), float64(1), int64(2), object(3)\n",
      "memory usage: 4.9+ MB\n"
     ]
    }
   ],
   "source": [
    "testingSet_CON_NAN.info()"
   ]
  },
  {
   "cell_type": "markdown",
   "metadata": {},
   "source": [
    "# Aplico dummies"
   ]
  },
  {
   "cell_type": "code",
   "execution_count": 14,
   "metadata": {},
   "outputs": [],
   "source": [
    "testingSet_CON_NAN = testingSet_CON_NAN.join(pd.get_dummies(testingSet_CON_NAN.sexo))\n",
    "\n",
    "testingSet_CON_NAN.drop('sexo',axis=1, inplace=True)\n",
    "\n",
    "testingSet_CON_NAN = testingSet_CON_NAN.join(pd.get_dummies(testingSet_CON_NAN.nombre))\n",
    "\n",
    "testingSet_CON_NAN.drop('nombre',axis=1, inplace=True)\n",
    "\n",
    "testingSet_CON_NAN = testingSet_CON_NAN.join(pd.get_dummies(testingSet_CON_NAN.estado))\n",
    "\n",
    "testingSet_CON_NAN.drop('estado',axis=1, inplace=True)\n",
    "\n",
    "testingSet_CON_NAN = testingSet_CON_NAN.join(pd.get_dummies(testingSet_CON_NAN.nombre_zona))\n",
    "\n",
    "testingSet_CON_NAN.drop('nombre_zona',axis=1, inplace=True)\n",
    "\n",
    "testingSet_CON_NAN = testingSet_CON_NAN.join(pd.get_dummies(testingSet_CON_NAN.tipo_de_trabajo))\n",
    "\n",
    "testingSet_CON_NAN.drop('tipo_de_trabajo',axis=1, inplace=True)\n",
    "\n",
    "testingSet_CON_NAN = testingSet_CON_NAN.join(pd.get_dummies(testingSet_CON_NAN.nivel_laboral,\n",
    "                                                             prefix=\"Nivel_laboral\"))\n",
    "\n",
    "testingSet_CON_NAN.drop('nivel_laboral',axis=1, inplace=True)\n",
    "\n",
    "#testingSet_CON_NAN = trainingSet_samples.join(pd.get_dummies(trainingSet_samples.nombre_area))"
   ]
  },
  {
   "cell_type": "code",
   "execution_count": 15,
   "metadata": {},
   "outputs": [],
   "source": [
    "# Get missing columns in the training test\n",
    "missing_cols = set( trainingSet_samples.columns ) - set( testingSet_CON_NAN.columns )\n",
    "# Add a missing column in test set with default value equal to 0\n",
    "for c in missing_cols:\n",
    "    testingSet_CON_NAN[c] = 0\n",
    "# Ensure the order of column in the test set is in the same order than in train set\n",
    "testingSet_CON_NAN = testingSet_CON_NAN[trainingSet_samples.columns]"
   ]
  },
  {
   "cell_type": "code",
   "execution_count": 16,
   "metadata": {},
   "outputs": [
    {
     "name": "stderr",
     "output_type": "stream",
     "text": [
      "/home/fabrizio/anaconda3/lib/python3.6/site-packages/sklearn/preprocessing/label.py:151: DeprecationWarning: The truth value of an empty array is ambiguous. Returning False, but in future this will result in an error. Use `array.size > 0` to check that an array is not empty.\n",
      "  if diff:\n"
     ]
    }
   ],
   "source": [
    "#Predict testing set:\n",
    "dtest_predictions = xgb1.predict(testingSet_CON_NAN[predictors])\n",
    "dtest_predprob = xgb1.predict_proba(testingSet_CON_NAN[predictors])[:,1]"
   ]
  },
  {
   "cell_type": "code",
   "execution_count": 17,
   "metadata": {},
   "outputs": [],
   "source": [
    "testingSet_CON_NAN['sepostulo'] = dtest_predictions"
   ]
  },
  {
   "cell_type": "code",
   "execution_count": 21,
   "metadata": {},
   "outputs": [
    {
     "name": "stdout",
     "output_type": "stream",
     "text": [
      "<class 'pandas.core.frame.DataFrame'>\n",
      "RangeIndex: 100000 entries, 0 to 99999\n",
      "Data columns (total 42 columns):\n",
      "sepostulo                                             100000 non-null uint8\n",
      "edad                                                  93375 non-null float64\n",
      "FEM                                                   100000 non-null uint8\n",
      "MASC                                                  100000 non-null uint8\n",
      "NO_DECLARA                                            100000 non-null uint8\n",
      "Doctorado                                             100000 non-null uint8\n",
      "Master                                                100000 non-null uint8\n",
      "Otro                                                  100000 non-null uint8\n",
      "Posgrado                                              100000 non-null uint8\n",
      "Secundario                                            100000 non-null uint8\n",
      "Terciario/Técnico                                     100000 non-null uint8\n",
      "Universitario                                         100000 non-null uint8\n",
      "Abandonado                                            100000 non-null uint8\n",
      "En Curso                                              100000 non-null uint8\n",
      "Graduado                                              100000 non-null uint8\n",
      "Buenos Aires (fuera de GBA)                           100000 non-null uint8\n",
      "Capital Federal                                       100000 non-null uint8\n",
      "Catamarca                                             100000 non-null uint8\n",
      "Cordoba                                               100000 non-null uint8\n",
      "Corrientes                                            100000 non-null uint8\n",
      "GBA Oeste                                             100000 non-null uint8\n",
      "Gran Buenos Aires                                     100000 non-null uint8\n",
      "La Plata                                              100000 non-null uint8\n",
      "Rosario                                               100000 non-null uint8\n",
      "San Juan                                              100000 non-null uint8\n",
      "Santa Cruz                                            100000 non-null uint8\n",
      "Tucuman                                               100000 non-null uint8\n",
      "Fines de Semana                                       100000 non-null uint8\n",
      "Full-time                                             100000 non-null uint8\n",
      "Part-time                                             100000 non-null uint8\n",
      "Pasantia                                              100000 non-null uint8\n",
      "Por Contrato                                          100000 non-null uint8\n",
      "Por Horas                                             100000 non-null uint8\n",
      "Primer empleo                                         100000 non-null uint8\n",
      "Teletrabajo                                           100000 non-null uint8\n",
      "Temporario                                            100000 non-null uint8\n",
      "Voluntario                                            100000 non-null int64\n",
      "Nivel_laboral_Gerencia / Alta Gerencia / Dirección    100000 non-null uint8\n",
      "Nivel_laboral_Jefe / Supervisor / Responsable         100000 non-null uint8\n",
      "Nivel_laboral_Junior                                  100000 non-null uint8\n",
      "Nivel_laboral_Otro                                    100000 non-null uint8\n",
      "Nivel_laboral_Senior / Semi-Senior                    100000 non-null uint8\n",
      "dtypes: float64(1), int64(1), uint8(40)\n",
      "memory usage: 5.3 MB\n"
     ]
    }
   ],
   "source": [
    "testingSet_CON_NAN.info()"
   ]
  },
  {
   "cell_type": "code",
   "execution_count": 19,
   "metadata": {},
   "outputs": [
    {
     "data": {
      "text/html": [
       "<div>\n",
       "<style scoped>\n",
       "    .dataframe tbody tr th:only-of-type {\n",
       "        vertical-align: middle;\n",
       "    }\n",
       "\n",
       "    .dataframe tbody tr th {\n",
       "        vertical-align: top;\n",
       "    }\n",
       "\n",
       "    .dataframe thead th {\n",
       "        text-align: right;\n",
       "    }\n",
       "</style>\n",
       "<table border=\"1\" class=\"dataframe\">\n",
       "  <thead>\n",
       "    <tr style=\"text-align: right;\">\n",
       "      <th></th>\n",
       "      <th>sepostulo</th>\n",
       "    </tr>\n",
       "  </thead>\n",
       "  <tbody>\n",
       "    <tr>\n",
       "      <th>0</th>\n",
       "      <td>1</td>\n",
       "    </tr>\n",
       "    <tr>\n",
       "      <th>1</th>\n",
       "      <td>1</td>\n",
       "    </tr>\n",
       "    <tr>\n",
       "      <th>2</th>\n",
       "      <td>1</td>\n",
       "    </tr>\n",
       "    <tr>\n",
       "      <th>3</th>\n",
       "      <td>1</td>\n",
       "    </tr>\n",
       "    <tr>\n",
       "      <th>4</th>\n",
       "      <td>1</td>\n",
       "    </tr>\n",
       "  </tbody>\n",
       "</table>\n",
       "</div>"
      ],
      "text/plain": [
       "   sepostulo\n",
       "0          1\n",
       "1          1\n",
       "2          1\n",
       "3          1\n",
       "4          1"
      ]
     },
     "execution_count": 19,
     "metadata": {},
     "output_type": "execute_result"
    }
   ],
   "source": [
    "submit = testingSet_CON_NAN[['sepostulo']]\n",
    "submit.head()"
   ]
  },
  {
   "cell_type": "code",
   "execution_count": 26,
   "metadata": {},
   "outputs": [],
   "source": [
    "submit.insert(0, 'id', testingSet_CON_NAN['id'])"
   ]
  },
  {
   "cell_type": "code",
   "execution_count": 27,
   "metadata": {},
   "outputs": [
    {
     "name": "stdout",
     "output_type": "stream",
     "text": [
      "<class 'pandas.core.frame.DataFrame'>\n",
      "RangeIndex: 100000 entries, 0 to 99999\n",
      "Data columns (total 2 columns):\n",
      "id           100000 non-null int64\n",
      "sepostulo    100000 non-null uint8\n",
      "dtypes: int64(1), uint8(1)\n",
      "memory usage: 879.0 KB\n"
     ]
    }
   ],
   "source": [
    "submit.info()"
   ]
  },
  {
   "cell_type": "code",
   "execution_count": 28,
   "metadata": {},
   "outputs": [],
   "source": [
    "submit.to_csv('Submit/prediccion29_XGBOOST_500K_dummies.csv',index=False)"
   ]
  },
  {
   "cell_type": "code",
   "execution_count": null,
   "metadata": {},
   "outputs": [],
   "source": []
  },
  {
   "cell_type": "markdown",
   "metadata": {},
   "source": [
    "# Tuning"
   ]
  },
  {
   "cell_type": "code",
   "execution_count": null,
   "metadata": {},
   "outputs": [],
   "source": [
    "param_test1 = {\n",
    " 'max_depth':range(3,10,2),\n",
    " 'min_child_weight':range(1,6,2)\n",
    "}\n",
    "\n",
    "gsearch1 = GridSearchCV(estimator = XGBClassifier(learning_rate =0.1, n_estimators=140, max_depth=5,\n",
    " min_child_weight=1, gamma=0, subsample=0.8, colsample_bytree=0.8,\n",
    " objective= 'binary:logistic', nthread=4, scale_pos_weight=1, seed=27), \n",
    " param_grid = param_test1, scoring='roc_auc',n_jobs=1,iid=False, cv=5)\n",
    "gsearch1.fit(trainingSet_samples[predictors],trainingSet_samples[target])\n",
    "gsearch1.grid_scores_, gsearch1.best_params_, gsearch1.best_score_"
   ]
  },
  {
   "cell_type": "code",
   "execution_count": null,
   "metadata": {},
   "outputs": [],
   "source": []
  },
  {
   "cell_type": "code",
   "execution_count": null,
   "metadata": {},
   "outputs": [],
   "source": []
  },
  {
   "cell_type": "code",
   "execution_count": null,
   "metadata": {},
   "outputs": [],
   "source": []
  },
  {
   "cell_type": "code",
   "execution_count": null,
   "metadata": {},
   "outputs": [],
   "source": []
  },
  {
   "cell_type": "code",
   "execution_count": null,
   "metadata": {},
   "outputs": [],
   "source": []
  }
 ],
 "metadata": {
  "kernelspec": {
   "display_name": "Python 3",
   "language": "python",
   "name": "python3"
  },
  "language_info": {
   "codemirror_mode": {
    "name": "ipython",
    "version": 3
   },
   "file_extension": ".py",
   "mimetype": "text/x-python",
   "name": "python",
   "nbconvert_exporter": "python",
   "pygments_lexer": "ipython3",
   "version": "3.6.4"
  }
 },
 "nbformat": 4,
 "nbformat_minor": 2
}
