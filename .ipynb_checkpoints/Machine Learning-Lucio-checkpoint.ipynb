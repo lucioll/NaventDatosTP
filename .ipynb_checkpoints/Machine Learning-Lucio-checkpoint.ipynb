{
 "cells": [
  {
   "cell_type": "code",
   "execution_count": 2,
   "metadata": {},
   "outputs": [],
   "source": [
    "import pandas as pd\n",
    "import time\n",
    "%matplotlib inline\n",
    "from datetime import datetime\n",
    "import scipy.spatial\n",
    "import numpy as np\n",
    "import matplotlib.pyplot as plt\n",
    "from sklearn.preprocessing import LabelEncoder\n",
    "from sklearn import preprocessing\n",
    "from sklearn import model_selection\n",
    "from sklearn.discriminant_analysis import LinearDiscriminantAnalysis\n",
    "from sklearn.naive_bayes import GaussianNB\n",
    "from sklearn.svm import SVC\n",
    "from sklearn.model_selection import GridSearchCV\n",
    "from sklearn.model_selection import RandomizedSearchCV\n",
    "from sklearn.model_selection import cross_val_score\n",
    "from sklearn.linear_model import LinearRegression\n",
    "from sklearn.linear_model import Ridge\n",
    "from sklearn.linear_model import RidgeCV\n",
    "from sklearn.linear_model import Lasso\n",
    "from sklearn.linear_model import HuberRegressor \n",
    "from sklearn.linear_model import ElasticNet\n",
    "from sklearn.linear_model import LassoLars\n",
    "from sklearn.linear_model import OrthogonalMatchingPursuit\n",
    "from sklearn.linear_model import BayesianRidge\n",
    "from sklearn.ensemble import ExtraTreesRegressor\n",
    "from sklearn.ensemble import AdaBoostRegressor\n",
    "from sklearn.ensemble import RandomForestRegressor"
   ]
  },
  {
   "cell_type": "code",
   "execution_count": 16,
   "metadata": {},
   "outputs": [],
   "source": [
    "postulaciones = pd.read_csv('Data/Postulaciones/Postulaciones-merge.csv')"
   ]
  },
  {
   "cell_type": "code",
   "execution_count": 17,
   "metadata": {},
   "outputs": [
    {
     "name": "stdout",
     "output_type": "stream",
     "text": [
      "<class 'pandas.core.frame.DataFrame'>\n",
      "RangeIndex: 8311264 entries, 0 to 8311263\n",
      "Data columns (total 3 columns):\n",
      "idaviso             int64\n",
      "idpostulante        object\n",
      "fechapostulacion    object\n",
      "dtypes: int64(1), object(2)\n",
      "memory usage: 190.2+ MB\n"
     ]
    }
   ],
   "source": [
    "postulaciones.info()"
   ]
  },
  {
   "cell_type": "markdown",
   "metadata": {},
   "source": [
    "# Obtengo postulantes no duplicados haber si asi aumento la cantidad"
   ]
  },
  {
   "cell_type": "code",
   "execution_count": 28,
   "metadata": {},
   "outputs": [],
   "source": [
    "postulantes_en_postulaciones = postulaciones.drop_duplicates(subset='idpostulante', keep='first')"
   ]
  },
  {
   "cell_type": "code",
   "execution_count": 29,
   "metadata": {},
   "outputs": [
    {
     "name": "stdout",
     "output_type": "stream",
     "text": [
      "<class 'pandas.core.frame.DataFrame'>\n",
      "Int64Index: 348883 entries, 0 to 8311263\n",
      "Data columns (total 3 columns):\n",
      "idaviso             348883 non-null int64\n",
      "idpostulante        348883 non-null object\n",
      "fechapostulacion    348883 non-null object\n",
      "dtypes: int64(1), object(2)\n",
      "memory usage: 10.6+ MB\n"
     ]
    }
   ],
   "source": [
    "postulantes_en_postulaciones.info()"
   ]
  },
  {
   "cell_type": "code",
   "execution_count": 31,
   "metadata": {},
   "outputs": [
    {
     "name": "stderr",
     "output_type": "stream",
     "text": [
      "/home/lucio/Documentos/Datos/lib/python3.6/site-packages/pandas/core/frame.py:3694: SettingWithCopyWarning: \n",
      "A value is trying to be set on a copy of a slice from a DataFrame\n",
      "\n",
      "See the caveats in the documentation: http://pandas.pydata.org/pandas-docs/stable/indexing.html#indexing-view-versus-copy\n",
      "  errors=errors)\n"
     ]
    }
   ],
   "source": [
    "postulantes_en_postulaciones.drop(['idaviso','fechapostulacion'],inplace=True,axis=1)"
   ]
  },
  {
   "cell_type": "code",
   "execution_count": 22,
   "metadata": {},
   "outputs": [],
   "source": [
    "postulantes_educacion = pd.read_csv('Data/Postulantes-Educacion/postulantes_educacion-merge.csv')"
   ]
  },
  {
   "cell_type": "code",
   "execution_count": 23,
   "metadata": {},
   "outputs": [
    {
     "name": "stdout",
     "output_type": "stream",
     "text": [
      "<class 'pandas.core.frame.DataFrame'>\n",
      "RangeIndex: 447909 entries, 0 to 447908\n",
      "Data columns (total 4 columns):\n",
      "idpostulante       447909 non-null object\n",
      "nombre             447909 non-null object\n",
      "estado             447909 non-null object\n",
      "nombre_numerico    447909 non-null int64\n",
      "dtypes: int64(1), object(3)\n",
      "memory usage: 13.7+ MB\n"
     ]
    }
   ],
   "source": [
    "postulantes_educacion.info()"
   ]
  },
  {
   "cell_type": "code",
   "execution_count": 7,
   "metadata": {},
   "outputs": [],
   "source": [
    "postulantes_genero_edad = pd.read_csv('Data/Postulantes-Genero-Edad/postulantes_genero_y_edad-merge.csv')"
   ]
  },
  {
   "cell_type": "code",
   "execution_count": 8,
   "metadata": {},
   "outputs": [
    {
     "name": "stdout",
     "output_type": "stream",
     "text": [
      "<class 'pandas.core.frame.DataFrame'>\n",
      "RangeIndex: 504407 entries, 0 to 504406\n",
      "Data columns (total 3 columns):\n",
      "idpostulante       504407 non-null object\n",
      "fechanacimiento    477884 non-null object\n",
      "sexo               504407 non-null object\n",
      "dtypes: object(3)\n",
      "memory usage: 11.5+ MB\n"
     ]
    }
   ],
   "source": [
    "postulantes_genero_edad.info()"
   ]
  },
  {
   "cell_type": "code",
   "execution_count": 26,
   "metadata": {},
   "outputs": [],
   "source": [
    "#Hago un merge de educacion y genero-edad\n",
    "postulantes_merge = pd.merge(postulantes_genero_edad,postulantes_educacion,how='left',on='idpostulante')"
   ]
  },
  {
   "cell_type": "code",
   "execution_count": 27,
   "metadata": {},
   "outputs": [
    {
     "name": "stdout",
     "output_type": "stream",
     "text": [
      "<class 'pandas.core.frame.DataFrame'>\n",
      "Int64Index: 504407 entries, 0 to 504406\n",
      "Data columns (total 6 columns):\n",
      "idpostulante       504407 non-null object\n",
      "fechanacimiento    477884 non-null object\n",
      "sexo               504407 non-null object\n",
      "nombre             447909 non-null object\n",
      "estado             447909 non-null object\n",
      "nombre_numerico    447909 non-null float64\n",
      "dtypes: float64(1), object(5)\n",
      "memory usage: 26.9+ MB\n"
     ]
    }
   ],
   "source": [
    "postulantes_merge.info()"
   ]
  },
  {
   "cell_type": "code",
   "execution_count": 46,
   "metadata": {},
   "outputs": [],
   "source": [
    "#Agrego postulantes que no esten en el merge anterior\n",
    "postulantes_merge2 = pd.merge(postulantes_merge,postulantes_en_postulaciones,how='outer')"
   ]
  },
  {
   "cell_type": "code",
   "execution_count": 47,
   "metadata": {},
   "outputs": [
    {
     "name": "stdout",
     "output_type": "stream",
     "text": [
      "<class 'pandas.core.frame.DataFrame'>\n",
      "Int64Index: 504407 entries, 0 to 504406\n",
      "Data columns (total 6 columns):\n",
      "idpostulante       504407 non-null object\n",
      "fechanacimiento    477884 non-null object\n",
      "sexo               504407 non-null object\n",
      "nombre             447909 non-null object\n",
      "estado             447909 non-null object\n",
      "nombre_numerico    447909 non-null float64\n",
      "dtypes: float64(1), object(5)\n",
      "memory usage: 26.9+ MB\n"
     ]
    }
   ],
   "source": [
    "postulantes_merge2.info()"
   ]
  },
  {
   "cell_type": "code",
   "execution_count": 76,
   "metadata": {},
   "outputs": [],
   "source": [
    "# Agrego columna con cantidad de postulaciones por postulante\n",
    "serie_postulaciones = postulaciones['idpostulante'].value_counts()\n",
    "def cant_postulaciones_postulante(idpostulante):\n",
    "    try:\n",
    "        return serie_postulaciones[idpostulante]\n",
    "    except KeyError:\n",
    "        return 0"
   ]
  },
  {
   "cell_type": "code",
   "execution_count": 77,
   "metadata": {},
   "outputs": [],
   "source": [
    "postulantes_merge2['cant_postulaciones_a_avisos'] = 0\n",
    "postulantes_merge2.loc[:,'cant_postulaciones_a_avisos'] = postulantes_merge2['idpostulante'].apply(cant_postulaciones_postulante)"
   ]
  },
  {
   "cell_type": "code",
   "execution_count": null,
   "metadata": {},
   "outputs": [],
   "source": [
    "# Creo funcion para recuperar lista de TIPOS DE TRABAJO de avisos que le interesan a un postulante de acuerdo\n",
    "# a lo que visita y se postula\n",
    "\n",
    "def obtener_lista_de_intereses(idpostulante):\n",
    "    lista = []\n",
    "    lista_de_ids_avisos_postulados = obtener_lista_de_ids_avisos_postulados(idpostulante)\n",
    "    for id in lista_de_ids_avisos_postulados:\n",
    "        tipo_de_trabajo = avisos_detalle[avisos_detalle['idaviso'] == id]['tipo_de_trabajo']\n",
    "        lista.append(tipo_de_trabajo)\n",
    "        \n",
    "    \n",
    "    return lista\n",
    "    \n",
    "# Creo funcion para recuperar los ids de avisos a los que se postula un postulante\n",
    "def obtener_lista_de_ids_avisos_postulados(idpostulante):\n",
    "    data = postulaciones[postulaciones['idpostulante'] == idpostulante]\n",
    "    return data['idaviso'].tolist()\n",
    "    "
   ]
  },
  {
   "cell_type": "markdown",
   "metadata": {},
   "source": [
    "# Avisos online"
   ]
  },
  {
   "cell_type": "code",
   "execution_count": 20,
   "metadata": {},
   "outputs": [],
   "source": [
    "avisos_online = pd.read_csv('Data/Avisos-Online/Avisos-Online-merge.csv')"
   ]
  },
  {
   "cell_type": "code",
   "execution_count": 21,
   "metadata": {},
   "outputs": [
    {
     "name": "stdout",
     "output_type": "stream",
     "text": [
      "<class 'pandas.core.frame.DataFrame'>\n",
      "RangeIndex: 9886 entries, 0 to 9885\n",
      "Data columns (total 1 columns):\n",
      "idaviso    9886 non-null int64\n",
      "dtypes: int64(1)\n",
      "memory usage: 77.3 KB\n"
     ]
    }
   ],
   "source": [
    "avisos_online.info()"
   ]
  },
  {
   "cell_type": "markdown",
   "metadata": {},
   "source": [
    "# Avisos detalle"
   ]
  },
  {
   "cell_type": "code",
   "execution_count": 18,
   "metadata": {},
   "outputs": [],
   "source": [
    "avisos_detalle = pd.read_csv('Data/Avisos-Detalle/Avisos-Detalle-merge.csv')"
   ]
  },
  {
   "cell_type": "code",
   "execution_count": 19,
   "metadata": {},
   "outputs": [
    {
     "name": "stdout",
     "output_type": "stream",
     "text": [
      "<class 'pandas.core.frame.DataFrame'>\n",
      "RangeIndex: 45969 entries, 0 to 45968\n",
      "Data columns (total 11 columns):\n",
      "idaviso                 45969 non-null int64\n",
      "idpais                  45969 non-null int64\n",
      "titulo                  45969 non-null object\n",
      "descripcion             45969 non-null object\n",
      "nombre_zona             45969 non-null object\n",
      "ciudad                  225 non-null object\n",
      "mapacalle               3444 non-null object\n",
      "tipo_de_trabajo         45969 non-null object\n",
      "nivel_laboral           45634 non-null object\n",
      "nombre_area             45969 non-null object\n",
      "denominacion_empresa    45955 non-null object\n",
      "dtypes: int64(2), object(9)\n",
      "memory usage: 3.9+ MB\n"
     ]
    }
   ],
   "source": [
    "avisos_detalle.info()"
   ]
  },
  {
   "cell_type": "markdown",
   "metadata": {},
   "source": [
    "# Avisos online"
   ]
  },
  {
   "cell_type": "code",
   "execution_count": 55,
   "metadata": {},
   "outputs": [],
   "source": [
    "avisos_online = pd.read_csv('Data/Avisos-Online/Avisos-Online-merge.csv')"
   ]
  },
  {
   "cell_type": "code",
   "execution_count": 56,
   "metadata": {},
   "outputs": [
    {
     "name": "stdout",
     "output_type": "stream",
     "text": [
      "<class 'pandas.core.frame.DataFrame'>\n",
      "RangeIndex: 9886 entries, 0 to 9885\n",
      "Data columns (total 1 columns):\n",
      "idaviso    9886 non-null int64\n",
      "dtypes: int64(1)\n",
      "memory usage: 77.3 KB\n"
     ]
    }
   ],
   "source": [
    "avisos_online.info()"
   ]
  },
  {
   "cell_type": "markdown",
   "metadata": {},
   "source": [
    "# Training test"
   ]
  },
  {
   "cell_type": "code",
   "execution_count": null,
   "metadata": {},
   "outputs": [],
   "source": [
    "trainingSet = "
   ]
  },
  {
   "cell_type": "markdown",
   "metadata": {},
   "source": [
    "# Testing set"
   ]
  },
  {
   "cell_type": "code",
   "execution_count": 48,
   "metadata": {},
   "outputs": [],
   "source": [
    "testingSet = pd.read_csv('Data/test_final_100k.csv')"
   ]
  },
  {
   "cell_type": "code",
   "execution_count": 49,
   "metadata": {},
   "outputs": [
    {
     "name": "stdout",
     "output_type": "stream",
     "text": [
      "<class 'pandas.core.frame.DataFrame'>\n",
      "RangeIndex: 100000 entries, 0 to 99999\n",
      "Data columns (total 3 columns):\n",
      "id              100000 non-null int64\n",
      "idaviso         100000 non-null int64\n",
      "idpostulante    100000 non-null object\n",
      "dtypes: int64(2), object(1)\n",
      "memory usage: 2.3+ MB\n"
     ]
    }
   ],
   "source": [
    "testingSet.info()"
   ]
  },
  {
   "cell_type": "code",
   "execution_count": 50,
   "metadata": {},
   "outputs": [],
   "source": [
    "# Agrego informacion al set de testing con los datos que contamos"
   ]
  },
  {
   "cell_type": "code",
   "execution_count": null,
   "metadata": {},
   "outputs": [],
   "source": []
  }
 ],
 "metadata": {
  "kernelspec": {
   "display_name": "Python 3",
   "language": "python",
   "name": "python3"
  },
  "language_info": {
   "codemirror_mode": {
    "name": "ipython",
    "version": 3
   },
   "file_extension": ".py",
   "mimetype": "text/x-python",
   "name": "python",
   "nbconvert_exporter": "python",
   "pygments_lexer": "ipython3",
   "version": "3.6.5"
  }
 },
 "nbformat": 4,
 "nbformat_minor": 2
}
