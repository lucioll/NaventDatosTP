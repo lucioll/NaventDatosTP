{
 "cells": [
  {
   "cell_type": "code",
   "execution_count": 3,
   "metadata": {},
   "outputs": [],
   "source": [
    "import pandas as pd\n",
    "from pandas.api.types import CategoricalDtype\n",
    "import time\n",
    "from datetime import datetime\n",
    "import scipy.spatial\n",
    "import numpy as np\n",
    "from sklearn.preprocessing import LabelEncoder"
   ]
  },
  {
   "cell_type": "code",
   "execution_count": 4,
   "metadata": {},
   "outputs": [],
   "source": [
    "dtypes = pd.Series({'idAviso': np.dtype('uint32'), 'idpostulante': np.dtype('object')})\n",
    "\n",
    "dtypes_col = dtypes.index\n",
    "dtypes_type = [i.name for i in dtypes.values]\n",
    "\n",
    "column_types = dict(zip(dtypes_col, dtypes_type))\n",
    "\n",
    "vistas = pd.read_csv('Data/Vistas/Vistas-merge.csv',dtype=column_types,parse_dates=['timestamp'],\n",
    "                     infer_datetime_format=True)\n",
    "vistas = vistas.drop(columns=['Unnamed: 0'])"
   ]
  },
  {
   "cell_type": "code",
   "execution_count": 5,
   "metadata": {},
   "outputs": [
    {
     "name": "stdout",
     "output_type": "stream",
     "text": [
      "<class 'pandas.core.frame.DataFrame'>\n",
      "RangeIndex: 8597915 entries, 0 to 8597914\n",
      "Data columns (total 3 columns):\n",
      "idAviso         uint32\n",
      "timestamp       datetime64[ns]\n",
      "idpostulante    object\n",
      "dtypes: datetime64[ns](1), object(1), uint32(1)\n",
      "memory usage: 164.0+ MB\n"
     ]
    }
   ],
   "source": [
    "vistas.info()"
   ]
  },
  {
   "cell_type": "code",
   "execution_count": 9,
   "metadata": {},
   "outputs": [
    {
     "data": {
      "text/plain": [
       "Text(0,0.5,'Frecuencia')"
      ]
     },
     "execution_count": 9,
     "metadata": {},
     "output_type": "execute_result"
    },
    {
     "data": {
      "image/png": "[encoded data removed]",
      "text/plain": [
       "<Figure size 432x288 with 1 Axes>"
      ]
     },
     "metadata": {},
     "output_type": "display_data"
    }
   ],
   "source": [
    "import matplotlib.pyplot as plt\n",
    "import seaborn as sns\n",
    "data = pd.DataFrame()\n",
    "data['counts'] = vistas[\"idpostulante\"].value_counts()\n",
    "data['log_counts'] = np.log(data[\"counts\"]+1)\n",
    "g = data[\"log_counts\"].plot.hist(bins=100, color=\"lightgreen\")\n",
    "g.set_title(\"Histograma de vistas por postulante (log) [Vistas a n avisos]\", fontsize=18)\n",
    "g.set_xlabel(\"vistas (log)\",fontsize=18)\n",
    "g.set_ylabel(\"Frecuencia\", fontsize=18)"
   ]
  },
  {
   "cell_type": "code",
   "execution_count": 7,
   "metadata": {},
   "outputs": [],
   "source": [
    "# Creo funcion para recuperar lista de TIPOS DE TRABAJO de avisos que le interesan a un postulante de acuerdo\n",
    "# a lo que visita\n",
    "\n",
    "def obtener_lista_de_intereses(idpostulante):\n",
    "    lista = []\n",
    "    lista_de_ids_avisos_visitados = obtener_lista_de_ids_avisos_visitados(idpostulante)\n",
    "    if (lista_de_ids_avisos_visitados is not None):\n",
    "        for id in lista_de_ids_avisos_visitados:\n",
    "            tipo_de_trabajo = avisos_detalle[avisos_detalle['idAviso'] == id]['tipo_de_trabajo']\n",
    "            lista.append(tipo_de_trabajo)    \n",
    "    return lista\n",
    "\n",
    "# Creo funcion para recuperar los ids de avisos que visita un postulante\n",
    "def obtener_lista_de_ids_avisos_visitados(idpostulante):\n",
    "    try:\n",
    "        return groupby_aviso_postulante.pop(idpostulante).index.get_values()\n",
    "    except KeyError:\n",
    "        return None"
   ]
  },
  {
   "cell_type": "code",
   "execution_count": 8,
   "metadata": {},
   "outputs": [
    {
     "name": "stderr",
     "output_type": "stream",
     "text": [
      "\n",
      "KeyboardInterrupt\n",
      "\n"
     ]
    }
   ],
   "source": [
    "vistas_sort_by_postulante = vistas.sort_values(by=['idpostulante']).copy()\n",
    "#Considero unica vista de aviso por postulante (no me importa ni horario ni cantidad solo que lo vea)\n",
    "vistas_sort_by_postulante.drop(columns=['timestamp'],inplace=True)\n",
    "vistas_sort_by_postulante.drop_duplicates(subset=['idAviso','idpostulante'],inplace=True)\n",
    "#vistas_sort_by_postulante.set_index('idpostulante',inplace=True)"
   ]
  },
  {
   "cell_type": "code",
   "execution_count": null,
   "metadata": {},
   "outputs": [],
   "source": [
    "vistas_sort_by_postulante.info()"
   ]
  },
  {
   "cell_type": "code",
   "execution_count": 10,
   "metadata": {},
   "outputs": [
    {
     "data": {
      "text/html": [
       "<div>\n",
       "<style scoped>\n",
       "    .dataframe tbody tr th:only-of-type {\n",
       "        vertical-align: middle;\n",
       "    }\n",
       "\n",
       "    .dataframe tbody tr th {\n",
       "        vertical-align: top;\n",
       "    }\n",
       "\n",
       "    .dataframe thead th {\n",
       "        text-align: right;\n",
       "    }\n",
       "</style>\n",
       "<table border=\"1\" class=\"dataframe\">\n",
       "  <thead>\n",
       "    <tr style=\"text-align: right;\">\n",
       "      <th></th>\n",
       "      <th>nombre_zona_interes</th>\n",
       "      <th>nivel_laboral_interes</th>\n",
       "      <th>tipo_de_trabajo_interes</th>\n",
       "      <th>nombre_area_interes</th>\n",
       "    </tr>\n",
       "    <tr>\n",
       "      <th>idpostulante</th>\n",
       "      <th></th>\n",
       "      <th></th>\n",
       "      <th></th>\n",
       "      <th></th>\n",
       "    </tr>\n",
       "  </thead>\n",
       "  <tbody>\n",
       "    <tr>\n",
       "      <th>YjVJQ6Z</th>\n",
       "      <td></td>\n",
       "      <td></td>\n",
       "      <td></td>\n",
       "      <td></td>\n",
       "    </tr>\n",
       "    <tr>\n",
       "      <th>BmVpYoR</th>\n",
       "      <td></td>\n",
       "      <td></td>\n",
       "      <td></td>\n",
       "      <td></td>\n",
       "    </tr>\n",
       "    <tr>\n",
       "      <th>wVkBzZd</th>\n",
       "      <td></td>\n",
       "      <td></td>\n",
       "      <td></td>\n",
       "      <td></td>\n",
       "    </tr>\n",
       "    <tr>\n",
       "      <th>OqmP9pv</th>\n",
       "      <td></td>\n",
       "      <td></td>\n",
       "      <td></td>\n",
       "      <td></td>\n",
       "    </tr>\n",
       "    <tr>\n",
       "      <th>DrpbXDP</th>\n",
       "      <td></td>\n",
       "      <td></td>\n",
       "      <td></td>\n",
       "      <td></td>\n",
       "    </tr>\n",
       "  </tbody>\n",
       "</table>\n",
       "</div>"
      ],
      "text/plain": [
       "             nombre_zona_interes nivel_laboral_interes  \\\n",
       "idpostulante                                             \n",
       "YjVJQ6Z                                                  \n",
       "BmVpYoR                                                  \n",
       "wVkBzZd                                                  \n",
       "OqmP9pv                                                  \n",
       "DrpbXDP                                                  \n",
       "\n",
       "             tipo_de_trabajo_interes nombre_area_interes  \n",
       "idpostulante                                              \n",
       "YjVJQ6Z                                                   \n",
       "BmVpYoR                                                   \n",
       "wVkBzZd                                                   \n",
       "OqmP9pv                                                   \n",
       "DrpbXDP                                                   "
      ]
     },
     "execution_count": 10,
     "metadata": {},
     "output_type": "execute_result"
    }
   ],
   "source": [
    "unique_postulantes = vistas.copy()\n",
    "unique_postulantes.drop_duplicates(subset='idpostulante',inplace=True)\n",
    "unique_postulantes.drop(columns=['timestamp','idAviso'],inplace=True)\n",
    "unique_postulantes['nombre_zona_interes'] = \"\"\n",
    "unique_postulantes['nivel_laboral_interes'] = \"\"\n",
    "unique_postulantes['tipo_de_trabajo_interes'] = \"\"\n",
    "unique_postulantes['nombre_area_interes'] = \"\"\n",
    "unique_postulantes.set_index('idpostulante',inplace=True)\n",
    "unique_postulantes.head()"
   ]
  },
  {
   "cell_type": "code",
   "execution_count": 11,
   "metadata": {},
   "outputs": [],
   "source": [
    "dtypes = pd.Series({'idaviso': np.dtype('uint32'), 'nombre_area_code': np.dtype('uint8'),\n",
    "                   'denominacion_empresa_code': np.dtype('uint16'), 'nivel_laboral_code': np.dtype('uint8'),\n",
    "                   'tipo_de_trabajo_code': np.dtype('uint8'), 'nombre_zona_code': np.dtype('uint8')})\n",
    "\n",
    "dtypes_col = dtypes.index\n",
    "dtypes_type = [i.name for i in dtypes.values]\n",
    "\n",
    "column_types = dict(zip(dtypes_col, dtypes_type))\n",
    "optimized_avisos_detalle = pd.read_csv('Data/optimized_avisos_detalle.csv',dtype=column_types)\n",
    "optimized_avisos_detalle.drop(columns=['Unnamed: 0'],inplace=True)"
   ]
  },
  {
   "cell_type": "code",
   "execution_count": 12,
   "metadata": {},
   "outputs": [],
   "source": [
    "vistas_sort_by_index = vistas.sort_values(by=['idAviso']).copy()\n",
    "#Considero unica vista de aviso por postulante (no me importa ni horario ni cantidad solo que lo vea)\n",
    "vistas_sort_by_index.drop(columns=['timestamp'],inplace=True)\n",
    "vistas_sort_by_index.drop_duplicates(subset=['idAviso','idpostulante'],inplace=True)\n",
    "vistas_sort_by_index.set_index('idAviso',inplace=True)"
   ]
  },
  {
   "cell_type": "code",
   "execution_count": 13,
   "metadata": {},
   "outputs": [
    {
     "ename": "KeyboardInterrupt",
     "evalue": "",
     "output_type": "error",
     "traceback": [
      "\u001b[0;31m---------------------------------------------------------------------------\u001b[0m",
      "\u001b[0;31mKeyboardInterrupt\u001b[0m                         Traceback (most recent call last)",
      "\u001b[0;32m<ipython-input-13-75aa24130b54>\u001b[0m in \u001b[0;36m<module>\u001b[0;34m()\u001b[0m\n\u001b[1;32m     15\u001b[0m                 \u001b[0munique_postulantes\u001b[0m\u001b[0;34m[\u001b[0m\u001b[0;34m'tipo_de_trabajo_interes'\u001b[0m\u001b[0;34m]\u001b[0m\u001b[0;34m.\u001b[0m\u001b[0mloc\u001b[0m\u001b[0;34m[\u001b[0m\u001b[0mvista\u001b[0m\u001b[0;34m[\u001b[0m\u001b[0;36m0\u001b[0m\u001b[0;34m]\u001b[0m\u001b[0;34m]\u001b[0m \u001b[0;34m+=\u001b[0m \u001b[0;34m\"-\"\u001b[0m \u001b[0;34m+\u001b[0m \u001b[0mstr\u001b[0m\u001b[0;34m(\u001b[0m\u001b[0maviso_detalle\u001b[0m\u001b[0;34m[\u001b[0m\u001b[0;36m3\u001b[0m\u001b[0;34m]\u001b[0m\u001b[0;34m)\u001b[0m\u001b[0;34m\u001b[0m\u001b[0m\n\u001b[1;32m     16\u001b[0m             \u001b[0;32mif\u001b[0m \u001b[0mstr\u001b[0m\u001b[0;34m(\u001b[0m\u001b[0maviso_detalle\u001b[0m\u001b[0;34m[\u001b[0m\u001b[0;36m2\u001b[0m\u001b[0;34m]\u001b[0m\u001b[0;34m)\u001b[0m \u001b[0;32mnot\u001b[0m \u001b[0;32min\u001b[0m \u001b[0munique_postulantes\u001b[0m\u001b[0;34m[\u001b[0m\u001b[0;34m'nombre_area_interes'\u001b[0m\u001b[0;34m]\u001b[0m\u001b[0;34m.\u001b[0m\u001b[0mloc\u001b[0m\u001b[0;34m[\u001b[0m\u001b[0mvista\u001b[0m\u001b[0;34m[\u001b[0m\u001b[0;36m0\u001b[0m\u001b[0;34m]\u001b[0m\u001b[0;34m]\u001b[0m\u001b[0;34m:\u001b[0m\u001b[0;34m\u001b[0m\u001b[0m\n\u001b[0;32m---> 17\u001b[0;31m                 \u001b[0munique_postulantes\u001b[0m\u001b[0;34m[\u001b[0m\u001b[0;34m'nombre_area_interes'\u001b[0m\u001b[0;34m]\u001b[0m\u001b[0;34m.\u001b[0m\u001b[0mloc\u001b[0m\u001b[0;34m[\u001b[0m\u001b[0mvista\u001b[0m\u001b[0;34m[\u001b[0m\u001b[0;36m0\u001b[0m\u001b[0;34m]\u001b[0m\u001b[0;34m]\u001b[0m \u001b[0;34m+=\u001b[0m \u001b[0;34m\"-\"\u001b[0m \u001b[0;34m+\u001b[0m \u001b[0mstr\u001b[0m\u001b[0;34m(\u001b[0m\u001b[0maviso_detalle\u001b[0m\u001b[0;34m[\u001b[0m\u001b[0;36m2\u001b[0m\u001b[0;34m]\u001b[0m\u001b[0;34m)\u001b[0m\u001b[0;34m\u001b[0m\u001b[0m\n\u001b[0m\u001b[1;32m     18\u001b[0m     \u001b[0;32mexcept\u001b[0m \u001b[0mKeyError\u001b[0m\u001b[0;34m:\u001b[0m\u001b[0;34m\u001b[0m\u001b[0m\n\u001b[1;32m     19\u001b[0m         \u001b[0;32mcontinue\u001b[0m\u001b[0;34m\u001b[0m\u001b[0m\n",
      "\u001b[0;32m~/Documentos/Datos/lib/python3.6/site-packages/pandas/core/indexing.py\u001b[0m in \u001b[0;36m__setitem__\u001b[0;34m(self, key, value)\u001b[0m\n\u001b[1;32m    187\u001b[0m             \u001b[0mkey\u001b[0m \u001b[0;34m=\u001b[0m \u001b[0mcom\u001b[0m\u001b[0;34m.\u001b[0m\u001b[0m_apply_if_callable\u001b[0m\u001b[0;34m(\u001b[0m\u001b[0mkey\u001b[0m\u001b[0;34m,\u001b[0m \u001b[0mself\u001b[0m\u001b[0;34m.\u001b[0m\u001b[0mobj\u001b[0m\u001b[0;34m)\u001b[0m\u001b[0;34m\u001b[0m\u001b[0m\n\u001b[1;32m    188\u001b[0m         \u001b[0mindexer\u001b[0m \u001b[0;34m=\u001b[0m \u001b[0mself\u001b[0m\u001b[0;34m.\u001b[0m\u001b[0m_get_setitem_indexer\u001b[0m\u001b[0;34m(\u001b[0m\u001b[0mkey\u001b[0m\u001b[0;34m)\u001b[0m\u001b[0;34m\u001b[0m\u001b[0m\n\u001b[0;32m--> 189\u001b[0;31m         \u001b[0mself\u001b[0m\u001b[0;34m.\u001b[0m\u001b[0m_setitem_with_indexer\u001b[0m\u001b[0;34m(\u001b[0m\u001b[0mindexer\u001b[0m\u001b[0;34m,\u001b[0m \u001b[0mvalue\u001b[0m\u001b[0;34m)\u001b[0m\u001b[0;34m\u001b[0m\u001b[0m\n\u001b[0m\u001b[1;32m    190\u001b[0m \u001b[0;34m\u001b[0m\u001b[0m\n\u001b[1;32m    191\u001b[0m     \u001b[0;32mdef\u001b[0m \u001b[0m_validate_key\u001b[0m\u001b[0;34m(\u001b[0m\u001b[0mself\u001b[0m\u001b[0;34m,\u001b[0m \u001b[0mkey\u001b[0m\u001b[0;34m,\u001b[0m \u001b[0maxis\u001b[0m\u001b[0;34m)\u001b[0m\u001b[0;34m:\u001b[0m\u001b[0;34m\u001b[0m\u001b[0m\n",
      "\u001b[0;32m~/Documentos/Datos/lib/python3.6/site-packages/pandas/core/indexing.py\u001b[0m in \u001b[0;36m_setitem_with_indexer\u001b[0;34m(self, indexer, value)\u001b[0m\n\u001b[1;32m    649\u001b[0m             \u001b[0mself\u001b[0m\u001b[0;34m.\u001b[0m\u001b[0mobj\u001b[0m\u001b[0;34m.\u001b[0m\u001b[0m_consolidate_inplace\u001b[0m\u001b[0;34m(\u001b[0m\u001b[0;34m)\u001b[0m\u001b[0;34m\u001b[0m\u001b[0m\n\u001b[1;32m    650\u001b[0m             self.obj._data = self.obj._data.setitem(indexer=indexer,\n\u001b[0;32m--> 651\u001b[0;31m                                                     value=value)\n\u001b[0m\u001b[1;32m    652\u001b[0m             \u001b[0mself\u001b[0m\u001b[0;34m.\u001b[0m\u001b[0mobj\u001b[0m\u001b[0;34m.\u001b[0m\u001b[0m_maybe_update_cacher\u001b[0m\u001b[0;34m(\u001b[0m\u001b[0mclear\u001b[0m\u001b[0;34m=\u001b[0m\u001b[0;32mTrue\u001b[0m\u001b[0;34m)\u001b[0m\u001b[0;34m\u001b[0m\u001b[0m\n\u001b[1;32m    653\u001b[0m \u001b[0;34m\u001b[0m\u001b[0m\n",
      "\u001b[0;32m~/Documentos/Datos/lib/python3.6/site-packages/pandas/core/internals.py\u001b[0m in \u001b[0;36msetitem\u001b[0;34m(self, **kwargs)\u001b[0m\n\u001b[1;32m   3691\u001b[0m \u001b[0;34m\u001b[0m\u001b[0m\n\u001b[1;32m   3692\u001b[0m     \u001b[0;32mdef\u001b[0m \u001b[0msetitem\u001b[0m\u001b[0;34m(\u001b[0m\u001b[0mself\u001b[0m\u001b[0;34m,\u001b[0m \u001b[0;34m**\u001b[0m\u001b[0mkwargs\u001b[0m\u001b[0;34m)\u001b[0m\u001b[0;34m:\u001b[0m\u001b[0;34m\u001b[0m\u001b[0m\n\u001b[0;32m-> 3693\u001b[0;31m         \u001b[0;32mreturn\u001b[0m \u001b[0mself\u001b[0m\u001b[0;34m.\u001b[0m\u001b[0mapply\u001b[0m\u001b[0;34m(\u001b[0m\u001b[0;34m'setitem'\u001b[0m\u001b[0;34m,\u001b[0m \u001b[0;34m**\u001b[0m\u001b[0mkwargs\u001b[0m\u001b[0;34m)\u001b[0m\u001b[0;34m\u001b[0m\u001b[0m\n\u001b[0m\u001b[1;32m   3694\u001b[0m \u001b[0;34m\u001b[0m\u001b[0m\n\u001b[1;32m   3695\u001b[0m     \u001b[0;32mdef\u001b[0m \u001b[0mputmask\u001b[0m\u001b[0;34m(\u001b[0m\u001b[0mself\u001b[0m\u001b[0;34m,\u001b[0m \u001b[0;34m**\u001b[0m\u001b[0mkwargs\u001b[0m\u001b[0;34m)\u001b[0m\u001b[0;34m:\u001b[0m\u001b[0;34m\u001b[0m\u001b[0m\n",
      "\u001b[0;32m~/Documentos/Datos/lib/python3.6/site-packages/pandas/core/internals.py\u001b[0m in \u001b[0;36mapply\u001b[0;34m(self, f, axes, filter, do_integrity_check, consolidate, **kwargs)\u001b[0m\n\u001b[1;32m   3579\u001b[0m \u001b[0;34m\u001b[0m\u001b[0m\n\u001b[1;32m   3580\u001b[0m             \u001b[0mkwargs\u001b[0m\u001b[0;34m[\u001b[0m\u001b[0;34m'mgr'\u001b[0m\u001b[0;34m]\u001b[0m \u001b[0;34m=\u001b[0m \u001b[0mself\u001b[0m\u001b[0;34m\u001b[0m\u001b[0m\n\u001b[0;32m-> 3581\u001b[0;31m             \u001b[0mapplied\u001b[0m \u001b[0;34m=\u001b[0m \u001b[0mgetattr\u001b[0m\u001b[0;34m(\u001b[0m\u001b[0mb\u001b[0m\u001b[0;34m,\u001b[0m \u001b[0mf\u001b[0m\u001b[0;34m)\u001b[0m\u001b[0;34m(\u001b[0m\u001b[0;34m**\u001b[0m\u001b[0mkwargs\u001b[0m\u001b[0;34m)\u001b[0m\u001b[0;34m\u001b[0m\u001b[0m\n\u001b[0m\u001b[1;32m   3582\u001b[0m             \u001b[0mresult_blocks\u001b[0m \u001b[0;34m=\u001b[0m \u001b[0m_extend_blocks\u001b[0m\u001b[0;34m(\u001b[0m\u001b[0mapplied\u001b[0m\u001b[0;34m,\u001b[0m \u001b[0mresult_blocks\u001b[0m\u001b[0;34m)\u001b[0m\u001b[0;34m\u001b[0m\u001b[0m\n\u001b[1;32m   3583\u001b[0m \u001b[0;34m\u001b[0m\u001b[0m\n",
      "\u001b[0;32m~/Documentos/Datos/lib/python3.6/site-packages/pandas/core/internals.py\u001b[0m in \u001b[0;36msetitem\u001b[0;34m(self, indexer, value, mgr)\u001b[0m\n\u001b[1;32m    941\u001b[0m \u001b[0;34m\u001b[0m\u001b[0m\n\u001b[1;32m    942\u001b[0m         \u001b[0;31m# coerce and try to infer the dtypes of the result\u001b[0m\u001b[0;34m\u001b[0m\u001b[0;34m\u001b[0m\u001b[0m\n\u001b[0;32m--> 943\u001b[0;31m         \u001b[0mvalues\u001b[0m \u001b[0;34m=\u001b[0m \u001b[0mself\u001b[0m\u001b[0;34m.\u001b[0m\u001b[0m_try_coerce_and_cast_result\u001b[0m\u001b[0;34m(\u001b[0m\u001b[0mvalues\u001b[0m\u001b[0;34m,\u001b[0m \u001b[0mdtype\u001b[0m\u001b[0;34m)\u001b[0m\u001b[0;34m\u001b[0m\u001b[0m\n\u001b[0m\u001b[1;32m    944\u001b[0m         \u001b[0mblock\u001b[0m \u001b[0;34m=\u001b[0m \u001b[0mself\u001b[0m\u001b[0;34m.\u001b[0m\u001b[0mmake_block\u001b[0m\u001b[0;34m(\u001b[0m\u001b[0mtransf\u001b[0m\u001b[0;34m(\u001b[0m\u001b[0mvalues\u001b[0m\u001b[0;34m)\u001b[0m\u001b[0;34m)\u001b[0m\u001b[0;34m\u001b[0m\u001b[0m\n\u001b[1;32m    945\u001b[0m         \u001b[0;32mreturn\u001b[0m \u001b[0mblock\u001b[0m\u001b[0;34m\u001b[0m\u001b[0m\n",
      "\u001b[0;32m~/Documentos/Datos/lib/python3.6/site-packages/pandas/core/internals.py\u001b[0m in \u001b[0;36m_try_coerce_and_cast_result\u001b[0;34m(self, result, dtype)\u001b[0m\n\u001b[1;32m    750\u001b[0m     \u001b[0;32mdef\u001b[0m \u001b[0m_try_coerce_and_cast_result\u001b[0m\u001b[0;34m(\u001b[0m\u001b[0mself\u001b[0m\u001b[0;34m,\u001b[0m \u001b[0mresult\u001b[0m\u001b[0;34m,\u001b[0m \u001b[0mdtype\u001b[0m\u001b[0;34m=\u001b[0m\u001b[0;32mNone\u001b[0m\u001b[0;34m)\u001b[0m\u001b[0;34m:\u001b[0m\u001b[0;34m\u001b[0m\u001b[0m\n\u001b[1;32m    751\u001b[0m         \u001b[0mresult\u001b[0m \u001b[0;34m=\u001b[0m \u001b[0mself\u001b[0m\u001b[0;34m.\u001b[0m\u001b[0m_try_coerce_result\u001b[0m\u001b[0;34m(\u001b[0m\u001b[0mresult\u001b[0m\u001b[0;34m)\u001b[0m\u001b[0;34m\u001b[0m\u001b[0m\n\u001b[0;32m--> 752\u001b[0;31m         \u001b[0mresult\u001b[0m \u001b[0;34m=\u001b[0m \u001b[0mself\u001b[0m\u001b[0;34m.\u001b[0m\u001b[0m_try_cast_result\u001b[0m\u001b[0;34m(\u001b[0m\u001b[0mresult\u001b[0m\u001b[0;34m,\u001b[0m \u001b[0mdtype\u001b[0m\u001b[0;34m=\u001b[0m\u001b[0mdtype\u001b[0m\u001b[0;34m)\u001b[0m\u001b[0;34m\u001b[0m\u001b[0m\n\u001b[0m\u001b[1;32m    753\u001b[0m         \u001b[0;32mreturn\u001b[0m \u001b[0mresult\u001b[0m\u001b[0;34m\u001b[0m\u001b[0m\n\u001b[1;32m    754\u001b[0m \u001b[0;34m\u001b[0m\u001b[0m\n",
      "\u001b[0;32m~/Documentos/Datos/lib/python3.6/site-packages/pandas/core/internals.py\u001b[0m in \u001b[0;36m_try_cast_result\u001b[0;34m(self, result, dtype)\u001b[0m\n\u001b[1;32m    730\u001b[0m \u001b[0;34m\u001b[0m\u001b[0m\n\u001b[1;32m    731\u001b[0m         \u001b[0;31m# may need to change the dtype here\u001b[0m\u001b[0;34m\u001b[0m\u001b[0;34m\u001b[0m\u001b[0m\n\u001b[0;32m--> 732\u001b[0;31m         \u001b[0;32mreturn\u001b[0m \u001b[0mmaybe_downcast_to_dtype\u001b[0m\u001b[0;34m(\u001b[0m\u001b[0mresult\u001b[0m\u001b[0;34m,\u001b[0m \u001b[0mdtype\u001b[0m\u001b[0;34m)\u001b[0m\u001b[0;34m\u001b[0m\u001b[0m\n\u001b[0m\u001b[1;32m    733\u001b[0m \u001b[0;34m\u001b[0m\u001b[0m\n\u001b[1;32m    734\u001b[0m     \u001b[0;32mdef\u001b[0m \u001b[0m_try_coerce_args\u001b[0m\u001b[0;34m(\u001b[0m\u001b[0mself\u001b[0m\u001b[0;34m,\u001b[0m \u001b[0mvalues\u001b[0m\u001b[0;34m,\u001b[0m \u001b[0mother\u001b[0m\u001b[0;34m)\u001b[0m\u001b[0;34m:\u001b[0m\u001b[0;34m\u001b[0m\u001b[0m\n",
      "\u001b[0;32m~/Documentos/Datos/lib/python3.6/site-packages/pandas/core/dtypes/cast.py\u001b[0m in \u001b[0;36mmaybe_downcast_to_dtype\u001b[0;34m(result, dtype)\u001b[0m\n\u001b[1;32m     85\u001b[0m     \u001b[0;32mif\u001b[0m \u001b[0misinstance\u001b[0m\u001b[0;34m(\u001b[0m\u001b[0mdtype\u001b[0m\u001b[0;34m,\u001b[0m \u001b[0mstring_types\u001b[0m\u001b[0;34m)\u001b[0m\u001b[0;34m:\u001b[0m\u001b[0;34m\u001b[0m\u001b[0m\n\u001b[1;32m     86\u001b[0m         \u001b[0;32mif\u001b[0m \u001b[0mdtype\u001b[0m \u001b[0;34m==\u001b[0m \u001b[0;34m'infer'\u001b[0m\u001b[0;34m:\u001b[0m\u001b[0;34m\u001b[0m\u001b[0m\n\u001b[0;32m---> 87\u001b[0;31m             \u001b[0minferred_type\u001b[0m \u001b[0;34m=\u001b[0m \u001b[0mlib\u001b[0m\u001b[0;34m.\u001b[0m\u001b[0minfer_dtype\u001b[0m\u001b[0;34m(\u001b[0m\u001b[0m_ensure_object\u001b[0m\u001b[0;34m(\u001b[0m\u001b[0mresult\u001b[0m\u001b[0;34m.\u001b[0m\u001b[0mravel\u001b[0m\u001b[0;34m(\u001b[0m\u001b[0;34m)\u001b[0m\u001b[0;34m)\u001b[0m\u001b[0;34m)\u001b[0m\u001b[0;34m\u001b[0m\u001b[0m\n\u001b[0m\u001b[1;32m     88\u001b[0m             \u001b[0;32mif\u001b[0m \u001b[0minferred_type\u001b[0m \u001b[0;34m==\u001b[0m \u001b[0;34m'boolean'\u001b[0m\u001b[0;34m:\u001b[0m\u001b[0;34m\u001b[0m\u001b[0m\n\u001b[1;32m     89\u001b[0m                 \u001b[0mdtype\u001b[0m \u001b[0;34m=\u001b[0m \u001b[0;34m'bool'\u001b[0m\u001b[0;34m\u001b[0m\u001b[0m\n",
      "\u001b[0;31mKeyboardInterrupt\u001b[0m: "
     ]
    }
   ],
   "source": [
    "for aviso_detalle in list(zip(optimized_avisos_detalle['idaviso'], \n",
    "                              optimized_avisos_detalle['nombre_area_code'],\n",
    "                             optimized_avisos_detalle['nivel_laboral_code'],\n",
    "                             optimized_avisos_detalle['tipo_de_trabajo_code'],\n",
    "                             optimized_avisos_detalle['nombre_zona_code'])):\n",
    "    idaviso = aviso_detalle[0]\n",
    "    try:\n",
    "        df_aviso = vistas_sort_by_index.loc[idaviso]\n",
    "        for vista in list(zip(df_aviso['idpostulante'])):\n",
    "            if str(aviso_detalle[4]) not in unique_postulantes['nombre_zona_interes'].loc[vista[0]]:\n",
    "                unique_postulantes['nombre_zona_interes'].loc[vista[0]] += \"-\" + str(aviso_detalle[4])\n",
    "            if str(aviso_detalle[2]) not in unique_postulantes['nivel_laboral_interes'].loc[vista[0]]:\n",
    "                unique_postulantes['nivel_laboral_interes'].loc[vista[0]] +=  \"-\" + str(aviso_detalle[2])\n",
    "            if str(aviso_detalle[3]) not in unique_postulantes['tipo_de_trabajo_interes'].loc[vista[0]]:\n",
    "                unique_postulantes['tipo_de_trabajo_interes'].loc[vista[0]] += \"-\" + str(aviso_detalle[3])\n",
    "            if str(aviso_detalle[1]) not in unique_postulantes['nombre_area_interes'].loc[vista[0]]:\n",
    "                unique_postulantes['nombre_area_interes'].loc[vista[0]] += \"-\" + str(aviso_detalle[1])\n",
    "    except KeyError:\n",
    "        continue\n",
    "    except AttributeError:\n",
    "        if str(aviso_detalle[4]) not in unique_postulantes['nombre_zona_interes'].loc[vista[0]]:\n",
    "            unique_postulantes['nombre_zona_interes'].loc[vista[0]] += \"-\" + str(aviso_detalle[4])\n",
    "        if str(aviso_detalle[2]) not in unique_postulantes['nivel_laboral_interes'].loc[vista[0]]:\n",
    "            unique_postulantes['nivel_laboral_interes'].loc[vista[0]] +=  \"-\" + str(aviso_detalle[2])\n",
    "        if str(aviso_detalle[3]) not in unique_postulantes['tipo_de_trabajo_interes'].loc[vista[0]]:\n",
    "            unique_postulantes['tipo_de_trabajo_interes'].loc[vista[0]] += \"-\" + str(aviso_detalle[3])\n",
    "        if str(aviso_detalle[1]) not in unique_postulantes['nombre_area_interes'].loc[vista[0]]:\n",
    "            unique_postulantes['nombre_area_interes'].loc[vista[0]] += \"-\" + str(aviso_detalle[1])"
   ]
  },
  {
   "cell_type": "code",
   "execution_count": 16,
   "metadata": {},
   "outputs": [
    {
     "data": {
      "text/html": [
       "<div>\n",
       "<style scoped>\n",
       "    .dataframe tbody tr th:only-of-type {\n",
       "        vertical-align: middle;\n",
       "    }\n",
       "\n",
       "    .dataframe tbody tr th {\n",
       "        vertical-align: top;\n",
       "    }\n",
       "\n",
       "    .dataframe thead th {\n",
       "        text-align: right;\n",
       "    }\n",
       "</style>\n",
       "<table border=\"1\" class=\"dataframe\">\n",
       "  <thead>\n",
       "    <tr style=\"text-align: right;\">\n",
       "      <th></th>\n",
       "      <th>nombre_zona_interes</th>\n",
       "      <th>nivel_laboral_interes</th>\n",
       "      <th>tipo_de_trabajo_interes</th>\n",
       "      <th>nombre_area_interes</th>\n",
       "    </tr>\n",
       "    <tr>\n",
       "      <th>idpostulante</th>\n",
       "      <th></th>\n",
       "      <th></th>\n",
       "      <th></th>\n",
       "      <th></th>\n",
       "    </tr>\n",
       "  </thead>\n",
       "  <tbody>\n",
       "    <tr>\n",
       "      <th>YjVJQ6Z</th>\n",
       "      <td>-7</td>\n",
       "      <td>-4</td>\n",
       "      <td>-1-2</td>\n",
       "      <td>-4</td>\n",
       "    </tr>\n",
       "    <tr>\n",
       "      <th>BmVpYoR</th>\n",
       "      <td>-7</td>\n",
       "      <td>-4-2-1</td>\n",
       "      <td>-1-2</td>\n",
       "      <td>-4-2-1</td>\n",
       "    </tr>\n",
       "    <tr>\n",
       "      <th>wVkBzZd</th>\n",
       "      <td>-7-1</td>\n",
       "      <td>-2-4</td>\n",
       "      <td>-1-2</td>\n",
       "      <td>-2-4</td>\n",
       "    </tr>\n",
       "    <tr>\n",
       "      <th>OqmP9pv</th>\n",
       "      <td>-7-1</td>\n",
       "      <td>-4-2-3</td>\n",
       "      <td>-1</td>\n",
       "      <td>-4-2-3</td>\n",
       "    </tr>\n",
       "    <tr>\n",
       "      <th>DrpbXDP</th>\n",
       "      <td>-7</td>\n",
       "      <td>-4-3-2</td>\n",
       "      <td>-1</td>\n",
       "      <td>-4-3-2</td>\n",
       "    </tr>\n",
       "  </tbody>\n",
       "</table>\n",
       "</div>"
      ],
      "text/plain": [
       "             nombre_zona_interes nivel_laboral_interes  \\\n",
       "idpostulante                                             \n",
       "YjVJQ6Z                       -7                    -4   \n",
       "BmVpYoR                       -7                -4-2-1   \n",
       "wVkBzZd                     -7-1                  -2-4   \n",
       "OqmP9pv                     -7-1                -4-2-3   \n",
       "DrpbXDP                       -7                -4-3-2   \n",
       "\n",
       "             tipo_de_trabajo_interes nombre_area_interes  \n",
       "idpostulante                                              \n",
       "YjVJQ6Z                         -1-2                  -4  \n",
       "BmVpYoR                         -1-2              -4-2-1  \n",
       "wVkBzZd                         -1-2                -2-4  \n",
       "OqmP9pv                           -1              -4-2-3  \n",
       "DrpbXDP                           -1              -4-3-2  "
      ]
     },
     "execution_count": 16,
     "metadata": {},
     "output_type": "execute_result"
    }
   ],
   "source": [
    "unique_postulantes.head()"
   ]
  },
  {
   "cell_type": "code",
   "execution_count": null,
   "metadata": {},
   "outputs": [],
   "source": [
    "unique_postulantes.info()"
   ]
  },
  {
   "cell_type": "code",
   "execution_count": 17,
   "metadata": {},
   "outputs": [],
   "source": [
    "unique_postulantes.to_csv('Data/unique_postulantes_con_intereses_vistas2.csv')"
   ]
  },
  {
   "cell_type": "code",
   "execution_count": null,
   "metadata": {},
   "outputs": [],
   "source": [
    "vistas_sort_by_postulante.info()"
   ]
  },
  {
   "cell_type": "code",
   "execution_count": null,
   "metadata": {},
   "outputs": [],
   "source": [
    "vistas_sort_by_postulante.drop_duplicates(subset=['idAviso','idpostulante']).info()"
   ]
  },
  {
   "cell_type": "code",
   "execution_count": null,
   "metadata": {},
   "outputs": [],
   "source": [
    "1112146010"
   ]
  },
  {
   "cell_type": "code",
   "execution_count": null,
   "metadata": {},
   "outputs": [],
   "source": [
    "groupby_aviso_postulante.loc['0002q']"
   ]
  }
 ],
 "metadata": {
  "kernelspec": {
   "display_name": "Python 3",
   "language": "python",
   "name": "python3"
  },
  "language_info": {
   "codemirror_mode": {
    "name": "ipython",
    "version": 3
   },
   "file_extension": ".py",
   "mimetype": "text/x-python",
   "name": "python",
   "nbconvert_exporter": "python",
   "pygments_lexer": "ipython3",
   "version": "3.6.5"
  }
 },
 "nbformat": 4,
 "nbformat_minor": 2
}
